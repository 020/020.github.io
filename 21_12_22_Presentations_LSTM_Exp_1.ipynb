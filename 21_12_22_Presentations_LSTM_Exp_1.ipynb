{
  "nbformat": 4,
  "nbformat_minor": 0,
  "metadata": {
    "colab": {
      "provenance": [],
      "authorship_tag": "ABX9TyMicpLv1IpajLeRLPrGWymV",
      "include_colab_link": true
    },
    "kernelspec": {
      "name": "python3",
      "display_name": "Python 3"
    },
    "language_info": {
      "name": "python"
    }
  },
  "cells": [
    {
      "cell_type": "markdown",
      "metadata": {
        "id": "view-in-github",
        "colab_type": "text"
      },
      "source": [
        "<a href=\"https://colab.research.google.com/github/020/020.github.io/blob/master/21_12_22_Presentations_LSTM_Exp_1.ipynb\" target=\"_parent\"><img src=\"https://colab.research.google.com/assets/colab-badge.svg\" alt=\"Open In Colab\"/></a>"
      ]
    },
    {
      "cell_type": "code",
      "execution_count": 1,
      "metadata": {
        "colab": {
          "base_uri": "https://localhost:8080/"
        },
        "id": "ZBhfb8MhWKgu",
        "outputId": "8bd643cc-31ec-4765-c8f5-d28d9959cfea"
      },
      "outputs": [
        {
          "output_type": "stream",
          "name": "stderr",
          "text": [
            "<ipython-input-1-ae4bf24cd82b>:5: FutureWarning: The pandas.datetime class is deprecated and will be removed from pandas in a future version. Import from datetime module instead.\n",
            "  from pandas import datetime\n"
          ]
        }
      ],
      "source": [
        "import numpy as np # linear algebra\n",
        "import pandas as pd # data processing, CSV file I/O (e.g. pd.read_csv)\n",
        "import matplotlib.pyplot as plt\n",
        "%matplotlib inline\n",
        "from pandas import datetime\n",
        "import math, time\n",
        "import itertools\n",
        "from sklearn import preprocessing\n",
        "import datetime\n",
        "from operator import itemgetter\n",
        "from sklearn.preprocessing import MinMaxScaler\n",
        "from sklearn.metrics import mean_squared_error\n",
        "from math import sqrt\n",
        "from keras.models import Sequential\n",
        "from keras.layers.core import Dense, Dropout, Activation\n",
        "from keras.layers import LSTM\n",
        "from keras.models import load_model\n",
        "import keras\n",
        "import h5py\n",
        "import requests\n",
        "import os\n",
        "import tensorflow as tf"
      ]
    },
    {
      "cell_type": "code",
      "source": [
        "data_df =  pd.read_csv('/content/ed_presentations_from_aug2020.csv', index_col = 0)\n",
        "data_df.head()"
      ],
      "metadata": {
        "colab": {
          "base_uri": "https://localhost:8080/",
          "height": 237
        },
        "id": "-kQ6q8K6WqJF",
        "outputId": "aebe7237-2dfb-43be-803c-01c455570d2d"
      },
      "execution_count": 2,
      "outputs": [
        {
          "output_type": "execute_result",
          "data": {
            "text/plain": [
              "               y\n",
              "ds              \n",
              "01/08/2020  2844\n",
              "02/08/2020  2973\n",
              "03/08/2020  3176\n",
              "04/08/2020  2888\n",
              "05/08/2020  2870"
            ],
            "text/html": [
              "\n",
              "  <div id=\"df-675c91c0-90e6-4b09-a5b3-792867e4da68\">\n",
              "    <div class=\"colab-df-container\">\n",
              "      <div>\n",
              "<style scoped>\n",
              "    .dataframe tbody tr th:only-of-type {\n",
              "        vertical-align: middle;\n",
              "    }\n",
              "\n",
              "    .dataframe tbody tr th {\n",
              "        vertical-align: top;\n",
              "    }\n",
              "\n",
              "    .dataframe thead th {\n",
              "        text-align: right;\n",
              "    }\n",
              "</style>\n",
              "<table border=\"1\" class=\"dataframe\">\n",
              "  <thead>\n",
              "    <tr style=\"text-align: right;\">\n",
              "      <th></th>\n",
              "      <th>y</th>\n",
              "    </tr>\n",
              "    <tr>\n",
              "      <th>ds</th>\n",
              "      <th></th>\n",
              "    </tr>\n",
              "  </thead>\n",
              "  <tbody>\n",
              "    <tr>\n",
              "      <th>01/08/2020</th>\n",
              "      <td>2844</td>\n",
              "    </tr>\n",
              "    <tr>\n",
              "      <th>02/08/2020</th>\n",
              "      <td>2973</td>\n",
              "    </tr>\n",
              "    <tr>\n",
              "      <th>03/08/2020</th>\n",
              "      <td>3176</td>\n",
              "    </tr>\n",
              "    <tr>\n",
              "      <th>04/08/2020</th>\n",
              "      <td>2888</td>\n",
              "    </tr>\n",
              "    <tr>\n",
              "      <th>05/08/2020</th>\n",
              "      <td>2870</td>\n",
              "    </tr>\n",
              "  </tbody>\n",
              "</table>\n",
              "</div>\n",
              "      <button class=\"colab-df-convert\" onclick=\"convertToInteractive('df-675c91c0-90e6-4b09-a5b3-792867e4da68')\"\n",
              "              title=\"Convert this dataframe to an interactive table.\"\n",
              "              style=\"display:none;\">\n",
              "        \n",
              "  <svg xmlns=\"http://www.w3.org/2000/svg\" height=\"24px\"viewBox=\"0 0 24 24\"\n",
              "       width=\"24px\">\n",
              "    <path d=\"M0 0h24v24H0V0z\" fill=\"none\"/>\n",
              "    <path d=\"M18.56 5.44l.94 2.06.94-2.06 2.06-.94-2.06-.94-.94-2.06-.94 2.06-2.06.94zm-11 1L8.5 8.5l.94-2.06 2.06-.94-2.06-.94L8.5 2.5l-.94 2.06-2.06.94zm10 10l.94 2.06.94-2.06 2.06-.94-2.06-.94-.94-2.06-.94 2.06-2.06.94z\"/><path d=\"M17.41 7.96l-1.37-1.37c-.4-.4-.92-.59-1.43-.59-.52 0-1.04.2-1.43.59L10.3 9.45l-7.72 7.72c-.78.78-.78 2.05 0 2.83L4 21.41c.39.39.9.59 1.41.59.51 0 1.02-.2 1.41-.59l7.78-7.78 2.81-2.81c.8-.78.8-2.07 0-2.86zM5.41 20L4 18.59l7.72-7.72 1.47 1.35L5.41 20z\"/>\n",
              "  </svg>\n",
              "      </button>\n",
              "      \n",
              "  <style>\n",
              "    .colab-df-container {\n",
              "      display:flex;\n",
              "      flex-wrap:wrap;\n",
              "      gap: 12px;\n",
              "    }\n",
              "\n",
              "    .colab-df-convert {\n",
              "      background-color: #E8F0FE;\n",
              "      border: none;\n",
              "      border-radius: 50%;\n",
              "      cursor: pointer;\n",
              "      display: none;\n",
              "      fill: #1967D2;\n",
              "      height: 32px;\n",
              "      padding: 0 0 0 0;\n",
              "      width: 32px;\n",
              "    }\n",
              "\n",
              "    .colab-df-convert:hover {\n",
              "      background-color: #E2EBFA;\n",
              "      box-shadow: 0px 1px 2px rgba(60, 64, 67, 0.3), 0px 1px 3px 1px rgba(60, 64, 67, 0.15);\n",
              "      fill: #174EA6;\n",
              "    }\n",
              "\n",
              "    [theme=dark] .colab-df-convert {\n",
              "      background-color: #3B4455;\n",
              "      fill: #D2E3FC;\n",
              "    }\n",
              "\n",
              "    [theme=dark] .colab-df-convert:hover {\n",
              "      background-color: #434B5C;\n",
              "      box-shadow: 0px 1px 3px 1px rgba(0, 0, 0, 0.15);\n",
              "      filter: drop-shadow(0px 1px 2px rgba(0, 0, 0, 0.3));\n",
              "      fill: #FFFFFF;\n",
              "    }\n",
              "  </style>\n",
              "\n",
              "      <script>\n",
              "        const buttonEl =\n",
              "          document.querySelector('#df-675c91c0-90e6-4b09-a5b3-792867e4da68 button.colab-df-convert');\n",
              "        buttonEl.style.display =\n",
              "          google.colab.kernel.accessAllowed ? 'block' : 'none';\n",
              "\n",
              "        async function convertToInteractive(key) {\n",
              "          const element = document.querySelector('#df-675c91c0-90e6-4b09-a5b3-792867e4da68');\n",
              "          const dataTable =\n",
              "            await google.colab.kernel.invokeFunction('convertToInteractive',\n",
              "                                                     [key], {});\n",
              "          if (!dataTable) return;\n",
              "\n",
              "          const docLinkHtml = 'Like what you see? Visit the ' +\n",
              "            '<a target=\"_blank\" href=https://colab.research.google.com/notebooks/data_table.ipynb>data table notebook</a>'\n",
              "            + ' to learn more about interactive tables.';\n",
              "          element.innerHTML = '';\n",
              "          dataTable['output_type'] = 'display_data';\n",
              "          await google.colab.output.renderOutput(dataTable, element);\n",
              "          const docLink = document.createElement('div');\n",
              "          docLink.innerHTML = docLinkHtml;\n",
              "          element.appendChild(docLink);\n",
              "        }\n",
              "      </script>\n",
              "    </div>\n",
              "  </div>\n",
              "  "
            ]
          },
          "metadata": {},
          "execution_count": 2
        }
      ]
    },
    {
      "cell_type": "code",
      "source": [
        "data_df.shape"
      ],
      "metadata": {
        "colab": {
          "base_uri": "https://localhost:8080/"
        },
        "id": "CSdbYuxvXKBR",
        "outputId": "a0d62f69-c0f7-427b-967d-0d63dece5d18"
      },
      "execution_count": 3,
      "outputs": [
        {
          "output_type": "execute_result",
          "data": {
            "text/plain": [
              "(838, 1)"
            ]
          },
          "metadata": {},
          "execution_count": 3
        }
      ]
    },
    {
      "cell_type": "code",
      "source": [
        "plt.plot(data_df['y'])\n",
        "plt.show()"
      ],
      "metadata": {
        "colab": {
          "base_uri": "https://localhost:8080/",
          "height": 265
        },
        "id": "m8GCmPkIXN3Z",
        "outputId": "4a29ff3d-6f04-4b3d-9ce3-72b3318d2704"
      },
      "execution_count": 4,
      "outputs": [
        {
          "output_type": "display_data",
          "data": {
            "text/plain": [
              "<Figure size 432x288 with 1 Axes>"
            ],
            "image/png": "[encoded data removed]"
          },
          "metadata": {
            "needs_background": "light"
          }
        }
      ]
    },
    {
      "cell_type": "code",
      "source": [
        "data_df['ds'] = data_df.index\n",
        "data_df.head()"
      ],
      "metadata": {
        "colab": {
          "base_uri": "https://localhost:8080/",
          "height": 237
        },
        "id": "Fp9WLRGnXYAw",
        "outputId": "fcb70fe8-4096-4b8a-924b-963aab3cd66e"
      },
      "execution_count": 5,
      "outputs": [
        {
          "output_type": "execute_result",
          "data": {
            "text/plain": [
              "               y          ds\n",
              "ds                          \n",
              "01/08/2020  2844  01/08/2020\n",
              "02/08/2020  2973  02/08/2020\n",
              "03/08/2020  3176  03/08/2020\n",
              "04/08/2020  2888  04/08/2020\n",
              "05/08/2020  2870  05/08/2020"
            ],
            "text/html": [
              "\n",
              "  <div id=\"df-20ce8024-6ea2-47c2-9983-8e4db65a04e2\">\n",
              "    <div class=\"colab-df-container\">\n",
              "      <div>\n",
              "<style scoped>\n",
              "    .dataframe tbody tr th:only-of-type {\n",
              "        vertical-align: middle;\n",
              "    }\n",
              "\n",
              "    .dataframe tbody tr th {\n",
              "        vertical-align: top;\n",
              "    }\n",
              "\n",
              "    .dataframe thead th {\n",
              "        text-align: right;\n",
              "    }\n",
              "</style>\n",
              "<table border=\"1\" class=\"dataframe\">\n",
              "  <thead>\n",
              "    <tr style=\"text-align: right;\">\n",
              "      <th></th>\n",
              "      <th>y</th>\n",
              "      <th>ds</th>\n",
              "    </tr>\n",
              "    <tr>\n",
              "      <th>ds</th>\n",
              "      <th></th>\n",
              "      <th></th>\n",
              "    </tr>\n",
              "  </thead>\n",
              "  <tbody>\n",
              "    <tr>\n",
              "      <th>01/08/2020</th>\n",
              "      <td>2844</td>\n",
              "      <td>01/08/2020</td>\n",
              "    </tr>\n",
              "    <tr>\n",
              "      <th>02/08/2020</th>\n",
              "      <td>2973</td>\n",
              "      <td>02/08/2020</td>\n",
              "    </tr>\n",
              "    <tr>\n",
              "      <th>03/08/2020</th>\n",
              "      <td>3176</td>\n",
              "      <td>03/08/2020</td>\n",
              "    </tr>\n",
              "    <tr>\n",
              "      <th>04/08/2020</th>\n",
              "      <td>2888</td>\n",
              "      <td>04/08/2020</td>\n",
              "    </tr>\n",
              "    <tr>\n",
              "      <th>05/08/2020</th>\n",
              "      <td>2870</td>\n",
              "      <td>05/08/2020</td>\n",
              "    </tr>\n",
              "  </tbody>\n",
              "</table>\n",
              "</div>\n",
              "      <button class=\"colab-df-convert\" onclick=\"convertToInteractive('df-20ce8024-6ea2-47c2-9983-8e4db65a04e2')\"\n",
              "              title=\"Convert this dataframe to an interactive table.\"\n",
              "              style=\"display:none;\">\n",
              "        \n",
              "  <svg xmlns=\"http://www.w3.org/2000/svg\" height=\"24px\"viewBox=\"0 0 24 24\"\n",
              "       width=\"24px\">\n",
              "    <path d=\"M0 0h24v24H0V0z\" fill=\"none\"/>\n",
              "    <path d=\"M18.56 5.44l.94 2.06.94-2.06 2.06-.94-2.06-.94-.94-2.06-.94 2.06-2.06.94zm-11 1L8.5 8.5l.94-2.06 2.06-.94-2.06-.94L8.5 2.5l-.94 2.06-2.06.94zm10 10l.94 2.06.94-2.06 2.06-.94-2.06-.94-.94-2.06-.94 2.06-2.06.94z\"/><path d=\"M17.41 7.96l-1.37-1.37c-.4-.4-.92-.59-1.43-.59-.52 0-1.04.2-1.43.59L10.3 9.45l-7.72 7.72c-.78.78-.78 2.05 0 2.83L4 21.41c.39.39.9.59 1.41.59.51 0 1.02-.2 1.41-.59l7.78-7.78 2.81-2.81c.8-.78.8-2.07 0-2.86zM5.41 20L4 18.59l7.72-7.72 1.47 1.35L5.41 20z\"/>\n",
              "  </svg>\n",
              "      </button>\n",
              "      \n",
              "  <style>\n",
              "    .colab-df-container {\n",
              "      display:flex;\n",
              "      flex-wrap:wrap;\n",
              "      gap: 12px;\n",
              "    }\n",
              "\n",
              "    .colab-df-convert {\n",
              "      background-color: #E8F0FE;\n",
              "      border: none;\n",
              "      border-radius: 50%;\n",
              "      cursor: pointer;\n",
              "      display: none;\n",
              "      fill: #1967D2;\n",
              "      height: 32px;\n",
              "      padding: 0 0 0 0;\n",
              "      width: 32px;\n",
              "    }\n",
              "\n",
              "    .colab-df-convert:hover {\n",
              "      background-color: #E2EBFA;\n",
              "      box-shadow: 0px 1px 2px rgba(60, 64, 67, 0.3), 0px 1px 3px 1px rgba(60, 64, 67, 0.15);\n",
              "      fill: #174EA6;\n",
              "    }\n",
              "\n",
              "    [theme=dark] .colab-df-convert {\n",
              "      background-color: #3B4455;\n",
              "      fill: #D2E3FC;\n",
              "    }\n",
              "\n",
              "    [theme=dark] .colab-df-convert:hover {\n",
              "      background-color: #434B5C;\n",
              "      box-shadow: 0px 1px 3px 1px rgba(0, 0, 0, 0.15);\n",
              "      filter: drop-shadow(0px 1px 2px rgba(0, 0, 0, 0.3));\n",
              "      fill: #FFFFFF;\n",
              "    }\n",
              "  </style>\n",
              "\n",
              "      <script>\n",
              "        const buttonEl =\n",
              "          document.querySelector('#df-20ce8024-6ea2-47c2-9983-8e4db65a04e2 button.colab-df-convert');\n",
              "        buttonEl.style.display =\n",
              "          google.colab.kernel.accessAllowed ? 'block' : 'none';\n",
              "\n",
              "        async function convertToInteractive(key) {\n",
              "          const element = document.querySelector('#df-20ce8024-6ea2-47c2-9983-8e4db65a04e2');\n",
              "          const dataTable =\n",
              "            await google.colab.kernel.invokeFunction('convertToInteractive',\n",
              "                                                     [key], {});\n",
              "          if (!dataTable) return;\n",
              "\n",
              "          const docLinkHtml = 'Like what you see? Visit the ' +\n",
              "            '<a target=\"_blank\" href=https://colab.research.google.com/notebooks/data_table.ipynb>data table notebook</a>'\n",
              "            + ' to learn more about interactive tables.';\n",
              "          element.innerHTML = '';\n",
              "          dataTable['output_type'] = 'display_data';\n",
              "          await google.colab.output.renderOutput(dataTable, element);\n",
              "          const docLink = document.createElement('div');\n",
              "          docLink.innerHTML = docLinkHtml;\n",
              "          element.appendChild(docLink);\n",
              "        }\n",
              "      </script>\n",
              "    </div>\n",
              "  </div>\n",
              "  "
            ]
          },
          "metadata": {},
          "execution_count": 5
        }
      ]
    },
    {
      "cell_type": "code",
      "source": [
        "data_df['ds'] = pd.to_datetime(data_df['ds'])"
      ],
      "metadata": {
        "id": "hr5eoQBIXePN"
      },
      "execution_count": 6,
      "outputs": []
    },
    {
      "cell_type": "code",
      "source": [
        "data_df.head()"
      ],
      "metadata": {
        "colab": {
          "base_uri": "https://localhost:8080/",
          "height": 237
        },
        "id": "u1RL5t6kXko9",
        "outputId": "2741a368-4599-4842-f0e6-fdc1db8994b2"
      },
      "execution_count": 7,
      "outputs": [
        {
          "output_type": "execute_result",
          "data": {
            "text/plain": [
              "               y         ds\n",
              "ds                         \n",
              "01/08/2020  2844 2020-01-08\n",
              "02/08/2020  2973 2020-02-08\n",
              "03/08/2020  3176 2020-03-08\n",
              "04/08/2020  2888 2020-04-08\n",
              "05/08/2020  2870 2020-05-08"
            ],
            "text/html": [
              "\n",
              "  <div id=\"df-78937259-a367-494c-a8bc-7f6c1d50fd3f\">\n",
              "    <div class=\"colab-df-container\">\n",
              "      <div>\n",
              "<style scoped>\n",
              "    .dataframe tbody tr th:only-of-type {\n",
              "        vertical-align: middle;\n",
              "    }\n",
              "\n",
              "    .dataframe tbody tr th {\n",
              "        vertical-align: top;\n",
              "    }\n",
              "\n",
              "    .dataframe thead th {\n",
              "        text-align: right;\n",
              "    }\n",
              "</style>\n",
              "<table border=\"1\" class=\"dataframe\">\n",
              "  <thead>\n",
              "    <tr style=\"text-align: right;\">\n",
              "      <th></th>\n",
              "      <th>y</th>\n",
              "      <th>ds</th>\n",
              "    </tr>\n",
              "    <tr>\n",
              "      <th>ds</th>\n",
              "      <th></th>\n",
              "      <th></th>\n",
              "    </tr>\n",
              "  </thead>\n",
              "  <tbody>\n",
              "    <tr>\n",
              "      <th>01/08/2020</th>\n",
              "      <td>2844</td>\n",
              "      <td>2020-01-08</td>\n",
              "    </tr>\n",
              "    <tr>\n",
              "      <th>02/08/2020</th>\n",
              "      <td>2973</td>\n",
              "      <td>2020-02-08</td>\n",
              "    </tr>\n",
              "    <tr>\n",
              "      <th>03/08/2020</th>\n",
              "      <td>3176</td>\n",
              "      <td>2020-03-08</td>\n",
              "    </tr>\n",
              "    <tr>\n",
              "      <th>04/08/2020</th>\n",
              "      <td>2888</td>\n",
              "      <td>2020-04-08</td>\n",
              "    </tr>\n",
              "    <tr>\n",
              "      <th>05/08/2020</th>\n",
              "      <td>2870</td>\n",
              "      <td>2020-05-08</td>\n",
              "    </tr>\n",
              "  </tbody>\n",
              "</table>\n",
              "</div>\n",
              "      <button class=\"colab-df-convert\" onclick=\"convertToInteractive('df-78937259-a367-494c-a8bc-7f6c1d50fd3f')\"\n",
              "              title=\"Convert this dataframe to an interactive table.\"\n",
              "              style=\"display:none;\">\n",
              "        \n",
              "  <svg xmlns=\"http://www.w3.org/2000/svg\" height=\"24px\"viewBox=\"0 0 24 24\"\n",
              "       width=\"24px\">\n",
              "    <path d=\"M0 0h24v24H0V0z\" fill=\"none\"/>\n",
              "    <path d=\"M18.56 5.44l.94 2.06.94-2.06 2.06-.94-2.06-.94-.94-2.06-.94 2.06-2.06.94zm-11 1L8.5 8.5l.94-2.06 2.06-.94-2.06-.94L8.5 2.5l-.94 2.06-2.06.94zm10 10l.94 2.06.94-2.06 2.06-.94-2.06-.94-.94-2.06-.94 2.06-2.06.94z\"/><path d=\"M17.41 7.96l-1.37-1.37c-.4-.4-.92-.59-1.43-.59-.52 0-1.04.2-1.43.59L10.3 9.45l-7.72 7.72c-.78.78-.78 2.05 0 2.83L4 21.41c.39.39.9.59 1.41.59.51 0 1.02-.2 1.41-.59l7.78-7.78 2.81-2.81c.8-.78.8-2.07 0-2.86zM5.41 20L4 18.59l7.72-7.72 1.47 1.35L5.41 20z\"/>\n",
              "  </svg>\n",
              "      </button>\n",
              "      \n",
              "  <style>\n",
              "    .colab-df-container {\n",
              "      display:flex;\n",
              "      flex-wrap:wrap;\n",
              "      gap: 12px;\n",
              "    }\n",
              "\n",
              "    .colab-df-convert {\n",
              "      background-color: #E8F0FE;\n",
              "      border: none;\n",
              "      border-radius: 50%;\n",
              "      cursor: pointer;\n",
              "      display: none;\n",
              "      fill: #1967D2;\n",
              "      height: 32px;\n",
              "      padding: 0 0 0 0;\n",
              "      width: 32px;\n",
              "    }\n",
              "\n",
              "    .colab-df-convert:hover {\n",
              "      background-color: #E2EBFA;\n",
              "      box-shadow: 0px 1px 2px rgba(60, 64, 67, 0.3), 0px 1px 3px 1px rgba(60, 64, 67, 0.15);\n",
              "      fill: #174EA6;\n",
              "    }\n",
              "\n",
              "    [theme=dark] .colab-df-convert {\n",
              "      background-color: #3B4455;\n",
              "      fill: #D2E3FC;\n",
              "    }\n",
              "\n",
              "    [theme=dark] .colab-df-convert:hover {\n",
              "      background-color: #434B5C;\n",
              "      box-shadow: 0px 1px 3px 1px rgba(0, 0, 0, 0.15);\n",
              "      filter: drop-shadow(0px 1px 2px rgba(0, 0, 0, 0.3));\n",
              "      fill: #FFFFFF;\n",
              "    }\n",
              "  </style>\n",
              "\n",
              "      <script>\n",
              "        const buttonEl =\n",
              "          document.querySelector('#df-78937259-a367-494c-a8bc-7f6c1d50fd3f button.colab-df-convert');\n",
              "        buttonEl.style.display =\n",
              "          google.colab.kernel.accessAllowed ? 'block' : 'none';\n",
              "\n",
              "        async function convertToInteractive(key) {\n",
              "          const element = document.querySelector('#df-78937259-a367-494c-a8bc-7f6c1d50fd3f');\n",
              "          const dataTable =\n",
              "            await google.colab.kernel.invokeFunction('convertToInteractive',\n",
              "                                                     [key], {});\n",
              "          if (!dataTable) return;\n",
              "\n",
              "          const docLinkHtml = 'Like what you see? Visit the ' +\n",
              "            '<a target=\"_blank\" href=https://colab.research.google.com/notebooks/data_table.ipynb>data table notebook</a>'\n",
              "            + ' to learn more about interactive tables.';\n",
              "          element.innerHTML = '';\n",
              "          dataTable['output_type'] = 'display_data';\n",
              "          await google.colab.output.renderOutput(dataTable, element);\n",
              "          const docLink = document.createElement('div');\n",
              "          docLink.innerHTML = docLinkHtml;\n",
              "          element.appendChild(docLink);\n",
              "        }\n",
              "      </script>\n",
              "    </div>\n",
              "  </div>\n",
              "  "
            ]
          },
          "metadata": {},
          "execution_count": 7
        }
      ]
    },
    {
      "cell_type": "code",
      "source": [
        "min_max_scaler = preprocessing.MinMaxScaler(feature_range=(0, 1))\n",
        "dataset = min_max_scaler.fit_transform(data_df['y'].values.reshape(-1, 1))"
      ],
      "metadata": {
        "id": "osoCbPCpXrct"
      },
      "execution_count": 8,
      "outputs": []
    },
    {
      "cell_type": "code",
      "source": [
        "dataset[0:10]"
      ],
      "metadata": {
        "colab": {
          "base_uri": "https://localhost:8080/"
        },
        "id": "6FmkOR1jXv7F",
        "outputId": "1727adea-c1da-4856-fe04-bc7249013879"
      },
      "execution_count": 9,
      "outputs": [
        {
          "output_type": "execute_result",
          "data": {
            "text/plain": [
              "array([[0.21080026],\n",
              "       [0.29472999],\n",
              "       [0.42680547],\n",
              "       [0.23942746],\n",
              "       [0.22771633],\n",
              "       [0.16070267],\n",
              "       [0.23227066],\n",
              "       [0.24788549],\n",
              "       [0.18998048],\n",
              "       [0.44502277]])"
            ]
          },
          "metadata": {},
          "execution_count": 9
        }
      ]
    },
    {
      "cell_type": "code",
      "source": [
        "# split into train and test sets\n",
        "train_size = int(len(dataset) * 0.7)\n",
        "test_size = len(dataset) - train_size\n",
        "train, test = dataset[0:train_size,:], dataset[train_size:len(dataset),:]\n",
        "print(len(train), len(test))"
      ],
      "metadata": {
        "colab": {
          "base_uri": "https://localhost:8080/"
        },
        "id": "fiEuTd2FX1P1",
        "outputId": "82d1c949-7077-453b-b9df-c304a452ebd6"
      },
      "execution_count": 10,
      "outputs": [
        {
          "output_type": "stream",
          "name": "stdout",
          "text": [
            "586 252\n"
          ]
        }
      ]
    },
    {
      "cell_type": "code",
      "source": [
        "print(len(data_df))\n",
        "print(586 + 252)"
      ],
      "metadata": {
        "colab": {
          "base_uri": "https://localhost:8080/"
        },
        "id": "HDgjQxKRX6qN",
        "outputId": "bf911943-fc29-4610-b0a0-ab7117c016fe"
      },
      "execution_count": 11,
      "outputs": [
        {
          "output_type": "stream",
          "name": "stdout",
          "text": [
            "838\n",
            "838\n"
          ]
        }
      ]
    },
    {
      "cell_type": "code",
      "source": [
        "# convert an array of values into a dataset matrix\n",
        "def create_dataset(dataset, look_back=15):\n",
        "    dataX, dataY = [], []\n",
        "    for i in range(len(dataset)-look_back-1):\n",
        "        a = dataset[i:(i+look_back), 0]\n",
        "        dataX.append(a)\n",
        "        dataY.append(dataset[i + look_back, 0])\n",
        "    return np.array(dataX), np.array(dataY)"
      ],
      "metadata": {
        "id": "4V_07oVeYB7M"
      },
      "execution_count": 12,
      "outputs": []
    },
    {
      "cell_type": "code",
      "source": [
        "x_train, y_train = create_dataset(train, look_back=15)\n",
        "x_test, y_test = create_dataset(test, look_back=15)"
      ],
      "metadata": {
        "id": "Gk29ptp2YEvD"
      },
      "execution_count": 13,
      "outputs": []
    },
    {
      "cell_type": "code",
      "source": [
        "print(x_train.shape)\n",
        "print(y_train.shape)\n",
        "print(x_test.shape)\n",
        "print(y_test.shape)"
      ],
      "metadata": {
        "colab": {
          "base_uri": "https://localhost:8080/"
        },
        "id": "rG8hCIklYG5V",
        "outputId": "cf32361c-48c7-4ba9-ee02-4132710701c3"
      },
      "execution_count": 14,
      "outputs": [
        {
          "output_type": "stream",
          "name": "stdout",
          "text": [
            "(570, 15)\n",
            "(570,)\n",
            "(236, 15)\n",
            "(236,)\n"
          ]
        }
      ]
    },
    {
      "cell_type": "code",
      "source": [
        "x_train = np.reshape(x_train, (x_train.shape[0], 1, x_train.shape[1]))\n",
        "x_test = np.reshape(x_test, (x_test.shape[0], 1, x_test.shape[1]))"
      ],
      "metadata": {
        "id": "85ouxfaNYLWa"
      },
      "execution_count": 15,
      "outputs": []
    },
    {
      "cell_type": "code",
      "source": [
        "print(x_train.shape)\n",
        "print(y_train.shape)\n",
        "print(x_test.shape)\n",
        "print(y_test.shape)"
      ],
      "metadata": {
        "colab": {
          "base_uri": "https://localhost:8080/"
        },
        "id": "WmAeZBrPYNla",
        "outputId": "76591731-984c-4dfa-ee13-b507c6c48eb5"
      },
      "execution_count": 16,
      "outputs": [
        {
          "output_type": "stream",
          "name": "stdout",
          "text": [
            "(570, 1, 15)\n",
            "(570,)\n",
            "(236, 1, 15)\n",
            "(236,)\n"
          ]
        }
      ]
    },
    {
      "cell_type": "code",
      "source": [
        "look_back = 15\n",
        "model = Sequential()\n",
        "model.add(LSTM(20, input_shape=(1, look_back)))\n",
        "model.add(Dense(1))\n",
        "model.compile(loss='mean_squared_error', optimizer='adam')\n",
        "history = model.fit(x_train, y_train, epochs=50, batch_size=1, verbose=2)"
      ],
      "metadata": {
        "colab": {
          "base_uri": "https://localhost:8080/"
        },
        "id": "VUaFhHGTYQ_i",
        "outputId": "574b7c90-bf56-4c36-d624-af73cb0b60e1"
      },
      "execution_count": 20,
      "outputs": [
        {
          "output_type": "stream",
          "name": "stdout",
          "text": [
            "Epoch 1/50\n",
            "570/570 - 3s - loss: 0.0171 - 3s/epoch - 5ms/step\n",
            "Epoch 2/50\n",
            "570/570 - 1s - loss: 0.0104 - 1s/epoch - 2ms/step\n",
            "Epoch 3/50\n",
            "570/570 - 1s - loss: 0.0091 - 1s/epoch - 2ms/step\n",
            "Epoch 4/50\n",
            "570/570 - 1s - loss: 0.0084 - 1s/epoch - 2ms/step\n",
            "Epoch 5/50\n",
            "570/570 - 1s - loss: 0.0080 - 1s/epoch - 2ms/step\n",
            "Epoch 6/50\n",
            "570/570 - 1s - loss: 0.0079 - 1s/epoch - 2ms/step\n",
            "Epoch 7/50\n",
            "570/570 - 1s - loss: 0.0078 - 1s/epoch - 2ms/step\n",
            "Epoch 8/50\n",
            "570/570 - 1s - loss: 0.0074 - 1s/epoch - 2ms/step\n",
            "Epoch 9/50\n",
            "570/570 - 1s - loss: 0.0073 - 1s/epoch - 2ms/step\n",
            "Epoch 10/50\n",
            "570/570 - 1s - loss: 0.0075 - 1s/epoch - 2ms/step\n",
            "Epoch 11/50\n",
            "570/570 - 1s - loss: 0.0071 - 1s/epoch - 2ms/step\n",
            "Epoch 12/50\n",
            "570/570 - 1s - loss: 0.0070 - 1s/epoch - 2ms/step\n",
            "Epoch 13/50\n",
            "570/570 - 1s - loss: 0.0072 - 1s/epoch - 2ms/step\n",
            "Epoch 14/50\n",
            "570/570 - 1s - loss: 0.0072 - 1s/epoch - 2ms/step\n",
            "Epoch 15/50\n",
            "570/570 - 1s - loss: 0.0071 - 1s/epoch - 2ms/step\n",
            "Epoch 16/50\n",
            "570/570 - 1s - loss: 0.0073 - 1s/epoch - 2ms/step\n",
            "Epoch 17/50\n",
            "570/570 - 1s - loss: 0.0072 - 1s/epoch - 2ms/step\n",
            "Epoch 18/50\n",
            "570/570 - 1s - loss: 0.0070 - 1s/epoch - 2ms/step\n",
            "Epoch 19/50\n",
            "570/570 - 1s - loss: 0.0070 - 1s/epoch - 2ms/step\n",
            "Epoch 20/50\n",
            "570/570 - 1s - loss: 0.0069 - 1s/epoch - 2ms/step\n",
            "Epoch 21/50\n",
            "570/570 - 1s - loss: 0.0068 - 1s/epoch - 2ms/step\n",
            "Epoch 22/50\n",
            "570/570 - 1s - loss: 0.0067 - 1s/epoch - 2ms/step\n",
            "Epoch 23/50\n",
            "570/570 - 1s - loss: 0.0070 - 1s/epoch - 2ms/step\n",
            "Epoch 24/50\n",
            "570/570 - 1s - loss: 0.0070 - 1s/epoch - 2ms/step\n",
            "Epoch 25/50\n",
            "570/570 - 1s - loss: 0.0069 - 1s/epoch - 2ms/step\n",
            "Epoch 26/50\n",
            "570/570 - 1s - loss: 0.0068 - 1s/epoch - 2ms/step\n",
            "Epoch 27/50\n",
            "570/570 - 1s - loss: 0.0069 - 1s/epoch - 2ms/step\n",
            "Epoch 28/50\n",
            "570/570 - 1s - loss: 0.0066 - 1s/epoch - 2ms/step\n",
            "Epoch 29/50\n",
            "570/570 - 1s - loss: 0.0069 - 1s/epoch - 2ms/step\n",
            "Epoch 30/50\n",
            "570/570 - 1s - loss: 0.0067 - 1s/epoch - 2ms/step\n",
            "Epoch 31/50\n",
            "570/570 - 1s - loss: 0.0067 - 1s/epoch - 2ms/step\n",
            "Epoch 32/50\n",
            "570/570 - 1s - loss: 0.0069 - 1s/epoch - 2ms/step\n",
            "Epoch 33/50\n",
            "570/570 - 1s - loss: 0.0067 - 1s/epoch - 2ms/step\n",
            "Epoch 34/50\n",
            "570/570 - 1s - loss: 0.0068 - 1s/epoch - 2ms/step\n",
            "Epoch 35/50\n",
            "570/570 - 1s - loss: 0.0067 - 1s/epoch - 2ms/step\n",
            "Epoch 36/50\n",
            "570/570 - 1s - loss: 0.0069 - 1s/epoch - 2ms/step\n",
            "Epoch 37/50\n",
            "570/570 - 1s - loss: 0.0067 - 1s/epoch - 2ms/step\n",
            "Epoch 38/50\n",
            "570/570 - 1s - loss: 0.0065 - 1s/epoch - 2ms/step\n",
            "Epoch 39/50\n",
            "570/570 - 1s - loss: 0.0066 - 1s/epoch - 2ms/step\n",
            "Epoch 40/50\n",
            "570/570 - 1s - loss: 0.0066 - 990ms/epoch - 2ms/step\n",
            "Epoch 41/50\n",
            "570/570 - 1s - loss: 0.0066 - 1s/epoch - 2ms/step\n",
            "Epoch 42/50\n",
            "570/570 - 1s - loss: 0.0065 - 1s/epoch - 2ms/step\n",
            "Epoch 43/50\n",
            "570/570 - 1s - loss: 0.0068 - 1s/epoch - 2ms/step\n",
            "Epoch 44/50\n",
            "570/570 - 1s - loss: 0.0066 - 1s/epoch - 2ms/step\n",
            "Epoch 45/50\n",
            "570/570 - 1s - loss: 0.0065 - 1s/epoch - 2ms/step\n",
            "Epoch 46/50\n",
            "570/570 - 1s - loss: 0.0063 - 1s/epoch - 2ms/step\n",
            "Epoch 47/50\n",
            "570/570 - 1s - loss: 0.0064 - 1s/epoch - 2ms/step\n",
            "Epoch 48/50\n",
            "570/570 - 1s - loss: 0.0068 - 1s/epoch - 2ms/step\n",
            "Epoch 49/50\n",
            "570/570 - 1s - loss: 0.0066 - 1s/epoch - 2ms/step\n",
            "Epoch 50/50\n",
            "570/570 - 1s - loss: 0.0065 - 1s/epoch - 2ms/step\n"
          ]
        }
      ]
    },
    {
      "cell_type": "code",
      "source": [
        "history.history\n",
        "\n",
        "print(\"Evaluate model on test data\")\n",
        "results = model.evaluate(x_test, y_test, batch_size=128)\n",
        "print(\"test loss, test acc:\", results)"
      ],
      "metadata": {
        "colab": {
          "base_uri": "https://localhost:8080/"
        },
        "id": "VNvBA24sRqgm",
        "outputId": "2a0474b3-66fb-4f3d-a003-b1c7b1fbd25a"
      },
      "execution_count": 21,
      "outputs": [
        {
          "output_type": "stream",
          "name": "stdout",
          "text": [
            "Evaluate model on test data\n",
            "2/2 [==============================] - 1s 7ms/step - loss: 0.0049\n",
            "test loss, test acc: 0.004897431004792452\n"
          ]
        }
      ]
    },
    {
      "cell_type": "code",
      "source": [],
      "metadata": {
        "id": "oLeUBIyjSFhy"
      },
      "execution_count": null,
      "outputs": []
    },
    {
      "cell_type": "code",
      "source": [
        "trainPredict = model.predict(x_train)\n",
        "testPredict = model.predict(x_test)\n",
        "# invert predictions\n",
        "trainPredict = min_max_scaler.inverse_transform(trainPredict)\n",
        "trainY = min_max_scaler.inverse_transform([y_train])\n",
        "testPredict = min_max_scaler.inverse_transform(testPredict)\n",
        "testY = min_max_scaler.inverse_transform([y_test])\n",
        "# calculate root mean squared error\n",
        "trainScore = math.sqrt(mean_squared_error(trainY[0], trainPredict[:,0]))\n",
        "print('Train Score: %.2f RMSE' % (trainScore))\n",
        "testScore = math.sqrt(mean_squared_error(testY[0], testPredict[:,0]))\n",
        "print('Test Score: %.2f RMSE' % (testScore))\n",
        "\n",
        "trainScore = tf.keras.metrics.mean_absolute_percentage_error(trainY[0], trainPredict[:,0])\n",
        "print('Train Score: %.2f MAPE' % (trainScore))\n",
        "testScore = tf.keras.metrics.mean_absolute_percentage_error(testY[0], testPredict[:,0])\n",
        "print('Test Score: %.2f MAPE' % (testScore))"
      ],
      "metadata": {
        "colab": {
          "base_uri": "https://localhost:8080/"
        },
        "id": "mWtwnR1kYeHh",
        "outputId": "b8ff5d98-1df0-47a4-bf46-32752484b339"
      },
      "execution_count": 18,
      "outputs": [
        {
          "output_type": "stream",
          "name": "stdout",
          "text": [
            "18/18 [==============================] - 1s 2ms/step\n",
            "8/8 [==============================] - 0s 3ms/step\n",
            "Train Score: 120.77 RMSE\n",
            "Test Score: 103.28 RMSE\n",
            "Train Score: 2.80 MAPE\n",
            "Test Score: 2.80 MAPE\n"
          ]
        }
      ]
    },
    {
      "cell_type": "code",
      "source": [
        "# shift train predictions for plotting\n",
        "trainPredictPlot = np.empty_like(dataset)\n",
        "trainPredictPlot[:, :] = np.nan\n",
        "trainPredictPlot[look_back:len(trainPredict)+look_back, :] = trainPredict\n",
        "# shift test predictions for plotting\n",
        "testPredictPlot = np.empty_like(dataset)\n",
        "testPredictPlot[:, :] = np.nan\n",
        "testPredictPlot[len(trainPredict)+(look_back*2)+1:len(dataset)-1, :] = testPredict\n",
        "# plot baseline and predictions\n",
        "plt.plot(min_max_scaler.inverse_transform(dataset))\n",
        "plt.plot(trainPredictPlot)\n",
        "plt.plot(testPredictPlot)\n",
        "plt.show()"
      ],
      "metadata": {
        "colab": {
          "base_uri": "https://localhost:8080/",
          "height": 265
        },
        "id": "ZA2EfBm3Yj_p",
        "outputId": "08d4194c-24bb-4c67-b176-123d68f505a1"
      },
      "execution_count": 19,
      "outputs": [
        {
          "output_type": "display_data",
          "data": {
            "text/plain": [
              "<Figure size 432x288 with 1 Axes>"
            ],
            "image/png": "[encoded data removed]"
          },
          "metadata": {
            "needs_background": "light"
          }
        }
      ]
    },
    {
      "cell_type": "code",
      "source": [
        "# Generate a prediction using model.predict() \n",
        "# and calculate it's shape:\n",
        "print(\"Generate a prediction\")\n",
        "prediction = model.predict(x_test[:7])\n",
        "print(\"prediction shape:\", prediction.shape)\n",
        "prediction[0:7]"
      ],
      "metadata": {
        "colab": {
          "base_uri": "https://localhost:8080/"
        },
        "id": "tiozYhJwRDuQ",
        "outputId": "f3b26c09-94dc-40bf-cdfa-e4e17326c810"
      },
      "execution_count": 31,
      "outputs": [
        {
          "output_type": "stream",
          "name": "stdout",
          "text": [
            "Generate a prediction\n",
            "1/1 [==============================] - 0s 44ms/step\n",
            "prediction shape: (7, 1)\n"
          ]
        },
        {
          "output_type": "execute_result",
          "data": {
            "text/plain": [
              "array([[0.18331844],\n",
              "       [0.16009235],\n",
              "       [0.19429235],\n",
              "       [0.37899047],\n",
              "       [0.27784485],\n",
              "       [0.16936202],\n",
              "       [0.19134206]], dtype=float32)"
            ]
          },
          "metadata": {},
          "execution_count": 31
        }
      ]
    },
    {
      "cell_type": "code",
      "source": [
        "\n",
        "min_max_scaler.inverse_transform(prediction)"
      ],
      "metadata": {
        "colab": {
          "base_uri": "https://localhost:8080/"
        },
        "id": "Jj5y9VyrUS4z",
        "outputId": "82791dc7-c294-4d59-a442-7e0f4321607f"
      },
      "execution_count": 27,
      "outputs": [
        {
          "output_type": "execute_result",
          "data": {
            "text/plain": [
              "array([[2801.7603],\n",
              "       [2766.062 ],\n",
              "       [2818.6272],\n",
              "       [3102.5083],\n",
              "       [2947.0474],\n",
              "       [2780.3093],\n",
              "       [2814.0928]], dtype=float32)"
            ]
          },
          "metadata": {},
          "execution_count": 27
        }
      ]
    }
  ]
}