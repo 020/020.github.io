{
  "nbformat": 4,
  "nbformat_minor": 0,
  "metadata": {
    "colab": {
      "name": "Beds Occupancy LSTM TS exp 2.ipynb",
      "provenance": [],
      "authorship_tag": "ABX9TyPSngLyp6v+51AXwurm44Uy",
      "include_colab_link": true
    },
    "kernelspec": {
      "name": "python3",
      "display_name": "Python 3"
    },
    "language_info": {
      "name": "python"
    }
  },
  "cells": [
    {
      "cell_type": "markdown",
      "metadata": {
        "id": "view-in-github",
        "colab_type": "text"
      },
      "source": [
        "<a href=\"https://colab.research.google.com/github/020/020.github.io/blob/master/Beds_Occupancy_LSTM_TS_exp_2.ipynb\" target=\"_parent\"><img src=\"https://colab.research.google.com/assets/colab-badge.svg\" alt=\"Open In Colab\"/></a>"
      ]
    },
    {
      "cell_type": "code",
      "execution_count": 1,
      "metadata": {
        "id": "5nUblxlQIlwB"
      },
      "outputs": [],
      "source": [
        "import tensorflow as tf\n",
        "import os\n",
        "import pandas as pd\n",
        "import numpy as np\n",
        "import matplotlib.pyplot as plt\n",
        "keras = tf.keras"
      ]
    },
    {
      "cell_type": "code",
      "source": [
        "df = pd.read_csv('/content/beds_occupied.csv')\n",
        "df"
      ],
      "metadata": {
        "colab": {
          "base_uri": "https://localhost:8080/",
          "height": 424
        },
        "id": "qkd-I31oI4Cv",
        "outputId": "92246425-3f11-4ddc-f87b-cf7bc9ca5de6"
      },
      "execution_count": 2,
      "outputs": [
        {
          "output_type": "execute_result",
          "data": {
            "text/plain": [
              "                 date  occupied\n",
              "0     11/05/2022 0:00      0.79\n",
              "1     11/05/2022 1:00      0.79\n",
              "2     11/05/2022 2:00      0.80\n",
              "3     11/05/2022 3:00      0.80\n",
              "4     11/05/2022 4:00      0.80\n",
              "...               ...       ...\n",
              "1995  02/08/2022 3:00      0.81\n",
              "1996  02/08/2022 4:00      0.82\n",
              "1997  02/08/2022 5:00      0.82\n",
              "1998  02/08/2022 6:00      0.82\n",
              "1999  02/08/2022 7:00      0.82\n",
              "\n",
              "[2000 rows x 2 columns]"
            ],
            "text/html": [
              "\n",
              "  <div id=\"df-510b1b09-04b8-415c-a32e-7c5354a416a2\">\n",
              "    <div class=\"colab-df-container\">\n",
              "      <div>\n",
              "<style scoped>\n",
              "    .dataframe tbody tr th:only-of-type {\n",
              "        vertical-align: middle;\n",
              "    }\n",
              "\n",
              "    .dataframe tbody tr th {\n",
              "        vertical-align: top;\n",
              "    }\n",
              "\n",
              "    .dataframe thead th {\n",
              "        text-align: right;\n",
              "    }\n",
              "</style>\n",
              "<table border=\"1\" class=\"dataframe\">\n",
              "  <thead>\n",
              "    <tr style=\"text-align: right;\">\n",
              "      <th></th>\n",
              "      <th>date</th>\n",
              "      <th>occupied</th>\n",
              "    </tr>\n",
              "  </thead>\n",
              "  <tbody>\n",
              "    <tr>\n",
              "      <th>0</th>\n",
              "      <td>11/05/2022 0:00</td>\n",
              "      <td>0.79</td>\n",
              "    </tr>\n",
              "    <tr>\n",
              "      <th>1</th>\n",
              "      <td>11/05/2022 1:00</td>\n",
              "      <td>0.79</td>\n",
              "    </tr>\n",
              "    <tr>\n",
              "      <th>2</th>\n",
              "      <td>11/05/2022 2:00</td>\n",
              "      <td>0.80</td>\n",
              "    </tr>\n",
              "    <tr>\n",
              "      <th>3</th>\n",
              "      <td>11/05/2022 3:00</td>\n",
              "      <td>0.80</td>\n",
              "    </tr>\n",
              "    <tr>\n",
              "      <th>4</th>\n",
              "      <td>11/05/2022 4:00</td>\n",
              "      <td>0.80</td>\n",
              "    </tr>\n",
              "    <tr>\n",
              "      <th>...</th>\n",
              "      <td>...</td>\n",
              "      <td>...</td>\n",
              "    </tr>\n",
              "    <tr>\n",
              "      <th>1995</th>\n",
              "      <td>02/08/2022 3:00</td>\n",
              "      <td>0.81</td>\n",
              "    </tr>\n",
              "    <tr>\n",
              "      <th>1996</th>\n",
              "      <td>02/08/2022 4:00</td>\n",
              "      <td>0.82</td>\n",
              "    </tr>\n",
              "    <tr>\n",
              "      <th>1997</th>\n",
              "      <td>02/08/2022 5:00</td>\n",
              "      <td>0.82</td>\n",
              "    </tr>\n",
              "    <tr>\n",
              "      <th>1998</th>\n",
              "      <td>02/08/2022 6:00</td>\n",
              "      <td>0.82</td>\n",
              "    </tr>\n",
              "    <tr>\n",
              "      <th>1999</th>\n",
              "      <td>02/08/2022 7:00</td>\n",
              "      <td>0.82</td>\n",
              "    </tr>\n",
              "  </tbody>\n",
              "</table>\n",
              "<p>2000 rows × 2 columns</p>\n",
              "</div>\n",
              "      <button class=\"colab-df-convert\" onclick=\"convertToInteractive('df-510b1b09-04b8-415c-a32e-7c5354a416a2')\"\n",
              "              title=\"Convert this dataframe to an interactive table.\"\n",
              "              style=\"display:none;\">\n",
              "        \n",
              "  <svg xmlns=\"http://www.w3.org/2000/svg\" height=\"24px\"viewBox=\"0 0 24 24\"\n",
              "       width=\"24px\">\n",
              "    <path d=\"M0 0h24v24H0V0z\" fill=\"none\"/>\n",
              "    <path d=\"M18.56 5.44l.94 2.06.94-2.06 2.06-.94-2.06-.94-.94-2.06-.94 2.06-2.06.94zm-11 1L8.5 8.5l.94-2.06 2.06-.94-2.06-.94L8.5 2.5l-.94 2.06-2.06.94zm10 10l.94 2.06.94-2.06 2.06-.94-2.06-.94-.94-2.06-.94 2.06-2.06.94z\"/><path d=\"M17.41 7.96l-1.37-1.37c-.4-.4-.92-.59-1.43-.59-.52 0-1.04.2-1.43.59L10.3 9.45l-7.72 7.72c-.78.78-.78 2.05 0 2.83L4 21.41c.39.39.9.59 1.41.59.51 0 1.02-.2 1.41-.59l7.78-7.78 2.81-2.81c.8-.78.8-2.07 0-2.86zM5.41 20L4 18.59l7.72-7.72 1.47 1.35L5.41 20z\"/>\n",
              "  </svg>\n",
              "      </button>\n",
              "      \n",
              "  <style>\n",
              "    .colab-df-container {\n",
              "      display:flex;\n",
              "      flex-wrap:wrap;\n",
              "      gap: 12px;\n",
              "    }\n",
              "\n",
              "    .colab-df-convert {\n",
              "      background-color: #E8F0FE;\n",
              "      border: none;\n",
              "      border-radius: 50%;\n",
              "      cursor: pointer;\n",
              "      display: none;\n",
              "      fill: #1967D2;\n",
              "      height: 32px;\n",
              "      padding: 0 0 0 0;\n",
              "      width: 32px;\n",
              "    }\n",
              "\n",
              "    .colab-df-convert:hover {\n",
              "      background-color: #E2EBFA;\n",
              "      box-shadow: 0px 1px 2px rgba(60, 64, 67, 0.3), 0px 1px 3px 1px rgba(60, 64, 67, 0.15);\n",
              "      fill: #174EA6;\n",
              "    }\n",
              "\n",
              "    [theme=dark] .colab-df-convert {\n",
              "      background-color: #3B4455;\n",
              "      fill: #D2E3FC;\n",
              "    }\n",
              "\n",
              "    [theme=dark] .colab-df-convert:hover {\n",
              "      background-color: #434B5C;\n",
              "      box-shadow: 0px 1px 3px 1px rgba(0, 0, 0, 0.15);\n",
              "      filter: drop-shadow(0px 1px 2px rgba(0, 0, 0, 0.3));\n",
              "      fill: #FFFFFF;\n",
              "    }\n",
              "  </style>\n",
              "\n",
              "      <script>\n",
              "        const buttonEl =\n",
              "          document.querySelector('#df-510b1b09-04b8-415c-a32e-7c5354a416a2 button.colab-df-convert');\n",
              "        buttonEl.style.display =\n",
              "          google.colab.kernel.accessAllowed ? 'block' : 'none';\n",
              "\n",
              "        async function convertToInteractive(key) {\n",
              "          const element = document.querySelector('#df-510b1b09-04b8-415c-a32e-7c5354a416a2');\n",
              "          const dataTable =\n",
              "            await google.colab.kernel.invokeFunction('convertToInteractive',\n",
              "                                                     [key], {});\n",
              "          if (!dataTable) return;\n",
              "\n",
              "          const docLinkHtml = 'Like what you see? Visit the ' +\n",
              "            '<a target=\"_blank\" href=https://colab.research.google.com/notebooks/data_table.ipynb>data table notebook</a>'\n",
              "            + ' to learn more about interactive tables.';\n",
              "          element.innerHTML = '';\n",
              "          dataTable['output_type'] = 'display_data';\n",
              "          await google.colab.output.renderOutput(dataTable, element);\n",
              "          const docLink = document.createElement('div');\n",
              "          docLink.innerHTML = docLinkHtml;\n",
              "          element.appendChild(docLink);\n",
              "        }\n",
              "      </script>\n",
              "    </div>\n",
              "  </div>\n",
              "  "
            ]
          },
          "metadata": {},
          "execution_count": 2
        }
      ]
    },
    {
      "cell_type": "code",
      "source": [
        "df.index = pd.to_datetime(df['date'], format='%d/%m/%Y %H:%M')\n",
        "df[:26]"
      ],
      "metadata": {
        "colab": {
          "base_uri": "https://localhost:8080/",
          "height": 896
        },
        "id": "IKP-DEmZJpcH",
        "outputId": "fdfbea11-c0d4-49ed-a545-a6fe2333d645"
      },
      "execution_count": 3,
      "outputs": [
        {
          "output_type": "execute_result",
          "data": {
            "text/plain": [
              "                                 date  occupied\n",
              "date                                           \n",
              "2022-05-11 00:00:00   11/05/2022 0:00      0.79\n",
              "2022-05-11 01:00:00   11/05/2022 1:00      0.79\n",
              "2022-05-11 02:00:00   11/05/2022 2:00      0.80\n",
              "2022-05-11 03:00:00   11/05/2022 3:00      0.80\n",
              "2022-05-11 04:00:00   11/05/2022 4:00      0.80\n",
              "2022-05-11 05:00:00   11/05/2022 5:00      0.80\n",
              "2022-05-11 06:00:00   11/05/2022 6:00      0.81\n",
              "2022-05-11 07:00:00   11/05/2022 7:00      0.81\n",
              "2022-05-11 08:00:00   11/05/2022 8:00      0.81\n",
              "2022-05-11 09:00:00   11/05/2022 9:00      0.81\n",
              "2022-05-11 10:00:00  11/05/2022 10:00      0.81\n",
              "2022-05-11 11:00:00  11/05/2022 11:00      0.80\n",
              "2022-05-11 12:00:00  11/05/2022 12:00      0.79\n",
              "2022-05-11 13:00:00  11/05/2022 13:00      0.79\n",
              "2022-05-11 14:00:00  11/05/2022 14:00      0.78\n",
              "2022-05-11 15:00:00  11/05/2022 15:00      0.77\n",
              "2022-05-11 16:00:00  11/05/2022 16:00      0.77\n",
              "2022-05-11 17:00:00  11/05/2022 17:00      0.77\n",
              "2022-05-11 18:00:00  11/05/2022 18:00      0.77\n",
              "2022-05-11 19:00:00  11/05/2022 19:00      0.77\n",
              "2022-05-11 20:00:00  11/05/2022 20:00      0.78\n",
              "2022-05-11 21:00:00  11/05/2022 21:00      0.78\n",
              "2022-05-11 22:00:00  11/05/2022 22:00      0.79\n",
              "2022-05-11 23:00:00  11/05/2022 23:00      0.79\n",
              "2022-05-12 00:00:00   12/05/2022 0:00      0.79\n",
              "2022-05-12 01:00:00   12/05/2022 1:00      0.80"
            ],
            "text/html": [
              "\n",
              "  <div id=\"df-adc88d9c-58dc-4c37-b2f9-d24b346b4f47\">\n",
              "    <div class=\"colab-df-container\">\n",
              "      <div>\n",
              "<style scoped>\n",
              "    .dataframe tbody tr th:only-of-type {\n",
              "        vertical-align: middle;\n",
              "    }\n",
              "\n",
              "    .dataframe tbody tr th {\n",
              "        vertical-align: top;\n",
              "    }\n",
              "\n",
              "    .dataframe thead th {\n",
              "        text-align: right;\n",
              "    }\n",
              "</style>\n",
              "<table border=\"1\" class=\"dataframe\">\n",
              "  <thead>\n",
              "    <tr style=\"text-align: right;\">\n",
              "      <th></th>\n",
              "      <th>date</th>\n",
              "      <th>occupied</th>\n",
              "    </tr>\n",
              "    <tr>\n",
              "      <th>date</th>\n",
              "      <th></th>\n",
              "      <th></th>\n",
              "    </tr>\n",
              "  </thead>\n",
              "  <tbody>\n",
              "    <tr>\n",
              "      <th>2022-05-11 00:00:00</th>\n",
              "      <td>11/05/2022 0:00</td>\n",
              "      <td>0.79</td>\n",
              "    </tr>\n",
              "    <tr>\n",
              "      <th>2022-05-11 01:00:00</th>\n",
              "      <td>11/05/2022 1:00</td>\n",
              "      <td>0.79</td>\n",
              "    </tr>\n",
              "    <tr>\n",
              "      <th>2022-05-11 02:00:00</th>\n",
              "      <td>11/05/2022 2:00</td>\n",
              "      <td>0.80</td>\n",
              "    </tr>\n",
              "    <tr>\n",
              "      <th>2022-05-11 03:00:00</th>\n",
              "      <td>11/05/2022 3:00</td>\n",
              "      <td>0.80</td>\n",
              "    </tr>\n",
              "    <tr>\n",
              "      <th>2022-05-11 04:00:00</th>\n",
              "      <td>11/05/2022 4:00</td>\n",
              "      <td>0.80</td>\n",
              "    </tr>\n",
              "    <tr>\n",
              "      <th>2022-05-11 05:00:00</th>\n",
              "      <td>11/05/2022 5:00</td>\n",
              "      <td>0.80</td>\n",
              "    </tr>\n",
              "    <tr>\n",
              "      <th>2022-05-11 06:00:00</th>\n",
              "      <td>11/05/2022 6:00</td>\n",
              "      <td>0.81</td>\n",
              "    </tr>\n",
              "    <tr>\n",
              "      <th>2022-05-11 07:00:00</th>\n",
              "      <td>11/05/2022 7:00</td>\n",
              "      <td>0.81</td>\n",
              "    </tr>\n",
              "    <tr>\n",
              "      <th>2022-05-11 08:00:00</th>\n",
              "      <td>11/05/2022 8:00</td>\n",
              "      <td>0.81</td>\n",
              "    </tr>\n",
              "    <tr>\n",
              "      <th>2022-05-11 09:00:00</th>\n",
              "      <td>11/05/2022 9:00</td>\n",
              "      <td>0.81</td>\n",
              "    </tr>\n",
              "    <tr>\n",
              "      <th>2022-05-11 10:00:00</th>\n",
              "      <td>11/05/2022 10:00</td>\n",
              "      <td>0.81</td>\n",
              "    </tr>\n",
              "    <tr>\n",
              "      <th>2022-05-11 11:00:00</th>\n",
              "      <td>11/05/2022 11:00</td>\n",
              "      <td>0.80</td>\n",
              "    </tr>\n",
              "    <tr>\n",
              "      <th>2022-05-11 12:00:00</th>\n",
              "      <td>11/05/2022 12:00</td>\n",
              "      <td>0.79</td>\n",
              "    </tr>\n",
              "    <tr>\n",
              "      <th>2022-05-11 13:00:00</th>\n",
              "      <td>11/05/2022 13:00</td>\n",
              "      <td>0.79</td>\n",
              "    </tr>\n",
              "    <tr>\n",
              "      <th>2022-05-11 14:00:00</th>\n",
              "      <td>11/05/2022 14:00</td>\n",
              "      <td>0.78</td>\n",
              "    </tr>\n",
              "    <tr>\n",
              "      <th>2022-05-11 15:00:00</th>\n",
              "      <td>11/05/2022 15:00</td>\n",
              "      <td>0.77</td>\n",
              "    </tr>\n",
              "    <tr>\n",
              "      <th>2022-05-11 16:00:00</th>\n",
              "      <td>11/05/2022 16:00</td>\n",
              "      <td>0.77</td>\n",
              "    </tr>\n",
              "    <tr>\n",
              "      <th>2022-05-11 17:00:00</th>\n",
              "      <td>11/05/2022 17:00</td>\n",
              "      <td>0.77</td>\n",
              "    </tr>\n",
              "    <tr>\n",
              "      <th>2022-05-11 18:00:00</th>\n",
              "      <td>11/05/2022 18:00</td>\n",
              "      <td>0.77</td>\n",
              "    </tr>\n",
              "    <tr>\n",
              "      <th>2022-05-11 19:00:00</th>\n",
              "      <td>11/05/2022 19:00</td>\n",
              "      <td>0.77</td>\n",
              "    </tr>\n",
              "    <tr>\n",
              "      <th>2022-05-11 20:00:00</th>\n",
              "      <td>11/05/2022 20:00</td>\n",
              "      <td>0.78</td>\n",
              "    </tr>\n",
              "    <tr>\n",
              "      <th>2022-05-11 21:00:00</th>\n",
              "      <td>11/05/2022 21:00</td>\n",
              "      <td>0.78</td>\n",
              "    </tr>\n",
              "    <tr>\n",
              "      <th>2022-05-11 22:00:00</th>\n",
              "      <td>11/05/2022 22:00</td>\n",
              "      <td>0.79</td>\n",
              "    </tr>\n",
              "    <tr>\n",
              "      <th>2022-05-11 23:00:00</th>\n",
              "      <td>11/05/2022 23:00</td>\n",
              "      <td>0.79</td>\n",
              "    </tr>\n",
              "    <tr>\n",
              "      <th>2022-05-12 00:00:00</th>\n",
              "      <td>12/05/2022 0:00</td>\n",
              "      <td>0.79</td>\n",
              "    </tr>\n",
              "    <tr>\n",
              "      <th>2022-05-12 01:00:00</th>\n",
              "      <td>12/05/2022 1:00</td>\n",
              "      <td>0.80</td>\n",
              "    </tr>\n",
              "  </tbody>\n",
              "</table>\n",
              "</div>\n",
              "      <button class=\"colab-df-convert\" onclick=\"convertToInteractive('df-adc88d9c-58dc-4c37-b2f9-d24b346b4f47')\"\n",
              "              title=\"Convert this dataframe to an interactive table.\"\n",
              "              style=\"display:none;\">\n",
              "        \n",
              "  <svg xmlns=\"http://www.w3.org/2000/svg\" height=\"24px\"viewBox=\"0 0 24 24\"\n",
              "       width=\"24px\">\n",
              "    <path d=\"M0 0h24v24H0V0z\" fill=\"none\"/>\n",
              "    <path d=\"M18.56 5.44l.94 2.06.94-2.06 2.06-.94-2.06-.94-.94-2.06-.94 2.06-2.06.94zm-11 1L8.5 8.5l.94-2.06 2.06-.94-2.06-.94L8.5 2.5l-.94 2.06-2.06.94zm10 10l.94 2.06.94-2.06 2.06-.94-2.06-.94-.94-2.06-.94 2.06-2.06.94z\"/><path d=\"M17.41 7.96l-1.37-1.37c-.4-.4-.92-.59-1.43-.59-.52 0-1.04.2-1.43.59L10.3 9.45l-7.72 7.72c-.78.78-.78 2.05 0 2.83L4 21.41c.39.39.9.59 1.41.59.51 0 1.02-.2 1.41-.59l7.78-7.78 2.81-2.81c.8-.78.8-2.07 0-2.86zM5.41 20L4 18.59l7.72-7.72 1.47 1.35L5.41 20z\"/>\n",
              "  </svg>\n",
              "      </button>\n",
              "      \n",
              "  <style>\n",
              "    .colab-df-container {\n",
              "      display:flex;\n",
              "      flex-wrap:wrap;\n",
              "      gap: 12px;\n",
              "    }\n",
              "\n",
              "    .colab-df-convert {\n",
              "      background-color: #E8F0FE;\n",
              "      border: none;\n",
              "      border-radius: 50%;\n",
              "      cursor: pointer;\n",
              "      display: none;\n",
              "      fill: #1967D2;\n",
              "      height: 32px;\n",
              "      padding: 0 0 0 0;\n",
              "      width: 32px;\n",
              "    }\n",
              "\n",
              "    .colab-df-convert:hover {\n",
              "      background-color: #E2EBFA;\n",
              "      box-shadow: 0px 1px 2px rgba(60, 64, 67, 0.3), 0px 1px 3px 1px rgba(60, 64, 67, 0.15);\n",
              "      fill: #174EA6;\n",
              "    }\n",
              "\n",
              "    [theme=dark] .colab-df-convert {\n",
              "      background-color: #3B4455;\n",
              "      fill: #D2E3FC;\n",
              "    }\n",
              "\n",
              "    [theme=dark] .colab-df-convert:hover {\n",
              "      background-color: #434B5C;\n",
              "      box-shadow: 0px 1px 3px 1px rgba(0, 0, 0, 0.15);\n",
              "      filter: drop-shadow(0px 1px 2px rgba(0, 0, 0, 0.3));\n",
              "      fill: #FFFFFF;\n",
              "    }\n",
              "  </style>\n",
              "\n",
              "      <script>\n",
              "        const buttonEl =\n",
              "          document.querySelector('#df-adc88d9c-58dc-4c37-b2f9-d24b346b4f47 button.colab-df-convert');\n",
              "        buttonEl.style.display =\n",
              "          google.colab.kernel.accessAllowed ? 'block' : 'none';\n",
              "\n",
              "        async function convertToInteractive(key) {\n",
              "          const element = document.querySelector('#df-adc88d9c-58dc-4c37-b2f9-d24b346b4f47');\n",
              "          const dataTable =\n",
              "            await google.colab.kernel.invokeFunction('convertToInteractive',\n",
              "                                                     [key], {});\n",
              "          if (!dataTable) return;\n",
              "\n",
              "          const docLinkHtml = 'Like what you see? Visit the ' +\n",
              "            '<a target=\"_blank\" href=https://colab.research.google.com/notebooks/data_table.ipynb>data table notebook</a>'\n",
              "            + ' to learn more about interactive tables.';\n",
              "          element.innerHTML = '';\n",
              "          dataTable['output_type'] = 'display_data';\n",
              "          await google.colab.output.renderOutput(dataTable, element);\n",
              "          const docLink = document.createElement('div');\n",
              "          docLink.innerHTML = docLinkHtml;\n",
              "          element.appendChild(docLink);\n",
              "        }\n",
              "      </script>\n",
              "    </div>\n",
              "  </div>\n",
              "  "
            ]
          },
          "metadata": {},
          "execution_count": 3
        }
      ]
    },
    {
      "cell_type": "code",
      "source": [
        "bed = df['occupied']\n",
        "bed.plot()"
      ],
      "metadata": {
        "colab": {
          "base_uri": "https://localhost:8080/",
          "height": 331
        },
        "id": "A5uVQyh5KB4B",
        "outputId": "e9662f49-30c2-4e57-8c79-889e4e89f463"
      },
      "execution_count": 4,
      "outputs": [
        {
          "output_type": "execute_result",
          "data": {
            "text/plain": [
              "<matplotlib.axes._subplots.AxesSubplot at 0x7f367566c650>"
            ]
          },
          "metadata": {},
          "execution_count": 4
        },
        {
          "output_type": "display_data",
          "data": {
            "text/plain": [
              "<Figure size 432x288 with 1 Axes>"
            ],
            "image/png": "[encoded data removed]"
          },
          "metadata": {
            "needs_background": "light"
          }
        }
      ]
    },
    {
      "cell_type": "code",
      "source": [
        "def df_to_X_y(df, window_size=5):\n",
        "  df_as_np = df.to_numpy()\n",
        "  X = []\n",
        "  y = []\n",
        "  for i in range(len(df_as_np)-window_size):\n",
        "    row = [[a] for a in df_as_np[i:i+window_size]]\n",
        "    X.append(row)\n",
        "    label = df_as_np[i+window_size]\n",
        "    y.append(label)\n",
        "  return np.array(X), np.array(y)"
      ],
      "metadata": {
        "id": "nKfjMENfLAfd"
      },
      "execution_count": 5,
      "outputs": []
    },
    {
      "cell_type": "code",
      "source": [
        "WINDOW_SIZE = 5\n",
        "X1, y1 = df_to_X_y(bed, WINDOW_SIZE)\n",
        "X1.shape, y1.shape"
      ],
      "metadata": {
        "colab": {
          "base_uri": "https://localhost:8080/"
        },
        "id": "8jkLUu1nLHrl",
        "outputId": "09789268-8646-40ba-b0ae-d0d1e3fdbe0d"
      },
      "execution_count": 6,
      "outputs": [
        {
          "output_type": "execute_result",
          "data": {
            "text/plain": [
              "((1995, 5, 1), (1995,))"
            ]
          },
          "metadata": {},
          "execution_count": 6
        }
      ]
    },
    {
      "cell_type": "code",
      "source": [
        "X_train1, y_train1 = X1[:1500], y1[:1500]\n",
        "X_val1, y_val1 = X1[1500:1750], y1[1500:1750]\n",
        "X_test1, y_test1 = X1[1750:], y1[1750:]\n",
        "X_train1.shape, y_train1.shape, X_val1.shape, y_val1.shape, X_test1.shape, y_test1.shape"
      ],
      "metadata": {
        "colab": {
          "base_uri": "https://localhost:8080/"
        },
        "id": "hYeXeWPbLPr0",
        "outputId": "84845c0e-3697-46ab-c7cf-a875b82a85ad"
      },
      "execution_count": 7,
      "outputs": [
        {
          "output_type": "execute_result",
          "data": {
            "text/plain": [
              "((1500, 5, 1), (1500,), (250, 5, 1), (250,), (245, 5, 1), (245,))"
            ]
          },
          "metadata": {},
          "execution_count": 7
        }
      ]
    },
    {
      "cell_type": "code",
      "source": [
        "from tensorflow.keras.models import Sequential\n",
        "from tensorflow.keras.layers import *\n",
        "from tensorflow.keras.callbacks import ModelCheckpoint\n",
        "from tensorflow.keras.losses import MeanSquaredError\n",
        "from tensorflow.keras.metrics import RootMeanSquaredError\n",
        "from tensorflow.keras.optimizers import Adam\n",
        "\n",
        "model1 = Sequential()\n",
        "model1.add(InputLayer((5, 1)))\n",
        "model1.add(LSTM(64))\n",
        "model1.add(Dense(8, 'relu'))\n",
        "model1.add(Dense(1, 'linear'))\n",
        "\n",
        "model1.summary()"
      ],
      "metadata": {
        "colab": {
          "base_uri": "https://localhost:8080/"
        },
        "id": "rq8XcOglLk9E",
        "outputId": "50d11920-acb6-45ae-9cf3-0504b0719735"
      },
      "execution_count": 8,
      "outputs": [
        {
          "output_type": "stream",
          "name": "stdout",
          "text": [
            "Model: \"sequential\"\n",
            "_________________________________________________________________\n",
            " Layer (type)                Output Shape              Param #   \n",
            "=================================================================\n",
            " lstm (LSTM)                 (None, 64)                16896     \n",
            "                                                                 \n",
            " dense (Dense)               (None, 8)                 520       \n",
            "                                                                 \n",
            " dense_1 (Dense)             (None, 1)                 9         \n",
            "                                                                 \n",
            "=================================================================\n",
            "Total params: 17,425\n",
            "Trainable params: 17,425\n",
            "Non-trainable params: 0\n",
            "_________________________________________________________________\n"
          ]
        }
      ]
    },
    {
      "cell_type": "code",
      "source": [
        "cp1 = ModelCheckpoint('model1/', save_best_only=True)\n",
        "model1.compile(loss=MeanSquaredError(), optimizer=Adam(learning_rate=0.001), metrics=[RootMeanSquaredError()])"
      ],
      "metadata": {
        "id": "__Kjbx4NLrR8"
      },
      "execution_count": 9,
      "outputs": []
    },
    {
      "cell_type": "code",
      "source": [
        "model1.fit(X_train1, y_train1, validation_data=(X_val1, y_val1), epochs=300, callbacks=[cp1])"
      ],
      "metadata": {
        "colab": {
          "base_uri": "https://localhost:8080/"
        },
        "id": "LCN5aIzeLudU",
        "outputId": "7d094636-0d65-455e-a144-ca66f755ed9d"
      },
      "execution_count": 10,
      "outputs": [
        {
          "output_type": "stream",
          "name": "stdout",
          "text": [
            "Epoch 1/300\n",
            "47/47 [==============================] - ETA: 0s - loss: 0.1631 - root_mean_squared_error: 0.4039"
          ]
        },
        {
          "output_type": "stream",
          "name": "stderr",
          "text": [
            "WARNING:absl:Found untraced functions such as lstm_cell_layer_call_fn, lstm_cell_layer_call_and_return_conditional_losses while saving (showing 2 of 2). These functions will not be directly callable after loading.\n",
            "WARNING:absl:<keras.layers.recurrent.LSTMCell object at 0x7f3675433d50> has the same name 'LSTMCell' as a built-in Keras object. Consider renaming <class 'keras.layers.recurrent.LSTMCell'> to avoid naming conflicts when loading with `tf.keras.models.load_model`. If renaming is not possible, pass the object in the `custom_objects` parameter of the load function.\n"
          ]
        },
        {
          "output_type": "stream",
          "name": "stdout",
          "text": [
            "\b\b\b\b\b\b\b\b\b\b\b\b\b\b\b\b\b\b\b\b\b\b\b\b\b\b\b\b\b\b\b\b\b\b\b\b\b\b\b\b\b\b\b\b\b\b\b\b\b\b\b\b\b\b\b\b\b\b\b\b\b\b\b\b\b\b\b\b\b\b\b\b\b\b\b\b\b\b\b\b\b\b\b\b\b\b\b\b\b\b\b\b\b\b\b\b\b\r47/47 [==============================] - 8s 116ms/step - loss: 0.1631 - root_mean_squared_error: 0.4039 - val_loss: 7.2343e-04 - val_root_mean_squared_error: 0.0269\n",
            "Epoch 2/300\n",
            "42/47 [=========================>....] - ETA: 0s - loss: 0.0010 - root_mean_squared_error: 0.0322"
          ]
        },
        {
          "output_type": "stream",
          "name": "stderr",
          "text": [
            "WARNING:absl:Found untraced functions such as lstm_cell_layer_call_fn, lstm_cell_layer_call_and_return_conditional_losses while saving (showing 2 of 2). These functions will not be directly callable after loading.\n",
            "WARNING:absl:<keras.layers.recurrent.LSTMCell object at 0x7f3675433d50> has the same name 'LSTMCell' as a built-in Keras object. Consider renaming <class 'keras.layers.recurrent.LSTMCell'> to avoid naming conflicts when loading with `tf.keras.models.load_model`. If renaming is not possible, pass the object in the `custom_objects` parameter of the load function.\n"
          ]
        },
        {
          "output_type": "stream",
          "name": "stdout",
          "text": [
            "\b\b\b\b\b\b\b\b\b\b\b\b\b\b\b\b\b\b\b\b\b\b\b\b\b\b\b\b\b\b\b\b\b\b\b\b\b\b\b\b\b\b\b\b\b\b\b\b\b\b\b\b\b\b\b\b\b\b\b\b\b\b\b\b\b\b\b\b\b\b\b\b\b\b\b\b\b\b\b\b\b\b\b\b\b\b\b\b\b\b\b\b\b\b\b\b\b\r47/47 [==============================] - 5s 101ms/step - loss: 9.6091e-04 - root_mean_squared_error: 0.0310 - val_loss: 2.6011e-04 - val_root_mean_squared_error: 0.0161\n",
            "Epoch 3/300\n",
            "41/47 [=========================>....] - ETA: 0s - loss: 1.9563e-04 - root_mean_squared_error: 0.0140"
          ]
        },
        {
          "output_type": "stream",
          "name": "stderr",
          "text": [
            "WARNING:absl:Found untraced functions such as lstm_cell_layer_call_fn, lstm_cell_layer_call_and_return_conditional_losses while saving (showing 2 of 2). These functions will not be directly callable after loading.\n",
            "WARNING:absl:<keras.layers.recurrent.LSTMCell object at 0x7f3675433d50> has the same name 'LSTMCell' as a built-in Keras object. Consider renaming <class 'keras.layers.recurrent.LSTMCell'> to avoid naming conflicts when loading with `tf.keras.models.load_model`. If renaming is not possible, pass the object in the `custom_objects` parameter of the load function.\n"
          ]
        },
        {
          "output_type": "stream",
          "name": "stdout",
          "text": [
            "\b\b\b\b\b\b\b\b\b\b\b\b\b\b\b\b\b\b\b\b\b\b\b\b\b\b\b\b\b\b\b\b\b\b\b\b\b\b\b\b\b\b\b\b\b\b\b\b\b\b\b\b\b\b\b\b\b\b\b\b\b\b\b\b\b\b\b\b\b\b\b\b\b\b\b\b\b\b\b\b\b\b\b\b\b\b\b\b\b\b\b\b\b\b\b\b\b\b\b\b\b\r47/47 [==============================] - 5s 103ms/step - loss: 1.9982e-04 - root_mean_squared_error: 0.0141 - val_loss: 2.0810e-04 - val_root_mean_squared_error: 0.0144\n",
            "Epoch 4/300\n",
            "47/47 [==============================] - 0s 6ms/step - loss: 1.9639e-04 - root_mean_squared_error: 0.0140 - val_loss: 2.0916e-04 - val_root_mean_squared_error: 0.0145\n",
            "Epoch 5/300\n",
            "47/47 [==============================] - 0s 6ms/step - loss: 1.9878e-04 - root_mean_squared_error: 0.0141 - val_loss: 2.1042e-04 - val_root_mean_squared_error: 0.0145\n",
            "Epoch 6/300\n",
            "47/47 [==============================] - 0s 6ms/step - loss: 1.9584e-04 - root_mean_squared_error: 0.0140 - val_loss: 2.0855e-04 - val_root_mean_squared_error: 0.0144\n",
            "Epoch 7/300\n",
            "47/47 [==============================] - 0s 6ms/step - loss: 1.9581e-04 - root_mean_squared_error: 0.0140 - val_loss: 2.1071e-04 - val_root_mean_squared_error: 0.0145\n",
            "Epoch 8/300\n",
            "47/47 [==============================] - 0s 6ms/step - loss: 1.9556e-04 - root_mean_squared_error: 0.0140 - val_loss: 2.0910e-04 - val_root_mean_squared_error: 0.0145\n",
            "Epoch 9/300\n",
            "46/47 [============================>.] - ETA: 0s - loss: 1.9619e-04 - root_mean_squared_error: 0.0140"
          ]
        },
        {
          "output_type": "stream",
          "name": "stderr",
          "text": [
            "WARNING:absl:Found untraced functions such as lstm_cell_layer_call_fn, lstm_cell_layer_call_and_return_conditional_losses while saving (showing 2 of 2). These functions will not be directly callable after loading.\n",
            "WARNING:absl:<keras.layers.recurrent.LSTMCell object at 0x7f3675433d50> has the same name 'LSTMCell' as a built-in Keras object. Consider renaming <class 'keras.layers.recurrent.LSTMCell'> to avoid naming conflicts when loading with `tf.keras.models.load_model`. If renaming is not possible, pass the object in the `custom_objects` parameter of the load function.\n"
          ]
        },
        {
          "output_type": "stream",
          "name": "stdout",
          "text": [
            "\b\b\b\b\b\b\b\b\b\b\b\b\b\b\b\b\b\b\b\b\b\b\b\b\b\b\b\b\b\b\b\b\b\b\b\b\b\b\b\b\b\b\b\b\b\b\b\b\b\b\b\b\b\b\b\b\b\b\b\b\b\b\b\b\b\b\b\b\b\b\b\b\b\b\b\b\b\b\b\b\b\b\b\b\b\b\b\b\b\b\b\b\b\b\b\b\b\b\b\b\b\r47/47 [==============================] - 5s 101ms/step - loss: 1.9642e-04 - root_mean_squared_error: 0.0140 - val_loss: 2.0791e-04 - val_root_mean_squared_error: 0.0144\n",
            "Epoch 10/300\n",
            "47/47 [==============================] - 0s 6ms/step - loss: 1.9884e-04 - root_mean_squared_error: 0.0141 - val_loss: 2.1843e-04 - val_root_mean_squared_error: 0.0148\n",
            "Epoch 11/300\n",
            "45/47 [===========================>..] - ETA: 0s - loss: 1.9835e-04 - root_mean_squared_error: 0.0141"
          ]
        },
        {
          "output_type": "stream",
          "name": "stderr",
          "text": [
            "WARNING:absl:Found untraced functions such as lstm_cell_layer_call_fn, lstm_cell_layer_call_and_return_conditional_losses while saving (showing 2 of 2). These functions will not be directly callable after loading.\n",
            "WARNING:absl:<keras.layers.recurrent.LSTMCell object at 0x7f3675433d50> has the same name 'LSTMCell' as a built-in Keras object. Consider renaming <class 'keras.layers.recurrent.LSTMCell'> to avoid naming conflicts when loading with `tf.keras.models.load_model`. If renaming is not possible, pass the object in the `custom_objects` parameter of the load function.\n"
          ]
        },
        {
          "output_type": "stream",
          "name": "stdout",
          "text": [
            "\b\b\b\b\b\b\b\b\b\b\b\b\b\b\b\b\b\b\b\b\b\b\b\b\b\b\b\b\b\b\b\b\b\b\b\b\b\b\b\b\b\b\b\b\b\b\b\b\b\b\b\b\b\b\b\b\b\b\b\b\b\b\b\b\b\b\b\b\b\b\b\b\b\b\b\b\b\b\b\b\b\b\b\b\b\b\b\b\b\b\b\b\b\b\b\b\b\b\b\b\b\r47/47 [==============================] - 5s 107ms/step - loss: 1.9651e-04 - root_mean_squared_error: 0.0140 - val_loss: 2.0763e-04 - val_root_mean_squared_error: 0.0144\n",
            "Epoch 12/300\n",
            "47/47 [==============================] - 0s 6ms/step - loss: 1.9502e-04 - root_mean_squared_error: 0.0140 - val_loss: 2.0822e-04 - val_root_mean_squared_error: 0.0144\n",
            "Epoch 13/300\n",
            "44/47 [===========================>..] - ETA: 0s - loss: 1.9627e-04 - root_mean_squared_error: 0.0140"
          ]
        },
        {
          "output_type": "stream",
          "name": "stderr",
          "text": [
            "WARNING:absl:Found untraced functions such as lstm_cell_layer_call_fn, lstm_cell_layer_call_and_return_conditional_losses while saving (showing 2 of 2). These functions will not be directly callable after loading.\n",
            "WARNING:absl:<keras.layers.recurrent.LSTMCell object at 0x7f3675433d50> has the same name 'LSTMCell' as a built-in Keras object. Consider renaming <class 'keras.layers.recurrent.LSTMCell'> to avoid naming conflicts when loading with `tf.keras.models.load_model`. If renaming is not possible, pass the object in the `custom_objects` parameter of the load function.\n"
          ]
        },
        {
          "output_type": "stream",
          "name": "stdout",
          "text": [
            "\b\b\b\b\b\b\b\b\b\b\b\b\b\b\b\b\b\b\b\b\b\b\b\b\b\b\b\b\b\b\b\b\b\b\b\b\b\b\b\b\b\b\b\b\b\b\b\b\b\b\b\b\b\b\b\b\b\b\b\b\b\b\b\b\b\b\b\b\b\b\b\b\b\b\b\b\b\b\b\b\b\b\b\b\b\b\b\b\b\b\b\b\b\b\b\b\b\b\b\b\b\r47/47 [==============================] - 5s 99ms/step - loss: 1.9468e-04 - root_mean_squared_error: 0.0140 - val_loss: 2.0726e-04 - val_root_mean_squared_error: 0.0144\n",
            "Epoch 14/300\n",
            "47/47 [==============================] - 0s 5ms/step - loss: 1.9594e-04 - root_mean_squared_error: 0.0140 - val_loss: 2.0727e-04 - val_root_mean_squared_error: 0.0144\n",
            "Epoch 15/300\n",
            "45/47 [===========================>..] - ETA: 0s - loss: 1.9701e-04 - root_mean_squared_error: 0.0140"
          ]
        },
        {
          "output_type": "stream",
          "name": "stderr",
          "text": [
            "WARNING:absl:Found untraced functions such as lstm_cell_layer_call_fn, lstm_cell_layer_call_and_return_conditional_losses while saving (showing 2 of 2). These functions will not be directly callable after loading.\n",
            "WARNING:absl:<keras.layers.recurrent.LSTMCell object at 0x7f3675433d50> has the same name 'LSTMCell' as a built-in Keras object. Consider renaming <class 'keras.layers.recurrent.LSTMCell'> to avoid naming conflicts when loading with `tf.keras.models.load_model`. If renaming is not possible, pass the object in the `custom_objects` parameter of the load function.\n"
          ]
        },
        {
          "output_type": "stream",
          "name": "stdout",
          "text": [
            "\b\b\b\b\b\b\b\b\b\b\b\b\b\b\b\b\b\b\b\b\b\b\b\b\b\b\b\b\b\b\b\b\b\b\b\b\b\b\b\b\b\b\b\b\b\b\b\b\b\b\b\b\b\b\b\b\b\b\b\b\b\b\b\b\b\b\b\b\b\b\b\b\b\b\b\b\b\b\b\b\b\b\b\b\b\b\b\b\b\b\b\b\b\b\b\b\b\b\b\b\b\r47/47 [==============================] - 5s 106ms/step - loss: 1.9625e-04 - root_mean_squared_error: 0.0140 - val_loss: 2.0705e-04 - val_root_mean_squared_error: 0.0144\n",
            "Epoch 16/300\n",
            "47/47 [==============================] - 0s 5ms/step - loss: 1.9967e-04 - root_mean_squared_error: 0.0141 - val_loss: 2.2116e-04 - val_root_mean_squared_error: 0.0149\n",
            "Epoch 17/300\n",
            "47/47 [==============================] - 0s 6ms/step - loss: 1.9710e-04 - root_mean_squared_error: 0.0140 - val_loss: 2.0927e-04 - val_root_mean_squared_error: 0.0145\n",
            "Epoch 18/300\n",
            "47/47 [==============================] - 0s 6ms/step - loss: 1.9711e-04 - root_mean_squared_error: 0.0140 - val_loss: 2.0750e-04 - val_root_mean_squared_error: 0.0144\n",
            "Epoch 19/300\n",
            "47/47 [==============================] - 0s 5ms/step - loss: 1.9624e-04 - root_mean_squared_error: 0.0140 - val_loss: 2.0766e-04 - val_root_mean_squared_error: 0.0144\n",
            "Epoch 20/300\n",
            "47/47 [==============================] - 0s 5ms/step - loss: 1.9538e-04 - root_mean_squared_error: 0.0140 - val_loss: 2.0883e-04 - val_root_mean_squared_error: 0.0145\n",
            "Epoch 21/300\n",
            "47/47 [==============================] - 0s 6ms/step - loss: 1.9748e-04 - root_mean_squared_error: 0.0141 - val_loss: 2.0939e-04 - val_root_mean_squared_error: 0.0145\n",
            "Epoch 22/300\n",
            "47/47 [==============================] - 0s 5ms/step - loss: 1.9767e-04 - root_mean_squared_error: 0.0141 - val_loss: 2.2360e-04 - val_root_mean_squared_error: 0.0150\n",
            "Epoch 23/300\n",
            "46/47 [============================>.] - ETA: 0s - loss: 1.9968e-04 - root_mean_squared_error: 0.0141"
          ]
        },
        {
          "output_type": "stream",
          "name": "stderr",
          "text": [
            "WARNING:absl:Found untraced functions such as lstm_cell_layer_call_fn, lstm_cell_layer_call_and_return_conditional_losses while saving (showing 2 of 2). These functions will not be directly callable after loading.\n",
            "WARNING:absl:<keras.layers.recurrent.LSTMCell object at 0x7f3675433d50> has the same name 'LSTMCell' as a built-in Keras object. Consider renaming <class 'keras.layers.recurrent.LSTMCell'> to avoid naming conflicts when loading with `tf.keras.models.load_model`. If renaming is not possible, pass the object in the `custom_objects` parameter of the load function.\n"
          ]
        },
        {
          "output_type": "stream",
          "name": "stdout",
          "text": [
            "\b\b\b\b\b\b\b\b\b\b\b\b\b\b\b\b\b\b\b\b\b\b\b\b\b\b\b\b\b\b\b\b\b\b\b\b\b\b\b\b\b\b\b\b\b\b\b\b\b\b\b\b\b\b\b\b\b\b\b\b\b\b\b\b\b\b\b\b\b\b\b\b\b\b\b\b\b\b\b\b\b\b\b\b\b\b\b\b\b\b\b\b\b\b\b\b\b\b\b\b\b\r47/47 [==============================] - 6s 121ms/step - loss: 1.9849e-04 - root_mean_squared_error: 0.0141 - val_loss: 2.0667e-04 - val_root_mean_squared_error: 0.0144\n",
            "Epoch 24/300\n",
            "47/47 [==============================] - 0s 6ms/step - loss: 1.9411e-04 - root_mean_squared_error: 0.0139 - val_loss: 2.0869e-04 - val_root_mean_squared_error: 0.0144\n",
            "Epoch 25/300\n",
            "38/47 [=======================>......] - ETA: 0s - loss: 1.9788e-04 - root_mean_squared_error: 0.0141"
          ]
        },
        {
          "output_type": "stream",
          "name": "stderr",
          "text": [
            "WARNING:absl:Found untraced functions such as lstm_cell_layer_call_fn, lstm_cell_layer_call_and_return_conditional_losses while saving (showing 2 of 2). These functions will not be directly callable after loading.\n",
            "WARNING:absl:<keras.layers.recurrent.LSTMCell object at 0x7f3675433d50> has the same name 'LSTMCell' as a built-in Keras object. Consider renaming <class 'keras.layers.recurrent.LSTMCell'> to avoid naming conflicts when loading with `tf.keras.models.load_model`. If renaming is not possible, pass the object in the `custom_objects` parameter of the load function.\n"
          ]
        },
        {
          "output_type": "stream",
          "name": "stdout",
          "text": [
            "\b\b\b\b\b\b\b\b\b\b\b\b\b\b\b\b\b\b\b\b\b\b\b\b\b\b\b\b\b\b\b\b\b\b\b\b\b\b\b\b\b\b\b\b\b\b\b\b\b\b\b\b\b\b\b\b\b\b\b\b\b\b\b\b\b\b\b\b\b\b\b\b\b\b\b\b\b\b\b\b\b\b\b\b\b\b\b\b\b\b\b\b\b\b\b\b\b\b\b\b\b\r47/47 [==============================] - 5s 116ms/step - loss: 1.9710e-04 - root_mean_squared_error: 0.0140 - val_loss: 2.0551e-04 - val_root_mean_squared_error: 0.0143\n",
            "Epoch 26/300\n",
            "47/47 [==============================] - 0s 7ms/step - loss: 2.0137e-04 - root_mean_squared_error: 0.0142 - val_loss: 2.1132e-04 - val_root_mean_squared_error: 0.0145\n",
            "Epoch 27/300\n",
            "43/47 [==========================>...] - ETA: 0s - loss: 2.0239e-04 - root_mean_squared_error: 0.0142"
          ]
        },
        {
          "output_type": "stream",
          "name": "stderr",
          "text": [
            "WARNING:absl:Found untraced functions such as lstm_cell_layer_call_fn, lstm_cell_layer_call_and_return_conditional_losses while saving (showing 2 of 2). These functions will not be directly callable after loading.\n",
            "WARNING:absl:<keras.layers.recurrent.LSTMCell object at 0x7f3675433d50> has the same name 'LSTMCell' as a built-in Keras object. Consider renaming <class 'keras.layers.recurrent.LSTMCell'> to avoid naming conflicts when loading with `tf.keras.models.load_model`. If renaming is not possible, pass the object in the `custom_objects` parameter of the load function.\n"
          ]
        },
        {
          "output_type": "stream",
          "name": "stdout",
          "text": [
            "\b\b\b\b\b\b\b\b\b\b\b\b\b\b\b\b\b\b\b\b\b\b\b\b\b\b\b\b\b\b\b\b\b\b\b\b\b\b\b\b\b\b\b\b\b\b\b\b\b\b\b\b\b\b\b\b\b\b\b\b\b\b\b\b\b\b\b\b\b\b\b\b\b\b\b\b\b\b\b\b\b\b\b\b\b\b\b\b\b\b\b\b\b\b\b\b\b\b\b\b\b\r47/47 [==============================] - 6s 119ms/step - loss: 2.0412e-04 - root_mean_squared_error: 0.0143 - val_loss: 2.0479e-04 - val_root_mean_squared_error: 0.0143\n",
            "Epoch 28/300\n",
            "47/47 [==============================] - 0s 6ms/step - loss: 2.0082e-04 - root_mean_squared_error: 0.0142 - val_loss: 2.0956e-04 - val_root_mean_squared_error: 0.0145\n",
            "Epoch 29/300\n",
            "47/47 [==============================] - 0s 6ms/step - loss: 2.0034e-04 - root_mean_squared_error: 0.0142 - val_loss: 2.1691e-04 - val_root_mean_squared_error: 0.0147\n",
            "Epoch 30/300\n",
            "46/47 [============================>.] - ETA: 0s - loss: 2.0481e-04 - root_mean_squared_error: 0.0143"
          ]
        },
        {
          "output_type": "stream",
          "name": "stderr",
          "text": [
            "WARNING:absl:Found untraced functions such as lstm_cell_layer_call_fn, lstm_cell_layer_call_and_return_conditional_losses while saving (showing 2 of 2). These functions will not be directly callable after loading.\n",
            "WARNING:absl:<keras.layers.recurrent.LSTMCell object at 0x7f3675433d50> has the same name 'LSTMCell' as a built-in Keras object. Consider renaming <class 'keras.layers.recurrent.LSTMCell'> to avoid naming conflicts when loading with `tf.keras.models.load_model`. If renaming is not possible, pass the object in the `custom_objects` parameter of the load function.\n"
          ]
        },
        {
          "output_type": "stream",
          "name": "stdout",
          "text": [
            "\b\b\b\b\b\b\b\b\b\b\b\b\b\b\b\b\b\b\b\b\b\b\b\b\b\b\b\b\b\b\b\b\b\b\b\b\b\b\b\b\b\b\b\b\b\b\b\b\b\b\b\b\b\b\b\b\b\b\b\b\b\b\b\b\b\b\b\b\b\b\b\b\b\b\b\b\b\b\b\b\b\b\b\b\b\b\b\b\b\b\b\b\b\b\b\b\b\b\b\b\b\r47/47 [==============================] - 6s 130ms/step - loss: 2.0451e-04 - root_mean_squared_error: 0.0143 - val_loss: 2.0447e-04 - val_root_mean_squared_error: 0.0143\n",
            "Epoch 31/300\n",
            "47/47 [==============================] - 0s 6ms/step - loss: 1.9648e-04 - root_mean_squared_error: 0.0140 - val_loss: 2.0677e-04 - val_root_mean_squared_error: 0.0144\n",
            "Epoch 32/300\n",
            "47/47 [==============================] - 0s 6ms/step - loss: 1.9424e-04 - root_mean_squared_error: 0.0139 - val_loss: 2.0690e-04 - val_root_mean_squared_error: 0.0144\n",
            "Epoch 33/300\n",
            "40/47 [========================>.....] - ETA: 0s - loss: 1.9437e-04 - root_mean_squared_error: 0.0139"
          ]
        },
        {
          "output_type": "stream",
          "name": "stderr",
          "text": [
            "WARNING:absl:Found untraced functions such as lstm_cell_layer_call_fn, lstm_cell_layer_call_and_return_conditional_losses while saving (showing 2 of 2). These functions will not be directly callable after loading.\n",
            "WARNING:absl:<keras.layers.recurrent.LSTMCell object at 0x7f3675433d50> has the same name 'LSTMCell' as a built-in Keras object. Consider renaming <class 'keras.layers.recurrent.LSTMCell'> to avoid naming conflicts when loading with `tf.keras.models.load_model`. If renaming is not possible, pass the object in the `custom_objects` parameter of the load function.\n"
          ]
        },
        {
          "output_type": "stream",
          "name": "stdout",
          "text": [
            "\b\b\b\b\b\b\b\b\b\b\b\b\b\b\b\b\b\b\b\b\b\b\b\b\b\b\b\b\b\b\b\b\b\b\b\b\b\b\b\b\b\b\b\b\b\b\b\b\b\b\b\b\b\b\b\b\b\b\b\b\b\b\b\b\b\b\b\b\b\b\b\b\b\b\b\b\b\b\b\b\b\b\b\b\b\b\b\b\b\b\b\b\b\b\b\b\b\b\b\b\b\r47/47 [==============================] - 5s 110ms/step - loss: 1.9289e-04 - root_mean_squared_error: 0.0139 - val_loss: 2.0297e-04 - val_root_mean_squared_error: 0.0142\n",
            "Epoch 34/300\n",
            "47/47 [==============================] - 0s 6ms/step - loss: 2.0230e-04 - root_mean_squared_error: 0.0142 - val_loss: 2.0682e-04 - val_root_mean_squared_error: 0.0144\n",
            "Epoch 35/300\n",
            "47/47 [==============================] - 0s 6ms/step - loss: 1.9699e-04 - root_mean_squared_error: 0.0140 - val_loss: 2.4271e-04 - val_root_mean_squared_error: 0.0156\n",
            "Epoch 36/300\n",
            "44/47 [===========================>..] - ETA: 0s - loss: 1.9764e-04 - root_mean_squared_error: 0.0141"
          ]
        },
        {
          "output_type": "stream",
          "name": "stderr",
          "text": [
            "WARNING:absl:Found untraced functions such as lstm_cell_layer_call_fn, lstm_cell_layer_call_and_return_conditional_losses while saving (showing 2 of 2). These functions will not be directly callable after loading.\n",
            "WARNING:absl:<keras.layers.recurrent.LSTMCell object at 0x7f3675433d50> has the same name 'LSTMCell' as a built-in Keras object. Consider renaming <class 'keras.layers.recurrent.LSTMCell'> to avoid naming conflicts when loading with `tf.keras.models.load_model`. If renaming is not possible, pass the object in the `custom_objects` parameter of the load function.\n"
          ]
        },
        {
          "output_type": "stream",
          "name": "stdout",
          "text": [
            "\b\b\b\b\b\b\b\b\b\b\b\b\b\b\b\b\b\b\b\b\b\b\b\b\b\b\b\b\b\b\b\b\b\b\b\b\b\b\b\b\b\b\b\b\b\b\b\b\b\b\b\b\b\b\b\b\b\b\b\b\b\b\b\b\b\b\b\b\b\b\b\b\b\b\b\b\b\b\b\b\b\b\b\b\b\b\b\b\b\b\b\b\b\b\b\b\b\b\b\b\b\r47/47 [==============================] - 5s 108ms/step - loss: 1.9557e-04 - root_mean_squared_error: 0.0140 - val_loss: 2.0208e-04 - val_root_mean_squared_error: 0.0142\n",
            "Epoch 37/300\n",
            "47/47 [==============================] - 0s 6ms/step - loss: 1.9239e-04 - root_mean_squared_error: 0.0139 - val_loss: 2.0274e-04 - val_root_mean_squared_error: 0.0142\n",
            "Epoch 38/300\n",
            "47/47 [==============================] - 0s 5ms/step - loss: 1.9448e-04 - root_mean_squared_error: 0.0139 - val_loss: 2.0776e-04 - val_root_mean_squared_error: 0.0144\n",
            "Epoch 39/300\n",
            "47/47 [==============================] - 0s 6ms/step - loss: 2.0186e-04 - root_mean_squared_error: 0.0142 - val_loss: 2.5568e-04 - val_root_mean_squared_error: 0.0160\n",
            "Epoch 40/300\n",
            "47/47 [==============================] - 0s 6ms/step - loss: 1.9702e-04 - root_mean_squared_error: 0.0140 - val_loss: 2.0934e-04 - val_root_mean_squared_error: 0.0145\n",
            "Epoch 41/300\n",
            "47/47 [==============================] - 0s 6ms/step - loss: 1.9085e-04 - root_mean_squared_error: 0.0138 - val_loss: 2.0301e-04 - val_root_mean_squared_error: 0.0142\n",
            "Epoch 42/300\n",
            "47/47 [==============================] - 0s 6ms/step - loss: 1.9406e-04 - root_mean_squared_error: 0.0139 - val_loss: 2.0790e-04 - val_root_mean_squared_error: 0.0144\n",
            "Epoch 43/300\n",
            "47/47 [==============================] - 0s 6ms/step - loss: 1.9199e-04 - root_mean_squared_error: 0.0139 - val_loss: 2.0435e-04 - val_root_mean_squared_error: 0.0143\n",
            "Epoch 44/300\n",
            "47/47 [==============================] - 0s 5ms/step - loss: 1.9164e-04 - root_mean_squared_error: 0.0138 - val_loss: 2.0639e-04 - val_root_mean_squared_error: 0.0144\n",
            "Epoch 45/300\n",
            "47/47 [==============================] - 0s 5ms/step - loss: 1.9174e-04 - root_mean_squared_error: 0.0138 - val_loss: 2.0349e-04 - val_root_mean_squared_error: 0.0143\n",
            "Epoch 46/300\n",
            "45/47 [===========================>..] - ETA: 0s - loss: 1.9108e-04 - root_mean_squared_error: 0.0138"
          ]
        },
        {
          "output_type": "stream",
          "name": "stderr",
          "text": [
            "WARNING:absl:Found untraced functions such as lstm_cell_layer_call_fn, lstm_cell_layer_call_and_return_conditional_losses while saving (showing 2 of 2). These functions will not be directly callable after loading.\n",
            "WARNING:absl:<keras.layers.recurrent.LSTMCell object at 0x7f3675433d50> has the same name 'LSTMCell' as a built-in Keras object. Consider renaming <class 'keras.layers.recurrent.LSTMCell'> to avoid naming conflicts when loading with `tf.keras.models.load_model`. If renaming is not possible, pass the object in the `custom_objects` parameter of the load function.\n"
          ]
        },
        {
          "output_type": "stream",
          "name": "stdout",
          "text": [
            "\b\b\b\b\b\b\b\b\b\b\b\b\b\b\b\b\b\b\b\b\b\b\b\b\b\b\b\b\b\b\b\b\b\b\b\b\b\b\b\b\b\b\b\b\b\b\b\b\b\b\b\b\b\b\b\b\b\b\b\b\b\b\b\b\b\b\b\b\b\b\b\b\b\b\b\b\b\b\b\b\b\b\b\b\b\b\b\b\b\b\b\b\b\b\b\b\b\b\b\b\b\r47/47 [==============================] - 4s 96ms/step - loss: 1.9097e-04 - root_mean_squared_error: 0.0138 - val_loss: 1.9929e-04 - val_root_mean_squared_error: 0.0141\n",
            "Epoch 47/300\n",
            "47/47 [==============================] - 0s 5ms/step - loss: 2.0329e-04 - root_mean_squared_error: 0.0143 - val_loss: 2.0968e-04 - val_root_mean_squared_error: 0.0145\n",
            "Epoch 48/300\n",
            "47/47 [==============================] - 0s 5ms/step - loss: 2.0172e-04 - root_mean_squared_error: 0.0142 - val_loss: 2.3271e-04 - val_root_mean_squared_error: 0.0153\n",
            "Epoch 49/300\n",
            "47/47 [==============================] - 0s 6ms/step - loss: 1.9257e-04 - root_mean_squared_error: 0.0139 - val_loss: 2.0177e-04 - val_root_mean_squared_error: 0.0142\n",
            "Epoch 50/300\n",
            "47/47 [==============================] - ETA: 0s - loss: 1.8922e-04 - root_mean_squared_error: 0.0138"
          ]
        },
        {
          "output_type": "stream",
          "name": "stderr",
          "text": [
            "WARNING:absl:Found untraced functions such as lstm_cell_layer_call_fn, lstm_cell_layer_call_and_return_conditional_losses while saving (showing 2 of 2). These functions will not be directly callable after loading.\n",
            "WARNING:absl:<keras.layers.recurrent.LSTMCell object at 0x7f3675433d50> has the same name 'LSTMCell' as a built-in Keras object. Consider renaming <class 'keras.layers.recurrent.LSTMCell'> to avoid naming conflicts when loading with `tf.keras.models.load_model`. If renaming is not possible, pass the object in the `custom_objects` parameter of the load function.\n"
          ]
        },
        {
          "output_type": "stream",
          "name": "stdout",
          "text": [
            "\b\b\b\b\b\b\b\b\b\b\b\b\b\b\b\b\b\b\b\b\b\b\b\b\b\b\b\b\b\b\b\b\b\b\b\b\b\b\b\b\b\b\b\b\b\b\b\b\b\b\b\b\b\b\b\b\b\b\b\b\b\b\b\b\b\b\b\b\b\b\b\b\b\b\b\b\b\b\b\b\b\b\b\b\b\b\b\b\b\b\b\b\b\b\b\b\b\b\b\b\b\r47/47 [==============================] - 5s 114ms/step - loss: 1.8922e-04 - root_mean_squared_error: 0.0138 - val_loss: 1.9714e-04 - val_root_mean_squared_error: 0.0140\n",
            "Epoch 51/300\n",
            "47/47 [==============================] - 0s 6ms/step - loss: 1.9525e-04 - root_mean_squared_error: 0.0140 - val_loss: 2.0355e-04 - val_root_mean_squared_error: 0.0143\n",
            "Epoch 52/300\n",
            "47/47 [==============================] - 0s 7ms/step - loss: 1.8799e-04 - root_mean_squared_error: 0.0137 - val_loss: 2.0242e-04 - val_root_mean_squared_error: 0.0142\n",
            "Epoch 53/300\n",
            "47/47 [==============================] - 0s 6ms/step - loss: 1.9530e-04 - root_mean_squared_error: 0.0140 - val_loss: 2.1304e-04 - val_root_mean_squared_error: 0.0146\n",
            "Epoch 54/300\n",
            "46/47 [============================>.] - ETA: 0s - loss: 2.0422e-04 - root_mean_squared_error: 0.0143"
          ]
        },
        {
          "output_type": "stream",
          "name": "stderr",
          "text": [
            "WARNING:absl:Found untraced functions such as lstm_cell_layer_call_fn, lstm_cell_layer_call_and_return_conditional_losses while saving (showing 2 of 2). These functions will not be directly callable after loading.\n",
            "WARNING:absl:<keras.layers.recurrent.LSTMCell object at 0x7f3675433d50> has the same name 'LSTMCell' as a built-in Keras object. Consider renaming <class 'keras.layers.recurrent.LSTMCell'> to avoid naming conflicts when loading with `tf.keras.models.load_model`. If renaming is not possible, pass the object in the `custom_objects` parameter of the load function.\n"
          ]
        },
        {
          "output_type": "stream",
          "name": "stdout",
          "text": [
            "\b\b\b\b\b\b\b\b\b\b\b\b\b\b\b\b\b\b\b\b\b\b\b\b\b\b\b\b\b\b\b\b\b\b\b\b\b\b\b\b\b\b\b\b\b\b\b\b\b\b\b\b\b\b\b\b\b\b\b\b\b\b\b\b\b\b\b\b\b\b\b\b\b\b\b\b\b\b\b\b\b\b\b\b\b\b\b\b\b\b\b\b\b\b\b\b\b\b\b\b\b\r47/47 [==============================] - 5s 108ms/step - loss: 2.0328e-04 - root_mean_squared_error: 0.0143 - val_loss: 1.9602e-04 - val_root_mean_squared_error: 0.0140\n",
            "Epoch 55/300\n",
            "47/47 [==============================] - 0s 6ms/step - loss: 1.9679e-04 - root_mean_squared_error: 0.0140 - val_loss: 1.9995e-04 - val_root_mean_squared_error: 0.0141\n",
            "Epoch 56/300\n",
            "46/47 [============================>.] - ETA: 0s - loss: 1.8528e-04 - root_mean_squared_error: 0.0136"
          ]
        },
        {
          "output_type": "stream",
          "name": "stderr",
          "text": [
            "WARNING:absl:Found untraced functions such as lstm_cell_layer_call_fn, lstm_cell_layer_call_and_return_conditional_losses while saving (showing 2 of 2). These functions will not be directly callable after loading.\n",
            "WARNING:absl:<keras.layers.recurrent.LSTMCell object at 0x7f3675433d50> has the same name 'LSTMCell' as a built-in Keras object. Consider renaming <class 'keras.layers.recurrent.LSTMCell'> to avoid naming conflicts when loading with `tf.keras.models.load_model`. If renaming is not possible, pass the object in the `custom_objects` parameter of the load function.\n"
          ]
        },
        {
          "output_type": "stream",
          "name": "stdout",
          "text": [
            "\b\b\b\b\b\b\b\b\b\b\b\b\b\b\b\b\b\b\b\b\b\b\b\b\b\b\b\b\b\b\b\b\b\b\b\b\b\b\b\b\b\b\b\b\b\b\b\b\b\b\b\b\b\b\b\b\b\b\b\b\b\b\b\b\b\b\b\b\b\b\b\b\b\b\b\b\b\b\b\b\b\b\b\b\b\b\b\b\b\b\b\b\b\b\b\b\b\b\b\b\b\r47/47 [==============================] - 4s 94ms/step - loss: 1.8724e-04 - root_mean_squared_error: 0.0137 - val_loss: 1.9566e-04 - val_root_mean_squared_error: 0.0140\n",
            "Epoch 57/300\n",
            "47/47 [==============================] - 0s 5ms/step - loss: 2.0569e-04 - root_mean_squared_error: 0.0143 - val_loss: 2.0685e-04 - val_root_mean_squared_error: 0.0144\n",
            "Epoch 58/300\n",
            "47/47 [==============================] - 0s 5ms/step - loss: 1.9685e-04 - root_mean_squared_error: 0.0140 - val_loss: 2.0037e-04 - val_root_mean_squared_error: 0.0142\n",
            "Epoch 59/300\n",
            "43/47 [==========================>...] - ETA: 0s - loss: 1.8782e-04 - root_mean_squared_error: 0.0137"
          ]
        },
        {
          "output_type": "stream",
          "name": "stderr",
          "text": [
            "WARNING:absl:Found untraced functions such as lstm_cell_layer_call_fn, lstm_cell_layer_call_and_return_conditional_losses while saving (showing 2 of 2). These functions will not be directly callable after loading.\n",
            "WARNING:absl:<keras.layers.recurrent.LSTMCell object at 0x7f3675433d50> has the same name 'LSTMCell' as a built-in Keras object. Consider renaming <class 'keras.layers.recurrent.LSTMCell'> to avoid naming conflicts when loading with `tf.keras.models.load_model`. If renaming is not possible, pass the object in the `custom_objects` parameter of the load function.\n"
          ]
        },
        {
          "output_type": "stream",
          "name": "stdout",
          "text": [
            "\b\b\b\b\b\b\b\b\b\b\b\b\b\b\b\b\b\b\b\b\b\b\b\b\b\b\b\b\b\b\b\b\b\b\b\b\b\b\b\b\b\b\b\b\b\b\b\b\b\b\b\b\b\b\b\b\b\b\b\b\b\b\b\b\b\b\b\b\b\b\b\b\b\b\b\b\b\b\b\b\b\b\b\b\b\b\b\b\b\b\b\b\b\b\b\b\b\b\b\b\b\r47/47 [==============================] - 5s 111ms/step - loss: 1.8886e-04 - root_mean_squared_error: 0.0137 - val_loss: 1.9368e-04 - val_root_mean_squared_error: 0.0139\n",
            "Epoch 60/300\n",
            "47/47 [==============================] - 0s 7ms/step - loss: 1.9117e-04 - root_mean_squared_error: 0.0138 - val_loss: 1.9421e-04 - val_root_mean_squared_error: 0.0139\n",
            "Epoch 61/300\n",
            "47/47 [==============================] - 0s 7ms/step - loss: 1.8913e-04 - root_mean_squared_error: 0.0138 - val_loss: 2.1853e-04 - val_root_mean_squared_error: 0.0148\n",
            "Epoch 62/300\n",
            "47/47 [==============================] - 0s 6ms/step - loss: 1.8923e-04 - root_mean_squared_error: 0.0138 - val_loss: 2.0026e-04 - val_root_mean_squared_error: 0.0142\n",
            "Epoch 63/300\n",
            "47/47 [==============================] - 0s 6ms/step - loss: 1.8218e-04 - root_mean_squared_error: 0.0135 - val_loss: 1.9463e-04 - val_root_mean_squared_error: 0.0140\n",
            "Epoch 64/300\n",
            "47/47 [==============================] - 0s 6ms/step - loss: 2.0326e-04 - root_mean_squared_error: 0.0143 - val_loss: 3.5111e-04 - val_root_mean_squared_error: 0.0187\n",
            "Epoch 65/300\n",
            "47/47 [==============================] - 0s 6ms/step - loss: 2.0118e-04 - root_mean_squared_error: 0.0142 - val_loss: 1.9974e-04 - val_root_mean_squared_error: 0.0141\n",
            "Epoch 66/300\n",
            "47/47 [==============================] - 0s 6ms/step - loss: 1.8271e-04 - root_mean_squared_error: 0.0135 - val_loss: 2.0486e-04 - val_root_mean_squared_error: 0.0143\n",
            "Epoch 67/300\n",
            "41/47 [=========================>....] - ETA: 0s - loss: 1.9258e-04 - root_mean_squared_error: 0.0139"
          ]
        },
        {
          "output_type": "stream",
          "name": "stderr",
          "text": [
            "WARNING:absl:Found untraced functions such as lstm_cell_layer_call_fn, lstm_cell_layer_call_and_return_conditional_losses while saving (showing 2 of 2). These functions will not be directly callable after loading.\n",
            "WARNING:absl:<keras.layers.recurrent.LSTMCell object at 0x7f3675433d50> has the same name 'LSTMCell' as a built-in Keras object. Consider renaming <class 'keras.layers.recurrent.LSTMCell'> to avoid naming conflicts when loading with `tf.keras.models.load_model`. If renaming is not possible, pass the object in the `custom_objects` parameter of the load function.\n"
          ]
        },
        {
          "output_type": "stream",
          "name": "stdout",
          "text": [
            "\b\b\b\b\b\b\b\b\b\b\b\b\b\b\b\b\b\b\b\b\b\b\b\b\b\b\b\b\b\b\b\b\b\b\b\b\b\b\b\b\b\b\b\b\b\b\b\b\b\b\b\b\b\b\b\b\b\b\b\b\b\b\b\b\b\b\b\b\b\b\b\b\b\b\b\b\b\b\b\b\b\b\b\b\b\b\b\b\b\b\b\b\b\b\b\b\b\b\b\b\b\r47/47 [==============================] - 5s 111ms/step - loss: 1.9331e-04 - root_mean_squared_error: 0.0139 - val_loss: 1.9194e-04 - val_root_mean_squared_error: 0.0139\n",
            "Epoch 68/300\n",
            "46/47 [============================>.] - ETA: 0s - loss: 2.0894e-04 - root_mean_squared_error: 0.0145"
          ]
        },
        {
          "output_type": "stream",
          "name": "stderr",
          "text": [
            "WARNING:absl:Found untraced functions such as lstm_cell_layer_call_fn, lstm_cell_layer_call_and_return_conditional_losses while saving (showing 2 of 2). These functions will not be directly callable after loading.\n",
            "WARNING:absl:<keras.layers.recurrent.LSTMCell object at 0x7f3675433d50> has the same name 'LSTMCell' as a built-in Keras object. Consider renaming <class 'keras.layers.recurrent.LSTMCell'> to avoid naming conflicts when loading with `tf.keras.models.load_model`. If renaming is not possible, pass the object in the `custom_objects` parameter of the load function.\n"
          ]
        },
        {
          "output_type": "stream",
          "name": "stdout",
          "text": [
            "\b\b\b\b\b\b\b\b\b\b\b\b\b\b\b\b\b\b\b\b\b\b\b\b\b\b\b\b\b\b\b\b\b\b\b\b\b\b\b\b\b\b\b\b\b\b\b\b\b\b\b\b\b\b\b\b\b\b\b\b\b\b\b\b\b\b\b\b\b\b\b\b\b\b\b\b\b\b\b\b\b\b\b\b\b\b\b\b\b\b\b\b\b\b\b\b\b\b\b\b\b\r47/47 [==============================] - 5s 101ms/step - loss: 2.0731e-04 - root_mean_squared_error: 0.0144 - val_loss: 1.8990e-04 - val_root_mean_squared_error: 0.0138\n",
            "Epoch 69/300\n",
            "46/47 [============================>.] - ETA: 0s - loss: 1.8374e-04 - root_mean_squared_error: 0.0136"
          ]
        },
        {
          "output_type": "stream",
          "name": "stderr",
          "text": [
            "WARNING:absl:Found untraced functions such as lstm_cell_layer_call_fn, lstm_cell_layer_call_and_return_conditional_losses while saving (showing 2 of 2). These functions will not be directly callable after loading.\n",
            "WARNING:absl:<keras.layers.recurrent.LSTMCell object at 0x7f3675433d50> has the same name 'LSTMCell' as a built-in Keras object. Consider renaming <class 'keras.layers.recurrent.LSTMCell'> to avoid naming conflicts when loading with `tf.keras.models.load_model`. If renaming is not possible, pass the object in the `custom_objects` parameter of the load function.\n"
          ]
        },
        {
          "output_type": "stream",
          "name": "stdout",
          "text": [
            "\b\b\b\b\b\b\b\b\b\b\b\b\b\b\b\b\b\b\b\b\b\b\b\b\b\b\b\b\b\b\b\b\b\b\b\b\b\b\b\b\b\b\b\b\b\b\b\b\b\b\b\b\b\b\b\b\b\b\b\b\b\b\b\b\b\b\b\b\b\b\b\b\b\b\b\b\b\b\b\b\b\b\b\b\b\b\b\b\b\b\b\b\b\b\b\b\b\b\b\b\b\r47/47 [==============================] - 5s 114ms/step - loss: 1.8344e-04 - root_mean_squared_error: 0.0135 - val_loss: 1.8798e-04 - val_root_mean_squared_error: 0.0137\n",
            "Epoch 70/300\n",
            "39/47 [=======================>......] - ETA: 0s - loss: 1.8914e-04 - root_mean_squared_error: 0.0138"
          ]
        },
        {
          "output_type": "stream",
          "name": "stderr",
          "text": [
            "WARNING:absl:Found untraced functions such as lstm_cell_layer_call_fn, lstm_cell_layer_call_and_return_conditional_losses while saving (showing 2 of 2). These functions will not be directly callable after loading.\n",
            "WARNING:absl:<keras.layers.recurrent.LSTMCell object at 0x7f3675433d50> has the same name 'LSTMCell' as a built-in Keras object. Consider renaming <class 'keras.layers.recurrent.LSTMCell'> to avoid naming conflicts when loading with `tf.keras.models.load_model`. If renaming is not possible, pass the object in the `custom_objects` parameter of the load function.\n"
          ]
        },
        {
          "output_type": "stream",
          "name": "stdout",
          "text": [
            "\b\b\b\b\b\b\b\b\b\b\b\b\b\b\b\b\b\b\b\b\b\b\b\b\b\b\b\b\b\b\b\b\b\b\b\b\b\b\b\b\b\b\b\b\b\b\b\b\b\b\b\b\b\b\b\b\b\b\b\b\b\b\b\b\b\b\b\b\b\b\b\b\b\b\b\b\b\b\b\b\b\b\b\b\b\b\b\b\b\b\b\b\b\b\b\b\b\b\b\b\b\r47/47 [==============================] - 5s 102ms/step - loss: 1.8831e-04 - root_mean_squared_error: 0.0137 - val_loss: 1.8789e-04 - val_root_mean_squared_error: 0.0137\n",
            "Epoch 71/300\n",
            "47/47 [==============================] - 0s 6ms/step - loss: 1.8160e-04 - root_mean_squared_error: 0.0135 - val_loss: 2.0594e-04 - val_root_mean_squared_error: 0.0144\n",
            "Epoch 72/300\n",
            "47/47 [==============================] - 0s 5ms/step - loss: 1.8480e-04 - root_mean_squared_error: 0.0136 - val_loss: 2.1787e-04 - val_root_mean_squared_error: 0.0148\n",
            "Epoch 73/300\n",
            "47/47 [==============================] - 0s 6ms/step - loss: 1.9161e-04 - root_mean_squared_error: 0.0138 - val_loss: 1.9465e-04 - val_root_mean_squared_error: 0.0140\n",
            "Epoch 74/300\n",
            "47/47 [==============================] - 0s 6ms/step - loss: 1.8254e-04 - root_mean_squared_error: 0.0135 - val_loss: 2.5025e-04 - val_root_mean_squared_error: 0.0158\n",
            "Epoch 75/300\n",
            "47/47 [==============================] - 0s 6ms/step - loss: 2.1528e-04 - root_mean_squared_error: 0.0147 - val_loss: 2.0496e-04 - val_root_mean_squared_error: 0.0143\n",
            "Epoch 76/300\n",
            "47/47 [==============================] - 0s 6ms/step - loss: 1.9662e-04 - root_mean_squared_error: 0.0140 - val_loss: 1.9818e-04 - val_root_mean_squared_error: 0.0141\n",
            "Epoch 77/300\n",
            "47/47 [==============================] - 0s 6ms/step - loss: 1.7551e-04 - root_mean_squared_error: 0.0132 - val_loss: 2.1255e-04 - val_root_mean_squared_error: 0.0146\n",
            "Epoch 78/300\n",
            "37/47 [======================>.......] - ETA: 0s - loss: 1.9242e-04 - root_mean_squared_error: 0.0139"
          ]
        },
        {
          "output_type": "stream",
          "name": "stderr",
          "text": [
            "WARNING:absl:Found untraced functions such as lstm_cell_layer_call_fn, lstm_cell_layer_call_and_return_conditional_losses while saving (showing 2 of 2). These functions will not be directly callable after loading.\n",
            "WARNING:absl:<keras.layers.recurrent.LSTMCell object at 0x7f3675433d50> has the same name 'LSTMCell' as a built-in Keras object. Consider renaming <class 'keras.layers.recurrent.LSTMCell'> to avoid naming conflicts when loading with `tf.keras.models.load_model`. If renaming is not possible, pass the object in the `custom_objects` parameter of the load function.\n"
          ]
        },
        {
          "output_type": "stream",
          "name": "stdout",
          "text": [
            "\b\b\b\b\b\b\b\b\b\b\b\b\b\b\b\b\b\b\b\b\b\b\b\b\b\b\b\b\b\b\b\b\b\b\b\b\b\b\b\b\b\b\b\b\b\b\b\b\b\b\b\b\b\b\b\b\b\b\b\b\b\b\b\b\b\b\b\b\b\b\b\b\b\b\b\b\b\b\b\b\b\b\b\b\b\b\b\b\b\b\b\b\b\b\b\b\b\b\b\b\b\r47/47 [==============================] - 5s 111ms/step - loss: 1.8882e-04 - root_mean_squared_error: 0.0137 - val_loss: 1.8248e-04 - val_root_mean_squared_error: 0.0135\n",
            "Epoch 79/300\n",
            "47/47 [==============================] - 0s 6ms/step - loss: 1.8634e-04 - root_mean_squared_error: 0.0137 - val_loss: 2.0482e-04 - val_root_mean_squared_error: 0.0143\n",
            "Epoch 80/300\n",
            "47/47 [==============================] - 0s 6ms/step - loss: 2.0036e-04 - root_mean_squared_error: 0.0142 - val_loss: 2.0739e-04 - val_root_mean_squared_error: 0.0144\n",
            "Epoch 81/300\n",
            "47/47 [==============================] - 0s 6ms/step - loss: 1.9110e-04 - root_mean_squared_error: 0.0138 - val_loss: 1.8728e-04 - val_root_mean_squared_error: 0.0137\n",
            "Epoch 82/300\n",
            "47/47 [==============================] - 0s 6ms/step - loss: 1.8528e-04 - root_mean_squared_error: 0.0136 - val_loss: 1.9398e-04 - val_root_mean_squared_error: 0.0139\n",
            "Epoch 83/300\n",
            "47/47 [==============================] - ETA: 0s - loss: 1.8222e-04 - root_mean_squared_error: 0.0135"
          ]
        },
        {
          "output_type": "stream",
          "name": "stderr",
          "text": [
            "WARNING:absl:Found untraced functions such as lstm_cell_layer_call_fn, lstm_cell_layer_call_and_return_conditional_losses while saving (showing 2 of 2). These functions will not be directly callable after loading.\n",
            "WARNING:absl:<keras.layers.recurrent.LSTMCell object at 0x7f3675433d50> has the same name 'LSTMCell' as a built-in Keras object. Consider renaming <class 'keras.layers.recurrent.LSTMCell'> to avoid naming conflicts when loading with `tf.keras.models.load_model`. If renaming is not possible, pass the object in the `custom_objects` parameter of the load function.\n"
          ]
        },
        {
          "output_type": "stream",
          "name": "stdout",
          "text": [
            "\b\b\b\b\b\b\b\b\b\b\b\b\b\b\b\b\b\b\b\b\b\b\b\b\b\b\b\b\b\b\b\b\b\b\b\b\b\b\b\b\b\b\b\b\b\b\b\b\b\b\b\b\b\b\b\b\b\b\b\b\b\b\b\b\b\b\b\b\b\b\b\b\b\b\b\b\b\b\b\b\b\b\b\b\b\b\b\b\b\b\b\b\b\b\b\b\b\b\b\b\b\r47/47 [==============================] - 5s 110ms/step - loss: 1.8222e-04 - root_mean_squared_error: 0.0135 - val_loss: 1.8158e-04 - val_root_mean_squared_error: 0.0135\n",
            "Epoch 84/300\n",
            "47/47 [==============================] - 0s 5ms/step - loss: 1.9168e-04 - root_mean_squared_error: 0.0138 - val_loss: 2.0265e-04 - val_root_mean_squared_error: 0.0142\n",
            "Epoch 85/300\n",
            "47/47 [==============================] - 0s 6ms/step - loss: 1.7889e-04 - root_mean_squared_error: 0.0134 - val_loss: 1.8165e-04 - val_root_mean_squared_error: 0.0135\n",
            "Epoch 86/300\n",
            "45/47 [===========================>..] - ETA: 0s - loss: 1.7762e-04 - root_mean_squared_error: 0.0133"
          ]
        },
        {
          "output_type": "stream",
          "name": "stderr",
          "text": [
            "WARNING:absl:Found untraced functions such as lstm_cell_layer_call_fn, lstm_cell_layer_call_and_return_conditional_losses while saving (showing 2 of 2). These functions will not be directly callable after loading.\n",
            "WARNING:absl:<keras.layers.recurrent.LSTMCell object at 0x7f3675433d50> has the same name 'LSTMCell' as a built-in Keras object. Consider renaming <class 'keras.layers.recurrent.LSTMCell'> to avoid naming conflicts when loading with `tf.keras.models.load_model`. If renaming is not possible, pass the object in the `custom_objects` parameter of the load function.\n"
          ]
        },
        {
          "output_type": "stream",
          "name": "stdout",
          "text": [
            "\b\b\b\b\b\b\b\b\b\b\b\b\b\b\b\b\b\b\b\b\b\b\b\b\b\b\b\b\b\b\b\b\b\b\b\b\b\b\b\b\b\b\b\b\b\b\b\b\b\b\b\b\b\b\b\b\b\b\b\b\b\b\b\b\b\b\b\b\b\b\b\b\b\b\b\b\b\b\b\b\b\b\b\b\b\b\b\b\b\b\b\b\b\b\b\b\b\b\b\b\b\r47/47 [==============================] - 5s 99ms/step - loss: 1.7751e-04 - root_mean_squared_error: 0.0133 - val_loss: 1.7735e-04 - val_root_mean_squared_error: 0.0133\n",
            "Epoch 87/300\n",
            "47/47 [==============================] - 0s 6ms/step - loss: 1.8262e-04 - root_mean_squared_error: 0.0135 - val_loss: 2.0321e-04 - val_root_mean_squared_error: 0.0143\n",
            "Epoch 88/300\n",
            "47/47 [==============================] - 0s 6ms/step - loss: 1.8429e-04 - root_mean_squared_error: 0.0136 - val_loss: 2.0687e-04 - val_root_mean_squared_error: 0.0144\n",
            "Epoch 89/300\n",
            "47/47 [==============================] - 0s 7ms/step - loss: 1.7405e-04 - root_mean_squared_error: 0.0132 - val_loss: 1.8068e-04 - val_root_mean_squared_error: 0.0134\n",
            "Epoch 90/300\n",
            "47/47 [==============================] - 0s 7ms/step - loss: 1.7898e-04 - root_mean_squared_error: 0.0134 - val_loss: 2.0492e-04 - val_root_mean_squared_error: 0.0143\n",
            "Epoch 91/300\n",
            "47/47 [==============================] - 0s 7ms/step - loss: 1.7166e-04 - root_mean_squared_error: 0.0131 - val_loss: 2.1791e-04 - val_root_mean_squared_error: 0.0148\n",
            "Epoch 92/300\n",
            "47/47 [==============================] - 0s 8ms/step - loss: 1.7779e-04 - root_mean_squared_error: 0.0133 - val_loss: 2.0997e-04 - val_root_mean_squared_error: 0.0145\n",
            "Epoch 93/300\n",
            "47/47 [==============================] - 0s 6ms/step - loss: 1.6701e-04 - root_mean_squared_error: 0.0129 - val_loss: 1.8905e-04 - val_root_mean_squared_error: 0.0137\n",
            "Epoch 94/300\n",
            "47/47 [==============================] - 0s 7ms/step - loss: 1.6439e-04 - root_mean_squared_error: 0.0128 - val_loss: 1.8397e-04 - val_root_mean_squared_error: 0.0136\n",
            "Epoch 95/300\n",
            "47/47 [==============================] - 0s 6ms/step - loss: 1.7790e-04 - root_mean_squared_error: 0.0133 - val_loss: 2.0359e-04 - val_root_mean_squared_error: 0.0143\n",
            "Epoch 96/300\n",
            "47/47 [==============================] - 0s 6ms/step - loss: 1.8998e-04 - root_mean_squared_error: 0.0138 - val_loss: 2.2014e-04 - val_root_mean_squared_error: 0.0148\n",
            "Epoch 97/300\n",
            "42/47 [=========================>....] - ETA: 0s - loss: 1.8729e-04 - root_mean_squared_error: 0.0137"
          ]
        },
        {
          "output_type": "stream",
          "name": "stderr",
          "text": [
            "WARNING:absl:Found untraced functions such as lstm_cell_layer_call_fn, lstm_cell_layer_call_and_return_conditional_losses while saving (showing 2 of 2). These functions will not be directly callable after loading.\n",
            "WARNING:absl:<keras.layers.recurrent.LSTMCell object at 0x7f3675433d50> has the same name 'LSTMCell' as a built-in Keras object. Consider renaming <class 'keras.layers.recurrent.LSTMCell'> to avoid naming conflicts when loading with `tf.keras.models.load_model`. If renaming is not possible, pass the object in the `custom_objects` parameter of the load function.\n"
          ]
        },
        {
          "output_type": "stream",
          "name": "stdout",
          "text": [
            "\b\b\b\b\b\b\b\b\b\b\b\b\b\b\b\b\b\b\b\b\b\b\b\b\b\b\b\b\b\b\b\b\b\b\b\b\b\b\b\b\b\b\b\b\b\b\b\b\b\b\b\b\b\b\b\b\b\b\b\b\b\b\b\b\b\b\b\b\b\b\b\b\b\b\b\b\b\b\b\b\b\b\b\b\b\b\b\b\b\b\b\b\b\b\b\b\b\b\b\b\b\r47/47 [==============================] - 5s 112ms/step - loss: 1.8420e-04 - root_mean_squared_error: 0.0136 - val_loss: 1.7552e-04 - val_root_mean_squared_error: 0.0132\n",
            "Epoch 98/300\n",
            "45/47 [===========================>..] - ETA: 0s - loss: 1.7032e-04 - root_mean_squared_error: 0.0131"
          ]
        },
        {
          "output_type": "stream",
          "name": "stderr",
          "text": [
            "WARNING:absl:Found untraced functions such as lstm_cell_layer_call_fn, lstm_cell_layer_call_and_return_conditional_losses while saving (showing 2 of 2). These functions will not be directly callable after loading.\n",
            "WARNING:absl:<keras.layers.recurrent.LSTMCell object at 0x7f3675433d50> has the same name 'LSTMCell' as a built-in Keras object. Consider renaming <class 'keras.layers.recurrent.LSTMCell'> to avoid naming conflicts when loading with `tf.keras.models.load_model`. If renaming is not possible, pass the object in the `custom_objects` parameter of the load function.\n"
          ]
        },
        {
          "output_type": "stream",
          "name": "stdout",
          "text": [
            "\b\b\b\b\b\b\b\b\b\b\b\b\b\b\b\b\b\b\b\b\b\b\b\b\b\b\b\b\b\b\b\b\b\b\b\b\b\b\b\b\b\b\b\b\b\b\b\b\b\b\b\b\b\b\b\b\b\b\b\b\b\b\b\b\b\b\b\b\b\b\b\b\b\b\b\b\b\b\b\b\b\b\b\b\b\b\b\b\b\b\b\b\b\b\b\b\b\b\b\b\b\r47/47 [==============================] - 5s 110ms/step - loss: 1.7141e-04 - root_mean_squared_error: 0.0131 - val_loss: 1.6812e-04 - val_root_mean_squared_error: 0.0130\n",
            "Epoch 99/300\n",
            "44/47 [===========================>..] - ETA: 0s - loss: 1.7813e-04 - root_mean_squared_error: 0.0133"
          ]
        },
        {
          "output_type": "stream",
          "name": "stderr",
          "text": [
            "WARNING:absl:Found untraced functions such as lstm_cell_layer_call_fn, lstm_cell_layer_call_and_return_conditional_losses while saving (showing 2 of 2). These functions will not be directly callable after loading.\n",
            "WARNING:absl:<keras.layers.recurrent.LSTMCell object at 0x7f3675433d50> has the same name 'LSTMCell' as a built-in Keras object. Consider renaming <class 'keras.layers.recurrent.LSTMCell'> to avoid naming conflicts when loading with `tf.keras.models.load_model`. If renaming is not possible, pass the object in the `custom_objects` parameter of the load function.\n"
          ]
        },
        {
          "output_type": "stream",
          "name": "stdout",
          "text": [
            "\b\b\b\b\b\b\b\b\b\b\b\b\b\b\b\b\b\b\b\b\b\b\b\b\b\b\b\b\b\b\b\b\b\b\b\b\b\b\b\b\b\b\b\b\b\b\b\b\b\b\b\b\b\b\b\b\b\b\b\b\b\b\b\b\b\b\b\b\b\b\b\b\b\b\b\b\b\b\b\b\b\b\b\b\b\b\b\b\b\b\b\b\b\b\b\b\b\b\b\b\b\r47/47 [==============================] - 5s 102ms/step - loss: 1.8000e-04 - root_mean_squared_error: 0.0134 - val_loss: 1.6695e-04 - val_root_mean_squared_error: 0.0129\n",
            "Epoch 100/300\n",
            "47/47 [==============================] - 0s 7ms/step - loss: 1.7262e-04 - root_mean_squared_error: 0.0131 - val_loss: 1.7994e-04 - val_root_mean_squared_error: 0.0134\n",
            "Epoch 101/300\n",
            "47/47 [==============================] - 0s 6ms/step - loss: 1.7156e-04 - root_mean_squared_error: 0.0131 - val_loss: 2.0281e-04 - val_root_mean_squared_error: 0.0142\n",
            "Epoch 102/300\n",
            "47/47 [==============================] - 0s 6ms/step - loss: 1.7779e-04 - root_mean_squared_error: 0.0133 - val_loss: 2.0362e-04 - val_root_mean_squared_error: 0.0143\n",
            "Epoch 103/300\n",
            "42/47 [=========================>....] - ETA: 0s - loss: 1.7020e-04 - root_mean_squared_error: 0.0130"
          ]
        },
        {
          "output_type": "stream",
          "name": "stderr",
          "text": [
            "WARNING:absl:Found untraced functions such as lstm_cell_layer_call_fn, lstm_cell_layer_call_and_return_conditional_losses while saving (showing 2 of 2). These functions will not be directly callable after loading.\n",
            "WARNING:absl:<keras.layers.recurrent.LSTMCell object at 0x7f3675433d50> has the same name 'LSTMCell' as a built-in Keras object. Consider renaming <class 'keras.layers.recurrent.LSTMCell'> to avoid naming conflicts when loading with `tf.keras.models.load_model`. If renaming is not possible, pass the object in the `custom_objects` parameter of the load function.\n"
          ]
        },
        {
          "output_type": "stream",
          "name": "stdout",
          "text": [
            "\b\b\b\b\b\b\b\b\b\b\b\b\b\b\b\b\b\b\b\b\b\b\b\b\b\b\b\b\b\b\b\b\b\b\b\b\b\b\b\b\b\b\b\b\b\b\b\b\b\b\b\b\b\b\b\b\b\b\b\b\b\b\b\b\b\b\b\b\b\b\b\b\b\b\b\b\b\b\b\b\b\b\b\b\b\b\b\b\b\b\b\b\b\b\b\b\b\b\b\b\b\r47/47 [==============================] - 5s 112ms/step - loss: 1.6701e-04 - root_mean_squared_error: 0.0129 - val_loss: 1.6451e-04 - val_root_mean_squared_error: 0.0128\n",
            "Epoch 104/300\n",
            "42/47 [=========================>....] - ETA: 0s - loss: 1.6640e-04 - root_mean_squared_error: 0.0129"
          ]
        },
        {
          "output_type": "stream",
          "name": "stderr",
          "text": [
            "WARNING:absl:Found untraced functions such as lstm_cell_layer_call_fn, lstm_cell_layer_call_and_return_conditional_losses while saving (showing 2 of 2). These functions will not be directly callable after loading.\n",
            "WARNING:absl:<keras.layers.recurrent.LSTMCell object at 0x7f3675433d50> has the same name 'LSTMCell' as a built-in Keras object. Consider renaming <class 'keras.layers.recurrent.LSTMCell'> to avoid naming conflicts when loading with `tf.keras.models.load_model`. If renaming is not possible, pass the object in the `custom_objects` parameter of the load function.\n"
          ]
        },
        {
          "output_type": "stream",
          "name": "stdout",
          "text": [
            "\b\b\b\b\b\b\b\b\b\b\b\b\b\b\b\b\b\b\b\b\b\b\b\b\b\b\b\b\b\b\b\b\b\b\b\b\b\b\b\b\b\b\b\b\b\b\b\b\b\b\b\b\b\b\b\b\b\b\b\b\b\b\b\b\b\b\b\b\b\b\b\b\b\b\b\b\b\b\b\b\b\b\b\b\b\b\b\b\b\b\b\b\b\b\b\b\b\b\b\b\b\r47/47 [==============================] - 6s 124ms/step - loss: 1.6465e-04 - root_mean_squared_error: 0.0128 - val_loss: 1.6289e-04 - val_root_mean_squared_error: 0.0128\n",
            "Epoch 105/300\n",
            "47/47 [==============================] - 0s 6ms/step - loss: 1.6055e-04 - root_mean_squared_error: 0.0127 - val_loss: 2.0443e-04 - val_root_mean_squared_error: 0.0143\n",
            "Epoch 106/300\n",
            "47/47 [==============================] - 0s 6ms/step - loss: 1.6798e-04 - root_mean_squared_error: 0.0130 - val_loss: 1.7052e-04 - val_root_mean_squared_error: 0.0131\n",
            "Epoch 107/300\n",
            "42/47 [=========================>....] - ETA: 0s - loss: 1.6445e-04 - root_mean_squared_error: 0.0128"
          ]
        },
        {
          "output_type": "stream",
          "name": "stderr",
          "text": [
            "WARNING:absl:Found untraced functions such as lstm_cell_layer_call_fn, lstm_cell_layer_call_and_return_conditional_losses while saving (showing 2 of 2). These functions will not be directly callable after loading.\n",
            "WARNING:absl:<keras.layers.recurrent.LSTMCell object at 0x7f3675433d50> has the same name 'LSTMCell' as a built-in Keras object. Consider renaming <class 'keras.layers.recurrent.LSTMCell'> to avoid naming conflicts when loading with `tf.keras.models.load_model`. If renaming is not possible, pass the object in the `custom_objects` parameter of the load function.\n"
          ]
        },
        {
          "output_type": "stream",
          "name": "stdout",
          "text": [
            "\b\b\b\b\b\b\b\b\b\b\b\b\b\b\b\b\b\b\b\b\b\b\b\b\b\b\b\b\b\b\b\b\b\b\b\b\b\b\b\b\b\b\b\b\b\b\b\b\b\b\b\b\b\b\b\b\b\b\b\b\b\b\b\b\b\b\b\b\b\b\b\b\b\b\b\b\b\b\b\b\b\b\b\b\b\b\b\b\b\b\b\b\b\b\b\b\b\b\b\b\b\r47/47 [==============================] - 5s 98ms/step - loss: 1.6322e-04 - root_mean_squared_error: 0.0128 - val_loss: 1.6237e-04 - val_root_mean_squared_error: 0.0127\n",
            "Epoch 108/300\n",
            "45/47 [===========================>..] - ETA: 0s - loss: 1.6707e-04 - root_mean_squared_error: 0.0129"
          ]
        },
        {
          "output_type": "stream",
          "name": "stderr",
          "text": [
            "WARNING:absl:Found untraced functions such as lstm_cell_layer_call_fn, lstm_cell_layer_call_and_return_conditional_losses while saving (showing 2 of 2). These functions will not be directly callable after loading.\n",
            "WARNING:absl:<keras.layers.recurrent.LSTMCell object at 0x7f3675433d50> has the same name 'LSTMCell' as a built-in Keras object. Consider renaming <class 'keras.layers.recurrent.LSTMCell'> to avoid naming conflicts when loading with `tf.keras.models.load_model`. If renaming is not possible, pass the object in the `custom_objects` parameter of the load function.\n"
          ]
        },
        {
          "output_type": "stream",
          "name": "stdout",
          "text": [
            "\b\b\b\b\b\b\b\b\b\b\b\b\b\b\b\b\b\b\b\b\b\b\b\b\b\b\b\b\b\b\b\b\b\b\b\b\b\b\b\b\b\b\b\b\b\b\b\b\b\b\b\b\b\b\b\b\b\b\b\b\b\b\b\b\b\b\b\b\b\b\b\b\b\b\b\b\b\b\b\b\b\b\b\b\b\b\b\b\b\b\b\b\b\b\b\b\b\b\b\b\b\r47/47 [==============================] - 5s 108ms/step - loss: 1.6672e-04 - root_mean_squared_error: 0.0129 - val_loss: 1.5935e-04 - val_root_mean_squared_error: 0.0126\n",
            "Epoch 109/300\n",
            "47/47 [==============================] - 0s 6ms/step - loss: 1.5437e-04 - root_mean_squared_error: 0.0124 - val_loss: 1.6712e-04 - val_root_mean_squared_error: 0.0129\n",
            "Epoch 110/300\n",
            "47/47 [==============================] - 0s 6ms/step - loss: 1.5780e-04 - root_mean_squared_error: 0.0126 - val_loss: 1.8222e-04 - val_root_mean_squared_error: 0.0135\n",
            "Epoch 111/300\n",
            "47/47 [==============================] - 0s 6ms/step - loss: 1.5635e-04 - root_mean_squared_error: 0.0125 - val_loss: 1.6750e-04 - val_root_mean_squared_error: 0.0129\n",
            "Epoch 112/300\n",
            "47/47 [==============================] - 0s 6ms/step - loss: 1.7974e-04 - root_mean_squared_error: 0.0134 - val_loss: 2.0579e-04 - val_root_mean_squared_error: 0.0143\n",
            "Epoch 113/300\n",
            "41/47 [=========================>....] - ETA: 0s - loss: 1.6348e-04 - root_mean_squared_error: 0.0128"
          ]
        },
        {
          "output_type": "stream",
          "name": "stderr",
          "text": [
            "WARNING:absl:Found untraced functions such as lstm_cell_layer_call_fn, lstm_cell_layer_call_and_return_conditional_losses while saving (showing 2 of 2). These functions will not be directly callable after loading.\n",
            "WARNING:absl:<keras.layers.recurrent.LSTMCell object at 0x7f3675433d50> has the same name 'LSTMCell' as a built-in Keras object. Consider renaming <class 'keras.layers.recurrent.LSTMCell'> to avoid naming conflicts when loading with `tf.keras.models.load_model`. If renaming is not possible, pass the object in the `custom_objects` parameter of the load function.\n"
          ]
        },
        {
          "output_type": "stream",
          "name": "stdout",
          "text": [
            "\b\b\b\b\b\b\b\b\b\b\b\b\b\b\b\b\b\b\b\b\b\b\b\b\b\b\b\b\b\b\b\b\b\b\b\b\b\b\b\b\b\b\b\b\b\b\b\b\b\b\b\b\b\b\b\b\b\b\b\b\b\b\b\b\b\b\b\b\b\b\b\b\b\b\b\b\b\b\b\b\b\b\b\b\b\b\b\b\b\b\b\b\b\b\b\b\b\b\b\b\b\r47/47 [==============================] - 5s 98ms/step - loss: 1.6674e-04 - root_mean_squared_error: 0.0129 - val_loss: 1.5797e-04 - val_root_mean_squared_error: 0.0126\n",
            "Epoch 114/300\n",
            "47/47 [==============================] - 0s 6ms/step - loss: 1.7078e-04 - root_mean_squared_error: 0.0131 - val_loss: 1.8323e-04 - val_root_mean_squared_error: 0.0135\n",
            "Epoch 115/300\n",
            "45/47 [===========================>..] - ETA: 0s - loss: 1.5949e-04 - root_mean_squared_error: 0.0126"
          ]
        },
        {
          "output_type": "stream",
          "name": "stderr",
          "text": [
            "WARNING:absl:Found untraced functions such as lstm_cell_layer_call_fn, lstm_cell_layer_call_and_return_conditional_losses while saving (showing 2 of 2). These functions will not be directly callable after loading.\n",
            "WARNING:absl:<keras.layers.recurrent.LSTMCell object at 0x7f3675433d50> has the same name 'LSTMCell' as a built-in Keras object. Consider renaming <class 'keras.layers.recurrent.LSTMCell'> to avoid naming conflicts when loading with `tf.keras.models.load_model`. If renaming is not possible, pass the object in the `custom_objects` parameter of the load function.\n"
          ]
        },
        {
          "output_type": "stream",
          "name": "stdout",
          "text": [
            "\b\b\b\b\b\b\b\b\b\b\b\b\b\b\b\b\b\b\b\b\b\b\b\b\b\b\b\b\b\b\b\b\b\b\b\b\b\b\b\b\b\b\b\b\b\b\b\b\b\b\b\b\b\b\b\b\b\b\b\b\b\b\b\b\b\b\b\b\b\b\b\b\b\b\b\b\b\b\b\b\b\b\b\b\b\b\b\b\b\b\b\b\b\b\b\b\b\b\b\b\b\r47/47 [==============================] - 5s 106ms/step - loss: 1.5954e-04 - root_mean_squared_error: 0.0126 - val_loss: 1.5462e-04 - val_root_mean_squared_error: 0.0124\n",
            "Epoch 116/300\n",
            "47/47 [==============================] - 0s 6ms/step - loss: 1.6348e-04 - root_mean_squared_error: 0.0128 - val_loss: 2.2735e-04 - val_root_mean_squared_error: 0.0151\n",
            "Epoch 117/300\n",
            "47/47 [==============================] - 0s 6ms/step - loss: 1.8731e-04 - root_mean_squared_error: 0.0137 - val_loss: 2.0052e-04 - val_root_mean_squared_error: 0.0142\n",
            "Epoch 118/300\n",
            "47/47 [==============================] - 0s 6ms/step - loss: 1.4976e-04 - root_mean_squared_error: 0.0122 - val_loss: 1.6169e-04 - val_root_mean_squared_error: 0.0127\n",
            "Epoch 119/300\n",
            "39/47 [=======================>......] - ETA: 0s - loss: 1.5536e-04 - root_mean_squared_error: 0.0125"
          ]
        },
        {
          "output_type": "stream",
          "name": "stderr",
          "text": [
            "WARNING:absl:Found untraced functions such as lstm_cell_layer_call_fn, lstm_cell_layer_call_and_return_conditional_losses while saving (showing 2 of 2). These functions will not be directly callable after loading.\n",
            "WARNING:absl:<keras.layers.recurrent.LSTMCell object at 0x7f3675433d50> has the same name 'LSTMCell' as a built-in Keras object. Consider renaming <class 'keras.layers.recurrent.LSTMCell'> to avoid naming conflicts when loading with `tf.keras.models.load_model`. If renaming is not possible, pass the object in the `custom_objects` parameter of the load function.\n"
          ]
        },
        {
          "output_type": "stream",
          "name": "stdout",
          "text": [
            "\b\b\b\b\b\b\b\b\b\b\b\b\b\b\b\b\b\b\b\b\b\b\b\b\b\b\b\b\b\b\b\b\b\b\b\b\b\b\b\b\b\b\b\b\b\b\b\b\b\b\b\b\b\b\b\b\b\b\b\b\b\b\b\b\b\b\b\b\b\b\b\b\b\b\b\b\b\b\b\b\b\b\b\b\b\b\b\b\b\b\b\b\b\b\b\b\b\b\b\b\b\r47/47 [==============================] - 5s 106ms/step - loss: 1.5350e-04 - root_mean_squared_error: 0.0124 - val_loss: 1.5090e-04 - val_root_mean_squared_error: 0.0123\n",
            "Epoch 120/300\n",
            "41/47 [=========================>....] - ETA: 0s - loss: 1.6092e-04 - root_mean_squared_error: 0.0127"
          ]
        },
        {
          "output_type": "stream",
          "name": "stderr",
          "text": [
            "WARNING:absl:Found untraced functions such as lstm_cell_layer_call_fn, lstm_cell_layer_call_and_return_conditional_losses while saving (showing 2 of 2). These functions will not be directly callable after loading.\n",
            "WARNING:absl:<keras.layers.recurrent.LSTMCell object at 0x7f3675433d50> has the same name 'LSTMCell' as a built-in Keras object. Consider renaming <class 'keras.layers.recurrent.LSTMCell'> to avoid naming conflicts when loading with `tf.keras.models.load_model`. If renaming is not possible, pass the object in the `custom_objects` parameter of the load function.\n"
          ]
        },
        {
          "output_type": "stream",
          "name": "stdout",
          "text": [
            "\b\b\b\b\b\b\b\b\b\b\b\b\b\b\b\b\b\b\b\b\b\b\b\b\b\b\b\b\b\b\b\b\b\b\b\b\b\b\b\b\b\b\b\b\b\b\b\b\b\b\b\b\b\b\b\b\b\b\b\b\b\b\b\b\b\b\b\b\b\b\b\b\b\b\b\b\b\b\b\b\b\b\b\b\b\b\b\b\b\b\b\b\b\b\b\b\b\b\b\b\b\r47/47 [==============================] - 5s 100ms/step - loss: 1.5944e-04 - root_mean_squared_error: 0.0126 - val_loss: 1.4997e-04 - val_root_mean_squared_error: 0.0122\n",
            "Epoch 121/300\n",
            "47/47 [==============================] - 0s 6ms/step - loss: 2.0242e-04 - root_mean_squared_error: 0.0142 - val_loss: 2.1178e-04 - val_root_mean_squared_error: 0.0146\n",
            "Epoch 122/300\n",
            "43/47 [==========================>...] - ETA: 0s - loss: 1.6498e-04 - root_mean_squared_error: 0.0128"
          ]
        },
        {
          "output_type": "stream",
          "name": "stderr",
          "text": [
            "WARNING:absl:Found untraced functions such as lstm_cell_layer_call_fn, lstm_cell_layer_call_and_return_conditional_losses while saving (showing 2 of 2). These functions will not be directly callable after loading.\n",
            "WARNING:absl:<keras.layers.recurrent.LSTMCell object at 0x7f3675433d50> has the same name 'LSTMCell' as a built-in Keras object. Consider renaming <class 'keras.layers.recurrent.LSTMCell'> to avoid naming conflicts when loading with `tf.keras.models.load_model`. If renaming is not possible, pass the object in the `custom_objects` parameter of the load function.\n"
          ]
        },
        {
          "output_type": "stream",
          "name": "stdout",
          "text": [
            "\b\b\b\b\b\b\b\b\b\b\b\b\b\b\b\b\b\b\b\b\b\b\b\b\b\b\b\b\b\b\b\b\b\b\b\b\b\b\b\b\b\b\b\b\b\b\b\b\b\b\b\b\b\b\b\b\b\b\b\b\b\b\b\b\b\b\b\b\b\b\b\b\b\b\b\b\b\b\b\b\b\b\b\b\b\b\b\b\b\b\b\b\b\b\b\b\b\b\b\b\b\r47/47 [==============================] - 5s 113ms/step - loss: 1.6180e-04 - root_mean_squared_error: 0.0127 - val_loss: 1.4664e-04 - val_root_mean_squared_error: 0.0121\n",
            "Epoch 123/300\n",
            "47/47 [==============================] - ETA: 0s - loss: 1.4227e-04 - root_mean_squared_error: 0.0119"
          ]
        },
        {
          "output_type": "stream",
          "name": "stderr",
          "text": [
            "WARNING:absl:Found untraced functions such as lstm_cell_layer_call_fn, lstm_cell_layer_call_and_return_conditional_losses while saving (showing 2 of 2). These functions will not be directly callable after loading.\n",
            "WARNING:absl:<keras.layers.recurrent.LSTMCell object at 0x7f3675433d50> has the same name 'LSTMCell' as a built-in Keras object. Consider renaming <class 'keras.layers.recurrent.LSTMCell'> to avoid naming conflicts when loading with `tf.keras.models.load_model`. If renaming is not possible, pass the object in the `custom_objects` parameter of the load function.\n"
          ]
        },
        {
          "output_type": "stream",
          "name": "stdout",
          "text": [
            "\b\b\b\b\b\b\b\b\b\b\b\b\b\b\b\b\b\b\b\b\b\b\b\b\b\b\b\b\b\b\b\b\b\b\b\b\b\b\b\b\b\b\b\b\b\b\b\b\b\b\b\b\b\b\b\b\b\b\b\b\b\b\b\b\b\b\b\b\b\b\b\b\b\b\b\b\b\b\b\b\b\b\b\b\b\b\b\b\b\b\b\b\b\b\b\b\b\b\b\b\b\r47/47 [==============================] - 5s 100ms/step - loss: 1.4227e-04 - root_mean_squared_error: 0.0119 - val_loss: 1.4618e-04 - val_root_mean_squared_error: 0.0121\n",
            "Epoch 124/300\n",
            "46/47 [============================>.] - ETA: 0s - loss: 1.4404e-04 - root_mean_squared_error: 0.0120"
          ]
        },
        {
          "output_type": "stream",
          "name": "stderr",
          "text": [
            "WARNING:absl:Found untraced functions such as lstm_cell_layer_call_fn, lstm_cell_layer_call_and_return_conditional_losses while saving (showing 2 of 2). These functions will not be directly callable after loading.\n",
            "WARNING:absl:<keras.layers.recurrent.LSTMCell object at 0x7f3675433d50> has the same name 'LSTMCell' as a built-in Keras object. Consider renaming <class 'keras.layers.recurrent.LSTMCell'> to avoid naming conflicts when loading with `tf.keras.models.load_model`. If renaming is not possible, pass the object in the `custom_objects` parameter of the load function.\n"
          ]
        },
        {
          "output_type": "stream",
          "name": "stdout",
          "text": [
            "\b\b\b\b\b\b\b\b\b\b\b\b\b\b\b\b\b\b\b\b\b\b\b\b\b\b\b\b\b\b\b\b\b\b\b\b\b\b\b\b\b\b\b\b\b\b\b\b\b\b\b\b\b\b\b\b\b\b\b\b\b\b\b\b\b\b\b\b\b\b\b\b\b\b\b\b\b\b\b\b\b\b\b\b\b\b\b\b\b\b\b\b\b\b\b\b\b\b\b\b\b\r47/47 [==============================] - 5s 112ms/step - loss: 1.4365e-04 - root_mean_squared_error: 0.0120 - val_loss: 1.4591e-04 - val_root_mean_squared_error: 0.0121\n",
            "Epoch 125/300\n",
            "44/47 [===========================>..] - ETA: 0s - loss: 1.5303e-04 - root_mean_squared_error: 0.0124"
          ]
        },
        {
          "output_type": "stream",
          "name": "stderr",
          "text": [
            "WARNING:absl:Found untraced functions such as lstm_cell_layer_call_fn, lstm_cell_layer_call_and_return_conditional_losses while saving (showing 2 of 2). These functions will not be directly callable after loading.\n",
            "WARNING:absl:<keras.layers.recurrent.LSTMCell object at 0x7f3675433d50> has the same name 'LSTMCell' as a built-in Keras object. Consider renaming <class 'keras.layers.recurrent.LSTMCell'> to avoid naming conflicts when loading with `tf.keras.models.load_model`. If renaming is not possible, pass the object in the `custom_objects` parameter of the load function.\n"
          ]
        },
        {
          "output_type": "stream",
          "name": "stdout",
          "text": [
            "\b\b\b\b\b\b\b\b\b\b\b\b\b\b\b\b\b\b\b\b\b\b\b\b\b\b\b\b\b\b\b\b\b\b\b\b\b\b\b\b\b\b\b\b\b\b\b\b\b\b\b\b\b\b\b\b\b\b\b\b\b\b\b\b\b\b\b\b\b\b\b\b\b\b\b\b\b\b\b\b\b\b\b\b\b\b\b\b\b\b\b\b\b\b\b\b\b\b\b\b\b\r47/47 [==============================] - 5s 103ms/step - loss: 1.5398e-04 - root_mean_squared_error: 0.0124 - val_loss: 1.4312e-04 - val_root_mean_squared_error: 0.0120\n",
            "Epoch 126/300\n",
            "47/47 [==============================] - 0s 6ms/step - loss: 1.4113e-04 - root_mean_squared_error: 0.0119 - val_loss: 1.5496e-04 - val_root_mean_squared_error: 0.0124\n",
            "Epoch 127/300\n",
            "43/47 [==========================>...] - ETA: 0s - loss: 1.4498e-04 - root_mean_squared_error: 0.0120"
          ]
        },
        {
          "output_type": "stream",
          "name": "stderr",
          "text": [
            "WARNING:absl:Found untraced functions such as lstm_cell_layer_call_fn, lstm_cell_layer_call_and_return_conditional_losses while saving (showing 2 of 2). These functions will not be directly callable after loading.\n",
            "WARNING:absl:<keras.layers.recurrent.LSTMCell object at 0x7f3675433d50> has the same name 'LSTMCell' as a built-in Keras object. Consider renaming <class 'keras.layers.recurrent.LSTMCell'> to avoid naming conflicts when loading with `tf.keras.models.load_model`. If renaming is not possible, pass the object in the `custom_objects` parameter of the load function.\n"
          ]
        },
        {
          "output_type": "stream",
          "name": "stdout",
          "text": [
            "\b\b\b\b\b\b\b\b\b\b\b\b\b\b\b\b\b\b\b\b\b\b\b\b\b\b\b\b\b\b\b\b\b\b\b\b\b\b\b\b\b\b\b\b\b\b\b\b\b\b\b\b\b\b\b\b\b\b\b\b\b\b\b\b\b\b\b\b\b\b\b\b\b\b\b\b\b\b\b\b\b\b\b\b\b\b\b\b\b\b\b\b\b\b\b\b\b\b\b\b\b\r47/47 [==============================] - 5s 100ms/step - loss: 1.4460e-04 - root_mean_squared_error: 0.0120 - val_loss: 1.4089e-04 - val_root_mean_squared_error: 0.0119\n",
            "Epoch 128/300\n",
            "47/47 [==============================] - 0s 5ms/step - loss: 1.3943e-04 - root_mean_squared_error: 0.0118 - val_loss: 1.8719e-04 - val_root_mean_squared_error: 0.0137\n",
            "Epoch 129/300\n",
            "47/47 [==============================] - 0s 6ms/step - loss: 1.4140e-04 - root_mean_squared_error: 0.0119 - val_loss: 1.7839e-04 - val_root_mean_squared_error: 0.0134\n",
            "Epoch 130/300\n",
            "47/47 [==============================] - 0s 5ms/step - loss: 1.3980e-04 - root_mean_squared_error: 0.0118 - val_loss: 1.5208e-04 - val_root_mean_squared_error: 0.0123\n",
            "Epoch 131/300\n",
            "44/47 [===========================>..] - ETA: 0s - loss: 1.4316e-04 - root_mean_squared_error: 0.0120"
          ]
        },
        {
          "output_type": "stream",
          "name": "stderr",
          "text": [
            "WARNING:absl:Found untraced functions such as lstm_cell_layer_call_fn, lstm_cell_layer_call_and_return_conditional_losses while saving (showing 2 of 2). These functions will not be directly callable after loading.\n",
            "WARNING:absl:<keras.layers.recurrent.LSTMCell object at 0x7f3675433d50> has the same name 'LSTMCell' as a built-in Keras object. Consider renaming <class 'keras.layers.recurrent.LSTMCell'> to avoid naming conflicts when loading with `tf.keras.models.load_model`. If renaming is not possible, pass the object in the `custom_objects` parameter of the load function.\n"
          ]
        },
        {
          "output_type": "stream",
          "name": "stdout",
          "text": [
            "\b\b\b\b\b\b\b\b\b\b\b\b\b\b\b\b\b\b\b\b\b\b\b\b\b\b\b\b\b\b\b\b\b\b\b\b\b\b\b\b\b\b\b\b\b\b\b\b\b\b\b\b\b\b\b\b\b\b\b\b\b\b\b\b\b\b\b\b\b\b\b\b\b\b\b\b\b\b\b\b\b\b\b\b\b\b\b\b\b\b\b\b\b\b\b\b\b\b\b\b\b\r47/47 [==============================] - 5s 113ms/step - loss: 1.4369e-04 - root_mean_squared_error: 0.0120 - val_loss: 1.4039e-04 - val_root_mean_squared_error: 0.0118\n",
            "Epoch 132/300\n",
            "47/47 [==============================] - 0s 5ms/step - loss: 1.5583e-04 - root_mean_squared_error: 0.0125 - val_loss: 1.6270e-04 - val_root_mean_squared_error: 0.0128\n",
            "Epoch 133/300\n",
            "47/47 [==============================] - ETA: 0s - loss: 1.5895e-04 - root_mean_squared_error: 0.0126"
          ]
        },
        {
          "output_type": "stream",
          "name": "stderr",
          "text": [
            "WARNING:absl:Found untraced functions such as lstm_cell_layer_call_fn, lstm_cell_layer_call_and_return_conditional_losses while saving (showing 2 of 2). These functions will not be directly callable after loading.\n",
            "WARNING:absl:<keras.layers.recurrent.LSTMCell object at 0x7f3675433d50> has the same name 'LSTMCell' as a built-in Keras object. Consider renaming <class 'keras.layers.recurrent.LSTMCell'> to avoid naming conflicts when loading with `tf.keras.models.load_model`. If renaming is not possible, pass the object in the `custom_objects` parameter of the load function.\n"
          ]
        },
        {
          "output_type": "stream",
          "name": "stdout",
          "text": [
            "\b\b\b\b\b\b\b\b\b\b\b\b\b\b\b\b\b\b\b\b\b\b\b\b\b\b\b\b\b\b\b\b\b\b\b\b\b\b\b\b\b\b\b\b\b\b\b\b\b\b\b\b\b\b\b\b\b\b\b\b\b\b\b\b\b\b\b\b\b\b\b\b\b\b\b\b\b\b\b\b\b\b\b\b\b\b\b\b\b\b\b\b\b\b\b\b\b\b\b\b\b\r47/47 [==============================] - 5s 109ms/step - loss: 1.5895e-04 - root_mean_squared_error: 0.0126 - val_loss: 1.3490e-04 - val_root_mean_squared_error: 0.0116\n",
            "Epoch 134/300\n",
            "47/47 [==============================] - 0s 6ms/step - loss: 1.4244e-04 - root_mean_squared_error: 0.0119 - val_loss: 1.3619e-04 - val_root_mean_squared_error: 0.0117\n",
            "Epoch 135/300\n",
            "47/47 [==============================] - 0s 7ms/step - loss: 1.3650e-04 - root_mean_squared_error: 0.0117 - val_loss: 1.5943e-04 - val_root_mean_squared_error: 0.0126\n",
            "Epoch 136/300\n",
            "46/47 [============================>.] - ETA: 0s - loss: 1.3929e-04 - root_mean_squared_error: 0.0118"
          ]
        },
        {
          "output_type": "stream",
          "name": "stderr",
          "text": [
            "WARNING:absl:Found untraced functions such as lstm_cell_layer_call_fn, lstm_cell_layer_call_and_return_conditional_losses while saving (showing 2 of 2). These functions will not be directly callable after loading.\n",
            "WARNING:absl:<keras.layers.recurrent.LSTMCell object at 0x7f3675433d50> has the same name 'LSTMCell' as a built-in Keras object. Consider renaming <class 'keras.layers.recurrent.LSTMCell'> to avoid naming conflicts when loading with `tf.keras.models.load_model`. If renaming is not possible, pass the object in the `custom_objects` parameter of the load function.\n"
          ]
        },
        {
          "output_type": "stream",
          "name": "stdout",
          "text": [
            "\b\b\b\b\b\b\b\b\b\b\b\b\b\b\b\b\b\b\b\b\b\b\b\b\b\b\b\b\b\b\b\b\b\b\b\b\b\b\b\b\b\b\b\b\b\b\b\b\b\b\b\b\b\b\b\b\b\b\b\b\b\b\b\b\b\b\b\b\b\b\b\b\b\b\b\b\b\b\b\b\b\b\b\b\b\b\b\b\b\b\b\b\b\b\b\b\b\b\b\b\b\r47/47 [==============================] - 5s 102ms/step - loss: 1.3909e-04 - root_mean_squared_error: 0.0118 - val_loss: 1.3223e-04 - val_root_mean_squared_error: 0.0115\n",
            "Epoch 137/300\n",
            "45/47 [===========================>..] - ETA: 0s - loss: 1.4987e-04 - root_mean_squared_error: 0.0122"
          ]
        },
        {
          "output_type": "stream",
          "name": "stderr",
          "text": [
            "WARNING:absl:Found untraced functions such as lstm_cell_layer_call_fn, lstm_cell_layer_call_and_return_conditional_losses while saving (showing 2 of 2). These functions will not be directly callable after loading.\n",
            "WARNING:absl:<keras.layers.recurrent.LSTMCell object at 0x7f3675433d50> has the same name 'LSTMCell' as a built-in Keras object. Consider renaming <class 'keras.layers.recurrent.LSTMCell'> to avoid naming conflicts when loading with `tf.keras.models.load_model`. If renaming is not possible, pass the object in the `custom_objects` parameter of the load function.\n"
          ]
        },
        {
          "output_type": "stream",
          "name": "stdout",
          "text": [
            "\b\b\b\b\b\b\b\b\b\b\b\b\b\b\b\b\b\b\b\b\b\b\b\b\b\b\b\b\b\b\b\b\b\b\b\b\b\b\b\b\b\b\b\b\b\b\b\b\b\b\b\b\b\b\b\b\b\b\b\b\b\b\b\b\b\b\b\b\b\b\b\b\b\b\b\b\b\b\b\b\b\b\b\b\b\b\b\b\b\b\b\b\b\b\b\b\b\b\b\b\b\r47/47 [==============================] - 5s 115ms/step - loss: 1.4957e-04 - root_mean_squared_error: 0.0122 - val_loss: 1.2996e-04 - val_root_mean_squared_error: 0.0114\n",
            "Epoch 138/300\n",
            "44/47 [===========================>..] - ETA: 0s - loss: 1.3139e-04 - root_mean_squared_error: 0.0115"
          ]
        },
        {
          "output_type": "stream",
          "name": "stderr",
          "text": [
            "WARNING:absl:Found untraced functions such as lstm_cell_layer_call_fn, lstm_cell_layer_call_and_return_conditional_losses while saving (showing 2 of 2). These functions will not be directly callable after loading.\n",
            "WARNING:absl:<keras.layers.recurrent.LSTMCell object at 0x7f3675433d50> has the same name 'LSTMCell' as a built-in Keras object. Consider renaming <class 'keras.layers.recurrent.LSTMCell'> to avoid naming conflicts when loading with `tf.keras.models.load_model`. If renaming is not possible, pass the object in the `custom_objects` parameter of the load function.\n"
          ]
        },
        {
          "output_type": "stream",
          "name": "stdout",
          "text": [
            "\b\b\b\b\b\b\b\b\b\b\b\b\b\b\b\b\b\b\b\b\b\b\b\b\b\b\b\b\b\b\b\b\b\b\b\b\b\b\b\b\b\b\b\b\b\b\b\b\b\b\b\b\b\b\b\b\b\b\b\b\b\b\b\b\b\b\b\b\b\b\b\b\b\b\b\b\b\b\b\b\b\b\b\b\b\b\b\b\b\b\b\b\b\b\b\b\b\b\b\b\b\r47/47 [==============================] - 5s 114ms/step - loss: 1.3099e-04 - root_mean_squared_error: 0.0114 - val_loss: 1.2875e-04 - val_root_mean_squared_error: 0.0113\n",
            "Epoch 139/300\n",
            "43/47 [==========================>...] - ETA: 0s - loss: 1.5317e-04 - root_mean_squared_error: 0.0124"
          ]
        },
        {
          "output_type": "stream",
          "name": "stderr",
          "text": [
            "WARNING:absl:Found untraced functions such as lstm_cell_layer_call_fn, lstm_cell_layer_call_and_return_conditional_losses while saving (showing 2 of 2). These functions will not be directly callable after loading.\n",
            "WARNING:absl:<keras.layers.recurrent.LSTMCell object at 0x7f3675433d50> has the same name 'LSTMCell' as a built-in Keras object. Consider renaming <class 'keras.layers.recurrent.LSTMCell'> to avoid naming conflicts when loading with `tf.keras.models.load_model`. If renaming is not possible, pass the object in the `custom_objects` parameter of the load function.\n"
          ]
        },
        {
          "output_type": "stream",
          "name": "stdout",
          "text": [
            "\b\b\b\b\b\b\b\b\b\b\b\b\b\b\b\b\b\b\b\b\b\b\b\b\b\b\b\b\b\b\b\b\b\b\b\b\b\b\b\b\b\b\b\b\b\b\b\b\b\b\b\b\b\b\b\b\b\b\b\b\b\b\b\b\b\b\b\b\b\b\b\b\b\b\b\b\b\b\b\b\b\b\b\b\b\b\b\b\b\b\b\b\b\b\b\b\b\b\b\b\b\r47/47 [==============================] - 4s 96ms/step - loss: 1.5581e-04 - root_mean_squared_error: 0.0125 - val_loss: 1.2678e-04 - val_root_mean_squared_error: 0.0113\n",
            "Epoch 140/300\n",
            "47/47 [==============================] - 0s 6ms/step - loss: 1.6247e-04 - root_mean_squared_error: 0.0127 - val_loss: 1.4113e-04 - val_root_mean_squared_error: 0.0119\n",
            "Epoch 141/300\n",
            "47/47 [==============================] - 0s 6ms/step - loss: 1.3737e-04 - root_mean_squared_error: 0.0117 - val_loss: 1.3564e-04 - val_root_mean_squared_error: 0.0116\n",
            "Epoch 142/300\n",
            "47/47 [==============================] - 0s 7ms/step - loss: 1.5490e-04 - root_mean_squared_error: 0.0124 - val_loss: 2.3691e-04 - val_root_mean_squared_error: 0.0154\n",
            "Epoch 143/300\n",
            "47/47 [==============================] - 0s 7ms/step - loss: 1.5574e-04 - root_mean_squared_error: 0.0125 - val_loss: 1.7592e-04 - val_root_mean_squared_error: 0.0133\n",
            "Epoch 144/300\n",
            "47/47 [==============================] - 0s 7ms/step - loss: 1.2822e-04 - root_mean_squared_error: 0.0113 - val_loss: 1.2797e-04 - val_root_mean_squared_error: 0.0113\n",
            "Epoch 145/300\n",
            "47/47 [==============================] - 0s 7ms/step - loss: 1.2198e-04 - root_mean_squared_error: 0.0110 - val_loss: 1.3681e-04 - val_root_mean_squared_error: 0.0117\n",
            "Epoch 146/300\n",
            "47/47 [==============================] - 0s 7ms/step - loss: 1.2110e-04 - root_mean_squared_error: 0.0110 - val_loss: 1.3127e-04 - val_root_mean_squared_error: 0.0115\n",
            "Epoch 147/300\n",
            "47/47 [==============================] - 0s 7ms/step - loss: 1.2110e-04 - root_mean_squared_error: 0.0110 - val_loss: 1.3727e-04 - val_root_mean_squared_error: 0.0117\n",
            "Epoch 148/300\n",
            "41/47 [=========================>....] - ETA: 0s - loss: 1.2386e-04 - root_mean_squared_error: 0.0111"
          ]
        },
        {
          "output_type": "stream",
          "name": "stderr",
          "text": [
            "WARNING:absl:Found untraced functions such as lstm_cell_layer_call_fn, lstm_cell_layer_call_and_return_conditional_losses while saving (showing 2 of 2). These functions will not be directly callable after loading.\n",
            "WARNING:absl:<keras.layers.recurrent.LSTMCell object at 0x7f3675433d50> has the same name 'LSTMCell' as a built-in Keras object. Consider renaming <class 'keras.layers.recurrent.LSTMCell'> to avoid naming conflicts when loading with `tf.keras.models.load_model`. If renaming is not possible, pass the object in the `custom_objects` parameter of the load function.\n"
          ]
        },
        {
          "output_type": "stream",
          "name": "stdout",
          "text": [
            "\b\b\b\b\b\b\b\b\b\b\b\b\b\b\b\b\b\b\b\b\b\b\b\b\b\b\b\b\b\b\b\b\b\b\b\b\b\b\b\b\b\b\b\b\b\b\b\b\b\b\b\b\b\b\b\b\b\b\b\b\b\b\b\b\b\b\b\b\b\b\b\b\b\b\b\b\b\b\b\b\b\b\b\b\b\b\b\b\b\b\b\b\b\b\b\b\b\b\b\b\b\r47/47 [==============================] - 5s 111ms/step - loss: 1.2316e-04 - root_mean_squared_error: 0.0111 - val_loss: 1.2578e-04 - val_root_mean_squared_error: 0.0112\n",
            "Epoch 149/300\n",
            "47/47 [==============================] - 0s 7ms/step - loss: 1.1148e-04 - root_mean_squared_error: 0.0106 - val_loss: 1.5443e-04 - val_root_mean_squared_error: 0.0124\n",
            "Epoch 150/300\n",
            "44/47 [===========================>..] - ETA: 0s - loss: 1.1715e-04 - root_mean_squared_error: 0.0108"
          ]
        },
        {
          "output_type": "stream",
          "name": "stderr",
          "text": [
            "WARNING:absl:Found untraced functions such as lstm_cell_layer_call_fn, lstm_cell_layer_call_and_return_conditional_losses while saving (showing 2 of 2). These functions will not be directly callable after loading.\n",
            "WARNING:absl:<keras.layers.recurrent.LSTMCell object at 0x7f3675433d50> has the same name 'LSTMCell' as a built-in Keras object. Consider renaming <class 'keras.layers.recurrent.LSTMCell'> to avoid naming conflicts when loading with `tf.keras.models.load_model`. If renaming is not possible, pass the object in the `custom_objects` parameter of the load function.\n"
          ]
        },
        {
          "output_type": "stream",
          "name": "stdout",
          "text": [
            "\b\b\b\b\b\b\b\b\b\b\b\b\b\b\b\b\b\b\b\b\b\b\b\b\b\b\b\b\b\b\b\b\b\b\b\b\b\b\b\b\b\b\b\b\b\b\b\b\b\b\b\b\b\b\b\b\b\b\b\b\b\b\b\b\b\b\b\b\b\b\b\b\b\b\b\b\b\b\b\b\b\b\b\b\b\b\b\b\b\b\b\b\b\b\b\b\b\b\b\b\b\r47/47 [==============================] - 5s 110ms/step - loss: 1.1544e-04 - root_mean_squared_error: 0.0107 - val_loss: 1.2458e-04 - val_root_mean_squared_error: 0.0112\n",
            "Epoch 151/300\n",
            "47/47 [==============================] - 0s 6ms/step - loss: 1.3514e-04 - root_mean_squared_error: 0.0116 - val_loss: 1.3974e-04 - val_root_mean_squared_error: 0.0118\n",
            "Epoch 152/300\n",
            "41/47 [=========================>....] - ETA: 0s - loss: 1.2130e-04 - root_mean_squared_error: 0.0110"
          ]
        },
        {
          "output_type": "stream",
          "name": "stderr",
          "text": [
            "WARNING:absl:Found untraced functions such as lstm_cell_layer_call_fn, lstm_cell_layer_call_and_return_conditional_losses while saving (showing 2 of 2). These functions will not be directly callable after loading.\n",
            "WARNING:absl:<keras.layers.recurrent.LSTMCell object at 0x7f3675433d50> has the same name 'LSTMCell' as a built-in Keras object. Consider renaming <class 'keras.layers.recurrent.LSTMCell'> to avoid naming conflicts when loading with `tf.keras.models.load_model`. If renaming is not possible, pass the object in the `custom_objects` parameter of the load function.\n"
          ]
        },
        {
          "output_type": "stream",
          "name": "stdout",
          "text": [
            "\b\b\b\b\b\b\b\b\b\b\b\b\b\b\b\b\b\b\b\b\b\b\b\b\b\b\b\b\b\b\b\b\b\b\b\b\b\b\b\b\b\b\b\b\b\b\b\b\b\b\b\b\b\b\b\b\b\b\b\b\b\b\b\b\b\b\b\b\b\b\b\b\b\b\b\b\b\b\b\b\b\b\b\b\b\b\b\b\b\b\b\b\b\b\b\b\b\b\b\b\b\r47/47 [==============================] - 5s 102ms/step - loss: 1.1835e-04 - root_mean_squared_error: 0.0109 - val_loss: 1.1049e-04 - val_root_mean_squared_error: 0.0105\n",
            "Epoch 153/300\n",
            "40/47 [========================>.....] - ETA: 0s - loss: 1.0569e-04 - root_mean_squared_error: 0.0103"
          ]
        },
        {
          "output_type": "stream",
          "name": "stderr",
          "text": [
            "WARNING:absl:Found untraced functions such as lstm_cell_layer_call_fn, lstm_cell_layer_call_and_return_conditional_losses while saving (showing 2 of 2). These functions will not be directly callable after loading.\n",
            "WARNING:absl:<keras.layers.recurrent.LSTMCell object at 0x7f3675433d50> has the same name 'LSTMCell' as a built-in Keras object. Consider renaming <class 'keras.layers.recurrent.LSTMCell'> to avoid naming conflicts when loading with `tf.keras.models.load_model`. If renaming is not possible, pass the object in the `custom_objects` parameter of the load function.\n"
          ]
        },
        {
          "output_type": "stream",
          "name": "stdout",
          "text": [
            "\b\b\b\b\b\b\b\b\b\b\b\b\b\b\b\b\b\b\b\b\b\b\b\b\b\b\b\b\b\b\b\b\b\b\b\b\b\b\b\b\b\b\b\b\b\b\b\b\b\b\b\b\b\b\b\b\b\b\b\b\b\b\b\b\b\b\b\b\b\b\b\b\b\b\b\b\b\b\b\b\b\b\b\b\b\b\b\b\b\b\b\b\b\b\b\b\b\b\b\b\b\r47/47 [==============================] - 5s 112ms/step - loss: 1.0762e-04 - root_mean_squared_error: 0.0104 - val_loss: 1.0839e-04 - val_root_mean_squared_error: 0.0104\n",
            "Epoch 154/300\n",
            "47/47 [==============================] - 0s 8ms/step - loss: 1.0899e-04 - root_mean_squared_error: 0.0104 - val_loss: 1.2563e-04 - val_root_mean_squared_error: 0.0112\n",
            "Epoch 155/300\n",
            "47/47 [==============================] - ETA: 0s - loss: 1.1054e-04 - root_mean_squared_error: 0.0105"
          ]
        },
        {
          "output_type": "stream",
          "name": "stderr",
          "text": [
            "WARNING:absl:Found untraced functions such as lstm_cell_layer_call_fn, lstm_cell_layer_call_and_return_conditional_losses while saving (showing 2 of 2). These functions will not be directly callable after loading.\n",
            "WARNING:absl:<keras.layers.recurrent.LSTMCell object at 0x7f3675433d50> has the same name 'LSTMCell' as a built-in Keras object. Consider renaming <class 'keras.layers.recurrent.LSTMCell'> to avoid naming conflicts when loading with `tf.keras.models.load_model`. If renaming is not possible, pass the object in the `custom_objects` parameter of the load function.\n"
          ]
        },
        {
          "output_type": "stream",
          "name": "stdout",
          "text": [
            "\b\b\b\b\b\b\b\b\b\b\b\b\b\b\b\b\b\b\b\b\b\b\b\b\b\b\b\b\b\b\b\b\b\b\b\b\b\b\b\b\b\b\b\b\b\b\b\b\b\b\b\b\b\b\b\b\b\b\b\b\b\b\b\b\b\b\b\b\b\b\b\b\b\b\b\b\b\b\b\b\b\b\b\b\b\b\b\b\b\b\b\b\b\b\b\b\b\b\b\b\b\r47/47 [==============================] - 5s 104ms/step - loss: 1.1054e-04 - root_mean_squared_error: 0.0105 - val_loss: 1.0549e-04 - val_root_mean_squared_error: 0.0103\n",
            "Epoch 156/300\n",
            "47/47 [==============================] - 0s 9ms/step - loss: 1.3351e-04 - root_mean_squared_error: 0.0116 - val_loss: 1.7438e-04 - val_root_mean_squared_error: 0.0132\n",
            "Epoch 157/300\n",
            "47/47 [==============================] - 0s 10ms/step - loss: 1.2767e-04 - root_mean_squared_error: 0.0113 - val_loss: 1.3209e-04 - val_root_mean_squared_error: 0.0115\n",
            "Epoch 158/300\n",
            "47/47 [==============================] - 0s 9ms/step - loss: 1.0139e-04 - root_mean_squared_error: 0.0101 - val_loss: 1.0666e-04 - val_root_mean_squared_error: 0.0103\n",
            "Epoch 159/300\n",
            "44/47 [===========================>..] - ETA: 0s - loss: 1.0717e-04 - root_mean_squared_error: 0.0104"
          ]
        },
        {
          "output_type": "stream",
          "name": "stderr",
          "text": [
            "WARNING:absl:Found untraced functions such as lstm_cell_layer_call_fn, lstm_cell_layer_call_and_return_conditional_losses while saving (showing 2 of 2). These functions will not be directly callable after loading.\n",
            "WARNING:absl:<keras.layers.recurrent.LSTMCell object at 0x7f3675433d50> has the same name 'LSTMCell' as a built-in Keras object. Consider renaming <class 'keras.layers.recurrent.LSTMCell'> to avoid naming conflicts when loading with `tf.keras.models.load_model`. If renaming is not possible, pass the object in the `custom_objects` parameter of the load function.\n"
          ]
        },
        {
          "output_type": "stream",
          "name": "stdout",
          "text": [
            "\b\b\b\b\b\b\b\b\b\b\b\b\b\b\b\b\b\b\b\b\b\b\b\b\b\b\b\b\b\b\b\b\b\b\b\b\b\b\b\b\b\b\b\b\b\b\b\b\b\b\b\b\b\b\b\b\b\b\b\b\b\b\b\b\b\b\b\b\b\b\b\b\b\b\b\b\b\b\b\b\b\b\b\b\b\b\b\b\b\b\b\b\b\b\b\b\b\b\b\b\b\r47/47 [==============================] - 5s 119ms/step - loss: 1.0921e-04 - root_mean_squared_error: 0.0105 - val_loss: 9.8887e-05 - val_root_mean_squared_error: 0.0099\n",
            "Epoch 160/300\n",
            "47/47 [==============================] - 0s 6ms/step - loss: 1.3582e-04 - root_mean_squared_error: 0.0117 - val_loss: 1.2096e-04 - val_root_mean_squared_error: 0.0110\n",
            "Epoch 161/300\n",
            "47/47 [==============================] - 0s 6ms/step - loss: 9.9457e-05 - root_mean_squared_error: 0.0100 - val_loss: 1.0534e-04 - val_root_mean_squared_error: 0.0103\n",
            "Epoch 162/300\n",
            "47/47 [==============================] - 0s 6ms/step - loss: 9.9945e-05 - root_mean_squared_error: 0.0100 - val_loss: 1.3224e-04 - val_root_mean_squared_error: 0.0115\n",
            "Epoch 163/300\n",
            "47/47 [==============================] - 0s 6ms/step - loss: 1.4133e-04 - root_mean_squared_error: 0.0119 - val_loss: 1.9046e-04 - val_root_mean_squared_error: 0.0138\n",
            "Epoch 164/300\n",
            "47/47 [==============================] - 0s 6ms/step - loss: 1.1542e-04 - root_mean_squared_error: 0.0107 - val_loss: 1.0047e-04 - val_root_mean_squared_error: 0.0100\n",
            "Epoch 165/300\n",
            "47/47 [==============================] - 0s 6ms/step - loss: 1.2590e-04 - root_mean_squared_error: 0.0112 - val_loss: 1.0803e-04 - val_root_mean_squared_error: 0.0104\n",
            "Epoch 166/300\n",
            "47/47 [==============================] - 0s 6ms/step - loss: 9.8515e-05 - root_mean_squared_error: 0.0099 - val_loss: 1.1561e-04 - val_root_mean_squared_error: 0.0108\n",
            "Epoch 167/300\n",
            "42/47 [=========================>....] - ETA: 0s - loss: 9.4113e-05 - root_mean_squared_error: 0.0097"
          ]
        },
        {
          "output_type": "stream",
          "name": "stderr",
          "text": [
            "WARNING:absl:Found untraced functions such as lstm_cell_layer_call_fn, lstm_cell_layer_call_and_return_conditional_losses while saving (showing 2 of 2). These functions will not be directly callable after loading.\n",
            "WARNING:absl:<keras.layers.recurrent.LSTMCell object at 0x7f3675433d50> has the same name 'LSTMCell' as a built-in Keras object. Consider renaming <class 'keras.layers.recurrent.LSTMCell'> to avoid naming conflicts when loading with `tf.keras.models.load_model`. If renaming is not possible, pass the object in the `custom_objects` parameter of the load function.\n"
          ]
        },
        {
          "output_type": "stream",
          "name": "stdout",
          "text": [
            "\b\b\b\b\b\b\b\b\b\b\b\b\b\b\b\b\b\b\b\b\b\b\b\b\b\b\b\b\b\b\b\b\b\b\b\b\b\b\b\b\b\b\b\b\b\b\b\b\b\b\b\b\b\b\b\b\b\b\b\b\b\b\b\b\b\b\b\b\b\b\b\b\b\b\b\b\b\b\b\b\b\b\b\b\b\b\b\b\b\b\b\b\b\b\b\b\b\b\b\b\b\r47/47 [==============================] - 5s 106ms/step - loss: 9.2160e-05 - root_mean_squared_error: 0.0096 - val_loss: 9.6564e-05 - val_root_mean_squared_error: 0.0098\n",
            "Epoch 168/300\n",
            "47/47 [==============================] - 0s 6ms/step - loss: 9.0576e-05 - root_mean_squared_error: 0.0095 - val_loss: 1.1620e-04 - val_root_mean_squared_error: 0.0108\n",
            "Epoch 169/300\n",
            "47/47 [==============================] - 0s 6ms/step - loss: 9.8903e-05 - root_mean_squared_error: 0.0099 - val_loss: 1.0841e-04 - val_root_mean_squared_error: 0.0104\n",
            "Epoch 170/300\n",
            "47/47 [==============================] - 0s 6ms/step - loss: 9.1731e-05 - root_mean_squared_error: 0.0096 - val_loss: 2.4884e-04 - val_root_mean_squared_error: 0.0158\n",
            "Epoch 171/300\n",
            "45/47 [===========================>..] - ETA: 0s - loss: 1.4398e-04 - root_mean_squared_error: 0.0120"
          ]
        },
        {
          "output_type": "stream",
          "name": "stderr",
          "text": [
            "WARNING:absl:Found untraced functions such as lstm_cell_layer_call_fn, lstm_cell_layer_call_and_return_conditional_losses while saving (showing 2 of 2). These functions will not be directly callable after loading.\n",
            "WARNING:absl:<keras.layers.recurrent.LSTMCell object at 0x7f3675433d50> has the same name 'LSTMCell' as a built-in Keras object. Consider renaming <class 'keras.layers.recurrent.LSTMCell'> to avoid naming conflicts when loading with `tf.keras.models.load_model`. If renaming is not possible, pass the object in the `custom_objects` parameter of the load function.\n"
          ]
        },
        {
          "output_type": "stream",
          "name": "stdout",
          "text": [
            "\b\b\b\b\b\b\b\b\b\b\b\b\b\b\b\b\b\b\b\b\b\b\b\b\b\b\b\b\b\b\b\b\b\b\b\b\b\b\b\b\b\b\b\b\b\b\b\b\b\b\b\b\b\b\b\b\b\b\b\b\b\b\b\b\b\b\b\b\b\b\b\b\b\b\b\b\b\b\b\b\b\b\b\b\b\b\b\b\b\b\b\b\b\b\b\b\b\b\b\b\b\r47/47 [==============================] - 5s 98ms/step - loss: 1.4316e-04 - root_mean_squared_error: 0.0120 - val_loss: 8.6815e-05 - val_root_mean_squared_error: 0.0093\n",
            "Epoch 172/300\n",
            "47/47 [==============================] - 0s 7ms/step - loss: 9.0549e-05 - root_mean_squared_error: 0.0095 - val_loss: 1.0566e-04 - val_root_mean_squared_error: 0.0103\n",
            "Epoch 173/300\n",
            "45/47 [===========================>..] - ETA: 0s - loss: 9.6956e-05 - root_mean_squared_error: 0.0098"
          ]
        },
        {
          "output_type": "stream",
          "name": "stderr",
          "text": [
            "WARNING:absl:Found untraced functions such as lstm_cell_layer_call_fn, lstm_cell_layer_call_and_return_conditional_losses while saving (showing 2 of 2). These functions will not be directly callable after loading.\n",
            "WARNING:absl:<keras.layers.recurrent.LSTMCell object at 0x7f3675433d50> has the same name 'LSTMCell' as a built-in Keras object. Consider renaming <class 'keras.layers.recurrent.LSTMCell'> to avoid naming conflicts when loading with `tf.keras.models.load_model`. If renaming is not possible, pass the object in the `custom_objects` parameter of the load function.\n"
          ]
        },
        {
          "output_type": "stream",
          "name": "stdout",
          "text": [
            "\b\b\b\b\b\b\b\b\b\b\b\b\b\b\b\b\b\b\b\b\b\b\b\b\b\b\b\b\b\b\b\b\b\b\b\b\b\b\b\b\b\b\b\b\b\b\b\b\b\b\b\b\b\b\b\b\b\b\b\b\b\b\b\b\b\b\b\b\b\b\b\b\b\b\b\b\b\b\b\b\b\b\b\b\b\b\b\b\b\b\b\b\b\b\b\b\b\b\b\b\b\r47/47 [==============================] - 5s 107ms/step - loss: 9.5777e-05 - root_mean_squared_error: 0.0098 - val_loss: 8.4503e-05 - val_root_mean_squared_error: 0.0092\n",
            "Epoch 174/300\n",
            "47/47 [==============================] - 0s 6ms/step - loss: 9.6008e-05 - root_mean_squared_error: 0.0098 - val_loss: 1.2285e-04 - val_root_mean_squared_error: 0.0111\n",
            "Epoch 175/300\n",
            "45/47 [===========================>..] - ETA: 0s - loss: 8.3933e-05 - root_mean_squared_error: 0.0092"
          ]
        },
        {
          "output_type": "stream",
          "name": "stderr",
          "text": [
            "WARNING:absl:Found untraced functions such as lstm_cell_layer_call_fn, lstm_cell_layer_call_and_return_conditional_losses while saving (showing 2 of 2). These functions will not be directly callable after loading.\n",
            "WARNING:absl:<keras.layers.recurrent.LSTMCell object at 0x7f3675433d50> has the same name 'LSTMCell' as a built-in Keras object. Consider renaming <class 'keras.layers.recurrent.LSTMCell'> to avoid naming conflicts when loading with `tf.keras.models.load_model`. If renaming is not possible, pass the object in the `custom_objects` parameter of the load function.\n"
          ]
        },
        {
          "output_type": "stream",
          "name": "stdout",
          "text": [
            "\b\b\b\b\b\b\b\b\b\b\b\b\b\b\b\b\b\b\b\b\b\b\b\b\b\b\b\b\b\b\b\b\b\b\b\b\b\b\b\b\b\b\b\b\b\b\b\b\b\b\b\b\b\b\b\b\b\b\b\b\b\b\b\b\b\b\b\b\b\b\b\b\b\b\b\b\b\b\b\b\b\b\b\b\b\b\b\b\b\b\b\b\b\b\b\b\b\b\b\b\b\r47/47 [==============================] - 4s 97ms/step - loss: 8.5401e-05 - root_mean_squared_error: 0.0092 - val_loss: 7.8827e-05 - val_root_mean_squared_error: 0.0089\n",
            "Epoch 176/300\n",
            "47/47 [==============================] - 0s 6ms/step - loss: 1.2137e-04 - root_mean_squared_error: 0.0110 - val_loss: 1.4190e-04 - val_root_mean_squared_error: 0.0119\n",
            "Epoch 177/300\n",
            "47/47 [==============================] - 0s 6ms/step - loss: 9.0379e-05 - root_mean_squared_error: 0.0095 - val_loss: 8.8744e-05 - val_root_mean_squared_error: 0.0094\n",
            "Epoch 178/300\n",
            "47/47 [==============================] - 0s 6ms/step - loss: 7.5019e-05 - root_mean_squared_error: 0.0087 - val_loss: 1.0653e-04 - val_root_mean_squared_error: 0.0103\n",
            "Epoch 179/300\n",
            "47/47 [==============================] - 0s 6ms/step - loss: 8.1226e-05 - root_mean_squared_error: 0.0090 - val_loss: 9.8334e-05 - val_root_mean_squared_error: 0.0099\n",
            "Epoch 180/300\n",
            "39/47 [=======================>......] - ETA: 0s - loss: 8.5474e-05 - root_mean_squared_error: 0.0092"
          ]
        },
        {
          "output_type": "stream",
          "name": "stderr",
          "text": [
            "WARNING:absl:Found untraced functions such as lstm_cell_layer_call_fn, lstm_cell_layer_call_and_return_conditional_losses while saving (showing 2 of 2). These functions will not be directly callable after loading.\n",
            "WARNING:absl:<keras.layers.recurrent.LSTMCell object at 0x7f3675433d50> has the same name 'LSTMCell' as a built-in Keras object. Consider renaming <class 'keras.layers.recurrent.LSTMCell'> to avoid naming conflicts when loading with `tf.keras.models.load_model`. If renaming is not possible, pass the object in the `custom_objects` parameter of the load function.\n"
          ]
        },
        {
          "output_type": "stream",
          "name": "stdout",
          "text": [
            "\b\b\b\b\b\b\b\b\b\b\b\b\b\b\b\b\b\b\b\b\b\b\b\b\b\b\b\b\b\b\b\b\b\b\b\b\b\b\b\b\b\b\b\b\b\b\b\b\b\b\b\b\b\b\b\b\b\b\b\b\b\b\b\b\b\b\b\b\b\b\b\b\b\b\b\b\b\b\b\b\b\b\b\b\b\b\b\b\b\b\b\b\b\b\b\b\b\b\b\b\b\r47/47 [==============================] - 5s 107ms/step - loss: 8.4243e-05 - root_mean_squared_error: 0.0092 - val_loss: 7.7661e-05 - val_root_mean_squared_error: 0.0088\n",
            "Epoch 181/300\n",
            "43/47 [==========================>...] - ETA: 0s - loss: 7.2711e-05 - root_mean_squared_error: 0.0085"
          ]
        },
        {
          "output_type": "stream",
          "name": "stderr",
          "text": [
            "WARNING:absl:Found untraced functions such as lstm_cell_layer_call_fn, lstm_cell_layer_call_and_return_conditional_losses while saving (showing 2 of 2). These functions will not be directly callable after loading.\n",
            "WARNING:absl:<keras.layers.recurrent.LSTMCell object at 0x7f3675433d50> has the same name 'LSTMCell' as a built-in Keras object. Consider renaming <class 'keras.layers.recurrent.LSTMCell'> to avoid naming conflicts when loading with `tf.keras.models.load_model`. If renaming is not possible, pass the object in the `custom_objects` parameter of the load function.\n"
          ]
        },
        {
          "output_type": "stream",
          "name": "stdout",
          "text": [
            "\b\b\b\b\b\b\b\b\b\b\b\b\b\b\b\b\b\b\b\b\b\b\b\b\b\b\b\b\b\b\b\b\b\b\b\b\b\b\b\b\b\b\b\b\b\b\b\b\b\b\b\b\b\b\b\b\b\b\b\b\b\b\b\b\b\b\b\b\b\b\b\b\b\b\b\b\b\b\b\b\b\b\b\b\b\b\b\b\b\b\b\b\b\b\b\b\b\b\b\b\b\r47/47 [==============================] - 5s 112ms/step - loss: 7.4751e-05 - root_mean_squared_error: 0.0086 - val_loss: 7.0905e-05 - val_root_mean_squared_error: 0.0084\n",
            "Epoch 182/300\n",
            "47/47 [==============================] - 0s 7ms/step - loss: 7.2951e-05 - root_mean_squared_error: 0.0085 - val_loss: 7.1753e-05 - val_root_mean_squared_error: 0.0085\n",
            "Epoch 183/300\n",
            "47/47 [==============================] - ETA: 0s - loss: 8.0759e-05 - root_mean_squared_error: 0.0090"
          ]
        },
        {
          "output_type": "stream",
          "name": "stderr",
          "text": [
            "WARNING:absl:Found untraced functions such as lstm_cell_layer_call_fn, lstm_cell_layer_call_and_return_conditional_losses while saving (showing 2 of 2). These functions will not be directly callable after loading.\n",
            "WARNING:absl:<keras.layers.recurrent.LSTMCell object at 0x7f3675433d50> has the same name 'LSTMCell' as a built-in Keras object. Consider renaming <class 'keras.layers.recurrent.LSTMCell'> to avoid naming conflicts when loading with `tf.keras.models.load_model`. If renaming is not possible, pass the object in the `custom_objects` parameter of the load function.\n"
          ]
        },
        {
          "output_type": "stream",
          "name": "stdout",
          "text": [
            "\b\b\b\b\b\b\b\b\b\b\b\b\b\b\b\b\b\b\b\b\b\b\b\b\b\b\b\b\b\b\b\b\b\b\b\b\b\b\b\b\b\b\b\b\b\b\b\b\b\b\b\b\b\b\b\b\b\b\b\b\b\b\b\b\b\b\b\b\b\b\b\b\b\b\b\b\b\b\b\b\b\b\b\b\b\b\b\b\b\b\b\b\b\b\b\b\b\b\b\b\b\r47/47 [==============================] - 5s 102ms/step - loss: 8.0759e-05 - root_mean_squared_error: 0.0090 - val_loss: 6.8424e-05 - val_root_mean_squared_error: 0.0083\n",
            "Epoch 184/300\n",
            "47/47 [==============================] - 0s 7ms/step - loss: 7.5635e-05 - root_mean_squared_error: 0.0087 - val_loss: 1.7103e-04 - val_root_mean_squared_error: 0.0131\n",
            "Epoch 185/300\n",
            "47/47 [==============================] - 0s 6ms/step - loss: 7.8693e-05 - root_mean_squared_error: 0.0089 - val_loss: 7.5122e-05 - val_root_mean_squared_error: 0.0087\n",
            "Epoch 186/300\n",
            "47/47 [==============================] - 0s 6ms/step - loss: 7.9524e-05 - root_mean_squared_error: 0.0089 - val_loss: 7.2491e-05 - val_root_mean_squared_error: 0.0085\n",
            "Epoch 187/300\n",
            "47/47 [==============================] - 0s 6ms/step - loss: 7.0373e-05 - root_mean_squared_error: 0.0084 - val_loss: 1.1131e-04 - val_root_mean_squared_error: 0.0106\n",
            "Epoch 188/300\n",
            "40/47 [========================>.....] - ETA: 0s - loss: 8.2103e-05 - root_mean_squared_error: 0.0091"
          ]
        },
        {
          "output_type": "stream",
          "name": "stderr",
          "text": [
            "WARNING:absl:Found untraced functions such as lstm_cell_layer_call_fn, lstm_cell_layer_call_and_return_conditional_losses while saving (showing 2 of 2). These functions will not be directly callable after loading.\n",
            "WARNING:absl:<keras.layers.recurrent.LSTMCell object at 0x7f3675433d50> has the same name 'LSTMCell' as a built-in Keras object. Consider renaming <class 'keras.layers.recurrent.LSTMCell'> to avoid naming conflicts when loading with `tf.keras.models.load_model`. If renaming is not possible, pass the object in the `custom_objects` parameter of the load function.\n"
          ]
        },
        {
          "output_type": "stream",
          "name": "stdout",
          "text": [
            "\b\b\b\b\b\b\b\b\b\b\b\b\b\b\b\b\b\b\b\b\b\b\b\b\b\b\b\b\b\b\b\b\b\b\b\b\b\b\b\b\b\b\b\b\b\b\b\b\b\b\b\b\b\b\b\b\b\b\b\b\b\b\b\b\b\b\b\b\b\b\b\b\b\b\b\b\b\b\b\b\b\b\b\b\b\b\b\b\b\b\b\b\b\b\b\b\b\b\b\b\b\r47/47 [==============================] - 5s 106ms/step - loss: 8.1538e-05 - root_mean_squared_error: 0.0090 - val_loss: 6.7520e-05 - val_root_mean_squared_error: 0.0082\n",
            "Epoch 189/300\n",
            "47/47 [==============================] - ETA: 0s - loss: 6.5878e-05 - root_mean_squared_error: 0.0081"
          ]
        },
        {
          "output_type": "stream",
          "name": "stderr",
          "text": [
            "WARNING:absl:Found untraced functions such as lstm_cell_layer_call_fn, lstm_cell_layer_call_and_return_conditional_losses while saving (showing 2 of 2). These functions will not be directly callable after loading.\n",
            "WARNING:absl:<keras.layers.recurrent.LSTMCell object at 0x7f3675433d50> has the same name 'LSTMCell' as a built-in Keras object. Consider renaming <class 'keras.layers.recurrent.LSTMCell'> to avoid naming conflicts when loading with `tf.keras.models.load_model`. If renaming is not possible, pass the object in the `custom_objects` parameter of the load function.\n"
          ]
        },
        {
          "output_type": "stream",
          "name": "stdout",
          "text": [
            "\b\b\b\b\b\b\b\b\b\b\b\b\b\b\b\b\b\b\b\b\b\b\b\b\b\b\b\b\b\b\b\b\b\b\b\b\b\b\b\b\b\b\b\b\b\b\b\b\b\b\b\b\b\b\b\b\b\b\b\b\b\b\b\b\b\b\b\b\b\b\b\b\b\b\b\b\b\b\b\b\b\b\b\b\b\b\b\b\b\b\b\b\b\b\b\b\b\b\b\b\b\r47/47 [==============================] - 5s 105ms/step - loss: 6.5878e-05 - root_mean_squared_error: 0.0081 - val_loss: 6.3334e-05 - val_root_mean_squared_error: 0.0080\n",
            "Epoch 190/300\n",
            "38/47 [=======================>......] - ETA: 0s - loss: 7.4497e-05 - root_mean_squared_error: 0.0086"
          ]
        },
        {
          "output_type": "stream",
          "name": "stderr",
          "text": [
            "WARNING:absl:Found untraced functions such as lstm_cell_layer_call_fn, lstm_cell_layer_call_and_return_conditional_losses while saving (showing 2 of 2). These functions will not be directly callable after loading.\n",
            "WARNING:absl:<keras.layers.recurrent.LSTMCell object at 0x7f3675433d50> has the same name 'LSTMCell' as a built-in Keras object. Consider renaming <class 'keras.layers.recurrent.LSTMCell'> to avoid naming conflicts when loading with `tf.keras.models.load_model`. If renaming is not possible, pass the object in the `custom_objects` parameter of the load function.\n"
          ]
        },
        {
          "output_type": "stream",
          "name": "stdout",
          "text": [
            "\b\b\b\b\b\b\b\b\b\b\b\b\b\b\b\b\b\b\b\b\b\b\b\b\b\b\b\b\b\b\b\b\b\b\b\b\b\b\b\b\b\b\b\b\b\b\b\b\b\b\b\b\b\b\b\b\b\b\b\b\b\b\b\b\b\b\b\b\b\b\b\b\b\b\b\b\b\b\b\b\b\b\b\b\b\b\b\b\b\b\b\b\b\b\b\b\b\b\b\b\b\r47/47 [==============================] - 5s 101ms/step - loss: 7.0885e-05 - root_mean_squared_error: 0.0084 - val_loss: 6.3300e-05 - val_root_mean_squared_error: 0.0080\n",
            "Epoch 191/300\n",
            "47/47 [==============================] - 0s 6ms/step - loss: 6.7569e-05 - root_mean_squared_error: 0.0082 - val_loss: 6.3819e-05 - val_root_mean_squared_error: 0.0080\n",
            "Epoch 192/300\n",
            "47/47 [==============================] - 0s 7ms/step - loss: 8.8132e-05 - root_mean_squared_error: 0.0094 - val_loss: 7.8802e-05 - val_root_mean_squared_error: 0.0089\n",
            "Epoch 193/300\n",
            "45/47 [===========================>..] - ETA: 0s - loss: 6.3504e-05 - root_mean_squared_error: 0.0080"
          ]
        },
        {
          "output_type": "stream",
          "name": "stderr",
          "text": [
            "WARNING:absl:Found untraced functions such as lstm_cell_layer_call_fn, lstm_cell_layer_call_and_return_conditional_losses while saving (showing 2 of 2). These functions will not be directly callable after loading.\n",
            "WARNING:absl:<keras.layers.recurrent.LSTMCell object at 0x7f3675433d50> has the same name 'LSTMCell' as a built-in Keras object. Consider renaming <class 'keras.layers.recurrent.LSTMCell'> to avoid naming conflicts when loading with `tf.keras.models.load_model`. If renaming is not possible, pass the object in the `custom_objects` parameter of the load function.\n"
          ]
        },
        {
          "output_type": "stream",
          "name": "stdout",
          "text": [
            "\b\b\b\b\b\b\b\b\b\b\b\b\b\b\b\b\b\b\b\b\b\b\b\b\b\b\b\b\b\b\b\b\b\b\b\b\b\b\b\b\b\b\b\b\b\b\b\b\b\b\b\b\b\b\b\b\b\b\b\b\b\b\b\b\b\b\b\b\b\b\b\b\b\b\b\b\b\b\b\b\b\b\b\b\b\b\b\b\b\b\b\b\b\b\b\b\b\b\b\b\b\r47/47 [==============================] - 5s 110ms/step - loss: 6.3323e-05 - root_mean_squared_error: 0.0080 - val_loss: 5.7775e-05 - val_root_mean_squared_error: 0.0076\n",
            "Epoch 194/300\n",
            "47/47 [==============================] - 0s 6ms/step - loss: 6.1162e-05 - root_mean_squared_error: 0.0078 - val_loss: 5.7909e-05 - val_root_mean_squared_error: 0.0076\n",
            "Epoch 195/300\n",
            "47/47 [==============================] - 0s 6ms/step - loss: 6.3216e-05 - root_mean_squared_error: 0.0080 - val_loss: 1.1279e-04 - val_root_mean_squared_error: 0.0106\n",
            "Epoch 196/300\n",
            "47/47 [==============================] - 0s 7ms/step - loss: 6.7653e-05 - root_mean_squared_error: 0.0082 - val_loss: 6.1005e-05 - val_root_mean_squared_error: 0.0078\n",
            "Epoch 197/300\n",
            "47/47 [==============================] - 0s 7ms/step - loss: 5.6365e-05 - root_mean_squared_error: 0.0075 - val_loss: 7.7389e-05 - val_root_mean_squared_error: 0.0088\n",
            "Epoch 198/300\n",
            "47/47 [==============================] - 0s 7ms/step - loss: 6.1396e-05 - root_mean_squared_error: 0.0078 - val_loss: 7.5162e-05 - val_root_mean_squared_error: 0.0087\n",
            "Epoch 199/300\n",
            "47/47 [==============================] - ETA: 0s - loss: 6.9433e-05 - root_mean_squared_error: 0.0083"
          ]
        },
        {
          "output_type": "stream",
          "name": "stderr",
          "text": [
            "WARNING:absl:Found untraced functions such as lstm_cell_layer_call_fn, lstm_cell_layer_call_and_return_conditional_losses while saving (showing 2 of 2). These functions will not be directly callable after loading.\n",
            "WARNING:absl:<keras.layers.recurrent.LSTMCell object at 0x7f3675433d50> has the same name 'LSTMCell' as a built-in Keras object. Consider renaming <class 'keras.layers.recurrent.LSTMCell'> to avoid naming conflicts when loading with `tf.keras.models.load_model`. If renaming is not possible, pass the object in the `custom_objects` parameter of the load function.\n"
          ]
        },
        {
          "output_type": "stream",
          "name": "stdout",
          "text": [
            "\b\b\b\b\b\b\b\b\b\b\b\b\b\b\b\b\b\b\b\b\b\b\b\b\b\b\b\b\b\b\b\b\b\b\b\b\b\b\b\b\b\b\b\b\b\b\b\b\b\b\b\b\b\b\b\b\b\b\b\b\b\b\b\b\b\b\b\b\b\b\b\b\b\b\b\b\b\b\b\b\b\b\b\b\b\b\b\b\b\b\b\b\b\b\b\b\b\b\b\b\b\r47/47 [==============================] - 5s 108ms/step - loss: 6.9433e-05 - root_mean_squared_error: 0.0083 - val_loss: 5.2559e-05 - val_root_mean_squared_error: 0.0072\n",
            "Epoch 200/300\n",
            "47/47 [==============================] - 0s 6ms/step - loss: 6.8855e-05 - root_mean_squared_error: 0.0083 - val_loss: 6.0401e-05 - val_root_mean_squared_error: 0.0078\n",
            "Epoch 201/300\n",
            "47/47 [==============================] - 0s 6ms/step - loss: 6.8592e-05 - root_mean_squared_error: 0.0083 - val_loss: 5.2848e-05 - val_root_mean_squared_error: 0.0073\n",
            "Epoch 202/300\n",
            "47/47 [==============================] - 0s 6ms/step - loss: 5.6248e-05 - root_mean_squared_error: 0.0075 - val_loss: 5.5690e-05 - val_root_mean_squared_error: 0.0075\n",
            "Epoch 203/300\n",
            "47/47 [==============================] - 0s 6ms/step - loss: 5.2920e-05 - root_mean_squared_error: 0.0073 - val_loss: 5.8308e-05 - val_root_mean_squared_error: 0.0076\n",
            "Epoch 204/300\n",
            "39/47 [=======================>......] - ETA: 0s - loss: 5.3801e-05 - root_mean_squared_error: 0.0073"
          ]
        },
        {
          "output_type": "stream",
          "name": "stderr",
          "text": [
            "WARNING:absl:Found untraced functions such as lstm_cell_layer_call_fn, lstm_cell_layer_call_and_return_conditional_losses while saving (showing 2 of 2). These functions will not be directly callable after loading.\n",
            "WARNING:absl:<keras.layers.recurrent.LSTMCell object at 0x7f3675433d50> has the same name 'LSTMCell' as a built-in Keras object. Consider renaming <class 'keras.layers.recurrent.LSTMCell'> to avoid naming conflicts when loading with `tf.keras.models.load_model`. If renaming is not possible, pass the object in the `custom_objects` parameter of the load function.\n"
          ]
        },
        {
          "output_type": "stream",
          "name": "stdout",
          "text": [
            "\b\b\b\b\b\b\b\b\b\b\b\b\b\b\b\b\b\b\b\b\b\b\b\b\b\b\b\b\b\b\b\b\b\b\b\b\b\b\b\b\b\b\b\b\b\b\b\b\b\b\b\b\b\b\b\b\b\b\b\b\b\b\b\b\b\b\b\b\b\b\b\b\b\b\b\b\b\b\b\b\b\b\b\b\b\b\b\b\b\b\b\b\b\b\b\b\b\b\b\b\b\r47/47 [==============================] - 5s 98ms/step - loss: 5.3471e-05 - root_mean_squared_error: 0.0073 - val_loss: 4.9451e-05 - val_root_mean_squared_error: 0.0070\n",
            "Epoch 205/300\n",
            "47/47 [==============================] - 0s 7ms/step - loss: 5.6868e-05 - root_mean_squared_error: 0.0075 - val_loss: 6.9860e-05 - val_root_mean_squared_error: 0.0084\n",
            "Epoch 206/300\n",
            "47/47 [==============================] - 0s 7ms/step - loss: 8.1308e-05 - root_mean_squared_error: 0.0090 - val_loss: 5.6834e-05 - val_root_mean_squared_error: 0.0075\n",
            "Epoch 207/300\n",
            "47/47 [==============================] - 0s 7ms/step - loss: 5.9714e-05 - root_mean_squared_error: 0.0077 - val_loss: 6.2717e-05 - val_root_mean_squared_error: 0.0079\n",
            "Epoch 208/300\n",
            "47/47 [==============================] - 0s 7ms/step - loss: 6.8023e-05 - root_mean_squared_error: 0.0082 - val_loss: 5.4814e-05 - val_root_mean_squared_error: 0.0074\n",
            "Epoch 209/300\n",
            "47/47 [==============================] - 0s 7ms/step - loss: 6.2748e-05 - root_mean_squared_error: 0.0079 - val_loss: 6.5251e-05 - val_root_mean_squared_error: 0.0081\n",
            "Epoch 210/300\n",
            "47/47 [==============================] - 0s 7ms/step - loss: 7.6417e-05 - root_mean_squared_error: 0.0087 - val_loss: 5.0624e-05 - val_root_mean_squared_error: 0.0071\n",
            "Epoch 211/300\n",
            "47/47 [==============================] - 0s 6ms/step - loss: 5.0125e-05 - root_mean_squared_error: 0.0071 - val_loss: 5.7609e-05 - val_root_mean_squared_error: 0.0076\n",
            "Epoch 212/300\n",
            "46/47 [============================>.] - ETA: 0s - loss: 5.4918e-05 - root_mean_squared_error: 0.0074"
          ]
        },
        {
          "output_type": "stream",
          "name": "stderr",
          "text": [
            "WARNING:absl:Found untraced functions such as lstm_cell_layer_call_fn, lstm_cell_layer_call_and_return_conditional_losses while saving (showing 2 of 2). These functions will not be directly callable after loading.\n",
            "WARNING:absl:<keras.layers.recurrent.LSTMCell object at 0x7f3675433d50> has the same name 'LSTMCell' as a built-in Keras object. Consider renaming <class 'keras.layers.recurrent.LSTMCell'> to avoid naming conflicts when loading with `tf.keras.models.load_model`. If renaming is not possible, pass the object in the `custom_objects` parameter of the load function.\n"
          ]
        },
        {
          "output_type": "stream",
          "name": "stdout",
          "text": [
            "\b\b\b\b\b\b\b\b\b\b\b\b\b\b\b\b\b\b\b\b\b\b\b\b\b\b\b\b\b\b\b\b\b\b\b\b\b\b\b\b\b\b\b\b\b\b\b\b\b\b\b\b\b\b\b\b\b\b\b\b\b\b\b\b\b\b\b\b\b\b\b\b\b\b\b\b\b\b\b\b\b\b\b\b\b\b\b\b\b\b\b\b\b\b\b\b\b\b\b\b\b\r47/47 [==============================] - 5s 111ms/step - loss: 5.5368e-05 - root_mean_squared_error: 0.0074 - val_loss: 4.6796e-05 - val_root_mean_squared_error: 0.0068\n",
            "Epoch 213/300\n",
            "38/47 [=======================>......] - ETA: 0s - loss: 5.4073e-05 - root_mean_squared_error: 0.0074"
          ]
        },
        {
          "output_type": "stream",
          "name": "stderr",
          "text": [
            "WARNING:absl:Found untraced functions such as lstm_cell_layer_call_fn, lstm_cell_layer_call_and_return_conditional_losses while saving (showing 2 of 2). These functions will not be directly callable after loading.\n",
            "WARNING:absl:<keras.layers.recurrent.LSTMCell object at 0x7f3675433d50> has the same name 'LSTMCell' as a built-in Keras object. Consider renaming <class 'keras.layers.recurrent.LSTMCell'> to avoid naming conflicts when loading with `tf.keras.models.load_model`. If renaming is not possible, pass the object in the `custom_objects` parameter of the load function.\n"
          ]
        },
        {
          "output_type": "stream",
          "name": "stdout",
          "text": [
            "\b\b\b\b\b\b\b\b\b\b\b\b\b\b\b\b\b\b\b\b\b\b\b\b\b\b\b\b\b\b\b\b\b\b\b\b\b\b\b\b\b\b\b\b\b\b\b\b\b\b\b\b\b\b\b\b\b\b\b\b\b\b\b\b\b\b\b\b\b\b\b\b\b\b\b\b\b\b\b\b\b\b\b\b\b\b\b\b\b\b\b\b\b\b\b\b\b\b\b\b\b\r47/47 [==============================] - 5s 113ms/step - loss: 5.1888e-05 - root_mean_squared_error: 0.0072 - val_loss: 4.6533e-05 - val_root_mean_squared_error: 0.0068\n",
            "Epoch 214/300\n",
            "47/47 [==============================] - 0s 6ms/step - loss: 5.8275e-05 - root_mean_squared_error: 0.0076 - val_loss: 5.0986e-05 - val_root_mean_squared_error: 0.0071\n",
            "Epoch 215/300\n",
            "47/47 [==============================] - 0s 5ms/step - loss: 4.8947e-05 - root_mean_squared_error: 0.0070 - val_loss: 5.3679e-05 - val_root_mean_squared_error: 0.0073\n",
            "Epoch 216/300\n",
            "47/47 [==============================] - 0s 6ms/step - loss: 4.9134e-05 - root_mean_squared_error: 0.0070 - val_loss: 7.3599e-05 - val_root_mean_squared_error: 0.0086\n",
            "Epoch 217/300\n",
            "47/47 [==============================] - 0s 6ms/step - loss: 4.6164e-05 - root_mean_squared_error: 0.0068 - val_loss: 7.2657e-05 - val_root_mean_squared_error: 0.0085\n",
            "Epoch 218/300\n",
            "47/47 [==============================] - 0s 6ms/step - loss: 5.2997e-05 - root_mean_squared_error: 0.0073 - val_loss: 5.5636e-05 - val_root_mean_squared_error: 0.0075\n",
            "Epoch 219/300\n",
            "47/47 [==============================] - 0s 6ms/step - loss: 5.9129e-05 - root_mean_squared_error: 0.0077 - val_loss: 6.1412e-05 - val_root_mean_squared_error: 0.0078\n",
            "Epoch 220/300\n",
            "47/47 [==============================] - 0s 6ms/step - loss: 4.7488e-05 - root_mean_squared_error: 0.0069 - val_loss: 5.2385e-05 - val_root_mean_squared_error: 0.0072\n",
            "Epoch 221/300\n",
            "39/47 [=======================>......] - ETA: 0s - loss: 4.9197e-05 - root_mean_squared_error: 0.0070"
          ]
        },
        {
          "output_type": "stream",
          "name": "stderr",
          "text": [
            "WARNING:absl:Found untraced functions such as lstm_cell_layer_call_fn, lstm_cell_layer_call_and_return_conditional_losses while saving (showing 2 of 2). These functions will not be directly callable after loading.\n",
            "WARNING:absl:<keras.layers.recurrent.LSTMCell object at 0x7f3675433d50> has the same name 'LSTMCell' as a built-in Keras object. Consider renaming <class 'keras.layers.recurrent.LSTMCell'> to avoid naming conflicts when loading with `tf.keras.models.load_model`. If renaming is not possible, pass the object in the `custom_objects` parameter of the load function.\n"
          ]
        },
        {
          "output_type": "stream",
          "name": "stdout",
          "text": [
            "\b\b\b\b\b\b\b\b\b\b\b\b\b\b\b\b\b\b\b\b\b\b\b\b\b\b\b\b\b\b\b\b\b\b\b\b\b\b\b\b\b\b\b\b\b\b\b\b\b\b\b\b\b\b\b\b\b\b\b\b\b\b\b\b\b\b\b\b\b\b\b\b\b\b\b\b\b\b\b\b\b\b\b\b\b\b\b\b\b\b\b\b\b\b\b\b\b\b\b\b\b\r47/47 [==============================] - 5s 98ms/step - loss: 4.7693e-05 - root_mean_squared_error: 0.0069 - val_loss: 4.3998e-05 - val_root_mean_squared_error: 0.0066\n",
            "Epoch 222/300\n",
            "47/47 [==============================] - 0s 8ms/step - loss: 6.7197e-05 - root_mean_squared_error: 0.0082 - val_loss: 4.4160e-05 - val_root_mean_squared_error: 0.0066\n",
            "Epoch 223/300\n",
            "46/47 [============================>.] - ETA: 0s - loss: 4.7999e-05 - root_mean_squared_error: 0.0069"
          ]
        },
        {
          "output_type": "stream",
          "name": "stderr",
          "text": [
            "WARNING:absl:Found untraced functions such as lstm_cell_layer_call_fn, lstm_cell_layer_call_and_return_conditional_losses while saving (showing 2 of 2). These functions will not be directly callable after loading.\n",
            "WARNING:absl:<keras.layers.recurrent.LSTMCell object at 0x7f3675433d50> has the same name 'LSTMCell' as a built-in Keras object. Consider renaming <class 'keras.layers.recurrent.LSTMCell'> to avoid naming conflicts when loading with `tf.keras.models.load_model`. If renaming is not possible, pass the object in the `custom_objects` parameter of the load function.\n"
          ]
        },
        {
          "output_type": "stream",
          "name": "stdout",
          "text": [
            "\b\b\b\b\b\b\b\b\b\b\b\b\b\b\b\b\b\b\b\b\b\b\b\b\b\b\b\b\b\b\b\b\b\b\b\b\b\b\b\b\b\b\b\b\b\b\b\b\b\b\b\b\b\b\b\b\b\b\b\b\b\b\b\b\b\b\b\b\b\b\b\b\b\b\b\b\b\b\b\b\b\b\b\b\b\b\b\b\b\b\b\b\b\b\b\b\b\b\b\b\b\r47/47 [==============================] - 5s 114ms/step - loss: 4.8198e-05 - root_mean_squared_error: 0.0069 - val_loss: 4.3025e-05 - val_root_mean_squared_error: 0.0066\n",
            "Epoch 224/300\n",
            "47/47 [==============================] - 0s 7ms/step - loss: 5.4780e-05 - root_mean_squared_error: 0.0074 - val_loss: 4.3326e-05 - val_root_mean_squared_error: 0.0066\n",
            "Epoch 225/300\n",
            "47/47 [==============================] - 0s 6ms/step - loss: 4.4215e-05 - root_mean_squared_error: 0.0066 - val_loss: 4.7418e-05 - val_root_mean_squared_error: 0.0069\n",
            "Epoch 226/300\n",
            "47/47 [==============================] - 0s 5ms/step - loss: 4.2908e-05 - root_mean_squared_error: 0.0066 - val_loss: 4.6320e-05 - val_root_mean_squared_error: 0.0068\n",
            "Epoch 227/300\n",
            "47/47 [==============================] - 0s 6ms/step - loss: 5.2662e-05 - root_mean_squared_error: 0.0073 - val_loss: 5.7237e-05 - val_root_mean_squared_error: 0.0076\n",
            "Epoch 228/300\n",
            "47/47 [==============================] - 0s 7ms/step - loss: 5.5848e-05 - root_mean_squared_error: 0.0075 - val_loss: 4.4070e-05 - val_root_mean_squared_error: 0.0066\n",
            "Epoch 229/300\n",
            "47/47 [==============================] - 0s 7ms/step - loss: 5.5026e-05 - root_mean_squared_error: 0.0074 - val_loss: 5.1612e-05 - val_root_mean_squared_error: 0.0072\n",
            "Epoch 230/300\n",
            "45/47 [===========================>..] - ETA: 0s - loss: 4.7264e-05 - root_mean_squared_error: 0.0069"
          ]
        },
        {
          "output_type": "stream",
          "name": "stderr",
          "text": [
            "WARNING:absl:Found untraced functions such as lstm_cell_layer_call_fn, lstm_cell_layer_call_and_return_conditional_losses while saving (showing 2 of 2). These functions will not be directly callable after loading.\n",
            "WARNING:absl:<keras.layers.recurrent.LSTMCell object at 0x7f3675433d50> has the same name 'LSTMCell' as a built-in Keras object. Consider renaming <class 'keras.layers.recurrent.LSTMCell'> to avoid naming conflicts when loading with `tf.keras.models.load_model`. If renaming is not possible, pass the object in the `custom_objects` parameter of the load function.\n"
          ]
        },
        {
          "output_type": "stream",
          "name": "stdout",
          "text": [
            "\b\b\b\b\b\b\b\b\b\b\b\b\b\b\b\b\b\b\b\b\b\b\b\b\b\b\b\b\b\b\b\b\b\b\b\b\b\b\b\b\b\b\b\b\b\b\b\b\b\b\b\b\b\b\b\b\b\b\b\b\b\b\b\b\b\b\b\b\b\b\b\b\b\b\b\b\b\b\b\b\b\b\b\b\b\b\b\b\b\b\b\b\b\b\b\b\b\b\b\b\b\r47/47 [==============================] - 5s 113ms/step - loss: 4.7191e-05 - root_mean_squared_error: 0.0069 - val_loss: 4.1440e-05 - val_root_mean_squared_error: 0.0064\n",
            "Epoch 231/300\n",
            "47/47 [==============================] - 0s 6ms/step - loss: 4.2790e-05 - root_mean_squared_error: 0.0065 - val_loss: 6.0696e-05 - val_root_mean_squared_error: 0.0078\n",
            "Epoch 232/300\n",
            "47/47 [==============================] - 0s 6ms/step - loss: 5.2580e-05 - root_mean_squared_error: 0.0073 - val_loss: 6.5514e-05 - val_root_mean_squared_error: 0.0081\n",
            "Epoch 233/300\n",
            "47/47 [==============================] - 0s 6ms/step - loss: 6.9090e-05 - root_mean_squared_error: 0.0083 - val_loss: 1.0701e-04 - val_root_mean_squared_error: 0.0103\n",
            "Epoch 234/300\n",
            "47/47 [==============================] - 0s 6ms/step - loss: 5.3929e-05 - root_mean_squared_error: 0.0073 - val_loss: 4.1570e-05 - val_root_mean_squared_error: 0.0064\n",
            "Epoch 235/300\n",
            "47/47 [==============================] - 0s 6ms/step - loss: 4.4066e-05 - root_mean_squared_error: 0.0066 - val_loss: 4.2012e-05 - val_root_mean_squared_error: 0.0065\n",
            "Epoch 236/300\n",
            "47/47 [==============================] - ETA: 0s - loss: 5.2683e-05 - root_mean_squared_error: 0.0073"
          ]
        },
        {
          "output_type": "stream",
          "name": "stderr",
          "text": [
            "WARNING:absl:Found untraced functions such as lstm_cell_layer_call_fn, lstm_cell_layer_call_and_return_conditional_losses while saving (showing 2 of 2). These functions will not be directly callable after loading.\n",
            "WARNING:absl:<keras.layers.recurrent.LSTMCell object at 0x7f3675433d50> has the same name 'LSTMCell' as a built-in Keras object. Consider renaming <class 'keras.layers.recurrent.LSTMCell'> to avoid naming conflicts when loading with `tf.keras.models.load_model`. If renaming is not possible, pass the object in the `custom_objects` parameter of the load function.\n"
          ]
        },
        {
          "output_type": "stream",
          "name": "stdout",
          "text": [
            "\b\b\b\b\b\b\b\b\b\b\b\b\b\b\b\b\b\b\b\b\b\b\b\b\b\b\b\b\b\b\b\b\b\b\b\b\b\b\b\b\b\b\b\b\b\b\b\b\b\b\b\b\b\b\b\b\b\b\b\b\b\b\b\b\b\b\b\b\b\b\b\b\b\b\b\b\b\b\b\b\b\b\b\b\b\b\b\b\b\b\b\b\b\b\b\b\b\b\b\b\b\r47/47 [==============================] - 5s 100ms/step - loss: 5.2683e-05 - root_mean_squared_error: 0.0073 - val_loss: 4.0806e-05 - val_root_mean_squared_error: 0.0064\n",
            "Epoch 237/300\n",
            "47/47 [==============================] - 0s 7ms/step - loss: 5.5120e-05 - root_mean_squared_error: 0.0074 - val_loss: 4.1015e-05 - val_root_mean_squared_error: 0.0064\n",
            "Epoch 238/300\n",
            "47/47 [==============================] - 0s 6ms/step - loss: 4.4900e-05 - root_mean_squared_error: 0.0067 - val_loss: 9.1523e-05 - val_root_mean_squared_error: 0.0096\n",
            "Epoch 239/300\n",
            "47/47 [==============================] - 0s 6ms/step - loss: 5.3083e-05 - root_mean_squared_error: 0.0073 - val_loss: 5.6713e-05 - val_root_mean_squared_error: 0.0075\n",
            "Epoch 240/300\n",
            "47/47 [==============================] - 0s 7ms/step - loss: 5.6943e-05 - root_mean_squared_error: 0.0075 - val_loss: 5.8292e-05 - val_root_mean_squared_error: 0.0076\n",
            "Epoch 241/300\n",
            "38/47 [=======================>......] - ETA: 0s - loss: 4.3350e-05 - root_mean_squared_error: 0.0066"
          ]
        },
        {
          "output_type": "stream",
          "name": "stderr",
          "text": [
            "WARNING:absl:Found untraced functions such as lstm_cell_layer_call_fn, lstm_cell_layer_call_and_return_conditional_losses while saving (showing 2 of 2). These functions will not be directly callable after loading.\n",
            "WARNING:absl:<keras.layers.recurrent.LSTMCell object at 0x7f3675433d50> has the same name 'LSTMCell' as a built-in Keras object. Consider renaming <class 'keras.layers.recurrent.LSTMCell'> to avoid naming conflicts when loading with `tf.keras.models.load_model`. If renaming is not possible, pass the object in the `custom_objects` parameter of the load function.\n"
          ]
        },
        {
          "output_type": "stream",
          "name": "stdout",
          "text": [
            "\b\b\b\b\b\b\b\b\b\b\b\b\b\b\b\b\b\b\b\b\b\b\b\b\b\b\b\b\b\b\b\b\b\b\b\b\b\b\b\b\b\b\b\b\b\b\b\b\b\b\b\b\b\b\b\b\b\b\b\b\b\b\b\b\b\b\b\b\b\b\b\b\b\b\b\b\b\b\b\b\b\b\b\b\b\b\b\b\b\b\b\b\b\b\b\b\b\b\b\b\b\r47/47 [==============================] - 6s 127ms/step - loss: 4.3762e-05 - root_mean_squared_error: 0.0066 - val_loss: 4.0268e-05 - val_root_mean_squared_error: 0.0063\n",
            "Epoch 242/300\n",
            "47/47 [==============================] - 0s 7ms/step - loss: 4.8782e-05 - root_mean_squared_error: 0.0070 - val_loss: 4.4680e-05 - val_root_mean_squared_error: 0.0067\n",
            "Epoch 243/300\n",
            "46/47 [============================>.] - ETA: 0s - loss: 4.1849e-05 - root_mean_squared_error: 0.0065"
          ]
        },
        {
          "output_type": "stream",
          "name": "stderr",
          "text": [
            "WARNING:absl:Found untraced functions such as lstm_cell_layer_call_fn, lstm_cell_layer_call_and_return_conditional_losses while saving (showing 2 of 2). These functions will not be directly callable after loading.\n",
            "WARNING:absl:<keras.layers.recurrent.LSTMCell object at 0x7f3675433d50> has the same name 'LSTMCell' as a built-in Keras object. Consider renaming <class 'keras.layers.recurrent.LSTMCell'> to avoid naming conflicts when loading with `tf.keras.models.load_model`. If renaming is not possible, pass the object in the `custom_objects` parameter of the load function.\n"
          ]
        },
        {
          "output_type": "stream",
          "name": "stdout",
          "text": [
            "\b\b\b\b\b\b\b\b\b\b\b\b\b\b\b\b\b\b\b\b\b\b\b\b\b\b\b\b\b\b\b\b\b\b\b\b\b\b\b\b\b\b\b\b\b\b\b\b\b\b\b\b\b\b\b\b\b\b\b\b\b\b\b\b\b\b\b\b\b\b\b\b\b\b\b\b\b\b\b\b\b\b\b\b\b\b\b\b\b\b\b\b\b\b\b\b\b\b\b\b\b\r47/47 [==============================] - 5s 103ms/step - loss: 4.1776e-05 - root_mean_squared_error: 0.0065 - val_loss: 3.9940e-05 - val_root_mean_squared_error: 0.0063\n",
            "Epoch 244/300\n",
            "47/47 [==============================] - 0s 6ms/step - loss: 5.0139e-05 - root_mean_squared_error: 0.0071 - val_loss: 4.2482e-05 - val_root_mean_squared_error: 0.0065\n",
            "Epoch 245/300\n",
            "47/47 [==============================] - 0s 6ms/step - loss: 4.8197e-05 - root_mean_squared_error: 0.0069 - val_loss: 6.1641e-05 - val_root_mean_squared_error: 0.0079\n",
            "Epoch 246/300\n",
            "43/47 [==========================>...] - ETA: 0s - loss: 4.4139e-05 - root_mean_squared_error: 0.0066"
          ]
        },
        {
          "output_type": "stream",
          "name": "stderr",
          "text": [
            "WARNING:absl:Found untraced functions such as lstm_cell_layer_call_fn, lstm_cell_layer_call_and_return_conditional_losses while saving (showing 2 of 2). These functions will not be directly callable after loading.\n",
            "WARNING:absl:<keras.layers.recurrent.LSTMCell object at 0x7f3675433d50> has the same name 'LSTMCell' as a built-in Keras object. Consider renaming <class 'keras.layers.recurrent.LSTMCell'> to avoid naming conflicts when loading with `tf.keras.models.load_model`. If renaming is not possible, pass the object in the `custom_objects` parameter of the load function.\n"
          ]
        },
        {
          "output_type": "stream",
          "name": "stdout",
          "text": [
            "\b\b\b\b\b\b\b\b\b\b\b\b\b\b\b\b\b\b\b\b\b\b\b\b\b\b\b\b\b\b\b\b\b\b\b\b\b\b\b\b\b\b\b\b\b\b\b\b\b\b\b\b\b\b\b\b\b\b\b\b\b\b\b\b\b\b\b\b\b\b\b\b\b\b\b\b\b\b\b\b\b\b\b\b\b\b\b\b\b\b\b\b\b\b\b\b\b\b\b\b\b\r47/47 [==============================] - 5s 110ms/step - loss: 4.3705e-05 - root_mean_squared_error: 0.0066 - val_loss: 3.9843e-05 - val_root_mean_squared_error: 0.0063\n",
            "Epoch 247/300\n",
            "43/47 [==========================>...] - ETA: 0s - loss: 3.9289e-05 - root_mean_squared_error: 0.0063"
          ]
        },
        {
          "output_type": "stream",
          "name": "stderr",
          "text": [
            "WARNING:absl:Found untraced functions such as lstm_cell_layer_call_fn, lstm_cell_layer_call_and_return_conditional_losses while saving (showing 2 of 2). These functions will not be directly callable after loading.\n",
            "WARNING:absl:<keras.layers.recurrent.LSTMCell object at 0x7f3675433d50> has the same name 'LSTMCell' as a built-in Keras object. Consider renaming <class 'keras.layers.recurrent.LSTMCell'> to avoid naming conflicts when loading with `tf.keras.models.load_model`. If renaming is not possible, pass the object in the `custom_objects` parameter of the load function.\n"
          ]
        },
        {
          "output_type": "stream",
          "name": "stdout",
          "text": [
            "\b\b\b\b\b\b\b\b\b\b\b\b\b\b\b\b\b\b\b\b\b\b\b\b\b\b\b\b\b\b\b\b\b\b\b\b\b\b\b\b\b\b\b\b\b\b\b\b\b\b\b\b\b\b\b\b\b\b\b\b\b\b\b\b\b\b\b\b\b\b\b\b\b\b\b\b\b\b\b\b\b\b\b\b\b\b\b\b\b\b\b\b\b\b\b\b\b\b\b\b\b\r47/47 [==============================] - 5s 107ms/step - loss: 3.9334e-05 - root_mean_squared_error: 0.0063 - val_loss: 3.9767e-05 - val_root_mean_squared_error: 0.0063\n",
            "Epoch 248/300\n",
            "47/47 [==============================] - 0s 6ms/step - loss: 4.1778e-05 - root_mean_squared_error: 0.0065 - val_loss: 4.8533e-05 - val_root_mean_squared_error: 0.0070\n",
            "Epoch 249/300\n",
            "47/47 [==============================] - 0s 6ms/step - loss: 5.0694e-05 - root_mean_squared_error: 0.0071 - val_loss: 5.0782e-05 - val_root_mean_squared_error: 0.0071\n",
            "Epoch 250/300\n",
            "47/47 [==============================] - 0s 6ms/step - loss: 4.7519e-05 - root_mean_squared_error: 0.0069 - val_loss: 7.5513e-05 - val_root_mean_squared_error: 0.0087\n",
            "Epoch 251/300\n",
            "47/47 [==============================] - 0s 7ms/step - loss: 4.2934e-05 - root_mean_squared_error: 0.0066 - val_loss: 6.9469e-05 - val_root_mean_squared_error: 0.0083\n",
            "Epoch 252/300\n",
            "47/47 [==============================] - 0s 7ms/step - loss: 5.4607e-05 - root_mean_squared_error: 0.0074 - val_loss: 4.0084e-05 - val_root_mean_squared_error: 0.0063\n",
            "Epoch 253/300\n",
            "47/47 [==============================] - 0s 7ms/step - loss: 4.2596e-05 - root_mean_squared_error: 0.0065 - val_loss: 4.2443e-05 - val_root_mean_squared_error: 0.0065\n",
            "Epoch 254/300\n",
            "47/47 [==============================] - 0s 7ms/step - loss: 4.8063e-05 - root_mean_squared_error: 0.0069 - val_loss: 4.5394e-05 - val_root_mean_squared_error: 0.0067\n",
            "Epoch 255/300\n",
            "47/47 [==============================] - 0s 7ms/step - loss: 4.4266e-05 - root_mean_squared_error: 0.0067 - val_loss: 4.7473e-05 - val_root_mean_squared_error: 0.0069\n",
            "Epoch 256/300\n",
            "44/47 [===========================>..] - ETA: 0s - loss: 4.9606e-05 - root_mean_squared_error: 0.0070"
          ]
        },
        {
          "output_type": "stream",
          "name": "stderr",
          "text": [
            "WARNING:absl:Found untraced functions such as lstm_cell_layer_call_fn, lstm_cell_layer_call_and_return_conditional_losses while saving (showing 2 of 2). These functions will not be directly callable after loading.\n",
            "WARNING:absl:<keras.layers.recurrent.LSTMCell object at 0x7f3675433d50> has the same name 'LSTMCell' as a built-in Keras object. Consider renaming <class 'keras.layers.recurrent.LSTMCell'> to avoid naming conflicts when loading with `tf.keras.models.load_model`. If renaming is not possible, pass the object in the `custom_objects` parameter of the load function.\n"
          ]
        },
        {
          "output_type": "stream",
          "name": "stdout",
          "text": [
            "\b\b\b\b\b\b\b\b\b\b\b\b\b\b\b\b\b\b\b\b\b\b\b\b\b\b\b\b\b\b\b\b\b\b\b\b\b\b\b\b\b\b\b\b\b\b\b\b\b\b\b\b\b\b\b\b\b\b\b\b\b\b\b\b\b\b\b\b\b\b\b\b\b\b\b\b\b\b\b\b\b\b\b\b\b\b\b\b\b\b\b\b\b\b\b\b\b\b\b\b\b\r47/47 [==============================] - 5s 100ms/step - loss: 4.8925e-05 - root_mean_squared_error: 0.0070 - val_loss: 3.9728e-05 - val_root_mean_squared_error: 0.0063\n",
            "Epoch 257/300\n",
            "47/47 [==============================] - 0s 6ms/step - loss: 4.7084e-05 - root_mean_squared_error: 0.0069 - val_loss: 4.0165e-05 - val_root_mean_squared_error: 0.0063\n",
            "Epoch 258/300\n",
            "44/47 [===========================>..] - ETA: 0s - loss: 5.2198e-05 - root_mean_squared_error: 0.0072"
          ]
        },
        {
          "output_type": "stream",
          "name": "stderr",
          "text": [
            "WARNING:absl:Found untraced functions such as lstm_cell_layer_call_fn, lstm_cell_layer_call_and_return_conditional_losses while saving (showing 2 of 2). These functions will not be directly callable after loading.\n",
            "WARNING:absl:<keras.layers.recurrent.LSTMCell object at 0x7f3675433d50> has the same name 'LSTMCell' as a built-in Keras object. Consider renaming <class 'keras.layers.recurrent.LSTMCell'> to avoid naming conflicts when loading with `tf.keras.models.load_model`. If renaming is not possible, pass the object in the `custom_objects` parameter of the load function.\n"
          ]
        },
        {
          "output_type": "stream",
          "name": "stdout",
          "text": [
            "\b\b\b\b\b\b\b\b\b\b\b\b\b\b\b\b\b\b\b\b\b\b\b\b\b\b\b\b\b\b\b\b\b\b\b\b\b\b\b\b\b\b\b\b\b\b\b\b\b\b\b\b\b\b\b\b\b\b\b\b\b\b\b\b\b\b\b\b\b\b\b\b\b\b\b\b\b\b\b\b\b\b\b\b\b\b\b\b\b\b\b\b\b\b\b\b\b\b\b\b\b\r47/47 [==============================] - 5s 107ms/step - loss: 5.0793e-05 - root_mean_squared_error: 0.0071 - val_loss: 3.8797e-05 - val_root_mean_squared_error: 0.0062\n",
            "Epoch 259/300\n",
            "40/47 [========================>.....] - ETA: 0s - loss: 4.0555e-05 - root_mean_squared_error: 0.0064"
          ]
        },
        {
          "output_type": "stream",
          "name": "stderr",
          "text": [
            "WARNING:absl:Found untraced functions such as lstm_cell_layer_call_fn, lstm_cell_layer_call_and_return_conditional_losses while saving (showing 2 of 2). These functions will not be directly callable after loading.\n",
            "WARNING:absl:<keras.layers.recurrent.LSTMCell object at 0x7f3675433d50> has the same name 'LSTMCell' as a built-in Keras object. Consider renaming <class 'keras.layers.recurrent.LSTMCell'> to avoid naming conflicts when loading with `tf.keras.models.load_model`. If renaming is not possible, pass the object in the `custom_objects` parameter of the load function.\n"
          ]
        },
        {
          "output_type": "stream",
          "name": "stdout",
          "text": [
            "\b\b\b\b\b\b\b\b\b\b\b\b\b\b\b\b\b\b\b\b\b\b\b\b\b\b\b\b\b\b\b\b\b\b\b\b\b\b\b\b\b\b\b\b\b\b\b\b\b\b\b\b\b\b\b\b\b\b\b\b\b\b\b\b\b\b\b\b\b\b\b\b\b\b\b\b\b\b\b\b\b\b\b\b\b\b\b\b\b\b\b\b\b\b\b\b\b\b\b\b\b\r47/47 [==============================] - 5s 106ms/step - loss: 4.0480e-05 - root_mean_squared_error: 0.0064 - val_loss: 3.8765e-05 - val_root_mean_squared_error: 0.0062\n",
            "Epoch 260/300\n",
            "47/47 [==============================] - 0s 6ms/step - loss: 4.2443e-05 - root_mean_squared_error: 0.0065 - val_loss: 3.8786e-05 - val_root_mean_squared_error: 0.0062\n",
            "Epoch 261/300\n",
            "47/47 [==============================] - 0s 6ms/step - loss: 4.7999e-05 - root_mean_squared_error: 0.0069 - val_loss: 5.1148e-05 - val_root_mean_squared_error: 0.0072\n",
            "Epoch 262/300\n",
            "47/47 [==============================] - 0s 6ms/step - loss: 4.4630e-05 - root_mean_squared_error: 0.0067 - val_loss: 4.5389e-05 - val_root_mean_squared_error: 0.0067\n",
            "Epoch 263/300\n",
            "47/47 [==============================] - 0s 6ms/step - loss: 5.1109e-05 - root_mean_squared_error: 0.0071 - val_loss: 5.3230e-05 - val_root_mean_squared_error: 0.0073\n",
            "Epoch 264/300\n",
            "47/47 [==============================] - 0s 7ms/step - loss: 4.1572e-05 - root_mean_squared_error: 0.0064 - val_loss: 4.8244e-05 - val_root_mean_squared_error: 0.0069\n",
            "Epoch 265/300\n",
            "46/47 [============================>.] - ETA: 0s - loss: 4.1178e-05 - root_mean_squared_error: 0.0064"
          ]
        },
        {
          "output_type": "stream",
          "name": "stderr",
          "text": [
            "WARNING:absl:Found untraced functions such as lstm_cell_layer_call_fn, lstm_cell_layer_call_and_return_conditional_losses while saving (showing 2 of 2). These functions will not be directly callable after loading.\n",
            "WARNING:absl:<keras.layers.recurrent.LSTMCell object at 0x7f3675433d50> has the same name 'LSTMCell' as a built-in Keras object. Consider renaming <class 'keras.layers.recurrent.LSTMCell'> to avoid naming conflicts when loading with `tf.keras.models.load_model`. If renaming is not possible, pass the object in the `custom_objects` parameter of the load function.\n"
          ]
        },
        {
          "output_type": "stream",
          "name": "stdout",
          "text": [
            "\b\b\b\b\b\b\b\b\b\b\b\b\b\b\b\b\b\b\b\b\b\b\b\b\b\b\b\b\b\b\b\b\b\b\b\b\b\b\b\b\b\b\b\b\b\b\b\b\b\b\b\b\b\b\b\b\b\b\b\b\b\b\b\b\b\b\b\b\b\b\b\b\b\b\b\b\b\b\b\b\b\b\b\b\b\b\b\b\b\b\b\b\b\b\b\b\b\b\b\b\b\r47/47 [==============================] - 5s 99ms/step - loss: 4.1181e-05 - root_mean_squared_error: 0.0064 - val_loss: 3.8347e-05 - val_root_mean_squared_error: 0.0062\n",
            "Epoch 266/300\n",
            "47/47 [==============================] - 0s 6ms/step - loss: 4.0431e-05 - root_mean_squared_error: 0.0064 - val_loss: 4.6986e-05 - val_root_mean_squared_error: 0.0069\n",
            "Epoch 267/300\n",
            "47/47 [==============================] - 0s 6ms/step - loss: 4.3075e-05 - root_mean_squared_error: 0.0066 - val_loss: 5.0561e-05 - val_root_mean_squared_error: 0.0071\n",
            "Epoch 268/300\n",
            "47/47 [==============================] - 0s 6ms/step - loss: 4.2956e-05 - root_mean_squared_error: 0.0066 - val_loss: 3.8464e-05 - val_root_mean_squared_error: 0.0062\n",
            "Epoch 269/300\n",
            "47/47 [==============================] - 0s 6ms/step - loss: 4.7095e-05 - root_mean_squared_error: 0.0069 - val_loss: 4.1101e-05 - val_root_mean_squared_error: 0.0064\n",
            "Epoch 270/300\n",
            "47/47 [==============================] - 0s 6ms/step - loss: 4.4915e-05 - root_mean_squared_error: 0.0067 - val_loss: 4.2636e-05 - val_root_mean_squared_error: 0.0065\n",
            "Epoch 271/300\n",
            "47/47 [==============================] - 0s 6ms/step - loss: 4.9122e-05 - root_mean_squared_error: 0.0070 - val_loss: 5.6289e-05 - val_root_mean_squared_error: 0.0075\n",
            "Epoch 272/300\n",
            "41/47 [=========================>....] - ETA: 0s - loss: 3.9446e-05 - root_mean_squared_error: 0.0063"
          ]
        },
        {
          "output_type": "stream",
          "name": "stderr",
          "text": [
            "WARNING:absl:Found untraced functions such as lstm_cell_layer_call_fn, lstm_cell_layer_call_and_return_conditional_losses while saving (showing 2 of 2). These functions will not be directly callable after loading.\n",
            "WARNING:absl:<keras.layers.recurrent.LSTMCell object at 0x7f3675433d50> has the same name 'LSTMCell' as a built-in Keras object. Consider renaming <class 'keras.layers.recurrent.LSTMCell'> to avoid naming conflicts when loading with `tf.keras.models.load_model`. If renaming is not possible, pass the object in the `custom_objects` parameter of the load function.\n"
          ]
        },
        {
          "output_type": "stream",
          "name": "stdout",
          "text": [
            "\b\b\b\b\b\b\b\b\b\b\b\b\b\b\b\b\b\b\b\b\b\b\b\b\b\b\b\b\b\b\b\b\b\b\b\b\b\b\b\b\b\b\b\b\b\b\b\b\b\b\b\b\b\b\b\b\b\b\b\b\b\b\b\b\b\b\b\b\b\b\b\b\b\b\b\b\b\b\b\b\b\b\b\b\b\b\b\b\b\b\b\b\b\b\b\b\b\b\b\b\b\r47/47 [==============================] - 5s 106ms/step - loss: 3.9658e-05 - root_mean_squared_error: 0.0063 - val_loss: 3.7867e-05 - val_root_mean_squared_error: 0.0062\n",
            "Epoch 273/300\n",
            "47/47 [==============================] - 0s 5ms/step - loss: 4.4247e-05 - root_mean_squared_error: 0.0067 - val_loss: 4.0881e-05 - val_root_mean_squared_error: 0.0064\n",
            "Epoch 274/300\n",
            "47/47 [==============================] - 0s 6ms/step - loss: 3.9669e-05 - root_mean_squared_error: 0.0063 - val_loss: 5.1998e-05 - val_root_mean_squared_error: 0.0072\n",
            "Epoch 275/300\n",
            "47/47 [==============================] - 0s 6ms/step - loss: 3.8820e-05 - root_mean_squared_error: 0.0062 - val_loss: 3.8584e-05 - val_root_mean_squared_error: 0.0062\n",
            "Epoch 276/300\n",
            "47/47 [==============================] - 0s 6ms/step - loss: 4.0836e-05 - root_mean_squared_error: 0.0064 - val_loss: 5.3442e-05 - val_root_mean_squared_error: 0.0073\n",
            "Epoch 277/300\n",
            "47/47 [==============================] - 0s 6ms/step - loss: 6.5094e-05 - root_mean_squared_error: 0.0081 - val_loss: 5.3739e-05 - val_root_mean_squared_error: 0.0073\n",
            "Epoch 278/300\n",
            "47/47 [==============================] - 0s 6ms/step - loss: 4.5151e-05 - root_mean_squared_error: 0.0067 - val_loss: 4.3040e-05 - val_root_mean_squared_error: 0.0066\n",
            "Epoch 279/300\n",
            "47/47 [==============================] - 0s 7ms/step - loss: 4.0602e-05 - root_mean_squared_error: 0.0064 - val_loss: 5.9467e-05 - val_root_mean_squared_error: 0.0077\n",
            "Epoch 280/300\n",
            "47/47 [==============================] - 0s 7ms/step - loss: 4.3210e-05 - root_mean_squared_error: 0.0066 - val_loss: 4.1300e-05 - val_root_mean_squared_error: 0.0064\n",
            "Epoch 281/300\n",
            "47/47 [==============================] - 0s 7ms/step - loss: 3.9123e-05 - root_mean_squared_error: 0.0063 - val_loss: 6.4816e-05 - val_root_mean_squared_error: 0.0081\n",
            "Epoch 282/300\n",
            "47/47 [==============================] - 0s 7ms/step - loss: 4.8250e-05 - root_mean_squared_error: 0.0069 - val_loss: 4.1583e-05 - val_root_mean_squared_error: 0.0064\n",
            "Epoch 283/300\n",
            "47/47 [==============================] - 0s 7ms/step - loss: 4.0622e-05 - root_mean_squared_error: 0.0064 - val_loss: 7.0800e-05 - val_root_mean_squared_error: 0.0084\n",
            "Epoch 284/300\n",
            "47/47 [==============================] - 0s 7ms/step - loss: 4.9317e-05 - root_mean_squared_error: 0.0070 - val_loss: 6.9026e-05 - val_root_mean_squared_error: 0.0083\n",
            "Epoch 285/300\n",
            "47/47 [==============================] - 0s 7ms/step - loss: 4.1013e-05 - root_mean_squared_error: 0.0064 - val_loss: 4.5318e-05 - val_root_mean_squared_error: 0.0067\n",
            "Epoch 286/300\n",
            "47/47 [==============================] - 0s 7ms/step - loss: 4.1886e-05 - root_mean_squared_error: 0.0065 - val_loss: 5.2256e-05 - val_root_mean_squared_error: 0.0072\n",
            "Epoch 287/300\n",
            "47/47 [==============================] - 0s 7ms/step - loss: 4.2451e-05 - root_mean_squared_error: 0.0065 - val_loss: 1.0053e-04 - val_root_mean_squared_error: 0.0100\n",
            "Epoch 288/300\n",
            "47/47 [==============================] - 0s 7ms/step - loss: 4.7486e-05 - root_mean_squared_error: 0.0069 - val_loss: 6.5144e-05 - val_root_mean_squared_error: 0.0081\n",
            "Epoch 289/300\n",
            "47/47 [==============================] - 0s 7ms/step - loss: 5.4209e-05 - root_mean_squared_error: 0.0074 - val_loss: 3.8098e-05 - val_root_mean_squared_error: 0.0062\n",
            "Epoch 290/300\n",
            "47/47 [==============================] - 0s 7ms/step - loss: 4.9421e-05 - root_mean_squared_error: 0.0070 - val_loss: 5.3005e-05 - val_root_mean_squared_error: 0.0073\n",
            "Epoch 291/300\n",
            "47/47 [==============================] - 0s 7ms/step - loss: 4.5760e-05 - root_mean_squared_error: 0.0068 - val_loss: 7.6992e-05 - val_root_mean_squared_error: 0.0088\n",
            "Epoch 292/300\n",
            "47/47 [==============================] - 0s 7ms/step - loss: 3.9975e-05 - root_mean_squared_error: 0.0063 - val_loss: 4.2261e-05 - val_root_mean_squared_error: 0.0065\n",
            "Epoch 293/300\n",
            "44/47 [===========================>..] - ETA: 0s - loss: 4.3238e-05 - root_mean_squared_error: 0.0066"
          ]
        },
        {
          "output_type": "stream",
          "name": "stderr",
          "text": [
            "WARNING:absl:Found untraced functions such as lstm_cell_layer_call_fn, lstm_cell_layer_call_and_return_conditional_losses while saving (showing 2 of 2). These functions will not be directly callable after loading.\n",
            "WARNING:absl:<keras.layers.recurrent.LSTMCell object at 0x7f3675433d50> has the same name 'LSTMCell' as a built-in Keras object. Consider renaming <class 'keras.layers.recurrent.LSTMCell'> to avoid naming conflicts when loading with `tf.keras.models.load_model`. If renaming is not possible, pass the object in the `custom_objects` parameter of the load function.\n"
          ]
        },
        {
          "output_type": "stream",
          "name": "stdout",
          "text": [
            "\b\b\b\b\b\b\b\b\b\b\b\b\b\b\b\b\b\b\b\b\b\b\b\b\b\b\b\b\b\b\b\b\b\b\b\b\b\b\b\b\b\b\b\b\b\b\b\b\b\b\b\b\b\b\b\b\b\b\b\b\b\b\b\b\b\b\b\b\b\b\b\b\b\b\b\b\b\b\b\b\b\b\b\b\b\b\b\b\b\b\b\b\b\b\b\b\b\b\b\b\b\r47/47 [==============================] - 5s 109ms/step - loss: 4.3462e-05 - root_mean_squared_error: 0.0066 - val_loss: 3.7440e-05 - val_root_mean_squared_error: 0.0061\n",
            "Epoch 294/300\n",
            "47/47 [==============================] - 0s 6ms/step - loss: 4.3117e-05 - root_mean_squared_error: 0.0066 - val_loss: 6.2671e-05 - val_root_mean_squared_error: 0.0079\n",
            "Epoch 295/300\n",
            "47/47 [==============================] - 0s 7ms/step - loss: 3.6090e-05 - root_mean_squared_error: 0.0060 - val_loss: 4.5924e-05 - val_root_mean_squared_error: 0.0068\n",
            "Epoch 296/300\n",
            "45/47 [===========================>..] - ETA: 0s - loss: 4.2383e-05 - root_mean_squared_error: 0.0065"
          ]
        },
        {
          "output_type": "stream",
          "name": "stderr",
          "text": [
            "WARNING:absl:Found untraced functions such as lstm_cell_layer_call_fn, lstm_cell_layer_call_and_return_conditional_losses while saving (showing 2 of 2). These functions will not be directly callable after loading.\n",
            "WARNING:absl:<keras.layers.recurrent.LSTMCell object at 0x7f3675433d50> has the same name 'LSTMCell' as a built-in Keras object. Consider renaming <class 'keras.layers.recurrent.LSTMCell'> to avoid naming conflicts when loading with `tf.keras.models.load_model`. If renaming is not possible, pass the object in the `custom_objects` parameter of the load function.\n"
          ]
        },
        {
          "output_type": "stream",
          "name": "stdout",
          "text": [
            "\b\b\b\b\b\b\b\b\b\b\b\b\b\b\b\b\b\b\b\b\b\b\b\b\b\b\b\b\b\b\b\b\b\b\b\b\b\b\b\b\b\b\b\b\b\b\b\b\b\b\b\b\b\b\b\b\b\b\b\b\b\b\b\b\b\b\b\b\b\b\b\b\b\b\b\b\b\b\b\b\b\b\b\b\b\b\b\b\b\b\b\b\b\b\b\b\b\b\b\b\b\r47/47 [==============================] - 5s 101ms/step - loss: 4.1988e-05 - root_mean_squared_error: 0.0065 - val_loss: 3.6856e-05 - val_root_mean_squared_error: 0.0061\n",
            "Epoch 297/300\n",
            "47/47 [==============================] - 0s 7ms/step - loss: 3.7726e-05 - root_mean_squared_error: 0.0061 - val_loss: 5.9075e-05 - val_root_mean_squared_error: 0.0077\n",
            "Epoch 298/300\n",
            "47/47 [==============================] - 0s 7ms/step - loss: 4.5773e-05 - root_mean_squared_error: 0.0068 - val_loss: 1.2093e-04 - val_root_mean_squared_error: 0.0110\n",
            "Epoch 299/300\n",
            "47/47 [==============================] - 0s 7ms/step - loss: 4.2366e-05 - root_mean_squared_error: 0.0065 - val_loss: 3.8622e-05 - val_root_mean_squared_error: 0.0062\n",
            "Epoch 300/300\n",
            "47/47 [==============================] - 0s 7ms/step - loss: 4.0966e-05 - root_mean_squared_error: 0.0064 - val_loss: 4.2797e-05 - val_root_mean_squared_error: 0.0065\n"
          ]
        },
        {
          "output_type": "execute_result",
          "data": {
            "text/plain": [
              "<keras.callbacks.History at 0x7f36710ab210>"
            ]
          },
          "metadata": {},
          "execution_count": 10
        }
      ]
    },
    {
      "cell_type": "code",
      "source": [
        "from tensorflow.keras.models import load_model\n",
        "model1 = load_model('model1/')"
      ],
      "metadata": {
        "id": "qTkhycI5MAZE"
      },
      "execution_count": 11,
      "outputs": []
    },
    {
      "cell_type": "code",
      "source": [
        "train_predictions = model1.predict(X_train1).flatten()\n",
        "train_results = pd.DataFrame(data={'Train Predictions':train_predictions, 'Actuals':y_train1})\n",
        "train_results"
      ],
      "metadata": {
        "colab": {
          "base_uri": "https://localhost:8080/",
          "height": 424
        },
        "id": "H2HTFrCYMClc",
        "outputId": "f48253e5-9d3a-4050-9e35-cd6456f6e608"
      },
      "execution_count": 12,
      "outputs": [
        {
          "output_type": "execute_result",
          "data": {
            "text/plain": [
              "      Train Predictions  Actuals\n",
              "0              0.801357     0.80\n",
              "1              0.799517     0.81\n",
              "2              0.804578     0.81\n",
              "3              0.809385     0.81\n",
              "4              0.809645     0.81\n",
              "...                 ...      ...\n",
              "1495           0.810910     0.80\n",
              "1496           0.797235     0.79\n",
              "1497           0.783487     0.78\n",
              "1498           0.773583     0.78\n",
              "1499           0.772317     0.77\n",
              "\n",
              "[1500 rows x 2 columns]"
            ],
            "text/html": [
              "\n",
              "  <div id=\"df-3d6dd1ef-803b-4261-b395-0a3c7228c536\">\n",
              "    <div class=\"colab-df-container\">\n",
              "      <div>\n",
              "<style scoped>\n",
              "    .dataframe tbody tr th:only-of-type {\n",
              "        vertical-align: middle;\n",
              "    }\n",
              "\n",
              "    .dataframe tbody tr th {\n",
              "        vertical-align: top;\n",
              "    }\n",
              "\n",
              "    .dataframe thead th {\n",
              "        text-align: right;\n",
              "    }\n",
              "</style>\n",
              "<table border=\"1\" class=\"dataframe\">\n",
              "  <thead>\n",
              "    <tr style=\"text-align: right;\">\n",
              "      <th></th>\n",
              "      <th>Train Predictions</th>\n",
              "      <th>Actuals</th>\n",
              "    </tr>\n",
              "  </thead>\n",
              "  <tbody>\n",
              "    <tr>\n",
              "      <th>0</th>\n",
              "      <td>0.801357</td>\n",
              "      <td>0.80</td>\n",
              "    </tr>\n",
              "    <tr>\n",
              "      <th>1</th>\n",
              "      <td>0.799517</td>\n",
              "      <td>0.81</td>\n",
              "    </tr>\n",
              "    <tr>\n",
              "      <th>2</th>\n",
              "      <td>0.804578</td>\n",
              "      <td>0.81</td>\n",
              "    </tr>\n",
              "    <tr>\n",
              "      <th>3</th>\n",
              "      <td>0.809385</td>\n",
              "      <td>0.81</td>\n",
              "    </tr>\n",
              "    <tr>\n",
              "      <th>4</th>\n",
              "      <td>0.809645</td>\n",
              "      <td>0.81</td>\n",
              "    </tr>\n",
              "    <tr>\n",
              "      <th>...</th>\n",
              "      <td>...</td>\n",
              "      <td>...</td>\n",
              "    </tr>\n",
              "    <tr>\n",
              "      <th>1495</th>\n",
              "      <td>0.810910</td>\n",
              "      <td>0.80</td>\n",
              "    </tr>\n",
              "    <tr>\n",
              "      <th>1496</th>\n",
              "      <td>0.797235</td>\n",
              "      <td>0.79</td>\n",
              "    </tr>\n",
              "    <tr>\n",
              "      <th>1497</th>\n",
              "      <td>0.783487</td>\n",
              "      <td>0.78</td>\n",
              "    </tr>\n",
              "    <tr>\n",
              "      <th>1498</th>\n",
              "      <td>0.773583</td>\n",
              "      <td>0.78</td>\n",
              "    </tr>\n",
              "    <tr>\n",
              "      <th>1499</th>\n",
              "      <td>0.772317</td>\n",
              "      <td>0.77</td>\n",
              "    </tr>\n",
              "  </tbody>\n",
              "</table>\n",
              "<p>1500 rows × 2 columns</p>\n",
              "</div>\n",
              "      <button class=\"colab-df-convert\" onclick=\"convertToInteractive('df-3d6dd1ef-803b-4261-b395-0a3c7228c536')\"\n",
              "              title=\"Convert this dataframe to an interactive table.\"\n",
              "              style=\"display:none;\">\n",
              "        \n",
              "  <svg xmlns=\"http://www.w3.org/2000/svg\" height=\"24px\"viewBox=\"0 0 24 24\"\n",
              "       width=\"24px\">\n",
              "    <path d=\"M0 0h24v24H0V0z\" fill=\"none\"/>\n",
              "    <path d=\"M18.56 5.44l.94 2.06.94-2.06 2.06-.94-2.06-.94-.94-2.06-.94 2.06-2.06.94zm-11 1L8.5 8.5l.94-2.06 2.06-.94-2.06-.94L8.5 2.5l-.94 2.06-2.06.94zm10 10l.94 2.06.94-2.06 2.06-.94-2.06-.94-.94-2.06-.94 2.06-2.06.94z\"/><path d=\"M17.41 7.96l-1.37-1.37c-.4-.4-.92-.59-1.43-.59-.52 0-1.04.2-1.43.59L10.3 9.45l-7.72 7.72c-.78.78-.78 2.05 0 2.83L4 21.41c.39.39.9.59 1.41.59.51 0 1.02-.2 1.41-.59l7.78-7.78 2.81-2.81c.8-.78.8-2.07 0-2.86zM5.41 20L4 18.59l7.72-7.72 1.47 1.35L5.41 20z\"/>\n",
              "  </svg>\n",
              "      </button>\n",
              "      \n",
              "  <style>\n",
              "    .colab-df-container {\n",
              "      display:flex;\n",
              "      flex-wrap:wrap;\n",
              "      gap: 12px;\n",
              "    }\n",
              "\n",
              "    .colab-df-convert {\n",
              "      background-color: #E8F0FE;\n",
              "      border: none;\n",
              "      border-radius: 50%;\n",
              "      cursor: pointer;\n",
              "      display: none;\n",
              "      fill: #1967D2;\n",
              "      height: 32px;\n",
              "      padding: 0 0 0 0;\n",
              "      width: 32px;\n",
              "    }\n",
              "\n",
              "    .colab-df-convert:hover {\n",
              "      background-color: #E2EBFA;\n",
              "      box-shadow: 0px 1px 2px rgba(60, 64, 67, 0.3), 0px 1px 3px 1px rgba(60, 64, 67, 0.15);\n",
              "      fill: #174EA6;\n",
              "    }\n",
              "\n",
              "    [theme=dark] .colab-df-convert {\n",
              "      background-color: #3B4455;\n",
              "      fill: #D2E3FC;\n",
              "    }\n",
              "\n",
              "    [theme=dark] .colab-df-convert:hover {\n",
              "      background-color: #434B5C;\n",
              "      box-shadow: 0px 1px 3px 1px rgba(0, 0, 0, 0.15);\n",
              "      filter: drop-shadow(0px 1px 2px rgba(0, 0, 0, 0.3));\n",
              "      fill: #FFFFFF;\n",
              "    }\n",
              "  </style>\n",
              "\n",
              "      <script>\n",
              "        const buttonEl =\n",
              "          document.querySelector('#df-3d6dd1ef-803b-4261-b395-0a3c7228c536 button.colab-df-convert');\n",
              "        buttonEl.style.display =\n",
              "          google.colab.kernel.accessAllowed ? 'block' : 'none';\n",
              "\n",
              "        async function convertToInteractive(key) {\n",
              "          const element = document.querySelector('#df-3d6dd1ef-803b-4261-b395-0a3c7228c536');\n",
              "          const dataTable =\n",
              "            await google.colab.kernel.invokeFunction('convertToInteractive',\n",
              "                                                     [key], {});\n",
              "          if (!dataTable) return;\n",
              "\n",
              "          const docLinkHtml = 'Like what you see? Visit the ' +\n",
              "            '<a target=\"_blank\" href=https://colab.research.google.com/notebooks/data_table.ipynb>data table notebook</a>'\n",
              "            + ' to learn more about interactive tables.';\n",
              "          element.innerHTML = '';\n",
              "          dataTable['output_type'] = 'display_data';\n",
              "          await google.colab.output.renderOutput(dataTable, element);\n",
              "          const docLink = document.createElement('div');\n",
              "          docLink.innerHTML = docLinkHtml;\n",
              "          element.appendChild(docLink);\n",
              "        }\n",
              "      </script>\n",
              "    </div>\n",
              "  </div>\n",
              "  "
            ]
          },
          "metadata": {},
          "execution_count": 12
        }
      ]
    },
    {
      "cell_type": "code",
      "source": [
        "import matplotlib.pyplot as plt\n",
        "plt.plot(train_results['Train Predictions'][1000:1100], label='Predictions')\n",
        "plt.plot(train_results['Actuals'][1000:1100], label='Actuals')\n",
        "plt.legend()"
      ],
      "metadata": {
        "colab": {
          "base_uri": "https://localhost:8080/",
          "height": 282
        },
        "id": "p3Oz5LBUmg1X",
        "outputId": "9e569843-8500-4e88-a270-ceaba9a2ee6c"
      },
      "execution_count": 13,
      "outputs": [
        {
          "output_type": "execute_result",
          "data": {
            "text/plain": [
              "<matplotlib.legend.Legend at 0x7f3669eae450>"
            ]
          },
          "metadata": {},
          "execution_count": 13
        },
        {
          "output_type": "display_data",
          "data": {
            "text/plain": [
              "<Figure size 432x288 with 1 Axes>"
            ],
            "image/png": "[encoded data removed]"
          },
          "metadata": {
            "needs_background": "light"
          }
        }
      ]
    },
    {
      "cell_type": "code",
      "source": [
        "import matplotlib.pyplot as plt\n",
        "plt.plot(train_results['Train Predictions'][1000:1400], label='Predictions')\n",
        "plt.plot(train_results['Actuals'][1000:1400], label='Actuals')\n",
        "plt.legend()"
      ],
      "metadata": {
        "colab": {
          "base_uri": "https://localhost:8080/",
          "height": 282
        },
        "id": "zB6cb8lql34G",
        "outputId": "eac692f7-d8e0-48f5-e0d9-e25708db68eb"
      },
      "execution_count": 14,
      "outputs": [
        {
          "output_type": "execute_result",
          "data": {
            "text/plain": [
              "<matplotlib.legend.Legend at 0x7f366d54bf90>"
            ]
          },
          "metadata": {},
          "execution_count": 14
        },
        {
          "output_type": "display_data",
          "data": {
            "text/plain": [
              "<Figure size 432x288 with 1 Axes>"
            ],
            "image/png": "[encoded data removed]"
          },
          "metadata": {
            "needs_background": "light"
          }
        }
      ]
    },
    {
      "cell_type": "code",
      "source": [
        "import matplotlib.pyplot as plt\n",
        "plt.plot(train_results['Train Predictions'][1:150], label='Predictions')\n",
        "plt.plot(train_results['Actuals'][1:150], label='Actuals')\n",
        "plt.legend()"
      ],
      "metadata": {
        "colab": {
          "base_uri": "https://localhost:8080/",
          "height": 282
        },
        "id": "9W6PzUtJMEUc",
        "outputId": "2809f7af-dfdd-4676-cbd9-5a11b71ddf18"
      },
      "execution_count": 15,
      "outputs": [
        {
          "output_type": "execute_result",
          "data": {
            "text/plain": [
              "<matplotlib.legend.Legend at 0x7f3668efd550>"
            ]
          },
          "metadata": {},
          "execution_count": 15
        },
        {
          "output_type": "display_data",
          "data": {
            "text/plain": [
              "<Figure size 432x288 with 1 Axes>"
            ],
            "image/png": "[encoded data removed]"
          },
          "metadata": {
            "needs_background": "light"
          }
        }
      ]
    },
    {
      "cell_type": "code",
      "source": [
        "keras.metrics.mean_absolute_error(y_train1, train_predictions).numpy()"
      ],
      "metadata": {
        "id": "1qrA6gaQHfG0",
        "colab": {
          "base_uri": "https://localhost:8080/"
        },
        "outputId": "cd63ea31-425d-41ef-e1b4-938a7b87f211"
      },
      "execution_count": 16,
      "outputs": [
        {
          "output_type": "execute_result",
          "data": {
            "text/plain": [
              "0.004591818"
            ]
          },
          "metadata": {},
          "execution_count": 16
        }
      ]
    },
    {
      "cell_type": "code",
      "source": [
        "keras.metrics.mean_absolute_percentage_error(y_train1, train_predictions).numpy()"
      ],
      "metadata": {
        "colab": {
          "base_uri": "https://localhost:8080/"
        },
        "id": "UlZ05mFSlowc",
        "outputId": "db97c41e-a61b-4c96-e896-1c4f1e2a6046"
      },
      "execution_count": 77,
      "outputs": [
        {
          "output_type": "execute_result",
          "data": {
            "text/plain": [
              "0.57951707"
            ]
          },
          "metadata": {},
          "execution_count": 77
        }
      ]
    },
    {
      "cell_type": "code",
      "source": [
        "keras.metrics.mean_squared_error(y_train1, train_predictions).numpy()"
      ],
      "metadata": {
        "colab": {
          "base_uri": "https://localhost:8080/"
        },
        "id": "mSyw18p6nEkm",
        "outputId": "382afaf1-56cf-4994-86cd-c4903398f4d4"
      },
      "execution_count": 78,
      "outputs": [
        {
          "output_type": "execute_result",
          "data": {
            "text/plain": [
              "3.256388e-05"
            ]
          },
          "metadata": {},
          "execution_count": 78
        }
      ]
    }
  ]
}