{
  "nbformat": 4,
  "nbformat_minor": 0,
  "metadata": {
    "colab": {
      "name": "Beds Occupancy LSTM TS exp 4 - 500 epoch.ipynb",
      "provenance": [],
      "authorship_tag": "ABX9TyPRGwQM6MFjG5yjVDo9nLRC",
      "include_colab_link": true
    },
    "kernelspec": {
      "name": "python3",
      "display_name": "Python 3"
    },
    "language_info": {
      "name": "python"
    }
  },
  "cells": [
    {
      "cell_type": "markdown",
      "metadata": {
        "id": "view-in-github",
        "colab_type": "text"
      },
      "source": [
        "<a href=\"https://colab.research.google.com/github/020/020.github.io/blob/master/Beds_Occupancy_LSTM_TS_exp_4_500_epoch.ipynb\" target=\"_parent\"><img src=\"https://colab.research.google.com/assets/colab-badge.svg\" alt=\"Open In Colab\"/></a>"
      ]
    },
    {
      "cell_type": "code",
      "execution_count": 1,
      "metadata": {
        "id": "b5McPJSz1k_0"
      },
      "outputs": [],
      "source": [
        "import tensorflow as tf\n",
        "import os\n",
        "import pandas as pd\n",
        "import numpy as np\n",
        "import matplotlib.pyplot as plt\n",
        "keras = tf.keras"
      ]
    },
    {
      "cell_type": "code",
      "source": [
        "df = pd.read_csv('/content/beds_occupied.csv')\n",
        "df"
      ],
      "metadata": {
        "colab": {
          "base_uri": "https://localhost:8080/",
          "height": 424
        },
        "id": "ndBGLT5k1uIK",
        "outputId": "29c03fb5-d4c8-4866-cf57-0e4b6e2871a8"
      },
      "execution_count": 2,
      "outputs": [
        {
          "output_type": "execute_result",
          "data": {
            "text/plain": [
              "                 date  occupied\n",
              "0     11/05/2022 0:00      0.79\n",
              "1     11/05/2022 1:00      0.79\n",
              "2     11/05/2022 2:00      0.80\n",
              "3     11/05/2022 3:00      0.80\n",
              "4     11/05/2022 4:00      0.80\n",
              "...               ...       ...\n",
              "1995  02/08/2022 3:00      0.81\n",
              "1996  02/08/2022 4:00      0.82\n",
              "1997  02/08/2022 5:00      0.82\n",
              "1998  02/08/2022 6:00      0.82\n",
              "1999  02/08/2022 7:00      0.82\n",
              "\n",
              "[2000 rows x 2 columns]"
            ],
            "text/html": [
              "\n",
              "  <div id=\"df-68603d4c-0a46-4244-bfc2-5fe5d47e5fe0\">\n",
              "    <div class=\"colab-df-container\">\n",
              "      <div>\n",
              "<style scoped>\n",
              "    .dataframe tbody tr th:only-of-type {\n",
              "        vertical-align: middle;\n",
              "    }\n",
              "\n",
              "    .dataframe tbody tr th {\n",
              "        vertical-align: top;\n",
              "    }\n",
              "\n",
              "    .dataframe thead th {\n",
              "        text-align: right;\n",
              "    }\n",
              "</style>\n",
              "<table border=\"1\" class=\"dataframe\">\n",
              "  <thead>\n",
              "    <tr style=\"text-align: right;\">\n",
              "      <th></th>\n",
              "      <th>date</th>\n",
              "      <th>occupied</th>\n",
              "    </tr>\n",
              "  </thead>\n",
              "  <tbody>\n",
              "    <tr>\n",
              "      <th>0</th>\n",
              "      <td>11/05/2022 0:00</td>\n",
              "      <td>0.79</td>\n",
              "    </tr>\n",
              "    <tr>\n",
              "      <th>1</th>\n",
              "      <td>11/05/2022 1:00</td>\n",
              "      <td>0.79</td>\n",
              "    </tr>\n",
              "    <tr>\n",
              "      <th>2</th>\n",
              "      <td>11/05/2022 2:00</td>\n",
              "      <td>0.80</td>\n",
              "    </tr>\n",
              "    <tr>\n",
              "      <th>3</th>\n",
              "      <td>11/05/2022 3:00</td>\n",
              "      <td>0.80</td>\n",
              "    </tr>\n",
              "    <tr>\n",
              "      <th>4</th>\n",
              "      <td>11/05/2022 4:00</td>\n",
              "      <td>0.80</td>\n",
              "    </tr>\n",
              "    <tr>\n",
              "      <th>...</th>\n",
              "      <td>...</td>\n",
              "      <td>...</td>\n",
              "    </tr>\n",
              "    <tr>\n",
              "      <th>1995</th>\n",
              "      <td>02/08/2022 3:00</td>\n",
              "      <td>0.81</td>\n",
              "    </tr>\n",
              "    <tr>\n",
              "      <th>1996</th>\n",
              "      <td>02/08/2022 4:00</td>\n",
              "      <td>0.82</td>\n",
              "    </tr>\n",
              "    <tr>\n",
              "      <th>1997</th>\n",
              "      <td>02/08/2022 5:00</td>\n",
              "      <td>0.82</td>\n",
              "    </tr>\n",
              "    <tr>\n",
              "      <th>1998</th>\n",
              "      <td>02/08/2022 6:00</td>\n",
              "      <td>0.82</td>\n",
              "    </tr>\n",
              "    <tr>\n",
              "      <th>1999</th>\n",
              "      <td>02/08/2022 7:00</td>\n",
              "      <td>0.82</td>\n",
              "    </tr>\n",
              "  </tbody>\n",
              "</table>\n",
              "<p>2000 rows × 2 columns</p>\n",
              "</div>\n",
              "      <button class=\"colab-df-convert\" onclick=\"convertToInteractive('df-68603d4c-0a46-4244-bfc2-5fe5d47e5fe0')\"\n",
              "              title=\"Convert this dataframe to an interactive table.\"\n",
              "              style=\"display:none;\">\n",
              "        \n",
              "  <svg xmlns=\"http://www.w3.org/2000/svg\" height=\"24px\"viewBox=\"0 0 24 24\"\n",
              "       width=\"24px\">\n",
              "    <path d=\"M0 0h24v24H0V0z\" fill=\"none\"/>\n",
              "    <path d=\"M18.56 5.44l.94 2.06.94-2.06 2.06-.94-2.06-.94-.94-2.06-.94 2.06-2.06.94zm-11 1L8.5 8.5l.94-2.06 2.06-.94-2.06-.94L8.5 2.5l-.94 2.06-2.06.94zm10 10l.94 2.06.94-2.06 2.06-.94-2.06-.94-.94-2.06-.94 2.06-2.06.94z\"/><path d=\"M17.41 7.96l-1.37-1.37c-.4-.4-.92-.59-1.43-.59-.52 0-1.04.2-1.43.59L10.3 9.45l-7.72 7.72c-.78.78-.78 2.05 0 2.83L4 21.41c.39.39.9.59 1.41.59.51 0 1.02-.2 1.41-.59l7.78-7.78 2.81-2.81c.8-.78.8-2.07 0-2.86zM5.41 20L4 18.59l7.72-7.72 1.47 1.35L5.41 20z\"/>\n",
              "  </svg>\n",
              "      </button>\n",
              "      \n",
              "  <style>\n",
              "    .colab-df-container {\n",
              "      display:flex;\n",
              "      flex-wrap:wrap;\n",
              "      gap: 12px;\n",
              "    }\n",
              "\n",
              "    .colab-df-convert {\n",
              "      background-color: #E8F0FE;\n",
              "      border: none;\n",
              "      border-radius: 50%;\n",
              "      cursor: pointer;\n",
              "      display: none;\n",
              "      fill: #1967D2;\n",
              "      height: 32px;\n",
              "      padding: 0 0 0 0;\n",
              "      width: 32px;\n",
              "    }\n",
              "\n",
              "    .colab-df-convert:hover {\n",
              "      background-color: #E2EBFA;\n",
              "      box-shadow: 0px 1px 2px rgba(60, 64, 67, 0.3), 0px 1px 3px 1px rgba(60, 64, 67, 0.15);\n",
              "      fill: #174EA6;\n",
              "    }\n",
              "\n",
              "    [theme=dark] .colab-df-convert {\n",
              "      background-color: #3B4455;\n",
              "      fill: #D2E3FC;\n",
              "    }\n",
              "\n",
              "    [theme=dark] .colab-df-convert:hover {\n",
              "      background-color: #434B5C;\n",
              "      box-shadow: 0px 1px 3px 1px rgba(0, 0, 0, 0.15);\n",
              "      filter: drop-shadow(0px 1px 2px rgba(0, 0, 0, 0.3));\n",
              "      fill: #FFFFFF;\n",
              "    }\n",
              "  </style>\n",
              "\n",
              "      <script>\n",
              "        const buttonEl =\n",
              "          document.querySelector('#df-68603d4c-0a46-4244-bfc2-5fe5d47e5fe0 button.colab-df-convert');\n",
              "        buttonEl.style.display =\n",
              "          google.colab.kernel.accessAllowed ? 'block' : 'none';\n",
              "\n",
              "        async function convertToInteractive(key) {\n",
              "          const element = document.querySelector('#df-68603d4c-0a46-4244-bfc2-5fe5d47e5fe0');\n",
              "          const dataTable =\n",
              "            await google.colab.kernel.invokeFunction('convertToInteractive',\n",
              "                                                     [key], {});\n",
              "          if (!dataTable) return;\n",
              "\n",
              "          const docLinkHtml = 'Like what you see? Visit the ' +\n",
              "            '<a target=\"_blank\" href=https://colab.research.google.com/notebooks/data_table.ipynb>data table notebook</a>'\n",
              "            + ' to learn more about interactive tables.';\n",
              "          element.innerHTML = '';\n",
              "          dataTable['output_type'] = 'display_data';\n",
              "          await google.colab.output.renderOutput(dataTable, element);\n",
              "          const docLink = document.createElement('div');\n",
              "          docLink.innerHTML = docLinkHtml;\n",
              "          element.appendChild(docLink);\n",
              "        }\n",
              "      </script>\n",
              "    </div>\n",
              "  </div>\n",
              "  "
            ]
          },
          "metadata": {},
          "execution_count": 2
        }
      ]
    },
    {
      "cell_type": "code",
      "source": [
        "df.index = pd.to_datetime(df['date'], format='%d/%m/%Y %H:%M')\n",
        "df[:26]"
      ],
      "metadata": {
        "colab": {
          "base_uri": "https://localhost:8080/",
          "height": 896
        },
        "id": "TnAG_IP61uhq",
        "outputId": "53f5f2ca-d999-48d8-b58b-b41ae1a5047f"
      },
      "execution_count": 3,
      "outputs": [
        {
          "output_type": "execute_result",
          "data": {
            "text/plain": [
              "                                 date  occupied\n",
              "date                                           \n",
              "2022-05-11 00:00:00   11/05/2022 0:00      0.79\n",
              "2022-05-11 01:00:00   11/05/2022 1:00      0.79\n",
              "2022-05-11 02:00:00   11/05/2022 2:00      0.80\n",
              "2022-05-11 03:00:00   11/05/2022 3:00      0.80\n",
              "2022-05-11 04:00:00   11/05/2022 4:00      0.80\n",
              "2022-05-11 05:00:00   11/05/2022 5:00      0.80\n",
              "2022-05-11 06:00:00   11/05/2022 6:00      0.81\n",
              "2022-05-11 07:00:00   11/05/2022 7:00      0.81\n",
              "2022-05-11 08:00:00   11/05/2022 8:00      0.81\n",
              "2022-05-11 09:00:00   11/05/2022 9:00      0.81\n",
              "2022-05-11 10:00:00  11/05/2022 10:00      0.81\n",
              "2022-05-11 11:00:00  11/05/2022 11:00      0.80\n",
              "2022-05-11 12:00:00  11/05/2022 12:00      0.79\n",
              "2022-05-11 13:00:00  11/05/2022 13:00      0.79\n",
              "2022-05-11 14:00:00  11/05/2022 14:00      0.78\n",
              "2022-05-11 15:00:00  11/05/2022 15:00      0.77\n",
              "2022-05-11 16:00:00  11/05/2022 16:00      0.77\n",
              "2022-05-11 17:00:00  11/05/2022 17:00      0.77\n",
              "2022-05-11 18:00:00  11/05/2022 18:00      0.77\n",
              "2022-05-11 19:00:00  11/05/2022 19:00      0.77\n",
              "2022-05-11 20:00:00  11/05/2022 20:00      0.78\n",
              "2022-05-11 21:00:00  11/05/2022 21:00      0.78\n",
              "2022-05-11 22:00:00  11/05/2022 22:00      0.79\n",
              "2022-05-11 23:00:00  11/05/2022 23:00      0.79\n",
              "2022-05-12 00:00:00   12/05/2022 0:00      0.79\n",
              "2022-05-12 01:00:00   12/05/2022 1:00      0.80"
            ],
            "text/html": [
              "\n",
              "  <div id=\"df-9659ce44-adc2-41a3-8460-4b0d15aed806\">\n",
              "    <div class=\"colab-df-container\">\n",
              "      <div>\n",
              "<style scoped>\n",
              "    .dataframe tbody tr th:only-of-type {\n",
              "        vertical-align: middle;\n",
              "    }\n",
              "\n",
              "    .dataframe tbody tr th {\n",
              "        vertical-align: top;\n",
              "    }\n",
              "\n",
              "    .dataframe thead th {\n",
              "        text-align: right;\n",
              "    }\n",
              "</style>\n",
              "<table border=\"1\" class=\"dataframe\">\n",
              "  <thead>\n",
              "    <tr style=\"text-align: right;\">\n",
              "      <th></th>\n",
              "      <th>date</th>\n",
              "      <th>occupied</th>\n",
              "    </tr>\n",
              "    <tr>\n",
              "      <th>date</th>\n",
              "      <th></th>\n",
              "      <th></th>\n",
              "    </tr>\n",
              "  </thead>\n",
              "  <tbody>\n",
              "    <tr>\n",
              "      <th>2022-05-11 00:00:00</th>\n",
              "      <td>11/05/2022 0:00</td>\n",
              "      <td>0.79</td>\n",
              "    </tr>\n",
              "    <tr>\n",
              "      <th>2022-05-11 01:00:00</th>\n",
              "      <td>11/05/2022 1:00</td>\n",
              "      <td>0.79</td>\n",
              "    </tr>\n",
              "    <tr>\n",
              "      <th>2022-05-11 02:00:00</th>\n",
              "      <td>11/05/2022 2:00</td>\n",
              "      <td>0.80</td>\n",
              "    </tr>\n",
              "    <tr>\n",
              "      <th>2022-05-11 03:00:00</th>\n",
              "      <td>11/05/2022 3:00</td>\n",
              "      <td>0.80</td>\n",
              "    </tr>\n",
              "    <tr>\n",
              "      <th>2022-05-11 04:00:00</th>\n",
              "      <td>11/05/2022 4:00</td>\n",
              "      <td>0.80</td>\n",
              "    </tr>\n",
              "    <tr>\n",
              "      <th>2022-05-11 05:00:00</th>\n",
              "      <td>11/05/2022 5:00</td>\n",
              "      <td>0.80</td>\n",
              "    </tr>\n",
              "    <tr>\n",
              "      <th>2022-05-11 06:00:00</th>\n",
              "      <td>11/05/2022 6:00</td>\n",
              "      <td>0.81</td>\n",
              "    </tr>\n",
              "    <tr>\n",
              "      <th>2022-05-11 07:00:00</th>\n",
              "      <td>11/05/2022 7:00</td>\n",
              "      <td>0.81</td>\n",
              "    </tr>\n",
              "    <tr>\n",
              "      <th>2022-05-11 08:00:00</th>\n",
              "      <td>11/05/2022 8:00</td>\n",
              "      <td>0.81</td>\n",
              "    </tr>\n",
              "    <tr>\n",
              "      <th>2022-05-11 09:00:00</th>\n",
              "      <td>11/05/2022 9:00</td>\n",
              "      <td>0.81</td>\n",
              "    </tr>\n",
              "    <tr>\n",
              "      <th>2022-05-11 10:00:00</th>\n",
              "      <td>11/05/2022 10:00</td>\n",
              "      <td>0.81</td>\n",
              "    </tr>\n",
              "    <tr>\n",
              "      <th>2022-05-11 11:00:00</th>\n",
              "      <td>11/05/2022 11:00</td>\n",
              "      <td>0.80</td>\n",
              "    </tr>\n",
              "    <tr>\n",
              "      <th>2022-05-11 12:00:00</th>\n",
              "      <td>11/05/2022 12:00</td>\n",
              "      <td>0.79</td>\n",
              "    </tr>\n",
              "    <tr>\n",
              "      <th>2022-05-11 13:00:00</th>\n",
              "      <td>11/05/2022 13:00</td>\n",
              "      <td>0.79</td>\n",
              "    </tr>\n",
              "    <tr>\n",
              "      <th>2022-05-11 14:00:00</th>\n",
              "      <td>11/05/2022 14:00</td>\n",
              "      <td>0.78</td>\n",
              "    </tr>\n",
              "    <tr>\n",
              "      <th>2022-05-11 15:00:00</th>\n",
              "      <td>11/05/2022 15:00</td>\n",
              "      <td>0.77</td>\n",
              "    </tr>\n",
              "    <tr>\n",
              "      <th>2022-05-11 16:00:00</th>\n",
              "      <td>11/05/2022 16:00</td>\n",
              "      <td>0.77</td>\n",
              "    </tr>\n",
              "    <tr>\n",
              "      <th>2022-05-11 17:00:00</th>\n",
              "      <td>11/05/2022 17:00</td>\n",
              "      <td>0.77</td>\n",
              "    </tr>\n",
              "    <tr>\n",
              "      <th>2022-05-11 18:00:00</th>\n",
              "      <td>11/05/2022 18:00</td>\n",
              "      <td>0.77</td>\n",
              "    </tr>\n",
              "    <tr>\n",
              "      <th>2022-05-11 19:00:00</th>\n",
              "      <td>11/05/2022 19:00</td>\n",
              "      <td>0.77</td>\n",
              "    </tr>\n",
              "    <tr>\n",
              "      <th>2022-05-11 20:00:00</th>\n",
              "      <td>11/05/2022 20:00</td>\n",
              "      <td>0.78</td>\n",
              "    </tr>\n",
              "    <tr>\n",
              "      <th>2022-05-11 21:00:00</th>\n",
              "      <td>11/05/2022 21:00</td>\n",
              "      <td>0.78</td>\n",
              "    </tr>\n",
              "    <tr>\n",
              "      <th>2022-05-11 22:00:00</th>\n",
              "      <td>11/05/2022 22:00</td>\n",
              "      <td>0.79</td>\n",
              "    </tr>\n",
              "    <tr>\n",
              "      <th>2022-05-11 23:00:00</th>\n",
              "      <td>11/05/2022 23:00</td>\n",
              "      <td>0.79</td>\n",
              "    </tr>\n",
              "    <tr>\n",
              "      <th>2022-05-12 00:00:00</th>\n",
              "      <td>12/05/2022 0:00</td>\n",
              "      <td>0.79</td>\n",
              "    </tr>\n",
              "    <tr>\n",
              "      <th>2022-05-12 01:00:00</th>\n",
              "      <td>12/05/2022 1:00</td>\n",
              "      <td>0.80</td>\n",
              "    </tr>\n",
              "  </tbody>\n",
              "</table>\n",
              "</div>\n",
              "      <button class=\"colab-df-convert\" onclick=\"convertToInteractive('df-9659ce44-adc2-41a3-8460-4b0d15aed806')\"\n",
              "              title=\"Convert this dataframe to an interactive table.\"\n",
              "              style=\"display:none;\">\n",
              "        \n",
              "  <svg xmlns=\"http://www.w3.org/2000/svg\" height=\"24px\"viewBox=\"0 0 24 24\"\n",
              "       width=\"24px\">\n",
              "    <path d=\"M0 0h24v24H0V0z\" fill=\"none\"/>\n",
              "    <path d=\"M18.56 5.44l.94 2.06.94-2.06 2.06-.94-2.06-.94-.94-2.06-.94 2.06-2.06.94zm-11 1L8.5 8.5l.94-2.06 2.06-.94-2.06-.94L8.5 2.5l-.94 2.06-2.06.94zm10 10l.94 2.06.94-2.06 2.06-.94-2.06-.94-.94-2.06-.94 2.06-2.06.94z\"/><path d=\"M17.41 7.96l-1.37-1.37c-.4-.4-.92-.59-1.43-.59-.52 0-1.04.2-1.43.59L10.3 9.45l-7.72 7.72c-.78.78-.78 2.05 0 2.83L4 21.41c.39.39.9.59 1.41.59.51 0 1.02-.2 1.41-.59l7.78-7.78 2.81-2.81c.8-.78.8-2.07 0-2.86zM5.41 20L4 18.59l7.72-7.72 1.47 1.35L5.41 20z\"/>\n",
              "  </svg>\n",
              "      </button>\n",
              "      \n",
              "  <style>\n",
              "    .colab-df-container {\n",
              "      display:flex;\n",
              "      flex-wrap:wrap;\n",
              "      gap: 12px;\n",
              "    }\n",
              "\n",
              "    .colab-df-convert {\n",
              "      background-color: #E8F0FE;\n",
              "      border: none;\n",
              "      border-radius: 50%;\n",
              "      cursor: pointer;\n",
              "      display: none;\n",
              "      fill: #1967D2;\n",
              "      height: 32px;\n",
              "      padding: 0 0 0 0;\n",
              "      width: 32px;\n",
              "    }\n",
              "\n",
              "    .colab-df-convert:hover {\n",
              "      background-color: #E2EBFA;\n",
              "      box-shadow: 0px 1px 2px rgba(60, 64, 67, 0.3), 0px 1px 3px 1px rgba(60, 64, 67, 0.15);\n",
              "      fill: #174EA6;\n",
              "    }\n",
              "\n",
              "    [theme=dark] .colab-df-convert {\n",
              "      background-color: #3B4455;\n",
              "      fill: #D2E3FC;\n",
              "    }\n",
              "\n",
              "    [theme=dark] .colab-df-convert:hover {\n",
              "      background-color: #434B5C;\n",
              "      box-shadow: 0px 1px 3px 1px rgba(0, 0, 0, 0.15);\n",
              "      filter: drop-shadow(0px 1px 2px rgba(0, 0, 0, 0.3));\n",
              "      fill: #FFFFFF;\n",
              "    }\n",
              "  </style>\n",
              "\n",
              "      <script>\n",
              "        const buttonEl =\n",
              "          document.querySelector('#df-9659ce44-adc2-41a3-8460-4b0d15aed806 button.colab-df-convert');\n",
              "        buttonEl.style.display =\n",
              "          google.colab.kernel.accessAllowed ? 'block' : 'none';\n",
              "\n",
              "        async function convertToInteractive(key) {\n",
              "          const element = document.querySelector('#df-9659ce44-adc2-41a3-8460-4b0d15aed806');\n",
              "          const dataTable =\n",
              "            await google.colab.kernel.invokeFunction('convertToInteractive',\n",
              "                                                     [key], {});\n",
              "          if (!dataTable) return;\n",
              "\n",
              "          const docLinkHtml = 'Like what you see? Visit the ' +\n",
              "            '<a target=\"_blank\" href=https://colab.research.google.com/notebooks/data_table.ipynb>data table notebook</a>'\n",
              "            + ' to learn more about interactive tables.';\n",
              "          element.innerHTML = '';\n",
              "          dataTable['output_type'] = 'display_data';\n",
              "          await google.colab.output.renderOutput(dataTable, element);\n",
              "          const docLink = document.createElement('div');\n",
              "          docLink.innerHTML = docLinkHtml;\n",
              "          element.appendChild(docLink);\n",
              "        }\n",
              "      </script>\n",
              "    </div>\n",
              "  </div>\n",
              "  "
            ]
          },
          "metadata": {},
          "execution_count": 3
        }
      ]
    },
    {
      "cell_type": "code",
      "source": [
        "bed = df['occupied']\n",
        "bed.plot()"
      ],
      "metadata": {
        "colab": {
          "base_uri": "https://localhost:8080/",
          "height": 331
        },
        "id": "1JiLzyhg1wGy",
        "outputId": "b27377b3-9cd1-4bd3-929b-024f5ea89b60"
      },
      "execution_count": 4,
      "outputs": [
        {
          "output_type": "execute_result",
          "data": {
            "text/plain": [
              "<matplotlib.axes._subplots.AxesSubplot at 0x7f2d13b4e310>"
            ]
          },
          "metadata": {},
          "execution_count": 4
        },
        {
          "output_type": "display_data",
          "data": {
            "text/plain": [
              "<Figure size 432x288 with 1 Axes>"
            ],
            "image/png": "[encoded data removed]"
          },
          "metadata": {
            "needs_background": "light"
          }
        }
      ]
    },
    {
      "cell_type": "code",
      "source": [
        "def df_to_X_y(df, window_size=30):\n",
        "  df_as_np = df.to_numpy()\n",
        "  X = []\n",
        "  y = []\n",
        "  for i in range(len(df_as_np)-window_size):\n",
        "    row = [[a] for a in df_as_np[i:i+window_size]]\n",
        "    X.append(row)\n",
        "    label = df_as_np[i+window_size]\n",
        "    y.append(label)\n",
        "  return np.array(X), np.array(y)"
      ],
      "metadata": {
        "id": "QM1c91dk1xoC"
      },
      "execution_count": 5,
      "outputs": []
    },
    {
      "cell_type": "code",
      "source": [
        "WINDOW_SIZE = 5\n",
        "X1, y1 = df_to_X_y(bed, WINDOW_SIZE)\n",
        "X1.shape, y1.shape"
      ],
      "metadata": {
        "colab": {
          "base_uri": "https://localhost:8080/"
        },
        "id": "NSer2Nit1zYg",
        "outputId": "9790714f-c281-4e84-d347-af2c84d7a30b"
      },
      "execution_count": 6,
      "outputs": [
        {
          "output_type": "execute_result",
          "data": {
            "text/plain": [
              "((1995, 5, 1), (1995,))"
            ]
          },
          "metadata": {},
          "execution_count": 6
        }
      ]
    },
    {
      "cell_type": "code",
      "source": [
        "X_train1, y_train1 = X1[:1500], y1[:1500]\n",
        "X_val1, y_val1 = X1[1500:1750], y1[1500:1750]\n",
        "X_test1, y_test1 = X1[1750:], y1[1750:]\n",
        "X_train1.shape, y_train1.shape, X_val1.shape, y_val1.shape, X_test1.shape, y_test1.shape"
      ],
      "metadata": {
        "colab": {
          "base_uri": "https://localhost:8080/"
        },
        "id": "QxS-vz9Y11ag",
        "outputId": "8430eca8-fa5f-49f6-e541-e0f864806125"
      },
      "execution_count": 7,
      "outputs": [
        {
          "output_type": "execute_result",
          "data": {
            "text/plain": [
              "((1500, 5, 1), (1500,), (250, 5, 1), (250,), (245, 5, 1), (245,))"
            ]
          },
          "metadata": {},
          "execution_count": 7
        }
      ]
    },
    {
      "cell_type": "code",
      "source": [
        "from tensorflow.keras.models import Sequential\n",
        "from tensorflow.keras.layers import *\n",
        "from tensorflow.keras.callbacks import ModelCheckpoint\n",
        "from tensorflow.keras.losses import MeanSquaredError\n",
        "from tensorflow.keras.metrics import RootMeanSquaredError\n",
        "from tensorflow.keras.optimizers import Adam\n",
        "\n",
        "model1 = Sequential()\n",
        "model1.add(InputLayer((5, 1)))\n",
        "model1.add(LSTM(64))\n",
        "model1.add(Dense(8, 'relu'))\n",
        "model1.add(Dense(1, 'linear'))\n",
        "\n",
        "model1.summary()"
      ],
      "metadata": {
        "colab": {
          "base_uri": "https://localhost:8080/"
        },
        "id": "HLZjziC113eh",
        "outputId": "714990ac-6ec6-46c6-9da5-95c5d06439da"
      },
      "execution_count": 8,
      "outputs": [
        {
          "output_type": "stream",
          "name": "stdout",
          "text": [
            "Model: \"sequential\"\n",
            "_________________________________________________________________\n",
            " Layer (type)                Output Shape              Param #   \n",
            "=================================================================\n",
            " lstm (LSTM)                 (None, 64)                16896     \n",
            "                                                                 \n",
            " dense (Dense)               (None, 8)                 520       \n",
            "                                                                 \n",
            " dense_1 (Dense)             (None, 1)                 9         \n",
            "                                                                 \n",
            "=================================================================\n",
            "Total params: 17,425\n",
            "Trainable params: 17,425\n",
            "Non-trainable params: 0\n",
            "_________________________________________________________________\n"
          ]
        }
      ]
    },
    {
      "cell_type": "code",
      "source": [
        "cp1 = ModelCheckpoint('model1/', save_best_only=True)\n",
        "model1.compile(loss=MeanSquaredError(), optimizer=Adam(learning_rate=0.001), metrics=[RootMeanSquaredError()])"
      ],
      "metadata": {
        "id": "WbqOP0EB15AB"
      },
      "execution_count": 9,
      "outputs": []
    },
    {
      "cell_type": "code",
      "source": [
        "model1.fit(X_train1, y_train1, validation_data=(X_val1, y_val1), epochs=500, callbacks=[cp1])"
      ],
      "metadata": {
        "colab": {
          "base_uri": "https://localhost:8080/"
        },
        "id": "SnLdbyqr17YA",
        "outputId": "77438056-529a-4e52-e9c3-e0a79ee5a55a"
      },
      "execution_count": 10,
      "outputs": [
        {
          "output_type": "stream",
          "name": "stdout",
          "text": [
            "Epoch 1/500\n",
            "43/47 [==========================>...] - ETA: 0s - loss: 0.4953 - root_mean_squared_error: 0.7038"
          ]
        },
        {
          "output_type": "stream",
          "name": "stderr",
          "text": [
            "WARNING:absl:Found untraced functions such as lstm_cell_layer_call_fn, lstm_cell_layer_call_and_return_conditional_losses while saving (showing 2 of 2). These functions will not be directly callable after loading.\n",
            "WARNING:absl:<keras.layers.recurrent.LSTMCell object at 0x7f2d13bd2d90> has the same name 'LSTMCell' as a built-in Keras object. Consider renaming <class 'keras.layers.recurrent.LSTMCell'> to avoid naming conflicts when loading with `tf.keras.models.load_model`. If renaming is not possible, pass the object in the `custom_objects` parameter of the load function.\n"
          ]
        },
        {
          "output_type": "stream",
          "name": "stdout",
          "text": [
            "\b\b\b\b\b\b\b\b\b\b\b\b\b\b\b\b\b\b\b\b\b\b\b\b\b\b\b\b\b\b\b\b\b\b\b\b\b\b\b\b\b\b\b\b\b\b\b\b\b\b\b\b\b\b\b\b\b\b\b\b\b\b\b\b\b\b\b\b\b\b\b\b\b\b\b\b\b\b\b\b\b\b\b\b\b\b\b\b\b\b\b\b\b\b\b\b\b\r47/47 [==============================] - 9s 141ms/step - loss: 0.4761 - root_mean_squared_error: 0.6900 - val_loss: 0.2168 - val_root_mean_squared_error: 0.4657\n",
            "Epoch 2/500\n",
            "47/47 [==============================] - ETA: 0s - loss: 0.0323 - root_mean_squared_error: 0.1797"
          ]
        },
        {
          "output_type": "stream",
          "name": "stderr",
          "text": [
            "WARNING:absl:Found untraced functions such as lstm_cell_layer_call_fn, lstm_cell_layer_call_and_return_conditional_losses while saving (showing 2 of 2). These functions will not be directly callable after loading.\n",
            "WARNING:absl:<keras.layers.recurrent.LSTMCell object at 0x7f2d13bd2d90> has the same name 'LSTMCell' as a built-in Keras object. Consider renaming <class 'keras.layers.recurrent.LSTMCell'> to avoid naming conflicts when loading with `tf.keras.models.load_model`. If renaming is not possible, pass the object in the `custom_objects` parameter of the load function.\n"
          ]
        },
        {
          "output_type": "stream",
          "name": "stdout",
          "text": [
            "\b\b\b\b\b\b\b\b\b\b\b\b\b\b\b\b\b\b\b\b\b\b\b\b\b\b\b\b\b\b\b\b\b\b\b\b\b\b\b\b\b\b\b\b\b\b\b\b\b\b\b\b\b\b\b\b\b\b\b\b\b\b\b\b\b\b\b\b\b\b\b\b\b\b\b\b\b\b\b\b\b\b\b\b\b\b\b\b\b\b\b\b\b\b\b\b\b\r47/47 [==============================] - 5s 112ms/step - loss: 0.0323 - root_mean_squared_error: 0.1797 - val_loss: 5.0605e-04 - val_root_mean_squared_error: 0.0225\n",
            "Epoch 3/500\n",
            "44/47 [===========================>..] - ETA: 0s - loss: 3.8126e-04 - root_mean_squared_error: 0.0195"
          ]
        },
        {
          "output_type": "stream",
          "name": "stderr",
          "text": [
            "WARNING:absl:Found untraced functions such as lstm_cell_layer_call_fn, lstm_cell_layer_call_and_return_conditional_losses while saving (showing 2 of 2). These functions will not be directly callable after loading.\n",
            "WARNING:absl:<keras.layers.recurrent.LSTMCell object at 0x7f2d13bd2d90> has the same name 'LSTMCell' as a built-in Keras object. Consider renaming <class 'keras.layers.recurrent.LSTMCell'> to avoid naming conflicts when loading with `tf.keras.models.load_model`. If renaming is not possible, pass the object in the `custom_objects` parameter of the load function.\n"
          ]
        },
        {
          "output_type": "stream",
          "name": "stdout",
          "text": [
            "\b\b\b\b\b\b\b\b\b\b\b\b\b\b\b\b\b\b\b\b\b\b\b\b\b\b\b\b\b\b\b\b\b\b\b\b\b\b\b\b\b\b\b\b\b\b\b\b\b\b\b\b\b\b\b\b\b\b\b\b\b\b\b\b\b\b\b\b\b\b\b\b\b\b\b\b\b\b\b\b\b\b\b\b\b\b\b\b\b\b\b\b\b\b\b\b\b\b\b\b\b\r47/47 [==============================] - 5s 112ms/step - loss: 3.7568e-04 - root_mean_squared_error: 0.0194 - val_loss: 2.5919e-04 - val_root_mean_squared_error: 0.0161\n",
            "Epoch 4/500\n",
            "39/47 [=======================>......] - ETA: 0s - loss: 2.3564e-04 - root_mean_squared_error: 0.0154"
          ]
        },
        {
          "output_type": "stream",
          "name": "stderr",
          "text": [
            "WARNING:absl:Found untraced functions such as lstm_cell_layer_call_fn, lstm_cell_layer_call_and_return_conditional_losses while saving (showing 2 of 2). These functions will not be directly callable after loading.\n",
            "WARNING:absl:<keras.layers.recurrent.LSTMCell object at 0x7f2d13bd2d90> has the same name 'LSTMCell' as a built-in Keras object. Consider renaming <class 'keras.layers.recurrent.LSTMCell'> to avoid naming conflicts when loading with `tf.keras.models.load_model`. If renaming is not possible, pass the object in the `custom_objects` parameter of the load function.\n"
          ]
        },
        {
          "output_type": "stream",
          "name": "stdout",
          "text": [
            "\b\b\b\b\b\b\b\b\b\b\b\b\b\b\b\b\b\b\b\b\b\b\b\b\b\b\b\b\b\b\b\b\b\b\b\b\b\b\b\b\b\b\b\b\b\b\b\b\b\b\b\b\b\b\b\b\b\b\b\b\b\b\b\b\b\b\b\b\b\b\b\b\b\b\b\b\b\b\b\b\b\b\b\b\b\b\b\b\b\b\b\b\b\b\b\b\b\b\b\b\b\r47/47 [==============================] - 5s 105ms/step - loss: 2.3648e-04 - root_mean_squared_error: 0.0154 - val_loss: 2.5022e-04 - val_root_mean_squared_error: 0.0158\n",
            "Epoch 5/500\n",
            "47/47 [==============================] - 0s 6ms/step - loss: 2.3268e-04 - root_mean_squared_error: 0.0153 - val_loss: 2.5433e-04 - val_root_mean_squared_error: 0.0159\n",
            "Epoch 6/500\n",
            "40/47 [========================>.....] - ETA: 0s - loss: 2.2723e-04 - root_mean_squared_error: 0.0151"
          ]
        },
        {
          "output_type": "stream",
          "name": "stderr",
          "text": [
            "WARNING:absl:Found untraced functions such as lstm_cell_layer_call_fn, lstm_cell_layer_call_and_return_conditional_losses while saving (showing 2 of 2). These functions will not be directly callable after loading.\n",
            "WARNING:absl:<keras.layers.recurrent.LSTMCell object at 0x7f2d13bd2d90> has the same name 'LSTMCell' as a built-in Keras object. Consider renaming <class 'keras.layers.recurrent.LSTMCell'> to avoid naming conflicts when loading with `tf.keras.models.load_model`. If renaming is not possible, pass the object in the `custom_objects` parameter of the load function.\n"
          ]
        },
        {
          "output_type": "stream",
          "name": "stdout",
          "text": [
            "\b\b\b\b\b\b\b\b\b\b\b\b\b\b\b\b\b\b\b\b\b\b\b\b\b\b\b\b\b\b\b\b\b\b\b\b\b\b\b\b\b\b\b\b\b\b\b\b\b\b\b\b\b\b\b\b\b\b\b\b\b\b\b\b\b\b\b\b\b\b\b\b\b\b\b\b\b\b\b\b\b\b\b\b\b\b\b\b\b\b\b\b\b\b\b\b\b\b\b\b\b\r47/47 [==============================] - 5s 116ms/step - loss: 2.2992e-04 - root_mean_squared_error: 0.0152 - val_loss: 2.4515e-04 - val_root_mean_squared_error: 0.0157\n",
            "Epoch 7/500\n",
            "47/47 [==============================] - 0s 6ms/step - loss: 2.3128e-04 - root_mean_squared_error: 0.0152 - val_loss: 2.6560e-04 - val_root_mean_squared_error: 0.0163\n",
            "Epoch 8/500\n",
            "47/47 [==============================] - 0s 6ms/step - loss: 2.3199e-04 - root_mean_squared_error: 0.0152 - val_loss: 2.4700e-04 - val_root_mean_squared_error: 0.0157\n",
            "Epoch 9/500\n",
            "47/47 [==============================] - 0s 7ms/step - loss: 2.3369e-04 - root_mean_squared_error: 0.0153 - val_loss: 2.6794e-04 - val_root_mean_squared_error: 0.0164\n",
            "Epoch 10/500\n",
            "47/47 [==============================] - 0s 7ms/step - loss: 2.3907e-04 - root_mean_squared_error: 0.0155 - val_loss: 2.5769e-04 - val_root_mean_squared_error: 0.0161\n",
            "Epoch 11/500\n",
            "47/47 [==============================] - 0s 6ms/step - loss: 2.3568e-04 - root_mean_squared_error: 0.0154 - val_loss: 2.5104e-04 - val_root_mean_squared_error: 0.0158\n",
            "Epoch 12/500\n",
            "43/47 [==========================>...] - ETA: 0s - loss: 2.3656e-04 - root_mean_squared_error: 0.0154"
          ]
        },
        {
          "output_type": "stream",
          "name": "stderr",
          "text": [
            "WARNING:absl:Found untraced functions such as lstm_cell_layer_call_fn, lstm_cell_layer_call_and_return_conditional_losses while saving (showing 2 of 2). These functions will not be directly callable after loading.\n",
            "WARNING:absl:<keras.layers.recurrent.LSTMCell object at 0x7f2d13bd2d90> has the same name 'LSTMCell' as a built-in Keras object. Consider renaming <class 'keras.layers.recurrent.LSTMCell'> to avoid naming conflicts when loading with `tf.keras.models.load_model`. If renaming is not possible, pass the object in the `custom_objects` parameter of the load function.\n"
          ]
        },
        {
          "output_type": "stream",
          "name": "stdout",
          "text": [
            "\b\b\b\b\b\b\b\b\b\b\b\b\b\b\b\b\b\b\b\b\b\b\b\b\b\b\b\b\b\b\b\b\b\b\b\b\b\b\b\b\b\b\b\b\b\b\b\b\b\b\b\b\b\b\b\b\b\b\b\b\b\b\b\b\b\b\b\b\b\b\b\b\b\b\b\b\b\b\b\b\b\b\b\b\b\b\b\b\b\b\b\b\b\b\b\b\b\b\b\b\b\r47/47 [==============================] - 5s 102ms/step - loss: 2.3541e-04 - root_mean_squared_error: 0.0153 - val_loss: 2.4425e-04 - val_root_mean_squared_error: 0.0156\n",
            "Epoch 13/500\n",
            "47/47 [==============================] - 0s 6ms/step - loss: 2.2932e-04 - root_mean_squared_error: 0.0151 - val_loss: 2.5230e-04 - val_root_mean_squared_error: 0.0159\n",
            "Epoch 14/500\n",
            "47/47 [==============================] - 0s 7ms/step - loss: 2.3153e-04 - root_mean_squared_error: 0.0152 - val_loss: 2.4502e-04 - val_root_mean_squared_error: 0.0157\n",
            "Epoch 15/500\n",
            "47/47 [==============================] - 0s 6ms/step - loss: 2.3168e-04 - root_mean_squared_error: 0.0152 - val_loss: 2.6018e-04 - val_root_mean_squared_error: 0.0161\n",
            "Epoch 16/500\n",
            "47/47 [==============================] - 0s 6ms/step - loss: 2.3421e-04 - root_mean_squared_error: 0.0153 - val_loss: 2.4649e-04 - val_root_mean_squared_error: 0.0157\n",
            "Epoch 17/500\n",
            "39/47 [=======================>......] - ETA: 0s - loss: 2.3418e-04 - root_mean_squared_error: 0.0153"
          ]
        },
        {
          "output_type": "stream",
          "name": "stderr",
          "text": [
            "WARNING:absl:Found untraced functions such as lstm_cell_layer_call_fn, lstm_cell_layer_call_and_return_conditional_losses while saving (showing 2 of 2). These functions will not be directly callable after loading.\n",
            "WARNING:absl:<keras.layers.recurrent.LSTMCell object at 0x7f2d13bd2d90> has the same name 'LSTMCell' as a built-in Keras object. Consider renaming <class 'keras.layers.recurrent.LSTMCell'> to avoid naming conflicts when loading with `tf.keras.models.load_model`. If renaming is not possible, pass the object in the `custom_objects` parameter of the load function.\n"
          ]
        },
        {
          "output_type": "stream",
          "name": "stdout",
          "text": [
            "\b\b\b\b\b\b\b\b\b\b\b\b\b\b\b\b\b\b\b\b\b\b\b\b\b\b\b\b\b\b\b\b\b\b\b\b\b\b\b\b\b\b\b\b\b\b\b\b\b\b\b\b\b\b\b\b\b\b\b\b\b\b\b\b\b\b\b\b\b\b\b\b\b\b\b\b\b\b\b\b\b\b\b\b\b\b\b\b\b\b\b\b\b\b\b\b\b\b\b\b\b\r47/47 [==============================] - 6s 131ms/step - loss: 2.2979e-04 - root_mean_squared_error: 0.0152 - val_loss: 2.4323e-04 - val_root_mean_squared_error: 0.0156\n",
            "Epoch 18/500\n",
            "47/47 [==============================] - 0s 6ms/step - loss: 2.2997e-04 - root_mean_squared_error: 0.0152 - val_loss: 2.5068e-04 - val_root_mean_squared_error: 0.0158\n",
            "Epoch 19/500\n",
            "47/47 [==============================] - 0s 6ms/step - loss: 2.3026e-04 - root_mean_squared_error: 0.0152 - val_loss: 2.4471e-04 - val_root_mean_squared_error: 0.0156\n",
            "Epoch 20/500\n",
            "42/47 [=========================>....] - ETA: 0s - loss: 2.3135e-04 - root_mean_squared_error: 0.0152"
          ]
        },
        {
          "output_type": "stream",
          "name": "stderr",
          "text": [
            "WARNING:absl:Found untraced functions such as lstm_cell_layer_call_fn, lstm_cell_layer_call_and_return_conditional_losses while saving (showing 2 of 2). These functions will not be directly callable after loading.\n",
            "WARNING:absl:<keras.layers.recurrent.LSTMCell object at 0x7f2d13bd2d90> has the same name 'LSTMCell' as a built-in Keras object. Consider renaming <class 'keras.layers.recurrent.LSTMCell'> to avoid naming conflicts when loading with `tf.keras.models.load_model`. If renaming is not possible, pass the object in the `custom_objects` parameter of the load function.\n"
          ]
        },
        {
          "output_type": "stream",
          "name": "stdout",
          "text": [
            "\b\b\b\b\b\b\b\b\b\b\b\b\b\b\b\b\b\b\b\b\b\b\b\b\b\b\b\b\b\b\b\b\b\b\b\b\b\b\b\b\b\b\b\b\b\b\b\b\b\b\b\b\b\b\b\b\b\b\b\b\b\b\b\b\b\b\b\b\b\b\b\b\b\b\b\b\b\b\b\b\b\b\b\b\b\b\b\b\b\b\b\b\b\b\b\b\b\b\b\b\b\r47/47 [==============================] - 5s 112ms/step - loss: 2.2930e-04 - root_mean_squared_error: 0.0151 - val_loss: 2.4272e-04 - val_root_mean_squared_error: 0.0156\n",
            "Epoch 21/500\n",
            "42/47 [=========================>....] - ETA: 0s - loss: 2.2915e-04 - root_mean_squared_error: 0.0151"
          ]
        },
        {
          "output_type": "stream",
          "name": "stderr",
          "text": [
            "WARNING:absl:Found untraced functions such as lstm_cell_layer_call_fn, lstm_cell_layer_call_and_return_conditional_losses while saving (showing 2 of 2). These functions will not be directly callable after loading.\n",
            "WARNING:absl:<keras.layers.recurrent.LSTMCell object at 0x7f2d13bd2d90> has the same name 'LSTMCell' as a built-in Keras object. Consider renaming <class 'keras.layers.recurrent.LSTMCell'> to avoid naming conflicts when loading with `tf.keras.models.load_model`. If renaming is not possible, pass the object in the `custom_objects` parameter of the load function.\n"
          ]
        },
        {
          "output_type": "stream",
          "name": "stdout",
          "text": [
            "\b\b\b\b\b\b\b\b\b\b\b\b\b\b\b\b\b\b\b\b\b\b\b\b\b\b\b\b\b\b\b\b\b\b\b\b\b\b\b\b\b\b\b\b\b\b\b\b\b\b\b\b\b\b\b\b\b\b\b\b\b\b\b\b\b\b\b\b\b\b\b\b\b\b\b\b\b\b\b\b\b\b\b\b\b\b\b\b\b\b\b\b\b\b\b\b\b\b\b\b\b\r47/47 [==============================] - 5s 105ms/step - loss: 2.3174e-04 - root_mean_squared_error: 0.0152 - val_loss: 2.4257e-04 - val_root_mean_squared_error: 0.0156\n",
            "Epoch 22/500\n",
            "47/47 [==============================] - 0s 6ms/step - loss: 2.2980e-04 - root_mean_squared_error: 0.0152 - val_loss: 2.4295e-04 - val_root_mean_squared_error: 0.0156\n",
            "Epoch 23/500\n",
            "42/47 [=========================>....] - ETA: 0s - loss: 2.2934e-04 - root_mean_squared_error: 0.0151"
          ]
        },
        {
          "output_type": "stream",
          "name": "stderr",
          "text": [
            "WARNING:absl:Found untraced functions such as lstm_cell_layer_call_fn, lstm_cell_layer_call_and_return_conditional_losses while saving (showing 2 of 2). These functions will not be directly callable after loading.\n",
            "WARNING:absl:<keras.layers.recurrent.LSTMCell object at 0x7f2d13bd2d90> has the same name 'LSTMCell' as a built-in Keras object. Consider renaming <class 'keras.layers.recurrent.LSTMCell'> to avoid naming conflicts when loading with `tf.keras.models.load_model`. If renaming is not possible, pass the object in the `custom_objects` parameter of the load function.\n"
          ]
        },
        {
          "output_type": "stream",
          "name": "stdout",
          "text": [
            "\b\b\b\b\b\b\b\b\b\b\b\b\b\b\b\b\b\b\b\b\b\b\b\b\b\b\b\b\b\b\b\b\b\b\b\b\b\b\b\b\b\b\b\b\b\b\b\b\b\b\b\b\b\b\b\b\b\b\b\b\b\b\b\b\b\b\b\b\b\b\b\b\b\b\b\b\b\b\b\b\b\b\b\b\b\b\b\b\b\b\b\b\b\b\b\b\b\b\b\b\b\r47/47 [==============================] - 6s 124ms/step - loss: 2.3194e-04 - root_mean_squared_error: 0.0152 - val_loss: 2.4239e-04 - val_root_mean_squared_error: 0.0156\n",
            "Epoch 24/500\n",
            "40/47 [========================>.....] - ETA: 0s - loss: 2.2873e-04 - root_mean_squared_error: 0.0151"
          ]
        },
        {
          "output_type": "stream",
          "name": "stderr",
          "text": [
            "WARNING:absl:Found untraced functions such as lstm_cell_layer_call_fn, lstm_cell_layer_call_and_return_conditional_losses while saving (showing 2 of 2). These functions will not be directly callable after loading.\n",
            "WARNING:absl:<keras.layers.recurrent.LSTMCell object at 0x7f2d13bd2d90> has the same name 'LSTMCell' as a built-in Keras object. Consider renaming <class 'keras.layers.recurrent.LSTMCell'> to avoid naming conflicts when loading with `tf.keras.models.load_model`. If renaming is not possible, pass the object in the `custom_objects` parameter of the load function.\n"
          ]
        },
        {
          "output_type": "stream",
          "name": "stdout",
          "text": [
            "\b\b\b\b\b\b\b\b\b\b\b\b\b\b\b\b\b\b\b\b\b\b\b\b\b\b\b\b\b\b\b\b\b\b\b\b\b\b\b\b\b\b\b\b\b\b\b\b\b\b\b\b\b\b\b\b\b\b\b\b\b\b\b\b\b\b\b\b\b\b\b\b\b\b\b\b\b\b\b\b\b\b\b\b\b\b\b\b\b\b\b\b\b\b\b\b\b\b\b\b\b\r47/47 [==============================] - 5s 112ms/step - loss: 2.2920e-04 - root_mean_squared_error: 0.0151 - val_loss: 2.4190e-04 - val_root_mean_squared_error: 0.0156\n",
            "Epoch 25/500\n",
            "47/47 [==============================] - 0s 6ms/step - loss: 2.3112e-04 - root_mean_squared_error: 0.0152 - val_loss: 2.4894e-04 - val_root_mean_squared_error: 0.0158\n",
            "Epoch 26/500\n",
            "47/47 [==============================] - 0s 6ms/step - loss: 2.3165e-04 - root_mean_squared_error: 0.0152 - val_loss: 2.4767e-04 - val_root_mean_squared_error: 0.0157\n",
            "Epoch 27/500\n",
            "43/47 [==========================>...] - ETA: 0s - loss: 2.3165e-04 - root_mean_squared_error: 0.0152"
          ]
        },
        {
          "output_type": "stream",
          "name": "stderr",
          "text": [
            "WARNING:absl:Found untraced functions such as lstm_cell_layer_call_fn, lstm_cell_layer_call_and_return_conditional_losses while saving (showing 2 of 2). These functions will not be directly callable after loading.\n",
            "WARNING:absl:<keras.layers.recurrent.LSTMCell object at 0x7f2d13bd2d90> has the same name 'LSTMCell' as a built-in Keras object. Consider renaming <class 'keras.layers.recurrent.LSTMCell'> to avoid naming conflicts when loading with `tf.keras.models.load_model`. If renaming is not possible, pass the object in the `custom_objects` parameter of the load function.\n"
          ]
        },
        {
          "output_type": "stream",
          "name": "stdout",
          "text": [
            "\b\b\b\b\b\b\b\b\b\b\b\b\b\b\b\b\b\b\b\b\b\b\b\b\b\b\b\b\b\b\b\b\b\b\b\b\b\b\b\b\b\b\b\b\b\b\b\b\b\b\b\b\b\b\b\b\b\b\b\b\b\b\b\b\b\b\b\b\b\b\b\b\b\b\b\b\b\b\b\b\b\b\b\b\b\b\b\b\b\b\b\b\b\b\b\b\b\b\b\b\b\r47/47 [==============================] - 5s 105ms/step - loss: 2.2833e-04 - root_mean_squared_error: 0.0151 - val_loss: 2.4158e-04 - val_root_mean_squared_error: 0.0155\n",
            "Epoch 28/500\n",
            "47/47 [==============================] - 0s 6ms/step - loss: 2.2825e-04 - root_mean_squared_error: 0.0151 - val_loss: 2.6702e-04 - val_root_mean_squared_error: 0.0163\n",
            "Epoch 29/500\n",
            "43/47 [==========================>...] - ETA: 0s - loss: 2.3367e-04 - root_mean_squared_error: 0.0153"
          ]
        },
        {
          "output_type": "stream",
          "name": "stderr",
          "text": [
            "WARNING:absl:Found untraced functions such as lstm_cell_layer_call_fn, lstm_cell_layer_call_and_return_conditional_losses while saving (showing 2 of 2). These functions will not be directly callable after loading.\n",
            "WARNING:absl:<keras.layers.recurrent.LSTMCell object at 0x7f2d13bd2d90> has the same name 'LSTMCell' as a built-in Keras object. Consider renaming <class 'keras.layers.recurrent.LSTMCell'> to avoid naming conflicts when loading with `tf.keras.models.load_model`. If renaming is not possible, pass the object in the `custom_objects` parameter of the load function.\n"
          ]
        },
        {
          "output_type": "stream",
          "name": "stdout",
          "text": [
            "\b\b\b\b\b\b\b\b\b\b\b\b\b\b\b\b\b\b\b\b\b\b\b\b\b\b\b\b\b\b\b\b\b\b\b\b\b\b\b\b\b\b\b\b\b\b\b\b\b\b\b\b\b\b\b\b\b\b\b\b\b\b\b\b\b\b\b\b\b\b\b\b\b\b\b\b\b\b\b\b\b\b\b\b\b\b\b\b\b\b\b\b\b\b\b\b\b\b\b\b\b\r47/47 [==============================] - 5s 115ms/step - loss: 2.3388e-04 - root_mean_squared_error: 0.0153 - val_loss: 2.4128e-04 - val_root_mean_squared_error: 0.0155\n",
            "Epoch 30/500\n",
            "47/47 [==============================] - 0s 6ms/step - loss: 2.3556e-04 - root_mean_squared_error: 0.0153 - val_loss: 2.4822e-04 - val_root_mean_squared_error: 0.0158\n",
            "Epoch 31/500\n",
            "47/47 [==============================] - 0s 6ms/step - loss: 2.4102e-04 - root_mean_squared_error: 0.0155 - val_loss: 2.5143e-04 - val_root_mean_squared_error: 0.0159\n",
            "Epoch 32/500\n",
            "47/47 [==============================] - 0s 6ms/step - loss: 2.3543e-04 - root_mean_squared_error: 0.0153 - val_loss: 2.8750e-04 - val_root_mean_squared_error: 0.0170\n",
            "Epoch 33/500\n",
            "43/47 [==========================>...] - ETA: 0s - loss: 2.5135e-04 - root_mean_squared_error: 0.0159"
          ]
        },
        {
          "output_type": "stream",
          "name": "stderr",
          "text": [
            "WARNING:absl:Found untraced functions such as lstm_cell_layer_call_fn, lstm_cell_layer_call_and_return_conditional_losses while saving (showing 2 of 2). These functions will not be directly callable after loading.\n",
            "WARNING:absl:<keras.layers.recurrent.LSTMCell object at 0x7f2d13bd2d90> has the same name 'LSTMCell' as a built-in Keras object. Consider renaming <class 'keras.layers.recurrent.LSTMCell'> to avoid naming conflicts when loading with `tf.keras.models.load_model`. If renaming is not possible, pass the object in the `custom_objects` parameter of the load function.\n"
          ]
        },
        {
          "output_type": "stream",
          "name": "stdout",
          "text": [
            "\b\b\b\b\b\b\b\b\b\b\b\b\b\b\b\b\b\b\b\b\b\b\b\b\b\b\b\b\b\b\b\b\b\b\b\b\b\b\b\b\b\b\b\b\b\b\b\b\b\b\b\b\b\b\b\b\b\b\b\b\b\b\b\b\b\b\b\b\b\b\b\b\b\b\b\b\b\b\b\b\b\b\b\b\b\b\b\b\b\b\b\b\b\b\b\b\b\b\b\b\b\r47/47 [==============================] - 5s 112ms/step - loss: 2.4732e-04 - root_mean_squared_error: 0.0157 - val_loss: 2.4079e-04 - val_root_mean_squared_error: 0.0155\n",
            "Epoch 34/500\n",
            "47/47 [==============================] - 0s 6ms/step - loss: 2.3680e-04 - root_mean_squared_error: 0.0154 - val_loss: 2.4430e-04 - val_root_mean_squared_error: 0.0156\n",
            "Epoch 35/500\n",
            "47/47 [==============================] - 0s 6ms/step - loss: 2.3262e-04 - root_mean_squared_error: 0.0153 - val_loss: 2.4620e-04 - val_root_mean_squared_error: 0.0157\n",
            "Epoch 36/500\n",
            "47/47 [==============================] - 0s 6ms/step - loss: 2.3050e-04 - root_mean_squared_error: 0.0152 - val_loss: 2.5754e-04 - val_root_mean_squared_error: 0.0160\n",
            "Epoch 37/500\n",
            "47/47 [==============================] - 0s 6ms/step - loss: 2.4429e-04 - root_mean_squared_error: 0.0156 - val_loss: 2.5519e-04 - val_root_mean_squared_error: 0.0160\n",
            "Epoch 38/500\n",
            "47/47 [==============================] - 0s 6ms/step - loss: 2.3540e-04 - root_mean_squared_error: 0.0153 - val_loss: 2.6488e-04 - val_root_mean_squared_error: 0.0163\n",
            "Epoch 39/500\n",
            "38/47 [=======================>......] - ETA: 0s - loss: 2.3313e-04 - root_mean_squared_error: 0.0153"
          ]
        },
        {
          "output_type": "stream",
          "name": "stderr",
          "text": [
            "WARNING:absl:Found untraced functions such as lstm_cell_layer_call_fn, lstm_cell_layer_call_and_return_conditional_losses while saving (showing 2 of 2). These functions will not be directly callable after loading.\n",
            "WARNING:absl:<keras.layers.recurrent.LSTMCell object at 0x7f2d13bd2d90> has the same name 'LSTMCell' as a built-in Keras object. Consider renaming <class 'keras.layers.recurrent.LSTMCell'> to avoid naming conflicts when loading with `tf.keras.models.load_model`. If renaming is not possible, pass the object in the `custom_objects` parameter of the load function.\n"
          ]
        },
        {
          "output_type": "stream",
          "name": "stdout",
          "text": [
            "\b\b\b\b\b\b\b\b\b\b\b\b\b\b\b\b\b\b\b\b\b\b\b\b\b\b\b\b\b\b\b\b\b\b\b\b\b\b\b\b\b\b\b\b\b\b\b\b\b\b\b\b\b\b\b\b\b\b\b\b\b\b\b\b\b\b\b\b\b\b\b\b\b\b\b\b\b\b\b\b\b\b\b\b\b\b\b\b\b\b\b\b\b\b\b\b\b\b\b\b\b\r47/47 [==============================] - 5s 105ms/step - loss: 2.3056e-04 - root_mean_squared_error: 0.0152 - val_loss: 2.3864e-04 - val_root_mean_squared_error: 0.0154\n",
            "Epoch 40/500\n",
            "47/47 [==============================] - 0s 7ms/step - loss: 2.2781e-04 - root_mean_squared_error: 0.0151 - val_loss: 2.3940e-04 - val_root_mean_squared_error: 0.0155\n",
            "Epoch 41/500\n",
            "47/47 [==============================] - 0s 6ms/step - loss: 2.2646e-04 - root_mean_squared_error: 0.0150 - val_loss: 2.3907e-04 - val_root_mean_squared_error: 0.0155\n",
            "Epoch 42/500\n",
            "47/47 [==============================] - 0s 6ms/step - loss: 2.2458e-04 - root_mean_squared_error: 0.0150 - val_loss: 2.4466e-04 - val_root_mean_squared_error: 0.0156\n",
            "Epoch 43/500\n",
            "41/47 [=========================>....] - ETA: 0s - loss: 2.4248e-04 - root_mean_squared_error: 0.0156"
          ]
        },
        {
          "output_type": "stream",
          "name": "stderr",
          "text": [
            "WARNING:absl:Found untraced functions such as lstm_cell_layer_call_fn, lstm_cell_layer_call_and_return_conditional_losses while saving (showing 2 of 2). These functions will not be directly callable after loading.\n",
            "WARNING:absl:<keras.layers.recurrent.LSTMCell object at 0x7f2d13bd2d90> has the same name 'LSTMCell' as a built-in Keras object. Consider renaming <class 'keras.layers.recurrent.LSTMCell'> to avoid naming conflicts when loading with `tf.keras.models.load_model`. If renaming is not possible, pass the object in the `custom_objects` parameter of the load function.\n"
          ]
        },
        {
          "output_type": "stream",
          "name": "stdout",
          "text": [
            "\b\b\b\b\b\b\b\b\b\b\b\b\b\b\b\b\b\b\b\b\b\b\b\b\b\b\b\b\b\b\b\b\b\b\b\b\b\b\b\b\b\b\b\b\b\b\b\b\b\b\b\b\b\b\b\b\b\b\b\b\b\b\b\b\b\b\b\b\b\b\b\b\b\b\b\b\b\b\b\b\b\b\b\b\b\b\b\b\b\b\b\b\b\b\b\b\b\b\b\b\b\r47/47 [==============================] - 5s 116ms/step - loss: 2.3833e-04 - root_mean_squared_error: 0.0154 - val_loss: 2.3680e-04 - val_root_mean_squared_error: 0.0154\n",
            "Epoch 44/500\n",
            "47/47 [==============================] - 0s 6ms/step - loss: 2.3457e-04 - root_mean_squared_error: 0.0153 - val_loss: 2.3680e-04 - val_root_mean_squared_error: 0.0154\n",
            "Epoch 45/500\n",
            "43/47 [==========================>...] - ETA: 0s - loss: 2.3434e-04 - root_mean_squared_error: 0.0153"
          ]
        },
        {
          "output_type": "stream",
          "name": "stderr",
          "text": [
            "WARNING:absl:Found untraced functions such as lstm_cell_layer_call_fn, lstm_cell_layer_call_and_return_conditional_losses while saving (showing 2 of 2). These functions will not be directly callable after loading.\n",
            "WARNING:absl:<keras.layers.recurrent.LSTMCell object at 0x7f2d13bd2d90> has the same name 'LSTMCell' as a built-in Keras object. Consider renaming <class 'keras.layers.recurrent.LSTMCell'> to avoid naming conflicts when loading with `tf.keras.models.load_model`. If renaming is not possible, pass the object in the `custom_objects` parameter of the load function.\n"
          ]
        },
        {
          "output_type": "stream",
          "name": "stdout",
          "text": [
            "\b\b\b\b\b\b\b\b\b\b\b\b\b\b\b\b\b\b\b\b\b\b\b\b\b\b\b\b\b\b\b\b\b\b\b\b\b\b\b\b\b\b\b\b\b\b\b\b\b\b\b\b\b\b\b\b\b\b\b\b\b\b\b\b\b\b\b\b\b\b\b\b\b\b\b\b\b\b\b\b\b\b\b\b\b\b\b\b\b\b\b\b\b\b\b\b\b\b\b\b\b\r47/47 [==============================] - 5s 104ms/step - loss: 2.3216e-04 - root_mean_squared_error: 0.0152 - val_loss: 2.3607e-04 - val_root_mean_squared_error: 0.0154\n",
            "Epoch 46/500\n",
            "47/47 [==============================] - 0s 7ms/step - loss: 2.2812e-04 - root_mean_squared_error: 0.0151 - val_loss: 2.6061e-04 - val_root_mean_squared_error: 0.0161\n",
            "Epoch 47/500\n",
            "47/47 [==============================] - 0s 6ms/step - loss: 2.3112e-04 - root_mean_squared_error: 0.0152 - val_loss: 2.4302e-04 - val_root_mean_squared_error: 0.0156\n",
            "Epoch 48/500\n",
            "41/47 [=========================>....] - ETA: 0s - loss: 2.2846e-04 - root_mean_squared_error: 0.0151"
          ]
        },
        {
          "output_type": "stream",
          "name": "stderr",
          "text": [
            "WARNING:absl:Found untraced functions such as lstm_cell_layer_call_fn, lstm_cell_layer_call_and_return_conditional_losses while saving (showing 2 of 2). These functions will not be directly callable after loading.\n",
            "WARNING:absl:<keras.layers.recurrent.LSTMCell object at 0x7f2d13bd2d90> has the same name 'LSTMCell' as a built-in Keras object. Consider renaming <class 'keras.layers.recurrent.LSTMCell'> to avoid naming conflicts when loading with `tf.keras.models.load_model`. If renaming is not possible, pass the object in the `custom_objects` parameter of the load function.\n"
          ]
        },
        {
          "output_type": "stream",
          "name": "stdout",
          "text": [
            "\b\b\b\b\b\b\b\b\b\b\b\b\b\b\b\b\b\b\b\b\b\b\b\b\b\b\b\b\b\b\b\b\b\b\b\b\b\b\b\b\b\b\b\b\b\b\b\b\b\b\b\b\b\b\b\b\b\b\b\b\b\b\b\b\b\b\b\b\b\b\b\b\b\b\b\b\b\b\b\b\b\b\b\b\b\b\b\b\b\b\b\b\b\b\b\b\b\b\b\b\b\r47/47 [==============================] - 5s 113ms/step - loss: 2.3017e-04 - root_mean_squared_error: 0.0152 - val_loss: 2.3509e-04 - val_root_mean_squared_error: 0.0153\n",
            "Epoch 49/500\n",
            "47/47 [==============================] - 0s 6ms/step - loss: 2.3337e-04 - root_mean_squared_error: 0.0153 - val_loss: 2.3762e-04 - val_root_mean_squared_error: 0.0154\n",
            "Epoch 50/500\n",
            "47/47 [==============================] - 0s 6ms/step - loss: 2.2875e-04 - root_mean_squared_error: 0.0151 - val_loss: 2.4441e-04 - val_root_mean_squared_error: 0.0156\n",
            "Epoch 51/500\n",
            "47/47 [==============================] - 0s 6ms/step - loss: 2.3268e-04 - root_mean_squared_error: 0.0153 - val_loss: 2.3674e-04 - val_root_mean_squared_error: 0.0154\n",
            "Epoch 52/500\n",
            "47/47 [==============================] - 0s 6ms/step - loss: 2.3510e-04 - root_mean_squared_error: 0.0153 - val_loss: 2.3566e-04 - val_root_mean_squared_error: 0.0154\n",
            "Epoch 53/500\n",
            "47/47 [==============================] - 0s 6ms/step - loss: 2.2548e-04 - root_mean_squared_error: 0.0150 - val_loss: 2.4028e-04 - val_root_mean_squared_error: 0.0155\n",
            "Epoch 54/500\n",
            "47/47 [==============================] - 0s 6ms/step - loss: 2.3387e-04 - root_mean_squared_error: 0.0153 - val_loss: 2.3643e-04 - val_root_mean_squared_error: 0.0154\n",
            "Epoch 55/500\n",
            "41/47 [=========================>....] - ETA: 0s - loss: 2.2377e-04 - root_mean_squared_error: 0.0150"
          ]
        },
        {
          "output_type": "stream",
          "name": "stderr",
          "text": [
            "WARNING:absl:Found untraced functions such as lstm_cell_layer_call_fn, lstm_cell_layer_call_and_return_conditional_losses while saving (showing 2 of 2). These functions will not be directly callable after loading.\n",
            "WARNING:absl:<keras.layers.recurrent.LSTMCell object at 0x7f2d13bd2d90> has the same name 'LSTMCell' as a built-in Keras object. Consider renaming <class 'keras.layers.recurrent.LSTMCell'> to avoid naming conflicts when loading with `tf.keras.models.load_model`. If renaming is not possible, pass the object in the `custom_objects` parameter of the load function.\n"
          ]
        },
        {
          "output_type": "stream",
          "name": "stdout",
          "text": [
            "\b\b\b\b\b\b\b\b\b\b\b\b\b\b\b\b\b\b\b\b\b\b\b\b\b\b\b\b\b\b\b\b\b\b\b\b\b\b\b\b\b\b\b\b\b\b\b\b\b\b\b\b\b\b\b\b\b\b\b\b\b\b\b\b\b\b\b\b\b\b\b\b\b\b\b\b\b\b\b\b\b\b\b\b\b\b\b\b\b\b\b\b\b\b\b\b\b\b\b\b\b\r47/47 [==============================] - 5s 112ms/step - loss: 2.2437e-04 - root_mean_squared_error: 0.0150 - val_loss: 2.3281e-04 - val_root_mean_squared_error: 0.0153\n",
            "Epoch 56/500\n",
            "47/47 [==============================] - 0s 6ms/step - loss: 2.3863e-04 - root_mean_squared_error: 0.0154 - val_loss: 2.3490e-04 - val_root_mean_squared_error: 0.0153\n",
            "Epoch 57/500\n",
            "41/47 [=========================>....] - ETA: 0s - loss: 2.3474e-04 - root_mean_squared_error: 0.0153"
          ]
        },
        {
          "output_type": "stream",
          "name": "stderr",
          "text": [
            "WARNING:absl:Found untraced functions such as lstm_cell_layer_call_fn, lstm_cell_layer_call_and_return_conditional_losses while saving (showing 2 of 2). These functions will not be directly callable after loading.\n",
            "WARNING:absl:<keras.layers.recurrent.LSTMCell object at 0x7f2d13bd2d90> has the same name 'LSTMCell' as a built-in Keras object. Consider renaming <class 'keras.layers.recurrent.LSTMCell'> to avoid naming conflicts when loading with `tf.keras.models.load_model`. If renaming is not possible, pass the object in the `custom_objects` parameter of the load function.\n"
          ]
        },
        {
          "output_type": "stream",
          "name": "stdout",
          "text": [
            "\b\b\b\b\b\b\b\b\b\b\b\b\b\b\b\b\b\b\b\b\b\b\b\b\b\b\b\b\b\b\b\b\b\b\b\b\b\b\b\b\b\b\b\b\b\b\b\b\b\b\b\b\b\b\b\b\b\b\b\b\b\b\b\b\b\b\b\b\b\b\b\b\b\b\b\b\b\b\b\b\b\b\b\b\b\b\b\b\b\b\b\b\b\b\b\b\b\b\b\b\b\r47/47 [==============================] - 5s 105ms/step - loss: 2.3571e-04 - root_mean_squared_error: 0.0154 - val_loss: 2.3198e-04 - val_root_mean_squared_error: 0.0152\n",
            "Epoch 58/500\n",
            "47/47 [==============================] - 0s 6ms/step - loss: 2.4907e-04 - root_mean_squared_error: 0.0158 - val_loss: 3.3055e-04 - val_root_mean_squared_error: 0.0182\n",
            "Epoch 59/500\n",
            "47/47 [==============================] - 0s 6ms/step - loss: 2.3942e-04 - root_mean_squared_error: 0.0155 - val_loss: 2.4273e-04 - val_root_mean_squared_error: 0.0156\n",
            "Epoch 60/500\n",
            "47/47 [==============================] - 0s 6ms/step - loss: 2.2539e-04 - root_mean_squared_error: 0.0150 - val_loss: 2.3332e-04 - val_root_mean_squared_error: 0.0153\n",
            "Epoch 61/500\n",
            "41/47 [=========================>....] - ETA: 0s - loss: 2.3469e-04 - root_mean_squared_error: 0.0153"
          ]
        },
        {
          "output_type": "stream",
          "name": "stderr",
          "text": [
            "WARNING:absl:Found untraced functions such as lstm_cell_layer_call_fn, lstm_cell_layer_call_and_return_conditional_losses while saving (showing 2 of 2). These functions will not be directly callable after loading.\n",
            "WARNING:absl:<keras.layers.recurrent.LSTMCell object at 0x7f2d13bd2d90> has the same name 'LSTMCell' as a built-in Keras object. Consider renaming <class 'keras.layers.recurrent.LSTMCell'> to avoid naming conflicts when loading with `tf.keras.models.load_model`. If renaming is not possible, pass the object in the `custom_objects` parameter of the load function.\n"
          ]
        },
        {
          "output_type": "stream",
          "name": "stdout",
          "text": [
            "\b\b\b\b\b\b\b\b\b\b\b\b\b\b\b\b\b\b\b\b\b\b\b\b\b\b\b\b\b\b\b\b\b\b\b\b\b\b\b\b\b\b\b\b\b\b\b\b\b\b\b\b\b\b\b\b\b\b\b\b\b\b\b\b\b\b\b\b\b\b\b\b\b\b\b\b\b\b\b\b\b\b\b\b\b\b\b\b\b\b\b\b\b\b\b\b\b\b\b\b\b\r47/47 [==============================] - 5s 119ms/step - loss: 2.2968e-04 - root_mean_squared_error: 0.0152 - val_loss: 2.3121e-04 - val_root_mean_squared_error: 0.0152\n",
            "Epoch 62/500\n",
            "41/47 [=========================>....] - ETA: 0s - loss: 2.2357e-04 - root_mean_squared_error: 0.0150"
          ]
        },
        {
          "output_type": "stream",
          "name": "stderr",
          "text": [
            "WARNING:absl:Found untraced functions such as lstm_cell_layer_call_fn, lstm_cell_layer_call_and_return_conditional_losses while saving (showing 2 of 2). These functions will not be directly callable after loading.\n",
            "WARNING:absl:<keras.layers.recurrent.LSTMCell object at 0x7f2d13bd2d90> has the same name 'LSTMCell' as a built-in Keras object. Consider renaming <class 'keras.layers.recurrent.LSTMCell'> to avoid naming conflicts when loading with `tf.keras.models.load_model`. If renaming is not possible, pass the object in the `custom_objects` parameter of the load function.\n"
          ]
        },
        {
          "output_type": "stream",
          "name": "stdout",
          "text": [
            "\b\b\b\b\b\b\b\b\b\b\b\b\b\b\b\b\b\b\b\b\b\b\b\b\b\b\b\b\b\b\b\b\b\b\b\b\b\b\b\b\b\b\b\b\b\b\b\b\b\b\b\b\b\b\b\b\b\b\b\b\b\b\b\b\b\b\b\b\b\b\b\b\b\b\b\b\b\b\b\b\b\b\b\b\b\b\b\b\b\b\b\b\b\b\b\b\b\b\b\b\b\r47/47 [==============================] - 6s 128ms/step - loss: 2.2329e-04 - root_mean_squared_error: 0.0149 - val_loss: 2.2943e-04 - val_root_mean_squared_error: 0.0151\n",
            "Epoch 63/500\n",
            "47/47 [==============================] - 0s 6ms/step - loss: 2.2477e-04 - root_mean_squared_error: 0.0150 - val_loss: 2.2947e-04 - val_root_mean_squared_error: 0.0151\n",
            "Epoch 64/500\n",
            "47/47 [==============================] - 0s 6ms/step - loss: 2.2690e-04 - root_mean_squared_error: 0.0151 - val_loss: 2.3209e-04 - val_root_mean_squared_error: 0.0152\n",
            "Epoch 65/500\n",
            "45/47 [===========================>..] - ETA: 0s - loss: 2.1794e-04 - root_mean_squared_error: 0.0148"
          ]
        },
        {
          "output_type": "stream",
          "name": "stderr",
          "text": [
            "WARNING:absl:Found untraced functions such as lstm_cell_layer_call_fn, lstm_cell_layer_call_and_return_conditional_losses while saving (showing 2 of 2). These functions will not be directly callable after loading.\n",
            "WARNING:absl:<keras.layers.recurrent.LSTMCell object at 0x7f2d13bd2d90> has the same name 'LSTMCell' as a built-in Keras object. Consider renaming <class 'keras.layers.recurrent.LSTMCell'> to avoid naming conflicts when loading with `tf.keras.models.load_model`. If renaming is not possible, pass the object in the `custom_objects` parameter of the load function.\n"
          ]
        },
        {
          "output_type": "stream",
          "name": "stdout",
          "text": [
            "\b\b\b\b\b\b\b\b\b\b\b\b\b\b\b\b\b\b\b\b\b\b\b\b\b\b\b\b\b\b\b\b\b\b\b\b\b\b\b\b\b\b\b\b\b\b\b\b\b\b\b\b\b\b\b\b\b\b\b\b\b\b\b\b\b\b\b\b\b\b\b\b\b\b\b\b\b\b\b\b\b\b\b\b\b\b\b\b\b\b\b\b\b\b\b\b\b\b\b\b\b\r47/47 [==============================] - 5s 105ms/step - loss: 2.1785e-04 - root_mean_squared_error: 0.0148 - val_loss: 2.2864e-04 - val_root_mean_squared_error: 0.0151\n",
            "Epoch 66/500\n",
            "47/47 [==============================] - 0s 6ms/step - loss: 2.1761e-04 - root_mean_squared_error: 0.0148 - val_loss: 2.4176e-04 - val_root_mean_squared_error: 0.0155\n",
            "Epoch 67/500\n",
            "47/47 [==============================] - 0s 6ms/step - loss: 2.2761e-04 - root_mean_squared_error: 0.0151 - val_loss: 2.6542e-04 - val_root_mean_squared_error: 0.0163\n",
            "Epoch 68/500\n",
            "41/47 [=========================>....] - ETA: 0s - loss: 2.2896e-04 - root_mean_squared_error: 0.0151"
          ]
        },
        {
          "output_type": "stream",
          "name": "stderr",
          "text": [
            "WARNING:absl:Found untraced functions such as lstm_cell_layer_call_fn, lstm_cell_layer_call_and_return_conditional_losses while saving (showing 2 of 2). These functions will not be directly callable after loading.\n",
            "WARNING:absl:<keras.layers.recurrent.LSTMCell object at 0x7f2d13bd2d90> has the same name 'LSTMCell' as a built-in Keras object. Consider renaming <class 'keras.layers.recurrent.LSTMCell'> to avoid naming conflicts when loading with `tf.keras.models.load_model`. If renaming is not possible, pass the object in the `custom_objects` parameter of the load function.\n"
          ]
        },
        {
          "output_type": "stream",
          "name": "stdout",
          "text": [
            "\b\b\b\b\b\b\b\b\b\b\b\b\b\b\b\b\b\b\b\b\b\b\b\b\b\b\b\b\b\b\b\b\b\b\b\b\b\b\b\b\b\b\b\b\b\b\b\b\b\b\b\b\b\b\b\b\b\b\b\b\b\b\b\b\b\b\b\b\b\b\b\b\b\b\b\b\b\b\b\b\b\b\b\b\b\b\b\b\b\b\b\b\b\b\b\b\b\b\b\b\b\r47/47 [==============================] - 5s 114ms/step - loss: 2.2774e-04 - root_mean_squared_error: 0.0151 - val_loss: 2.2702e-04 - val_root_mean_squared_error: 0.0151\n",
            "Epoch 69/500\n",
            "47/47 [==============================] - 0s 6ms/step - loss: 2.7160e-04 - root_mean_squared_error: 0.0165 - val_loss: 2.9448e-04 - val_root_mean_squared_error: 0.0172\n",
            "Epoch 70/500\n",
            "47/47 [==============================] - 0s 6ms/step - loss: 2.6108e-04 - root_mean_squared_error: 0.0162 - val_loss: 3.0075e-04 - val_root_mean_squared_error: 0.0173\n",
            "Epoch 71/500\n",
            "41/47 [=========================>....] - ETA: 0s - loss: 2.3424e-04 - root_mean_squared_error: 0.0153"
          ]
        },
        {
          "output_type": "stream",
          "name": "stderr",
          "text": [
            "WARNING:absl:Found untraced functions such as lstm_cell_layer_call_fn, lstm_cell_layer_call_and_return_conditional_losses while saving (showing 2 of 2). These functions will not be directly callable after loading.\n",
            "WARNING:absl:<keras.layers.recurrent.LSTMCell object at 0x7f2d13bd2d90> has the same name 'LSTMCell' as a built-in Keras object. Consider renaming <class 'keras.layers.recurrent.LSTMCell'> to avoid naming conflicts when loading with `tf.keras.models.load_model`. If renaming is not possible, pass the object in the `custom_objects` parameter of the load function.\n"
          ]
        },
        {
          "output_type": "stream",
          "name": "stdout",
          "text": [
            "\b\b\b\b\b\b\b\b\b\b\b\b\b\b\b\b\b\b\b\b\b\b\b\b\b\b\b\b\b\b\b\b\b\b\b\b\b\b\b\b\b\b\b\b\b\b\b\b\b\b\b\b\b\b\b\b\b\b\b\b\b\b\b\b\b\b\b\b\b\b\b\b\b\b\b\b\b\b\b\b\b\b\b\b\b\b\b\b\b\b\b\b\b\b\b\b\b\b\b\b\b\r47/47 [==============================] - 5s 113ms/step - loss: 2.3613e-04 - root_mean_squared_error: 0.0154 - val_loss: 2.2639e-04 - val_root_mean_squared_error: 0.0150\n",
            "Epoch 72/500\n",
            "47/47 [==============================] - 0s 6ms/step - loss: 2.2657e-04 - root_mean_squared_error: 0.0151 - val_loss: 2.4138e-04 - val_root_mean_squared_error: 0.0155\n",
            "Epoch 73/500\n",
            "43/47 [==========================>...] - ETA: 0s - loss: 2.1887e-04 - root_mean_squared_error: 0.0148"
          ]
        },
        {
          "output_type": "stream",
          "name": "stderr",
          "text": [
            "WARNING:absl:Found untraced functions such as lstm_cell_layer_call_fn, lstm_cell_layer_call_and_return_conditional_losses while saving (showing 2 of 2). These functions will not be directly callable after loading.\n",
            "WARNING:absl:<keras.layers.recurrent.LSTMCell object at 0x7f2d13bd2d90> has the same name 'LSTMCell' as a built-in Keras object. Consider renaming <class 'keras.layers.recurrent.LSTMCell'> to avoid naming conflicts when loading with `tf.keras.models.load_model`. If renaming is not possible, pass the object in the `custom_objects` parameter of the load function.\n"
          ]
        },
        {
          "output_type": "stream",
          "name": "stdout",
          "text": [
            "\b\b\b\b\b\b\b\b\b\b\b\b\b\b\b\b\b\b\b\b\b\b\b\b\b\b\b\b\b\b\b\b\b\b\b\b\b\b\b\b\b\b\b\b\b\b\b\b\b\b\b\b\b\b\b\b\b\b\b\b\b\b\b\b\b\b\b\b\b\b\b\b\b\b\b\b\b\b\b\b\b\b\b\b\b\b\b\b\b\b\b\b\b\b\b\b\b\b\b\b\b\r47/47 [==============================] - 5s 106ms/step - loss: 2.2201e-04 - root_mean_squared_error: 0.0149 - val_loss: 2.2476e-04 - val_root_mean_squared_error: 0.0150\n",
            "Epoch 74/500\n",
            "47/47 [==============================] - 0s 6ms/step - loss: 2.1977e-04 - root_mean_squared_error: 0.0148 - val_loss: 2.2647e-04 - val_root_mean_squared_error: 0.0150\n",
            "Epoch 75/500\n",
            "47/47 [==============================] - 0s 6ms/step - loss: 2.2023e-04 - root_mean_squared_error: 0.0148 - val_loss: 2.4089e-04 - val_root_mean_squared_error: 0.0155\n",
            "Epoch 76/500\n",
            "47/47 [==============================] - 0s 6ms/step - loss: 2.2085e-04 - root_mean_squared_error: 0.0149 - val_loss: 2.7665e-04 - val_root_mean_squared_error: 0.0166\n",
            "Epoch 77/500\n",
            "47/47 [==============================] - 0s 6ms/step - loss: 2.3498e-04 - root_mean_squared_error: 0.0153 - val_loss: 2.4944e-04 - val_root_mean_squared_error: 0.0158\n",
            "Epoch 78/500\n",
            "40/47 [========================>.....] - ETA: 0s - loss: 2.1335e-04 - root_mean_squared_error: 0.0146"
          ]
        },
        {
          "output_type": "stream",
          "name": "stderr",
          "text": [
            "WARNING:absl:Found untraced functions such as lstm_cell_layer_call_fn, lstm_cell_layer_call_and_return_conditional_losses while saving (showing 2 of 2). These functions will not be directly callable after loading.\n",
            "WARNING:absl:<keras.layers.recurrent.LSTMCell object at 0x7f2d13bd2d90> has the same name 'LSTMCell' as a built-in Keras object. Consider renaming <class 'keras.layers.recurrent.LSTMCell'> to avoid naming conflicts when loading with `tf.keras.models.load_model`. If renaming is not possible, pass the object in the `custom_objects` parameter of the load function.\n"
          ]
        },
        {
          "output_type": "stream",
          "name": "stdout",
          "text": [
            "\b\b\b\b\b\b\b\b\b\b\b\b\b\b\b\b\b\b\b\b\b\b\b\b\b\b\b\b\b\b\b\b\b\b\b\b\b\b\b\b\b\b\b\b\b\b\b\b\b\b\b\b\b\b\b\b\b\b\b\b\b\b\b\b\b\b\b\b\b\b\b\b\b\b\b\b\b\b\b\b\b\b\b\b\b\b\b\b\b\b\b\b\b\b\b\b\b\b\b\b\b\r47/47 [==============================] - 5s 114ms/step - loss: 2.1335e-04 - root_mean_squared_error: 0.0146 - val_loss: 2.2214e-04 - val_root_mean_squared_error: 0.0149\n",
            "Epoch 79/500\n",
            "47/47 [==============================] - 0s 6ms/step - loss: 2.2483e-04 - root_mean_squared_error: 0.0150 - val_loss: 2.2338e-04 - val_root_mean_squared_error: 0.0149\n",
            "Epoch 80/500\n",
            "47/47 [==============================] - 0s 6ms/step - loss: 2.4056e-04 - root_mean_squared_error: 0.0155 - val_loss: 2.3040e-04 - val_root_mean_squared_error: 0.0152\n",
            "Epoch 81/500\n",
            "47/47 [==============================] - 0s 6ms/step - loss: 2.2388e-04 - root_mean_squared_error: 0.0150 - val_loss: 2.4713e-04 - val_root_mean_squared_error: 0.0157\n",
            "Epoch 82/500\n",
            "41/47 [=========================>....] - ETA: 0s - loss: 2.1789e-04 - root_mean_squared_error: 0.0148"
          ]
        },
        {
          "output_type": "stream",
          "name": "stderr",
          "text": [
            "WARNING:absl:Found untraced functions such as lstm_cell_layer_call_fn, lstm_cell_layer_call_and_return_conditional_losses while saving (showing 2 of 2). These functions will not be directly callable after loading.\n",
            "WARNING:absl:<keras.layers.recurrent.LSTMCell object at 0x7f2d13bd2d90> has the same name 'LSTMCell' as a built-in Keras object. Consider renaming <class 'keras.layers.recurrent.LSTMCell'> to avoid naming conflicts when loading with `tf.keras.models.load_model`. If renaming is not possible, pass the object in the `custom_objects` parameter of the load function.\n"
          ]
        },
        {
          "output_type": "stream",
          "name": "stdout",
          "text": [
            "\b\b\b\b\b\b\b\b\b\b\b\b\b\b\b\b\b\b\b\b\b\b\b\b\b\b\b\b\b\b\b\b\b\b\b\b\b\b\b\b\b\b\b\b\b\b\b\b\b\b\b\b\b\b\b\b\b\b\b\b\b\b\b\b\b\b\b\b\b\b\b\b\b\b\b\b\b\b\b\b\b\b\b\b\b\b\b\b\b\b\b\b\b\b\b\b\b\b\b\b\b\r47/47 [==============================] - 5s 106ms/step - loss: 2.1664e-04 - root_mean_squared_error: 0.0147 - val_loss: 2.2028e-04 - val_root_mean_squared_error: 0.0148\n",
            "Epoch 83/500\n",
            "47/47 [==============================] - 0s 6ms/step - loss: 2.5058e-04 - root_mean_squared_error: 0.0158 - val_loss: 2.2072e-04 - val_root_mean_squared_error: 0.0149\n",
            "Epoch 84/500\n",
            "47/47 [==============================] - 0s 6ms/step - loss: 2.1632e-04 - root_mean_squared_error: 0.0147 - val_loss: 2.2967e-04 - val_root_mean_squared_error: 0.0152\n",
            "Epoch 85/500\n",
            "47/47 [==============================] - 0s 7ms/step - loss: 2.1991e-04 - root_mean_squared_error: 0.0148 - val_loss: 2.2120e-04 - val_root_mean_squared_error: 0.0149\n",
            "Epoch 86/500\n",
            "47/47 [==============================] - 0s 6ms/step - loss: 2.1900e-04 - root_mean_squared_error: 0.0148 - val_loss: 2.2050e-04 - val_root_mean_squared_error: 0.0148\n",
            "Epoch 87/500\n",
            "47/47 [==============================] - 0s 6ms/step - loss: 2.3865e-04 - root_mean_squared_error: 0.0154 - val_loss: 2.7981e-04 - val_root_mean_squared_error: 0.0167\n",
            "Epoch 88/500\n",
            "47/47 [==============================] - 0s 6ms/step - loss: 2.2962e-04 - root_mean_squared_error: 0.0152 - val_loss: 2.3361e-04 - val_root_mean_squared_error: 0.0153\n",
            "Epoch 89/500\n",
            "39/47 [=======================>......] - ETA: 0s - loss: 2.2955e-04 - root_mean_squared_error: 0.0152"
          ]
        },
        {
          "output_type": "stream",
          "name": "stderr",
          "text": [
            "WARNING:absl:Found untraced functions such as lstm_cell_layer_call_fn, lstm_cell_layer_call_and_return_conditional_losses while saving (showing 2 of 2). These functions will not be directly callable after loading.\n",
            "WARNING:absl:<keras.layers.recurrent.LSTMCell object at 0x7f2d13bd2d90> has the same name 'LSTMCell' as a built-in Keras object. Consider renaming <class 'keras.layers.recurrent.LSTMCell'> to avoid naming conflicts when loading with `tf.keras.models.load_model`. If renaming is not possible, pass the object in the `custom_objects` parameter of the load function.\n"
          ]
        },
        {
          "output_type": "stream",
          "name": "stdout",
          "text": [
            "\b\b\b\b\b\b\b\b\b\b\b\b\b\b\b\b\b\b\b\b\b\b\b\b\b\b\b\b\b\b\b\b\b\b\b\b\b\b\b\b\b\b\b\b\b\b\b\b\b\b\b\b\b\b\b\b\b\b\b\b\b\b\b\b\b\b\b\b\b\b\b\b\b\b\b\b\b\b\b\b\b\b\b\b\b\b\b\b\b\b\b\b\b\b\b\b\b\b\b\b\b\r47/47 [==============================] - 5s 114ms/step - loss: 2.2185e-04 - root_mean_squared_error: 0.0149 - val_loss: 2.1672e-04 - val_root_mean_squared_error: 0.0147\n",
            "Epoch 90/500\n",
            "47/47 [==============================] - 0s 6ms/step - loss: 2.2541e-04 - root_mean_squared_error: 0.0150 - val_loss: 2.5857e-04 - val_root_mean_squared_error: 0.0161\n",
            "Epoch 91/500\n",
            "47/47 [==============================] - 0s 7ms/step - loss: 2.3665e-04 - root_mean_squared_error: 0.0154 - val_loss: 2.7664e-04 - val_root_mean_squared_error: 0.0166\n",
            "Epoch 92/500\n",
            "47/47 [==============================] - 0s 7ms/step - loss: 2.2810e-04 - root_mean_squared_error: 0.0151 - val_loss: 2.4995e-04 - val_root_mean_squared_error: 0.0158\n",
            "Epoch 93/500\n",
            "47/47 [==============================] - 0s 6ms/step - loss: 2.1280e-04 - root_mean_squared_error: 0.0146 - val_loss: 3.1668e-04 - val_root_mean_squared_error: 0.0178\n",
            "Epoch 94/500\n",
            "47/47 [==============================] - 0s 6ms/step - loss: 2.1821e-04 - root_mean_squared_error: 0.0148 - val_loss: 2.3357e-04 - val_root_mean_squared_error: 0.0153\n",
            "Epoch 95/500\n",
            "41/47 [=========================>....] - ETA: 0s - loss: 2.4226e-04 - root_mean_squared_error: 0.0156"
          ]
        },
        {
          "output_type": "stream",
          "name": "stderr",
          "text": [
            "WARNING:absl:Found untraced functions such as lstm_cell_layer_call_fn, lstm_cell_layer_call_and_return_conditional_losses while saving (showing 2 of 2). These functions will not be directly callable after loading.\n",
            "WARNING:absl:<keras.layers.recurrent.LSTMCell object at 0x7f2d13bd2d90> has the same name 'LSTMCell' as a built-in Keras object. Consider renaming <class 'keras.layers.recurrent.LSTMCell'> to avoid naming conflicts when loading with `tf.keras.models.load_model`. If renaming is not possible, pass the object in the `custom_objects` parameter of the load function.\n"
          ]
        },
        {
          "output_type": "stream",
          "name": "stdout",
          "text": [
            "\b\b\b\b\b\b\b\b\b\b\b\b\b\b\b\b\b\b\b\b\b\b\b\b\b\b\b\b\b\b\b\b\b\b\b\b\b\b\b\b\b\b\b\b\b\b\b\b\b\b\b\b\b\b\b\b\b\b\b\b\b\b\b\b\b\b\b\b\b\b\b\b\b\b\b\b\b\b\b\b\b\b\b\b\b\b\b\b\b\b\b\b\b\b\b\b\b\b\b\b\b\r47/47 [==============================] - 5s 112ms/step - loss: 2.3676e-04 - root_mean_squared_error: 0.0154 - val_loss: 2.1475e-04 - val_root_mean_squared_error: 0.0147\n",
            "Epoch 96/500\n",
            "47/47 [==============================] - 0s 6ms/step - loss: 2.3983e-04 - root_mean_squared_error: 0.0155 - val_loss: 2.2286e-04 - val_root_mean_squared_error: 0.0149\n",
            "Epoch 97/500\n",
            "47/47 [==============================] - 0s 6ms/step - loss: 2.1943e-04 - root_mean_squared_error: 0.0148 - val_loss: 2.1991e-04 - val_root_mean_squared_error: 0.0148\n",
            "Epoch 98/500\n",
            "47/47 [==============================] - 0s 6ms/step - loss: 2.2537e-04 - root_mean_squared_error: 0.0150 - val_loss: 2.4895e-04 - val_root_mean_squared_error: 0.0158\n",
            "Epoch 99/500\n",
            "47/47 [==============================] - 0s 6ms/step - loss: 2.3089e-04 - root_mean_squared_error: 0.0152 - val_loss: 2.5108e-04 - val_root_mean_squared_error: 0.0158\n",
            "Epoch 100/500\n",
            "47/47 [==============================] - 0s 6ms/step - loss: 2.2752e-04 - root_mean_squared_error: 0.0151 - val_loss: 2.5338e-04 - val_root_mean_squared_error: 0.0159\n",
            "Epoch 101/500\n",
            "47/47 [==============================] - 0s 6ms/step - loss: 2.2132e-04 - root_mean_squared_error: 0.0149 - val_loss: 3.2901e-04 - val_root_mean_squared_error: 0.0181\n",
            "Epoch 102/500\n",
            "47/47 [==============================] - 0s 6ms/step - loss: 2.3938e-04 - root_mean_squared_error: 0.0155 - val_loss: 2.7092e-04 - val_root_mean_squared_error: 0.0165\n",
            "Epoch 103/500\n",
            "47/47 [==============================] - 0s 6ms/step - loss: 2.3217e-04 - root_mean_squared_error: 0.0152 - val_loss: 2.2317e-04 - val_root_mean_squared_error: 0.0149\n",
            "Epoch 104/500\n",
            "47/47 [==============================] - 0s 6ms/step - loss: 2.2708e-04 - root_mean_squared_error: 0.0151 - val_loss: 2.1723e-04 - val_root_mean_squared_error: 0.0147\n",
            "Epoch 105/500\n",
            "47/47 [==============================] - 0s 7ms/step - loss: 2.0774e-04 - root_mean_squared_error: 0.0144 - val_loss: 2.5755e-04 - val_root_mean_squared_error: 0.0160\n",
            "Epoch 106/500\n",
            "47/47 [==============================] - 0s 6ms/step - loss: 2.1008e-04 - root_mean_squared_error: 0.0145 - val_loss: 2.1539e-04 - val_root_mean_squared_error: 0.0147\n",
            "Epoch 107/500\n",
            "47/47 [==============================] - 0s 6ms/step - loss: 2.0534e-04 - root_mean_squared_error: 0.0143 - val_loss: 2.4248e-04 - val_root_mean_squared_error: 0.0156\n",
            "Epoch 108/500\n",
            "47/47 [==============================] - 0s 6ms/step - loss: 2.4117e-04 - root_mean_squared_error: 0.0155 - val_loss: 2.2141e-04 - val_root_mean_squared_error: 0.0149\n",
            "Epoch 109/500\n",
            "47/47 [==============================] - 0s 7ms/step - loss: 2.1009e-04 - root_mean_squared_error: 0.0145 - val_loss: 2.1930e-04 - val_root_mean_squared_error: 0.0148\n",
            "Epoch 110/500\n",
            "47/47 [==============================] - 0s 7ms/step - loss: 2.2668e-04 - root_mean_squared_error: 0.0151 - val_loss: 3.0912e-04 - val_root_mean_squared_error: 0.0176\n",
            "Epoch 111/500\n",
            "47/47 [==============================] - 0s 6ms/step - loss: 2.7863e-04 - root_mean_squared_error: 0.0167 - val_loss: 2.1535e-04 - val_root_mean_squared_error: 0.0147\n",
            "Epoch 112/500\n",
            "47/47 [==============================] - 0s 6ms/step - loss: 2.3029e-04 - root_mean_squared_error: 0.0152 - val_loss: 2.4366e-04 - val_root_mean_squared_error: 0.0156\n",
            "Epoch 113/500\n",
            "47/47 [==============================] - 0s 7ms/step - loss: 2.2118e-04 - root_mean_squared_error: 0.0149 - val_loss: 2.6016e-04 - val_root_mean_squared_error: 0.0161\n",
            "Epoch 114/500\n",
            "47/47 [==============================] - 0s 6ms/step - loss: 2.0609e-04 - root_mean_squared_error: 0.0144 - val_loss: 2.1793e-04 - val_root_mean_squared_error: 0.0148\n",
            "Epoch 115/500\n",
            "40/47 [========================>.....] - ETA: 0s - loss: 2.5564e-04 - root_mean_squared_error: 0.0160"
          ]
        },
        {
          "output_type": "stream",
          "name": "stderr",
          "text": [
            "WARNING:absl:Found untraced functions such as lstm_cell_layer_call_fn, lstm_cell_layer_call_and_return_conditional_losses while saving (showing 2 of 2). These functions will not be directly callable after loading.\n",
            "WARNING:absl:<keras.layers.recurrent.LSTMCell object at 0x7f2d13bd2d90> has the same name 'LSTMCell' as a built-in Keras object. Consider renaming <class 'keras.layers.recurrent.LSTMCell'> to avoid naming conflicts when loading with `tf.keras.models.load_model`. If renaming is not possible, pass the object in the `custom_objects` parameter of the load function.\n"
          ]
        },
        {
          "output_type": "stream",
          "name": "stdout",
          "text": [
            "\b\b\b\b\b\b\b\b\b\b\b\b\b\b\b\b\b\b\b\b\b\b\b\b\b\b\b\b\b\b\b\b\b\b\b\b\b\b\b\b\b\b\b\b\b\b\b\b\b\b\b\b\b\b\b\b\b\b\b\b\b\b\b\b\b\b\b\b\b\b\b\b\b\b\b\b\b\b\b\b\b\b\b\b\b\b\b\b\b\b\b\b\b\b\b\b\b\b\b\b\b\r47/47 [==============================] - 5s 105ms/step - loss: 2.4733e-04 - root_mean_squared_error: 0.0157 - val_loss: 2.1111e-04 - val_root_mean_squared_error: 0.0145\n",
            "Epoch 116/500\n",
            "47/47 [==============================] - 0s 7ms/step - loss: 2.0403e-04 - root_mean_squared_error: 0.0143 - val_loss: 2.2749e-04 - val_root_mean_squared_error: 0.0151\n",
            "Epoch 117/500\n",
            "43/47 [==========================>...] - ETA: 0s - loss: 2.1800e-04 - root_mean_squared_error: 0.0148"
          ]
        },
        {
          "output_type": "stream",
          "name": "stderr",
          "text": [
            "WARNING:absl:Found untraced functions such as lstm_cell_layer_call_fn, lstm_cell_layer_call_and_return_conditional_losses while saving (showing 2 of 2). These functions will not be directly callable after loading.\n",
            "WARNING:absl:<keras.layers.recurrent.LSTMCell object at 0x7f2d13bd2d90> has the same name 'LSTMCell' as a built-in Keras object. Consider renaming <class 'keras.layers.recurrent.LSTMCell'> to avoid naming conflicts when loading with `tf.keras.models.load_model`. If renaming is not possible, pass the object in the `custom_objects` parameter of the load function.\n"
          ]
        },
        {
          "output_type": "stream",
          "name": "stdout",
          "text": [
            "\b\b\b\b\b\b\b\b\b\b\b\b\b\b\b\b\b\b\b\b\b\b\b\b\b\b\b\b\b\b\b\b\b\b\b\b\b\b\b\b\b\b\b\b\b\b\b\b\b\b\b\b\b\b\b\b\b\b\b\b\b\b\b\b\b\b\b\b\b\b\b\b\b\b\b\b\b\b\b\b\b\b\b\b\b\b\b\b\b\b\b\b\b\b\b\b\b\b\b\b\b\r47/47 [==============================] - 5s 115ms/step - loss: 2.1926e-04 - root_mean_squared_error: 0.0148 - val_loss: 2.0742e-04 - val_root_mean_squared_error: 0.0144\n",
            "Epoch 118/500\n",
            "47/47 [==============================] - 0s 6ms/step - loss: 2.0622e-04 - root_mean_squared_error: 0.0144 - val_loss: 2.3532e-04 - val_root_mean_squared_error: 0.0153\n",
            "Epoch 119/500\n",
            "47/47 [==============================] - 0s 6ms/step - loss: 2.1169e-04 - root_mean_squared_error: 0.0145 - val_loss: 2.1015e-04 - val_root_mean_squared_error: 0.0145\n",
            "Epoch 120/500\n",
            "47/47 [==============================] - 0s 6ms/step - loss: 2.1046e-04 - root_mean_squared_error: 0.0145 - val_loss: 2.0878e-04 - val_root_mean_squared_error: 0.0144\n",
            "Epoch 121/500\n",
            "47/47 [==============================] - 0s 6ms/step - loss: 2.5353e-04 - root_mean_squared_error: 0.0159 - val_loss: 2.8044e-04 - val_root_mean_squared_error: 0.0167\n",
            "Epoch 122/500\n",
            "39/47 [=======================>......] - ETA: 0s - loss: 2.3333e-04 - root_mean_squared_error: 0.0153"
          ]
        },
        {
          "output_type": "stream",
          "name": "stderr",
          "text": [
            "WARNING:absl:Found untraced functions such as lstm_cell_layer_call_fn, lstm_cell_layer_call_and_return_conditional_losses while saving (showing 2 of 2). These functions will not be directly callable after loading.\n",
            "WARNING:absl:<keras.layers.recurrent.LSTMCell object at 0x7f2d13bd2d90> has the same name 'LSTMCell' as a built-in Keras object. Consider renaming <class 'keras.layers.recurrent.LSTMCell'> to avoid naming conflicts when loading with `tf.keras.models.load_model`. If renaming is not possible, pass the object in the `custom_objects` parameter of the load function.\n"
          ]
        },
        {
          "output_type": "stream",
          "name": "stdout",
          "text": [
            "\b\b\b\b\b\b\b\b\b\b\b\b\b\b\b\b\b\b\b\b\b\b\b\b\b\b\b\b\b\b\b\b\b\b\b\b\b\b\b\b\b\b\b\b\b\b\b\b\b\b\b\b\b\b\b\b\b\b\b\b\b\b\b\b\b\b\b\b\b\b\b\b\b\b\b\b\b\b\b\b\b\b\b\b\b\b\b\b\b\b\b\b\b\b\b\b\b\b\b\b\b\r47/47 [==============================] - 5s 112ms/step - loss: 2.2484e-04 - root_mean_squared_error: 0.0150 - val_loss: 2.0475e-04 - val_root_mean_squared_error: 0.0143\n",
            "Epoch 123/500\n",
            "41/47 [=========================>....] - ETA: 0s - loss: 2.0955e-04 - root_mean_squared_error: 0.0145"
          ]
        },
        {
          "output_type": "stream",
          "name": "stderr",
          "text": [
            "WARNING:absl:Found untraced functions such as lstm_cell_layer_call_fn, lstm_cell_layer_call_and_return_conditional_losses while saving (showing 2 of 2). These functions will not be directly callable after loading.\n",
            "WARNING:absl:<keras.layers.recurrent.LSTMCell object at 0x7f2d13bd2d90> has the same name 'LSTMCell' as a built-in Keras object. Consider renaming <class 'keras.layers.recurrent.LSTMCell'> to avoid naming conflicts when loading with `tf.keras.models.load_model`. If renaming is not possible, pass the object in the `custom_objects` parameter of the load function.\n"
          ]
        },
        {
          "output_type": "stream",
          "name": "stdout",
          "text": [
            "\b\b\b\b\b\b\b\b\b\b\b\b\b\b\b\b\b\b\b\b\b\b\b\b\b\b\b\b\b\b\b\b\b\b\b\b\b\b\b\b\b\b\b\b\b\b\b\b\b\b\b\b\b\b\b\b\b\b\b\b\b\b\b\b\b\b\b\b\b\b\b\b\b\b\b\b\b\b\b\b\b\b\b\b\b\b\b\b\b\b\b\b\b\b\b\b\b\b\b\b\b\r47/47 [==============================] - 5s 104ms/step - loss: 2.0983e-04 - root_mean_squared_error: 0.0145 - val_loss: 2.0411e-04 - val_root_mean_squared_error: 0.0143\n",
            "Epoch 124/500\n",
            "47/47 [==============================] - 0s 6ms/step - loss: 2.3281e-04 - root_mean_squared_error: 0.0153 - val_loss: 2.0837e-04 - val_root_mean_squared_error: 0.0144\n",
            "Epoch 125/500\n",
            "47/47 [==============================] - 0s 6ms/step - loss: 1.9769e-04 - root_mean_squared_error: 0.0141 - val_loss: 2.1668e-04 - val_root_mean_squared_error: 0.0147\n",
            "Epoch 126/500\n",
            "47/47 [==============================] - 0s 6ms/step - loss: 2.0374e-04 - root_mean_squared_error: 0.0143 - val_loss: 2.8776e-04 - val_root_mean_squared_error: 0.0170\n",
            "Epoch 127/500\n",
            "47/47 [==============================] - 0s 7ms/step - loss: 2.3090e-04 - root_mean_squared_error: 0.0152 - val_loss: 2.2132e-04 - val_root_mean_squared_error: 0.0149\n",
            "Epoch 128/500\n",
            "47/47 [==============================] - 0s 6ms/step - loss: 2.1824e-04 - root_mean_squared_error: 0.0148 - val_loss: 2.3437e-04 - val_root_mean_squared_error: 0.0153\n",
            "Epoch 129/500\n",
            "47/47 [==============================] - 0s 6ms/step - loss: 2.0177e-04 - root_mean_squared_error: 0.0142 - val_loss: 2.2015e-04 - val_root_mean_squared_error: 0.0148\n",
            "Epoch 130/500\n",
            "47/47 [==============================] - 0s 6ms/step - loss: 2.0629e-04 - root_mean_squared_error: 0.0144 - val_loss: 2.3570e-04 - val_root_mean_squared_error: 0.0154\n",
            "Epoch 131/500\n",
            "47/47 [==============================] - 0s 6ms/step - loss: 2.0093e-04 - root_mean_squared_error: 0.0142 - val_loss: 2.0450e-04 - val_root_mean_squared_error: 0.0143\n",
            "Epoch 132/500\n",
            "47/47 [==============================] - 0s 6ms/step - loss: 1.9245e-04 - root_mean_squared_error: 0.0139 - val_loss: 2.0860e-04 - val_root_mean_squared_error: 0.0144\n",
            "Epoch 133/500\n",
            "47/47 [==============================] - 0s 6ms/step - loss: 2.0073e-04 - root_mean_squared_error: 0.0142 - val_loss: 2.1067e-04 - val_root_mean_squared_error: 0.0145\n",
            "Epoch 134/500\n",
            "47/47 [==============================] - 0s 7ms/step - loss: 1.9815e-04 - root_mean_squared_error: 0.0141 - val_loss: 2.2063e-04 - val_root_mean_squared_error: 0.0149\n",
            "Epoch 135/500\n",
            "47/47 [==============================] - 0s 6ms/step - loss: 2.1904e-04 - root_mean_squared_error: 0.0148 - val_loss: 3.4278e-04 - val_root_mean_squared_error: 0.0185\n",
            "Epoch 136/500\n",
            "41/47 [=========================>....] - ETA: 0s - loss: 2.4492e-04 - root_mean_squared_error: 0.0157"
          ]
        },
        {
          "output_type": "stream",
          "name": "stderr",
          "text": [
            "WARNING:absl:Found untraced functions such as lstm_cell_layer_call_fn, lstm_cell_layer_call_and_return_conditional_losses while saving (showing 2 of 2). These functions will not be directly callable after loading.\n",
            "WARNING:absl:<keras.layers.recurrent.LSTMCell object at 0x7f2d13bd2d90> has the same name 'LSTMCell' as a built-in Keras object. Consider renaming <class 'keras.layers.recurrent.LSTMCell'> to avoid naming conflicts when loading with `tf.keras.models.load_model`. If renaming is not possible, pass the object in the `custom_objects` parameter of the load function.\n"
          ]
        },
        {
          "output_type": "stream",
          "name": "stdout",
          "text": [
            "\b\b\b\b\b\b\b\b\b\b\b\b\b\b\b\b\b\b\b\b\b\b\b\b\b\b\b\b\b\b\b\b\b\b\b\b\b\b\b\b\b\b\b\b\b\b\b\b\b\b\b\b\b\b\b\b\b\b\b\b\b\b\b\b\b\b\b\b\b\b\b\b\b\b\b\b\b\b\b\b\b\b\b\b\b\b\b\b\b\b\b\b\b\b\b\b\b\b\b\b\b\r47/47 [==============================] - 5s 115ms/step - loss: 2.4293e-04 - root_mean_squared_error: 0.0156 - val_loss: 1.9894e-04 - val_root_mean_squared_error: 0.0141\n",
            "Epoch 137/500\n",
            "47/47 [==============================] - 0s 6ms/step - loss: 2.0046e-04 - root_mean_squared_error: 0.0142 - val_loss: 2.2904e-04 - val_root_mean_squared_error: 0.0151\n",
            "Epoch 138/500\n",
            "47/47 [==============================] - 0s 6ms/step - loss: 1.8942e-04 - root_mean_squared_error: 0.0138 - val_loss: 2.0271e-04 - val_root_mean_squared_error: 0.0142\n",
            "Epoch 139/500\n",
            "47/47 [==============================] - 0s 6ms/step - loss: 1.8914e-04 - root_mean_squared_error: 0.0138 - val_loss: 2.6306e-04 - val_root_mean_squared_error: 0.0162\n",
            "Epoch 140/500\n",
            "47/47 [==============================] - 0s 6ms/step - loss: 2.0396e-04 - root_mean_squared_error: 0.0143 - val_loss: 2.2821e-04 - val_root_mean_squared_error: 0.0151\n",
            "Epoch 141/500\n",
            "40/47 [========================>.....] - ETA: 0s - loss: 2.2656e-04 - root_mean_squared_error: 0.0151"
          ]
        },
        {
          "output_type": "stream",
          "name": "stderr",
          "text": [
            "WARNING:absl:Found untraced functions such as lstm_cell_layer_call_fn, lstm_cell_layer_call_and_return_conditional_losses while saving (showing 2 of 2). These functions will not be directly callable after loading.\n",
            "WARNING:absl:<keras.layers.recurrent.LSTMCell object at 0x7f2d13bd2d90> has the same name 'LSTMCell' as a built-in Keras object. Consider renaming <class 'keras.layers.recurrent.LSTMCell'> to avoid naming conflicts when loading with `tf.keras.models.load_model`. If renaming is not possible, pass the object in the `custom_objects` parameter of the load function.\n"
          ]
        },
        {
          "output_type": "stream",
          "name": "stdout",
          "text": [
            "\b\b\b\b\b\b\b\b\b\b\b\b\b\b\b\b\b\b\b\b\b\b\b\b\b\b\b\b\b\b\b\b\b\b\b\b\b\b\b\b\b\b\b\b\b\b\b\b\b\b\b\b\b\b\b\b\b\b\b\b\b\b\b\b\b\b\b\b\b\b\b\b\b\b\b\b\b\b\b\b\b\b\b\b\b\b\b\b\b\b\b\b\b\b\b\b\b\b\b\b\b\r47/47 [==============================] - 5s 114ms/step - loss: 2.2740e-04 - root_mean_squared_error: 0.0151 - val_loss: 1.9760e-04 - val_root_mean_squared_error: 0.0141\n",
            "Epoch 142/500\n",
            "47/47 [==============================] - 0s 7ms/step - loss: 2.0227e-04 - root_mean_squared_error: 0.0142 - val_loss: 2.3666e-04 - val_root_mean_squared_error: 0.0154\n",
            "Epoch 143/500\n",
            "43/47 [==========================>...] - ETA: 0s - loss: 2.4636e-04 - root_mean_squared_error: 0.0157"
          ]
        },
        {
          "output_type": "stream",
          "name": "stderr",
          "text": [
            "WARNING:absl:Found untraced functions such as lstm_cell_layer_call_fn, lstm_cell_layer_call_and_return_conditional_losses while saving (showing 2 of 2). These functions will not be directly callable after loading.\n",
            "WARNING:absl:<keras.layers.recurrent.LSTMCell object at 0x7f2d13bd2d90> has the same name 'LSTMCell' as a built-in Keras object. Consider renaming <class 'keras.layers.recurrent.LSTMCell'> to avoid naming conflicts when loading with `tf.keras.models.load_model`. If renaming is not possible, pass the object in the `custom_objects` parameter of the load function.\n"
          ]
        },
        {
          "output_type": "stream",
          "name": "stdout",
          "text": [
            "\b\b\b\b\b\b\b\b\b\b\b\b\b\b\b\b\b\b\b\b\b\b\b\b\b\b\b\b\b\b\b\b\b\b\b\b\b\b\b\b\b\b\b\b\b\b\b\b\b\b\b\b\b\b\b\b\b\b\b\b\b\b\b\b\b\b\b\b\b\b\b\b\b\b\b\b\b\b\b\b\b\b\b\b\b\b\b\b\b\b\b\b\b\b\b\b\b\b\b\b\b\r47/47 [==============================] - 5s 105ms/step - loss: 2.3894e-04 - root_mean_squared_error: 0.0155 - val_loss: 1.8980e-04 - val_root_mean_squared_error: 0.0138\n",
            "Epoch 144/500\n",
            "47/47 [==============================] - 0s 6ms/step - loss: 1.8998e-04 - root_mean_squared_error: 0.0138 - val_loss: 2.0769e-04 - val_root_mean_squared_error: 0.0144\n",
            "Epoch 145/500\n",
            "41/47 [=========================>....] - ETA: 0s - loss: 2.0477e-04 - root_mean_squared_error: 0.0143"
          ]
        },
        {
          "output_type": "stream",
          "name": "stderr",
          "text": [
            "WARNING:absl:Found untraced functions such as lstm_cell_layer_call_fn, lstm_cell_layer_call_and_return_conditional_losses while saving (showing 2 of 2). These functions will not be directly callable after loading.\n",
            "WARNING:absl:<keras.layers.recurrent.LSTMCell object at 0x7f2d13bd2d90> has the same name 'LSTMCell' as a built-in Keras object. Consider renaming <class 'keras.layers.recurrent.LSTMCell'> to avoid naming conflicts when loading with `tf.keras.models.load_model`. If renaming is not possible, pass the object in the `custom_objects` parameter of the load function.\n"
          ]
        },
        {
          "output_type": "stream",
          "name": "stdout",
          "text": [
            "\b\b\b\b\b\b\b\b\b\b\b\b\b\b\b\b\b\b\b\b\b\b\b\b\b\b\b\b\b\b\b\b\b\b\b\b\b\b\b\b\b\b\b\b\b\b\b\b\b\b\b\b\b\b\b\b\b\b\b\b\b\b\b\b\b\b\b\b\b\b\b\b\b\b\b\b\b\b\b\b\b\b\b\b\b\b\b\b\b\b\b\b\b\b\b\b\b\b\b\b\b\r47/47 [==============================] - 5s 115ms/step - loss: 2.0627e-04 - root_mean_squared_error: 0.0144 - val_loss: 1.8730e-04 - val_root_mean_squared_error: 0.0137\n",
            "Epoch 146/500\n",
            "43/47 [==========================>...] - ETA: 0s - loss: 1.9122e-04 - root_mean_squared_error: 0.0138"
          ]
        },
        {
          "output_type": "stream",
          "name": "stderr",
          "text": [
            "WARNING:absl:Found untraced functions such as lstm_cell_layer_call_fn, lstm_cell_layer_call_and_return_conditional_losses while saving (showing 2 of 2). These functions will not be directly callable after loading.\n",
            "WARNING:absl:<keras.layers.recurrent.LSTMCell object at 0x7f2d13bd2d90> has the same name 'LSTMCell' as a built-in Keras object. Consider renaming <class 'keras.layers.recurrent.LSTMCell'> to avoid naming conflicts when loading with `tf.keras.models.load_model`. If renaming is not possible, pass the object in the `custom_objects` parameter of the load function.\n"
          ]
        },
        {
          "output_type": "stream",
          "name": "stdout",
          "text": [
            "\b\b\b\b\b\b\b\b\b\b\b\b\b\b\b\b\b\b\b\b\b\b\b\b\b\b\b\b\b\b\b\b\b\b\b\b\b\b\b\b\b\b\b\b\b\b\b\b\b\b\b\b\b\b\b\b\b\b\b\b\b\b\b\b\b\b\b\b\b\b\b\b\b\b\b\b\b\b\b\b\b\b\b\b\b\b\b\b\b\b\b\b\b\b\b\b\b\b\b\b\b\r47/47 [==============================] - 5s 112ms/step - loss: 1.9012e-04 - root_mean_squared_error: 0.0138 - val_loss: 1.8517e-04 - val_root_mean_squared_error: 0.0136\n",
            "Epoch 147/500\n",
            "47/47 [==============================] - 0s 6ms/step - loss: 2.0135e-04 - root_mean_squared_error: 0.0142 - val_loss: 2.2234e-04 - val_root_mean_squared_error: 0.0149\n",
            "Epoch 148/500\n",
            "47/47 [==============================] - 0s 6ms/step - loss: 2.1464e-04 - root_mean_squared_error: 0.0147 - val_loss: 2.5129e-04 - val_root_mean_squared_error: 0.0159\n",
            "Epoch 149/500\n",
            "47/47 [==============================] - 0s 6ms/step - loss: 2.0612e-04 - root_mean_squared_error: 0.0144 - val_loss: 1.8762e-04 - val_root_mean_squared_error: 0.0137\n",
            "Epoch 150/500\n",
            "47/47 [==============================] - 0s 6ms/step - loss: 1.8781e-04 - root_mean_squared_error: 0.0137 - val_loss: 1.8699e-04 - val_root_mean_squared_error: 0.0137\n",
            "Epoch 151/500\n",
            "47/47 [==============================] - 0s 7ms/step - loss: 1.9379e-04 - root_mean_squared_error: 0.0139 - val_loss: 2.0925e-04 - val_root_mean_squared_error: 0.0145\n",
            "Epoch 152/500\n",
            "47/47 [==============================] - 0s 6ms/step - loss: 1.8578e-04 - root_mean_squared_error: 0.0136 - val_loss: 2.1596e-04 - val_root_mean_squared_error: 0.0147\n",
            "Epoch 153/500\n",
            "47/47 [==============================] - 0s 6ms/step - loss: 2.1788e-04 - root_mean_squared_error: 0.0148 - val_loss: 1.8823e-04 - val_root_mean_squared_error: 0.0137\n",
            "Epoch 154/500\n",
            "41/47 [=========================>....] - ETA: 0s - loss: 2.0783e-04 - root_mean_squared_error: 0.0144"
          ]
        },
        {
          "output_type": "stream",
          "name": "stderr",
          "text": [
            "WARNING:absl:Found untraced functions such as lstm_cell_layer_call_fn, lstm_cell_layer_call_and_return_conditional_losses while saving (showing 2 of 2). These functions will not be directly callable after loading.\n",
            "WARNING:absl:<keras.layers.recurrent.LSTMCell object at 0x7f2d13bd2d90> has the same name 'LSTMCell' as a built-in Keras object. Consider renaming <class 'keras.layers.recurrent.LSTMCell'> to avoid naming conflicts when loading with `tf.keras.models.load_model`. If renaming is not possible, pass the object in the `custom_objects` parameter of the load function.\n"
          ]
        },
        {
          "output_type": "stream",
          "name": "stdout",
          "text": [
            "\b\b\b\b\b\b\b\b\b\b\b\b\b\b\b\b\b\b\b\b\b\b\b\b\b\b\b\b\b\b\b\b\b\b\b\b\b\b\b\b\b\b\b\b\b\b\b\b\b\b\b\b\b\b\b\b\b\b\b\b\b\b\b\b\b\b\b\b\b\b\b\b\b\b\b\b\b\b\b\b\b\b\b\b\b\b\b\b\b\b\b\b\b\b\b\b\b\b\b\b\b\r47/47 [==============================] - 5s 106ms/step - loss: 2.0315e-04 - root_mean_squared_error: 0.0143 - val_loss: 1.8459e-04 - val_root_mean_squared_error: 0.0136\n",
            "Epoch 155/500\n",
            "47/47 [==============================] - 0s 6ms/step - loss: 1.9949e-04 - root_mean_squared_error: 0.0141 - val_loss: 2.0718e-04 - val_root_mean_squared_error: 0.0144\n",
            "Epoch 156/500\n",
            "42/47 [=========================>....] - ETA: 0s - loss: 1.7915e-04 - root_mean_squared_error: 0.0134"
          ]
        },
        {
          "output_type": "stream",
          "name": "stderr",
          "text": [
            "WARNING:absl:Found untraced functions such as lstm_cell_layer_call_fn, lstm_cell_layer_call_and_return_conditional_losses while saving (showing 2 of 2). These functions will not be directly callable after loading.\n",
            "WARNING:absl:<keras.layers.recurrent.LSTMCell object at 0x7f2d13bd2d90> has the same name 'LSTMCell' as a built-in Keras object. Consider renaming <class 'keras.layers.recurrent.LSTMCell'> to avoid naming conflicts when loading with `tf.keras.models.load_model`. If renaming is not possible, pass the object in the `custom_objects` parameter of the load function.\n"
          ]
        },
        {
          "output_type": "stream",
          "name": "stdout",
          "text": [
            "\b\b\b\b\b\b\b\b\b\b\b\b\b\b\b\b\b\b\b\b\b\b\b\b\b\b\b\b\b\b\b\b\b\b\b\b\b\b\b\b\b\b\b\b\b\b\b\b\b\b\b\b\b\b\b\b\b\b\b\b\b\b\b\b\b\b\b\b\b\b\b\b\b\b\b\b\b\b\b\b\b\b\b\b\b\b\b\b\b\b\b\b\b\b\b\b\b\b\b\b\b\r47/47 [==============================] - 6s 133ms/step - loss: 1.8179e-04 - root_mean_squared_error: 0.0135 - val_loss: 1.8208e-04 - val_root_mean_squared_error: 0.0135\n",
            "Epoch 157/500\n",
            "47/47 [==============================] - 0s 8ms/step - loss: 1.8163e-04 - root_mean_squared_error: 0.0135 - val_loss: 2.1466e-04 - val_root_mean_squared_error: 0.0147\n",
            "Epoch 158/500\n",
            "47/47 [==============================] - 0s 6ms/step - loss: 1.9409e-04 - root_mean_squared_error: 0.0139 - val_loss: 1.8685e-04 - val_root_mean_squared_error: 0.0137\n",
            "Epoch 159/500\n",
            "47/47 [==============================] - 0s 6ms/step - loss: 1.8151e-04 - root_mean_squared_error: 0.0135 - val_loss: 1.9680e-04 - val_root_mean_squared_error: 0.0140\n",
            "Epoch 160/500\n",
            "39/47 [=======================>......] - ETA: 0s - loss: 2.0971e-04 - root_mean_squared_error: 0.0145"
          ]
        },
        {
          "output_type": "stream",
          "name": "stderr",
          "text": [
            "WARNING:absl:Found untraced functions such as lstm_cell_layer_call_fn, lstm_cell_layer_call_and_return_conditional_losses while saving (showing 2 of 2). These functions will not be directly callable after loading.\n",
            "WARNING:absl:<keras.layers.recurrent.LSTMCell object at 0x7f2d13bd2d90> has the same name 'LSTMCell' as a built-in Keras object. Consider renaming <class 'keras.layers.recurrent.LSTMCell'> to avoid naming conflicts when loading with `tf.keras.models.load_model`. If renaming is not possible, pass the object in the `custom_objects` parameter of the load function.\n"
          ]
        },
        {
          "output_type": "stream",
          "name": "stdout",
          "text": [
            "\b\b\b\b\b\b\b\b\b\b\b\b\b\b\b\b\b\b\b\b\b\b\b\b\b\b\b\b\b\b\b\b\b\b\b\b\b\b\b\b\b\b\b\b\b\b\b\b\b\b\b\b\b\b\b\b\b\b\b\b\b\b\b\b\b\b\b\b\b\b\b\b\b\b\b\b\b\b\b\b\b\b\b\b\b\b\b\b\b\b\b\b\b\b\b\b\b\b\b\b\b\r47/47 [==============================] - 5s 105ms/step - loss: 2.0620e-04 - root_mean_squared_error: 0.0144 - val_loss: 1.7882e-04 - val_root_mean_squared_error: 0.0134\n",
            "Epoch 161/500\n",
            "47/47 [==============================] - 0s 6ms/step - loss: 1.7719e-04 - root_mean_squared_error: 0.0133 - val_loss: 1.9534e-04 - val_root_mean_squared_error: 0.0140\n",
            "Epoch 162/500\n",
            "47/47 [==============================] - 0s 6ms/step - loss: 1.9110e-04 - root_mean_squared_error: 0.0138 - val_loss: 2.6473e-04 - val_root_mean_squared_error: 0.0163\n",
            "Epoch 163/500\n",
            "39/47 [=======================>......] - ETA: 0s - loss: 1.9875e-04 - root_mean_squared_error: 0.0141"
          ]
        },
        {
          "output_type": "stream",
          "name": "stderr",
          "text": [
            "WARNING:absl:Found untraced functions such as lstm_cell_layer_call_fn, lstm_cell_layer_call_and_return_conditional_losses while saving (showing 2 of 2). These functions will not be directly callable after loading.\n",
            "WARNING:absl:<keras.layers.recurrent.LSTMCell object at 0x7f2d13bd2d90> has the same name 'LSTMCell' as a built-in Keras object. Consider renaming <class 'keras.layers.recurrent.LSTMCell'> to avoid naming conflicts when loading with `tf.keras.models.load_model`. If renaming is not possible, pass the object in the `custom_objects` parameter of the load function.\n"
          ]
        },
        {
          "output_type": "stream",
          "name": "stdout",
          "text": [
            "\b\b\b\b\b\b\b\b\b\b\b\b\b\b\b\b\b\b\b\b\b\b\b\b\b\b\b\b\b\b\b\b\b\b\b\b\b\b\b\b\b\b\b\b\b\b\b\b\b\b\b\b\b\b\b\b\b\b\b\b\b\b\b\b\b\b\b\b\b\b\b\b\b\b\b\b\b\b\b\b\b\b\b\b\b\b\b\b\b\b\b\b\b\b\b\b\b\b\b\b\b\r47/47 [==============================] - 5s 117ms/step - loss: 1.9329e-04 - root_mean_squared_error: 0.0139 - val_loss: 1.7661e-04 - val_root_mean_squared_error: 0.0133\n",
            "Epoch 164/500\n",
            "47/47 [==============================] - 0s 6ms/step - loss: 1.8232e-04 - root_mean_squared_error: 0.0135 - val_loss: 2.2158e-04 - val_root_mean_squared_error: 0.0149\n",
            "Epoch 165/500\n",
            "47/47 [==============================] - 0s 6ms/step - loss: 1.9655e-04 - root_mean_squared_error: 0.0140 - val_loss: 2.3036e-04 - val_root_mean_squared_error: 0.0152\n",
            "Epoch 166/500\n",
            "47/47 [==============================] - 0s 7ms/step - loss: 1.8433e-04 - root_mean_squared_error: 0.0136 - val_loss: 1.9267e-04 - val_root_mean_squared_error: 0.0139\n",
            "Epoch 167/500\n",
            "47/47 [==============================] - 0s 6ms/step - loss: 1.6820e-04 - root_mean_squared_error: 0.0130 - val_loss: 2.1949e-04 - val_root_mean_squared_error: 0.0148\n",
            "Epoch 168/500\n",
            "47/47 [==============================] - 0s 6ms/step - loss: 1.7740e-04 - root_mean_squared_error: 0.0133 - val_loss: 1.8736e-04 - val_root_mean_squared_error: 0.0137\n",
            "Epoch 169/500\n",
            "47/47 [==============================] - 0s 6ms/step - loss: 1.7370e-04 - root_mean_squared_error: 0.0132 - val_loss: 1.7702e-04 - val_root_mean_squared_error: 0.0133\n",
            "Epoch 170/500\n",
            "47/47 [==============================] - ETA: 0s - loss: 1.6819e-04 - root_mean_squared_error: 0.0130"
          ]
        },
        {
          "output_type": "stream",
          "name": "stderr",
          "text": [
            "WARNING:absl:Found untraced functions such as lstm_cell_layer_call_fn, lstm_cell_layer_call_and_return_conditional_losses while saving (showing 2 of 2). These functions will not be directly callable after loading.\n",
            "WARNING:absl:<keras.layers.recurrent.LSTMCell object at 0x7f2d13bd2d90> has the same name 'LSTMCell' as a built-in Keras object. Consider renaming <class 'keras.layers.recurrent.LSTMCell'> to avoid naming conflicts when loading with `tf.keras.models.load_model`. If renaming is not possible, pass the object in the `custom_objects` parameter of the load function.\n"
          ]
        },
        {
          "output_type": "stream",
          "name": "stdout",
          "text": [
            "\b\b\b\b\b\b\b\b\b\b\b\b\b\b\b\b\b\b\b\b\b\b\b\b\b\b\b\b\b\b\b\b\b\b\b\b\b\b\b\b\b\b\b\b\b\b\b\b\b\b\b\b\b\b\b\b\b\b\b\b\b\b\b\b\b\b\b\b\b\b\b\b\b\b\b\b\b\b\b\b\b\b\b\b\b\b\b\b\b\b\b\b\b\b\b\b\b\b\b\b\b\r47/47 [==============================] - 5s 116ms/step - loss: 1.6819e-04 - root_mean_squared_error: 0.0130 - val_loss: 1.7339e-04 - val_root_mean_squared_error: 0.0132\n",
            "Epoch 171/500\n",
            "47/47 [==============================] - 0s 6ms/step - loss: 1.6163e-04 - root_mean_squared_error: 0.0127 - val_loss: 1.7530e-04 - val_root_mean_squared_error: 0.0132\n",
            "Epoch 172/500\n",
            "46/47 [============================>.] - ETA: 0s - loss: 1.7974e-04 - root_mean_squared_error: 0.0134"
          ]
        },
        {
          "output_type": "stream",
          "name": "stderr",
          "text": [
            "WARNING:absl:Found untraced functions such as lstm_cell_layer_call_fn, lstm_cell_layer_call_and_return_conditional_losses while saving (showing 2 of 2). These functions will not be directly callable after loading.\n",
            "WARNING:absl:<keras.layers.recurrent.LSTMCell object at 0x7f2d13bd2d90> has the same name 'LSTMCell' as a built-in Keras object. Consider renaming <class 'keras.layers.recurrent.LSTMCell'> to avoid naming conflicts when loading with `tf.keras.models.load_model`. If renaming is not possible, pass the object in the `custom_objects` parameter of the load function.\n"
          ]
        },
        {
          "output_type": "stream",
          "name": "stdout",
          "text": [
            "\b\b\b\b\b\b\b\b\b\b\b\b\b\b\b\b\b\b\b\b\b\b\b\b\b\b\b\b\b\b\b\b\b\b\b\b\b\b\b\b\b\b\b\b\b\b\b\b\b\b\b\b\b\b\b\b\b\b\b\b\b\b\b\b\b\b\b\b\b\b\b\b\b\b\b\b\b\b\b\b\b\b\b\b\b\b\b\b\b\b\b\b\b\b\b\b\b\b\b\b\b\r47/47 [==============================] - 5s 105ms/step - loss: 1.8061e-04 - root_mean_squared_error: 0.0134 - val_loss: 1.6673e-04 - val_root_mean_squared_error: 0.0129\n",
            "Epoch 173/500\n",
            "47/47 [==============================] - 0s 6ms/step - loss: 2.0600e-04 - root_mean_squared_error: 0.0144 - val_loss: 2.6168e-04 - val_root_mean_squared_error: 0.0162\n",
            "Epoch 174/500\n",
            "47/47 [==============================] - ETA: 0s - loss: 1.6302e-04 - root_mean_squared_error: 0.0128"
          ]
        },
        {
          "output_type": "stream",
          "name": "stderr",
          "text": [
            "WARNING:absl:Found untraced functions such as lstm_cell_layer_call_fn, lstm_cell_layer_call_and_return_conditional_losses while saving (showing 2 of 2). These functions will not be directly callable after loading.\n",
            "WARNING:absl:<keras.layers.recurrent.LSTMCell object at 0x7f2d13bd2d90> has the same name 'LSTMCell' as a built-in Keras object. Consider renaming <class 'keras.layers.recurrent.LSTMCell'> to avoid naming conflicts when loading with `tf.keras.models.load_model`. If renaming is not possible, pass the object in the `custom_objects` parameter of the load function.\n"
          ]
        },
        {
          "output_type": "stream",
          "name": "stdout",
          "text": [
            "\b\b\b\b\b\b\b\b\b\b\b\b\b\b\b\b\b\b\b\b\b\b\b\b\b\b\b\b\b\b\b\b\b\b\b\b\b\b\b\b\b\b\b\b\b\b\b\b\b\b\b\b\b\b\b\b\b\b\b\b\b\b\b\b\b\b\b\b\b\b\b\b\b\b\b\b\b\b\b\b\b\b\b\b\b\b\b\b\b\b\b\b\b\b\b\b\b\b\b\b\b\r47/47 [==============================] - 5s 116ms/step - loss: 1.6302e-04 - root_mean_squared_error: 0.0128 - val_loss: 1.6616e-04 - val_root_mean_squared_error: 0.0129\n",
            "Epoch 175/500\n",
            "47/47 [==============================] - 0s 6ms/step - loss: 1.7852e-04 - root_mean_squared_error: 0.0134 - val_loss: 1.6872e-04 - val_root_mean_squared_error: 0.0130\n",
            "Epoch 176/500\n",
            "40/47 [========================>.....] - ETA: 0s - loss: 1.7202e-04 - root_mean_squared_error: 0.0131"
          ]
        },
        {
          "output_type": "stream",
          "name": "stderr",
          "text": [
            "WARNING:absl:Found untraced functions such as lstm_cell_layer_call_fn, lstm_cell_layer_call_and_return_conditional_losses while saving (showing 2 of 2). These functions will not be directly callable after loading.\n",
            "WARNING:absl:<keras.layers.recurrent.LSTMCell object at 0x7f2d13bd2d90> has the same name 'LSTMCell' as a built-in Keras object. Consider renaming <class 'keras.layers.recurrent.LSTMCell'> to avoid naming conflicts when loading with `tf.keras.models.load_model`. If renaming is not possible, pass the object in the `custom_objects` parameter of the load function.\n"
          ]
        },
        {
          "output_type": "stream",
          "name": "stdout",
          "text": [
            "\b\b\b\b\b\b\b\b\b\b\b\b\b\b\b\b\b\b\b\b\b\b\b\b\b\b\b\b\b\b\b\b\b\b\b\b\b\b\b\b\b\b\b\b\b\b\b\b\b\b\b\b\b\b\b\b\b\b\b\b\b\b\b\b\b\b\b\b\b\b\b\b\b\b\b\b\b\b\b\b\b\b\b\b\b\b\b\b\b\b\b\b\b\b\b\b\b\b\b\b\b\r47/47 [==============================] - 5s 104ms/step - loss: 1.7031e-04 - root_mean_squared_error: 0.0131 - val_loss: 1.6488e-04 - val_root_mean_squared_error: 0.0128\n",
            "Epoch 177/500\n",
            "47/47 [==============================] - 0s 6ms/step - loss: 1.5956e-04 - root_mean_squared_error: 0.0126 - val_loss: 1.7376e-04 - val_root_mean_squared_error: 0.0132\n",
            "Epoch 178/500\n",
            "47/47 [==============================] - 0s 6ms/step - loss: 1.5733e-04 - root_mean_squared_error: 0.0125 - val_loss: 1.6607e-04 - val_root_mean_squared_error: 0.0129\n",
            "Epoch 179/500\n",
            "47/47 [==============================] - 0s 6ms/step - loss: 1.6342e-04 - root_mean_squared_error: 0.0128 - val_loss: 2.3847e-04 - val_root_mean_squared_error: 0.0154\n",
            "Epoch 180/500\n",
            "46/47 [============================>.] - ETA: 0s - loss: 1.6862e-04 - root_mean_squared_error: 0.0130"
          ]
        },
        {
          "output_type": "stream",
          "name": "stderr",
          "text": [
            "WARNING:absl:Found untraced functions such as lstm_cell_layer_call_fn, lstm_cell_layer_call_and_return_conditional_losses while saving (showing 2 of 2). These functions will not be directly callable after loading.\n",
            "WARNING:absl:<keras.layers.recurrent.LSTMCell object at 0x7f2d13bd2d90> has the same name 'LSTMCell' as a built-in Keras object. Consider renaming <class 'keras.layers.recurrent.LSTMCell'> to avoid naming conflicts when loading with `tf.keras.models.load_model`. If renaming is not possible, pass the object in the `custom_objects` parameter of the load function.\n"
          ]
        },
        {
          "output_type": "stream",
          "name": "stdout",
          "text": [
            "\b\b\b\b\b\b\b\b\b\b\b\b\b\b\b\b\b\b\b\b\b\b\b\b\b\b\b\b\b\b\b\b\b\b\b\b\b\b\b\b\b\b\b\b\b\b\b\b\b\b\b\b\b\b\b\b\b\b\b\b\b\b\b\b\b\b\b\b\b\b\b\b\b\b\b\b\b\b\b\b\b\b\b\b\b\b\b\b\b\b\b\b\b\b\b\b\b\b\b\b\b\r47/47 [==============================] - 5s 116ms/step - loss: 1.6832e-04 - root_mean_squared_error: 0.0130 - val_loss: 1.6025e-04 - val_root_mean_squared_error: 0.0127\n",
            "Epoch 181/500\n",
            "47/47 [==============================] - 0s 6ms/step - loss: 1.6975e-04 - root_mean_squared_error: 0.0130 - val_loss: 1.8478e-04 - val_root_mean_squared_error: 0.0136\n",
            "Epoch 182/500\n",
            "43/47 [==========================>...] - ETA: 0s - loss: 1.6555e-04 - root_mean_squared_error: 0.0129"
          ]
        },
        {
          "output_type": "stream",
          "name": "stderr",
          "text": [
            "WARNING:absl:Found untraced functions such as lstm_cell_layer_call_fn, lstm_cell_layer_call_and_return_conditional_losses while saving (showing 2 of 2). These functions will not be directly callable after loading.\n",
            "WARNING:absl:<keras.layers.recurrent.LSTMCell object at 0x7f2d13bd2d90> has the same name 'LSTMCell' as a built-in Keras object. Consider renaming <class 'keras.layers.recurrent.LSTMCell'> to avoid naming conflicts when loading with `tf.keras.models.load_model`. If renaming is not possible, pass the object in the `custom_objects` parameter of the load function.\n"
          ]
        },
        {
          "output_type": "stream",
          "name": "stdout",
          "text": [
            "\b\b\b\b\b\b\b\b\b\b\b\b\b\b\b\b\b\b\b\b\b\b\b\b\b\b\b\b\b\b\b\b\b\b\b\b\b\b\b\b\b\b\b\b\b\b\b\b\b\b\b\b\b\b\b\b\b\b\b\b\b\b\b\b\b\b\b\b\b\b\b\b\b\b\b\b\b\b\b\b\b\b\b\b\b\b\b\b\b\b\b\b\b\b\b\b\b\b\b\b\b\r47/47 [==============================] - 5s 115ms/step - loss: 1.6422e-04 - root_mean_squared_error: 0.0128 - val_loss: 1.5700e-04 - val_root_mean_squared_error: 0.0125\n",
            "Epoch 183/500\n",
            "42/47 [=========================>....] - ETA: 0s - loss: 1.5881e-04 - root_mean_squared_error: 0.0126"
          ]
        },
        {
          "output_type": "stream",
          "name": "stderr",
          "text": [
            "WARNING:absl:Found untraced functions such as lstm_cell_layer_call_fn, lstm_cell_layer_call_and_return_conditional_losses while saving (showing 2 of 2). These functions will not be directly callable after loading.\n",
            "WARNING:absl:<keras.layers.recurrent.LSTMCell object at 0x7f2d13bd2d90> has the same name 'LSTMCell' as a built-in Keras object. Consider renaming <class 'keras.layers.recurrent.LSTMCell'> to avoid naming conflicts when loading with `tf.keras.models.load_model`. If renaming is not possible, pass the object in the `custom_objects` parameter of the load function.\n"
          ]
        },
        {
          "output_type": "stream",
          "name": "stdout",
          "text": [
            "\b\b\b\b\b\b\b\b\b\b\b\b\b\b\b\b\b\b\b\b\b\b\b\b\b\b\b\b\b\b\b\b\b\b\b\b\b\b\b\b\b\b\b\b\b\b\b\b\b\b\b\b\b\b\b\b\b\b\b\b\b\b\b\b\b\b\b\b\b\b\b\b\b\b\b\b\b\b\b\b\b\b\b\b\b\b\b\b\b\b\b\b\b\b\b\b\b\b\b\b\b\r47/47 [==============================] - 5s 104ms/step - loss: 1.5735e-04 - root_mean_squared_error: 0.0125 - val_loss: 1.5613e-04 - val_root_mean_squared_error: 0.0125\n",
            "Epoch 184/500\n",
            "47/47 [==============================] - 0s 6ms/step - loss: 1.6019e-04 - root_mean_squared_error: 0.0127 - val_loss: 1.5646e-04 - val_root_mean_squared_error: 0.0125\n",
            "Epoch 185/500\n",
            "47/47 [==============================] - 0s 6ms/step - loss: 1.6612e-04 - root_mean_squared_error: 0.0129 - val_loss: 2.9145e-04 - val_root_mean_squared_error: 0.0171\n",
            "Epoch 186/500\n",
            "40/47 [========================>.....] - ETA: 0s - loss: 1.6562e-04 - root_mean_squared_error: 0.0129"
          ]
        },
        {
          "output_type": "stream",
          "name": "stderr",
          "text": [
            "WARNING:absl:Found untraced functions such as lstm_cell_layer_call_fn, lstm_cell_layer_call_and_return_conditional_losses while saving (showing 2 of 2). These functions will not be directly callable after loading.\n",
            "WARNING:absl:<keras.layers.recurrent.LSTMCell object at 0x7f2d13bd2d90> has the same name 'LSTMCell' as a built-in Keras object. Consider renaming <class 'keras.layers.recurrent.LSTMCell'> to avoid naming conflicts when loading with `tf.keras.models.load_model`. If renaming is not possible, pass the object in the `custom_objects` parameter of the load function.\n"
          ]
        },
        {
          "output_type": "stream",
          "name": "stdout",
          "text": [
            "\b\b\b\b\b\b\b\b\b\b\b\b\b\b\b\b\b\b\b\b\b\b\b\b\b\b\b\b\b\b\b\b\b\b\b\b\b\b\b\b\b\b\b\b\b\b\b\b\b\b\b\b\b\b\b\b\b\b\b\b\b\b\b\b\b\b\b\b\b\b\b\b\b\b\b\b\b\b\b\b\b\b\b\b\b\b\b\b\b\b\b\b\b\b\b\b\b\b\b\b\b\r47/47 [==============================] - 5s 115ms/step - loss: 1.6035e-04 - root_mean_squared_error: 0.0127 - val_loss: 1.5080e-04 - val_root_mean_squared_error: 0.0123\n",
            "Epoch 187/500\n",
            "47/47 [==============================] - 0s 7ms/step - loss: 1.5462e-04 - root_mean_squared_error: 0.0124 - val_loss: 1.8540e-04 - val_root_mean_squared_error: 0.0136\n",
            "Epoch 188/500\n",
            "47/47 [==============================] - 0s 6ms/step - loss: 1.6342e-04 - root_mean_squared_error: 0.0128 - val_loss: 2.0214e-04 - val_root_mean_squared_error: 0.0142\n",
            "Epoch 189/500\n",
            "47/47 [==============================] - 0s 6ms/step - loss: 1.5547e-04 - root_mean_squared_error: 0.0125 - val_loss: 1.5648e-04 - val_root_mean_squared_error: 0.0125\n",
            "Epoch 190/500\n",
            "46/47 [============================>.] - ETA: 0s - loss: 1.5211e-04 - root_mean_squared_error: 0.0123"
          ]
        },
        {
          "output_type": "stream",
          "name": "stderr",
          "text": [
            "WARNING:absl:Found untraced functions such as lstm_cell_layer_call_fn, lstm_cell_layer_call_and_return_conditional_losses while saving (showing 2 of 2). These functions will not be directly callable after loading.\n",
            "WARNING:absl:<keras.layers.recurrent.LSTMCell object at 0x7f2d13bd2d90> has the same name 'LSTMCell' as a built-in Keras object. Consider renaming <class 'keras.layers.recurrent.LSTMCell'> to avoid naming conflicts when loading with `tf.keras.models.load_model`. If renaming is not possible, pass the object in the `custom_objects` parameter of the load function.\n"
          ]
        },
        {
          "output_type": "stream",
          "name": "stdout",
          "text": [
            "\b\b\b\b\b\b\b\b\b\b\b\b\b\b\b\b\b\b\b\b\b\b\b\b\b\b\b\b\b\b\b\b\b\b\b\b\b\b\b\b\b\b\b\b\b\b\b\b\b\b\b\b\b\b\b\b\b\b\b\b\b\b\b\b\b\b\b\b\b\b\b\b\b\b\b\b\b\b\b\b\b\b\b\b\b\b\b\b\b\b\b\b\b\b\b\b\b\b\b\b\b\r47/47 [==============================] - 5s 113ms/step - loss: 1.5136e-04 - root_mean_squared_error: 0.0123 - val_loss: 1.4841e-04 - val_root_mean_squared_error: 0.0122\n",
            "Epoch 191/500\n",
            "47/47 [==============================] - 0s 6ms/step - loss: 1.5928e-04 - root_mean_squared_error: 0.0126 - val_loss: 1.4930e-04 - val_root_mean_squared_error: 0.0122\n",
            "Epoch 192/500\n",
            "47/47 [==============================] - 0s 7ms/step - loss: 1.7369e-04 - root_mean_squared_error: 0.0132 - val_loss: 1.4916e-04 - val_root_mean_squared_error: 0.0122\n",
            "Epoch 193/500\n",
            "38/47 [=======================>......] - ETA: 0s - loss: 1.5506e-04 - root_mean_squared_error: 0.0125"
          ]
        },
        {
          "output_type": "stream",
          "name": "stderr",
          "text": [
            "WARNING:absl:Found untraced functions such as lstm_cell_layer_call_fn, lstm_cell_layer_call_and_return_conditional_losses while saving (showing 2 of 2). These functions will not be directly callable after loading.\n",
            "WARNING:absl:<keras.layers.recurrent.LSTMCell object at 0x7f2d13bd2d90> has the same name 'LSTMCell' as a built-in Keras object. Consider renaming <class 'keras.layers.recurrent.LSTMCell'> to avoid naming conflicts when loading with `tf.keras.models.load_model`. If renaming is not possible, pass the object in the `custom_objects` parameter of the load function.\n"
          ]
        },
        {
          "output_type": "stream",
          "name": "stdout",
          "text": [
            "\b\b\b\b\b\b\b\b\b\b\b\b\b\b\b\b\b\b\b\b\b\b\b\b\b\b\b\b\b\b\b\b\b\b\b\b\b\b\b\b\b\b\b\b\b\b\b\b\b\b\b\b\b\b\b\b\b\b\b\b\b\b\b\b\b\b\b\b\b\b\b\b\b\b\b\b\b\b\b\b\b\b\b\b\b\b\b\b\b\b\b\b\b\b\b\b\b\b\b\b\b\r47/47 [==============================] - 5s 105ms/step - loss: 1.5032e-04 - root_mean_squared_error: 0.0123 - val_loss: 1.4416e-04 - val_root_mean_squared_error: 0.0120\n",
            "Epoch 194/500\n",
            "47/47 [==============================] - 0s 6ms/step - loss: 1.5312e-04 - root_mean_squared_error: 0.0124 - val_loss: 1.5251e-04 - val_root_mean_squared_error: 0.0123\n",
            "Epoch 195/500\n",
            "47/47 [==============================] - 0s 6ms/step - loss: 1.4783e-04 - root_mean_squared_error: 0.0122 - val_loss: 1.8018e-04 - val_root_mean_squared_error: 0.0134\n",
            "Epoch 196/500\n",
            "47/47 [==============================] - 0s 6ms/step - loss: 1.6378e-04 - root_mean_squared_error: 0.0128 - val_loss: 1.5794e-04 - val_root_mean_squared_error: 0.0126\n",
            "Epoch 197/500\n",
            "47/47 [==============================] - 0s 6ms/step - loss: 1.3934e-04 - root_mean_squared_error: 0.0118 - val_loss: 1.7371e-04 - val_root_mean_squared_error: 0.0132\n",
            "Epoch 198/500\n",
            "39/47 [=======================>......] - ETA: 0s - loss: 1.5842e-04 - root_mean_squared_error: 0.0126"
          ]
        },
        {
          "output_type": "stream",
          "name": "stderr",
          "text": [
            "WARNING:absl:Found untraced functions such as lstm_cell_layer_call_fn, lstm_cell_layer_call_and_return_conditional_losses while saving (showing 2 of 2). These functions will not be directly callable after loading.\n",
            "WARNING:absl:<keras.layers.recurrent.LSTMCell object at 0x7f2d13bd2d90> has the same name 'LSTMCell' as a built-in Keras object. Consider renaming <class 'keras.layers.recurrent.LSTMCell'> to avoid naming conflicts when loading with `tf.keras.models.load_model`. If renaming is not possible, pass the object in the `custom_objects` parameter of the load function.\n"
          ]
        },
        {
          "output_type": "stream",
          "name": "stdout",
          "text": [
            "\b\b\b\b\b\b\b\b\b\b\b\b\b\b\b\b\b\b\b\b\b\b\b\b\b\b\b\b\b\b\b\b\b\b\b\b\b\b\b\b\b\b\b\b\b\b\b\b\b\b\b\b\b\b\b\b\b\b\b\b\b\b\b\b\b\b\b\b\b\b\b\b\b\b\b\b\b\b\b\b\b\b\b\b\b\b\b\b\b\b\b\b\b\b\b\b\b\b\b\b\b\r47/47 [==============================] - 5s 115ms/step - loss: 1.6184e-04 - root_mean_squared_error: 0.0127 - val_loss: 1.3983e-04 - val_root_mean_squared_error: 0.0118\n",
            "Epoch 199/500\n",
            "47/47 [==============================] - 0s 6ms/step - loss: 1.3833e-04 - root_mean_squared_error: 0.0118 - val_loss: 2.3635e-04 - val_root_mean_squared_error: 0.0154\n",
            "Epoch 200/500\n",
            "46/47 [============================>.] - ETA: 0s - loss: 1.3767e-04 - root_mean_squared_error: 0.0117"
          ]
        },
        {
          "output_type": "stream",
          "name": "stderr",
          "text": [
            "WARNING:absl:Found untraced functions such as lstm_cell_layer_call_fn, lstm_cell_layer_call_and_return_conditional_losses while saving (showing 2 of 2). These functions will not be directly callable after loading.\n",
            "WARNING:absl:<keras.layers.recurrent.LSTMCell object at 0x7f2d13bd2d90> has the same name 'LSTMCell' as a built-in Keras object. Consider renaming <class 'keras.layers.recurrent.LSTMCell'> to avoid naming conflicts when loading with `tf.keras.models.load_model`. If renaming is not possible, pass the object in the `custom_objects` parameter of the load function.\n"
          ]
        },
        {
          "output_type": "stream",
          "name": "stdout",
          "text": [
            "\b\b\b\b\b\b\b\b\b\b\b\b\b\b\b\b\b\b\b\b\b\b\b\b\b\b\b\b\b\b\b\b\b\b\b\b\b\b\b\b\b\b\b\b\b\b\b\b\b\b\b\b\b\b\b\b\b\b\b\b\b\b\b\b\b\b\b\b\b\b\b\b\b\b\b\b\b\b\b\b\b\b\b\b\b\b\b\b\b\b\b\b\b\b\b\b\b\b\b\b\b\r47/47 [==============================] - 5s 108ms/step - loss: 1.3769e-04 - root_mean_squared_error: 0.0117 - val_loss: 1.2920e-04 - val_root_mean_squared_error: 0.0114\n",
            "Epoch 201/500\n",
            "47/47 [==============================] - 0s 7ms/step - loss: 1.3324e-04 - root_mean_squared_error: 0.0115 - val_loss: 1.5521e-04 - val_root_mean_squared_error: 0.0125\n",
            "Epoch 202/500\n",
            "41/47 [=========================>....] - ETA: 0s - loss: 1.4994e-04 - root_mean_squared_error: 0.0122"
          ]
        },
        {
          "output_type": "stream",
          "name": "stderr",
          "text": [
            "WARNING:absl:Found untraced functions such as lstm_cell_layer_call_fn, lstm_cell_layer_call_and_return_conditional_losses while saving (showing 2 of 2). These functions will not be directly callable after loading.\n",
            "WARNING:absl:<keras.layers.recurrent.LSTMCell object at 0x7f2d13bd2d90> has the same name 'LSTMCell' as a built-in Keras object. Consider renaming <class 'keras.layers.recurrent.LSTMCell'> to avoid naming conflicts when loading with `tf.keras.models.load_model`. If renaming is not possible, pass the object in the `custom_objects` parameter of the load function.\n"
          ]
        },
        {
          "output_type": "stream",
          "name": "stdout",
          "text": [
            "\b\b\b\b\b\b\b\b\b\b\b\b\b\b\b\b\b\b\b\b\b\b\b\b\b\b\b\b\b\b\b\b\b\b\b\b\b\b\b\b\b\b\b\b\b\b\b\b\b\b\b\b\b\b\b\b\b\b\b\b\b\b\b\b\b\b\b\b\b\b\b\b\b\b\b\b\b\b\b\b\b\b\b\b\b\b\b\b\b\b\b\b\b\b\b\b\b\b\b\b\b\r47/47 [==============================] - 5s 114ms/step - loss: 1.4736e-04 - root_mean_squared_error: 0.0121 - val_loss: 1.2603e-04 - val_root_mean_squared_error: 0.0112\n",
            "Epoch 203/500\n",
            "47/47 [==============================] - 0s 6ms/step - loss: 1.6633e-04 - root_mean_squared_error: 0.0129 - val_loss: 1.6097e-04 - val_root_mean_squared_error: 0.0127\n",
            "Epoch 204/500\n",
            "47/47 [==============================] - 0s 6ms/step - loss: 1.2983e-04 - root_mean_squared_error: 0.0114 - val_loss: 1.3430e-04 - val_root_mean_squared_error: 0.0116\n",
            "Epoch 205/500\n",
            "47/47 [==============================] - 0s 6ms/step - loss: 1.2759e-04 - root_mean_squared_error: 0.0113 - val_loss: 1.2907e-04 - val_root_mean_squared_error: 0.0114\n",
            "Epoch 206/500\n",
            "42/47 [=========================>....] - ETA: 0s - loss: 1.8195e-04 - root_mean_squared_error: 0.0135"
          ]
        },
        {
          "output_type": "stream",
          "name": "stderr",
          "text": [
            "WARNING:absl:Found untraced functions such as lstm_cell_layer_call_fn, lstm_cell_layer_call_and_return_conditional_losses while saving (showing 2 of 2). These functions will not be directly callable after loading.\n",
            "WARNING:absl:<keras.layers.recurrent.LSTMCell object at 0x7f2d13bd2d90> has the same name 'LSTMCell' as a built-in Keras object. Consider renaming <class 'keras.layers.recurrent.LSTMCell'> to avoid naming conflicts when loading with `tf.keras.models.load_model`. If renaming is not possible, pass the object in the `custom_objects` parameter of the load function.\n"
          ]
        },
        {
          "output_type": "stream",
          "name": "stdout",
          "text": [
            "\b\b\b\b\b\b\b\b\b\b\b\b\b\b\b\b\b\b\b\b\b\b\b\b\b\b\b\b\b\b\b\b\b\b\b\b\b\b\b\b\b\b\b\b\b\b\b\b\b\b\b\b\b\b\b\b\b\b\b\b\b\b\b\b\b\b\b\b\b\b\b\b\b\b\b\b\b\b\b\b\b\b\b\b\b\b\b\b\b\b\b\b\b\b\b\b\b\b\b\b\b\r47/47 [==============================] - 5s 114ms/step - loss: 1.8547e-04 - root_mean_squared_error: 0.0136 - val_loss: 1.2084e-04 - val_root_mean_squared_error: 0.0110\n",
            "Epoch 207/500\n",
            "42/47 [=========================>....] - ETA: 0s - loss: 1.2628e-04 - root_mean_squared_error: 0.0112"
          ]
        },
        {
          "output_type": "stream",
          "name": "stderr",
          "text": [
            "WARNING:absl:Found untraced functions such as lstm_cell_layer_call_fn, lstm_cell_layer_call_and_return_conditional_losses while saving (showing 2 of 2). These functions will not be directly callable after loading.\n",
            "WARNING:absl:<keras.layers.recurrent.LSTMCell object at 0x7f2d13bd2d90> has the same name 'LSTMCell' as a built-in Keras object. Consider renaming <class 'keras.layers.recurrent.LSTMCell'> to avoid naming conflicts when loading with `tf.keras.models.load_model`. If renaming is not possible, pass the object in the `custom_objects` parameter of the load function.\n"
          ]
        },
        {
          "output_type": "stream",
          "name": "stdout",
          "text": [
            "\b\b\b\b\b\b\b\b\b\b\b\b\b\b\b\b\b\b\b\b\b\b\b\b\b\b\b\b\b\b\b\b\b\b\b\b\b\b\b\b\b\b\b\b\b\b\b\b\b\b\b\b\b\b\b\b\b\b\b\b\b\b\b\b\b\b\b\b\b\b\b\b\b\b\b\b\b\b\b\b\b\b\b\b\b\b\b\b\b\b\b\b\b\b\b\b\b\b\b\b\b\r47/47 [==============================] - 5s 104ms/step - loss: 1.2622e-04 - root_mean_squared_error: 0.0112 - val_loss: 1.1900e-04 - val_root_mean_squared_error: 0.0109\n",
            "Epoch 208/500\n",
            "47/47 [==============================] - 0s 6ms/step - loss: 1.3127e-04 - root_mean_squared_error: 0.0115 - val_loss: 1.2932e-04 - val_root_mean_squared_error: 0.0114\n",
            "Epoch 209/500\n",
            "40/47 [========================>.....] - ETA: 0s - loss: 1.2470e-04 - root_mean_squared_error: 0.0112"
          ]
        },
        {
          "output_type": "stream",
          "name": "stderr",
          "text": [
            "WARNING:absl:Found untraced functions such as lstm_cell_layer_call_fn, lstm_cell_layer_call_and_return_conditional_losses while saving (showing 2 of 2). These functions will not be directly callable after loading.\n",
            "WARNING:absl:<keras.layers.recurrent.LSTMCell object at 0x7f2d13bd2d90> has the same name 'LSTMCell' as a built-in Keras object. Consider renaming <class 'keras.layers.recurrent.LSTMCell'> to avoid naming conflicts when loading with `tf.keras.models.load_model`. If renaming is not possible, pass the object in the `custom_objects` parameter of the load function.\n"
          ]
        },
        {
          "output_type": "stream",
          "name": "stdout",
          "text": [
            "\b\b\b\b\b\b\b\b\b\b\b\b\b\b\b\b\b\b\b\b\b\b\b\b\b\b\b\b\b\b\b\b\b\b\b\b\b\b\b\b\b\b\b\b\b\b\b\b\b\b\b\b\b\b\b\b\b\b\b\b\b\b\b\b\b\b\b\b\b\b\b\b\b\b\b\b\b\b\b\b\b\b\b\b\b\b\b\b\b\b\b\b\b\b\b\b\b\b\b\b\b\r47/47 [==============================] - 5s 115ms/step - loss: 1.2266e-04 - root_mean_squared_error: 0.0111 - val_loss: 1.1539e-04 - val_root_mean_squared_error: 0.0107\n",
            "Epoch 210/500\n",
            "47/47 [==============================] - 0s 6ms/step - loss: 1.2851e-04 - root_mean_squared_error: 0.0113 - val_loss: 1.1567e-04 - val_root_mean_squared_error: 0.0108\n",
            "Epoch 211/500\n",
            "47/47 [==============================] - 0s 6ms/step - loss: 1.3047e-04 - root_mean_squared_error: 0.0114 - val_loss: 1.3345e-04 - val_root_mean_squared_error: 0.0116\n",
            "Epoch 212/500\n",
            "47/47 [==============================] - 0s 6ms/step - loss: 1.3536e-04 - root_mean_squared_error: 0.0116 - val_loss: 1.5332e-04 - val_root_mean_squared_error: 0.0124\n",
            "Epoch 213/500\n",
            "47/47 [==============================] - 0s 6ms/step - loss: 1.1626e-04 - root_mean_squared_error: 0.0108 - val_loss: 1.1746e-04 - val_root_mean_squared_error: 0.0108\n",
            "Epoch 214/500\n",
            "47/47 [==============================] - 0s 6ms/step - loss: 1.2668e-04 - root_mean_squared_error: 0.0113 - val_loss: 1.2535e-04 - val_root_mean_squared_error: 0.0112\n",
            "Epoch 215/500\n",
            "47/47 [==============================] - 0s 6ms/step - loss: 1.1861e-04 - root_mean_squared_error: 0.0109 - val_loss: 1.1576e-04 - val_root_mean_squared_error: 0.0108\n",
            "Epoch 216/500\n",
            "47/47 [==============================] - 0s 6ms/step - loss: 1.4107e-04 - root_mean_squared_error: 0.0119 - val_loss: 1.4688e-04 - val_root_mean_squared_error: 0.0121\n",
            "Epoch 217/500\n",
            "45/47 [===========================>..] - ETA: 0s - loss: 1.0388e-04 - root_mean_squared_error: 0.0102"
          ]
        },
        {
          "output_type": "stream",
          "name": "stderr",
          "text": [
            "WARNING:absl:Found untraced functions such as lstm_cell_layer_call_fn, lstm_cell_layer_call_and_return_conditional_losses while saving (showing 2 of 2). These functions will not be directly callable after loading.\n",
            "WARNING:absl:<keras.layers.recurrent.LSTMCell object at 0x7f2d13bd2d90> has the same name 'LSTMCell' as a built-in Keras object. Consider renaming <class 'keras.layers.recurrent.LSTMCell'> to avoid naming conflicts when loading with `tf.keras.models.load_model`. If renaming is not possible, pass the object in the `custom_objects` parameter of the load function.\n"
          ]
        },
        {
          "output_type": "stream",
          "name": "stdout",
          "text": [
            "\b\b\b\b\b\b\b\b\b\b\b\b\b\b\b\b\b\b\b\b\b\b\b\b\b\b\b\b\b\b\b\b\b\b\b\b\b\b\b\b\b\b\b\b\b\b\b\b\b\b\b\b\b\b\b\b\b\b\b\b\b\b\b\b\b\b\b\b\b\b\b\b\b\b\b\b\b\b\b\b\b\b\b\b\b\b\b\b\b\b\b\b\b\b\b\b\b\b\b\b\b\r47/47 [==============================] - 5s 115ms/step - loss: 1.0324e-04 - root_mean_squared_error: 0.0102 - val_loss: 1.0821e-04 - val_root_mean_squared_error: 0.0104\n",
            "Epoch 218/500\n",
            "47/47 [==============================] - 0s 6ms/step - loss: 1.0965e-04 - root_mean_squared_error: 0.0105 - val_loss: 2.0029e-04 - val_root_mean_squared_error: 0.0142\n",
            "Epoch 219/500\n",
            "47/47 [==============================] - 0s 6ms/step - loss: 1.3789e-04 - root_mean_squared_error: 0.0117 - val_loss: 1.1810e-04 - val_root_mean_squared_error: 0.0109\n",
            "Epoch 220/500\n",
            "47/47 [==============================] - 0s 6ms/step - loss: 1.0229e-04 - root_mean_squared_error: 0.0101 - val_loss: 1.1195e-04 - val_root_mean_squared_error: 0.0106\n",
            "Epoch 221/500\n",
            "47/47 [==============================] - 0s 7ms/step - loss: 1.0369e-04 - root_mean_squared_error: 0.0102 - val_loss: 1.7745e-04 - val_root_mean_squared_error: 0.0133\n",
            "Epoch 222/500\n",
            "41/47 [=========================>....] - ETA: 0s - loss: 1.0868e-04 - root_mean_squared_error: 0.0104"
          ]
        },
        {
          "output_type": "stream",
          "name": "stderr",
          "text": [
            "WARNING:absl:Found untraced functions such as lstm_cell_layer_call_fn, lstm_cell_layer_call_and_return_conditional_losses while saving (showing 2 of 2). These functions will not be directly callable after loading.\n",
            "WARNING:absl:<keras.layers.recurrent.LSTMCell object at 0x7f2d13bd2d90> has the same name 'LSTMCell' as a built-in Keras object. Consider renaming <class 'keras.layers.recurrent.LSTMCell'> to avoid naming conflicts when loading with `tf.keras.models.load_model`. If renaming is not possible, pass the object in the `custom_objects` parameter of the load function.\n"
          ]
        },
        {
          "output_type": "stream",
          "name": "stdout",
          "text": [
            "\b\b\b\b\b\b\b\b\b\b\b\b\b\b\b\b\b\b\b\b\b\b\b\b\b\b\b\b\b\b\b\b\b\b\b\b\b\b\b\b\b\b\b\b\b\b\b\b\b\b\b\b\b\b\b\b\b\b\b\b\b\b\b\b\b\b\b\b\b\b\b\b\b\b\b\b\b\b\b\b\b\b\b\b\b\b\b\b\b\b\b\b\b\b\b\b\b\b\b\b\b\r47/47 [==============================] - 5s 103ms/step - loss: 1.0591e-04 - root_mean_squared_error: 0.0103 - val_loss: 9.9014e-05 - val_root_mean_squared_error: 0.0100\n",
            "Epoch 223/500\n",
            "38/47 [=======================>......] - ETA: 0s - loss: 9.4062e-05 - root_mean_squared_error: 0.0097"
          ]
        },
        {
          "output_type": "stream",
          "name": "stderr",
          "text": [
            "WARNING:absl:Found untraced functions such as lstm_cell_layer_call_fn, lstm_cell_layer_call_and_return_conditional_losses while saving (showing 2 of 2). These functions will not be directly callable after loading.\n",
            "WARNING:absl:<keras.layers.recurrent.LSTMCell object at 0x7f2d13bd2d90> has the same name 'LSTMCell' as a built-in Keras object. Consider renaming <class 'keras.layers.recurrent.LSTMCell'> to avoid naming conflicts when loading with `tf.keras.models.load_model`. If renaming is not possible, pass the object in the `custom_objects` parameter of the load function.\n"
          ]
        },
        {
          "output_type": "stream",
          "name": "stdout",
          "text": [
            "\b\b\b\b\b\b\b\b\b\b\b\b\b\b\b\b\b\b\b\b\b\b\b\b\b\b\b\b\b\b\b\b\b\b\b\b\b\b\b\b\b\b\b\b\b\b\b\b\b\b\b\b\b\b\b\b\b\b\b\b\b\b\b\b\b\b\b\b\b\b\b\b\b\b\b\b\b\b\b\b\b\b\b\b\b\b\b\b\b\b\b\b\b\b\b\b\b\b\b\b\b\r47/47 [==============================] - 6s 131ms/step - loss: 9.4601e-05 - root_mean_squared_error: 0.0097 - val_loss: 9.4869e-05 - val_root_mean_squared_error: 0.0097\n",
            "Epoch 224/500\n",
            "47/47 [==============================] - 0s 6ms/step - loss: 1.2507e-04 - root_mean_squared_error: 0.0112 - val_loss: 1.5366e-04 - val_root_mean_squared_error: 0.0124\n",
            "Epoch 225/500\n",
            "38/47 [=======================>......] - ETA: 0s - loss: 1.1538e-04 - root_mean_squared_error: 0.0107"
          ]
        },
        {
          "output_type": "stream",
          "name": "stderr",
          "text": [
            "WARNING:absl:Found untraced functions such as lstm_cell_layer_call_fn, lstm_cell_layer_call_and_return_conditional_losses while saving (showing 2 of 2). These functions will not be directly callable after loading.\n",
            "WARNING:absl:<keras.layers.recurrent.LSTMCell object at 0x7f2d13bd2d90> has the same name 'LSTMCell' as a built-in Keras object. Consider renaming <class 'keras.layers.recurrent.LSTMCell'> to avoid naming conflicts when loading with `tf.keras.models.load_model`. If renaming is not possible, pass the object in the `custom_objects` parameter of the load function.\n"
          ]
        },
        {
          "output_type": "stream",
          "name": "stdout",
          "text": [
            "\b\b\b\b\b\b\b\b\b\b\b\b\b\b\b\b\b\b\b\b\b\b\b\b\b\b\b\b\b\b\b\b\b\b\b\b\b\b\b\b\b\b\b\b\b\b\b\b\b\b\b\b\b\b\b\b\b\b\b\b\b\b\b\b\b\b\b\b\b\b\b\b\b\b\b\b\b\b\b\b\b\b\b\b\b\b\b\b\b\b\b\b\b\b\b\b\b\b\b\b\b\r47/47 [==============================] - 5s 105ms/step - loss: 1.1469e-04 - root_mean_squared_error: 0.0107 - val_loss: 8.9421e-05 - val_root_mean_squared_error: 0.0095\n",
            "Epoch 226/500\n",
            "47/47 [==============================] - 0s 7ms/step - loss: 1.0044e-04 - root_mean_squared_error: 0.0100 - val_loss: 9.5096e-05 - val_root_mean_squared_error: 0.0098\n",
            "Epoch 227/500\n",
            "47/47 [==============================] - 0s 6ms/step - loss: 1.0417e-04 - root_mean_squared_error: 0.0102 - val_loss: 1.0661e-04 - val_root_mean_squared_error: 0.0103\n",
            "Epoch 228/500\n",
            "42/47 [=========================>....] - ETA: 0s - loss: 1.2423e-04 - root_mean_squared_error: 0.0111"
          ]
        },
        {
          "output_type": "stream",
          "name": "stderr",
          "text": [
            "WARNING:absl:Found untraced functions such as lstm_cell_layer_call_fn, lstm_cell_layer_call_and_return_conditional_losses while saving (showing 2 of 2). These functions will not be directly callable after loading.\n",
            "WARNING:absl:<keras.layers.recurrent.LSTMCell object at 0x7f2d13bd2d90> has the same name 'LSTMCell' as a built-in Keras object. Consider renaming <class 'keras.layers.recurrent.LSTMCell'> to avoid naming conflicts when loading with `tf.keras.models.load_model`. If renaming is not possible, pass the object in the `custom_objects` parameter of the load function.\n"
          ]
        },
        {
          "output_type": "stream",
          "name": "stdout",
          "text": [
            "\b\b\b\b\b\b\b\b\b\b\b\b\b\b\b\b\b\b\b\b\b\b\b\b\b\b\b\b\b\b\b\b\b\b\b\b\b\b\b\b\b\b\b\b\b\b\b\b\b\b\b\b\b\b\b\b\b\b\b\b\b\b\b\b\b\b\b\b\b\b\b\b\b\b\b\b\b\b\b\b\b\b\b\b\b\b\b\b\b\b\b\b\b\b\b\b\b\b\b\b\b\r47/47 [==============================] - 5s 114ms/step - loss: 1.2003e-04 - root_mean_squared_error: 0.0110 - val_loss: 8.5067e-05 - val_root_mean_squared_error: 0.0092\n",
            "Epoch 229/500\n",
            "47/47 [==============================] - 0s 6ms/step - loss: 8.9006e-05 - root_mean_squared_error: 0.0094 - val_loss: 9.7501e-05 - val_root_mean_squared_error: 0.0099\n",
            "Epoch 230/500\n",
            "40/47 [========================>.....] - ETA: 0s - loss: 8.4866e-05 - root_mean_squared_error: 0.0092"
          ]
        },
        {
          "output_type": "stream",
          "name": "stderr",
          "text": [
            "WARNING:absl:Found untraced functions such as lstm_cell_layer_call_fn, lstm_cell_layer_call_and_return_conditional_losses while saving (showing 2 of 2). These functions will not be directly callable after loading.\n",
            "WARNING:absl:<keras.layers.recurrent.LSTMCell object at 0x7f2d13bd2d90> has the same name 'LSTMCell' as a built-in Keras object. Consider renaming <class 'keras.layers.recurrent.LSTMCell'> to avoid naming conflicts when loading with `tf.keras.models.load_model`. If renaming is not possible, pass the object in the `custom_objects` parameter of the load function.\n"
          ]
        },
        {
          "output_type": "stream",
          "name": "stdout",
          "text": [
            "\b\b\b\b\b\b\b\b\b\b\b\b\b\b\b\b\b\b\b\b\b\b\b\b\b\b\b\b\b\b\b\b\b\b\b\b\b\b\b\b\b\b\b\b\b\b\b\b\b\b\b\b\b\b\b\b\b\b\b\b\b\b\b\b\b\b\b\b\b\b\b\b\b\b\b\b\b\b\b\b\b\b\b\b\b\b\b\b\b\b\b\b\b\b\b\b\b\b\b\b\b\r47/47 [==============================] - 5s 114ms/step - loss: 8.2456e-05 - root_mean_squared_error: 0.0091 - val_loss: 8.0631e-05 - val_root_mean_squared_error: 0.0090\n",
            "Epoch 231/500\n",
            "47/47 [==============================] - 0s 7ms/step - loss: 8.1591e-05 - root_mean_squared_error: 0.0090 - val_loss: 8.7545e-05 - val_root_mean_squared_error: 0.0094\n",
            "Epoch 232/500\n",
            "47/47 [==============================] - 0s 7ms/step - loss: 7.7278e-05 - root_mean_squared_error: 0.0088 - val_loss: 8.6771e-05 - val_root_mean_squared_error: 0.0093\n",
            "Epoch 233/500\n",
            "47/47 [==============================] - ETA: 0s - loss: 8.9050e-05 - root_mean_squared_error: 0.0094"
          ]
        },
        {
          "output_type": "stream",
          "name": "stderr",
          "text": [
            "WARNING:absl:Found untraced functions such as lstm_cell_layer_call_fn, lstm_cell_layer_call_and_return_conditional_losses while saving (showing 2 of 2). These functions will not be directly callable after loading.\n",
            "WARNING:absl:<keras.layers.recurrent.LSTMCell object at 0x7f2d13bd2d90> has the same name 'LSTMCell' as a built-in Keras object. Consider renaming <class 'keras.layers.recurrent.LSTMCell'> to avoid naming conflicts when loading with `tf.keras.models.load_model`. If renaming is not possible, pass the object in the `custom_objects` parameter of the load function.\n"
          ]
        },
        {
          "output_type": "stream",
          "name": "stdout",
          "text": [
            "\b\b\b\b\b\b\b\b\b\b\b\b\b\b\b\b\b\b\b\b\b\b\b\b\b\b\b\b\b\b\b\b\b\b\b\b\b\b\b\b\b\b\b\b\b\b\b\b\b\b\b\b\b\b\b\b\b\b\b\b\b\b\b\b\b\b\b\b\b\b\b\b\b\b\b\b\b\b\b\b\b\b\b\b\b\b\b\b\b\b\b\b\b\b\b\b\b\b\b\b\b\r47/47 [==============================] - 5s 106ms/step - loss: 8.9050e-05 - root_mean_squared_error: 0.0094 - val_loss: 7.4882e-05 - val_root_mean_squared_error: 0.0087\n",
            "Epoch 234/500\n",
            "41/47 [=========================>....] - ETA: 0s - loss: 7.3209e-05 - root_mean_squared_error: 0.0086"
          ]
        },
        {
          "output_type": "stream",
          "name": "stderr",
          "text": [
            "WARNING:absl:Found untraced functions such as lstm_cell_layer_call_fn, lstm_cell_layer_call_and_return_conditional_losses while saving (showing 2 of 2). These functions will not be directly callable after loading.\n",
            "WARNING:absl:<keras.layers.recurrent.LSTMCell object at 0x7f2d13bd2d90> has the same name 'LSTMCell' as a built-in Keras object. Consider renaming <class 'keras.layers.recurrent.LSTMCell'> to avoid naming conflicts when loading with `tf.keras.models.load_model`. If renaming is not possible, pass the object in the `custom_objects` parameter of the load function.\n"
          ]
        },
        {
          "output_type": "stream",
          "name": "stdout",
          "text": [
            "\b\b\b\b\b\b\b\b\b\b\b\b\b\b\b\b\b\b\b\b\b\b\b\b\b\b\b\b\b\b\b\b\b\b\b\b\b\b\b\b\b\b\b\b\b\b\b\b\b\b\b\b\b\b\b\b\b\b\b\b\b\b\b\b\b\b\b\b\b\b\b\b\b\b\b\b\b\b\b\b\b\b\b\b\b\b\b\b\b\b\b\b\b\b\b\b\b\b\b\b\b\r47/47 [==============================] - 5s 114ms/step - loss: 7.4022e-05 - root_mean_squared_error: 0.0086 - val_loss: 7.4569e-05 - val_root_mean_squared_error: 0.0086\n",
            "Epoch 235/500\n",
            "46/47 [============================>.] - ETA: 0s - loss: 8.2105e-05 - root_mean_squared_error: 0.0091"
          ]
        },
        {
          "output_type": "stream",
          "name": "stderr",
          "text": [
            "WARNING:absl:Found untraced functions such as lstm_cell_layer_call_fn, lstm_cell_layer_call_and_return_conditional_losses while saving (showing 2 of 2). These functions will not be directly callable after loading.\n",
            "WARNING:absl:<keras.layers.recurrent.LSTMCell object at 0x7f2d13bd2d90> has the same name 'LSTMCell' as a built-in Keras object. Consider renaming <class 'keras.layers.recurrent.LSTMCell'> to avoid naming conflicts when loading with `tf.keras.models.load_model`. If renaming is not possible, pass the object in the `custom_objects` parameter of the load function.\n"
          ]
        },
        {
          "output_type": "stream",
          "name": "stdout",
          "text": [
            "\b\b\b\b\b\b\b\b\b\b\b\b\b\b\b\b\b\b\b\b\b\b\b\b\b\b\b\b\b\b\b\b\b\b\b\b\b\b\b\b\b\b\b\b\b\b\b\b\b\b\b\b\b\b\b\b\b\b\b\b\b\b\b\b\b\b\b\b\b\b\b\b\b\b\b\b\b\b\b\b\b\b\b\b\b\b\b\b\b\b\b\b\b\b\b\b\b\b\b\b\b\r47/47 [==============================] - 5s 113ms/step - loss: 8.1772e-05 - root_mean_squared_error: 0.0090 - val_loss: 7.4076e-05 - val_root_mean_squared_error: 0.0086\n",
            "Epoch 236/500\n",
            "42/47 [=========================>....] - ETA: 0s - loss: 6.9681e-05 - root_mean_squared_error: 0.0083"
          ]
        },
        {
          "output_type": "stream",
          "name": "stderr",
          "text": [
            "WARNING:absl:Found untraced functions such as lstm_cell_layer_call_fn, lstm_cell_layer_call_and_return_conditional_losses while saving (showing 2 of 2). These functions will not be directly callable after loading.\n",
            "WARNING:absl:<keras.layers.recurrent.LSTMCell object at 0x7f2d13bd2d90> has the same name 'LSTMCell' as a built-in Keras object. Consider renaming <class 'keras.layers.recurrent.LSTMCell'> to avoid naming conflicts when loading with `tf.keras.models.load_model`. If renaming is not possible, pass the object in the `custom_objects` parameter of the load function.\n"
          ]
        },
        {
          "output_type": "stream",
          "name": "stdout",
          "text": [
            "\b\b\b\b\b\b\b\b\b\b\b\b\b\b\b\b\b\b\b\b\b\b\b\b\b\b\b\b\b\b\b\b\b\b\b\b\b\b\b\b\b\b\b\b\b\b\b\b\b\b\b\b\b\b\b\b\b\b\b\b\b\b\b\b\b\b\b\b\b\b\b\b\b\b\b\b\b\b\b\b\b\b\b\b\b\b\b\b\b\b\b\b\b\b\b\b\b\b\b\b\b\r47/47 [==============================] - 5s 103ms/step - loss: 6.9489e-05 - root_mean_squared_error: 0.0083 - val_loss: 7.0281e-05 - val_root_mean_squared_error: 0.0084\n",
            "Epoch 237/500\n",
            "39/47 [=======================>......] - ETA: 0s - loss: 8.5670e-05 - root_mean_squared_error: 0.0093"
          ]
        },
        {
          "output_type": "stream",
          "name": "stderr",
          "text": [
            "WARNING:absl:Found untraced functions such as lstm_cell_layer_call_fn, lstm_cell_layer_call_and_return_conditional_losses while saving (showing 2 of 2). These functions will not be directly callable after loading.\n",
            "WARNING:absl:<keras.layers.recurrent.LSTMCell object at 0x7f2d13bd2d90> has the same name 'LSTMCell' as a built-in Keras object. Consider renaming <class 'keras.layers.recurrent.LSTMCell'> to avoid naming conflicts when loading with `tf.keras.models.load_model`. If renaming is not possible, pass the object in the `custom_objects` parameter of the load function.\n"
          ]
        },
        {
          "output_type": "stream",
          "name": "stdout",
          "text": [
            "\b\b\b\b\b\b\b\b\b\b\b\b\b\b\b\b\b\b\b\b\b\b\b\b\b\b\b\b\b\b\b\b\b\b\b\b\b\b\b\b\b\b\b\b\b\b\b\b\b\b\b\b\b\b\b\b\b\b\b\b\b\b\b\b\b\b\b\b\b\b\b\b\b\b\b\b\b\b\b\b\b\b\b\b\b\b\b\b\b\b\b\b\b\b\b\b\b\b\b\b\b\r47/47 [==============================] - 5s 115ms/step - loss: 8.5868e-05 - root_mean_squared_error: 0.0093 - val_loss: 6.9454e-05 - val_root_mean_squared_error: 0.0083\n",
            "Epoch 238/500\n",
            "47/47 [==============================] - 0s 6ms/step - loss: 8.3563e-05 - root_mean_squared_error: 0.0091 - val_loss: 9.3519e-05 - val_root_mean_squared_error: 0.0097\n",
            "Epoch 239/500\n",
            "47/47 [==============================] - 0s 6ms/step - loss: 7.3428e-05 - root_mean_squared_error: 0.0086 - val_loss: 1.2006e-04 - val_root_mean_squared_error: 0.0110\n",
            "Epoch 240/500\n",
            "47/47 [==============================] - 0s 6ms/step - loss: 8.5113e-05 - root_mean_squared_error: 0.0092 - val_loss: 8.9623e-05 - val_root_mean_squared_error: 0.0095\n",
            "Epoch 241/500\n",
            "39/47 [=======================>......] - ETA: 0s - loss: 8.9263e-05 - root_mean_squared_error: 0.0094"
          ]
        },
        {
          "output_type": "stream",
          "name": "stderr",
          "text": [
            "WARNING:absl:Found untraced functions such as lstm_cell_layer_call_fn, lstm_cell_layer_call_and_return_conditional_losses while saving (showing 2 of 2). These functions will not be directly callable after loading.\n",
            "WARNING:absl:<keras.layers.recurrent.LSTMCell object at 0x7f2d13bd2d90> has the same name 'LSTMCell' as a built-in Keras object. Consider renaming <class 'keras.layers.recurrent.LSTMCell'> to avoid naming conflicts when loading with `tf.keras.models.load_model`. If renaming is not possible, pass the object in the `custom_objects` parameter of the load function.\n"
          ]
        },
        {
          "output_type": "stream",
          "name": "stdout",
          "text": [
            "\b\b\b\b\b\b\b\b\b\b\b\b\b\b\b\b\b\b\b\b\b\b\b\b\b\b\b\b\b\b\b\b\b\b\b\b\b\b\b\b\b\b\b\b\b\b\b\b\b\b\b\b\b\b\b\b\b\b\b\b\b\b\b\b\b\b\b\b\b\b\b\b\b\b\b\b\b\b\b\b\b\b\b\b\b\b\b\b\b\b\b\b\b\b\b\b\b\b\b\b\b\r47/47 [==============================] - 5s 113ms/step - loss: 8.3192e-05 - root_mean_squared_error: 0.0091 - val_loss: 6.6054e-05 - val_root_mean_squared_error: 0.0081\n",
            "Epoch 242/500\n",
            "47/47 [==============================] - 0s 6ms/step - loss: 7.2918e-05 - root_mean_squared_error: 0.0085 - val_loss: 1.3014e-04 - val_root_mean_squared_error: 0.0114\n",
            "Epoch 243/500\n",
            "47/47 [==============================] - 0s 6ms/step - loss: 9.0568e-05 - root_mean_squared_error: 0.0095 - val_loss: 6.8247e-05 - val_root_mean_squared_error: 0.0083\n",
            "Epoch 244/500\n",
            "47/47 [==============================] - 0s 6ms/step - loss: 7.7143e-05 - root_mean_squared_error: 0.0088 - val_loss: 7.1764e-05 - val_root_mean_squared_error: 0.0085\n",
            "Epoch 245/500\n",
            "40/47 [========================>.....] - ETA: 0s - loss: 5.8068e-05 - root_mean_squared_error: 0.0076"
          ]
        },
        {
          "output_type": "stream",
          "name": "stderr",
          "text": [
            "WARNING:absl:Found untraced functions such as lstm_cell_layer_call_fn, lstm_cell_layer_call_and_return_conditional_losses while saving (showing 2 of 2). These functions will not be directly callable after loading.\n",
            "WARNING:absl:<keras.layers.recurrent.LSTMCell object at 0x7f2d13bd2d90> has the same name 'LSTMCell' as a built-in Keras object. Consider renaming <class 'keras.layers.recurrent.LSTMCell'> to avoid naming conflicts when loading with `tf.keras.models.load_model`. If renaming is not possible, pass the object in the `custom_objects` parameter of the load function.\n"
          ]
        },
        {
          "output_type": "stream",
          "name": "stdout",
          "text": [
            "\b\b\b\b\b\b\b\b\b\b\b\b\b\b\b\b\b\b\b\b\b\b\b\b\b\b\b\b\b\b\b\b\b\b\b\b\b\b\b\b\b\b\b\b\b\b\b\b\b\b\b\b\b\b\b\b\b\b\b\b\b\b\b\b\b\b\b\b\b\b\b\b\b\b\b\b\b\b\b\b\b\b\b\b\b\b\b\b\b\b\b\b\b\b\b\b\b\b\b\b\b\r47/47 [==============================] - 5s 104ms/step - loss: 5.9450e-05 - root_mean_squared_error: 0.0077 - val_loss: 6.0435e-05 - val_root_mean_squared_error: 0.0078\n",
            "Epoch 246/500\n",
            "41/47 [=========================>....] - ETA: 0s - loss: 6.8802e-05 - root_mean_squared_error: 0.0083"
          ]
        },
        {
          "output_type": "stream",
          "name": "stderr",
          "text": [
            "WARNING:absl:Found untraced functions such as lstm_cell_layer_call_fn, lstm_cell_layer_call_and_return_conditional_losses while saving (showing 2 of 2). These functions will not be directly callable after loading.\n",
            "WARNING:absl:<keras.layers.recurrent.LSTMCell object at 0x7f2d13bd2d90> has the same name 'LSTMCell' as a built-in Keras object. Consider renaming <class 'keras.layers.recurrent.LSTMCell'> to avoid naming conflicts when loading with `tf.keras.models.load_model`. If renaming is not possible, pass the object in the `custom_objects` parameter of the load function.\n"
          ]
        },
        {
          "output_type": "stream",
          "name": "stdout",
          "text": [
            "\b\b\b\b\b\b\b\b\b\b\b\b\b\b\b\b\b\b\b\b\b\b\b\b\b\b\b\b\b\b\b\b\b\b\b\b\b\b\b\b\b\b\b\b\b\b\b\b\b\b\b\b\b\b\b\b\b\b\b\b\b\b\b\b\b\b\b\b\b\b\b\b\b\b\b\b\b\b\b\b\b\b\b\b\b\b\b\b\b\b\b\b\b\b\b\b\b\b\b\b\b\r47/47 [==============================] - 5s 117ms/step - loss: 6.7865e-05 - root_mean_squared_error: 0.0082 - val_loss: 5.9572e-05 - val_root_mean_squared_error: 0.0077\n",
            "Epoch 247/500\n",
            "41/47 [=========================>....] - ETA: 0s - loss: 8.3701e-05 - root_mean_squared_error: 0.0091"
          ]
        },
        {
          "output_type": "stream",
          "name": "stderr",
          "text": [
            "WARNING:absl:Found untraced functions such as lstm_cell_layer_call_fn, lstm_cell_layer_call_and_return_conditional_losses while saving (showing 2 of 2). These functions will not be directly callable after loading.\n",
            "WARNING:absl:<keras.layers.recurrent.LSTMCell object at 0x7f2d13bd2d90> has the same name 'LSTMCell' as a built-in Keras object. Consider renaming <class 'keras.layers.recurrent.LSTMCell'> to avoid naming conflicts when loading with `tf.keras.models.load_model`. If renaming is not possible, pass the object in the `custom_objects` parameter of the load function.\n"
          ]
        },
        {
          "output_type": "stream",
          "name": "stdout",
          "text": [
            "\b\b\b\b\b\b\b\b\b\b\b\b\b\b\b\b\b\b\b\b\b\b\b\b\b\b\b\b\b\b\b\b\b\b\b\b\b\b\b\b\b\b\b\b\b\b\b\b\b\b\b\b\b\b\b\b\b\b\b\b\b\b\b\b\b\b\b\b\b\b\b\b\b\b\b\b\b\b\b\b\b\b\b\b\b\b\b\b\b\b\b\b\b\b\b\b\b\b\b\b\b\r47/47 [==============================] - 5s 113ms/step - loss: 8.0089e-05 - root_mean_squared_error: 0.0089 - val_loss: 5.9019e-05 - val_root_mean_squared_error: 0.0077\n",
            "Epoch 248/500\n",
            "47/47 [==============================] - 0s 6ms/step - loss: 6.7585e-05 - root_mean_squared_error: 0.0082 - val_loss: 5.9156e-05 - val_root_mean_squared_error: 0.0077\n",
            "Epoch 249/500\n",
            "47/47 [==============================] - 0s 6ms/step - loss: 6.4330e-05 - root_mean_squared_error: 0.0080 - val_loss: 7.7336e-05 - val_root_mean_squared_error: 0.0088\n",
            "Epoch 250/500\n",
            "47/47 [==============================] - 0s 6ms/step - loss: 8.0733e-05 - root_mean_squared_error: 0.0090 - val_loss: 5.9902e-05 - val_root_mean_squared_error: 0.0077\n",
            "Epoch 251/500\n",
            "47/47 [==============================] - 0s 6ms/step - loss: 8.7362e-05 - root_mean_squared_error: 0.0093 - val_loss: 6.5249e-05 - val_root_mean_squared_error: 0.0081\n",
            "Epoch 252/500\n",
            "47/47 [==============================] - 0s 7ms/step - loss: 6.2646e-05 - root_mean_squared_error: 0.0079 - val_loss: 6.3414e-05 - val_root_mean_squared_error: 0.0080\n",
            "Epoch 253/500\n",
            "47/47 [==============================] - 0s 6ms/step - loss: 6.7446e-05 - root_mean_squared_error: 0.0082 - val_loss: 6.3758e-05 - val_root_mean_squared_error: 0.0080\n",
            "Epoch 254/500\n",
            "47/47 [==============================] - 0s 6ms/step - loss: 6.3516e-05 - root_mean_squared_error: 0.0080 - val_loss: 7.0311e-05 - val_root_mean_squared_error: 0.0084\n",
            "Epoch 255/500\n",
            "47/47 [==============================] - 0s 7ms/step - loss: 5.6563e-05 - root_mean_squared_error: 0.0075 - val_loss: 6.7977e-05 - val_root_mean_squared_error: 0.0082\n",
            "Epoch 256/500\n",
            "47/47 [==============================] - ETA: 0s - loss: 7.2461e-05 - root_mean_squared_error: 0.0085"
          ]
        },
        {
          "output_type": "stream",
          "name": "stderr",
          "text": [
            "WARNING:absl:Found untraced functions such as lstm_cell_layer_call_fn, lstm_cell_layer_call_and_return_conditional_losses while saving (showing 2 of 2). These functions will not be directly callable after loading.\n",
            "WARNING:absl:<keras.layers.recurrent.LSTMCell object at 0x7f2d13bd2d90> has the same name 'LSTMCell' as a built-in Keras object. Consider renaming <class 'keras.layers.recurrent.LSTMCell'> to avoid naming conflicts when loading with `tf.keras.models.load_model`. If renaming is not possible, pass the object in the `custom_objects` parameter of the load function.\n"
          ]
        },
        {
          "output_type": "stream",
          "name": "stdout",
          "text": [
            "\b\b\b\b\b\b\b\b\b\b\b\b\b\b\b\b\b\b\b\b\b\b\b\b\b\b\b\b\b\b\b\b\b\b\b\b\b\b\b\b\b\b\b\b\b\b\b\b\b\b\b\b\b\b\b\b\b\b\b\b\b\b\b\b\b\b\b\b\b\b\b\b\b\b\b\b\b\b\b\b\b\b\b\b\b\b\b\b\b\b\b\b\b\b\b\b\b\b\b\b\b\r47/47 [==============================] - 5s 106ms/step - loss: 7.2461e-05 - root_mean_squared_error: 0.0085 - val_loss: 5.8494e-05 - val_root_mean_squared_error: 0.0076\n",
            "Epoch 257/500\n",
            "47/47 [==============================] - 0s 6ms/step - loss: 7.2899e-05 - root_mean_squared_error: 0.0085 - val_loss: 6.1740e-05 - val_root_mean_squared_error: 0.0079\n",
            "Epoch 258/500\n",
            "47/47 [==============================] - 0s 6ms/step - loss: 7.3411e-05 - root_mean_squared_error: 0.0086 - val_loss: 1.2741e-04 - val_root_mean_squared_error: 0.0113\n",
            "Epoch 259/500\n",
            "47/47 [==============================] - 0s 6ms/step - loss: 6.8804e-05 - root_mean_squared_error: 0.0083 - val_loss: 6.9362e-05 - val_root_mean_squared_error: 0.0083\n",
            "Epoch 260/500\n",
            "40/47 [========================>.....] - ETA: 0s - loss: 5.7558e-05 - root_mean_squared_error: 0.0076"
          ]
        },
        {
          "output_type": "stream",
          "name": "stderr",
          "text": [
            "WARNING:absl:Found untraced functions such as lstm_cell_layer_call_fn, lstm_cell_layer_call_and_return_conditional_losses while saving (showing 2 of 2). These functions will not be directly callable after loading.\n",
            "WARNING:absl:<keras.layers.recurrent.LSTMCell object at 0x7f2d13bd2d90> has the same name 'LSTMCell' as a built-in Keras object. Consider renaming <class 'keras.layers.recurrent.LSTMCell'> to avoid naming conflicts when loading with `tf.keras.models.load_model`. If renaming is not possible, pass the object in the `custom_objects` parameter of the load function.\n"
          ]
        },
        {
          "output_type": "stream",
          "name": "stdout",
          "text": [
            "\b\b\b\b\b\b\b\b\b\b\b\b\b\b\b\b\b\b\b\b\b\b\b\b\b\b\b\b\b\b\b\b\b\b\b\b\b\b\b\b\b\b\b\b\b\b\b\b\b\b\b\b\b\b\b\b\b\b\b\b\b\b\b\b\b\b\b\b\b\b\b\b\b\b\b\b\b\b\b\b\b\b\b\b\b\b\b\b\b\b\b\b\b\b\b\b\b\b\b\b\b\r47/47 [==============================] - 5s 114ms/step - loss: 5.7046e-05 - root_mean_squared_error: 0.0076 - val_loss: 5.3423e-05 - val_root_mean_squared_error: 0.0073\n",
            "Epoch 261/500\n",
            "47/47 [==============================] - 0s 7ms/step - loss: 7.0009e-05 - root_mean_squared_error: 0.0084 - val_loss: 5.3461e-05 - val_root_mean_squared_error: 0.0073\n",
            "Epoch 262/500\n",
            "47/47 [==============================] - 0s 6ms/step - loss: 5.5809e-05 - root_mean_squared_error: 0.0075 - val_loss: 7.2008e-05 - val_root_mean_squared_error: 0.0085\n",
            "Epoch 263/500\n",
            "39/47 [=======================>......] - ETA: 0s - loss: 6.6607e-05 - root_mean_squared_error: 0.0082"
          ]
        },
        {
          "output_type": "stream",
          "name": "stderr",
          "text": [
            "WARNING:absl:Found untraced functions such as lstm_cell_layer_call_fn, lstm_cell_layer_call_and_return_conditional_losses while saving (showing 2 of 2). These functions will not be directly callable after loading.\n",
            "WARNING:absl:<keras.layers.recurrent.LSTMCell object at 0x7f2d13bd2d90> has the same name 'LSTMCell' as a built-in Keras object. Consider renaming <class 'keras.layers.recurrent.LSTMCell'> to avoid naming conflicts when loading with `tf.keras.models.load_model`. If renaming is not possible, pass the object in the `custom_objects` parameter of the load function.\n"
          ]
        },
        {
          "output_type": "stream",
          "name": "stdout",
          "text": [
            "\b\b\b\b\b\b\b\b\b\b\b\b\b\b\b\b\b\b\b\b\b\b\b\b\b\b\b\b\b\b\b\b\b\b\b\b\b\b\b\b\b\b\b\b\b\b\b\b\b\b\b\b\b\b\b\b\b\b\b\b\b\b\b\b\b\b\b\b\b\b\b\b\b\b\b\b\b\b\b\b\b\b\b\b\b\b\b\b\b\b\b\b\b\b\b\b\b\b\b\b\b\r47/47 [==============================] - 5s 104ms/step - loss: 6.3902e-05 - root_mean_squared_error: 0.0080 - val_loss: 5.1265e-05 - val_root_mean_squared_error: 0.0072\n",
            "Epoch 264/500\n",
            "47/47 [==============================] - 0s 6ms/step - loss: 5.2116e-05 - root_mean_squared_error: 0.0072 - val_loss: 9.3544e-05 - val_root_mean_squared_error: 0.0097\n",
            "Epoch 265/500\n",
            "47/47 [==============================] - 0s 6ms/step - loss: 5.2524e-05 - root_mean_squared_error: 0.0072 - val_loss: 1.2559e-04 - val_root_mean_squared_error: 0.0112\n",
            "Epoch 266/500\n",
            "47/47 [==============================] - 0s 6ms/step - loss: 7.0050e-05 - root_mean_squared_error: 0.0084 - val_loss: 7.6578e-05 - val_root_mean_squared_error: 0.0088\n",
            "Epoch 267/500\n",
            "45/47 [===========================>..] - ETA: 0s - loss: 7.3067e-05 - root_mean_squared_error: 0.0085"
          ]
        },
        {
          "output_type": "stream",
          "name": "stderr",
          "text": [
            "WARNING:absl:Found untraced functions such as lstm_cell_layer_call_fn, lstm_cell_layer_call_and_return_conditional_losses while saving (showing 2 of 2). These functions will not be directly callable after loading.\n",
            "WARNING:absl:<keras.layers.recurrent.LSTMCell object at 0x7f2d13bd2d90> has the same name 'LSTMCell' as a built-in Keras object. Consider renaming <class 'keras.layers.recurrent.LSTMCell'> to avoid naming conflicts when loading with `tf.keras.models.load_model`. If renaming is not possible, pass the object in the `custom_objects` parameter of the load function.\n"
          ]
        },
        {
          "output_type": "stream",
          "name": "stdout",
          "text": [
            "\b\b\b\b\b\b\b\b\b\b\b\b\b\b\b\b\b\b\b\b\b\b\b\b\b\b\b\b\b\b\b\b\b\b\b\b\b\b\b\b\b\b\b\b\b\b\b\b\b\b\b\b\b\b\b\b\b\b\b\b\b\b\b\b\b\b\b\b\b\b\b\b\b\b\b\b\b\b\b\b\b\b\b\b\b\b\b\b\b\b\b\b\b\b\b\b\b\b\b\b\b\r47/47 [==============================] - 5s 115ms/step - loss: 7.2163e-05 - root_mean_squared_error: 0.0085 - val_loss: 5.0122e-05 - val_root_mean_squared_error: 0.0071\n",
            "Epoch 268/500\n",
            "42/47 [=========================>....] - ETA: 0s - loss: 6.0120e-05 - root_mean_squared_error: 0.0078"
          ]
        },
        {
          "output_type": "stream",
          "name": "stderr",
          "text": [
            "WARNING:absl:Found untraced functions such as lstm_cell_layer_call_fn, lstm_cell_layer_call_and_return_conditional_losses while saving (showing 2 of 2). These functions will not be directly callable after loading.\n",
            "WARNING:absl:<keras.layers.recurrent.LSTMCell object at 0x7f2d13bd2d90> has the same name 'LSTMCell' as a built-in Keras object. Consider renaming <class 'keras.layers.recurrent.LSTMCell'> to avoid naming conflicts when loading with `tf.keras.models.load_model`. If renaming is not possible, pass the object in the `custom_objects` parameter of the load function.\n"
          ]
        },
        {
          "output_type": "stream",
          "name": "stdout",
          "text": [
            "\b\b\b\b\b\b\b\b\b\b\b\b\b\b\b\b\b\b\b\b\b\b\b\b\b\b\b\b\b\b\b\b\b\b\b\b\b\b\b\b\b\b\b\b\b\b\b\b\b\b\b\b\b\b\b\b\b\b\b\b\b\b\b\b\b\b\b\b\b\b\b\b\b\b\b\b\b\b\b\b\b\b\b\b\b\b\b\b\b\b\b\b\b\b\b\b\b\b\b\b\b\r47/47 [==============================] - 5s 112ms/step - loss: 5.9458e-05 - root_mean_squared_error: 0.0077 - val_loss: 4.8890e-05 - val_root_mean_squared_error: 0.0070\n",
            "Epoch 269/500\n",
            "47/47 [==============================] - 0s 6ms/step - loss: 6.0704e-05 - root_mean_squared_error: 0.0078 - val_loss: 7.1992e-05 - val_root_mean_squared_error: 0.0085\n",
            "Epoch 270/500\n",
            "39/47 [=======================>......] - ETA: 0s - loss: 7.1940e-05 - root_mean_squared_error: 0.0085"
          ]
        },
        {
          "output_type": "stream",
          "name": "stderr",
          "text": [
            "WARNING:absl:Found untraced functions such as lstm_cell_layer_call_fn, lstm_cell_layer_call_and_return_conditional_losses while saving (showing 2 of 2). These functions will not be directly callable after loading.\n",
            "WARNING:absl:<keras.layers.recurrent.LSTMCell object at 0x7f2d13bd2d90> has the same name 'LSTMCell' as a built-in Keras object. Consider renaming <class 'keras.layers.recurrent.LSTMCell'> to avoid naming conflicts when loading with `tf.keras.models.load_model`. If renaming is not possible, pass the object in the `custom_objects` parameter of the load function.\n"
          ]
        },
        {
          "output_type": "stream",
          "name": "stdout",
          "text": [
            "\b\b\b\b\b\b\b\b\b\b\b\b\b\b\b\b\b\b\b\b\b\b\b\b\b\b\b\b\b\b\b\b\b\b\b\b\b\b\b\b\b\b\b\b\b\b\b\b\b\b\b\b\b\b\b\b\b\b\b\b\b\b\b\b\b\b\b\b\b\b\b\b\b\b\b\b\b\b\b\b\b\b\b\b\b\b\b\b\b\b\b\b\b\b\b\b\b\b\b\b\b\r47/47 [==============================] - 5s 105ms/step - loss: 7.2810e-05 - root_mean_squared_error: 0.0085 - val_loss: 4.8493e-05 - val_root_mean_squared_error: 0.0070\n",
            "Epoch 271/500\n",
            "47/47 [==============================] - 0s 6ms/step - loss: 6.5513e-05 - root_mean_squared_error: 0.0081 - val_loss: 9.2220e-05 - val_root_mean_squared_error: 0.0096\n",
            "Epoch 272/500\n",
            "47/47 [==============================] - 0s 6ms/step - loss: 7.4926e-05 - root_mean_squared_error: 0.0087 - val_loss: 5.0173e-05 - val_root_mean_squared_error: 0.0071\n",
            "Epoch 273/500\n",
            "39/47 [=======================>......] - ETA: 0s - loss: 4.9515e-05 - root_mean_squared_error: 0.0070"
          ]
        },
        {
          "output_type": "stream",
          "name": "stderr",
          "text": [
            "WARNING:absl:Found untraced functions such as lstm_cell_layer_call_fn, lstm_cell_layer_call_and_return_conditional_losses while saving (showing 2 of 2). These functions will not be directly callable after loading.\n",
            "WARNING:absl:<keras.layers.recurrent.LSTMCell object at 0x7f2d13bd2d90> has the same name 'LSTMCell' as a built-in Keras object. Consider renaming <class 'keras.layers.recurrent.LSTMCell'> to avoid naming conflicts when loading with `tf.keras.models.load_model`. If renaming is not possible, pass the object in the `custom_objects` parameter of the load function.\n"
          ]
        },
        {
          "output_type": "stream",
          "name": "stdout",
          "text": [
            "\b\b\b\b\b\b\b\b\b\b\b\b\b\b\b\b\b\b\b\b\b\b\b\b\b\b\b\b\b\b\b\b\b\b\b\b\b\b\b\b\b\b\b\b\b\b\b\b\b\b\b\b\b\b\b\b\b\b\b\b\b\b\b\b\b\b\b\b\b\b\b\b\b\b\b\b\b\b\b\b\b\b\b\b\b\b\b\b\b\b\b\b\b\b\b\b\b\b\b\b\b\r47/47 [==============================] - 5s 116ms/step - loss: 5.0385e-05 - root_mean_squared_error: 0.0071 - val_loss: 4.8305e-05 - val_root_mean_squared_error: 0.0070\n",
            "Epoch 274/500\n",
            "40/47 [========================>.....] - ETA: 0s - loss: 5.8433e-05 - root_mean_squared_error: 0.0076"
          ]
        },
        {
          "output_type": "stream",
          "name": "stderr",
          "text": [
            "WARNING:absl:Found untraced functions such as lstm_cell_layer_call_fn, lstm_cell_layer_call_and_return_conditional_losses while saving (showing 2 of 2). These functions will not be directly callable after loading.\n",
            "WARNING:absl:<keras.layers.recurrent.LSTMCell object at 0x7f2d13bd2d90> has the same name 'LSTMCell' as a built-in Keras object. Consider renaming <class 'keras.layers.recurrent.LSTMCell'> to avoid naming conflicts when loading with `tf.keras.models.load_model`. If renaming is not possible, pass the object in the `custom_objects` parameter of the load function.\n"
          ]
        },
        {
          "output_type": "stream",
          "name": "stdout",
          "text": [
            "\b\b\b\b\b\b\b\b\b\b\b\b\b\b\b\b\b\b\b\b\b\b\b\b\b\b\b\b\b\b\b\b\b\b\b\b\b\b\b\b\b\b\b\b\b\b\b\b\b\b\b\b\b\b\b\b\b\b\b\b\b\b\b\b\b\b\b\b\b\b\b\b\b\b\b\b\b\b\b\b\b\b\b\b\b\b\b\b\b\b\b\b\b\b\b\b\b\b\b\b\b\r47/47 [==============================] - 5s 111ms/step - loss: 5.9510e-05 - root_mean_squared_error: 0.0077 - val_loss: 4.7870e-05 - val_root_mean_squared_error: 0.0069\n",
            "Epoch 275/500\n",
            "47/47 [==============================] - 0s 7ms/step - loss: 5.4629e-05 - root_mean_squared_error: 0.0074 - val_loss: 6.2710e-05 - val_root_mean_squared_error: 0.0079\n",
            "Epoch 276/500\n",
            "41/47 [=========================>....] - ETA: 0s - loss: 6.4337e-05 - root_mean_squared_error: 0.0080"
          ]
        },
        {
          "output_type": "stream",
          "name": "stderr",
          "text": [
            "WARNING:absl:Found untraced functions such as lstm_cell_layer_call_fn, lstm_cell_layer_call_and_return_conditional_losses while saving (showing 2 of 2). These functions will not be directly callable after loading.\n",
            "WARNING:absl:<keras.layers.recurrent.LSTMCell object at 0x7f2d13bd2d90> has the same name 'LSTMCell' as a built-in Keras object. Consider renaming <class 'keras.layers.recurrent.LSTMCell'> to avoid naming conflicts when loading with `tf.keras.models.load_model`. If renaming is not possible, pass the object in the `custom_objects` parameter of the load function.\n"
          ]
        },
        {
          "output_type": "stream",
          "name": "stdout",
          "text": [
            "\b\b\b\b\b\b\b\b\b\b\b\b\b\b\b\b\b\b\b\b\b\b\b\b\b\b\b\b\b\b\b\b\b\b\b\b\b\b\b\b\b\b\b\b\b\b\b\b\b\b\b\b\b\b\b\b\b\b\b\b\b\b\b\b\b\b\b\b\b\b\b\b\b\b\b\b\b\b\b\b\b\b\b\b\b\b\b\b\b\b\b\b\b\b\b\b\b\b\b\b\b\r47/47 [==============================] - 5s 104ms/step - loss: 6.3801e-05 - root_mean_squared_error: 0.0080 - val_loss: 4.7520e-05 - val_root_mean_squared_error: 0.0069\n",
            "Epoch 277/500\n",
            "47/47 [==============================] - 0s 7ms/step - loss: 6.1753e-05 - root_mean_squared_error: 0.0079 - val_loss: 5.0333e-05 - val_root_mean_squared_error: 0.0071\n",
            "Epoch 278/500\n",
            "47/47 [==============================] - 0s 10ms/step - loss: 5.7860e-05 - root_mean_squared_error: 0.0076 - val_loss: 5.6091e-05 - val_root_mean_squared_error: 0.0075\n",
            "Epoch 279/500\n",
            "47/47 [==============================] - 1s 11ms/step - loss: 5.5353e-05 - root_mean_squared_error: 0.0074 - val_loss: 1.6778e-04 - val_root_mean_squared_error: 0.0130\n",
            "Epoch 280/500\n",
            "47/47 [==============================] - 1s 11ms/step - loss: 6.7118e-05 - root_mean_squared_error: 0.0082 - val_loss: 4.8292e-05 - val_root_mean_squared_error: 0.0069\n",
            "Epoch 281/500\n",
            "47/47 [==============================] - 1s 11ms/step - loss: 5.9744e-05 - root_mean_squared_error: 0.0077 - val_loss: 5.1873e-05 - val_root_mean_squared_error: 0.0072\n",
            "Epoch 282/500\n",
            "42/47 [=========================>....] - ETA: 0s - loss: 4.5667e-05 - root_mean_squared_error: 0.0068"
          ]
        },
        {
          "output_type": "stream",
          "name": "stderr",
          "text": [
            "WARNING:absl:Found untraced functions such as lstm_cell_layer_call_fn, lstm_cell_layer_call_and_return_conditional_losses while saving (showing 2 of 2). These functions will not be directly callable after loading.\n",
            "WARNING:absl:<keras.layers.recurrent.LSTMCell object at 0x7f2d13bd2d90> has the same name 'LSTMCell' as a built-in Keras object. Consider renaming <class 'keras.layers.recurrent.LSTMCell'> to avoid naming conflicts when loading with `tf.keras.models.load_model`. If renaming is not possible, pass the object in the `custom_objects` parameter of the load function.\n"
          ]
        },
        {
          "output_type": "stream",
          "name": "stdout",
          "text": [
            "\b\b\b\b\b\b\b\b\b\b\b\b\b\b\b\b\b\b\b\b\b\b\b\b\b\b\b\b\b\b\b\b\b\b\b\b\b\b\b\b\b\b\b\b\b\b\b\b\b\b\b\b\b\b\b\b\b\b\b\b\b\b\b\b\b\b\b\b\b\b\b\b\b\b\b\b\b\b\b\b\b\b\b\b\b\b\b\b\b\b\b\b\b\b\b\b\b\b\b\b\b\r47/47 [==============================] - 5s 119ms/step - loss: 4.5888e-05 - root_mean_squared_error: 0.0068 - val_loss: 4.7204e-05 - val_root_mean_squared_error: 0.0069\n",
            "Epoch 283/500\n",
            "47/47 [==============================] - 0s 7ms/step - loss: 5.3599e-05 - root_mean_squared_error: 0.0073 - val_loss: 5.5177e-05 - val_root_mean_squared_error: 0.0074\n",
            "Epoch 284/500\n",
            "47/47 [==============================] - 0s 6ms/step - loss: 4.9169e-05 - root_mean_squared_error: 0.0070 - val_loss: 5.9470e-05 - val_root_mean_squared_error: 0.0077\n",
            "Epoch 285/500\n",
            "47/47 [==============================] - 0s 6ms/step - loss: 5.2182e-05 - root_mean_squared_error: 0.0072 - val_loss: 1.0049e-04 - val_root_mean_squared_error: 0.0100\n",
            "Epoch 286/500\n",
            "47/47 [==============================] - 0s 6ms/step - loss: 5.9897e-05 - root_mean_squared_error: 0.0077 - val_loss: 5.3198e-05 - val_root_mean_squared_error: 0.0073\n",
            "Epoch 287/500\n",
            "47/47 [==============================] - 0s 6ms/step - loss: 5.1173e-05 - root_mean_squared_error: 0.0072 - val_loss: 5.4381e-05 - val_root_mean_squared_error: 0.0074\n",
            "Epoch 288/500\n",
            "38/47 [=======================>......] - ETA: 0s - loss: 5.3696e-05 - root_mean_squared_error: 0.0073"
          ]
        },
        {
          "output_type": "stream",
          "name": "stderr",
          "text": [
            "WARNING:absl:Found untraced functions such as lstm_cell_layer_call_fn, lstm_cell_layer_call_and_return_conditional_losses while saving (showing 2 of 2). These functions will not be directly callable after loading.\n",
            "WARNING:absl:<keras.layers.recurrent.LSTMCell object at 0x7f2d13bd2d90> has the same name 'LSTMCell' as a built-in Keras object. Consider renaming <class 'keras.layers.recurrent.LSTMCell'> to avoid naming conflicts when loading with `tf.keras.models.load_model`. If renaming is not possible, pass the object in the `custom_objects` parameter of the load function.\n"
          ]
        },
        {
          "output_type": "stream",
          "name": "stdout",
          "text": [
            "\b\b\b\b\b\b\b\b\b\b\b\b\b\b\b\b\b\b\b\b\b\b\b\b\b\b\b\b\b\b\b\b\b\b\b\b\b\b\b\b\b\b\b\b\b\b\b\b\b\b\b\b\b\b\b\b\b\b\b\b\b\b\b\b\b\b\b\b\b\b\b\b\b\b\b\b\b\b\b\b\b\b\b\b\b\b\b\b\b\b\b\b\b\b\b\b\b\b\b\b\b\r47/47 [==============================] - 5s 112ms/step - loss: 5.3469e-05 - root_mean_squared_error: 0.0073 - val_loss: 4.5174e-05 - val_root_mean_squared_error: 0.0067\n",
            "Epoch 289/500\n",
            "47/47 [==============================] - 0s 6ms/step - loss: 6.4521e-05 - root_mean_squared_error: 0.0080 - val_loss: 7.1655e-05 - val_root_mean_squared_error: 0.0085\n",
            "Epoch 290/500\n",
            "47/47 [==============================] - 0s 6ms/step - loss: 6.4532e-05 - root_mean_squared_error: 0.0080 - val_loss: 4.6573e-05 - val_root_mean_squared_error: 0.0068\n",
            "Epoch 291/500\n",
            "47/47 [==============================] - 0s 6ms/step - loss: 5.7190e-05 - root_mean_squared_error: 0.0076 - val_loss: 9.0632e-05 - val_root_mean_squared_error: 0.0095\n",
            "Epoch 292/500\n",
            "47/47 [==============================] - 0s 6ms/step - loss: 7.2349e-05 - root_mean_squared_error: 0.0085 - val_loss: 7.5608e-05 - val_root_mean_squared_error: 0.0087\n",
            "Epoch 293/500\n",
            "47/47 [==============================] - 0s 6ms/step - loss: 6.5995e-05 - root_mean_squared_error: 0.0081 - val_loss: 1.2839e-04 - val_root_mean_squared_error: 0.0113\n",
            "Epoch 294/500\n",
            "47/47 [==============================] - 0s 7ms/step - loss: 6.6514e-05 - root_mean_squared_error: 0.0082 - val_loss: 4.5185e-05 - val_root_mean_squared_error: 0.0067\n",
            "Epoch 295/500\n",
            "47/47 [==============================] - 0s 6ms/step - loss: 4.4404e-05 - root_mean_squared_error: 0.0067 - val_loss: 5.6284e-05 - val_root_mean_squared_error: 0.0075\n",
            "Epoch 296/500\n",
            "47/47 [==============================] - 0s 6ms/step - loss: 4.5551e-05 - root_mean_squared_error: 0.0067 - val_loss: 4.9097e-05 - val_root_mean_squared_error: 0.0070\n",
            "Epoch 297/500\n",
            "47/47 [==============================] - 0s 7ms/step - loss: 5.5616e-05 - root_mean_squared_error: 0.0075 - val_loss: 4.7954e-05 - val_root_mean_squared_error: 0.0069\n",
            "Epoch 298/500\n",
            "47/47 [==============================] - 0s 6ms/step - loss: 5.5131e-05 - root_mean_squared_error: 0.0074 - val_loss: 6.7739e-05 - val_root_mean_squared_error: 0.0082\n",
            "Epoch 299/500\n",
            "47/47 [==============================] - 0s 6ms/step - loss: 6.0909e-05 - root_mean_squared_error: 0.0078 - val_loss: 4.9176e-05 - val_root_mean_squared_error: 0.0070\n",
            "Epoch 300/500\n",
            "47/47 [==============================] - 0s 7ms/step - loss: 5.1217e-05 - root_mean_squared_error: 0.0072 - val_loss: 6.9632e-05 - val_root_mean_squared_error: 0.0083\n",
            "Epoch 301/500\n",
            "47/47 [==============================] - 0s 6ms/step - loss: 4.9560e-05 - root_mean_squared_error: 0.0070 - val_loss: 5.6711e-05 - val_root_mean_squared_error: 0.0075\n",
            "Epoch 302/500\n",
            "40/47 [========================>.....] - ETA: 0s - loss: 5.7591e-05 - root_mean_squared_error: 0.0076"
          ]
        },
        {
          "output_type": "stream",
          "name": "stderr",
          "text": [
            "WARNING:absl:Found untraced functions such as lstm_cell_layer_call_fn, lstm_cell_layer_call_and_return_conditional_losses while saving (showing 2 of 2). These functions will not be directly callable after loading.\n",
            "WARNING:absl:<keras.layers.recurrent.LSTMCell object at 0x7f2d13bd2d90> has the same name 'LSTMCell' as a built-in Keras object. Consider renaming <class 'keras.layers.recurrent.LSTMCell'> to avoid naming conflicts when loading with `tf.keras.models.load_model`. If renaming is not possible, pass the object in the `custom_objects` parameter of the load function.\n"
          ]
        },
        {
          "output_type": "stream",
          "name": "stdout",
          "text": [
            "\b\b\b\b\b\b\b\b\b\b\b\b\b\b\b\b\b\b\b\b\b\b\b\b\b\b\b\b\b\b\b\b\b\b\b\b\b\b\b\b\b\b\b\b\b\b\b\b\b\b\b\b\b\b\b\b\b\b\b\b\b\b\b\b\b\b\b\b\b\b\b\b\b\b\b\b\b\b\b\b\b\b\b\b\b\b\b\b\b\b\b\b\b\b\b\b\b\b\b\b\b\r47/47 [==============================] - 5s 106ms/step - loss: 5.7309e-05 - root_mean_squared_error: 0.0076 - val_loss: 4.4968e-05 - val_root_mean_squared_error: 0.0067\n",
            "Epoch 303/500\n",
            "47/47 [==============================] - 0s 6ms/step - loss: 4.7633e-05 - root_mean_squared_error: 0.0069 - val_loss: 5.9033e-05 - val_root_mean_squared_error: 0.0077\n",
            "Epoch 304/500\n",
            "47/47 [==============================] - 0s 6ms/step - loss: 4.9079e-05 - root_mean_squared_error: 0.0070 - val_loss: 8.1408e-05 - val_root_mean_squared_error: 0.0090\n",
            "Epoch 305/500\n",
            "41/47 [=========================>....] - ETA: 0s - loss: 6.2310e-05 - root_mean_squared_error: 0.0079"
          ]
        },
        {
          "output_type": "stream",
          "name": "stderr",
          "text": [
            "WARNING:absl:Found untraced functions such as lstm_cell_layer_call_fn, lstm_cell_layer_call_and_return_conditional_losses while saving (showing 2 of 2). These functions will not be directly callable after loading.\n",
            "WARNING:absl:<keras.layers.recurrent.LSTMCell object at 0x7f2d13bd2d90> has the same name 'LSTMCell' as a built-in Keras object. Consider renaming <class 'keras.layers.recurrent.LSTMCell'> to avoid naming conflicts when loading with `tf.keras.models.load_model`. If renaming is not possible, pass the object in the `custom_objects` parameter of the load function.\n"
          ]
        },
        {
          "output_type": "stream",
          "name": "stdout",
          "text": [
            "\b\b\b\b\b\b\b\b\b\b\b\b\b\b\b\b\b\b\b\b\b\b\b\b\b\b\b\b\b\b\b\b\b\b\b\b\b\b\b\b\b\b\b\b\b\b\b\b\b\b\b\b\b\b\b\b\b\b\b\b\b\b\b\b\b\b\b\b\b\b\b\b\b\b\b\b\b\b\b\b\b\b\b\b\b\b\b\b\b\b\b\b\b\b\b\b\b\b\b\b\b\r47/47 [==============================] - 5s 117ms/step - loss: 6.0327e-05 - root_mean_squared_error: 0.0078 - val_loss: 4.3525e-05 - val_root_mean_squared_error: 0.0066\n",
            "Epoch 306/500\n",
            "47/47 [==============================] - 0s 7ms/step - loss: 6.1198e-05 - root_mean_squared_error: 0.0078 - val_loss: 4.5024e-05 - val_root_mean_squared_error: 0.0067\n",
            "Epoch 307/500\n",
            "47/47 [==============================] - 0s 7ms/step - loss: 5.2734e-05 - root_mean_squared_error: 0.0073 - val_loss: 5.7371e-05 - val_root_mean_squared_error: 0.0076\n",
            "Epoch 308/500\n",
            "47/47 [==============================] - 0s 7ms/step - loss: 4.7765e-05 - root_mean_squared_error: 0.0069 - val_loss: 7.8698e-05 - val_root_mean_squared_error: 0.0089\n",
            "Epoch 309/500\n",
            "47/47 [==============================] - 0s 7ms/step - loss: 6.8456e-05 - root_mean_squared_error: 0.0083 - val_loss: 2.0323e-04 - val_root_mean_squared_error: 0.0143\n",
            "Epoch 310/500\n",
            "47/47 [==============================] - 0s 6ms/step - loss: 8.9963e-05 - root_mean_squared_error: 0.0095 - val_loss: 4.4668e-05 - val_root_mean_squared_error: 0.0067\n",
            "Epoch 311/500\n",
            "47/47 [==============================] - 0s 6ms/step - loss: 4.5475e-05 - root_mean_squared_error: 0.0067 - val_loss: 6.2369e-05 - val_root_mean_squared_error: 0.0079\n",
            "Epoch 312/500\n",
            "47/47 [==============================] - 0s 7ms/step - loss: 4.7979e-05 - root_mean_squared_error: 0.0069 - val_loss: 5.6984e-05 - val_root_mean_squared_error: 0.0075\n",
            "Epoch 313/500\n",
            "47/47 [==============================] - 0s 6ms/step - loss: 6.0051e-05 - root_mean_squared_error: 0.0077 - val_loss: 5.7870e-05 - val_root_mean_squared_error: 0.0076\n",
            "Epoch 314/500\n",
            "47/47 [==============================] - 0s 6ms/step - loss: 4.6180e-05 - root_mean_squared_error: 0.0068 - val_loss: 5.7087e-05 - val_root_mean_squared_error: 0.0076\n",
            "Epoch 315/500\n",
            "47/47 [==============================] - 0s 8ms/step - loss: 4.6546e-05 - root_mean_squared_error: 0.0068 - val_loss: 6.0393e-05 - val_root_mean_squared_error: 0.0078\n",
            "Epoch 316/500\n",
            "39/47 [=======================>......] - ETA: 0s - loss: 5.0214e-05 - root_mean_squared_error: 0.0071"
          ]
        },
        {
          "output_type": "stream",
          "name": "stderr",
          "text": [
            "WARNING:absl:Found untraced functions such as lstm_cell_layer_call_fn, lstm_cell_layer_call_and_return_conditional_losses while saving (showing 2 of 2). These functions will not be directly callable after loading.\n",
            "WARNING:absl:<keras.layers.recurrent.LSTMCell object at 0x7f2d13bd2d90> has the same name 'LSTMCell' as a built-in Keras object. Consider renaming <class 'keras.layers.recurrent.LSTMCell'> to avoid naming conflicts when loading with `tf.keras.models.load_model`. If renaming is not possible, pass the object in the `custom_objects` parameter of the load function.\n"
          ]
        },
        {
          "output_type": "stream",
          "name": "stdout",
          "text": [
            "\b\b\b\b\b\b\b\b\b\b\b\b\b\b\b\b\b\b\b\b\b\b\b\b\b\b\b\b\b\b\b\b\b\b\b\b\b\b\b\b\b\b\b\b\b\b\b\b\b\b\b\b\b\b\b\b\b\b\b\b\b\b\b\b\b\b\b\b\b\b\b\b\b\b\b\b\b\b\b\b\b\b\b\b\b\b\b\b\b\b\b\b\b\b\b\b\b\b\b\b\b\r47/47 [==============================] - 5s 104ms/step - loss: 4.8772e-05 - root_mean_squared_error: 0.0070 - val_loss: 4.2905e-05 - val_root_mean_squared_error: 0.0066\n",
            "Epoch 317/500\n",
            "46/47 [============================>.] - ETA: 0s - loss: 4.6130e-05 - root_mean_squared_error: 0.0068"
          ]
        },
        {
          "output_type": "stream",
          "name": "stderr",
          "text": [
            "WARNING:absl:Found untraced functions such as lstm_cell_layer_call_fn, lstm_cell_layer_call_and_return_conditional_losses while saving (showing 2 of 2). These functions will not be directly callable after loading.\n",
            "WARNING:absl:<keras.layers.recurrent.LSTMCell object at 0x7f2d13bd2d90> has the same name 'LSTMCell' as a built-in Keras object. Consider renaming <class 'keras.layers.recurrent.LSTMCell'> to avoid naming conflicts when loading with `tf.keras.models.load_model`. If renaming is not possible, pass the object in the `custom_objects` parameter of the load function.\n"
          ]
        },
        {
          "output_type": "stream",
          "name": "stdout",
          "text": [
            "\b\b\b\b\b\b\b\b\b\b\b\b\b\b\b\b\b\b\b\b\b\b\b\b\b\b\b\b\b\b\b\b\b\b\b\b\b\b\b\b\b\b\b\b\b\b\b\b\b\b\b\b\b\b\b\b\b\b\b\b\b\b\b\b\b\b\b\b\b\b\b\b\b\b\b\b\b\b\b\b\b\b\b\b\b\b\b\b\b\b\b\b\b\b\b\b\b\b\b\b\b\r47/47 [==============================] - 5s 114ms/step - loss: 4.5926e-05 - root_mean_squared_error: 0.0068 - val_loss: 4.2598e-05 - val_root_mean_squared_error: 0.0065\n",
            "Epoch 318/500\n",
            "47/47 [==============================] - 0s 6ms/step - loss: 5.6660e-05 - root_mean_squared_error: 0.0075 - val_loss: 7.5960e-05 - val_root_mean_squared_error: 0.0087\n",
            "Epoch 319/500\n",
            "47/47 [==============================] - 0s 6ms/step - loss: 5.1238e-05 - root_mean_squared_error: 0.0072 - val_loss: 7.0184e-05 - val_root_mean_squared_error: 0.0084\n",
            "Epoch 320/500\n",
            "47/47 [==============================] - 0s 7ms/step - loss: 7.1089e-05 - root_mean_squared_error: 0.0084 - val_loss: 6.8570e-05 - val_root_mean_squared_error: 0.0083\n",
            "Epoch 321/500\n",
            "47/47 [==============================] - 0s 7ms/step - loss: 5.4825e-05 - root_mean_squared_error: 0.0074 - val_loss: 4.8321e-05 - val_root_mean_squared_error: 0.0070\n",
            "Epoch 322/500\n",
            "47/47 [==============================] - 0s 6ms/step - loss: 4.1384e-05 - root_mean_squared_error: 0.0064 - val_loss: 5.8316e-05 - val_root_mean_squared_error: 0.0076\n",
            "Epoch 323/500\n",
            "47/47 [==============================] - 0s 6ms/step - loss: 4.4424e-05 - root_mean_squared_error: 0.0067 - val_loss: 4.2739e-05 - val_root_mean_squared_error: 0.0065\n",
            "Epoch 324/500\n",
            "47/47 [==============================] - 0s 7ms/step - loss: 5.0539e-05 - root_mean_squared_error: 0.0071 - val_loss: 5.7020e-05 - val_root_mean_squared_error: 0.0076\n",
            "Epoch 325/500\n",
            "47/47 [==============================] - 0s 6ms/step - loss: 4.8574e-05 - root_mean_squared_error: 0.0070 - val_loss: 5.0297e-05 - val_root_mean_squared_error: 0.0071\n",
            "Epoch 326/500\n",
            "47/47 [==============================] - 0s 7ms/step - loss: 5.4321e-05 - root_mean_squared_error: 0.0074 - val_loss: 5.3118e-05 - val_root_mean_squared_error: 0.0073\n",
            "Epoch 327/500\n",
            "47/47 [==============================] - 0s 6ms/step - loss: 5.8425e-05 - root_mean_squared_error: 0.0076 - val_loss: 5.7171e-05 - val_root_mean_squared_error: 0.0076\n",
            "Epoch 328/500\n",
            "47/47 [==============================] - 0s 7ms/step - loss: 5.8995e-05 - root_mean_squared_error: 0.0077 - val_loss: 6.7200e-05 - val_root_mean_squared_error: 0.0082\n",
            "Epoch 329/500\n",
            "40/47 [========================>.....] - ETA: 0s - loss: 4.8204e-05 - root_mean_squared_error: 0.0069"
          ]
        },
        {
          "output_type": "stream",
          "name": "stderr",
          "text": [
            "WARNING:absl:Found untraced functions such as lstm_cell_layer_call_fn, lstm_cell_layer_call_and_return_conditional_losses while saving (showing 2 of 2). These functions will not be directly callable after loading.\n",
            "WARNING:absl:<keras.layers.recurrent.LSTMCell object at 0x7f2d13bd2d90> has the same name 'LSTMCell' as a built-in Keras object. Consider renaming <class 'keras.layers.recurrent.LSTMCell'> to avoid naming conflicts when loading with `tf.keras.models.load_model`. If renaming is not possible, pass the object in the `custom_objects` parameter of the load function.\n"
          ]
        },
        {
          "output_type": "stream",
          "name": "stdout",
          "text": [
            "\b\b\b\b\b\b\b\b\b\b\b\b\b\b\b\b\b\b\b\b\b\b\b\b\b\b\b\b\b\b\b\b\b\b\b\b\b\b\b\b\b\b\b\b\b\b\b\b\b\b\b\b\b\b\b\b\b\b\b\b\b\b\b\b\b\b\b\b\b\b\b\b\b\b\b\b\b\b\b\b\b\b\b\b\b\b\b\b\b\b\b\b\b\b\b\b\b\b\b\b\b\r47/47 [==============================] - 5s 113ms/step - loss: 4.6613e-05 - root_mean_squared_error: 0.0068 - val_loss: 4.2109e-05 - val_root_mean_squared_error: 0.0065\n",
            "Epoch 330/500\n",
            "47/47 [==============================] - 0s 6ms/step - loss: 4.7700e-05 - root_mean_squared_error: 0.0069 - val_loss: 5.8801e-05 - val_root_mean_squared_error: 0.0077\n",
            "Epoch 331/500\n",
            "47/47 [==============================] - 0s 7ms/step - loss: 4.7537e-05 - root_mean_squared_error: 0.0069 - val_loss: 4.2374e-05 - val_root_mean_squared_error: 0.0065\n",
            "Epoch 332/500\n",
            "47/47 [==============================] - 0s 6ms/step - loss: 4.9364e-05 - root_mean_squared_error: 0.0070 - val_loss: 5.6786e-05 - val_root_mean_squared_error: 0.0075\n",
            "Epoch 333/500\n",
            "47/47 [==============================] - 0s 6ms/step - loss: 5.1706e-05 - root_mean_squared_error: 0.0072 - val_loss: 5.4170e-05 - val_root_mean_squared_error: 0.0074\n",
            "Epoch 334/500\n",
            "47/47 [==============================] - 0s 7ms/step - loss: 5.0197e-05 - root_mean_squared_error: 0.0071 - val_loss: 4.9047e-05 - val_root_mean_squared_error: 0.0070\n",
            "Epoch 335/500\n",
            "47/47 [==============================] - 0s 6ms/step - loss: 4.9077e-05 - root_mean_squared_error: 0.0070 - val_loss: 8.0517e-05 - val_root_mean_squared_error: 0.0090\n",
            "Epoch 336/500\n",
            "47/47 [==============================] - 0s 6ms/step - loss: 6.1553e-05 - root_mean_squared_error: 0.0078 - val_loss: 7.1884e-05 - val_root_mean_squared_error: 0.0085\n",
            "Epoch 337/500\n",
            "47/47 [==============================] - 0s 6ms/step - loss: 4.8494e-05 - root_mean_squared_error: 0.0070 - val_loss: 4.4066e-05 - val_root_mean_squared_error: 0.0066\n",
            "Epoch 338/500\n",
            "47/47 [==============================] - 0s 6ms/step - loss: 4.1926e-05 - root_mean_squared_error: 0.0065 - val_loss: 4.2755e-05 - val_root_mean_squared_error: 0.0065\n",
            "Epoch 339/500\n",
            "47/47 [==============================] - 0s 7ms/step - loss: 5.0253e-05 - root_mean_squared_error: 0.0071 - val_loss: 4.5540e-05 - val_root_mean_squared_error: 0.0067\n",
            "Epoch 340/500\n",
            "47/47 [==============================] - 0s 6ms/step - loss: 4.4220e-05 - root_mean_squared_error: 0.0066 - val_loss: 1.4802e-04 - val_root_mean_squared_error: 0.0122\n",
            "Epoch 341/500\n",
            "47/47 [==============================] - 0s 7ms/step - loss: 5.0333e-05 - root_mean_squared_error: 0.0071 - val_loss: 5.1080e-05 - val_root_mean_squared_error: 0.0071\n",
            "Epoch 342/500\n",
            "47/47 [==============================] - 0s 7ms/step - loss: 4.5811e-05 - root_mean_squared_error: 0.0068 - val_loss: 8.1271e-05 - val_root_mean_squared_error: 0.0090\n",
            "Epoch 343/500\n",
            "47/47 [==============================] - 0s 6ms/step - loss: 4.6115e-05 - root_mean_squared_error: 0.0068 - val_loss: 4.3905e-05 - val_root_mean_squared_error: 0.0066\n",
            "Epoch 344/500\n",
            "42/47 [=========================>....] - ETA: 0s - loss: 6.7436e-05 - root_mean_squared_error: 0.0082"
          ]
        },
        {
          "output_type": "stream",
          "name": "stderr",
          "text": [
            "WARNING:absl:Found untraced functions such as lstm_cell_layer_call_fn, lstm_cell_layer_call_and_return_conditional_losses while saving (showing 2 of 2). These functions will not be directly callable after loading.\n",
            "WARNING:absl:<keras.layers.recurrent.LSTMCell object at 0x7f2d13bd2d90> has the same name 'LSTMCell' as a built-in Keras object. Consider renaming <class 'keras.layers.recurrent.LSTMCell'> to avoid naming conflicts when loading with `tf.keras.models.load_model`. If renaming is not possible, pass the object in the `custom_objects` parameter of the load function.\n"
          ]
        },
        {
          "output_type": "stream",
          "name": "stdout",
          "text": [
            "\b\b\b\b\b\b\b\b\b\b\b\b\b\b\b\b\b\b\b\b\b\b\b\b\b\b\b\b\b\b\b\b\b\b\b\b\b\b\b\b\b\b\b\b\b\b\b\b\b\b\b\b\b\b\b\b\b\b\b\b\b\b\b\b\b\b\b\b\b\b\b\b\b\b\b\b\b\b\b\b\b\b\b\b\b\b\b\b\b\b\b\b\b\b\b\b\b\b\b\b\b\r47/47 [==============================] - 5s 105ms/step - loss: 6.5407e-05 - root_mean_squared_error: 0.0081 - val_loss: 4.1579e-05 - val_root_mean_squared_error: 0.0064\n",
            "Epoch 345/500\n",
            "47/47 [==============================] - 0s 6ms/step - loss: 4.6620e-05 - root_mean_squared_error: 0.0068 - val_loss: 5.8561e-05 - val_root_mean_squared_error: 0.0077\n",
            "Epoch 346/500\n",
            "47/47 [==============================] - 0s 7ms/step - loss: 6.5987e-05 - root_mean_squared_error: 0.0081 - val_loss: 4.2435e-05 - val_root_mean_squared_error: 0.0065\n",
            "Epoch 347/500\n",
            "47/47 [==============================] - 0s 6ms/step - loss: 5.6216e-05 - root_mean_squared_error: 0.0075 - val_loss: 4.7558e-05 - val_root_mean_squared_error: 0.0069\n",
            "Epoch 348/500\n",
            "47/47 [==============================] - 0s 6ms/step - loss: 5.1374e-05 - root_mean_squared_error: 0.0072 - val_loss: 4.3307e-05 - val_root_mean_squared_error: 0.0066\n",
            "Epoch 349/500\n",
            "47/47 [==============================] - 0s 6ms/step - loss: 4.5300e-05 - root_mean_squared_error: 0.0067 - val_loss: 5.4877e-05 - val_root_mean_squared_error: 0.0074\n",
            "Epoch 350/500\n",
            "47/47 [==============================] - 0s 7ms/step - loss: 5.0545e-05 - root_mean_squared_error: 0.0071 - val_loss: 4.7080e-05 - val_root_mean_squared_error: 0.0069\n",
            "Epoch 351/500\n",
            "47/47 [==============================] - 0s 6ms/step - loss: 5.4044e-05 - root_mean_squared_error: 0.0074 - val_loss: 7.2867e-05 - val_root_mean_squared_error: 0.0085\n",
            "Epoch 352/500\n",
            "47/47 [==============================] - ETA: 0s - loss: 4.9269e-05 - root_mean_squared_error: 0.0070"
          ]
        },
        {
          "output_type": "stream",
          "name": "stderr",
          "text": [
            "WARNING:absl:Found untraced functions such as lstm_cell_layer_call_fn, lstm_cell_layer_call_and_return_conditional_losses while saving (showing 2 of 2). These functions will not be directly callable after loading.\n",
            "WARNING:absl:<keras.layers.recurrent.LSTMCell object at 0x7f2d13bd2d90> has the same name 'LSTMCell' as a built-in Keras object. Consider renaming <class 'keras.layers.recurrent.LSTMCell'> to avoid naming conflicts when loading with `tf.keras.models.load_model`. If renaming is not possible, pass the object in the `custom_objects` parameter of the load function.\n"
          ]
        },
        {
          "output_type": "stream",
          "name": "stdout",
          "text": [
            "\b\b\b\b\b\b\b\b\b\b\b\b\b\b\b\b\b\b\b\b\b\b\b\b\b\b\b\b\b\b\b\b\b\b\b\b\b\b\b\b\b\b\b\b\b\b\b\b\b\b\b\b\b\b\b\b\b\b\b\b\b\b\b\b\b\b\b\b\b\b\b\b\b\b\b\b\b\b\b\b\b\b\b\b\b\b\b\b\b\b\b\b\b\b\b\b\b\b\b\b\b\r47/47 [==============================] - 5s 114ms/step - loss: 4.9269e-05 - root_mean_squared_error: 0.0070 - val_loss: 4.1529e-05 - val_root_mean_squared_error: 0.0064\n",
            "Epoch 353/500\n",
            "47/47 [==============================] - 0s 6ms/step - loss: 5.6624e-05 - root_mean_squared_error: 0.0075 - val_loss: 1.1508e-04 - val_root_mean_squared_error: 0.0107\n",
            "Epoch 354/500\n",
            "47/47 [==============================] - 0s 6ms/step - loss: 4.8540e-05 - root_mean_squared_error: 0.0070 - val_loss: 5.9766e-05 - val_root_mean_squared_error: 0.0077\n",
            "Epoch 355/500\n",
            "47/47 [==============================] - 0s 6ms/step - loss: 4.5636e-05 - root_mean_squared_error: 0.0068 - val_loss: 4.9549e-05 - val_root_mean_squared_error: 0.0070\n",
            "Epoch 356/500\n",
            "47/47 [==============================] - 0s 7ms/step - loss: 4.0206e-05 - root_mean_squared_error: 0.0063 - val_loss: 5.3970e-05 - val_root_mean_squared_error: 0.0073\n",
            "Epoch 357/500\n",
            "47/47 [==============================] - 0s 6ms/step - loss: 4.2380e-05 - root_mean_squared_error: 0.0065 - val_loss: 4.7714e-05 - val_root_mean_squared_error: 0.0069\n",
            "Epoch 358/500\n",
            "47/47 [==============================] - 0s 6ms/step - loss: 4.0189e-05 - root_mean_squared_error: 0.0063 - val_loss: 6.8877e-05 - val_root_mean_squared_error: 0.0083\n",
            "Epoch 359/500\n",
            "47/47 [==============================] - 0s 6ms/step - loss: 4.5718e-05 - root_mean_squared_error: 0.0068 - val_loss: 5.6738e-05 - val_root_mean_squared_error: 0.0075\n",
            "Epoch 360/500\n",
            "47/47 [==============================] - 0s 6ms/step - loss: 4.7452e-05 - root_mean_squared_error: 0.0069 - val_loss: 8.0141e-05 - val_root_mean_squared_error: 0.0090\n",
            "Epoch 361/500\n",
            "47/47 [==============================] - ETA: 0s - loss: 4.4280e-05 - root_mean_squared_error: 0.0067"
          ]
        },
        {
          "output_type": "stream",
          "name": "stderr",
          "text": [
            "WARNING:absl:Found untraced functions such as lstm_cell_layer_call_fn, lstm_cell_layer_call_and_return_conditional_losses while saving (showing 2 of 2). These functions will not be directly callable after loading.\n",
            "WARNING:absl:<keras.layers.recurrent.LSTMCell object at 0x7f2d13bd2d90> has the same name 'LSTMCell' as a built-in Keras object. Consider renaming <class 'keras.layers.recurrent.LSTMCell'> to avoid naming conflicts when loading with `tf.keras.models.load_model`. If renaming is not possible, pass the object in the `custom_objects` parameter of the load function.\n"
          ]
        },
        {
          "output_type": "stream",
          "name": "stdout",
          "text": [
            "\b\b\b\b\b\b\b\b\b\b\b\b\b\b\b\b\b\b\b\b\b\b\b\b\b\b\b\b\b\b\b\b\b\b\b\b\b\b\b\b\b\b\b\b\b\b\b\b\b\b\b\b\b\b\b\b\b\b\b\b\b\b\b\b\b\b\b\b\b\b\b\b\b\b\b\b\b\b\b\b\b\b\b\b\b\b\b\b\b\b\b\b\b\b\b\b\b\b\b\b\b\r47/47 [==============================] - 5s 113ms/step - loss: 4.4280e-05 - root_mean_squared_error: 0.0067 - val_loss: 4.0468e-05 - val_root_mean_squared_error: 0.0064\n",
            "Epoch 362/500\n",
            "47/47 [==============================] - 0s 6ms/step - loss: 4.6861e-05 - root_mean_squared_error: 0.0068 - val_loss: 7.3230e-05 - val_root_mean_squared_error: 0.0086\n",
            "Epoch 363/500\n",
            "47/47 [==============================] - 0s 6ms/step - loss: 4.6827e-05 - root_mean_squared_error: 0.0068 - val_loss: 5.2113e-05 - val_root_mean_squared_error: 0.0072\n",
            "Epoch 364/500\n",
            "47/47 [==============================] - ETA: 0s - loss: 5.7102e-05 - root_mean_squared_error: 0.0076"
          ]
        },
        {
          "output_type": "stream",
          "name": "stderr",
          "text": [
            "WARNING:absl:Found untraced functions such as lstm_cell_layer_call_fn, lstm_cell_layer_call_and_return_conditional_losses while saving (showing 2 of 2). These functions will not be directly callable after loading.\n",
            "WARNING:absl:<keras.layers.recurrent.LSTMCell object at 0x7f2d13bd2d90> has the same name 'LSTMCell' as a built-in Keras object. Consider renaming <class 'keras.layers.recurrent.LSTMCell'> to avoid naming conflicts when loading with `tf.keras.models.load_model`. If renaming is not possible, pass the object in the `custom_objects` parameter of the load function.\n"
          ]
        },
        {
          "output_type": "stream",
          "name": "stdout",
          "text": [
            "\b\b\b\b\b\b\b\b\b\b\b\b\b\b\b\b\b\b\b\b\b\b\b\b\b\b\b\b\b\b\b\b\b\b\b\b\b\b\b\b\b\b\b\b\b\b\b\b\b\b\b\b\b\b\b\b\b\b\b\b\b\b\b\b\b\b\b\b\b\b\b\b\b\b\b\b\b\b\b\b\b\b\b\b\b\b\b\b\b\b\b\b\b\b\b\b\b\b\b\b\b\r47/47 [==============================] - 5s 107ms/step - loss: 5.7102e-05 - root_mean_squared_error: 0.0076 - val_loss: 3.9862e-05 - val_root_mean_squared_error: 0.0063\n",
            "Epoch 365/500\n",
            "47/47 [==============================] - 0s 6ms/step - loss: 4.8117e-05 - root_mean_squared_error: 0.0069 - val_loss: 5.0215e-05 - val_root_mean_squared_error: 0.0071\n",
            "Epoch 366/500\n",
            "47/47 [==============================] - 0s 6ms/step - loss: 4.2637e-05 - root_mean_squared_error: 0.0065 - val_loss: 4.5701e-05 - val_root_mean_squared_error: 0.0068\n",
            "Epoch 367/500\n",
            "47/47 [==============================] - 0s 6ms/step - loss: 4.4240e-05 - root_mean_squared_error: 0.0067 - val_loss: 4.0860e-05 - val_root_mean_squared_error: 0.0064\n",
            "Epoch 368/500\n",
            "47/47 [==============================] - 0s 6ms/step - loss: 4.7625e-05 - root_mean_squared_error: 0.0069 - val_loss: 4.0521e-05 - val_root_mean_squared_error: 0.0064\n",
            "Epoch 369/500\n",
            "47/47 [==============================] - 0s 7ms/step - loss: 4.7063e-05 - root_mean_squared_error: 0.0069 - val_loss: 4.5132e-05 - val_root_mean_squared_error: 0.0067\n",
            "Epoch 370/500\n",
            "47/47 [==============================] - 0s 6ms/step - loss: 5.7668e-05 - root_mean_squared_error: 0.0076 - val_loss: 8.7450e-05 - val_root_mean_squared_error: 0.0094\n",
            "Epoch 371/500\n",
            "41/47 [=========================>....] - ETA: 0s - loss: 5.0074e-05 - root_mean_squared_error: 0.0071"
          ]
        },
        {
          "output_type": "stream",
          "name": "stderr",
          "text": [
            "WARNING:absl:Found untraced functions such as lstm_cell_layer_call_fn, lstm_cell_layer_call_and_return_conditional_losses while saving (showing 2 of 2). These functions will not be directly callable after loading.\n",
            "WARNING:absl:<keras.layers.recurrent.LSTMCell object at 0x7f2d13bd2d90> has the same name 'LSTMCell' as a built-in Keras object. Consider renaming <class 'keras.layers.recurrent.LSTMCell'> to avoid naming conflicts when loading with `tf.keras.models.load_model`. If renaming is not possible, pass the object in the `custom_objects` parameter of the load function.\n"
          ]
        },
        {
          "output_type": "stream",
          "name": "stdout",
          "text": [
            "\b\b\b\b\b\b\b\b\b\b\b\b\b\b\b\b\b\b\b\b\b\b\b\b\b\b\b\b\b\b\b\b\b\b\b\b\b\b\b\b\b\b\b\b\b\b\b\b\b\b\b\b\b\b\b\b\b\b\b\b\b\b\b\b\b\b\b\b\b\b\b\b\b\b\b\b\b\b\b\b\b\b\b\b\b\b\b\b\b\b\b\b\b\b\b\b\b\b\b\b\b\r47/47 [==============================] - 5s 115ms/step - loss: 4.9175e-05 - root_mean_squared_error: 0.0070 - val_loss: 3.9719e-05 - val_root_mean_squared_error: 0.0063\n",
            "Epoch 372/500\n",
            "47/47 [==============================] - 0s 6ms/step - loss: 4.3430e-05 - root_mean_squared_error: 0.0066 - val_loss: 4.8402e-05 - val_root_mean_squared_error: 0.0070\n",
            "Epoch 373/500\n",
            "47/47 [==============================] - 0s 6ms/step - loss: 4.5699e-05 - root_mean_squared_error: 0.0068 - val_loss: 4.1686e-05 - val_root_mean_squared_error: 0.0065\n",
            "Epoch 374/500\n",
            "47/47 [==============================] - 0s 7ms/step - loss: 4.0925e-05 - root_mean_squared_error: 0.0064 - val_loss: 4.8052e-05 - val_root_mean_squared_error: 0.0069\n",
            "Epoch 375/500\n",
            "47/47 [==============================] - 0s 7ms/step - loss: 4.0142e-05 - root_mean_squared_error: 0.0063 - val_loss: 4.5870e-05 - val_root_mean_squared_error: 0.0068\n",
            "Epoch 376/500\n",
            "47/47 [==============================] - 0s 6ms/step - loss: 4.3960e-05 - root_mean_squared_error: 0.0066 - val_loss: 4.0941e-05 - val_root_mean_squared_error: 0.0064\n",
            "Epoch 377/500\n",
            "47/47 [==============================] - 0s 6ms/step - loss: 4.1694e-05 - root_mean_squared_error: 0.0065 - val_loss: 5.5243e-05 - val_root_mean_squared_error: 0.0074\n",
            "Epoch 378/500\n",
            "47/47 [==============================] - 0s 7ms/step - loss: 4.9640e-05 - root_mean_squared_error: 0.0070 - val_loss: 5.4204e-05 - val_root_mean_squared_error: 0.0074\n",
            "Epoch 379/500\n",
            "47/47 [==============================] - 0s 7ms/step - loss: 4.2175e-05 - root_mean_squared_error: 0.0065 - val_loss: 5.9875e-05 - val_root_mean_squared_error: 0.0077\n",
            "Epoch 380/500\n",
            "45/47 [===========================>..] - ETA: 0s - loss: 4.2110e-05 - root_mean_squared_error: 0.0065"
          ]
        },
        {
          "output_type": "stream",
          "name": "stderr",
          "text": [
            "WARNING:absl:Found untraced functions such as lstm_cell_layer_call_fn, lstm_cell_layer_call_and_return_conditional_losses while saving (showing 2 of 2). These functions will not be directly callable after loading.\n",
            "WARNING:absl:<keras.layers.recurrent.LSTMCell object at 0x7f2d13bd2d90> has the same name 'LSTMCell' as a built-in Keras object. Consider renaming <class 'keras.layers.recurrent.LSTMCell'> to avoid naming conflicts when loading with `tf.keras.models.load_model`. If renaming is not possible, pass the object in the `custom_objects` parameter of the load function.\n"
          ]
        },
        {
          "output_type": "stream",
          "name": "stdout",
          "text": [
            "\b\b\b\b\b\b\b\b\b\b\b\b\b\b\b\b\b\b\b\b\b\b\b\b\b\b\b\b\b\b\b\b\b\b\b\b\b\b\b\b\b\b\b\b\b\b\b\b\b\b\b\b\b\b\b\b\b\b\b\b\b\b\b\b\b\b\b\b\b\b\b\b\b\b\b\b\b\b\b\b\b\b\b\b\b\b\b\b\b\b\b\b\b\b\b\b\b\b\b\b\b\r47/47 [==============================] - 5s 114ms/step - loss: 4.2182e-05 - root_mean_squared_error: 0.0065 - val_loss: 3.9408e-05 - val_root_mean_squared_error: 0.0063\n",
            "Epoch 381/500\n",
            "47/47 [==============================] - 0s 6ms/step - loss: 6.1361e-05 - root_mean_squared_error: 0.0078 - val_loss: 3.9745e-05 - val_root_mean_squared_error: 0.0063\n",
            "Epoch 382/500\n",
            "47/47 [==============================] - 0s 6ms/step - loss: 4.7122e-05 - root_mean_squared_error: 0.0069 - val_loss: 5.3704e-05 - val_root_mean_squared_error: 0.0073\n",
            "Epoch 383/500\n",
            "39/47 [=======================>......] - ETA: 0s - loss: 4.1989e-05 - root_mean_squared_error: 0.0065"
          ]
        },
        {
          "output_type": "stream",
          "name": "stderr",
          "text": [
            "WARNING:absl:Found untraced functions such as lstm_cell_layer_call_fn, lstm_cell_layer_call_and_return_conditional_losses while saving (showing 2 of 2). These functions will not be directly callable after loading.\n",
            "WARNING:absl:<keras.layers.recurrent.LSTMCell object at 0x7f2d13bd2d90> has the same name 'LSTMCell' as a built-in Keras object. Consider renaming <class 'keras.layers.recurrent.LSTMCell'> to avoid naming conflicts when loading with `tf.keras.models.load_model`. If renaming is not possible, pass the object in the `custom_objects` parameter of the load function.\n"
          ]
        },
        {
          "output_type": "stream",
          "name": "stdout",
          "text": [
            "\b\b\b\b\b\b\b\b\b\b\b\b\b\b\b\b\b\b\b\b\b\b\b\b\b\b\b\b\b\b\b\b\b\b\b\b\b\b\b\b\b\b\b\b\b\b\b\b\b\b\b\b\b\b\b\b\b\b\b\b\b\b\b\b\b\b\b\b\b\b\b\b\b\b\b\b\b\b\b\b\b\b\b\b\b\b\b\b\b\b\b\b\b\b\b\b\b\b\b\b\b\r47/47 [==============================] - 5s 107ms/step - loss: 4.1646e-05 - root_mean_squared_error: 0.0065 - val_loss: 3.9266e-05 - val_root_mean_squared_error: 0.0063\n",
            "Epoch 384/500\n",
            "47/47 [==============================] - 0s 6ms/step - loss: 4.5998e-05 - root_mean_squared_error: 0.0068 - val_loss: 4.4991e-05 - val_root_mean_squared_error: 0.0067\n",
            "Epoch 385/500\n",
            "47/47 [==============================] - 0s 6ms/step - loss: 4.9272e-05 - root_mean_squared_error: 0.0070 - val_loss: 6.1583e-05 - val_root_mean_squared_error: 0.0078\n",
            "Epoch 386/500\n",
            "47/47 [==============================] - 0s 6ms/step - loss: 4.2322e-05 - root_mean_squared_error: 0.0065 - val_loss: 4.3545e-05 - val_root_mean_squared_error: 0.0066\n",
            "Epoch 387/500\n",
            "47/47 [==============================] - 0s 7ms/step - loss: 4.3734e-05 - root_mean_squared_error: 0.0066 - val_loss: 4.0547e-05 - val_root_mean_squared_error: 0.0064\n",
            "Epoch 388/500\n",
            "47/47 [==============================] - ETA: 0s - loss: 4.1507e-05 - root_mean_squared_error: 0.0064"
          ]
        },
        {
          "output_type": "stream",
          "name": "stderr",
          "text": [
            "WARNING:absl:Found untraced functions such as lstm_cell_layer_call_fn, lstm_cell_layer_call_and_return_conditional_losses while saving (showing 2 of 2). These functions will not be directly callable after loading.\n",
            "WARNING:absl:<keras.layers.recurrent.LSTMCell object at 0x7f2d13bd2d90> has the same name 'LSTMCell' as a built-in Keras object. Consider renaming <class 'keras.layers.recurrent.LSTMCell'> to avoid naming conflicts when loading with `tf.keras.models.load_model`. If renaming is not possible, pass the object in the `custom_objects` parameter of the load function.\n"
          ]
        },
        {
          "output_type": "stream",
          "name": "stdout",
          "text": [
            "\b\b\b\b\b\b\b\b\b\b\b\b\b\b\b\b\b\b\b\b\b\b\b\b\b\b\b\b\b\b\b\b\b\b\b\b\b\b\b\b\b\b\b\b\b\b\b\b\b\b\b\b\b\b\b\b\b\b\b\b\b\b\b\b\b\b\b\b\b\b\b\b\b\b\b\b\b\b\b\b\b\b\b\b\b\b\b\b\b\b\b\b\b\b\b\b\b\b\b\b\b\r47/47 [==============================] - 5s 114ms/step - loss: 4.1507e-05 - root_mean_squared_error: 0.0064 - val_loss: 3.8792e-05 - val_root_mean_squared_error: 0.0062\n",
            "Epoch 389/500\n",
            "47/47 [==============================] - 0s 6ms/step - loss: 4.5693e-05 - root_mean_squared_error: 0.0068 - val_loss: 4.1274e-05 - val_root_mean_squared_error: 0.0064\n",
            "Epoch 390/500\n",
            "47/47 [==============================] - 0s 6ms/step - loss: 3.9191e-05 - root_mean_squared_error: 0.0063 - val_loss: 4.7625e-05 - val_root_mean_squared_error: 0.0069\n",
            "Epoch 391/500\n",
            "47/47 [==============================] - 0s 7ms/step - loss: 4.6612e-05 - root_mean_squared_error: 0.0068 - val_loss: 3.8964e-05 - val_root_mean_squared_error: 0.0062\n",
            "Epoch 392/500\n",
            "47/47 [==============================] - 0s 6ms/step - loss: 4.1800e-05 - root_mean_squared_error: 0.0065 - val_loss: 4.0220e-05 - val_root_mean_squared_error: 0.0063\n",
            "Epoch 393/500\n",
            "47/47 [==============================] - 0s 7ms/step - loss: 4.9927e-05 - root_mean_squared_error: 0.0071 - val_loss: 4.7982e-05 - val_root_mean_squared_error: 0.0069\n",
            "Epoch 394/500\n",
            "47/47 [==============================] - 0s 7ms/step - loss: 4.6641e-05 - root_mean_squared_error: 0.0068 - val_loss: 5.4049e-05 - val_root_mean_squared_error: 0.0074\n",
            "Epoch 395/500\n",
            "47/47 [==============================] - 0s 6ms/step - loss: 4.7218e-05 - root_mean_squared_error: 0.0069 - val_loss: 4.1692e-05 - val_root_mean_squared_error: 0.0065\n",
            "Epoch 396/500\n",
            "47/47 [==============================] - 0s 7ms/step - loss: 5.2101e-05 - root_mean_squared_error: 0.0072 - val_loss: 4.8642e-05 - val_root_mean_squared_error: 0.0070\n",
            "Epoch 397/500\n",
            "47/47 [==============================] - 0s 6ms/step - loss: 6.9614e-05 - root_mean_squared_error: 0.0083 - val_loss: 5.4704e-05 - val_root_mean_squared_error: 0.0074\n",
            "Epoch 398/500\n",
            "47/47 [==============================] - 0s 7ms/step - loss: 4.8294e-05 - root_mean_squared_error: 0.0069 - val_loss: 4.2316e-05 - val_root_mean_squared_error: 0.0065\n",
            "Epoch 399/500\n",
            "47/47 [==============================] - 0s 6ms/step - loss: 4.5647e-05 - root_mean_squared_error: 0.0068 - val_loss: 4.7654e-05 - val_root_mean_squared_error: 0.0069\n",
            "Epoch 400/500\n",
            "47/47 [==============================] - 0s 6ms/step - loss: 4.4009e-05 - root_mean_squared_error: 0.0066 - val_loss: 4.2152e-05 - val_root_mean_squared_error: 0.0065\n",
            "Epoch 401/500\n",
            "47/47 [==============================] - 0s 6ms/step - loss: 4.5318e-05 - root_mean_squared_error: 0.0067 - val_loss: 4.0889e-05 - val_root_mean_squared_error: 0.0064\n",
            "Epoch 402/500\n",
            "47/47 [==============================] - 0s 6ms/step - loss: 4.8880e-05 - root_mean_squared_error: 0.0070 - val_loss: 4.7539e-05 - val_root_mean_squared_error: 0.0069\n",
            "Epoch 403/500\n",
            "47/47 [==============================] - 0s 6ms/step - loss: 4.0262e-05 - root_mean_squared_error: 0.0063 - val_loss: 8.6768e-05 - val_root_mean_squared_error: 0.0093\n",
            "Epoch 404/500\n",
            "38/47 [=======================>......] - ETA: 0s - loss: 5.6713e-05 - root_mean_squared_error: 0.0075"
          ]
        },
        {
          "output_type": "stream",
          "name": "stderr",
          "text": [
            "WARNING:absl:Found untraced functions such as lstm_cell_layer_call_fn, lstm_cell_layer_call_and_return_conditional_losses while saving (showing 2 of 2). These functions will not be directly callable after loading.\n",
            "WARNING:absl:<keras.layers.recurrent.LSTMCell object at 0x7f2d13bd2d90> has the same name 'LSTMCell' as a built-in Keras object. Consider renaming <class 'keras.layers.recurrent.LSTMCell'> to avoid naming conflicts when loading with `tf.keras.models.load_model`. If renaming is not possible, pass the object in the `custom_objects` parameter of the load function.\n"
          ]
        },
        {
          "output_type": "stream",
          "name": "stdout",
          "text": [
            "\b\b\b\b\b\b\b\b\b\b\b\b\b\b\b\b\b\b\b\b\b\b\b\b\b\b\b\b\b\b\b\b\b\b\b\b\b\b\b\b\b\b\b\b\b\b\b\b\b\b\b\b\b\b\b\b\b\b\b\b\b\b\b\b\b\b\b\b\b\b\b\b\b\b\b\b\b\b\b\b\b\b\b\b\b\b\b\b\b\b\b\b\b\b\b\b\b\b\b\b\b\r47/47 [==============================] - 5s 111ms/step - loss: 5.5316e-05 - root_mean_squared_error: 0.0074 - val_loss: 3.8623e-05 - val_root_mean_squared_error: 0.0062\n",
            "Epoch 405/500\n",
            "47/47 [==============================] - 0s 6ms/step - loss: 4.7422e-05 - root_mean_squared_error: 0.0069 - val_loss: 4.4317e-05 - val_root_mean_squared_error: 0.0067\n",
            "Epoch 406/500\n",
            "47/47 [==============================] - 0s 7ms/step - loss: 4.0158e-05 - root_mean_squared_error: 0.0063 - val_loss: 4.5057e-05 - val_root_mean_squared_error: 0.0067\n",
            "Epoch 407/500\n",
            "40/47 [========================>.....] - ETA: 0s - loss: 4.3990e-05 - root_mean_squared_error: 0.0066"
          ]
        },
        {
          "output_type": "stream",
          "name": "stderr",
          "text": [
            "WARNING:absl:Found untraced functions such as lstm_cell_layer_call_fn, lstm_cell_layer_call_and_return_conditional_losses while saving (showing 2 of 2). These functions will not be directly callable after loading.\n",
            "WARNING:absl:<keras.layers.recurrent.LSTMCell object at 0x7f2d13bd2d90> has the same name 'LSTMCell' as a built-in Keras object. Consider renaming <class 'keras.layers.recurrent.LSTMCell'> to avoid naming conflicts when loading with `tf.keras.models.load_model`. If renaming is not possible, pass the object in the `custom_objects` parameter of the load function.\n"
          ]
        },
        {
          "output_type": "stream",
          "name": "stdout",
          "text": [
            "\b\b\b\b\b\b\b\b\b\b\b\b\b\b\b\b\b\b\b\b\b\b\b\b\b\b\b\b\b\b\b\b\b\b\b\b\b\b\b\b\b\b\b\b\b\b\b\b\b\b\b\b\b\b\b\b\b\b\b\b\b\b\b\b\b\b\b\b\b\b\b\b\b\b\b\b\b\b\b\b\b\b\b\b\b\b\b\b\b\b\b\b\b\b\b\b\b\b\b\b\b\r47/47 [==============================] - 5s 119ms/step - loss: 4.2707e-05 - root_mean_squared_error: 0.0065 - val_loss: 3.8136e-05 - val_root_mean_squared_error: 0.0062\n",
            "Epoch 408/500\n",
            "47/47 [==============================] - 0s 7ms/step - loss: 3.8454e-05 - root_mean_squared_error: 0.0062 - val_loss: 3.9133e-05 - val_root_mean_squared_error: 0.0063\n",
            "Epoch 409/500\n",
            "47/47 [==============================] - 0s 7ms/step - loss: 4.0344e-05 - root_mean_squared_error: 0.0064 - val_loss: 5.0036e-05 - val_root_mean_squared_error: 0.0071\n",
            "Epoch 410/500\n",
            "47/47 [==============================] - 0s 6ms/step - loss: 4.1043e-05 - root_mean_squared_error: 0.0064 - val_loss: 4.0221e-05 - val_root_mean_squared_error: 0.0063\n",
            "Epoch 411/500\n",
            "47/47 [==============================] - 0s 7ms/step - loss: 4.8414e-05 - root_mean_squared_error: 0.0070 - val_loss: 4.8222e-05 - val_root_mean_squared_error: 0.0069\n",
            "Epoch 412/500\n",
            "38/47 [=======================>......] - ETA: 0s - loss: 4.2846e-05 - root_mean_squared_error: 0.0065"
          ]
        },
        {
          "output_type": "stream",
          "name": "stderr",
          "text": [
            "WARNING:absl:Found untraced functions such as lstm_cell_layer_call_fn, lstm_cell_layer_call_and_return_conditional_losses while saving (showing 2 of 2). These functions will not be directly callable after loading.\n",
            "WARNING:absl:<keras.layers.recurrent.LSTMCell object at 0x7f2d13bd2d90> has the same name 'LSTMCell' as a built-in Keras object. Consider renaming <class 'keras.layers.recurrent.LSTMCell'> to avoid naming conflicts when loading with `tf.keras.models.load_model`. If renaming is not possible, pass the object in the `custom_objects` parameter of the load function.\n"
          ]
        },
        {
          "output_type": "stream",
          "name": "stdout",
          "text": [
            "\b\b\b\b\b\b\b\b\b\b\b\b\b\b\b\b\b\b\b\b\b\b\b\b\b\b\b\b\b\b\b\b\b\b\b\b\b\b\b\b\b\b\b\b\b\b\b\b\b\b\b\b\b\b\b\b\b\b\b\b\b\b\b\b\b\b\b\b\b\b\b\b\b\b\b\b\b\b\b\b\b\b\b\b\b\b\b\b\b\b\b\b\b\b\b\b\b\b\b\b\b\r47/47 [==============================] - 5s 116ms/step - loss: 4.2665e-05 - root_mean_squared_error: 0.0065 - val_loss: 3.7972e-05 - val_root_mean_squared_error: 0.0062\n",
            "Epoch 413/500\n",
            "47/47 [==============================] - 0s 7ms/step - loss: 4.4453e-05 - root_mean_squared_error: 0.0067 - val_loss: 7.1091e-05 - val_root_mean_squared_error: 0.0084\n",
            "Epoch 414/500\n",
            "47/47 [==============================] - 0s 7ms/step - loss: 4.9964e-05 - root_mean_squared_error: 0.0071 - val_loss: 3.8065e-05 - val_root_mean_squared_error: 0.0062\n",
            "Epoch 415/500\n",
            "47/47 [==============================] - 0s 6ms/step - loss: 4.0624e-05 - root_mean_squared_error: 0.0064 - val_loss: 4.4309e-05 - val_root_mean_squared_error: 0.0067\n",
            "Epoch 416/500\n",
            "47/47 [==============================] - 0s 6ms/step - loss: 4.1215e-05 - root_mean_squared_error: 0.0064 - val_loss: 5.0096e-05 - val_root_mean_squared_error: 0.0071\n",
            "Epoch 417/500\n",
            "47/47 [==============================] - 0s 6ms/step - loss: 6.3020e-05 - root_mean_squared_error: 0.0079 - val_loss: 3.8847e-05 - val_root_mean_squared_error: 0.0062\n",
            "Epoch 418/500\n",
            "47/47 [==============================] - 0s 7ms/step - loss: 4.1721e-05 - root_mean_squared_error: 0.0065 - val_loss: 3.9807e-05 - val_root_mean_squared_error: 0.0063\n",
            "Epoch 419/500\n",
            "47/47 [==============================] - 0s 7ms/step - loss: 6.2037e-05 - root_mean_squared_error: 0.0079 - val_loss: 4.8494e-05 - val_root_mean_squared_error: 0.0070\n",
            "Epoch 420/500\n",
            "47/47 [==============================] - 0s 6ms/step - loss: 4.8670e-05 - root_mean_squared_error: 0.0070 - val_loss: 6.4526e-05 - val_root_mean_squared_error: 0.0080\n",
            "Epoch 421/500\n",
            "47/47 [==============================] - 0s 6ms/step - loss: 4.0436e-05 - root_mean_squared_error: 0.0064 - val_loss: 4.1220e-05 - val_root_mean_squared_error: 0.0064\n",
            "Epoch 422/500\n",
            "40/47 [========================>.....] - ETA: 0s - loss: 4.2358e-05 - root_mean_squared_error: 0.0065"
          ]
        },
        {
          "output_type": "stream",
          "name": "stderr",
          "text": [
            "WARNING:absl:Found untraced functions such as lstm_cell_layer_call_fn, lstm_cell_layer_call_and_return_conditional_losses while saving (showing 2 of 2). These functions will not be directly callable after loading.\n",
            "WARNING:absl:<keras.layers.recurrent.LSTMCell object at 0x7f2d13bd2d90> has the same name 'LSTMCell' as a built-in Keras object. Consider renaming <class 'keras.layers.recurrent.LSTMCell'> to avoid naming conflicts when loading with `tf.keras.models.load_model`. If renaming is not possible, pass the object in the `custom_objects` parameter of the load function.\n"
          ]
        },
        {
          "output_type": "stream",
          "name": "stdout",
          "text": [
            "\b\b\b\b\b\b\b\b\b\b\b\b\b\b\b\b\b\b\b\b\b\b\b\b\b\b\b\b\b\b\b\b\b\b\b\b\b\b\b\b\b\b\b\b\b\b\b\b\b\b\b\b\b\b\b\b\b\b\b\b\b\b\b\b\b\b\b\b\b\b\b\b\b\b\b\b\b\b\b\b\b\b\b\b\b\b\b\b\b\b\b\b\b\b\b\b\b\b\b\b\b\r47/47 [==============================] - 5s 112ms/step - loss: 4.1476e-05 - root_mean_squared_error: 0.0064 - val_loss: 3.7504e-05 - val_root_mean_squared_error: 0.0061\n",
            "Epoch 423/500\n",
            "47/47 [==============================] - 0s 7ms/step - loss: 4.3384e-05 - root_mean_squared_error: 0.0066 - val_loss: 4.0504e-05 - val_root_mean_squared_error: 0.0064\n",
            "Epoch 424/500\n",
            "47/47 [==============================] - 0s 7ms/step - loss: 3.6722e-05 - root_mean_squared_error: 0.0061 - val_loss: 3.7972e-05 - val_root_mean_squared_error: 0.0062\n",
            "Epoch 425/500\n",
            "47/47 [==============================] - 0s 6ms/step - loss: 4.1484e-05 - root_mean_squared_error: 0.0064 - val_loss: 5.1131e-05 - val_root_mean_squared_error: 0.0072\n",
            "Epoch 426/500\n",
            "47/47 [==============================] - 0s 7ms/step - loss: 4.6676e-05 - root_mean_squared_error: 0.0068 - val_loss: 4.2595e-05 - val_root_mean_squared_error: 0.0065\n",
            "Epoch 427/500\n",
            "47/47 [==============================] - 0s 7ms/step - loss: 3.9636e-05 - root_mean_squared_error: 0.0063 - val_loss: 3.8687e-05 - val_root_mean_squared_error: 0.0062\n",
            "Epoch 428/500\n",
            "47/47 [==============================] - 0s 7ms/step - loss: 4.4690e-05 - root_mean_squared_error: 0.0067 - val_loss: 6.3124e-05 - val_root_mean_squared_error: 0.0079\n",
            "Epoch 429/500\n",
            "47/47 [==============================] - ETA: 0s - loss: 4.6459e-05 - root_mean_squared_error: 0.0068"
          ]
        },
        {
          "output_type": "stream",
          "name": "stderr",
          "text": [
            "WARNING:absl:Found untraced functions such as lstm_cell_layer_call_fn, lstm_cell_layer_call_and_return_conditional_losses while saving (showing 2 of 2). These functions will not be directly callable after loading.\n",
            "WARNING:absl:<keras.layers.recurrent.LSTMCell object at 0x7f2d13bd2d90> has the same name 'LSTMCell' as a built-in Keras object. Consider renaming <class 'keras.layers.recurrent.LSTMCell'> to avoid naming conflicts when loading with `tf.keras.models.load_model`. If renaming is not possible, pass the object in the `custom_objects` parameter of the load function.\n"
          ]
        },
        {
          "output_type": "stream",
          "name": "stdout",
          "text": [
            "\b\b\b\b\b\b\b\b\b\b\b\b\b\b\b\b\b\b\b\b\b\b\b\b\b\b\b\b\b\b\b\b\b\b\b\b\b\b\b\b\b\b\b\b\b\b\b\b\b\b\b\b\b\b\b\b\b\b\b\b\b\b\b\b\b\b\b\b\b\b\b\b\b\b\b\b\b\b\b\b\b\b\b\b\b\b\b\b\b\b\b\b\b\b\b\b\b\b\b\b\b\r47/47 [==============================] - 5s 104ms/step - loss: 4.6459e-05 - root_mean_squared_error: 0.0068 - val_loss: 3.7205e-05 - val_root_mean_squared_error: 0.0061\n",
            "Epoch 430/500\n",
            "47/47 [==============================] - 0s 7ms/step - loss: 3.6208e-05 - root_mean_squared_error: 0.0060 - val_loss: 3.8120e-05 - val_root_mean_squared_error: 0.0062\n",
            "Epoch 431/500\n",
            "47/47 [==============================] - 0s 6ms/step - loss: 5.3345e-05 - root_mean_squared_error: 0.0073 - val_loss: 6.1378e-05 - val_root_mean_squared_error: 0.0078\n",
            "Epoch 432/500\n",
            "47/47 [==============================] - 0s 7ms/step - loss: 5.2157e-05 - root_mean_squared_error: 0.0072 - val_loss: 3.9024e-05 - val_root_mean_squared_error: 0.0062\n",
            "Epoch 433/500\n",
            "47/47 [==============================] - 0s 7ms/step - loss: 4.6447e-05 - root_mean_squared_error: 0.0068 - val_loss: 4.9260e-05 - val_root_mean_squared_error: 0.0070\n",
            "Epoch 434/500\n",
            "47/47 [==============================] - 0s 8ms/step - loss: 3.6981e-05 - root_mean_squared_error: 0.0061 - val_loss: 3.7298e-05 - val_root_mean_squared_error: 0.0061\n",
            "Epoch 435/500\n",
            "47/47 [==============================] - 0s 7ms/step - loss: 3.9753e-05 - root_mean_squared_error: 0.0063 - val_loss: 4.5779e-05 - val_root_mean_squared_error: 0.0068\n",
            "Epoch 436/500\n",
            "47/47 [==============================] - 0s 7ms/step - loss: 3.8658e-05 - root_mean_squared_error: 0.0062 - val_loss: 4.1269e-05 - val_root_mean_squared_error: 0.0064\n",
            "Epoch 437/500\n",
            "47/47 [==============================] - 0s 7ms/step - loss: 4.3872e-05 - root_mean_squared_error: 0.0066 - val_loss: 5.1682e-05 - val_root_mean_squared_error: 0.0072\n",
            "Epoch 438/500\n",
            "47/47 [==============================] - 0s 7ms/step - loss: 3.8310e-05 - root_mean_squared_error: 0.0062 - val_loss: 3.9143e-05 - val_root_mean_squared_error: 0.0063\n",
            "Epoch 439/500\n",
            "47/47 [==============================] - 0s 7ms/step - loss: 5.0428e-05 - root_mean_squared_error: 0.0071 - val_loss: 9.3304e-05 - val_root_mean_squared_error: 0.0097\n",
            "Epoch 440/500\n",
            "38/47 [=======================>......] - ETA: 0s - loss: 4.7821e-05 - root_mean_squared_error: 0.0069"
          ]
        },
        {
          "output_type": "stream",
          "name": "stderr",
          "text": [
            "WARNING:absl:Found untraced functions such as lstm_cell_layer_call_fn, lstm_cell_layer_call_and_return_conditional_losses while saving (showing 2 of 2). These functions will not be directly callable after loading.\n",
            "WARNING:absl:<keras.layers.recurrent.LSTMCell object at 0x7f2d13bd2d90> has the same name 'LSTMCell' as a built-in Keras object. Consider renaming <class 'keras.layers.recurrent.LSTMCell'> to avoid naming conflicts when loading with `tf.keras.models.load_model`. If renaming is not possible, pass the object in the `custom_objects` parameter of the load function.\n"
          ]
        },
        {
          "output_type": "stream",
          "name": "stdout",
          "text": [
            "\b\b\b\b\b\b\b\b\b\b\b\b\b\b\b\b\b\b\b\b\b\b\b\b\b\b\b\b\b\b\b\b\b\b\b\b\b\b\b\b\b\b\b\b\b\b\b\b\b\b\b\b\b\b\b\b\b\b\b\b\b\b\b\b\b\b\b\b\b\b\b\b\b\b\b\b\b\b\b\b\b\b\b\b\b\b\b\b\b\b\b\b\b\b\b\b\b\b\b\b\b\r47/47 [==============================] - 5s 116ms/step - loss: 4.6035e-05 - root_mean_squared_error: 0.0068 - val_loss: 3.6741e-05 - val_root_mean_squared_error: 0.0061\n",
            "Epoch 441/500\n",
            "47/47 [==============================] - 0s 7ms/step - loss: 4.2876e-05 - root_mean_squared_error: 0.0065 - val_loss: 3.8382e-05 - val_root_mean_squared_error: 0.0062\n",
            "Epoch 442/500\n",
            "47/47 [==============================] - 0s 7ms/step - loss: 3.8930e-05 - root_mean_squared_error: 0.0062 - val_loss: 3.7810e-05 - val_root_mean_squared_error: 0.0061\n",
            "Epoch 443/500\n",
            "47/47 [==============================] - 0s 7ms/step - loss: 3.9219e-05 - root_mean_squared_error: 0.0063 - val_loss: 4.8870e-05 - val_root_mean_squared_error: 0.0070\n",
            "Epoch 444/500\n",
            "47/47 [==============================] - 0s 6ms/step - loss: 5.4803e-05 - root_mean_squared_error: 0.0074 - val_loss: 4.2680e-05 - val_root_mean_squared_error: 0.0065\n",
            "Epoch 445/500\n",
            "47/47 [==============================] - 0s 7ms/step - loss: 4.0877e-05 - root_mean_squared_error: 0.0064 - val_loss: 4.1845e-05 - val_root_mean_squared_error: 0.0065\n",
            "Epoch 446/500\n",
            "47/47 [==============================] - 0s 6ms/step - loss: 3.8243e-05 - root_mean_squared_error: 0.0062 - val_loss: 3.8230e-05 - val_root_mean_squared_error: 0.0062\n",
            "Epoch 447/500\n",
            "47/47 [==============================] - 0s 6ms/step - loss: 4.4744e-05 - root_mean_squared_error: 0.0067 - val_loss: 3.8110e-05 - val_root_mean_squared_error: 0.0062\n",
            "Epoch 448/500\n",
            "47/47 [==============================] - 0s 7ms/step - loss: 3.8688e-05 - root_mean_squared_error: 0.0062 - val_loss: 3.8489e-05 - val_root_mean_squared_error: 0.0062\n",
            "Epoch 449/500\n",
            "47/47 [==============================] - 0s 6ms/step - loss: 3.6273e-05 - root_mean_squared_error: 0.0060 - val_loss: 3.9622e-05 - val_root_mean_squared_error: 0.0063\n",
            "Epoch 450/500\n",
            "47/47 [==============================] - 0s 6ms/step - loss: 4.0424e-05 - root_mean_squared_error: 0.0064 - val_loss: 4.1356e-05 - val_root_mean_squared_error: 0.0064\n",
            "Epoch 451/500\n",
            "38/47 [=======================>......] - ETA: 0s - loss: 4.6922e-05 - root_mean_squared_error: 0.0068"
          ]
        },
        {
          "output_type": "stream",
          "name": "stderr",
          "text": [
            "WARNING:absl:Found untraced functions such as lstm_cell_layer_call_fn, lstm_cell_layer_call_and_return_conditional_losses while saving (showing 2 of 2). These functions will not be directly callable after loading.\n",
            "WARNING:absl:<keras.layers.recurrent.LSTMCell object at 0x7f2d13bd2d90> has the same name 'LSTMCell' as a built-in Keras object. Consider renaming <class 'keras.layers.recurrent.LSTMCell'> to avoid naming conflicts when loading with `tf.keras.models.load_model`. If renaming is not possible, pass the object in the `custom_objects` parameter of the load function.\n"
          ]
        },
        {
          "output_type": "stream",
          "name": "stdout",
          "text": [
            "\b\b\b\b\b\b\b\b\b\b\b\b\b\b\b\b\b\b\b\b\b\b\b\b\b\b\b\b\b\b\b\b\b\b\b\b\b\b\b\b\b\b\b\b\b\b\b\b\b\b\b\b\b\b\b\b\b\b\b\b\b\b\b\b\b\b\b\b\b\b\b\b\b\b\b\b\b\b\b\b\b\b\b\b\b\b\b\b\b\b\b\b\b\b\b\b\b\b\b\b\b\r47/47 [==============================] - 5s 113ms/step - loss: 4.7215e-05 - root_mean_squared_error: 0.0069 - val_loss: 3.6455e-05 - val_root_mean_squared_error: 0.0060\n",
            "Epoch 452/500\n",
            "47/47 [==============================] - 0s 6ms/step - loss: 4.3664e-05 - root_mean_squared_error: 0.0066 - val_loss: 5.6228e-05 - val_root_mean_squared_error: 0.0075\n",
            "Epoch 453/500\n",
            "47/47 [==============================] - 0s 6ms/step - loss: 4.3659e-05 - root_mean_squared_error: 0.0066 - val_loss: 9.8099e-05 - val_root_mean_squared_error: 0.0099\n",
            "Epoch 454/500\n",
            "47/47 [==============================] - 0s 6ms/step - loss: 5.2090e-05 - root_mean_squared_error: 0.0072 - val_loss: 4.8172e-05 - val_root_mean_squared_error: 0.0069\n",
            "Epoch 455/500\n",
            "47/47 [==============================] - ETA: 0s - loss: 3.7964e-05 - root_mean_squared_error: 0.0062"
          ]
        },
        {
          "output_type": "stream",
          "name": "stderr",
          "text": [
            "WARNING:absl:Found untraced functions such as lstm_cell_layer_call_fn, lstm_cell_layer_call_and_return_conditional_losses while saving (showing 2 of 2). These functions will not be directly callable after loading.\n",
            "WARNING:absl:<keras.layers.recurrent.LSTMCell object at 0x7f2d13bd2d90> has the same name 'LSTMCell' as a built-in Keras object. Consider renaming <class 'keras.layers.recurrent.LSTMCell'> to avoid naming conflicts when loading with `tf.keras.models.load_model`. If renaming is not possible, pass the object in the `custom_objects` parameter of the load function.\n"
          ]
        },
        {
          "output_type": "stream",
          "name": "stdout",
          "text": [
            "\b\b\b\b\b\b\b\b\b\b\b\b\b\b\b\b\b\b\b\b\b\b\b\b\b\b\b\b\b\b\b\b\b\b\b\b\b\b\b\b\b\b\b\b\b\b\b\b\b\b\b\b\b\b\b\b\b\b\b\b\b\b\b\b\b\b\b\b\b\b\b\b\b\b\b\b\b\b\b\b\b\b\b\b\b\b\b\b\b\b\b\b\b\b\b\b\b\b\b\b\b\r47/47 [==============================] - 5s 104ms/step - loss: 3.7964e-05 - root_mean_squared_error: 0.0062 - val_loss: 3.6223e-05 - val_root_mean_squared_error: 0.0060\n",
            "Epoch 456/500\n",
            "47/47 [==============================] - 0s 6ms/step - loss: 3.5447e-05 - root_mean_squared_error: 0.0060 - val_loss: 4.0490e-05 - val_root_mean_squared_error: 0.0064\n",
            "Epoch 457/500\n",
            "47/47 [==============================] - 0s 6ms/step - loss: 4.3701e-05 - root_mean_squared_error: 0.0066 - val_loss: 3.6322e-05 - val_root_mean_squared_error: 0.0060\n",
            "Epoch 458/500\n",
            "47/47 [==============================] - 0s 7ms/step - loss: 3.4474e-05 - root_mean_squared_error: 0.0059 - val_loss: 3.6650e-05 - val_root_mean_squared_error: 0.0061\n",
            "Epoch 459/500\n",
            "47/47 [==============================] - 0s 6ms/step - loss: 3.5528e-05 - root_mean_squared_error: 0.0060 - val_loss: 4.9809e-05 - val_root_mean_squared_error: 0.0071\n",
            "Epoch 460/500\n",
            "47/47 [==============================] - 0s 6ms/step - loss: 3.6513e-05 - root_mean_squared_error: 0.0060 - val_loss: 4.2655e-05 - val_root_mean_squared_error: 0.0065\n",
            "Epoch 461/500\n",
            "47/47 [==============================] - 0s 7ms/step - loss: 3.7597e-05 - root_mean_squared_error: 0.0061 - val_loss: 4.1394e-05 - val_root_mean_squared_error: 0.0064\n",
            "Epoch 462/500\n",
            "40/47 [========================>.....] - ETA: 0s - loss: 3.6940e-05 - root_mean_squared_error: 0.0061"
          ]
        },
        {
          "output_type": "stream",
          "name": "stderr",
          "text": [
            "WARNING:absl:Found untraced functions such as lstm_cell_layer_call_fn, lstm_cell_layer_call_and_return_conditional_losses while saving (showing 2 of 2). These functions will not be directly callable after loading.\n",
            "WARNING:absl:<keras.layers.recurrent.LSTMCell object at 0x7f2d13bd2d90> has the same name 'LSTMCell' as a built-in Keras object. Consider renaming <class 'keras.layers.recurrent.LSTMCell'> to avoid naming conflicts when loading with `tf.keras.models.load_model`. If renaming is not possible, pass the object in the `custom_objects` parameter of the load function.\n"
          ]
        },
        {
          "output_type": "stream",
          "name": "stdout",
          "text": [
            "\b\b\b\b\b\b\b\b\b\b\b\b\b\b\b\b\b\b\b\b\b\b\b\b\b\b\b\b\b\b\b\b\b\b\b\b\b\b\b\b\b\b\b\b\b\b\b\b\b\b\b\b\b\b\b\b\b\b\b\b\b\b\b\b\b\b\b\b\b\b\b\b\b\b\b\b\b\b\b\b\b\b\b\b\b\b\b\b\b\b\b\b\b\b\b\b\b\b\b\b\b\r47/47 [==============================] - 5s 114ms/step - loss: 3.7579e-05 - root_mean_squared_error: 0.0061 - val_loss: 3.5892e-05 - val_root_mean_squared_error: 0.0060\n",
            "Epoch 463/500\n",
            "47/47 [==============================] - 0s 6ms/step - loss: 4.6170e-05 - root_mean_squared_error: 0.0068 - val_loss: 7.9099e-05 - val_root_mean_squared_error: 0.0089\n",
            "Epoch 464/500\n",
            "47/47 [==============================] - 0s 6ms/step - loss: 4.6365e-05 - root_mean_squared_error: 0.0068 - val_loss: 4.2469e-05 - val_root_mean_squared_error: 0.0065\n",
            "Epoch 465/500\n",
            "47/47 [==============================] - 0s 7ms/step - loss: 3.6369e-05 - root_mean_squared_error: 0.0060 - val_loss: 3.6489e-05 - val_root_mean_squared_error: 0.0060\n",
            "Epoch 466/500\n",
            "47/47 [==============================] - 0s 7ms/step - loss: 3.7029e-05 - root_mean_squared_error: 0.0061 - val_loss: 4.6956e-05 - val_root_mean_squared_error: 0.0069\n",
            "Epoch 467/500\n",
            "47/47 [==============================] - 0s 6ms/step - loss: 3.6592e-05 - root_mean_squared_error: 0.0060 - val_loss: 4.3231e-05 - val_root_mean_squared_error: 0.0066\n",
            "Epoch 468/500\n",
            "47/47 [==============================] - 0s 7ms/step - loss: 4.3943e-05 - root_mean_squared_error: 0.0066 - val_loss: 3.6400e-05 - val_root_mean_squared_error: 0.0060\n",
            "Epoch 469/500\n",
            "47/47 [==============================] - 0s 6ms/step - loss: 4.1646e-05 - root_mean_squared_error: 0.0065 - val_loss: 3.8289e-05 - val_root_mean_squared_error: 0.0062\n",
            "Epoch 470/500\n",
            "47/47 [==============================] - 0s 7ms/step - loss: 3.9811e-05 - root_mean_squared_error: 0.0063 - val_loss: 5.0701e-05 - val_root_mean_squared_error: 0.0071\n",
            "Epoch 471/500\n",
            "47/47 [==============================] - 0s 7ms/step - loss: 3.9503e-05 - root_mean_squared_error: 0.0063 - val_loss: 4.0581e-05 - val_root_mean_squared_error: 0.0064\n",
            "Epoch 472/500\n",
            "47/47 [==============================] - 0s 7ms/step - loss: 3.9785e-05 - root_mean_squared_error: 0.0063 - val_loss: 9.0302e-05 - val_root_mean_squared_error: 0.0095\n",
            "Epoch 473/500\n",
            "47/47 [==============================] - 0s 6ms/step - loss: 4.5208e-05 - root_mean_squared_error: 0.0067 - val_loss: 3.6410e-05 - val_root_mean_squared_error: 0.0060\n",
            "Epoch 474/500\n",
            "47/47 [==============================] - 0s 7ms/step - loss: 3.5778e-05 - root_mean_squared_error: 0.0060 - val_loss: 3.6311e-05 - val_root_mean_squared_error: 0.0060\n",
            "Epoch 475/500\n",
            "47/47 [==============================] - 0s 7ms/step - loss: 4.0694e-05 - root_mean_squared_error: 0.0064 - val_loss: 5.6582e-05 - val_root_mean_squared_error: 0.0075\n",
            "Epoch 476/500\n",
            "47/47 [==============================] - 0s 7ms/step - loss: 4.0797e-05 - root_mean_squared_error: 0.0064 - val_loss: 3.6750e-05 - val_root_mean_squared_error: 0.0061\n",
            "Epoch 477/500\n",
            "47/47 [==============================] - 0s 7ms/step - loss: 3.9847e-05 - root_mean_squared_error: 0.0063 - val_loss: 3.5895e-05 - val_root_mean_squared_error: 0.0060\n",
            "Epoch 478/500\n",
            "47/47 [==============================] - 0s 7ms/step - loss: 3.4326e-05 - root_mean_squared_error: 0.0059 - val_loss: 4.2071e-05 - val_root_mean_squared_error: 0.0065\n",
            "Epoch 479/500\n",
            "47/47 [==============================] - 0s 7ms/step - loss: 3.8502e-05 - root_mean_squared_error: 0.0062 - val_loss: 4.5117e-05 - val_root_mean_squared_error: 0.0067\n",
            "Epoch 480/500\n",
            "47/47 [==============================] - 0s 7ms/step - loss: 4.0362e-05 - root_mean_squared_error: 0.0064 - val_loss: 4.6272e-05 - val_root_mean_squared_error: 0.0068\n",
            "Epoch 481/500\n",
            "47/47 [==============================] - 0s 7ms/step - loss: 4.2984e-05 - root_mean_squared_error: 0.0066 - val_loss: 4.1305e-05 - val_root_mean_squared_error: 0.0064\n",
            "Epoch 482/500\n",
            "47/47 [==============================] - 0s 7ms/step - loss: 3.4708e-05 - root_mean_squared_error: 0.0059 - val_loss: 3.9350e-05 - val_root_mean_squared_error: 0.0063\n",
            "Epoch 483/500\n",
            "39/47 [=======================>......] - ETA: 0s - loss: 4.5869e-05 - root_mean_squared_error: 0.0068"
          ]
        },
        {
          "output_type": "stream",
          "name": "stderr",
          "text": [
            "WARNING:absl:Found untraced functions such as lstm_cell_layer_call_fn, lstm_cell_layer_call_and_return_conditional_losses while saving (showing 2 of 2). These functions will not be directly callable after loading.\n",
            "WARNING:absl:<keras.layers.recurrent.LSTMCell object at 0x7f2d13bd2d90> has the same name 'LSTMCell' as a built-in Keras object. Consider renaming <class 'keras.layers.recurrent.LSTMCell'> to avoid naming conflicts when loading with `tf.keras.models.load_model`. If renaming is not possible, pass the object in the `custom_objects` parameter of the load function.\n"
          ]
        },
        {
          "output_type": "stream",
          "name": "stdout",
          "text": [
            "\b\b\b\b\b\b\b\b\b\b\b\b\b\b\b\b\b\b\b\b\b\b\b\b\b\b\b\b\b\b\b\b\b\b\b\b\b\b\b\b\b\b\b\b\b\b\b\b\b\b\b\b\b\b\b\b\b\b\b\b\b\b\b\b\b\b\b\b\b\b\b\b\b\b\b\b\b\b\b\b\b\b\b\b\b\b\b\b\b\b\b\b\b\b\b\b\b\b\b\b\b\r47/47 [==============================] - 5s 112ms/step - loss: 4.3890e-05 - root_mean_squared_error: 0.0066 - val_loss: 3.5409e-05 - val_root_mean_squared_error: 0.0060\n",
            "Epoch 484/500\n",
            "47/47 [==============================] - 0s 7ms/step - loss: 4.7001e-05 - root_mean_squared_error: 0.0069 - val_loss: 3.5914e-05 - val_root_mean_squared_error: 0.0060\n",
            "Epoch 485/500\n",
            "47/47 [==============================] - 0s 6ms/step - loss: 4.1753e-05 - root_mean_squared_error: 0.0065 - val_loss: 3.5612e-05 - val_root_mean_squared_error: 0.0060\n",
            "Epoch 486/500\n",
            "47/47 [==============================] - 0s 6ms/step - loss: 3.9193e-05 - root_mean_squared_error: 0.0063 - val_loss: 4.3114e-05 - val_root_mean_squared_error: 0.0066\n",
            "Epoch 487/500\n",
            "47/47 [==============================] - 0s 6ms/step - loss: 3.8315e-05 - root_mean_squared_error: 0.0062 - val_loss: 4.5040e-05 - val_root_mean_squared_error: 0.0067\n",
            "Epoch 488/500\n",
            "47/47 [==============================] - 0s 6ms/step - loss: 3.6158e-05 - root_mean_squared_error: 0.0060 - val_loss: 4.8723e-05 - val_root_mean_squared_error: 0.0070\n",
            "Epoch 489/500\n",
            "47/47 [==============================] - 0s 6ms/step - loss: 4.1616e-05 - root_mean_squared_error: 0.0065 - val_loss: 3.5585e-05 - val_root_mean_squared_error: 0.0060\n",
            "Epoch 490/500\n",
            "47/47 [==============================] - 0s 7ms/step - loss: 3.7794e-05 - root_mean_squared_error: 0.0061 - val_loss: 3.6811e-05 - val_root_mean_squared_error: 0.0061\n",
            "Epoch 491/500\n",
            "47/47 [==============================] - 0s 7ms/step - loss: 4.0287e-05 - root_mean_squared_error: 0.0063 - val_loss: 3.6093e-05 - val_root_mean_squared_error: 0.0060\n",
            "Epoch 492/500\n",
            "47/47 [==============================] - 0s 7ms/step - loss: 3.6382e-05 - root_mean_squared_error: 0.0060 - val_loss: 3.9130e-05 - val_root_mean_squared_error: 0.0063\n",
            "Epoch 493/500\n",
            "47/47 [==============================] - 0s 6ms/step - loss: 5.1406e-05 - root_mean_squared_error: 0.0072 - val_loss: 5.0177e-05 - val_root_mean_squared_error: 0.0071\n",
            "Epoch 494/500\n",
            "47/47 [==============================] - 0s 7ms/step - loss: 4.0395e-05 - root_mean_squared_error: 0.0064 - val_loss: 5.3059e-05 - val_root_mean_squared_error: 0.0073\n",
            "Epoch 495/500\n",
            "47/47 [==============================] - 0s 7ms/step - loss: 4.5979e-05 - root_mean_squared_error: 0.0068 - val_loss: 3.7730e-05 - val_root_mean_squared_error: 0.0061\n",
            "Epoch 496/500\n",
            "47/47 [==============================] - 0s 6ms/step - loss: 3.6375e-05 - root_mean_squared_error: 0.0060 - val_loss: 3.5460e-05 - val_root_mean_squared_error: 0.0060\n",
            "Epoch 497/500\n",
            "47/47 [==============================] - 0s 7ms/step - loss: 3.9221e-05 - root_mean_squared_error: 0.0063 - val_loss: 4.1730e-05 - val_root_mean_squared_error: 0.0065\n",
            "Epoch 498/500\n",
            "47/47 [==============================] - 0s 7ms/step - loss: 4.7020e-05 - root_mean_squared_error: 0.0069 - val_loss: 9.5685e-05 - val_root_mean_squared_error: 0.0098\n",
            "Epoch 499/500\n",
            "47/47 [==============================] - ETA: 0s - loss: 4.1339e-05 - root_mean_squared_error: 0.0064"
          ]
        },
        {
          "output_type": "stream",
          "name": "stderr",
          "text": [
            "WARNING:absl:Found untraced functions such as lstm_cell_layer_call_fn, lstm_cell_layer_call_and_return_conditional_losses while saving (showing 2 of 2). These functions will not be directly callable after loading.\n",
            "WARNING:absl:<keras.layers.recurrent.LSTMCell object at 0x7f2d13bd2d90> has the same name 'LSTMCell' as a built-in Keras object. Consider renaming <class 'keras.layers.recurrent.LSTMCell'> to avoid naming conflicts when loading with `tf.keras.models.load_model`. If renaming is not possible, pass the object in the `custom_objects` parameter of the load function.\n"
          ]
        },
        {
          "output_type": "stream",
          "name": "stdout",
          "text": [
            "\b\b\b\b\b\b\b\b\b\b\b\b\b\b\b\b\b\b\b\b\b\b\b\b\b\b\b\b\b\b\b\b\b\b\b\b\b\b\b\b\b\b\b\b\b\b\b\b\b\b\b\b\b\b\b\b\b\b\b\b\b\b\b\b\b\b\b\b\b\b\b\b\b\b\b\b\b\b\b\b\b\b\b\b\b\b\b\b\b\b\b\b\b\b\b\b\b\b\b\b\b\r47/47 [==============================] - 5s 106ms/step - loss: 4.1339e-05 - root_mean_squared_error: 0.0064 - val_loss: 3.5268e-05 - val_root_mean_squared_error: 0.0059\n",
            "Epoch 500/500\n",
            "47/47 [==============================] - 0s 6ms/step - loss: 3.4438e-05 - root_mean_squared_error: 0.0059 - val_loss: 5.6553e-05 - val_root_mean_squared_error: 0.0075\n"
          ]
        },
        {
          "output_type": "execute_result",
          "data": {
            "text/plain": [
              "<keras.callbacks.History at 0x7f2d13be9610>"
            ]
          },
          "metadata": {},
          "execution_count": 10
        }
      ]
    },
    {
      "cell_type": "code",
      "source": [
        "from tensorflow.keras.models import load_model\n",
        "model1 = load_model('model1/')"
      ],
      "metadata": {
        "id": "1CfYX47N4-nC"
      },
      "execution_count": 11,
      "outputs": []
    },
    {
      "cell_type": "code",
      "source": [
        "train_predictions = model1.predict(X_train1).flatten()\n",
        "train_results = pd.DataFrame(data={'Train Predictions':train_predictions, 'Actuals':y_train1})\n",
        "train_results"
      ],
      "metadata": {
        "colab": {
          "base_uri": "https://localhost:8080/",
          "height": 424
        },
        "id": "ZiDZ0cc85D7Z",
        "outputId": "0a983e0d-2dcd-45c8-fa78-4d863273508b"
      },
      "execution_count": 12,
      "outputs": [
        {
          "output_type": "execute_result",
          "data": {
            "text/plain": [
              "      Train Predictions  Actuals\n",
              "0              0.801826     0.80\n",
              "1              0.800104     0.81\n",
              "2              0.806159     0.81\n",
              "3              0.810325     0.81\n",
              "4              0.809920     0.81\n",
              "...                 ...      ...\n",
              "1495           0.809932     0.80\n",
              "1496           0.796031     0.79\n",
              "1497           0.782798     0.78\n",
              "1498           0.773316     0.78\n",
              "1499           0.773212     0.77\n",
              "\n",
              "[1500 rows x 2 columns]"
            ],
            "text/html": [
              "\n",
              "  <div id=\"df-d62ea04a-71a7-4366-81ff-a6e70dfc654f\">\n",
              "    <div class=\"colab-df-container\">\n",
              "      <div>\n",
              "<style scoped>\n",
              "    .dataframe tbody tr th:only-of-type {\n",
              "        vertical-align: middle;\n",
              "    }\n",
              "\n",
              "    .dataframe tbody tr th {\n",
              "        vertical-align: top;\n",
              "    }\n",
              "\n",
              "    .dataframe thead th {\n",
              "        text-align: right;\n",
              "    }\n",
              "</style>\n",
              "<table border=\"1\" class=\"dataframe\">\n",
              "  <thead>\n",
              "    <tr style=\"text-align: right;\">\n",
              "      <th></th>\n",
              "      <th>Train Predictions</th>\n",
              "      <th>Actuals</th>\n",
              "    </tr>\n",
              "  </thead>\n",
              "  <tbody>\n",
              "    <tr>\n",
              "      <th>0</th>\n",
              "      <td>0.801826</td>\n",
              "      <td>0.80</td>\n",
              "    </tr>\n",
              "    <tr>\n",
              "      <th>1</th>\n",
              "      <td>0.800104</td>\n",
              "      <td>0.81</td>\n",
              "    </tr>\n",
              "    <tr>\n",
              "      <th>2</th>\n",
              "      <td>0.806159</td>\n",
              "      <td>0.81</td>\n",
              "    </tr>\n",
              "    <tr>\n",
              "      <th>3</th>\n",
              "      <td>0.810325</td>\n",
              "      <td>0.81</td>\n",
              "    </tr>\n",
              "    <tr>\n",
              "      <th>4</th>\n",
              "      <td>0.809920</td>\n",
              "      <td>0.81</td>\n",
              "    </tr>\n",
              "    <tr>\n",
              "      <th>...</th>\n",
              "      <td>...</td>\n",
              "      <td>...</td>\n",
              "    </tr>\n",
              "    <tr>\n",
              "      <th>1495</th>\n",
              "      <td>0.809932</td>\n",
              "      <td>0.80</td>\n",
              "    </tr>\n",
              "    <tr>\n",
              "      <th>1496</th>\n",
              "      <td>0.796031</td>\n",
              "      <td>0.79</td>\n",
              "    </tr>\n",
              "    <tr>\n",
              "      <th>1497</th>\n",
              "      <td>0.782798</td>\n",
              "      <td>0.78</td>\n",
              "    </tr>\n",
              "    <tr>\n",
              "      <th>1498</th>\n",
              "      <td>0.773316</td>\n",
              "      <td>0.78</td>\n",
              "    </tr>\n",
              "    <tr>\n",
              "      <th>1499</th>\n",
              "      <td>0.773212</td>\n",
              "      <td>0.77</td>\n",
              "    </tr>\n",
              "  </tbody>\n",
              "</table>\n",
              "<p>1500 rows × 2 columns</p>\n",
              "</div>\n",
              "      <button class=\"colab-df-convert\" onclick=\"convertToInteractive('df-d62ea04a-71a7-4366-81ff-a6e70dfc654f')\"\n",
              "              title=\"Convert this dataframe to an interactive table.\"\n",
              "              style=\"display:none;\">\n",
              "        \n",
              "  <svg xmlns=\"http://www.w3.org/2000/svg\" height=\"24px\"viewBox=\"0 0 24 24\"\n",
              "       width=\"24px\">\n",
              "    <path d=\"M0 0h24v24H0V0z\" fill=\"none\"/>\n",
              "    <path d=\"M18.56 5.44l.94 2.06.94-2.06 2.06-.94-2.06-.94-.94-2.06-.94 2.06-2.06.94zm-11 1L8.5 8.5l.94-2.06 2.06-.94-2.06-.94L8.5 2.5l-.94 2.06-2.06.94zm10 10l.94 2.06.94-2.06 2.06-.94-2.06-.94-.94-2.06-.94 2.06-2.06.94z\"/><path d=\"M17.41 7.96l-1.37-1.37c-.4-.4-.92-.59-1.43-.59-.52 0-1.04.2-1.43.59L10.3 9.45l-7.72 7.72c-.78.78-.78 2.05 0 2.83L4 21.41c.39.39.9.59 1.41.59.51 0 1.02-.2 1.41-.59l7.78-7.78 2.81-2.81c.8-.78.8-2.07 0-2.86zM5.41 20L4 18.59l7.72-7.72 1.47 1.35L5.41 20z\"/>\n",
              "  </svg>\n",
              "      </button>\n",
              "      \n",
              "  <style>\n",
              "    .colab-df-container {\n",
              "      display:flex;\n",
              "      flex-wrap:wrap;\n",
              "      gap: 12px;\n",
              "    }\n",
              "\n",
              "    .colab-df-convert {\n",
              "      background-color: #E8F0FE;\n",
              "      border: none;\n",
              "      border-radius: 50%;\n",
              "      cursor: pointer;\n",
              "      display: none;\n",
              "      fill: #1967D2;\n",
              "      height: 32px;\n",
              "      padding: 0 0 0 0;\n",
              "      width: 32px;\n",
              "    }\n",
              "\n",
              "    .colab-df-convert:hover {\n",
              "      background-color: #E2EBFA;\n",
              "      box-shadow: 0px 1px 2px rgba(60, 64, 67, 0.3), 0px 1px 3px 1px rgba(60, 64, 67, 0.15);\n",
              "      fill: #174EA6;\n",
              "    }\n",
              "\n",
              "    [theme=dark] .colab-df-convert {\n",
              "      background-color: #3B4455;\n",
              "      fill: #D2E3FC;\n",
              "    }\n",
              "\n",
              "    [theme=dark] .colab-df-convert:hover {\n",
              "      background-color: #434B5C;\n",
              "      box-shadow: 0px 1px 3px 1px rgba(0, 0, 0, 0.15);\n",
              "      filter: drop-shadow(0px 1px 2px rgba(0, 0, 0, 0.3));\n",
              "      fill: #FFFFFF;\n",
              "    }\n",
              "  </style>\n",
              "\n",
              "      <script>\n",
              "        const buttonEl =\n",
              "          document.querySelector('#df-d62ea04a-71a7-4366-81ff-a6e70dfc654f button.colab-df-convert');\n",
              "        buttonEl.style.display =\n",
              "          google.colab.kernel.accessAllowed ? 'block' : 'none';\n",
              "\n",
              "        async function convertToInteractive(key) {\n",
              "          const element = document.querySelector('#df-d62ea04a-71a7-4366-81ff-a6e70dfc654f');\n",
              "          const dataTable =\n",
              "            await google.colab.kernel.invokeFunction('convertToInteractive',\n",
              "                                                     [key], {});\n",
              "          if (!dataTable) return;\n",
              "\n",
              "          const docLinkHtml = 'Like what you see? Visit the ' +\n",
              "            '<a target=\"_blank\" href=https://colab.research.google.com/notebooks/data_table.ipynb>data table notebook</a>'\n",
              "            + ' to learn more about interactive tables.';\n",
              "          element.innerHTML = '';\n",
              "          dataTable['output_type'] = 'display_data';\n",
              "          await google.colab.output.renderOutput(dataTable, element);\n",
              "          const docLink = document.createElement('div');\n",
              "          docLink.innerHTML = docLinkHtml;\n",
              "          element.appendChild(docLink);\n",
              "        }\n",
              "      </script>\n",
              "    </div>\n",
              "  </div>\n",
              "  "
            ]
          },
          "metadata": {},
          "execution_count": 12
        }
      ]
    },
    {
      "cell_type": "code",
      "source": [
        "import matplotlib.pyplot as plt\n",
        "plt.plot(train_results['Train Predictions'][1000:1400], label='Predictions')\n",
        "plt.plot(train_results['Actuals'][1000:1400], label='Actuals')\n",
        "plt.legend()"
      ],
      "metadata": {
        "colab": {
          "base_uri": "https://localhost:8080/",
          "height": 282
        },
        "id": "5ZMWl7VS5Hna",
        "outputId": "250e2e92-b7ce-4e1c-91c0-aa736d796451"
      },
      "execution_count": 13,
      "outputs": [
        {
          "output_type": "execute_result",
          "data": {
            "text/plain": [
              "<matplotlib.legend.Legend at 0x7f2d091eb090>"
            ]
          },
          "metadata": {},
          "execution_count": 13
        },
        {
          "output_type": "display_data",
          "data": {
            "text/plain": [
              "<Figure size 432x288 with 1 Axes>"
            ],
            "image/png": "[encoded data removed]"
          },
          "metadata": {
            "needs_background": "light"
          }
        }
      ]
    },
    {
      "cell_type": "code",
      "source": [
        "import matplotlib.pyplot as plt\n",
        "plt.plot(train_results['Train Predictions'][1:150], label='Predictions')\n",
        "plt.plot(train_results['Actuals'][1:150], label='Actuals')\n",
        "plt.legend()"
      ],
      "metadata": {
        "colab": {
          "base_uri": "https://localhost:8080/",
          "height": 282
        },
        "id": "HV__6l035Lia",
        "outputId": "ae9775d5-a0aa-49d7-ca7a-1ae5cd6f6ad5"
      },
      "execution_count": 14,
      "outputs": [
        {
          "output_type": "execute_result",
          "data": {
            "text/plain": [
              "<matplotlib.legend.Legend at 0x7f2d139ecd50>"
            ]
          },
          "metadata": {},
          "execution_count": 14
        },
        {
          "output_type": "display_data",
          "data": {
            "text/plain": [
              "<Figure size 432x288 with 1 Axes>"
            ],
            "image/png": "[encoded data removed]"
          },
          "metadata": {
            "needs_background": "light"
          }
        }
      ]
    },
    {
      "cell_type": "code",
      "source": [
        "keras.metrics.mean_absolute_error(y_train1, train_predictions).numpy()"
      ],
      "metadata": {
        "colab": {
          "base_uri": "https://localhost:8080/"
        },
        "id": "wGdkUwd05Nag",
        "outputId": "19b17bb5-1ccc-4931-81df-bdb7d6167599"
      },
      "execution_count": 15,
      "outputs": [
        {
          "output_type": "execute_result",
          "data": {
            "text/plain": [
              "0.0045606606"
            ]
          },
          "metadata": {},
          "execution_count": 15
        }
      ]
    },
    {
      "cell_type": "code",
      "source": [
        "val_predictions = model1.predict(X_val1).flatten()\n",
        "val_results = pd.DataFrame(data={'Val Predictions':val_predictions, 'Actuals':y_val1})\n",
        "val_results"
      ],
      "metadata": {
        "colab": {
          "base_uri": "https://localhost:8080/",
          "height": 424
        },
        "id": "SEddZFDb5RoM",
        "outputId": "172cdf58-0ffe-4ec9-b7a1-7e241869da31"
      },
      "execution_count": 16,
      "outputs": [
        {
          "output_type": "execute_result",
          "data": {
            "text/plain": [
              "     Val Predictions  Actuals\n",
              "0           0.769279     0.77\n",
              "1           0.768439     0.77\n",
              "2           0.770240     0.77\n",
              "3           0.771772     0.77\n",
              "4           0.773327     0.78\n",
              "..               ...      ...\n",
              "245         0.770733     0.77\n",
              "246         0.774830     0.77\n",
              "247         0.776301     0.78\n",
              "248         0.782479     0.79\n",
              "249         0.792775     0.79\n",
              "\n",
              "[250 rows x 2 columns]"
            ],
            "text/html": [
              "\n",
              "  <div id=\"df-9eb0415e-d19e-45b5-b6dd-1f658af13609\">\n",
              "    <div class=\"colab-df-container\">\n",
              "      <div>\n",
              "<style scoped>\n",
              "    .dataframe tbody tr th:only-of-type {\n",
              "        vertical-align: middle;\n",
              "    }\n",
              "\n",
              "    .dataframe tbody tr th {\n",
              "        vertical-align: top;\n",
              "    }\n",
              "\n",
              "    .dataframe thead th {\n",
              "        text-align: right;\n",
              "    }\n",
              "</style>\n",
              "<table border=\"1\" class=\"dataframe\">\n",
              "  <thead>\n",
              "    <tr style=\"text-align: right;\">\n",
              "      <th></th>\n",
              "      <th>Val Predictions</th>\n",
              "      <th>Actuals</th>\n",
              "    </tr>\n",
              "  </thead>\n",
              "  <tbody>\n",
              "    <tr>\n",
              "      <th>0</th>\n",
              "      <td>0.769279</td>\n",
              "      <td>0.77</td>\n",
              "    </tr>\n",
              "    <tr>\n",
              "      <th>1</th>\n",
              "      <td>0.768439</td>\n",
              "      <td>0.77</td>\n",
              "    </tr>\n",
              "    <tr>\n",
              "      <th>2</th>\n",
              "      <td>0.770240</td>\n",
              "      <td>0.77</td>\n",
              "    </tr>\n",
              "    <tr>\n",
              "      <th>3</th>\n",
              "      <td>0.771772</td>\n",
              "      <td>0.77</td>\n",
              "    </tr>\n",
              "    <tr>\n",
              "      <th>4</th>\n",
              "      <td>0.773327</td>\n",
              "      <td>0.78</td>\n",
              "    </tr>\n",
              "    <tr>\n",
              "      <th>...</th>\n",
              "      <td>...</td>\n",
              "      <td>...</td>\n",
              "    </tr>\n",
              "    <tr>\n",
              "      <th>245</th>\n",
              "      <td>0.770733</td>\n",
              "      <td>0.77</td>\n",
              "    </tr>\n",
              "    <tr>\n",
              "      <th>246</th>\n",
              "      <td>0.774830</td>\n",
              "      <td>0.77</td>\n",
              "    </tr>\n",
              "    <tr>\n",
              "      <th>247</th>\n",
              "      <td>0.776301</td>\n",
              "      <td>0.78</td>\n",
              "    </tr>\n",
              "    <tr>\n",
              "      <th>248</th>\n",
              "      <td>0.782479</td>\n",
              "      <td>0.79</td>\n",
              "    </tr>\n",
              "    <tr>\n",
              "      <th>249</th>\n",
              "      <td>0.792775</td>\n",
              "      <td>0.79</td>\n",
              "    </tr>\n",
              "  </tbody>\n",
              "</table>\n",
              "<p>250 rows × 2 columns</p>\n",
              "</div>\n",
              "      <button class=\"colab-df-convert\" onclick=\"convertToInteractive('df-9eb0415e-d19e-45b5-b6dd-1f658af13609')\"\n",
              "              title=\"Convert this dataframe to an interactive table.\"\n",
              "              style=\"display:none;\">\n",
              "        \n",
              "  <svg xmlns=\"http://www.w3.org/2000/svg\" height=\"24px\"viewBox=\"0 0 24 24\"\n",
              "       width=\"24px\">\n",
              "    <path d=\"M0 0h24v24H0V0z\" fill=\"none\"/>\n",
              "    <path d=\"M18.56 5.44l.94 2.06.94-2.06 2.06-.94-2.06-.94-.94-2.06-.94 2.06-2.06.94zm-11 1L8.5 8.5l.94-2.06 2.06-.94-2.06-.94L8.5 2.5l-.94 2.06-2.06.94zm10 10l.94 2.06.94-2.06 2.06-.94-2.06-.94-.94-2.06-.94 2.06-2.06.94z\"/><path d=\"M17.41 7.96l-1.37-1.37c-.4-.4-.92-.59-1.43-.59-.52 0-1.04.2-1.43.59L10.3 9.45l-7.72 7.72c-.78.78-.78 2.05 0 2.83L4 21.41c.39.39.9.59 1.41.59.51 0 1.02-.2 1.41-.59l7.78-7.78 2.81-2.81c.8-.78.8-2.07 0-2.86zM5.41 20L4 18.59l7.72-7.72 1.47 1.35L5.41 20z\"/>\n",
              "  </svg>\n",
              "      </button>\n",
              "      \n",
              "  <style>\n",
              "    .colab-df-container {\n",
              "      display:flex;\n",
              "      flex-wrap:wrap;\n",
              "      gap: 12px;\n",
              "    }\n",
              "\n",
              "    .colab-df-convert {\n",
              "      background-color: #E8F0FE;\n",
              "      border: none;\n",
              "      border-radius: 50%;\n",
              "      cursor: pointer;\n",
              "      display: none;\n",
              "      fill: #1967D2;\n",
              "      height: 32px;\n",
              "      padding: 0 0 0 0;\n",
              "      width: 32px;\n",
              "    }\n",
              "\n",
              "    .colab-df-convert:hover {\n",
              "      background-color: #E2EBFA;\n",
              "      box-shadow: 0px 1px 2px rgba(60, 64, 67, 0.3), 0px 1px 3px 1px rgba(60, 64, 67, 0.15);\n",
              "      fill: #174EA6;\n",
              "    }\n",
              "\n",
              "    [theme=dark] .colab-df-convert {\n",
              "      background-color: #3B4455;\n",
              "      fill: #D2E3FC;\n",
              "    }\n",
              "\n",
              "    [theme=dark] .colab-df-convert:hover {\n",
              "      background-color: #434B5C;\n",
              "      box-shadow: 0px 1px 3px 1px rgba(0, 0, 0, 0.15);\n",
              "      filter: drop-shadow(0px 1px 2px rgba(0, 0, 0, 0.3));\n",
              "      fill: #FFFFFF;\n",
              "    }\n",
              "  </style>\n",
              "\n",
              "      <script>\n",
              "        const buttonEl =\n",
              "          document.querySelector('#df-9eb0415e-d19e-45b5-b6dd-1f658af13609 button.colab-df-convert');\n",
              "        buttonEl.style.display =\n",
              "          google.colab.kernel.accessAllowed ? 'block' : 'none';\n",
              "\n",
              "        async function convertToInteractive(key) {\n",
              "          const element = document.querySelector('#df-9eb0415e-d19e-45b5-b6dd-1f658af13609');\n",
              "          const dataTable =\n",
              "            await google.colab.kernel.invokeFunction('convertToInteractive',\n",
              "                                                     [key], {});\n",
              "          if (!dataTable) return;\n",
              "\n",
              "          const docLinkHtml = 'Like what you see? Visit the ' +\n",
              "            '<a target=\"_blank\" href=https://colab.research.google.com/notebooks/data_table.ipynb>data table notebook</a>'\n",
              "            + ' to learn more about interactive tables.';\n",
              "          element.innerHTML = '';\n",
              "          dataTable['output_type'] = 'display_data';\n",
              "          await google.colab.output.renderOutput(dataTable, element);\n",
              "          const docLink = document.createElement('div');\n",
              "          docLink.innerHTML = docLinkHtml;\n",
              "          element.appendChild(docLink);\n",
              "        }\n",
              "      </script>\n",
              "    </div>\n",
              "  </div>\n",
              "  "
            ]
          },
          "metadata": {},
          "execution_count": 16
        }
      ]
    },
    {
      "cell_type": "code",
      "source": [
        "plt.plot(val_results['Val Predictions'][:100])\n",
        "plt.plot(val_results['Actuals'][:100])"
      ],
      "metadata": {
        "colab": {
          "base_uri": "https://localhost:8080/",
          "height": 282
        },
        "id": "Wp6a-4225a4x",
        "outputId": "9d88a95e-50dc-4de5-a6ec-f10e246e6e58"
      },
      "execution_count": 17,
      "outputs": [
        {
          "output_type": "execute_result",
          "data": {
            "text/plain": [
              "[<matplotlib.lines.Line2D at 0x7f2d090f0e10>]"
            ]
          },
          "metadata": {},
          "execution_count": 17
        },
        {
          "output_type": "display_data",
          "data": {
            "text/plain": [
              "<Figure size 432x288 with 1 Axes>"
            ],
            "image/png": "[encoded data removed]"
          },
          "metadata": {
            "needs_background": "light"
          }
        }
      ]
    },
    {
      "cell_type": "code",
      "source": [
        "keras.metrics.mean_absolute_error(y_val1, val_predictions).numpy()"
      ],
      "metadata": {
        "colab": {
          "base_uri": "https://localhost:8080/"
        },
        "id": "UursZRq75idY",
        "outputId": "a37fa8d0-5ece-44a2-981e-c21a5cdd082e"
      },
      "execution_count": 18,
      "outputs": [
        {
          "output_type": "execute_result",
          "data": {
            "text/plain": [
              "0.0047093546"
            ]
          },
          "metadata": {},
          "execution_count": 18
        }
      ]
    },
    {
      "cell_type": "code",
      "source": [
        "test_predictions = model1.predict(X_test1).flatten()\n",
        "test_results = pd.DataFrame(data={'Test Predictions':test_predictions, 'Actuals':y_test1})\n",
        "test_results"
      ],
      "metadata": {
        "colab": {
          "base_uri": "https://localhost:8080/",
          "height": 424
        },
        "id": "LzuUmHGc5m4h",
        "outputId": "b56a01a5-fd48-4766-9588-68d97662f9ae"
      },
      "execution_count": 19,
      "outputs": [
        {
          "output_type": "execute_result",
          "data": {
            "text/plain": [
              "     Test Predictions  Actuals\n",
              "0            0.796858     0.79\n",
              "1            0.795146     0.80\n",
              "2            0.799626     0.80\n",
              "3            0.802132     0.80\n",
              "4            0.801826     0.81\n",
              "..                ...      ...\n",
              "240          0.813772     0.81\n",
              "241          0.811673     0.82\n",
              "242          0.815943     0.82\n",
              "243          0.818310     0.82\n",
              "244          0.817806     0.82\n",
              "\n",
              "[245 rows x 2 columns]"
            ],
            "text/html": [
              "\n",
              "  <div id=\"df-13fc45ba-e9e4-41fc-a1a7-ae325dbe6f33\">\n",
              "    <div class=\"colab-df-container\">\n",
              "      <div>\n",
              "<style scoped>\n",
              "    .dataframe tbody tr th:only-of-type {\n",
              "        vertical-align: middle;\n",
              "    }\n",
              "\n",
              "    .dataframe tbody tr th {\n",
              "        vertical-align: top;\n",
              "    }\n",
              "\n",
              "    .dataframe thead th {\n",
              "        text-align: right;\n",
              "    }\n",
              "</style>\n",
              "<table border=\"1\" class=\"dataframe\">\n",
              "  <thead>\n",
              "    <tr style=\"text-align: right;\">\n",
              "      <th></th>\n",
              "      <th>Test Predictions</th>\n",
              "      <th>Actuals</th>\n",
              "    </tr>\n",
              "  </thead>\n",
              "  <tbody>\n",
              "    <tr>\n",
              "      <th>0</th>\n",
              "      <td>0.796858</td>\n",
              "      <td>0.79</td>\n",
              "    </tr>\n",
              "    <tr>\n",
              "      <th>1</th>\n",
              "      <td>0.795146</td>\n",
              "      <td>0.80</td>\n",
              "    </tr>\n",
              "    <tr>\n",
              "      <th>2</th>\n",
              "      <td>0.799626</td>\n",
              "      <td>0.80</td>\n",
              "    </tr>\n",
              "    <tr>\n",
              "      <th>3</th>\n",
              "      <td>0.802132</td>\n",
              "      <td>0.80</td>\n",
              "    </tr>\n",
              "    <tr>\n",
              "      <th>4</th>\n",
              "      <td>0.801826</td>\n",
              "      <td>0.81</td>\n",
              "    </tr>\n",
              "    <tr>\n",
              "      <th>...</th>\n",
              "      <td>...</td>\n",
              "      <td>...</td>\n",
              "    </tr>\n",
              "    <tr>\n",
              "      <th>240</th>\n",
              "      <td>0.813772</td>\n",
              "      <td>0.81</td>\n",
              "    </tr>\n",
              "    <tr>\n",
              "      <th>241</th>\n",
              "      <td>0.811673</td>\n",
              "      <td>0.82</td>\n",
              "    </tr>\n",
              "    <tr>\n",
              "      <th>242</th>\n",
              "      <td>0.815943</td>\n",
              "      <td>0.82</td>\n",
              "    </tr>\n",
              "    <tr>\n",
              "      <th>243</th>\n",
              "      <td>0.818310</td>\n",
              "      <td>0.82</td>\n",
              "    </tr>\n",
              "    <tr>\n",
              "      <th>244</th>\n",
              "      <td>0.817806</td>\n",
              "      <td>0.82</td>\n",
              "    </tr>\n",
              "  </tbody>\n",
              "</table>\n",
              "<p>245 rows × 2 columns</p>\n",
              "</div>\n",
              "      <button class=\"colab-df-convert\" onclick=\"convertToInteractive('df-13fc45ba-e9e4-41fc-a1a7-ae325dbe6f33')\"\n",
              "              title=\"Convert this dataframe to an interactive table.\"\n",
              "              style=\"display:none;\">\n",
              "        \n",
              "  <svg xmlns=\"http://www.w3.org/2000/svg\" height=\"24px\"viewBox=\"0 0 24 24\"\n",
              "       width=\"24px\">\n",
              "    <path d=\"M0 0h24v24H0V0z\" fill=\"none\"/>\n",
              "    <path d=\"M18.56 5.44l.94 2.06.94-2.06 2.06-.94-2.06-.94-.94-2.06-.94 2.06-2.06.94zm-11 1L8.5 8.5l.94-2.06 2.06-.94-2.06-.94L8.5 2.5l-.94 2.06-2.06.94zm10 10l.94 2.06.94-2.06 2.06-.94-2.06-.94-.94-2.06-.94 2.06-2.06.94z\"/><path d=\"M17.41 7.96l-1.37-1.37c-.4-.4-.92-.59-1.43-.59-.52 0-1.04.2-1.43.59L10.3 9.45l-7.72 7.72c-.78.78-.78 2.05 0 2.83L4 21.41c.39.39.9.59 1.41.59.51 0 1.02-.2 1.41-.59l7.78-7.78 2.81-2.81c.8-.78.8-2.07 0-2.86zM5.41 20L4 18.59l7.72-7.72 1.47 1.35L5.41 20z\"/>\n",
              "  </svg>\n",
              "      </button>\n",
              "      \n",
              "  <style>\n",
              "    .colab-df-container {\n",
              "      display:flex;\n",
              "      flex-wrap:wrap;\n",
              "      gap: 12px;\n",
              "    }\n",
              "\n",
              "    .colab-df-convert {\n",
              "      background-color: #E8F0FE;\n",
              "      border: none;\n",
              "      border-radius: 50%;\n",
              "      cursor: pointer;\n",
              "      display: none;\n",
              "      fill: #1967D2;\n",
              "      height: 32px;\n",
              "      padding: 0 0 0 0;\n",
              "      width: 32px;\n",
              "    }\n",
              "\n",
              "    .colab-df-convert:hover {\n",
              "      background-color: #E2EBFA;\n",
              "      box-shadow: 0px 1px 2px rgba(60, 64, 67, 0.3), 0px 1px 3px 1px rgba(60, 64, 67, 0.15);\n",
              "      fill: #174EA6;\n",
              "    }\n",
              "\n",
              "    [theme=dark] .colab-df-convert {\n",
              "      background-color: #3B4455;\n",
              "      fill: #D2E3FC;\n",
              "    }\n",
              "\n",
              "    [theme=dark] .colab-df-convert:hover {\n",
              "      background-color: #434B5C;\n",
              "      box-shadow: 0px 1px 3px 1px rgba(0, 0, 0, 0.15);\n",
              "      filter: drop-shadow(0px 1px 2px rgba(0, 0, 0, 0.3));\n",
              "      fill: #FFFFFF;\n",
              "    }\n",
              "  </style>\n",
              "\n",
              "      <script>\n",
              "        const buttonEl =\n",
              "          document.querySelector('#df-13fc45ba-e9e4-41fc-a1a7-ae325dbe6f33 button.colab-df-convert');\n",
              "        buttonEl.style.display =\n",
              "          google.colab.kernel.accessAllowed ? 'block' : 'none';\n",
              "\n",
              "        async function convertToInteractive(key) {\n",
              "          const element = document.querySelector('#df-13fc45ba-e9e4-41fc-a1a7-ae325dbe6f33');\n",
              "          const dataTable =\n",
              "            await google.colab.kernel.invokeFunction('convertToInteractive',\n",
              "                                                     [key], {});\n",
              "          if (!dataTable) return;\n",
              "\n",
              "          const docLinkHtml = 'Like what you see? Visit the ' +\n",
              "            '<a target=\"_blank\" href=https://colab.research.google.com/notebooks/data_table.ipynb>data table notebook</a>'\n",
              "            + ' to learn more about interactive tables.';\n",
              "          element.innerHTML = '';\n",
              "          dataTable['output_type'] = 'display_data';\n",
              "          await google.colab.output.renderOutput(dataTable, element);\n",
              "          const docLink = document.createElement('div');\n",
              "          docLink.innerHTML = docLinkHtml;\n",
              "          element.appendChild(docLink);\n",
              "        }\n",
              "      </script>\n",
              "    </div>\n",
              "  </div>\n",
              "  "
            ]
          },
          "metadata": {},
          "execution_count": 19
        }
      ]
    },
    {
      "cell_type": "code",
      "source": [
        "plt.plot(test_results['Test Predictions'][:100])\n",
        "plt.plot(test_results['Actuals'][:100])"
      ],
      "metadata": {
        "colab": {
          "base_uri": "https://localhost:8080/",
          "height": 282
        },
        "id": "SpvFu85K5o-Z",
        "outputId": "e80ce057-7c8b-4f6c-83f1-1099285113b5"
      },
      "execution_count": 20,
      "outputs": [
        {
          "output_type": "execute_result",
          "data": {
            "text/plain": [
              "[<matplotlib.lines.Line2D at 0x7f2d0aa22550>]"
            ]
          },
          "metadata": {},
          "execution_count": 20
        },
        {
          "output_type": "display_data",
          "data": {
            "text/plain": [
              "<Figure size 432x288 with 1 Axes>"
            ],
            "image/png": "[encoded data removed]"
          },
          "metadata": {
            "needs_background": "light"
          }
        }
      ]
    },
    {
      "cell_type": "code",
      "source": [
        "keras.metrics.mean_absolute_error(y_test1, test_predictions).numpy()"
      ],
      "metadata": {
        "colab": {
          "base_uri": "https://localhost:8080/"
        },
        "id": "lls3ev4W5rRX",
        "outputId": "5ab4814e-947a-4256-c166-878bcdebfb39"
      },
      "execution_count": 21,
      "outputs": [
        {
          "output_type": "execute_result",
          "data": {
            "text/plain": [
              "0.004287443"
            ]
          },
          "metadata": {},
          "execution_count": 21
        }
      ]
    }
  ]
}