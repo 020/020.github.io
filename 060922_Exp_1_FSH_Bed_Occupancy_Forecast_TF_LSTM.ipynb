{
  "nbformat": 4,
  "nbformat_minor": 0,
  "metadata": {
    "colab": {
      "provenance": [],
      "authorship_tag": "ABX9TyNPXBOoBu526CED7ZSGY0+A",
      "include_colab_link": true
    },
    "kernelspec": {
      "name": "python3",
      "display_name": "Python 3"
    },
    "language_info": {
      "name": "python"
    }
  },
  "cells": [
    {
      "cell_type": "markdown",
      "metadata": {
        "id": "view-in-github",
        "colab_type": "text"
      },
      "source": [
        "<a href=\"https://colab.research.google.com/github/020/020.github.io/blob/master/060922_Exp_1_FSH_Bed_Occupancy_Forecast_TF_LSTM.ipynb\" target=\"_parent\"><img src=\"https://colab.research.google.com/assets/colab-badge.svg\" alt=\"Open In Colab\"/></a>"
      ]
    },
    {
      "cell_type": "code",
      "execution_count": 1,
      "metadata": {
        "id": "Kpb6QsyLR_ns"
      },
      "outputs": [],
      "source": [
        "import pandas as pd\n",
        "import numpy as np\n",
        "from datetime import date\n",
        "from keras.models import Sequential\n",
        "from keras.layers import LSTM, Dense\n",
        "from sklearn.preprocessing import MinMaxScaler\n",
        "pd.options.mode.chained_assignment = None"
      ]
    },
    {
      "cell_type": "code",
      "source": [
        "#load the data\n",
        "data = pd.read_csv('/content/fsh_bed.csv', parse_dates=['date'], index_col='date')\n",
        "data = data[['occupancy']]"
      ],
      "metadata": {
        "id": "sNvewZ8ASV7i"
      },
      "execution_count": 2,
      "outputs": []
    },
    {
      "cell_type": "code",
      "source": [
        "data.head()"
      ],
      "metadata": {
        "colab": {
          "base_uri": "https://localhost:8080/",
          "height": 238
        },
        "id": "f8g_hWXfSjpZ",
        "outputId": "f1711b8a-6b9e-4378-e845-acc1d9c86f00"
      },
      "execution_count": 3,
      "outputs": [
        {
          "output_type": "execute_result",
          "data": {
            "text/plain": [
              "            occupancy\n",
              "date                 \n",
              "2016-01-01       0.85\n",
              "2016-01-02       0.88\n",
              "2016-01-03       0.91\n",
              "2016-01-04       0.77\n",
              "2016-01-05       0.79"
            ],
            "text/html": [
              "\n",
              "  <div id=\"df-8df1e121-69ee-47e5-ba55-8d38b0d74c4d\">\n",
              "    <div class=\"colab-df-container\">\n",
              "      <div>\n",
              "<style scoped>\n",
              "    .dataframe tbody tr th:only-of-type {\n",
              "        vertical-align: middle;\n",
              "    }\n",
              "\n",
              "    .dataframe tbody tr th {\n",
              "        vertical-align: top;\n",
              "    }\n",
              "\n",
              "    .dataframe thead th {\n",
              "        text-align: right;\n",
              "    }\n",
              "</style>\n",
              "<table border=\"1\" class=\"dataframe\">\n",
              "  <thead>\n",
              "    <tr style=\"text-align: right;\">\n",
              "      <th></th>\n",
              "      <th>occupancy</th>\n",
              "    </tr>\n",
              "    <tr>\n",
              "      <th>date</th>\n",
              "      <th></th>\n",
              "    </tr>\n",
              "  </thead>\n",
              "  <tbody>\n",
              "    <tr>\n",
              "      <th>2016-01-01</th>\n",
              "      <td>0.85</td>\n",
              "    </tr>\n",
              "    <tr>\n",
              "      <th>2016-01-02</th>\n",
              "      <td>0.88</td>\n",
              "    </tr>\n",
              "    <tr>\n",
              "      <th>2016-01-03</th>\n",
              "      <td>0.91</td>\n",
              "    </tr>\n",
              "    <tr>\n",
              "      <th>2016-01-04</th>\n",
              "      <td>0.77</td>\n",
              "    </tr>\n",
              "    <tr>\n",
              "      <th>2016-01-05</th>\n",
              "      <td>0.79</td>\n",
              "    </tr>\n",
              "  </tbody>\n",
              "</table>\n",
              "</div>\n",
              "      <button class=\"colab-df-convert\" onclick=\"convertToInteractive('df-8df1e121-69ee-47e5-ba55-8d38b0d74c4d')\"\n",
              "              title=\"Convert this dataframe to an interactive table.\"\n",
              "              style=\"display:none;\">\n",
              "        \n",
              "  <svg xmlns=\"http://www.w3.org/2000/svg\" height=\"24px\"viewBox=\"0 0 24 24\"\n",
              "       width=\"24px\">\n",
              "    <path d=\"M0 0h24v24H0V0z\" fill=\"none\"/>\n",
              "    <path d=\"M18.56 5.44l.94 2.06.94-2.06 2.06-.94-2.06-.94-.94-2.06-.94 2.06-2.06.94zm-11 1L8.5 8.5l.94-2.06 2.06-.94-2.06-.94L8.5 2.5l-.94 2.06-2.06.94zm10 10l.94 2.06.94-2.06 2.06-.94-2.06-.94-.94-2.06-.94 2.06-2.06.94z\"/><path d=\"M17.41 7.96l-1.37-1.37c-.4-.4-.92-.59-1.43-.59-.52 0-1.04.2-1.43.59L10.3 9.45l-7.72 7.72c-.78.78-.78 2.05 0 2.83L4 21.41c.39.39.9.59 1.41.59.51 0 1.02-.2 1.41-.59l7.78-7.78 2.81-2.81c.8-.78.8-2.07 0-2.86zM5.41 20L4 18.59l7.72-7.72 1.47 1.35L5.41 20z\"/>\n",
              "  </svg>\n",
              "      </button>\n",
              "      \n",
              "  <style>\n",
              "    .colab-df-container {\n",
              "      display:flex;\n",
              "      flex-wrap:wrap;\n",
              "      gap: 12px;\n",
              "    }\n",
              "\n",
              "    .colab-df-convert {\n",
              "      background-color: #E8F0FE;\n",
              "      border: none;\n",
              "      border-radius: 50%;\n",
              "      cursor: pointer;\n",
              "      display: none;\n",
              "      fill: #1967D2;\n",
              "      height: 32px;\n",
              "      padding: 0 0 0 0;\n",
              "      width: 32px;\n",
              "    }\n",
              "\n",
              "    .colab-df-convert:hover {\n",
              "      background-color: #E2EBFA;\n",
              "      box-shadow: 0px 1px 2px rgba(60, 64, 67, 0.3), 0px 1px 3px 1px rgba(60, 64, 67, 0.15);\n",
              "      fill: #174EA6;\n",
              "    }\n",
              "\n",
              "    [theme=dark] .colab-df-convert {\n",
              "      background-color: #3B4455;\n",
              "      fill: #D2E3FC;\n",
              "    }\n",
              "\n",
              "    [theme=dark] .colab-df-convert:hover {\n",
              "      background-color: #434B5C;\n",
              "      box-shadow: 0px 1px 3px 1px rgba(0, 0, 0, 0.15);\n",
              "      filter: drop-shadow(0px 1px 2px rgba(0, 0, 0, 0.3));\n",
              "      fill: #FFFFFF;\n",
              "    }\n",
              "  </style>\n",
              "\n",
              "      <script>\n",
              "        const buttonEl =\n",
              "          document.querySelector('#df-8df1e121-69ee-47e5-ba55-8d38b0d74c4d button.colab-df-convert');\n",
              "        buttonEl.style.display =\n",
              "          google.colab.kernel.accessAllowed ? 'block' : 'none';\n",
              "\n",
              "        async function convertToInteractive(key) {\n",
              "          const element = document.querySelector('#df-8df1e121-69ee-47e5-ba55-8d38b0d74c4d');\n",
              "          const dataTable =\n",
              "            await google.colab.kernel.invokeFunction('convertToInteractive',\n",
              "                                                     [key], {});\n",
              "          if (!dataTable) return;\n",
              "\n",
              "          const docLinkHtml = 'Like what you see? Visit the ' +\n",
              "            '<a target=\"_blank\" href=https://colab.research.google.com/notebooks/data_table.ipynb>data table notebook</a>'\n",
              "            + ' to learn more about interactive tables.';\n",
              "          element.innerHTML = '';\n",
              "          dataTable['output_type'] = 'display_data';\n",
              "          await google.colab.output.renderOutput(dataTable, element);\n",
              "          const docLink = document.createElement('div');\n",
              "          docLink.innerHTML = docLinkHtml;\n",
              "          element.appendChild(docLink);\n",
              "        }\n",
              "      </script>\n",
              "    </div>\n",
              "  </div>\n",
              "  "
            ]
          },
          "metadata": {},
          "execution_count": 3
        }
      ]
    },
    {
      "cell_type": "code",
      "source": [
        "data.plot(title='FSH Bed Occupancy by %')"
      ],
      "metadata": {
        "colab": {
          "base_uri": "https://localhost:8080/",
          "height": 312
        },
        "id": "9kvxHzJqSq2w",
        "outputId": "b289410b-1408-41f0-8d22-a3e420ec988e"
      },
      "execution_count": 5,
      "outputs": [
        {
          "output_type": "execute_result",
          "data": {
            "text/plain": [
              "<matplotlib.axes._subplots.AxesSubplot at 0x7ff999399790>"
            ]
          },
          "metadata": {},
          "execution_count": 5
        },
        {
          "output_type": "display_data",
          "data": {
            "text/plain": [
              "<Figure size 432x288 with 1 Axes>"
            ],
            "image/png": "[encoded data removed]"
          },
          "metadata": {
            "needs_background": "light"
          }
        }
      ]
    },
    {
      "cell_type": "code",
      "source": [
        "# scale the data\n",
        "scaler = MinMaxScaler(feature_range=(0, 1)).fit(data)\n",
        "z = scaler.transform(data)"
      ],
      "metadata": {
        "id": "qQIaxXNKTByv"
      },
      "execution_count": 6,
      "outputs": []
    },
    {
      "cell_type": "code",
      "source": [
        "# extract the input sequences and target values\n",
        "window_size = 60\n",
        "\n",
        "x, y = [], []\n",
        "\n",
        "for i in range(window_size, len(z)):\n",
        "    x.append(z[i - window_size: i])\n",
        "    y.append(z[i])\n",
        "\n",
        "x, y = np.array(x), np.array(y)"
      ],
      "metadata": {
        "id": "q2-Yfcm2TMgI"
      },
      "execution_count": 17,
      "outputs": []
    },
    {
      "cell_type": "code",
      "source": [
        "# build and train the model\n",
        "model = Sequential()\n",
        "model.add(LSTM(units=50, return_sequences=True, input_shape=x.shape[1:]))\n",
        "model.add(LSTM(units=50))\n",
        "model.add(Dense(units=1))\n",
        "model.compile(loss='mse', optimizer='adam')\n",
        "model.fit(x, y, epochs=100, batch_size=64, verbose=1)"
      ],
      "metadata": {
        "colab": {
          "base_uri": "https://localhost:8080/"
        },
        "id": "VcjhwXqrTO4u",
        "outputId": "c4c9436c-a482-4e0b-d8f6-78d8b6031141"
      },
      "execution_count": 24,
      "outputs": [
        {
          "output_type": "stream",
          "name": "stdout",
          "text": [
            "Epoch 1/100\n",
            "22/22 [==============================] - 5s 82ms/step - loss: 0.0807\n",
            "Epoch 2/100\n",
            "22/22 [==============================] - 2s 82ms/step - loss: 0.0311\n",
            "Epoch 3/100\n",
            "22/22 [==============================] - 2s 79ms/step - loss: 0.0298\n",
            "Epoch 4/100\n",
            "22/22 [==============================] - 2s 80ms/step - loss: 0.0296\n",
            "Epoch 5/100\n",
            "22/22 [==============================] - 2s 81ms/step - loss: 0.0295\n",
            "Epoch 6/100\n",
            "22/22 [==============================] - 2s 81ms/step - loss: 0.0295\n",
            "Epoch 7/100\n",
            "22/22 [==============================] - 2s 82ms/step - loss: 0.0296\n",
            "Epoch 8/100\n",
            "22/22 [==============================] - 2s 83ms/step - loss: 0.0295\n",
            "Epoch 9/100\n",
            "22/22 [==============================] - 2s 80ms/step - loss: 0.0297\n",
            "Epoch 10/100\n",
            "22/22 [==============================] - 2s 81ms/step - loss: 0.0294\n",
            "Epoch 11/100\n",
            "22/22 [==============================] - 2s 81ms/step - loss: 0.0301\n",
            "Epoch 12/100\n",
            "22/22 [==============================] - 2s 80ms/step - loss: 0.0294\n",
            "Epoch 13/100\n",
            "22/22 [==============================] - 2s 80ms/step - loss: 0.0293\n",
            "Epoch 14/100\n",
            "22/22 [==============================] - 2s 82ms/step - loss: 0.0297\n",
            "Epoch 15/100\n",
            "22/22 [==============================] - 2s 80ms/step - loss: 0.0294\n",
            "Epoch 16/100\n",
            "22/22 [==============================] - 2s 82ms/step - loss: 0.0293\n",
            "Epoch 17/100\n",
            "22/22 [==============================] - 2s 82ms/step - loss: 0.0289\n",
            "Epoch 18/100\n",
            "22/22 [==============================] - 2s 81ms/step - loss: 0.0288\n",
            "Epoch 19/100\n",
            "22/22 [==============================] - 2s 80ms/step - loss: 0.0288\n",
            "Epoch 20/100\n",
            "22/22 [==============================] - 2s 83ms/step - loss: 0.0289\n",
            "Epoch 21/100\n",
            "22/22 [==============================] - 2s 82ms/step - loss: 0.0286\n",
            "Epoch 22/100\n",
            "22/22 [==============================] - 2s 81ms/step - loss: 0.0284\n",
            "Epoch 23/100\n",
            "22/22 [==============================] - 2s 81ms/step - loss: 0.0280\n",
            "Epoch 24/100\n",
            "22/22 [==============================] - 2s 81ms/step - loss: 0.0277\n",
            "Epoch 25/100\n",
            "22/22 [==============================] - 2s 83ms/step - loss: 0.0269\n",
            "Epoch 26/100\n",
            "22/22 [==============================] - 2s 82ms/step - loss: 0.0264\n",
            "Epoch 27/100\n",
            "22/22 [==============================] - 2s 83ms/step - loss: 0.0255\n",
            "Epoch 28/100\n",
            "22/22 [==============================] - 2s 81ms/step - loss: 0.0249\n",
            "Epoch 29/100\n",
            "22/22 [==============================] - 3s 128ms/step - loss: 0.0242\n",
            "Epoch 30/100\n",
            "22/22 [==============================] - 2s 81ms/step - loss: 0.0244\n",
            "Epoch 31/100\n",
            "22/22 [==============================] - 2s 77ms/step - loss: 0.0239\n",
            "Epoch 32/100\n",
            "22/22 [==============================] - 2s 82ms/step - loss: 0.0241\n",
            "Epoch 33/100\n",
            "22/22 [==============================] - 2s 82ms/step - loss: 0.0239\n",
            "Epoch 34/100\n",
            "22/22 [==============================] - 2s 82ms/step - loss: 0.0243\n",
            "Epoch 35/100\n",
            "22/22 [==============================] - 2s 76ms/step - loss: 0.0237\n",
            "Epoch 36/100\n",
            "22/22 [==============================] - 2s 76ms/step - loss: 0.0248\n",
            "Epoch 37/100\n",
            "22/22 [==============================] - 2s 82ms/step - loss: 0.0240\n",
            "Epoch 38/100\n",
            "22/22 [==============================] - 2s 81ms/step - loss: 0.0240\n",
            "Epoch 39/100\n",
            "22/22 [==============================] - 2s 81ms/step - loss: 0.0242\n",
            "Epoch 40/100\n",
            "22/22 [==============================] - 2s 81ms/step - loss: 0.0238\n",
            "Epoch 41/100\n",
            "22/22 [==============================] - 2s 82ms/step - loss: 0.0239\n",
            "Epoch 42/100\n",
            "22/22 [==============================] - 2s 82ms/step - loss: 0.0238\n",
            "Epoch 43/100\n",
            "22/22 [==============================] - 2s 81ms/step - loss: 0.0237\n",
            "Epoch 44/100\n",
            "22/22 [==============================] - 2s 82ms/step - loss: 0.0236\n",
            "Epoch 45/100\n",
            "22/22 [==============================] - 2s 82ms/step - loss: 0.0236\n",
            "Epoch 46/100\n",
            "22/22 [==============================] - 2s 81ms/step - loss: 0.0236\n",
            "Epoch 47/100\n",
            "22/22 [==============================] - 2s 82ms/step - loss: 0.0235\n",
            "Epoch 48/100\n",
            "22/22 [==============================] - 2s 84ms/step - loss: 0.0235\n",
            "Epoch 49/100\n",
            "22/22 [==============================] - 2s 83ms/step - loss: 0.0234\n",
            "Epoch 50/100\n",
            "22/22 [==============================] - 2s 83ms/step - loss: 0.0237\n",
            "Epoch 51/100\n",
            "22/22 [==============================] - 2s 80ms/step - loss: 0.0230\n",
            "Epoch 52/100\n",
            "22/22 [==============================] - 2s 81ms/step - loss: 0.0233\n",
            "Epoch 53/100\n",
            "22/22 [==============================] - 2s 82ms/step - loss: 0.0236\n",
            "Epoch 54/100\n",
            "22/22 [==============================] - 2s 82ms/step - loss: 0.0234\n",
            "Epoch 55/100\n",
            "22/22 [==============================] - 2s 80ms/step - loss: 0.0230\n",
            "Epoch 56/100\n",
            "22/22 [==============================] - 2s 82ms/step - loss: 0.0235\n",
            "Epoch 57/100\n",
            "22/22 [==============================] - 2s 81ms/step - loss: 0.0233\n",
            "Epoch 58/100\n",
            "22/22 [==============================] - 2s 82ms/step - loss: 0.0231\n",
            "Epoch 59/100\n",
            "22/22 [==============================] - 2s 81ms/step - loss: 0.0227\n",
            "Epoch 60/100\n",
            "22/22 [==============================] - 2s 84ms/step - loss: 0.0224\n",
            "Epoch 61/100\n",
            "22/22 [==============================] - 2s 82ms/step - loss: 0.0215\n",
            "Epoch 62/100\n",
            "22/22 [==============================] - 2s 82ms/step - loss: 0.0212\n",
            "Epoch 63/100\n",
            "22/22 [==============================] - 2s 83ms/step - loss: 0.0211\n",
            "Epoch 64/100\n",
            "22/22 [==============================] - 2s 82ms/step - loss: 0.0212\n",
            "Epoch 65/100\n",
            "22/22 [==============================] - 2s 84ms/step - loss: 0.0219\n",
            "Epoch 66/100\n",
            "22/22 [==============================] - 2s 82ms/step - loss: 0.0209\n",
            "Epoch 67/100\n",
            "22/22 [==============================] - 2s 82ms/step - loss: 0.0205\n",
            "Epoch 68/100\n",
            "22/22 [==============================] - 2s 80ms/step - loss: 0.0201\n",
            "Epoch 69/100\n",
            "22/22 [==============================] - 2s 77ms/step - loss: 0.0193\n",
            "Epoch 70/100\n",
            "22/22 [==============================] - 2s 76ms/step - loss: 0.0200\n",
            "Epoch 71/100\n",
            "22/22 [==============================] - 2s 78ms/step - loss: 0.0187\n",
            "Epoch 72/100\n",
            "22/22 [==============================] - 2s 76ms/step - loss: 0.0191\n",
            "Epoch 73/100\n",
            "22/22 [==============================] - 2s 79ms/step - loss: 0.0181\n",
            "Epoch 74/100\n",
            "22/22 [==============================] - 2s 79ms/step - loss: 0.0181\n",
            "Epoch 75/100\n",
            "22/22 [==============================] - 2s 82ms/step - loss: 0.0178\n",
            "Epoch 76/100\n",
            "22/22 [==============================] - 2s 80ms/step - loss: 0.0170\n",
            "Epoch 77/100\n",
            "22/22 [==============================] - 2s 82ms/step - loss: 0.0173\n",
            "Epoch 78/100\n",
            "22/22 [==============================] - 2s 82ms/step - loss: 0.0173\n",
            "Epoch 79/100\n",
            "22/22 [==============================] - 2s 82ms/step - loss: 0.0181\n",
            "Epoch 80/100\n",
            "22/22 [==============================] - 2s 81ms/step - loss: 0.0174\n",
            "Epoch 81/100\n",
            "22/22 [==============================] - 2s 76ms/step - loss: 0.0174\n",
            "Epoch 82/100\n",
            "22/22 [==============================] - 2s 81ms/step - loss: 0.0171\n",
            "Epoch 83/100\n",
            "22/22 [==============================] - 2s 82ms/step - loss: 0.0168\n",
            "Epoch 84/100\n",
            "22/22 [==============================] - 2s 81ms/step - loss: 0.0166\n",
            "Epoch 85/100\n",
            "22/22 [==============================] - 2s 82ms/step - loss: 0.0174\n",
            "Epoch 86/100\n",
            "22/22 [==============================] - 3s 124ms/step - loss: 0.0167\n",
            "Epoch 87/100\n",
            "22/22 [==============================] - 2s 81ms/step - loss: 0.0167\n",
            "Epoch 88/100\n",
            "22/22 [==============================] - 2s 77ms/step - loss: 0.0168\n",
            "Epoch 89/100\n",
            "22/22 [==============================] - 2s 82ms/step - loss: 0.0167\n",
            "Epoch 90/100\n",
            "22/22 [==============================] - 2s 81ms/step - loss: 0.0167\n",
            "Epoch 91/100\n",
            "22/22 [==============================] - 2s 82ms/step - loss: 0.0167\n",
            "Epoch 92/100\n",
            "22/22 [==============================] - 2s 80ms/step - loss: 0.0170\n",
            "Epoch 93/100\n",
            "22/22 [==============================] - 2s 81ms/step - loss: 0.0172\n",
            "Epoch 94/100\n",
            "22/22 [==============================] - 2s 82ms/step - loss: 0.0166\n",
            "Epoch 95/100\n",
            "22/22 [==============================] - 2s 80ms/step - loss: 0.0170\n",
            "Epoch 96/100\n",
            "22/22 [==============================] - 2s 80ms/step - loss: 0.0167\n",
            "Epoch 97/100\n",
            "22/22 [==============================] - 2s 81ms/step - loss: 0.0167\n",
            "Epoch 98/100\n",
            "22/22 [==============================] - 2s 82ms/step - loss: 0.0165\n",
            "Epoch 99/100\n",
            "22/22 [==============================] - 2s 81ms/step - loss: 0.0166\n",
            "Epoch 100/100\n",
            "22/22 [==============================] - 2s 82ms/step - loss: 0.0163\n"
          ]
        },
        {
          "output_type": "execute_result",
          "data": {
            "text/plain": [
              "<keras.callbacks.History at 0x7ff98e262a10>"
            ]
          },
          "metadata": {},
          "execution_count": 24
        }
      ]
    },
    {
      "cell_type": "code",
      "source": [
        "def multi_step_forecasts(n_past, n_future):\n",
        "\n",
        "    x_past = x[- n_past - 1:, :, :][:1]  # last observed input sequence\n",
        "    y_past = y[- n_past - 1]             # last observed target value\n",
        "    y_future = []                        # predicted target values\n",
        "\n",
        "    for i in range(n_past + n_future):\n",
        "\n",
        "        # feed the last forecast back to the model as an input\n",
        "        x_past = np.append(x_past[:, 1:, :], y_past.reshape(1, 1, 1), axis=1)\n",
        "\n",
        "        # generate the next forecast\n",
        "        y_past = model.predict(x_past)\n",
        "\n",
        "        # save the forecast\n",
        "        y_future.append(y_past.flatten()[0])\n",
        "\n",
        "    # transform the forecasts back to the original scale\n",
        "    y_future = scaler.inverse_transform(np.array(y_future).reshape(-1, 1)).flatten()\n",
        "\n",
        "    # add the forecasts to the data frame\n",
        "    df_past = data.rename(columns={'occupancy': 'Actual'}).copy()\n",
        "\n",
        "    df_future = pd.DataFrame(\n",
        "        index=pd.bdate_range(start=data.index[- n_past - 1] + pd.Timedelta(days=1), periods=n_past + n_future),\n",
        "        columns=['Forecast'],\n",
        "        data=y_future\n",
        "    )\n",
        "\n",
        "    return df_past.join(df_future, how='outer')"
      ],
      "metadata": {
        "id": "DmFGStyHTcQH"
      },
      "execution_count": 25,
      "outputs": []
    },
    {
      "cell_type": "code",
      "source": [
        "# forecast the next 30 days\n",
        "df1 = multi_step_forecasts(n_past=0, n_future=30)\n",
        "df1.plot(title='FSH Bed Occupancy 30 days into the future')"
      ],
      "metadata": {
        "colab": {
          "base_uri": "https://localhost:8080/",
          "height": 296
        },
        "id": "Yr9LcX4xTf0u",
        "outputId": "dc59695a-7720-4703-d7ae-d1324eeb9b2e"
      },
      "execution_count": 26,
      "outputs": [
        {
          "output_type": "execute_result",
          "data": {
            "text/plain": [
              "<matplotlib.axes._subplots.AxesSubplot at 0x7ff98d28e690>"
            ]
          },
          "metadata": {},
          "execution_count": 26
        },
        {
          "output_type": "display_data",
          "data": {
            "text/plain": [
              "<Figure size 432x288 with 1 Axes>"
            ],
            "image/png": "[encoded data removed]"
          },
          "metadata": {
            "needs_background": "light"
          }
        }
      ]
    },
    {
      "cell_type": "code",
      "source": [
        "df2 = multi_step_forecasts(n_past=20, n_future=30)\n",
        "df2.plot(title='FSH 20 days in past 30 into the future')"
      ],
      "metadata": {
        "colab": {
          "base_uri": "https://localhost:8080/",
          "height": 296
        },
        "id": "syhR3EF8TucO",
        "outputId": "2f45bbf9-e329-40e1-fa23-c5fb2c043114"
      },
      "execution_count": 27,
      "outputs": [
        {
          "output_type": "execute_result",
          "data": {
            "text/plain": [
              "<matplotlib.axes._subplots.AxesSubplot at 0x7ff98b92a810>"
            ]
          },
          "metadata": {},
          "execution_count": 27
        },
        {
          "output_type": "display_data",
          "data": {
            "text/plain": [
              "<Figure size 432x288 with 1 Axes>"
            ],
            "image/png": "[encoded data removed]"
          },
          "metadata": {
            "needs_background": "light"
          }
        }
      ]
    }
  ]
}