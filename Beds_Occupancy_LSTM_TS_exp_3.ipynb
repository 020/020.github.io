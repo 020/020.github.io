{
  "nbformat": 4,
  "nbformat_minor": 0,
  "metadata": {
    "colab": {
      "name": "Beds  Occupancy LSTM TS exp 3.ipynb",
      "provenance": [],
      "authorship_tag": "ABX9TyM6/xcWGq/pwwAGI3VJAkW4",
      "include_colab_link": true
    },
    "kernelspec": {
      "name": "python3",
      "display_name": "Python 3"
    },
    "language_info": {
      "name": "python"
    }
  },
  "cells": [
    {
      "cell_type": "markdown",
      "metadata": {
        "id": "view-in-github",
        "colab_type": "text"
      },
      "source": [
        "<a href=\"https://colab.research.google.com/github/020/020.github.io/blob/master/Beds_Occupancy_LSTM_TS_exp_3.ipynb\" target=\"_parent\"><img src=\"https://colab.research.google.com/assets/colab-badge.svg\" alt=\"Open In Colab\"/></a>"
      ]
    },
    {
      "cell_type": "code",
      "execution_count": 20,
      "metadata": {
        "id": "vIjOIF-arg-M"
      },
      "outputs": [],
      "source": [
        "import tensorflow as tf\n",
        "import os\n",
        "import pandas as pd\n",
        "import numpy as np\n",
        "import matplotlib.pyplot as plt\n",
        "keras = tf.keras"
      ]
    },
    {
      "cell_type": "code",
      "source": [
        "df = pd.read_csv('/content/beds_occupied.csv')\n",
        "df"
      ],
      "metadata": {
        "colab": {
          "base_uri": "https://localhost:8080/",
          "height": 424
        },
        "id": "0FXb4YQbsG0q",
        "outputId": "26504cdf-8dc0-425b-90b5-e7b4947537e4"
      },
      "execution_count": 3,
      "outputs": [
        {
          "output_type": "execute_result",
          "data": {
            "text/plain": [
              "                 date  occupied\n",
              "0     11/05/2022 0:00      0.79\n",
              "1     11/05/2022 1:00      0.79\n",
              "2     11/05/2022 2:00      0.80\n",
              "3     11/05/2022 3:00      0.80\n",
              "4     11/05/2022 4:00      0.80\n",
              "...               ...       ...\n",
              "1995  02/08/2022 3:00      0.81\n",
              "1996  02/08/2022 4:00      0.82\n",
              "1997  02/08/2022 5:00      0.82\n",
              "1998  02/08/2022 6:00      0.82\n",
              "1999  02/08/2022 7:00      0.82\n",
              "\n",
              "[2000 rows x 2 columns]"
            ],
            "text/html": [
              "\n",
              "  <div id=\"df-a5ac2890-08d9-4768-abd9-93ed71e19e5d\">\n",
              "    <div class=\"colab-df-container\">\n",
              "      <div>\n",
              "<style scoped>\n",
              "    .dataframe tbody tr th:only-of-type {\n",
              "        vertical-align: middle;\n",
              "    }\n",
              "\n",
              "    .dataframe tbody tr th {\n",
              "        vertical-align: top;\n",
              "    }\n",
              "\n",
              "    .dataframe thead th {\n",
              "        text-align: right;\n",
              "    }\n",
              "</style>\n",
              "<table border=\"1\" class=\"dataframe\">\n",
              "  <thead>\n",
              "    <tr style=\"text-align: right;\">\n",
              "      <th></th>\n",
              "      <th>date</th>\n",
              "      <th>occupied</th>\n",
              "    </tr>\n",
              "  </thead>\n",
              "  <tbody>\n",
              "    <tr>\n",
              "      <th>0</th>\n",
              "      <td>11/05/2022 0:00</td>\n",
              "      <td>0.79</td>\n",
              "    </tr>\n",
              "    <tr>\n",
              "      <th>1</th>\n",
              "      <td>11/05/2022 1:00</td>\n",
              "      <td>0.79</td>\n",
              "    </tr>\n",
              "    <tr>\n",
              "      <th>2</th>\n",
              "      <td>11/05/2022 2:00</td>\n",
              "      <td>0.80</td>\n",
              "    </tr>\n",
              "    <tr>\n",
              "      <th>3</th>\n",
              "      <td>11/05/2022 3:00</td>\n",
              "      <td>0.80</td>\n",
              "    </tr>\n",
              "    <tr>\n",
              "      <th>4</th>\n",
              "      <td>11/05/2022 4:00</td>\n",
              "      <td>0.80</td>\n",
              "    </tr>\n",
              "    <tr>\n",
              "      <th>...</th>\n",
              "      <td>...</td>\n",
              "      <td>...</td>\n",
              "    </tr>\n",
              "    <tr>\n",
              "      <th>1995</th>\n",
              "      <td>02/08/2022 3:00</td>\n",
              "      <td>0.81</td>\n",
              "    </tr>\n",
              "    <tr>\n",
              "      <th>1996</th>\n",
              "      <td>02/08/2022 4:00</td>\n",
              "      <td>0.82</td>\n",
              "    </tr>\n",
              "    <tr>\n",
              "      <th>1997</th>\n",
              "      <td>02/08/2022 5:00</td>\n",
              "      <td>0.82</td>\n",
              "    </tr>\n",
              "    <tr>\n",
              "      <th>1998</th>\n",
              "      <td>02/08/2022 6:00</td>\n",
              "      <td>0.82</td>\n",
              "    </tr>\n",
              "    <tr>\n",
              "      <th>1999</th>\n",
              "      <td>02/08/2022 7:00</td>\n",
              "      <td>0.82</td>\n",
              "    </tr>\n",
              "  </tbody>\n",
              "</table>\n",
              "<p>2000 rows × 2 columns</p>\n",
              "</div>\n",
              "      <button class=\"colab-df-convert\" onclick=\"convertToInteractive('df-a5ac2890-08d9-4768-abd9-93ed71e19e5d')\"\n",
              "              title=\"Convert this dataframe to an interactive table.\"\n",
              "              style=\"display:none;\">\n",
              "        \n",
              "  <svg xmlns=\"http://www.w3.org/2000/svg\" height=\"24px\"viewBox=\"0 0 24 24\"\n",
              "       width=\"24px\">\n",
              "    <path d=\"M0 0h24v24H0V0z\" fill=\"none\"/>\n",
              "    <path d=\"M18.56 5.44l.94 2.06.94-2.06 2.06-.94-2.06-.94-.94-2.06-.94 2.06-2.06.94zm-11 1L8.5 8.5l.94-2.06 2.06-.94-2.06-.94L8.5 2.5l-.94 2.06-2.06.94zm10 10l.94 2.06.94-2.06 2.06-.94-2.06-.94-.94-2.06-.94 2.06-2.06.94z\"/><path d=\"M17.41 7.96l-1.37-1.37c-.4-.4-.92-.59-1.43-.59-.52 0-1.04.2-1.43.59L10.3 9.45l-7.72 7.72c-.78.78-.78 2.05 0 2.83L4 21.41c.39.39.9.59 1.41.59.51 0 1.02-.2 1.41-.59l7.78-7.78 2.81-2.81c.8-.78.8-2.07 0-2.86zM5.41 20L4 18.59l7.72-7.72 1.47 1.35L5.41 20z\"/>\n",
              "  </svg>\n",
              "      </button>\n",
              "      \n",
              "  <style>\n",
              "    .colab-df-container {\n",
              "      display:flex;\n",
              "      flex-wrap:wrap;\n",
              "      gap: 12px;\n",
              "    }\n",
              "\n",
              "    .colab-df-convert {\n",
              "      background-color: #E8F0FE;\n",
              "      border: none;\n",
              "      border-radius: 50%;\n",
              "      cursor: pointer;\n",
              "      display: none;\n",
              "      fill: #1967D2;\n",
              "      height: 32px;\n",
              "      padding: 0 0 0 0;\n",
              "      width: 32px;\n",
              "    }\n",
              "\n",
              "    .colab-df-convert:hover {\n",
              "      background-color: #E2EBFA;\n",
              "      box-shadow: 0px 1px 2px rgba(60, 64, 67, 0.3), 0px 1px 3px 1px rgba(60, 64, 67, 0.15);\n",
              "      fill: #174EA6;\n",
              "    }\n",
              "\n",
              "    [theme=dark] .colab-df-convert {\n",
              "      background-color: #3B4455;\n",
              "      fill: #D2E3FC;\n",
              "    }\n",
              "\n",
              "    [theme=dark] .colab-df-convert:hover {\n",
              "      background-color: #434B5C;\n",
              "      box-shadow: 0px 1px 3px 1px rgba(0, 0, 0, 0.15);\n",
              "      filter: drop-shadow(0px 1px 2px rgba(0, 0, 0, 0.3));\n",
              "      fill: #FFFFFF;\n",
              "    }\n",
              "  </style>\n",
              "\n",
              "      <script>\n",
              "        const buttonEl =\n",
              "          document.querySelector('#df-a5ac2890-08d9-4768-abd9-93ed71e19e5d button.colab-df-convert');\n",
              "        buttonEl.style.display =\n",
              "          google.colab.kernel.accessAllowed ? 'block' : 'none';\n",
              "\n",
              "        async function convertToInteractive(key) {\n",
              "          const element = document.querySelector('#df-a5ac2890-08d9-4768-abd9-93ed71e19e5d');\n",
              "          const dataTable =\n",
              "            await google.colab.kernel.invokeFunction('convertToInteractive',\n",
              "                                                     [key], {});\n",
              "          if (!dataTable) return;\n",
              "\n",
              "          const docLinkHtml = 'Like what you see? Visit the ' +\n",
              "            '<a target=\"_blank\" href=https://colab.research.google.com/notebooks/data_table.ipynb>data table notebook</a>'\n",
              "            + ' to learn more about interactive tables.';\n",
              "          element.innerHTML = '';\n",
              "          dataTable['output_type'] = 'display_data';\n",
              "          await google.colab.output.renderOutput(dataTable, element);\n",
              "          const docLink = document.createElement('div');\n",
              "          docLink.innerHTML = docLinkHtml;\n",
              "          element.appendChild(docLink);\n",
              "        }\n",
              "      </script>\n",
              "    </div>\n",
              "  </div>\n",
              "  "
            ]
          },
          "metadata": {},
          "execution_count": 3
        }
      ]
    },
    {
      "cell_type": "code",
      "source": [
        "df.index = pd.to_datetime(df['date'], format='%d/%m/%Y %H:%M')\n",
        "df[:26]"
      ],
      "metadata": {
        "colab": {
          "base_uri": "https://localhost:8080/",
          "height": 896
        },
        "id": "HKyPpTZ1sHPh",
        "outputId": "318eff55-8686-4405-a222-d252ea36e54d"
      },
      "execution_count": 4,
      "outputs": [
        {
          "output_type": "execute_result",
          "data": {
            "text/plain": [
              "                                 date  occupied\n",
              "date                                           \n",
              "2022-05-11 00:00:00   11/05/2022 0:00      0.79\n",
              "2022-05-11 01:00:00   11/05/2022 1:00      0.79\n",
              "2022-05-11 02:00:00   11/05/2022 2:00      0.80\n",
              "2022-05-11 03:00:00   11/05/2022 3:00      0.80\n",
              "2022-05-11 04:00:00   11/05/2022 4:00      0.80\n",
              "2022-05-11 05:00:00   11/05/2022 5:00      0.80\n",
              "2022-05-11 06:00:00   11/05/2022 6:00      0.81\n",
              "2022-05-11 07:00:00   11/05/2022 7:00      0.81\n",
              "2022-05-11 08:00:00   11/05/2022 8:00      0.81\n",
              "2022-05-11 09:00:00   11/05/2022 9:00      0.81\n",
              "2022-05-11 10:00:00  11/05/2022 10:00      0.81\n",
              "2022-05-11 11:00:00  11/05/2022 11:00      0.80\n",
              "2022-05-11 12:00:00  11/05/2022 12:00      0.79\n",
              "2022-05-11 13:00:00  11/05/2022 13:00      0.79\n",
              "2022-05-11 14:00:00  11/05/2022 14:00      0.78\n",
              "2022-05-11 15:00:00  11/05/2022 15:00      0.77\n",
              "2022-05-11 16:00:00  11/05/2022 16:00      0.77\n",
              "2022-05-11 17:00:00  11/05/2022 17:00      0.77\n",
              "2022-05-11 18:00:00  11/05/2022 18:00      0.77\n",
              "2022-05-11 19:00:00  11/05/2022 19:00      0.77\n",
              "2022-05-11 20:00:00  11/05/2022 20:00      0.78\n",
              "2022-05-11 21:00:00  11/05/2022 21:00      0.78\n",
              "2022-05-11 22:00:00  11/05/2022 22:00      0.79\n",
              "2022-05-11 23:00:00  11/05/2022 23:00      0.79\n",
              "2022-05-12 00:00:00   12/05/2022 0:00      0.79\n",
              "2022-05-12 01:00:00   12/05/2022 1:00      0.80"
            ],
            "text/html": [
              "\n",
              "  <div id=\"df-e42c085c-7ff4-46e4-8ae6-a1a2ec117b75\">\n",
              "    <div class=\"colab-df-container\">\n",
              "      <div>\n",
              "<style scoped>\n",
              "    .dataframe tbody tr th:only-of-type {\n",
              "        vertical-align: middle;\n",
              "    }\n",
              "\n",
              "    .dataframe tbody tr th {\n",
              "        vertical-align: top;\n",
              "    }\n",
              "\n",
              "    .dataframe thead th {\n",
              "        text-align: right;\n",
              "    }\n",
              "</style>\n",
              "<table border=\"1\" class=\"dataframe\">\n",
              "  <thead>\n",
              "    <tr style=\"text-align: right;\">\n",
              "      <th></th>\n",
              "      <th>date</th>\n",
              "      <th>occupied</th>\n",
              "    </tr>\n",
              "    <tr>\n",
              "      <th>date</th>\n",
              "      <th></th>\n",
              "      <th></th>\n",
              "    </tr>\n",
              "  </thead>\n",
              "  <tbody>\n",
              "    <tr>\n",
              "      <th>2022-05-11 00:00:00</th>\n",
              "      <td>11/05/2022 0:00</td>\n",
              "      <td>0.79</td>\n",
              "    </tr>\n",
              "    <tr>\n",
              "      <th>2022-05-11 01:00:00</th>\n",
              "      <td>11/05/2022 1:00</td>\n",
              "      <td>0.79</td>\n",
              "    </tr>\n",
              "    <tr>\n",
              "      <th>2022-05-11 02:00:00</th>\n",
              "      <td>11/05/2022 2:00</td>\n",
              "      <td>0.80</td>\n",
              "    </tr>\n",
              "    <tr>\n",
              "      <th>2022-05-11 03:00:00</th>\n",
              "      <td>11/05/2022 3:00</td>\n",
              "      <td>0.80</td>\n",
              "    </tr>\n",
              "    <tr>\n",
              "      <th>2022-05-11 04:00:00</th>\n",
              "      <td>11/05/2022 4:00</td>\n",
              "      <td>0.80</td>\n",
              "    </tr>\n",
              "    <tr>\n",
              "      <th>2022-05-11 05:00:00</th>\n",
              "      <td>11/05/2022 5:00</td>\n",
              "      <td>0.80</td>\n",
              "    </tr>\n",
              "    <tr>\n",
              "      <th>2022-05-11 06:00:00</th>\n",
              "      <td>11/05/2022 6:00</td>\n",
              "      <td>0.81</td>\n",
              "    </tr>\n",
              "    <tr>\n",
              "      <th>2022-05-11 07:00:00</th>\n",
              "      <td>11/05/2022 7:00</td>\n",
              "      <td>0.81</td>\n",
              "    </tr>\n",
              "    <tr>\n",
              "      <th>2022-05-11 08:00:00</th>\n",
              "      <td>11/05/2022 8:00</td>\n",
              "      <td>0.81</td>\n",
              "    </tr>\n",
              "    <tr>\n",
              "      <th>2022-05-11 09:00:00</th>\n",
              "      <td>11/05/2022 9:00</td>\n",
              "      <td>0.81</td>\n",
              "    </tr>\n",
              "    <tr>\n",
              "      <th>2022-05-11 10:00:00</th>\n",
              "      <td>11/05/2022 10:00</td>\n",
              "      <td>0.81</td>\n",
              "    </tr>\n",
              "    <tr>\n",
              "      <th>2022-05-11 11:00:00</th>\n",
              "      <td>11/05/2022 11:00</td>\n",
              "      <td>0.80</td>\n",
              "    </tr>\n",
              "    <tr>\n",
              "      <th>2022-05-11 12:00:00</th>\n",
              "      <td>11/05/2022 12:00</td>\n",
              "      <td>0.79</td>\n",
              "    </tr>\n",
              "    <tr>\n",
              "      <th>2022-05-11 13:00:00</th>\n",
              "      <td>11/05/2022 13:00</td>\n",
              "      <td>0.79</td>\n",
              "    </tr>\n",
              "    <tr>\n",
              "      <th>2022-05-11 14:00:00</th>\n",
              "      <td>11/05/2022 14:00</td>\n",
              "      <td>0.78</td>\n",
              "    </tr>\n",
              "    <tr>\n",
              "      <th>2022-05-11 15:00:00</th>\n",
              "      <td>11/05/2022 15:00</td>\n",
              "      <td>0.77</td>\n",
              "    </tr>\n",
              "    <tr>\n",
              "      <th>2022-05-11 16:00:00</th>\n",
              "      <td>11/05/2022 16:00</td>\n",
              "      <td>0.77</td>\n",
              "    </tr>\n",
              "    <tr>\n",
              "      <th>2022-05-11 17:00:00</th>\n",
              "      <td>11/05/2022 17:00</td>\n",
              "      <td>0.77</td>\n",
              "    </tr>\n",
              "    <tr>\n",
              "      <th>2022-05-11 18:00:00</th>\n",
              "      <td>11/05/2022 18:00</td>\n",
              "      <td>0.77</td>\n",
              "    </tr>\n",
              "    <tr>\n",
              "      <th>2022-05-11 19:00:00</th>\n",
              "      <td>11/05/2022 19:00</td>\n",
              "      <td>0.77</td>\n",
              "    </tr>\n",
              "    <tr>\n",
              "      <th>2022-05-11 20:00:00</th>\n",
              "      <td>11/05/2022 20:00</td>\n",
              "      <td>0.78</td>\n",
              "    </tr>\n",
              "    <tr>\n",
              "      <th>2022-05-11 21:00:00</th>\n",
              "      <td>11/05/2022 21:00</td>\n",
              "      <td>0.78</td>\n",
              "    </tr>\n",
              "    <tr>\n",
              "      <th>2022-05-11 22:00:00</th>\n",
              "      <td>11/05/2022 22:00</td>\n",
              "      <td>0.79</td>\n",
              "    </tr>\n",
              "    <tr>\n",
              "      <th>2022-05-11 23:00:00</th>\n",
              "      <td>11/05/2022 23:00</td>\n",
              "      <td>0.79</td>\n",
              "    </tr>\n",
              "    <tr>\n",
              "      <th>2022-05-12 00:00:00</th>\n",
              "      <td>12/05/2022 0:00</td>\n",
              "      <td>0.79</td>\n",
              "    </tr>\n",
              "    <tr>\n",
              "      <th>2022-05-12 01:00:00</th>\n",
              "      <td>12/05/2022 1:00</td>\n",
              "      <td>0.80</td>\n",
              "    </tr>\n",
              "  </tbody>\n",
              "</table>\n",
              "</div>\n",
              "      <button class=\"colab-df-convert\" onclick=\"convertToInteractive('df-e42c085c-7ff4-46e4-8ae6-a1a2ec117b75')\"\n",
              "              title=\"Convert this dataframe to an interactive table.\"\n",
              "              style=\"display:none;\">\n",
              "        \n",
              "  <svg xmlns=\"http://www.w3.org/2000/svg\" height=\"24px\"viewBox=\"0 0 24 24\"\n",
              "       width=\"24px\">\n",
              "    <path d=\"M0 0h24v24H0V0z\" fill=\"none\"/>\n",
              "    <path d=\"M18.56 5.44l.94 2.06.94-2.06 2.06-.94-2.06-.94-.94-2.06-.94 2.06-2.06.94zm-11 1L8.5 8.5l.94-2.06 2.06-.94-2.06-.94L8.5 2.5l-.94 2.06-2.06.94zm10 10l.94 2.06.94-2.06 2.06-.94-2.06-.94-.94-2.06-.94 2.06-2.06.94z\"/><path d=\"M17.41 7.96l-1.37-1.37c-.4-.4-.92-.59-1.43-.59-.52 0-1.04.2-1.43.59L10.3 9.45l-7.72 7.72c-.78.78-.78 2.05 0 2.83L4 21.41c.39.39.9.59 1.41.59.51 0 1.02-.2 1.41-.59l7.78-7.78 2.81-2.81c.8-.78.8-2.07 0-2.86zM5.41 20L4 18.59l7.72-7.72 1.47 1.35L5.41 20z\"/>\n",
              "  </svg>\n",
              "      </button>\n",
              "      \n",
              "  <style>\n",
              "    .colab-df-container {\n",
              "      display:flex;\n",
              "      flex-wrap:wrap;\n",
              "      gap: 12px;\n",
              "    }\n",
              "\n",
              "    .colab-df-convert {\n",
              "      background-color: #E8F0FE;\n",
              "      border: none;\n",
              "      border-radius: 50%;\n",
              "      cursor: pointer;\n",
              "      display: none;\n",
              "      fill: #1967D2;\n",
              "      height: 32px;\n",
              "      padding: 0 0 0 0;\n",
              "      width: 32px;\n",
              "    }\n",
              "\n",
              "    .colab-df-convert:hover {\n",
              "      background-color: #E2EBFA;\n",
              "      box-shadow: 0px 1px 2px rgba(60, 64, 67, 0.3), 0px 1px 3px 1px rgba(60, 64, 67, 0.15);\n",
              "      fill: #174EA6;\n",
              "    }\n",
              "\n",
              "    [theme=dark] .colab-df-convert {\n",
              "      background-color: #3B4455;\n",
              "      fill: #D2E3FC;\n",
              "    }\n",
              "\n",
              "    [theme=dark] .colab-df-convert:hover {\n",
              "      background-color: #434B5C;\n",
              "      box-shadow: 0px 1px 3px 1px rgba(0, 0, 0, 0.15);\n",
              "      filter: drop-shadow(0px 1px 2px rgba(0, 0, 0, 0.3));\n",
              "      fill: #FFFFFF;\n",
              "    }\n",
              "  </style>\n",
              "\n",
              "      <script>\n",
              "        const buttonEl =\n",
              "          document.querySelector('#df-e42c085c-7ff4-46e4-8ae6-a1a2ec117b75 button.colab-df-convert');\n",
              "        buttonEl.style.display =\n",
              "          google.colab.kernel.accessAllowed ? 'block' : 'none';\n",
              "\n",
              "        async function convertToInteractive(key) {\n",
              "          const element = document.querySelector('#df-e42c085c-7ff4-46e4-8ae6-a1a2ec117b75');\n",
              "          const dataTable =\n",
              "            await google.colab.kernel.invokeFunction('convertToInteractive',\n",
              "                                                     [key], {});\n",
              "          if (!dataTable) return;\n",
              "\n",
              "          const docLinkHtml = 'Like what you see? Visit the ' +\n",
              "            '<a target=\"_blank\" href=https://colab.research.google.com/notebooks/data_table.ipynb>data table notebook</a>'\n",
              "            + ' to learn more about interactive tables.';\n",
              "          element.innerHTML = '';\n",
              "          dataTable['output_type'] = 'display_data';\n",
              "          await google.colab.output.renderOutput(dataTable, element);\n",
              "          const docLink = document.createElement('div');\n",
              "          docLink.innerHTML = docLinkHtml;\n",
              "          element.appendChild(docLink);\n",
              "        }\n",
              "      </script>\n",
              "    </div>\n",
              "  </div>\n",
              "  "
            ]
          },
          "metadata": {},
          "execution_count": 4
        }
      ]
    },
    {
      "cell_type": "code",
      "source": [
        "bed = df['occupied']\n",
        "bed.plot()"
      ],
      "metadata": {
        "colab": {
          "base_uri": "https://localhost:8080/",
          "height": 331
        },
        "id": "iecOGrdHsSPR",
        "outputId": "db940409-0f47-451e-ea0d-f4dcc12fd85a"
      },
      "execution_count": 5,
      "outputs": [
        {
          "output_type": "execute_result",
          "data": {
            "text/plain": [
              "<matplotlib.axes._subplots.AxesSubplot at 0x7f8cc18e9b90>"
            ]
          },
          "metadata": {},
          "execution_count": 5
        },
        {
          "output_type": "display_data",
          "data": {
            "text/plain": [
              "<Figure size 432x288 with 1 Axes>"
            ],
            "image/png": "[encoded data removed]"
          },
          "metadata": {
            "needs_background": "light"
          }
        }
      ]
    },
    {
      "cell_type": "code",
      "source": [
        "def df_to_X_y(df, window_size=30):\n",
        "  df_as_np = df.to_numpy()\n",
        "  X = []\n",
        "  y = []\n",
        "  for i in range(len(df_as_np)-window_size):\n",
        "    row = [[a] for a in df_as_np[i:i+window_size]]\n",
        "    X.append(row)\n",
        "    label = df_as_np[i+window_size]\n",
        "    y.append(label)\n",
        "  return np.array(X), np.array(y)"
      ],
      "metadata": {
        "id": "0652ZbqNsUiA"
      },
      "execution_count": 6,
      "outputs": []
    },
    {
      "cell_type": "code",
      "source": [
        "WINDOW_SIZE = 5\n",
        "X1, y1 = df_to_X_y(bed, WINDOW_SIZE)\n",
        "X1.shape, y1.shape"
      ],
      "metadata": {
        "colab": {
          "base_uri": "https://localhost:8080/"
        },
        "id": "75t1B-_WsX8I",
        "outputId": "9cb4c60f-7d98-4d50-a88f-0a26bfeedfb6"
      },
      "execution_count": 7,
      "outputs": [
        {
          "output_type": "execute_result",
          "data": {
            "text/plain": [
              "((1995, 5, 1), (1995,))"
            ]
          },
          "metadata": {},
          "execution_count": 7
        }
      ]
    },
    {
      "cell_type": "code",
      "source": [
        "X_train1, y_train1 = X1[:1500], y1[:1500]\n",
        "X_val1, y_val1 = X1[1500:1750], y1[1500:1750]\n",
        "X_test1, y_test1 = X1[1750:], y1[1750:]\n",
        "X_train1.shape, y_train1.shape, X_val1.shape, y_val1.shape, X_test1.shape, y_test1.shape"
      ],
      "metadata": {
        "colab": {
          "base_uri": "https://localhost:8080/"
        },
        "id": "MqYUQF_4saCw",
        "outputId": "c597e825-adc4-4310-844f-605a4ffe0004"
      },
      "execution_count": 8,
      "outputs": [
        {
          "output_type": "execute_result",
          "data": {
            "text/plain": [
              "((1500, 5, 1), (1500,), (250, 5, 1), (250,), (245, 5, 1), (245,))"
            ]
          },
          "metadata": {},
          "execution_count": 8
        }
      ]
    },
    {
      "cell_type": "code",
      "source": [
        "from tensorflow.keras.models import Sequential\n",
        "from tensorflow.keras.layers import *\n",
        "from tensorflow.keras.callbacks import ModelCheckpoint\n",
        "from tensorflow.keras.losses import MeanSquaredError\n",
        "from tensorflow.keras.metrics import RootMeanSquaredError\n",
        "from tensorflow.keras.optimizers import Adam\n",
        "\n",
        "model1 = Sequential()\n",
        "model1.add(InputLayer((5, 1)))\n",
        "model1.add(LSTM(64))\n",
        "model1.add(Dense(8, 'relu'))\n",
        "model1.add(Dense(1, 'linear'))\n",
        "\n",
        "model1.summary()"
      ],
      "metadata": {
        "colab": {
          "base_uri": "https://localhost:8080/"
        },
        "id": "zK4ClNLzsdEv",
        "outputId": "5b1ff365-9e7a-43fa-8ab3-2292434c15ee"
      },
      "execution_count": 9,
      "outputs": [
        {
          "output_type": "stream",
          "name": "stdout",
          "text": [
            "Model: \"sequential\"\n",
            "_________________________________________________________________\n",
            " Layer (type)                Output Shape              Param #   \n",
            "=================================================================\n",
            " lstm (LSTM)                 (None, 64)                16896     \n",
            "                                                                 \n",
            " dense (Dense)               (None, 8)                 520       \n",
            "                                                                 \n",
            " dense_1 (Dense)             (None, 1)                 9         \n",
            "                                                                 \n",
            "=================================================================\n",
            "Total params: 17,425\n",
            "Trainable params: 17,425\n",
            "Non-trainable params: 0\n",
            "_________________________________________________________________\n"
          ]
        }
      ]
    },
    {
      "cell_type": "code",
      "source": [
        "cp1 = ModelCheckpoint('model1/', save_best_only=True)\n",
        "model1.compile(loss=MeanSquaredError(), optimizer=Adam(learning_rate=0.001), metrics=[RootMeanSquaredError()])"
      ],
      "metadata": {
        "id": "932eDNgJsggY"
      },
      "execution_count": 22,
      "outputs": []
    },
    {
      "cell_type": "code",
      "source": [
        "model1.fit(X_train1, y_train1, validation_data=(X_val1, y_val1), epochs=100, callbacks=[cp1])"
      ],
      "metadata": {
        "colab": {
          "base_uri": "https://localhost:8080/"
        },
        "id": "3mf6SjN-skdA",
        "outputId": "7e848fb7-9894-4e9a-bd7a-07160ea1475c"
      },
      "execution_count": 23,
      "outputs": [
        {
          "output_type": "stream",
          "name": "stdout",
          "text": [
            "Epoch 1/100\n",
            "41/47 [=========================>....] - ETA: 0s - loss: 3.5505e-04 - root_mean_squared_error: 0.0188"
          ]
        },
        {
          "output_type": "stream",
          "name": "stderr",
          "text": [
            "WARNING:absl:Found untraced functions such as lstm_cell_1_layer_call_fn, lstm_cell_1_layer_call_and_return_conditional_losses while saving (showing 2 of 2). These functions will not be directly callable after loading.\n",
            "WARNING:absl:<keras.layers.recurrent.LSTMCell object at 0x7f8cb61356d0> has the same name 'LSTMCell' as a built-in Keras object. Consider renaming <class 'keras.layers.recurrent.LSTMCell'> to avoid naming conflicts when loading with `tf.keras.models.load_model`. If renaming is not possible, pass the object in the `custom_objects` parameter of the load function.\n"
          ]
        },
        {
          "output_type": "stream",
          "name": "stdout",
          "text": [
            "\b\b\b\b\b\b\b\b\b\b\b\b\b\b\b\b\b\b\b\b\b\b\b\b\b\b\b\b\b\b\b\b\b\b\b\b\b\b\b\b\b\b\b\b\b\b\b\b\b\b\b\b\b\b\b\b\b\b\b\b\b\b\b\b\b\b\b\b\b\b\b\b\b\b\b\b\b\b\b\b\b\b\b\b\b\b\b\b\b\b\b\b\b\b\b\b\b\b\b\b\b\r47/47 [==============================] - 8s 122ms/step - loss: 3.3353e-04 - root_mean_squared_error: 0.0183 - val_loss: 1.8343e-04 - val_root_mean_squared_error: 0.0135\n",
            "Epoch 2/100\n",
            "47/47 [==============================] - 0s 8ms/step - loss: 1.7461e-04 - root_mean_squared_error: 0.0132 - val_loss: 1.8969e-04 - val_root_mean_squared_error: 0.0138\n",
            "Epoch 3/100\n",
            "41/47 [=========================>....] - ETA: 0s - loss: 1.7428e-04 - root_mean_squared_error: 0.0132"
          ]
        },
        {
          "output_type": "stream",
          "name": "stderr",
          "text": [
            "WARNING:absl:Found untraced functions such as lstm_cell_1_layer_call_fn, lstm_cell_1_layer_call_and_return_conditional_losses while saving (showing 2 of 2). These functions will not be directly callable after loading.\n",
            "WARNING:absl:<keras.layers.recurrent.LSTMCell object at 0x7f8cb61356d0> has the same name 'LSTMCell' as a built-in Keras object. Consider renaming <class 'keras.layers.recurrent.LSTMCell'> to avoid naming conflicts when loading with `tf.keras.models.load_model`. If renaming is not possible, pass the object in the `custom_objects` parameter of the load function.\n"
          ]
        },
        {
          "output_type": "stream",
          "name": "stdout",
          "text": [
            "\b\b\b\b\b\b\b\b\b\b\b\b\b\b\b\b\b\b\b\b\b\b\b\b\b\b\b\b\b\b\b\b\b\b\b\b\b\b\b\b\b\b\b\b\b\b\b\b\b\b\b\b\b\b\b\b\b\b\b\b\b\b\b\b\b\b\b\b\b\b\b\b\b\b\b\b\b\b\b\b\b\b\b\b\b\b\b\b\b\b\b\b\b\b\b\b\b\b\b\b\b\r47/47 [==============================] - 6s 121ms/step - loss: 1.7439e-04 - root_mean_squared_error: 0.0132 - val_loss: 1.7780e-04 - val_root_mean_squared_error: 0.0133\n",
            "Epoch 4/100\n",
            "47/47 [==============================] - 0s 8ms/step - loss: 1.7927e-04 - root_mean_squared_error: 0.0134 - val_loss: 1.9673e-04 - val_root_mean_squared_error: 0.0140\n",
            "Epoch 5/100\n",
            "47/47 [==============================] - 0s 8ms/step - loss: 1.6827e-04 - root_mean_squared_error: 0.0130 - val_loss: 2.0082e-04 - val_root_mean_squared_error: 0.0142\n",
            "Epoch 6/100\n",
            "47/47 [==============================] - 0s 8ms/step - loss: 1.8790e-04 - root_mean_squared_error: 0.0137 - val_loss: 3.0857e-04 - val_root_mean_squared_error: 0.0176\n",
            "Epoch 7/100\n",
            "47/47 [==============================] - 0s 8ms/step - loss: 2.3017e-04 - root_mean_squared_error: 0.0152 - val_loss: 1.8355e-04 - val_root_mean_squared_error: 0.0135\n",
            "Epoch 8/100\n",
            "47/47 [==============================] - 0s 8ms/step - loss: 1.7649e-04 - root_mean_squared_error: 0.0133 - val_loss: 1.8883e-04 - val_root_mean_squared_error: 0.0137\n",
            "Epoch 9/100\n",
            "47/47 [==============================] - 0s 7ms/step - loss: 1.7539e-04 - root_mean_squared_error: 0.0132 - val_loss: 1.9514e-04 - val_root_mean_squared_error: 0.0140\n",
            "Epoch 10/100\n",
            "47/47 [==============================] - 0s 8ms/step - loss: 1.6795e-04 - root_mean_squared_error: 0.0130 - val_loss: 1.8325e-04 - val_root_mean_squared_error: 0.0135\n",
            "Epoch 11/100\n",
            "42/47 [=========================>....] - ETA: 0s - loss: 2.0644e-04 - root_mean_squared_error: 0.0144"
          ]
        },
        {
          "output_type": "stream",
          "name": "stderr",
          "text": [
            "WARNING:absl:Found untraced functions such as lstm_cell_1_layer_call_fn, lstm_cell_1_layer_call_and_return_conditional_losses while saving (showing 2 of 2). These functions will not be directly callable after loading.\n",
            "WARNING:absl:<keras.layers.recurrent.LSTMCell object at 0x7f8cb61356d0> has the same name 'LSTMCell' as a built-in Keras object. Consider renaming <class 'keras.layers.recurrent.LSTMCell'> to avoid naming conflicts when loading with `tf.keras.models.load_model`. If renaming is not possible, pass the object in the `custom_objects` parameter of the load function.\n"
          ]
        },
        {
          "output_type": "stream",
          "name": "stdout",
          "text": [
            "\b\b\b\b\b\b\b\b\b\b\b\b\b\b\b\b\b\b\b\b\b\b\b\b\b\b\b\b\b\b\b\b\b\b\b\b\b\b\b\b\b\b\b\b\b\b\b\b\b\b\b\b\b\b\b\b\b\b\b\b\b\b\b\b\b\b\b\b\b\b\b\b\b\b\b\b\b\b\b\b\b\b\b\b\b\b\b\b\b\b\b\b\b\b\b\b\b\b\b\b\b\r47/47 [==============================] - 5s 118ms/step - loss: 2.0577e-04 - root_mean_squared_error: 0.0143 - val_loss: 1.7574e-04 - val_root_mean_squared_error: 0.0133\n",
            "Epoch 12/100\n",
            "40/47 [========================>.....] - ETA: 0s - loss: 1.7834e-04 - root_mean_squared_error: 0.0134"
          ]
        },
        {
          "output_type": "stream",
          "name": "stderr",
          "text": [
            "WARNING:absl:Found untraced functions such as lstm_cell_1_layer_call_fn, lstm_cell_1_layer_call_and_return_conditional_losses while saving (showing 2 of 2). These functions will not be directly callable after loading.\n",
            "WARNING:absl:<keras.layers.recurrent.LSTMCell object at 0x7f8cb61356d0> has the same name 'LSTMCell' as a built-in Keras object. Consider renaming <class 'keras.layers.recurrent.LSTMCell'> to avoid naming conflicts when loading with `tf.keras.models.load_model`. If renaming is not possible, pass the object in the `custom_objects` parameter of the load function.\n"
          ]
        },
        {
          "output_type": "stream",
          "name": "stdout",
          "text": [
            "\b\b\b\b\b\b\b\b\b\b\b\b\b\b\b\b\b\b\b\b\b\b\b\b\b\b\b\b\b\b\b\b\b\b\b\b\b\b\b\b\b\b\b\b\b\b\b\b\b\b\b\b\b\b\b\b\b\b\b\b\b\b\b\b\b\b\b\b\b\b\b\b\b\b\b\b\b\b\b\b\b\b\b\b\b\b\b\b\b\b\b\b\b\b\b\b\b\b\b\b\b\r47/47 [==============================] - 5s 109ms/step - loss: 1.7655e-04 - root_mean_squared_error: 0.0133 - val_loss: 1.6932e-04 - val_root_mean_squared_error: 0.0130\n",
            "Epoch 13/100\n",
            "47/47 [==============================] - 0s 8ms/step - loss: 1.7382e-04 - root_mean_squared_error: 0.0132 - val_loss: 1.9543e-04 - val_root_mean_squared_error: 0.0140\n",
            "Epoch 14/100\n",
            "47/47 [==============================] - 0s 8ms/step - loss: 1.9592e-04 - root_mean_squared_error: 0.0140 - val_loss: 1.9867e-04 - val_root_mean_squared_error: 0.0141\n",
            "Epoch 15/100\n",
            "41/47 [=========================>....] - ETA: 0s - loss: 1.8764e-04 - root_mean_squared_error: 0.0137"
          ]
        },
        {
          "output_type": "stream",
          "name": "stderr",
          "text": [
            "WARNING:absl:Found untraced functions such as lstm_cell_1_layer_call_fn, lstm_cell_1_layer_call_and_return_conditional_losses while saving (showing 2 of 2). These functions will not be directly callable after loading.\n",
            "WARNING:absl:<keras.layers.recurrent.LSTMCell object at 0x7f8cb61356d0> has the same name 'LSTMCell' as a built-in Keras object. Consider renaming <class 'keras.layers.recurrent.LSTMCell'> to avoid naming conflicts when loading with `tf.keras.models.load_model`. If renaming is not possible, pass the object in the `custom_objects` parameter of the load function.\n"
          ]
        },
        {
          "output_type": "stream",
          "name": "stdout",
          "text": [
            "\b\b\b\b\b\b\b\b\b\b\b\b\b\b\b\b\b\b\b\b\b\b\b\b\b\b\b\b\b\b\b\b\b\b\b\b\b\b\b\b\b\b\b\b\b\b\b\b\b\b\b\b\b\b\b\b\b\b\b\b\b\b\b\b\b\b\b\b\b\b\b\b\b\b\b\b\b\b\b\b\b\b\b\b\b\b\b\b\b\b\b\b\b\b\b\b\b\b\b\b\b\r47/47 [==============================] - 6s 125ms/step - loss: 1.8960e-04 - root_mean_squared_error: 0.0138 - val_loss: 1.6605e-04 - val_root_mean_squared_error: 0.0129\n",
            "Epoch 16/100\n",
            "47/47 [==============================] - ETA: 0s - loss: 1.6969e-04 - root_mean_squared_error: 0.0130"
          ]
        },
        {
          "output_type": "stream",
          "name": "stderr",
          "text": [
            "WARNING:absl:Found untraced functions such as lstm_cell_1_layer_call_fn, lstm_cell_1_layer_call_and_return_conditional_losses while saving (showing 2 of 2). These functions will not be directly callable after loading.\n",
            "WARNING:absl:<keras.layers.recurrent.LSTMCell object at 0x7f8cb61356d0> has the same name 'LSTMCell' as a built-in Keras object. Consider renaming <class 'keras.layers.recurrent.LSTMCell'> to avoid naming conflicts when loading with `tf.keras.models.load_model`. If renaming is not possible, pass the object in the `custom_objects` parameter of the load function.\n"
          ]
        },
        {
          "output_type": "stream",
          "name": "stdout",
          "text": [
            "\b\b\b\b\b\b\b\b\b\b\b\b\b\b\b\b\b\b\b\b\b\b\b\b\b\b\b\b\b\b\b\b\b\b\b\b\b\b\b\b\b\b\b\b\b\b\b\b\b\b\b\b\b\b\b\b\b\b\b\b\b\b\b\b\b\b\b\b\b\b\b\b\b\b\b\b\b\b\b\b\b\b\b\b\b\b\b\b\b\b\b\b\b\b\b\b\b\b\b\b\b\r47/47 [==============================] - 5s 113ms/step - loss: 1.6969e-04 - root_mean_squared_error: 0.0130 - val_loss: 1.6495e-04 - val_root_mean_squared_error: 0.0128\n",
            "Epoch 17/100\n",
            "47/47 [==============================] - ETA: 0s - loss: 1.7616e-04 - root_mean_squared_error: 0.0133"
          ]
        },
        {
          "output_type": "stream",
          "name": "stderr",
          "text": [
            "WARNING:absl:Found untraced functions such as lstm_cell_1_layer_call_fn, lstm_cell_1_layer_call_and_return_conditional_losses while saving (showing 2 of 2). These functions will not be directly callable after loading.\n",
            "WARNING:absl:<keras.layers.recurrent.LSTMCell object at 0x7f8cb61356d0> has the same name 'LSTMCell' as a built-in Keras object. Consider renaming <class 'keras.layers.recurrent.LSTMCell'> to avoid naming conflicts when loading with `tf.keras.models.load_model`. If renaming is not possible, pass the object in the `custom_objects` parameter of the load function.\n"
          ]
        },
        {
          "output_type": "stream",
          "name": "stdout",
          "text": [
            "\b\b\b\b\b\b\b\b\b\b\b\b\b\b\b\b\b\b\b\b\b\b\b\b\b\b\b\b\b\b\b\b\b\b\b\b\b\b\b\b\b\b\b\b\b\b\b\b\b\b\b\b\b\b\b\b\b\b\b\b\b\b\b\b\b\b\b\b\b\b\b\b\b\b\b\b\b\b\b\b\b\b\b\b\b\b\b\b\b\b\b\b\b\b\b\b\b\b\b\b\b\r47/47 [==============================] - 6s 123ms/step - loss: 1.7616e-04 - root_mean_squared_error: 0.0133 - val_loss: 1.6392e-04 - val_root_mean_squared_error: 0.0128\n",
            "Epoch 18/100\n",
            "40/47 [========================>.....] - ETA: 0s - loss: 1.7757e-04 - root_mean_squared_error: 0.0133"
          ]
        },
        {
          "output_type": "stream",
          "name": "stderr",
          "text": [
            "WARNING:absl:Found untraced functions such as lstm_cell_1_layer_call_fn, lstm_cell_1_layer_call_and_return_conditional_losses while saving (showing 2 of 2). These functions will not be directly callable after loading.\n",
            "WARNING:absl:<keras.layers.recurrent.LSTMCell object at 0x7f8cb61356d0> has the same name 'LSTMCell' as a built-in Keras object. Consider renaming <class 'keras.layers.recurrent.LSTMCell'> to avoid naming conflicts when loading with `tf.keras.models.load_model`. If renaming is not possible, pass the object in the `custom_objects` parameter of the load function.\n"
          ]
        },
        {
          "output_type": "stream",
          "name": "stdout",
          "text": [
            "\b\b\b\b\b\b\b\b\b\b\b\b\b\b\b\b\b\b\b\b\b\b\b\b\b\b\b\b\b\b\b\b\b\b\b\b\b\b\b\b\b\b\b\b\b\b\b\b\b\b\b\b\b\b\b\b\b\b\b\b\b\b\b\b\b\b\b\b\b\b\b\b\b\b\b\b\b\b\b\b\b\b\b\b\b\b\b\b\b\b\b\b\b\b\b\b\b\b\b\b\b\r47/47 [==============================] - 5s 111ms/step - loss: 1.7280e-04 - root_mean_squared_error: 0.0131 - val_loss: 1.6248e-04 - val_root_mean_squared_error: 0.0127\n",
            "Epoch 19/100\n",
            "43/47 [==========================>...] - ETA: 0s - loss: 1.7522e-04 - root_mean_squared_error: 0.0132"
          ]
        },
        {
          "output_type": "stream",
          "name": "stderr",
          "text": [
            "WARNING:absl:Found untraced functions such as lstm_cell_1_layer_call_fn, lstm_cell_1_layer_call_and_return_conditional_losses while saving (showing 2 of 2). These functions will not be directly callable after loading.\n",
            "WARNING:absl:<keras.layers.recurrent.LSTMCell object at 0x7f8cb61356d0> has the same name 'LSTMCell' as a built-in Keras object. Consider renaming <class 'keras.layers.recurrent.LSTMCell'> to avoid naming conflicts when loading with `tf.keras.models.load_model`. If renaming is not possible, pass the object in the `custom_objects` parameter of the load function.\n"
          ]
        },
        {
          "output_type": "stream",
          "name": "stdout",
          "text": [
            "\b\b\b\b\b\b\b\b\b\b\b\b\b\b\b\b\b\b\b\b\b\b\b\b\b\b\b\b\b\b\b\b\b\b\b\b\b\b\b\b\b\b\b\b\b\b\b\b\b\b\b\b\b\b\b\b\b\b\b\b\b\b\b\b\b\b\b\b\b\b\b\b\b\b\b\b\b\b\b\b\b\b\b\b\b\b\b\b\b\b\b\b\b\b\b\b\b\b\b\b\b\r47/47 [==============================] - 6s 125ms/step - loss: 1.7417e-04 - root_mean_squared_error: 0.0132 - val_loss: 1.6171e-04 - val_root_mean_squared_error: 0.0127\n",
            "Epoch 20/100\n",
            "47/47 [==============================] - 0s 7ms/step - loss: 1.7701e-04 - root_mean_squared_error: 0.0133 - val_loss: 1.6861e-04 - val_root_mean_squared_error: 0.0130\n",
            "Epoch 21/100\n",
            "47/47 [==============================] - 0s 8ms/step - loss: 1.9090e-04 - root_mean_squared_error: 0.0138 - val_loss: 1.7096e-04 - val_root_mean_squared_error: 0.0131\n",
            "Epoch 22/100\n",
            "47/47 [==============================] - 0s 8ms/step - loss: 1.6998e-04 - root_mean_squared_error: 0.0130 - val_loss: 1.6733e-04 - val_root_mean_squared_error: 0.0129\n",
            "Epoch 23/100\n",
            "41/47 [=========================>....] - ETA: 0s - loss: 1.6355e-04 - root_mean_squared_error: 0.0128"
          ]
        },
        {
          "output_type": "stream",
          "name": "stderr",
          "text": [
            "WARNING:absl:Found untraced functions such as lstm_cell_1_layer_call_fn, lstm_cell_1_layer_call_and_return_conditional_losses while saving (showing 2 of 2). These functions will not be directly callable after loading.\n",
            "WARNING:absl:<keras.layers.recurrent.LSTMCell object at 0x7f8cb61356d0> has the same name 'LSTMCell' as a built-in Keras object. Consider renaming <class 'keras.layers.recurrent.LSTMCell'> to avoid naming conflicts when loading with `tf.keras.models.load_model`. If renaming is not possible, pass the object in the `custom_objects` parameter of the load function.\n"
          ]
        },
        {
          "output_type": "stream",
          "name": "stdout",
          "text": [
            "\b\b\b\b\b\b\b\b\b\b\b\b\b\b\b\b\b\b\b\b\b\b\b\b\b\b\b\b\b\b\b\b\b\b\b\b\b\b\b\b\b\b\b\b\b\b\b\b\b\b\b\b\b\b\b\b\b\b\b\b\b\b\b\b\b\b\b\b\b\b\b\b\b\b\b\b\b\b\b\b\b\b\b\b\b\b\b\b\b\b\b\b\b\b\b\b\b\b\b\b\b\r47/47 [==============================] - 5s 111ms/step - loss: 1.6503e-04 - root_mean_squared_error: 0.0128 - val_loss: 1.5833e-04 - val_root_mean_squared_error: 0.0126\n",
            "Epoch 24/100\n",
            "47/47 [==============================] - 0s 8ms/step - loss: 1.6038e-04 - root_mean_squared_error: 0.0127 - val_loss: 1.6277e-04 - val_root_mean_squared_error: 0.0128\n",
            "Epoch 25/100\n",
            "47/47 [==============================] - 0s 9ms/step - loss: 1.6342e-04 - root_mean_squared_error: 0.0128 - val_loss: 1.6183e-04 - val_root_mean_squared_error: 0.0127\n",
            "Epoch 26/100\n",
            "42/47 [=========================>....] - ETA: 0s - loss: 1.5982e-04 - root_mean_squared_error: 0.0126"
          ]
        },
        {
          "output_type": "stream",
          "name": "stderr",
          "text": [
            "WARNING:absl:Found untraced functions such as lstm_cell_1_layer_call_fn, lstm_cell_1_layer_call_and_return_conditional_losses while saving (showing 2 of 2). These functions will not be directly callable after loading.\n",
            "WARNING:absl:<keras.layers.recurrent.LSTMCell object at 0x7f8cb61356d0> has the same name 'LSTMCell' as a built-in Keras object. Consider renaming <class 'keras.layers.recurrent.LSTMCell'> to avoid naming conflicts when loading with `tf.keras.models.load_model`. If renaming is not possible, pass the object in the `custom_objects` parameter of the load function.\n"
          ]
        },
        {
          "output_type": "stream",
          "name": "stdout",
          "text": [
            "\b\b\b\b\b\b\b\b\b\b\b\b\b\b\b\b\b\b\b\b\b\b\b\b\b\b\b\b\b\b\b\b\b\b\b\b\b\b\b\b\b\b\b\b\b\b\b\b\b\b\b\b\b\b\b\b\b\b\b\b\b\b\b\b\b\b\b\b\b\b\b\b\b\b\b\b\b\b\b\b\b\b\b\b\b\b\b\b\b\b\b\b\b\b\b\b\b\b\b\b\b\r47/47 [==============================] - 6s 123ms/step - loss: 1.5684e-04 - root_mean_squared_error: 0.0125 - val_loss: 1.5687e-04 - val_root_mean_squared_error: 0.0125\n",
            "Epoch 27/100\n",
            "47/47 [==============================] - 0s 8ms/step - loss: 1.6831e-04 - root_mean_squared_error: 0.0130 - val_loss: 1.6046e-04 - val_root_mean_squared_error: 0.0127\n",
            "Epoch 28/100\n",
            "47/47 [==============================] - 0s 8ms/step - loss: 1.7305e-04 - root_mean_squared_error: 0.0132 - val_loss: 2.0417e-04 - val_root_mean_squared_error: 0.0143\n",
            "Epoch 29/100\n",
            "46/47 [============================>.] - ETA: 0s - loss: 1.5349e-04 - root_mean_squared_error: 0.0124"
          ]
        },
        {
          "output_type": "stream",
          "name": "stderr",
          "text": [
            "WARNING:absl:Found untraced functions such as lstm_cell_1_layer_call_fn, lstm_cell_1_layer_call_and_return_conditional_losses while saving (showing 2 of 2). These functions will not be directly callable after loading.\n",
            "WARNING:absl:<keras.layers.recurrent.LSTMCell object at 0x7f8cb61356d0> has the same name 'LSTMCell' as a built-in Keras object. Consider renaming <class 'keras.layers.recurrent.LSTMCell'> to avoid naming conflicts when loading with `tf.keras.models.load_model`. If renaming is not possible, pass the object in the `custom_objects` parameter of the load function.\n"
          ]
        },
        {
          "output_type": "stream",
          "name": "stdout",
          "text": [
            "\b\b\b\b\b\b\b\b\b\b\b\b\b\b\b\b\b\b\b\b\b\b\b\b\b\b\b\b\b\b\b\b\b\b\b\b\b\b\b\b\b\b\b\b\b\b\b\b\b\b\b\b\b\b\b\b\b\b\b\b\b\b\b\b\b\b\b\b\b\b\b\b\b\b\b\b\b\b\b\b\b\b\b\b\b\b\b\b\b\b\b\b\b\b\b\b\b\b\b\b\b\r47/47 [==============================] - 5s 115ms/step - loss: 1.5300e-04 - root_mean_squared_error: 0.0124 - val_loss: 1.5614e-04 - val_root_mean_squared_error: 0.0125\n",
            "Epoch 30/100\n",
            "47/47 [==============================] - 0s 7ms/step - loss: 1.7208e-04 - root_mean_squared_error: 0.0131 - val_loss: 2.0386e-04 - val_root_mean_squared_error: 0.0143\n",
            "Epoch 31/100\n",
            "40/47 [========================>.....] - ETA: 0s - loss: 1.5440e-04 - root_mean_squared_error: 0.0124"
          ]
        },
        {
          "output_type": "stream",
          "name": "stderr",
          "text": [
            "WARNING:absl:Found untraced functions such as lstm_cell_1_layer_call_fn, lstm_cell_1_layer_call_and_return_conditional_losses while saving (showing 2 of 2). These functions will not be directly callable after loading.\n",
            "WARNING:absl:<keras.layers.recurrent.LSTMCell object at 0x7f8cb61356d0> has the same name 'LSTMCell' as a built-in Keras object. Consider renaming <class 'keras.layers.recurrent.LSTMCell'> to avoid naming conflicts when loading with `tf.keras.models.load_model`. If renaming is not possible, pass the object in the `custom_objects` parameter of the load function.\n"
          ]
        },
        {
          "output_type": "stream",
          "name": "stdout",
          "text": [
            "\b\b\b\b\b\b\b\b\b\b\b\b\b\b\b\b\b\b\b\b\b\b\b\b\b\b\b\b\b\b\b\b\b\b\b\b\b\b\b\b\b\b\b\b\b\b\b\b\b\b\b\b\b\b\b\b\b\b\b\b\b\b\b\b\b\b\b\b\b\b\b\b\b\b\b\b\b\b\b\b\b\b\b\b\b\b\b\b\b\b\b\b\b\b\b\b\b\b\b\b\b\r47/47 [==============================] - 6s 125ms/step - loss: 1.5142e-04 - root_mean_squared_error: 0.0123 - val_loss: 1.5001e-04 - val_root_mean_squared_error: 0.0122\n",
            "Epoch 32/100\n",
            "47/47 [==============================] - 0s 8ms/step - loss: 1.4985e-04 - root_mean_squared_error: 0.0122 - val_loss: 1.8018e-04 - val_root_mean_squared_error: 0.0134\n",
            "Epoch 33/100\n",
            "47/47 [==============================] - ETA: 0s - loss: 1.7761e-04 - root_mean_squared_error: 0.0133"
          ]
        },
        {
          "output_type": "stream",
          "name": "stderr",
          "text": [
            "WARNING:absl:Found untraced functions such as lstm_cell_1_layer_call_fn, lstm_cell_1_layer_call_and_return_conditional_losses while saving (showing 2 of 2). These functions will not be directly callable after loading.\n",
            "WARNING:absl:<keras.layers.recurrent.LSTMCell object at 0x7f8cb61356d0> has the same name 'LSTMCell' as a built-in Keras object. Consider renaming <class 'keras.layers.recurrent.LSTMCell'> to avoid naming conflicts when loading with `tf.keras.models.load_model`. If renaming is not possible, pass the object in the `custom_objects` parameter of the load function.\n"
          ]
        },
        {
          "output_type": "stream",
          "name": "stdout",
          "text": [
            "\b\b\b\b\b\b\b\b\b\b\b\b\b\b\b\b\b\b\b\b\b\b\b\b\b\b\b\b\b\b\b\b\b\b\b\b\b\b\b\b\b\b\b\b\b\b\b\b\b\b\b\b\b\b\b\b\b\b\b\b\b\b\b\b\b\b\b\b\b\b\b\b\b\b\b\b\b\b\b\b\b\b\b\b\b\b\b\b\b\b\b\b\b\b\b\b\b\b\b\b\b\r47/47 [==============================] - 5s 111ms/step - loss: 1.7761e-04 - root_mean_squared_error: 0.0133 - val_loss: 1.4657e-04 - val_root_mean_squared_error: 0.0121\n",
            "Epoch 34/100\n",
            "47/47 [==============================] - 0s 8ms/step - loss: 1.5309e-04 - root_mean_squared_error: 0.0124 - val_loss: 2.9652e-04 - val_root_mean_squared_error: 0.0172\n",
            "Epoch 35/100\n",
            "47/47 [==============================] - 0s 8ms/step - loss: 1.5707e-04 - root_mean_squared_error: 0.0125 - val_loss: 1.5368e-04 - val_root_mean_squared_error: 0.0124\n",
            "Epoch 36/100\n",
            "47/47 [==============================] - 0s 8ms/step - loss: 1.5144e-04 - root_mean_squared_error: 0.0123 - val_loss: 1.5282e-04 - val_root_mean_squared_error: 0.0124\n",
            "Epoch 37/100\n",
            "42/47 [=========================>....] - ETA: 0s - loss: 1.5476e-04 - root_mean_squared_error: 0.0124"
          ]
        },
        {
          "output_type": "stream",
          "name": "stderr",
          "text": [
            "WARNING:absl:Found untraced functions such as lstm_cell_1_layer_call_fn, lstm_cell_1_layer_call_and_return_conditional_losses while saving (showing 2 of 2). These functions will not be directly callable after loading.\n",
            "WARNING:absl:<keras.layers.recurrent.LSTMCell object at 0x7f8cb61356d0> has the same name 'LSTMCell' as a built-in Keras object. Consider renaming <class 'keras.layers.recurrent.LSTMCell'> to avoid naming conflicts when loading with `tf.keras.models.load_model`. If renaming is not possible, pass the object in the `custom_objects` parameter of the load function.\n"
          ]
        },
        {
          "output_type": "stream",
          "name": "stdout",
          "text": [
            "\b\b\b\b\b\b\b\b\b\b\b\b\b\b\b\b\b\b\b\b\b\b\b\b\b\b\b\b\b\b\b\b\b\b\b\b\b\b\b\b\b\b\b\b\b\b\b\b\b\b\b\b\b\b\b\b\b\b\b\b\b\b\b\b\b\b\b\b\b\b\b\b\b\b\b\b\b\b\b\b\b\b\b\b\b\b\b\b\b\b\b\b\b\b\b\b\b\b\b\b\b\r47/47 [==============================] - 6s 136ms/step - loss: 1.5153e-04 - root_mean_squared_error: 0.0123 - val_loss: 1.4031e-04 - val_root_mean_squared_error: 0.0118\n",
            "Epoch 38/100\n",
            "47/47 [==============================] - 0s 8ms/step - loss: 1.5629e-04 - root_mean_squared_error: 0.0125 - val_loss: 1.4116e-04 - val_root_mean_squared_error: 0.0119\n",
            "Epoch 39/100\n",
            "47/47 [==============================] - 0s 7ms/step - loss: 1.3806e-04 - root_mean_squared_error: 0.0117 - val_loss: 1.5382e-04 - val_root_mean_squared_error: 0.0124\n",
            "Epoch 40/100\n",
            "47/47 [==============================] - 0s 9ms/step - loss: 1.5981e-04 - root_mean_squared_error: 0.0126 - val_loss: 1.4036e-04 - val_root_mean_squared_error: 0.0118\n",
            "Epoch 41/100\n",
            "47/47 [==============================] - 0s 8ms/step - loss: 1.3628e-04 - root_mean_squared_error: 0.0117 - val_loss: 1.5896e-04 - val_root_mean_squared_error: 0.0126\n",
            "Epoch 42/100\n",
            "40/47 [========================>.....] - ETA: 0s - loss: 1.8090e-04 - root_mean_squared_error: 0.0134"
          ]
        },
        {
          "output_type": "stream",
          "name": "stderr",
          "text": [
            "WARNING:absl:Found untraced functions such as lstm_cell_1_layer_call_fn, lstm_cell_1_layer_call_and_return_conditional_losses while saving (showing 2 of 2). These functions will not be directly callable after loading.\n",
            "WARNING:absl:<keras.layers.recurrent.LSTMCell object at 0x7f8cb61356d0> has the same name 'LSTMCell' as a built-in Keras object. Consider renaming <class 'keras.layers.recurrent.LSTMCell'> to avoid naming conflicts when loading with `tf.keras.models.load_model`. If renaming is not possible, pass the object in the `custom_objects` parameter of the load function.\n"
          ]
        },
        {
          "output_type": "stream",
          "name": "stdout",
          "text": [
            "\b\b\b\b\b\b\b\b\b\b\b\b\b\b\b\b\b\b\b\b\b\b\b\b\b\b\b\b\b\b\b\b\b\b\b\b\b\b\b\b\b\b\b\b\b\b\b\b\b\b\b\b\b\b\b\b\b\b\b\b\b\b\b\b\b\b\b\b\b\b\b\b\b\b\b\b\b\b\b\b\b\b\b\b\b\b\b\b\b\b\b\b\b\b\b\b\b\b\b\b\b\r47/47 [==============================] - 5s 110ms/step - loss: 1.7266e-04 - root_mean_squared_error: 0.0131 - val_loss: 1.3480e-04 - val_root_mean_squared_error: 0.0116\n",
            "Epoch 43/100\n",
            "47/47 [==============================] - 0s 8ms/step - loss: 1.3052e-04 - root_mean_squared_error: 0.0114 - val_loss: 1.4002e-04 - val_root_mean_squared_error: 0.0118\n",
            "Epoch 44/100\n",
            "47/47 [==============================] - 0s 8ms/step - loss: 1.4937e-04 - root_mean_squared_error: 0.0122 - val_loss: 1.5395e-04 - val_root_mean_squared_error: 0.0124\n",
            "Epoch 45/100\n",
            "47/47 [==============================] - 0s 8ms/step - loss: 1.5121e-04 - root_mean_squared_error: 0.0123 - val_loss: 1.4035e-04 - val_root_mean_squared_error: 0.0118\n",
            "Epoch 46/100\n",
            "47/47 [==============================] - 0s 9ms/step - loss: 1.6878e-04 - root_mean_squared_error: 0.0130 - val_loss: 1.3607e-04 - val_root_mean_squared_error: 0.0117\n",
            "Epoch 47/100\n",
            "47/47 [==============================] - 0s 7ms/step - loss: 1.2833e-04 - root_mean_squared_error: 0.0113 - val_loss: 1.4131e-04 - val_root_mean_squared_error: 0.0119\n",
            "Epoch 48/100\n",
            "43/47 [==========================>...] - ETA: 0s - loss: 1.2881e-04 - root_mean_squared_error: 0.0113"
          ]
        },
        {
          "output_type": "stream",
          "name": "stderr",
          "text": [
            "WARNING:absl:Found untraced functions such as lstm_cell_1_layer_call_fn, lstm_cell_1_layer_call_and_return_conditional_losses while saving (showing 2 of 2). These functions will not be directly callable after loading.\n",
            "WARNING:absl:<keras.layers.recurrent.LSTMCell object at 0x7f8cb61356d0> has the same name 'LSTMCell' as a built-in Keras object. Consider renaming <class 'keras.layers.recurrent.LSTMCell'> to avoid naming conflicts when loading with `tf.keras.models.load_model`. If renaming is not possible, pass the object in the `custom_objects` parameter of the load function.\n"
          ]
        },
        {
          "output_type": "stream",
          "name": "stdout",
          "text": [
            "\b\b\b\b\b\b\b\b\b\b\b\b\b\b\b\b\b\b\b\b\b\b\b\b\b\b\b\b\b\b\b\b\b\b\b\b\b\b\b\b\b\b\b\b\b\b\b\b\b\b\b\b\b\b\b\b\b\b\b\b\b\b\b\b\b\b\b\b\b\b\b\b\b\b\b\b\b\b\b\b\b\b\b\b\b\b\b\b\b\b\b\b\b\b\b\b\b\b\b\b\b\r47/47 [==============================] - 6s 121ms/step - loss: 1.2711e-04 - root_mean_squared_error: 0.0113 - val_loss: 1.2806e-04 - val_root_mean_squared_error: 0.0113\n",
            "Epoch 49/100\n",
            "47/47 [==============================] - 0s 8ms/step - loss: 1.4385e-04 - root_mean_squared_error: 0.0120 - val_loss: 2.5085e-04 - val_root_mean_squared_error: 0.0158\n",
            "Epoch 50/100\n",
            "42/47 [=========================>....] - ETA: 0s - loss: 1.3944e-04 - root_mean_squared_error: 0.0118"
          ]
        },
        {
          "output_type": "stream",
          "name": "stderr",
          "text": [
            "WARNING:absl:Found untraced functions such as lstm_cell_1_layer_call_fn, lstm_cell_1_layer_call_and_return_conditional_losses while saving (showing 2 of 2). These functions will not be directly callable after loading.\n",
            "WARNING:absl:<keras.layers.recurrent.LSTMCell object at 0x7f8cb61356d0> has the same name 'LSTMCell' as a built-in Keras object. Consider renaming <class 'keras.layers.recurrent.LSTMCell'> to avoid naming conflicts when loading with `tf.keras.models.load_model`. If renaming is not possible, pass the object in the `custom_objects` parameter of the load function.\n"
          ]
        },
        {
          "output_type": "stream",
          "name": "stdout",
          "text": [
            "\b\b\b\b\b\b\b\b\b\b\b\b\b\b\b\b\b\b\b\b\b\b\b\b\b\b\b\b\b\b\b\b\b\b\b\b\b\b\b\b\b\b\b\b\b\b\b\b\b\b\b\b\b\b\b\b\b\b\b\b\b\b\b\b\b\b\b\b\b\b\b\b\b\b\b\b\b\b\b\b\b\b\b\b\b\b\b\b\b\b\b\b\b\b\b\b\b\b\b\b\b\r47/47 [==============================] - 5s 106ms/step - loss: 1.3624e-04 - root_mean_squared_error: 0.0117 - val_loss: 1.2687e-04 - val_root_mean_squared_error: 0.0113\n",
            "Epoch 51/100\n",
            "45/47 [===========================>..] - ETA: 0s - loss: 1.2522e-04 - root_mean_squared_error: 0.0112"
          ]
        },
        {
          "output_type": "stream",
          "name": "stderr",
          "text": [
            "WARNING:absl:Found untraced functions such as lstm_cell_1_layer_call_fn, lstm_cell_1_layer_call_and_return_conditional_losses while saving (showing 2 of 2). These functions will not be directly callable after loading.\n",
            "WARNING:absl:<keras.layers.recurrent.LSTMCell object at 0x7f8cb61356d0> has the same name 'LSTMCell' as a built-in Keras object. Consider renaming <class 'keras.layers.recurrent.LSTMCell'> to avoid naming conflicts when loading with `tf.keras.models.load_model`. If renaming is not possible, pass the object in the `custom_objects` parameter of the load function.\n"
          ]
        },
        {
          "output_type": "stream",
          "name": "stdout",
          "text": [
            "\b\b\b\b\b\b\b\b\b\b\b\b\b\b\b\b\b\b\b\b\b\b\b\b\b\b\b\b\b\b\b\b\b\b\b\b\b\b\b\b\b\b\b\b\b\b\b\b\b\b\b\b\b\b\b\b\b\b\b\b\b\b\b\b\b\b\b\b\b\b\b\b\b\b\b\b\b\b\b\b\b\b\b\b\b\b\b\b\b\b\b\b\b\b\b\b\b\b\b\b\b\r47/47 [==============================] - 5s 118ms/step - loss: 1.2594e-04 - root_mean_squared_error: 0.0112 - val_loss: 1.2291e-04 - val_root_mean_squared_error: 0.0111\n",
            "Epoch 52/100\n",
            "47/47 [==============================] - 0s 7ms/step - loss: 1.2099e-04 - root_mean_squared_error: 0.0110 - val_loss: 1.4259e-04 - val_root_mean_squared_error: 0.0119\n",
            "Epoch 53/100\n",
            "47/47 [==============================] - 0s 8ms/step - loss: 1.4152e-04 - root_mean_squared_error: 0.0119 - val_loss: 1.6213e-04 - val_root_mean_squared_error: 0.0127\n",
            "Epoch 54/100\n",
            "47/47 [==============================] - 0s 8ms/step - loss: 1.4063e-04 - root_mean_squared_error: 0.0119 - val_loss: 1.4209e-04 - val_root_mean_squared_error: 0.0119\n",
            "Epoch 55/100\n",
            "47/47 [==============================] - 0s 8ms/step - loss: 1.3462e-04 - root_mean_squared_error: 0.0116 - val_loss: 1.2395e-04 - val_root_mean_squared_error: 0.0111\n",
            "Epoch 56/100\n",
            "47/47 [==============================] - 0s 8ms/step - loss: 1.5808e-04 - root_mean_squared_error: 0.0126 - val_loss: 2.2661e-04 - val_root_mean_squared_error: 0.0151\n",
            "Epoch 57/100\n",
            "42/47 [=========================>....] - ETA: 0s - loss: 1.2602e-04 - root_mean_squared_error: 0.0112"
          ]
        },
        {
          "output_type": "stream",
          "name": "stderr",
          "text": [
            "WARNING:absl:Found untraced functions such as lstm_cell_1_layer_call_fn, lstm_cell_1_layer_call_and_return_conditional_losses while saving (showing 2 of 2). These functions will not be directly callable after loading.\n",
            "WARNING:absl:<keras.layers.recurrent.LSTMCell object at 0x7f8cb61356d0> has the same name 'LSTMCell' as a built-in Keras object. Consider renaming <class 'keras.layers.recurrent.LSTMCell'> to avoid naming conflicts when loading with `tf.keras.models.load_model`. If renaming is not possible, pass the object in the `custom_objects` parameter of the load function.\n"
          ]
        },
        {
          "output_type": "stream",
          "name": "stdout",
          "text": [
            "\b\b\b\b\b\b\b\b\b\b\b\b\b\b\b\b\b\b\b\b\b\b\b\b\b\b\b\b\b\b\b\b\b\b\b\b\b\b\b\b\b\b\b\b\b\b\b\b\b\b\b\b\b\b\b\b\b\b\b\b\b\b\b\b\b\b\b\b\b\b\b\b\b\b\b\b\b\b\b\b\b\b\b\b\b\b\b\b\b\b\b\b\b\b\b\b\b\b\b\b\b\r47/47 [==============================] - 5s 107ms/step - loss: 1.2491e-04 - root_mean_squared_error: 0.0112 - val_loss: 1.1835e-04 - val_root_mean_squared_error: 0.0109\n",
            "Epoch 58/100\n",
            "44/47 [===========================>..] - ETA: 0s - loss: 1.1998e-04 - root_mean_squared_error: 0.0110"
          ]
        },
        {
          "output_type": "stream",
          "name": "stderr",
          "text": [
            "WARNING:absl:Found untraced functions such as lstm_cell_1_layer_call_fn, lstm_cell_1_layer_call_and_return_conditional_losses while saving (showing 2 of 2). These functions will not be directly callable after loading.\n",
            "WARNING:absl:<keras.layers.recurrent.LSTMCell object at 0x7f8cb61356d0> has the same name 'LSTMCell' as a built-in Keras object. Consider renaming <class 'keras.layers.recurrent.LSTMCell'> to avoid naming conflicts when loading with `tf.keras.models.load_model`. If renaming is not possible, pass the object in the `custom_objects` parameter of the load function.\n"
          ]
        },
        {
          "output_type": "stream",
          "name": "stdout",
          "text": [
            "\b\b\b\b\b\b\b\b\b\b\b\b\b\b\b\b\b\b\b\b\b\b\b\b\b\b\b\b\b\b\b\b\b\b\b\b\b\b\b\b\b\b\b\b\b\b\b\b\b\b\b\b\b\b\b\b\b\b\b\b\b\b\b\b\b\b\b\b\b\b\b\b\b\b\b\b\b\b\b\b\b\b\b\b\b\b\b\b\b\b\b\b\b\b\b\b\b\b\b\b\b\r47/47 [==============================] - 6s 122ms/step - loss: 1.2136e-04 - root_mean_squared_error: 0.0110 - val_loss: 1.1216e-04 - val_root_mean_squared_error: 0.0106\n",
            "Epoch 59/100\n",
            "47/47 [==============================] - 0s 8ms/step - loss: 1.5483e-04 - root_mean_squared_error: 0.0124 - val_loss: 1.7217e-04 - val_root_mean_squared_error: 0.0131\n",
            "Epoch 60/100\n",
            "47/47 [==============================] - 0s 9ms/step - loss: 1.3246e-04 - root_mean_squared_error: 0.0115 - val_loss: 1.3332e-04 - val_root_mean_squared_error: 0.0115\n",
            "Epoch 61/100\n",
            "47/47 [==============================] - 0s 7ms/step - loss: 1.3974e-04 - root_mean_squared_error: 0.0118 - val_loss: 1.2226e-04 - val_root_mean_squared_error: 0.0111\n",
            "Epoch 62/100\n",
            "47/47 [==============================] - 0s 8ms/step - loss: 1.1737e-04 - root_mean_squared_error: 0.0108 - val_loss: 1.9874e-04 - val_root_mean_squared_error: 0.0141\n",
            "Epoch 63/100\n",
            "42/47 [=========================>....] - ETA: 0s - loss: 1.1465e-04 - root_mean_squared_error: 0.0107"
          ]
        },
        {
          "output_type": "stream",
          "name": "stderr",
          "text": [
            "WARNING:absl:Found untraced functions such as lstm_cell_1_layer_call_fn, lstm_cell_1_layer_call_and_return_conditional_losses while saving (showing 2 of 2). These functions will not be directly callable after loading.\n",
            "WARNING:absl:<keras.layers.recurrent.LSTMCell object at 0x7f8cb61356d0> has the same name 'LSTMCell' as a built-in Keras object. Consider renaming <class 'keras.layers.recurrent.LSTMCell'> to avoid naming conflicts when loading with `tf.keras.models.load_model`. If renaming is not possible, pass the object in the `custom_objects` parameter of the load function.\n"
          ]
        },
        {
          "output_type": "stream",
          "name": "stdout",
          "text": [
            "\b\b\b\b\b\b\b\b\b\b\b\b\b\b\b\b\b\b\b\b\b\b\b\b\b\b\b\b\b\b\b\b\b\b\b\b\b\b\b\b\b\b\b\b\b\b\b\b\b\b\b\b\b\b\b\b\b\b\b\b\b\b\b\b\b\b\b\b\b\b\b\b\b\b\b\b\b\b\b\b\b\b\b\b\b\b\b\b\b\b\b\b\b\b\b\b\b\b\b\b\b\r47/47 [==============================] - 5s 110ms/step - loss: 1.1329e-04 - root_mean_squared_error: 0.0106 - val_loss: 1.0719e-04 - val_root_mean_squared_error: 0.0104\n",
            "Epoch 64/100\n",
            "47/47 [==============================] - 0s 8ms/step - loss: 1.2398e-04 - root_mean_squared_error: 0.0111 - val_loss: 1.1529e-04 - val_root_mean_squared_error: 0.0107\n",
            "Epoch 65/100\n",
            "43/47 [==========================>...] - ETA: 0s - loss: 1.0147e-04 - root_mean_squared_error: 0.0101"
          ]
        },
        {
          "output_type": "stream",
          "name": "stderr",
          "text": [
            "WARNING:absl:Found untraced functions such as lstm_cell_1_layer_call_fn, lstm_cell_1_layer_call_and_return_conditional_losses while saving (showing 2 of 2). These functions will not be directly callable after loading.\n",
            "WARNING:absl:<keras.layers.recurrent.LSTMCell object at 0x7f8cb61356d0> has the same name 'LSTMCell' as a built-in Keras object. Consider renaming <class 'keras.layers.recurrent.LSTMCell'> to avoid naming conflicts when loading with `tf.keras.models.load_model`. If renaming is not possible, pass the object in the `custom_objects` parameter of the load function.\n"
          ]
        },
        {
          "output_type": "stream",
          "name": "stdout",
          "text": [
            "\b\b\b\b\b\b\b\b\b\b\b\b\b\b\b\b\b\b\b\b\b\b\b\b\b\b\b\b\b\b\b\b\b\b\b\b\b\b\b\b\b\b\b\b\b\b\b\b\b\b\b\b\b\b\b\b\b\b\b\b\b\b\b\b\b\b\b\b\b\b\b\b\b\b\b\b\b\b\b\b\b\b\b\b\b\b\b\b\b\b\b\b\b\b\b\b\b\b\b\b\b\r47/47 [==============================] - 6s 120ms/step - loss: 1.0274e-04 - root_mean_squared_error: 0.0101 - val_loss: 1.0223e-04 - val_root_mean_squared_error: 0.0101\n",
            "Epoch 66/100\n",
            "47/47 [==============================] - 0s 8ms/step - loss: 1.0073e-04 - root_mean_squared_error: 0.0100 - val_loss: 1.0739e-04 - val_root_mean_squared_error: 0.0104\n",
            "Epoch 67/100\n",
            "47/47 [==============================] - 0s 7ms/step - loss: 1.0472e-04 - root_mean_squared_error: 0.0102 - val_loss: 1.0863e-04 - val_root_mean_squared_error: 0.0104\n",
            "Epoch 68/100\n",
            "47/47 [==============================] - ETA: 0s - loss: 1.0514e-04 - root_mean_squared_error: 0.0103"
          ]
        },
        {
          "output_type": "stream",
          "name": "stderr",
          "text": [
            "WARNING:absl:Found untraced functions such as lstm_cell_1_layer_call_fn, lstm_cell_1_layer_call_and_return_conditional_losses while saving (showing 2 of 2). These functions will not be directly callable after loading.\n",
            "WARNING:absl:<keras.layers.recurrent.LSTMCell object at 0x7f8cb61356d0> has the same name 'LSTMCell' as a built-in Keras object. Consider renaming <class 'keras.layers.recurrent.LSTMCell'> to avoid naming conflicts when loading with `tf.keras.models.load_model`. If renaming is not possible, pass the object in the `custom_objects` parameter of the load function.\n"
          ]
        },
        {
          "output_type": "stream",
          "name": "stdout",
          "text": [
            "\b\b\b\b\b\b\b\b\b\b\b\b\b\b\b\b\b\b\b\b\b\b\b\b\b\b\b\b\b\b\b\b\b\b\b\b\b\b\b\b\b\b\b\b\b\b\b\b\b\b\b\b\b\b\b\b\b\b\b\b\b\b\b\b\b\b\b\b\b\b\b\b\b\b\b\b\b\b\b\b\b\b\b\b\b\b\b\b\b\b\b\b\b\b\b\b\b\b\b\b\b\r47/47 [==============================] - 5s 110ms/step - loss: 1.0514e-04 - root_mean_squared_error: 0.0103 - val_loss: 9.8631e-05 - val_root_mean_squared_error: 0.0099\n",
            "Epoch 69/100\n",
            "41/47 [=========================>....] - ETA: 0s - loss: 9.1511e-05 - root_mean_squared_error: 0.0096"
          ]
        },
        {
          "output_type": "stream",
          "name": "stderr",
          "text": [
            "WARNING:absl:Found untraced functions such as lstm_cell_1_layer_call_fn, lstm_cell_1_layer_call_and_return_conditional_losses while saving (showing 2 of 2). These functions will not be directly callable after loading.\n",
            "WARNING:absl:<keras.layers.recurrent.LSTMCell object at 0x7f8cb61356d0> has the same name 'LSTMCell' as a built-in Keras object. Consider renaming <class 'keras.layers.recurrent.LSTMCell'> to avoid naming conflicts when loading with `tf.keras.models.load_model`. If renaming is not possible, pass the object in the `custom_objects` parameter of the load function.\n"
          ]
        },
        {
          "output_type": "stream",
          "name": "stdout",
          "text": [
            "\b\b\b\b\b\b\b\b\b\b\b\b\b\b\b\b\b\b\b\b\b\b\b\b\b\b\b\b\b\b\b\b\b\b\b\b\b\b\b\b\b\b\b\b\b\b\b\b\b\b\b\b\b\b\b\b\b\b\b\b\b\b\b\b\b\b\b\b\b\b\b\b\b\b\b\b\b\b\b\b\b\b\b\b\b\b\b\b\b\b\b\b\b\b\b\b\b\b\b\b\b\r47/47 [==============================] - 6s 123ms/step - loss: 9.2770e-05 - root_mean_squared_error: 0.0096 - val_loss: 9.6726e-05 - val_root_mean_squared_error: 0.0098\n",
            "Epoch 70/100\n",
            "47/47 [==============================] - 0s 8ms/step - loss: 1.0303e-04 - root_mean_squared_error: 0.0102 - val_loss: 1.0945e-04 - val_root_mean_squared_error: 0.0105\n",
            "Epoch 71/100\n",
            "41/47 [=========================>....] - ETA: 0s - loss: 1.1474e-04 - root_mean_squared_error: 0.0107"
          ]
        },
        {
          "output_type": "stream",
          "name": "stderr",
          "text": [
            "WARNING:absl:Found untraced functions such as lstm_cell_1_layer_call_fn, lstm_cell_1_layer_call_and_return_conditional_losses while saving (showing 2 of 2). These functions will not be directly callable after loading.\n",
            "WARNING:absl:<keras.layers.recurrent.LSTMCell object at 0x7f8cb61356d0> has the same name 'LSTMCell' as a built-in Keras object. Consider renaming <class 'keras.layers.recurrent.LSTMCell'> to avoid naming conflicts when loading with `tf.keras.models.load_model`. If renaming is not possible, pass the object in the `custom_objects` parameter of the load function.\n"
          ]
        },
        {
          "output_type": "stream",
          "name": "stdout",
          "text": [
            "\b\b\b\b\b\b\b\b\b\b\b\b\b\b\b\b\b\b\b\b\b\b\b\b\b\b\b\b\b\b\b\b\b\b\b\b\b\b\b\b\b\b\b\b\b\b\b\b\b\b\b\b\b\b\b\b\b\b\b\b\b\b\b\b\b\b\b\b\b\b\b\b\b\b\b\b\b\b\b\b\b\b\b\b\b\b\b\b\b\b\b\b\b\b\b\b\b\b\b\b\b\r47/47 [==============================] - 5s 109ms/step - loss: 1.1271e-04 - root_mean_squared_error: 0.0106 - val_loss: 9.5143e-05 - val_root_mean_squared_error: 0.0098\n",
            "Epoch 72/100\n",
            "46/47 [============================>.] - ETA: 0s - loss: 9.7939e-05 - root_mean_squared_error: 0.0099"
          ]
        },
        {
          "output_type": "stream",
          "name": "stderr",
          "text": [
            "WARNING:absl:Found untraced functions such as lstm_cell_1_layer_call_fn, lstm_cell_1_layer_call_and_return_conditional_losses while saving (showing 2 of 2). These functions will not be directly callable after loading.\n",
            "WARNING:absl:<keras.layers.recurrent.LSTMCell object at 0x7f8cb61356d0> has the same name 'LSTMCell' as a built-in Keras object. Consider renaming <class 'keras.layers.recurrent.LSTMCell'> to avoid naming conflicts when loading with `tf.keras.models.load_model`. If renaming is not possible, pass the object in the `custom_objects` parameter of the load function.\n"
          ]
        },
        {
          "output_type": "stream",
          "name": "stdout",
          "text": [
            "\b\b\b\b\b\b\b\b\b\b\b\b\b\b\b\b\b\b\b\b\b\b\b\b\b\b\b\b\b\b\b\b\b\b\b\b\b\b\b\b\b\b\b\b\b\b\b\b\b\b\b\b\b\b\b\b\b\b\b\b\b\b\b\b\b\b\b\b\b\b\b\b\b\b\b\b\b\b\b\b\b\b\b\b\b\b\b\b\b\b\b\b\b\b\b\b\b\b\b\b\b\r47/47 [==============================] - 6s 125ms/step - loss: 9.8571e-05 - root_mean_squared_error: 0.0099 - val_loss: 8.9586e-05 - val_root_mean_squared_error: 0.0095\n",
            "Epoch 73/100\n",
            "47/47 [==============================] - 0s 7ms/step - loss: 9.2804e-05 - root_mean_squared_error: 0.0096 - val_loss: 9.5186e-05 - val_root_mean_squared_error: 0.0098\n",
            "Epoch 74/100\n",
            "47/47 [==============================] - 0s 7ms/step - loss: 8.8097e-05 - root_mean_squared_error: 0.0094 - val_loss: 1.0368e-04 - val_root_mean_squared_error: 0.0102\n",
            "Epoch 75/100\n",
            "47/47 [==============================] - 0s 8ms/step - loss: 1.0328e-04 - root_mean_squared_error: 0.0102 - val_loss: 9.6625e-05 - val_root_mean_squared_error: 0.0098\n",
            "Epoch 76/100\n",
            "47/47 [==============================] - 0s 7ms/step - loss: 1.0791e-04 - root_mean_squared_error: 0.0104 - val_loss: 1.0762e-04 - val_root_mean_squared_error: 0.0104\n",
            "Epoch 77/100\n",
            "39/47 [=======================>......] - ETA: 0s - loss: 8.8004e-05 - root_mean_squared_error: 0.0094"
          ]
        },
        {
          "output_type": "stream",
          "name": "stderr",
          "text": [
            "WARNING:absl:Found untraced functions such as lstm_cell_1_layer_call_fn, lstm_cell_1_layer_call_and_return_conditional_losses while saving (showing 2 of 2). These functions will not be directly callable after loading.\n",
            "WARNING:absl:<keras.layers.recurrent.LSTMCell object at 0x7f8cb61356d0> has the same name 'LSTMCell' as a built-in Keras object. Consider renaming <class 'keras.layers.recurrent.LSTMCell'> to avoid naming conflicts when loading with `tf.keras.models.load_model`. If renaming is not possible, pass the object in the `custom_objects` parameter of the load function.\n"
          ]
        },
        {
          "output_type": "stream",
          "name": "stdout",
          "text": [
            "\b\b\b\b\b\b\b\b\b\b\b\b\b\b\b\b\b\b\b\b\b\b\b\b\b\b\b\b\b\b\b\b\b\b\b\b\b\b\b\b\b\b\b\b\b\b\b\b\b\b\b\b\b\b\b\b\b\b\b\b\b\b\b\b\b\b\b\b\b\b\b\b\b\b\b\b\b\b\b\b\b\b\b\b\b\b\b\b\b\b\b\b\b\b\b\b\b\b\b\b\b\r47/47 [==============================] - 5s 112ms/step - loss: 8.7914e-05 - root_mean_squared_error: 0.0094 - val_loss: 8.1553e-05 - val_root_mean_squared_error: 0.0090\n",
            "Epoch 78/100\n",
            "47/47 [==============================] - 0s 8ms/step - loss: 1.0226e-04 - root_mean_squared_error: 0.0101 - val_loss: 1.3241e-04 - val_root_mean_squared_error: 0.0115\n",
            "Epoch 79/100\n",
            "46/47 [============================>.] - ETA: 0s - loss: 9.6086e-05 - root_mean_squared_error: 0.0098"
          ]
        },
        {
          "output_type": "stream",
          "name": "stderr",
          "text": [
            "WARNING:absl:Found untraced functions such as lstm_cell_1_layer_call_fn, lstm_cell_1_layer_call_and_return_conditional_losses while saving (showing 2 of 2). These functions will not be directly callable after loading.\n",
            "WARNING:absl:<keras.layers.recurrent.LSTMCell object at 0x7f8cb61356d0> has the same name 'LSTMCell' as a built-in Keras object. Consider renaming <class 'keras.layers.recurrent.LSTMCell'> to avoid naming conflicts when loading with `tf.keras.models.load_model`. If renaming is not possible, pass the object in the `custom_objects` parameter of the load function.\n"
          ]
        },
        {
          "output_type": "stream",
          "name": "stdout",
          "text": [
            "\b\b\b\b\b\b\b\b\b\b\b\b\b\b\b\b\b\b\b\b\b\b\b\b\b\b\b\b\b\b\b\b\b\b\b\b\b\b\b\b\b\b\b\b\b\b\b\b\b\b\b\b\b\b\b\b\b\b\b\b\b\b\b\b\b\b\b\b\b\b\b\b\b\b\b\b\b\b\b\b\b\b\b\b\b\b\b\b\b\b\b\b\b\b\b\b\b\b\b\b\b\r47/47 [==============================] - 6s 126ms/step - loss: 9.5855e-05 - root_mean_squared_error: 0.0098 - val_loss: 7.8438e-05 - val_root_mean_squared_error: 0.0089\n",
            "Epoch 80/100\n",
            "47/47 [==============================] - 0s 8ms/step - loss: 7.4429e-05 - root_mean_squared_error: 0.0086 - val_loss: 8.6987e-05 - val_root_mean_squared_error: 0.0093\n",
            "Epoch 81/100\n",
            "47/47 [==============================] - 0s 7ms/step - loss: 8.3774e-05 - root_mean_squared_error: 0.0092 - val_loss: 8.2132e-05 - val_root_mean_squared_error: 0.0091\n",
            "Epoch 82/100\n",
            "47/47 [==============================] - 0s 8ms/step - loss: 8.2799e-05 - root_mean_squared_error: 0.0091 - val_loss: 8.0011e-05 - val_root_mean_squared_error: 0.0089\n",
            "Epoch 83/100\n",
            "43/47 [==========================>...] - ETA: 0s - loss: 8.4644e-05 - root_mean_squared_error: 0.0092"
          ]
        },
        {
          "output_type": "stream",
          "name": "stderr",
          "text": [
            "WARNING:absl:Found untraced functions such as lstm_cell_1_layer_call_fn, lstm_cell_1_layer_call_and_return_conditional_losses while saving (showing 2 of 2). These functions will not be directly callable after loading.\n",
            "WARNING:absl:<keras.layers.recurrent.LSTMCell object at 0x7f8cb61356d0> has the same name 'LSTMCell' as a built-in Keras object. Consider renaming <class 'keras.layers.recurrent.LSTMCell'> to avoid naming conflicts when loading with `tf.keras.models.load_model`. If renaming is not possible, pass the object in the `custom_objects` parameter of the load function.\n"
          ]
        },
        {
          "output_type": "stream",
          "name": "stdout",
          "text": [
            "\b\b\b\b\b\b\b\b\b\b\b\b\b\b\b\b\b\b\b\b\b\b\b\b\b\b\b\b\b\b\b\b\b\b\b\b\b\b\b\b\b\b\b\b\b\b\b\b\b\b\b\b\b\b\b\b\b\b\b\b\b\b\b\b\b\b\b\b\b\b\b\b\b\b\b\b\b\b\b\b\b\b\b\b\b\b\b\b\b\b\b\b\b\b\b\b\b\b\b\b\b\r47/47 [==============================] - 5s 111ms/step - loss: 8.5936e-05 - root_mean_squared_error: 0.0093 - val_loss: 7.5662e-05 - val_root_mean_squared_error: 0.0087\n",
            "Epoch 84/100\n",
            "47/47 [==============================] - 0s 9ms/step - loss: 1.4049e-04 - root_mean_squared_error: 0.0119 - val_loss: 1.3042e-04 - val_root_mean_squared_error: 0.0114\n",
            "Epoch 85/100\n",
            "41/47 [=========================>....] - ETA: 0s - loss: 7.4353e-05 - root_mean_squared_error: 0.0086"
          ]
        },
        {
          "output_type": "stream",
          "name": "stderr",
          "text": [
            "WARNING:absl:Found untraced functions such as lstm_cell_1_layer_call_fn, lstm_cell_1_layer_call_and_return_conditional_losses while saving (showing 2 of 2). These functions will not be directly callable after loading.\n",
            "WARNING:absl:<keras.layers.recurrent.LSTMCell object at 0x7f8cb61356d0> has the same name 'LSTMCell' as a built-in Keras object. Consider renaming <class 'keras.layers.recurrent.LSTMCell'> to avoid naming conflicts when loading with `tf.keras.models.load_model`. If renaming is not possible, pass the object in the `custom_objects` parameter of the load function.\n"
          ]
        },
        {
          "output_type": "stream",
          "name": "stdout",
          "text": [
            "\b\b\b\b\b\b\b\b\b\b\b\b\b\b\b\b\b\b\b\b\b\b\b\b\b\b\b\b\b\b\b\b\b\b\b\b\b\b\b\b\b\b\b\b\b\b\b\b\b\b\b\b\b\b\b\b\b\b\b\b\b\b\b\b\b\b\b\b\b\b\b\b\b\b\b\b\b\b\b\b\b\b\b\b\b\b\b\b\b\b\b\b\b\b\b\b\b\b\b\b\b\r47/47 [==============================] - 6s 122ms/step - loss: 7.7368e-05 - root_mean_squared_error: 0.0088 - val_loss: 7.1080e-05 - val_root_mean_squared_error: 0.0084\n",
            "Epoch 86/100\n",
            "43/47 [==========================>...] - ETA: 0s - loss: 9.0102e-05 - root_mean_squared_error: 0.0095"
          ]
        },
        {
          "output_type": "stream",
          "name": "stderr",
          "text": [
            "WARNING:absl:Found untraced functions such as lstm_cell_1_layer_call_fn, lstm_cell_1_layer_call_and_return_conditional_losses while saving (showing 2 of 2). These functions will not be directly callable after loading.\n",
            "WARNING:absl:<keras.layers.recurrent.LSTMCell object at 0x7f8cb61356d0> has the same name 'LSTMCell' as a built-in Keras object. Consider renaming <class 'keras.layers.recurrent.LSTMCell'> to avoid naming conflicts when loading with `tf.keras.models.load_model`. If renaming is not possible, pass the object in the `custom_objects` parameter of the load function.\n"
          ]
        },
        {
          "output_type": "stream",
          "name": "stdout",
          "text": [
            "\b\b\b\b\b\b\b\b\b\b\b\b\b\b\b\b\b\b\b\b\b\b\b\b\b\b\b\b\b\b\b\b\b\b\b\b\b\b\b\b\b\b\b\b\b\b\b\b\b\b\b\b\b\b\b\b\b\b\b\b\b\b\b\b\b\b\b\b\b\b\b\b\b\b\b\b\b\b\b\b\b\b\b\b\b\b\b\b\b\b\b\b\b\b\b\b\b\b\b\b\b\r47/47 [==============================] - 5s 111ms/step - loss: 9.0422e-05 - root_mean_squared_error: 0.0095 - val_loss: 7.0786e-05 - val_root_mean_squared_error: 0.0084\n",
            "Epoch 87/100\n",
            "47/47 [==============================] - 0s 9ms/step - loss: 9.3117e-05 - root_mean_squared_error: 0.0096 - val_loss: 1.0043e-04 - val_root_mean_squared_error: 0.0100\n",
            "Epoch 88/100\n",
            "47/47 [==============================] - 0s 8ms/step - loss: 7.7232e-05 - root_mean_squared_error: 0.0088 - val_loss: 7.5119e-05 - val_root_mean_squared_error: 0.0087\n",
            "Epoch 89/100\n",
            "44/47 [===========================>..] - ETA: 0s - loss: 6.8445e-05 - root_mean_squared_error: 0.0083"
          ]
        },
        {
          "output_type": "stream",
          "name": "stderr",
          "text": [
            "WARNING:absl:Found untraced functions such as lstm_cell_1_layer_call_fn, lstm_cell_1_layer_call_and_return_conditional_losses while saving (showing 2 of 2). These functions will not be directly callable after loading.\n",
            "WARNING:absl:<keras.layers.recurrent.LSTMCell object at 0x7f8cb61356d0> has the same name 'LSTMCell' as a built-in Keras object. Consider renaming <class 'keras.layers.recurrent.LSTMCell'> to avoid naming conflicts when loading with `tf.keras.models.load_model`. If renaming is not possible, pass the object in the `custom_objects` parameter of the load function.\n"
          ]
        },
        {
          "output_type": "stream",
          "name": "stdout",
          "text": [
            "\b\b\b\b\b\b\b\b\b\b\b\b\b\b\b\b\b\b\b\b\b\b\b\b\b\b\b\b\b\b\b\b\b\b\b\b\b\b\b\b\b\b\b\b\b\b\b\b\b\b\b\b\b\b\b\b\b\b\b\b\b\b\b\b\b\b\b\b\b\b\b\b\b\b\b\b\b\b\b\b\b\b\b\b\b\b\b\b\b\b\b\b\b\b\b\b\b\b\b\b\b\r47/47 [==============================] - 6s 123ms/step - loss: 6.9570e-05 - root_mean_squared_error: 0.0083 - val_loss: 7.0173e-05 - val_root_mean_squared_error: 0.0084\n",
            "Epoch 90/100\n",
            "47/47 [==============================] - 0s 7ms/step - loss: 8.2376e-05 - root_mean_squared_error: 0.0091 - val_loss: 7.4318e-05 - val_root_mean_squared_error: 0.0086\n",
            "Epoch 91/100\n",
            "47/47 [==============================] - 0s 7ms/step - loss: 8.4543e-05 - root_mean_squared_error: 0.0092 - val_loss: 8.8442e-05 - val_root_mean_squared_error: 0.0094\n",
            "Epoch 92/100\n",
            "47/47 [==============================] - 0s 8ms/step - loss: 8.1280e-05 - root_mean_squared_error: 0.0090 - val_loss: 7.1104e-05 - val_root_mean_squared_error: 0.0084\n",
            "Epoch 93/100\n",
            "47/47 [==============================] - 0s 8ms/step - loss: 7.3096e-05 - root_mean_squared_error: 0.0085 - val_loss: 8.3948e-05 - val_root_mean_squared_error: 0.0092\n",
            "Epoch 94/100\n",
            "47/47 [==============================] - 0s 9ms/step - loss: 6.2168e-05 - root_mean_squared_error: 0.0079 - val_loss: 7.3821e-05 - val_root_mean_squared_error: 0.0086\n",
            "Epoch 95/100\n",
            "45/47 [===========================>..] - ETA: 0s - loss: 6.3408e-05 - root_mean_squared_error: 0.0080"
          ]
        },
        {
          "output_type": "stream",
          "name": "stderr",
          "text": [
            "WARNING:absl:Found untraced functions such as lstm_cell_1_layer_call_fn, lstm_cell_1_layer_call_and_return_conditional_losses while saving (showing 2 of 2). These functions will not be directly callable after loading.\n",
            "WARNING:absl:<keras.layers.recurrent.LSTMCell object at 0x7f8cb61356d0> has the same name 'LSTMCell' as a built-in Keras object. Consider renaming <class 'keras.layers.recurrent.LSTMCell'> to avoid naming conflicts when loading with `tf.keras.models.load_model`. If renaming is not possible, pass the object in the `custom_objects` parameter of the load function.\n"
          ]
        },
        {
          "output_type": "stream",
          "name": "stdout",
          "text": [
            "\b\b\b\b\b\b\b\b\b\b\b\b\b\b\b\b\b\b\b\b\b\b\b\b\b\b\b\b\b\b\b\b\b\b\b\b\b\b\b\b\b\b\b\b\b\b\b\b\b\b\b\b\b\b\b\b\b\b\b\b\b\b\b\b\b\b\b\b\b\b\b\b\b\b\b\b\b\b\b\b\b\b\b\b\b\b\b\b\b\b\b\b\b\b\b\b\b\b\b\b\b\r47/47 [==============================] - 5s 114ms/step - loss: 6.3860e-05 - root_mean_squared_error: 0.0080 - val_loss: 6.7449e-05 - val_root_mean_squared_error: 0.0082\n",
            "Epoch 96/100\n",
            "43/47 [==========================>...] - ETA: 0s - loss: 6.5746e-05 - root_mean_squared_error: 0.0081"
          ]
        },
        {
          "output_type": "stream",
          "name": "stderr",
          "text": [
            "WARNING:absl:Found untraced functions such as lstm_cell_1_layer_call_fn, lstm_cell_1_layer_call_and_return_conditional_losses while saving (showing 2 of 2). These functions will not be directly callable after loading.\n",
            "WARNING:absl:<keras.layers.recurrent.LSTMCell object at 0x7f8cb61356d0> has the same name 'LSTMCell' as a built-in Keras object. Consider renaming <class 'keras.layers.recurrent.LSTMCell'> to avoid naming conflicts when loading with `tf.keras.models.load_model`. If renaming is not possible, pass the object in the `custom_objects` parameter of the load function.\n"
          ]
        },
        {
          "output_type": "stream",
          "name": "stdout",
          "text": [
            "\b\b\b\b\b\b\b\b\b\b\b\b\b\b\b\b\b\b\b\b\b\b\b\b\b\b\b\b\b\b\b\b\b\b\b\b\b\b\b\b\b\b\b\b\b\b\b\b\b\b\b\b\b\b\b\b\b\b\b\b\b\b\b\b\b\b\b\b\b\b\b\b\b\b\b\b\b\b\b\b\b\b\b\b\b\b\b\b\b\b\b\b\b\b\b\b\b\b\b\b\b\r47/47 [==============================] - 6s 135ms/step - loss: 6.5638e-05 - root_mean_squared_error: 0.0081 - val_loss: 5.8707e-05 - val_root_mean_squared_error: 0.0077\n",
            "Epoch 97/100\n",
            "47/47 [==============================] - 0s 8ms/step - loss: 7.4258e-05 - root_mean_squared_error: 0.0086 - val_loss: 1.2961e-04 - val_root_mean_squared_error: 0.0114\n",
            "Epoch 98/100\n",
            "47/47 [==============================] - 0s 8ms/step - loss: 6.4741e-05 - root_mean_squared_error: 0.0080 - val_loss: 6.7878e-05 - val_root_mean_squared_error: 0.0082\n",
            "Epoch 99/100\n",
            "47/47 [==============================] - 0s 8ms/step - loss: 5.8379e-05 - root_mean_squared_error: 0.0076 - val_loss: 7.6217e-05 - val_root_mean_squared_error: 0.0087\n",
            "Epoch 100/100\n",
            "47/47 [==============================] - 0s 9ms/step - loss: 6.8144e-05 - root_mean_squared_error: 0.0083 - val_loss: 6.7039e-05 - val_root_mean_squared_error: 0.0082\n"
          ]
        },
        {
          "output_type": "execute_result",
          "data": {
            "text/plain": [
              "<keras.callbacks.History at 0x7f8cb6d91a90>"
            ]
          },
          "metadata": {},
          "execution_count": 23
        }
      ]
    },
    {
      "cell_type": "code",
      "source": [
        "from tensorflow.keras.models import load_model\n",
        "model1 = load_model('model1/')"
      ],
      "metadata": {
        "id": "ctV9yKo_spJX"
      },
      "execution_count": 24,
      "outputs": []
    },
    {
      "cell_type": "code",
      "source": [
        "train_predictions = model1.predict(X_train1).flatten()\n",
        "train_results = pd.DataFrame(data={'Train Predictions':train_predictions, 'Actuals':y_train1})\n",
        "train_results"
      ],
      "metadata": {
        "colab": {
          "base_uri": "https://localhost:8080/",
          "height": 424
        },
        "id": "cK9daMqatd1m",
        "outputId": "9785bac7-3fd4-4e4c-c781-619f29d41d90"
      },
      "execution_count": 25,
      "outputs": [
        {
          "output_type": "execute_result",
          "data": {
            "text/plain": [
              "      Train Predictions  Actuals\n",
              "0              0.799798     0.80\n",
              "1              0.799134     0.81\n",
              "2              0.801989     0.81\n",
              "3              0.805847     0.81\n",
              "4              0.807294     0.81\n",
              "...                 ...      ...\n",
              "1495           0.810283     0.80\n",
              "1496           0.801249     0.79\n",
              "1497           0.789928     0.78\n",
              "1498           0.780978     0.78\n",
              "1499           0.778014     0.77\n",
              "\n",
              "[1500 rows x 2 columns]"
            ],
            "text/html": [
              "\n",
              "  <div id=\"df-71d49b14-23c6-4aa9-953b-de637e4ff4b3\">\n",
              "    <div class=\"colab-df-container\">\n",
              "      <div>\n",
              "<style scoped>\n",
              "    .dataframe tbody tr th:only-of-type {\n",
              "        vertical-align: middle;\n",
              "    }\n",
              "\n",
              "    .dataframe tbody tr th {\n",
              "        vertical-align: top;\n",
              "    }\n",
              "\n",
              "    .dataframe thead th {\n",
              "        text-align: right;\n",
              "    }\n",
              "</style>\n",
              "<table border=\"1\" class=\"dataframe\">\n",
              "  <thead>\n",
              "    <tr style=\"text-align: right;\">\n",
              "      <th></th>\n",
              "      <th>Train Predictions</th>\n",
              "      <th>Actuals</th>\n",
              "    </tr>\n",
              "  </thead>\n",
              "  <tbody>\n",
              "    <tr>\n",
              "      <th>0</th>\n",
              "      <td>0.799798</td>\n",
              "      <td>0.80</td>\n",
              "    </tr>\n",
              "    <tr>\n",
              "      <th>1</th>\n",
              "      <td>0.799134</td>\n",
              "      <td>0.81</td>\n",
              "    </tr>\n",
              "    <tr>\n",
              "      <th>2</th>\n",
              "      <td>0.801989</td>\n",
              "      <td>0.81</td>\n",
              "    </tr>\n",
              "    <tr>\n",
              "      <th>3</th>\n",
              "      <td>0.805847</td>\n",
              "      <td>0.81</td>\n",
              "    </tr>\n",
              "    <tr>\n",
              "      <th>4</th>\n",
              "      <td>0.807294</td>\n",
              "      <td>0.81</td>\n",
              "    </tr>\n",
              "    <tr>\n",
              "      <th>...</th>\n",
              "      <td>...</td>\n",
              "      <td>...</td>\n",
              "    </tr>\n",
              "    <tr>\n",
              "      <th>1495</th>\n",
              "      <td>0.810283</td>\n",
              "      <td>0.80</td>\n",
              "    </tr>\n",
              "    <tr>\n",
              "      <th>1496</th>\n",
              "      <td>0.801249</td>\n",
              "      <td>0.79</td>\n",
              "    </tr>\n",
              "    <tr>\n",
              "      <th>1497</th>\n",
              "      <td>0.789928</td>\n",
              "      <td>0.78</td>\n",
              "    </tr>\n",
              "    <tr>\n",
              "      <th>1498</th>\n",
              "      <td>0.780978</td>\n",
              "      <td>0.78</td>\n",
              "    </tr>\n",
              "    <tr>\n",
              "      <th>1499</th>\n",
              "      <td>0.778014</td>\n",
              "      <td>0.77</td>\n",
              "    </tr>\n",
              "  </tbody>\n",
              "</table>\n",
              "<p>1500 rows × 2 columns</p>\n",
              "</div>\n",
              "      <button class=\"colab-df-convert\" onclick=\"convertToInteractive('df-71d49b14-23c6-4aa9-953b-de637e4ff4b3')\"\n",
              "              title=\"Convert this dataframe to an interactive table.\"\n",
              "              style=\"display:none;\">\n",
              "        \n",
              "  <svg xmlns=\"http://www.w3.org/2000/svg\" height=\"24px\"viewBox=\"0 0 24 24\"\n",
              "       width=\"24px\">\n",
              "    <path d=\"M0 0h24v24H0V0z\" fill=\"none\"/>\n",
              "    <path d=\"M18.56 5.44l.94 2.06.94-2.06 2.06-.94-2.06-.94-.94-2.06-.94 2.06-2.06.94zm-11 1L8.5 8.5l.94-2.06 2.06-.94-2.06-.94L8.5 2.5l-.94 2.06-2.06.94zm10 10l.94 2.06.94-2.06 2.06-.94-2.06-.94-.94-2.06-.94 2.06-2.06.94z\"/><path d=\"M17.41 7.96l-1.37-1.37c-.4-.4-.92-.59-1.43-.59-.52 0-1.04.2-1.43.59L10.3 9.45l-7.72 7.72c-.78.78-.78 2.05 0 2.83L4 21.41c.39.39.9.59 1.41.59.51 0 1.02-.2 1.41-.59l7.78-7.78 2.81-2.81c.8-.78.8-2.07 0-2.86zM5.41 20L4 18.59l7.72-7.72 1.47 1.35L5.41 20z\"/>\n",
              "  </svg>\n",
              "      </button>\n",
              "      \n",
              "  <style>\n",
              "    .colab-df-container {\n",
              "      display:flex;\n",
              "      flex-wrap:wrap;\n",
              "      gap: 12px;\n",
              "    }\n",
              "\n",
              "    .colab-df-convert {\n",
              "      background-color: #E8F0FE;\n",
              "      border: none;\n",
              "      border-radius: 50%;\n",
              "      cursor: pointer;\n",
              "      display: none;\n",
              "      fill: #1967D2;\n",
              "      height: 32px;\n",
              "      padding: 0 0 0 0;\n",
              "      width: 32px;\n",
              "    }\n",
              "\n",
              "    .colab-df-convert:hover {\n",
              "      background-color: #E2EBFA;\n",
              "      box-shadow: 0px 1px 2px rgba(60, 64, 67, 0.3), 0px 1px 3px 1px rgba(60, 64, 67, 0.15);\n",
              "      fill: #174EA6;\n",
              "    }\n",
              "\n",
              "    [theme=dark] .colab-df-convert {\n",
              "      background-color: #3B4455;\n",
              "      fill: #D2E3FC;\n",
              "    }\n",
              "\n",
              "    [theme=dark] .colab-df-convert:hover {\n",
              "      background-color: #434B5C;\n",
              "      box-shadow: 0px 1px 3px 1px rgba(0, 0, 0, 0.15);\n",
              "      filter: drop-shadow(0px 1px 2px rgba(0, 0, 0, 0.3));\n",
              "      fill: #FFFFFF;\n",
              "    }\n",
              "  </style>\n",
              "\n",
              "      <script>\n",
              "        const buttonEl =\n",
              "          document.querySelector('#df-71d49b14-23c6-4aa9-953b-de637e4ff4b3 button.colab-df-convert');\n",
              "        buttonEl.style.display =\n",
              "          google.colab.kernel.accessAllowed ? 'block' : 'none';\n",
              "\n",
              "        async function convertToInteractive(key) {\n",
              "          const element = document.querySelector('#df-71d49b14-23c6-4aa9-953b-de637e4ff4b3');\n",
              "          const dataTable =\n",
              "            await google.colab.kernel.invokeFunction('convertToInteractive',\n",
              "                                                     [key], {});\n",
              "          if (!dataTable) return;\n",
              "\n",
              "          const docLinkHtml = 'Like what you see? Visit the ' +\n",
              "            '<a target=\"_blank\" href=https://colab.research.google.com/notebooks/data_table.ipynb>data table notebook</a>'\n",
              "            + ' to learn more about interactive tables.';\n",
              "          element.innerHTML = '';\n",
              "          dataTable['output_type'] = 'display_data';\n",
              "          await google.colab.output.renderOutput(dataTable, element);\n",
              "          const docLink = document.createElement('div');\n",
              "          docLink.innerHTML = docLinkHtml;\n",
              "          element.appendChild(docLink);\n",
              "        }\n",
              "      </script>\n",
              "    </div>\n",
              "  </div>\n",
              "  "
            ]
          },
          "metadata": {},
          "execution_count": 25
        }
      ]
    },
    {
      "cell_type": "code",
      "source": [
        "import matplotlib.pyplot as plt\n",
        "plt.plot(train_results['Train Predictions'][1000:1400], label='Predictions')\n",
        "plt.plot(train_results['Actuals'][1000:1400], label='Actuals')\n",
        "plt.legend()"
      ],
      "metadata": {
        "colab": {
          "base_uri": "https://localhost:8080/",
          "height": 282
        },
        "id": "-kF7wj5Qth8k",
        "outputId": "c7331fcf-b150-4582-d1d2-f1a012d55687"
      },
      "execution_count": 26,
      "outputs": [
        {
          "output_type": "execute_result",
          "data": {
            "text/plain": [
              "<matplotlib.legend.Legend at 0x7f8cb31b9d10>"
            ]
          },
          "metadata": {},
          "execution_count": 26
        },
        {
          "output_type": "display_data",
          "data": {
            "text/plain": [
              "<Figure size 432x288 with 1 Axes>"
            ],
            "image/png": "[encoded data removed]"
          },
          "metadata": {
            "needs_background": "light"
          }
        }
      ]
    },
    {
      "cell_type": "code",
      "source": [
        "import matplotlib.pyplot as plt\n",
        "plt.plot(train_results['Train Predictions'][1000:1400], label='Predictions')\n",
        "plt.plot(train_results['Actuals'][1000:1400], label='Actuals')\n",
        "plt.legend()"
      ],
      "metadata": {
        "colab": {
          "base_uri": "https://localhost:8080/",
          "height": 282
        },
        "id": "j_7Hk7XNuHZU",
        "outputId": "2aa5e9f9-e06b-47f9-e2da-01d271e9fdc0"
      },
      "execution_count": 27,
      "outputs": [
        {
          "output_type": "execute_result",
          "data": {
            "text/plain": [
              "<matplotlib.legend.Legend at 0x7f8cb759cf50>"
            ]
          },
          "metadata": {},
          "execution_count": 27
        },
        {
          "output_type": "display_data",
          "data": {
            "text/plain": [
              "<Figure size 432x288 with 1 Axes>"
            ],
            "image/png": "[encoded data removed]"
          },
          "metadata": {
            "needs_background": "light"
          }
        }
      ]
    },
    {
      "cell_type": "code",
      "source": [
        "import matplotlib.pyplot as plt\n",
        "plt.plot(train_results['Train Predictions'][1:150], label='Predictions')\n",
        "plt.plot(train_results['Actuals'][1:150], label='Actuals')\n",
        "plt.legend()"
      ],
      "metadata": {
        "colab": {
          "base_uri": "https://localhost:8080/",
          "height": 282
        },
        "id": "_9TzmWxvuM91",
        "outputId": "c5f36ac2-228f-45c2-ae94-05f06d7993f1"
      },
      "execution_count": 28,
      "outputs": [
        {
          "output_type": "execute_result",
          "data": {
            "text/plain": [
              "<matplotlib.legend.Legend at 0x7f8cb35ceb90>"
            ]
          },
          "metadata": {},
          "execution_count": 28
        },
        {
          "output_type": "display_data",
          "data": {
            "text/plain": [
              "<Figure size 432x288 with 1 Axes>"
            ],
            "image/png": "[encoded data removed]"
          },
          "metadata": {
            "needs_background": "light"
          }
        }
      ]
    },
    {
      "cell_type": "code",
      "source": [
        "keras.metrics.mean_absolute_error(y_train1, train_predictions).numpy()"
      ],
      "metadata": {
        "colab": {
          "base_uri": "https://localhost:8080/"
        },
        "id": "mNvqroIKuSSV",
        "outputId": "42e4ae66-93e5-4d0e-c0a2-143a77eea314"
      },
      "execution_count": 29,
      "outputs": [
        {
          "output_type": "execute_result",
          "data": {
            "text/plain": [
              "0.006013059"
            ]
          },
          "metadata": {},
          "execution_count": 29
        }
      ]
    },
    {
      "cell_type": "code",
      "source": [
        "val_predictions = model1.predict(X_val1).flatten()\n",
        "val_results = pd.DataFrame(data={'Val Predictions':val_predictions, 'Actuals':y_val1})\n",
        "val_results"
      ],
      "metadata": {
        "colab": {
          "base_uri": "https://localhost:8080/",
          "height": 424
        },
        "id": "2UWq5WhvxAys",
        "outputId": "bcd68538-f61b-4c4b-96c4-997c74e1619f"
      },
      "execution_count": 30,
      "outputs": [
        {
          "output_type": "execute_result",
          "data": {
            "text/plain": [
              "     Val Predictions  Actuals\n",
              "0           0.774415     0.77\n",
              "1           0.772785     0.77\n",
              "2           0.772841     0.77\n",
              "3           0.773449     0.77\n",
              "4           0.774958     0.78\n",
              "..               ...      ...\n",
              "245         0.771128     0.77\n",
              "246         0.774034     0.77\n",
              "247         0.777028     0.78\n",
              "248         0.780835     0.79\n",
              "249         0.787560     0.79\n",
              "\n",
              "[250 rows x 2 columns]"
            ],
            "text/html": [
              "\n",
              "  <div id=\"df-560115aa-811d-426e-b265-ec86fcd7707f\">\n",
              "    <div class=\"colab-df-container\">\n",
              "      <div>\n",
              "<style scoped>\n",
              "    .dataframe tbody tr th:only-of-type {\n",
              "        vertical-align: middle;\n",
              "    }\n",
              "\n",
              "    .dataframe tbody tr th {\n",
              "        vertical-align: top;\n",
              "    }\n",
              "\n",
              "    .dataframe thead th {\n",
              "        text-align: right;\n",
              "    }\n",
              "</style>\n",
              "<table border=\"1\" class=\"dataframe\">\n",
              "  <thead>\n",
              "    <tr style=\"text-align: right;\">\n",
              "      <th></th>\n",
              "      <th>Val Predictions</th>\n",
              "      <th>Actuals</th>\n",
              "    </tr>\n",
              "  </thead>\n",
              "  <tbody>\n",
              "    <tr>\n",
              "      <th>0</th>\n",
              "      <td>0.774415</td>\n",
              "      <td>0.77</td>\n",
              "    </tr>\n",
              "    <tr>\n",
              "      <th>1</th>\n",
              "      <td>0.772785</td>\n",
              "      <td>0.77</td>\n",
              "    </tr>\n",
              "    <tr>\n",
              "      <th>2</th>\n",
              "      <td>0.772841</td>\n",
              "      <td>0.77</td>\n",
              "    </tr>\n",
              "    <tr>\n",
              "      <th>3</th>\n",
              "      <td>0.773449</td>\n",
              "      <td>0.77</td>\n",
              "    </tr>\n",
              "    <tr>\n",
              "      <th>4</th>\n",
              "      <td>0.774958</td>\n",
              "      <td>0.78</td>\n",
              "    </tr>\n",
              "    <tr>\n",
              "      <th>...</th>\n",
              "      <td>...</td>\n",
              "      <td>...</td>\n",
              "    </tr>\n",
              "    <tr>\n",
              "      <th>245</th>\n",
              "      <td>0.771128</td>\n",
              "      <td>0.77</td>\n",
              "    </tr>\n",
              "    <tr>\n",
              "      <th>246</th>\n",
              "      <td>0.774034</td>\n",
              "      <td>0.77</td>\n",
              "    </tr>\n",
              "    <tr>\n",
              "      <th>247</th>\n",
              "      <td>0.777028</td>\n",
              "      <td>0.78</td>\n",
              "    </tr>\n",
              "    <tr>\n",
              "      <th>248</th>\n",
              "      <td>0.780835</td>\n",
              "      <td>0.79</td>\n",
              "    </tr>\n",
              "    <tr>\n",
              "      <th>249</th>\n",
              "      <td>0.787560</td>\n",
              "      <td>0.79</td>\n",
              "    </tr>\n",
              "  </tbody>\n",
              "</table>\n",
              "<p>250 rows × 2 columns</p>\n",
              "</div>\n",
              "      <button class=\"colab-df-convert\" onclick=\"convertToInteractive('df-560115aa-811d-426e-b265-ec86fcd7707f')\"\n",
              "              title=\"Convert this dataframe to an interactive table.\"\n",
              "              style=\"display:none;\">\n",
              "        \n",
              "  <svg xmlns=\"http://www.w3.org/2000/svg\" height=\"24px\"viewBox=\"0 0 24 24\"\n",
              "       width=\"24px\">\n",
              "    <path d=\"M0 0h24v24H0V0z\" fill=\"none\"/>\n",
              "    <path d=\"M18.56 5.44l.94 2.06.94-2.06 2.06-.94-2.06-.94-.94-2.06-.94 2.06-2.06.94zm-11 1L8.5 8.5l.94-2.06 2.06-.94-2.06-.94L8.5 2.5l-.94 2.06-2.06.94zm10 10l.94 2.06.94-2.06 2.06-.94-2.06-.94-.94-2.06-.94 2.06-2.06.94z\"/><path d=\"M17.41 7.96l-1.37-1.37c-.4-.4-.92-.59-1.43-.59-.52 0-1.04.2-1.43.59L10.3 9.45l-7.72 7.72c-.78.78-.78 2.05 0 2.83L4 21.41c.39.39.9.59 1.41.59.51 0 1.02-.2 1.41-.59l7.78-7.78 2.81-2.81c.8-.78.8-2.07 0-2.86zM5.41 20L4 18.59l7.72-7.72 1.47 1.35L5.41 20z\"/>\n",
              "  </svg>\n",
              "      </button>\n",
              "      \n",
              "  <style>\n",
              "    .colab-df-container {\n",
              "      display:flex;\n",
              "      flex-wrap:wrap;\n",
              "      gap: 12px;\n",
              "    }\n",
              "\n",
              "    .colab-df-convert {\n",
              "      background-color: #E8F0FE;\n",
              "      border: none;\n",
              "      border-radius: 50%;\n",
              "      cursor: pointer;\n",
              "      display: none;\n",
              "      fill: #1967D2;\n",
              "      height: 32px;\n",
              "      padding: 0 0 0 0;\n",
              "      width: 32px;\n",
              "    }\n",
              "\n",
              "    .colab-df-convert:hover {\n",
              "      background-color: #E2EBFA;\n",
              "      box-shadow: 0px 1px 2px rgba(60, 64, 67, 0.3), 0px 1px 3px 1px rgba(60, 64, 67, 0.15);\n",
              "      fill: #174EA6;\n",
              "    }\n",
              "\n",
              "    [theme=dark] .colab-df-convert {\n",
              "      background-color: #3B4455;\n",
              "      fill: #D2E3FC;\n",
              "    }\n",
              "\n",
              "    [theme=dark] .colab-df-convert:hover {\n",
              "      background-color: #434B5C;\n",
              "      box-shadow: 0px 1px 3px 1px rgba(0, 0, 0, 0.15);\n",
              "      filter: drop-shadow(0px 1px 2px rgba(0, 0, 0, 0.3));\n",
              "      fill: #FFFFFF;\n",
              "    }\n",
              "  </style>\n",
              "\n",
              "      <script>\n",
              "        const buttonEl =\n",
              "          document.querySelector('#df-560115aa-811d-426e-b265-ec86fcd7707f button.colab-df-convert');\n",
              "        buttonEl.style.display =\n",
              "          google.colab.kernel.accessAllowed ? 'block' : 'none';\n",
              "\n",
              "        async function convertToInteractive(key) {\n",
              "          const element = document.querySelector('#df-560115aa-811d-426e-b265-ec86fcd7707f');\n",
              "          const dataTable =\n",
              "            await google.colab.kernel.invokeFunction('convertToInteractive',\n",
              "                                                     [key], {});\n",
              "          if (!dataTable) return;\n",
              "\n",
              "          const docLinkHtml = 'Like what you see? Visit the ' +\n",
              "            '<a target=\"_blank\" href=https://colab.research.google.com/notebooks/data_table.ipynb>data table notebook</a>'\n",
              "            + ' to learn more about interactive tables.';\n",
              "          element.innerHTML = '';\n",
              "          dataTable['output_type'] = 'display_data';\n",
              "          await google.colab.output.renderOutput(dataTable, element);\n",
              "          const docLink = document.createElement('div');\n",
              "          docLink.innerHTML = docLinkHtml;\n",
              "          element.appendChild(docLink);\n",
              "        }\n",
              "      </script>\n",
              "    </div>\n",
              "  </div>\n",
              "  "
            ]
          },
          "metadata": {},
          "execution_count": 30
        }
      ]
    },
    {
      "cell_type": "code",
      "source": [
        "plt.plot(val_results['Val Predictions'][:100])\n",
        "plt.plot(val_results['Actuals'][:100])"
      ],
      "metadata": {
        "colab": {
          "base_uri": "https://localhost:8080/",
          "height": 282
        },
        "id": "GtuX3oh_xQls",
        "outputId": "d6c5cc28-d28b-4207-a816-dbf9205a0f69"
      },
      "execution_count": 31,
      "outputs": [
        {
          "output_type": "execute_result",
          "data": {
            "text/plain": [
              "[<matplotlib.lines.Line2D at 0x7f8cb2cf8110>]"
            ]
          },
          "metadata": {},
          "execution_count": 31
        },
        {
          "output_type": "display_data",
          "data": {
            "text/plain": [
              "<Figure size 432x288 with 1 Axes>"
            ],
            "image/png": "[encoded data removed]"
          },
          "metadata": {
            "needs_background": "light"
          }
        }
      ]
    },
    {
      "cell_type": "code",
      "source": [
        "keras.metrics.mean_absolute_error(y_val1, val_predictions).numpy()"
      ],
      "metadata": {
        "colab": {
          "base_uri": "https://localhost:8080/"
        },
        "id": "RHtrrP7kxpQy",
        "outputId": "abb09cd5-66a2-443c-b580-10de430f41bb"
      },
      "execution_count": 32,
      "outputs": [
        {
          "output_type": "execute_result",
          "data": {
            "text/plain": [
              "0.00628988"
            ]
          },
          "metadata": {},
          "execution_count": 32
        }
      ]
    },
    {
      "cell_type": "code",
      "source": [
        "test_predictions = model1.predict(X_test1).flatten()\n",
        "test_results = pd.DataFrame(data={'Test Predictions':test_predictions, 'Actuals':y_test1})\n",
        "test_results"
      ],
      "metadata": {
        "colab": {
          "base_uri": "https://localhost:8080/",
          "height": 424
        },
        "id": "6NvpERkux8Xq",
        "outputId": "d033916a-1581-42e3-e01f-775b6dd5c524"
      },
      "execution_count": 33,
      "outputs": [
        {
          "output_type": "execute_result",
          "data": {
            "text/plain": [
              "     Test Predictions  Actuals\n",
              "0            0.792901     0.79\n",
              "1            0.793783     0.80\n",
              "2            0.796036     0.80\n",
              "3            0.798334     0.80\n",
              "4            0.799798     0.81\n",
              "..                ...      ...\n",
              "240          0.808086     0.81\n",
              "241          0.808875     0.82\n",
              "242          0.811049     0.82\n",
              "243          0.813311     0.82\n",
              "244          0.814742     0.82\n",
              "\n",
              "[245 rows x 2 columns]"
            ],
            "text/html": [
              "\n",
              "  <div id=\"df-2fc77c1d-ab53-4fbc-abe7-79cc678c9b39\">\n",
              "    <div class=\"colab-df-container\">\n",
              "      <div>\n",
              "<style scoped>\n",
              "    .dataframe tbody tr th:only-of-type {\n",
              "        vertical-align: middle;\n",
              "    }\n",
              "\n",
              "    .dataframe tbody tr th {\n",
              "        vertical-align: top;\n",
              "    }\n",
              "\n",
              "    .dataframe thead th {\n",
              "        text-align: right;\n",
              "    }\n",
              "</style>\n",
              "<table border=\"1\" class=\"dataframe\">\n",
              "  <thead>\n",
              "    <tr style=\"text-align: right;\">\n",
              "      <th></th>\n",
              "      <th>Test Predictions</th>\n",
              "      <th>Actuals</th>\n",
              "    </tr>\n",
              "  </thead>\n",
              "  <tbody>\n",
              "    <tr>\n",
              "      <th>0</th>\n",
              "      <td>0.792901</td>\n",
              "      <td>0.79</td>\n",
              "    </tr>\n",
              "    <tr>\n",
              "      <th>1</th>\n",
              "      <td>0.793783</td>\n",
              "      <td>0.80</td>\n",
              "    </tr>\n",
              "    <tr>\n",
              "      <th>2</th>\n",
              "      <td>0.796036</td>\n",
              "      <td>0.80</td>\n",
              "    </tr>\n",
              "    <tr>\n",
              "      <th>3</th>\n",
              "      <td>0.798334</td>\n",
              "      <td>0.80</td>\n",
              "    </tr>\n",
              "    <tr>\n",
              "      <th>4</th>\n",
              "      <td>0.799798</td>\n",
              "      <td>0.81</td>\n",
              "    </tr>\n",
              "    <tr>\n",
              "      <th>...</th>\n",
              "      <td>...</td>\n",
              "      <td>...</td>\n",
              "    </tr>\n",
              "    <tr>\n",
              "      <th>240</th>\n",
              "      <td>0.808086</td>\n",
              "      <td>0.81</td>\n",
              "    </tr>\n",
              "    <tr>\n",
              "      <th>241</th>\n",
              "      <td>0.808875</td>\n",
              "      <td>0.82</td>\n",
              "    </tr>\n",
              "    <tr>\n",
              "      <th>242</th>\n",
              "      <td>0.811049</td>\n",
              "      <td>0.82</td>\n",
              "    </tr>\n",
              "    <tr>\n",
              "      <th>243</th>\n",
              "      <td>0.813311</td>\n",
              "      <td>0.82</td>\n",
              "    </tr>\n",
              "    <tr>\n",
              "      <th>244</th>\n",
              "      <td>0.814742</td>\n",
              "      <td>0.82</td>\n",
              "    </tr>\n",
              "  </tbody>\n",
              "</table>\n",
              "<p>245 rows × 2 columns</p>\n",
              "</div>\n",
              "      <button class=\"colab-df-convert\" onclick=\"convertToInteractive('df-2fc77c1d-ab53-4fbc-abe7-79cc678c9b39')\"\n",
              "              title=\"Convert this dataframe to an interactive table.\"\n",
              "              style=\"display:none;\">\n",
              "        \n",
              "  <svg xmlns=\"http://www.w3.org/2000/svg\" height=\"24px\"viewBox=\"0 0 24 24\"\n",
              "       width=\"24px\">\n",
              "    <path d=\"M0 0h24v24H0V0z\" fill=\"none\"/>\n",
              "    <path d=\"M18.56 5.44l.94 2.06.94-2.06 2.06-.94-2.06-.94-.94-2.06-.94 2.06-2.06.94zm-11 1L8.5 8.5l.94-2.06 2.06-.94-2.06-.94L8.5 2.5l-.94 2.06-2.06.94zm10 10l.94 2.06.94-2.06 2.06-.94-2.06-.94-.94-2.06-.94 2.06-2.06.94z\"/><path d=\"M17.41 7.96l-1.37-1.37c-.4-.4-.92-.59-1.43-.59-.52 0-1.04.2-1.43.59L10.3 9.45l-7.72 7.72c-.78.78-.78 2.05 0 2.83L4 21.41c.39.39.9.59 1.41.59.51 0 1.02-.2 1.41-.59l7.78-7.78 2.81-2.81c.8-.78.8-2.07 0-2.86zM5.41 20L4 18.59l7.72-7.72 1.47 1.35L5.41 20z\"/>\n",
              "  </svg>\n",
              "      </button>\n",
              "      \n",
              "  <style>\n",
              "    .colab-df-container {\n",
              "      display:flex;\n",
              "      flex-wrap:wrap;\n",
              "      gap: 12px;\n",
              "    }\n",
              "\n",
              "    .colab-df-convert {\n",
              "      background-color: #E8F0FE;\n",
              "      border: none;\n",
              "      border-radius: 50%;\n",
              "      cursor: pointer;\n",
              "      display: none;\n",
              "      fill: #1967D2;\n",
              "      height: 32px;\n",
              "      padding: 0 0 0 0;\n",
              "      width: 32px;\n",
              "    }\n",
              "\n",
              "    .colab-df-convert:hover {\n",
              "      background-color: #E2EBFA;\n",
              "      box-shadow: 0px 1px 2px rgba(60, 64, 67, 0.3), 0px 1px 3px 1px rgba(60, 64, 67, 0.15);\n",
              "      fill: #174EA6;\n",
              "    }\n",
              "\n",
              "    [theme=dark] .colab-df-convert {\n",
              "      background-color: #3B4455;\n",
              "      fill: #D2E3FC;\n",
              "    }\n",
              "\n",
              "    [theme=dark] .colab-df-convert:hover {\n",
              "      background-color: #434B5C;\n",
              "      box-shadow: 0px 1px 3px 1px rgba(0, 0, 0, 0.15);\n",
              "      filter: drop-shadow(0px 1px 2px rgba(0, 0, 0, 0.3));\n",
              "      fill: #FFFFFF;\n",
              "    }\n",
              "  </style>\n",
              "\n",
              "      <script>\n",
              "        const buttonEl =\n",
              "          document.querySelector('#df-2fc77c1d-ab53-4fbc-abe7-79cc678c9b39 button.colab-df-convert');\n",
              "        buttonEl.style.display =\n",
              "          google.colab.kernel.accessAllowed ? 'block' : 'none';\n",
              "\n",
              "        async function convertToInteractive(key) {\n",
              "          const element = document.querySelector('#df-2fc77c1d-ab53-4fbc-abe7-79cc678c9b39');\n",
              "          const dataTable =\n",
              "            await google.colab.kernel.invokeFunction('convertToInteractive',\n",
              "                                                     [key], {});\n",
              "          if (!dataTable) return;\n",
              "\n",
              "          const docLinkHtml = 'Like what you see? Visit the ' +\n",
              "            '<a target=\"_blank\" href=https://colab.research.google.com/notebooks/data_table.ipynb>data table notebook</a>'\n",
              "            + ' to learn more about interactive tables.';\n",
              "          element.innerHTML = '';\n",
              "          dataTable['output_type'] = 'display_data';\n",
              "          await google.colab.output.renderOutput(dataTable, element);\n",
              "          const docLink = document.createElement('div');\n",
              "          docLink.innerHTML = docLinkHtml;\n",
              "          element.appendChild(docLink);\n",
              "        }\n",
              "      </script>\n",
              "    </div>\n",
              "  </div>\n",
              "  "
            ]
          },
          "metadata": {},
          "execution_count": 33
        }
      ]
    },
    {
      "cell_type": "code",
      "source": [
        "plt.plot(test_results['Test Predictions'][:100])\n",
        "plt.plot(test_results['Actuals'][:100])"
      ],
      "metadata": {
        "colab": {
          "base_uri": "https://localhost:8080/",
          "height": 282
        },
        "id": "TSVAyzFDyFYC",
        "outputId": "317c0a3a-9c12-4d19-f13f-a9c0dbd71d00"
      },
      "execution_count": 34,
      "outputs": [
        {
          "output_type": "execute_result",
          "data": {
            "text/plain": [
              "[<matplotlib.lines.Line2D at 0x7f8cb3682310>]"
            ]
          },
          "metadata": {},
          "execution_count": 34
        },
        {
          "output_type": "display_data",
          "data": {
            "text/plain": [
              "<Figure size 432x288 with 1 Axes>"
            ],
            "image/png": "[encoded data removed]"
          },
          "metadata": {
            "needs_background": "light"
          }
        }
      ]
    },
    {
      "cell_type": "code",
      "source": [
        "keras.metrics.mean_absolute_error(y_test1, test_predictions).numpy()"
      ],
      "metadata": {
        "colab": {
          "base_uri": "https://localhost:8080/"
        },
        "id": "vFiuXgo6ymGQ",
        "outputId": "8947408f-7a24-4519-993b-49f9b641c567"
      },
      "execution_count": 35,
      "outputs": [
        {
          "output_type": "execute_result",
          "data": {
            "text/plain": [
              "0.005367934"
            ]
          },
          "metadata": {},
          "execution_count": 35
        }
      ]
    }
  ]
}