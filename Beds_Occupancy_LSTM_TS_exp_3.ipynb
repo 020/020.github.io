{
  "nbformat": 4,
  "nbformat_minor": 0,
  "metadata": {
    "colab": {
      "name": "Beds  Occupancy LSTM TS exp 3.ipynb",
      "provenance": [],
      "authorship_tag": "ABX9TyM6/xcWGq/pwwAGI3VJAkW4",
      "include_colab_link": true
    },
    "kernelspec": {
      "name": "python3",
      "display_name": "Python 3"
    },
    "language_info": {
      "name": "python"
    }
  },
  "cells": [
    {
      "cell_type": "markdown",
      "metadata": {
        "id": "view-in-github",
        "colab_type": "text"
      },
      "source": [
        "<a href=\"https://colab.research.google.com/github/020/020.github.io/blob/master/Beds_Occupancy_LSTM_TS_exp_3.ipynb\" target=\"_parent\"><img src=\"https://colab.research.google.com/assets/colab-badge.svg\" alt=\"Open In Colab\"/></a>"
      ]
    },
    {
      "cell_type": "code",
      "execution_count": 20,
      "metadata": {
        "id": "vIjOIF-arg-M"
      },
      "outputs": [],
      "source": [
        "import tensorflow as tf\n",
        "import os\n",
        "import pandas as pd\n",
        "import numpy as np\n",
        "import matplotlib.pyplot as plt\n",
        "keras = tf.keras"
      ]
    },
    {
      "cell_type": "code",
      "source": [
        "df = pd.read_csv('/content/beds_occupied.csv')\n",
        "df"
      ],
      "metadata": {
        "colab": {
          "base_uri": "https://localhost:8080/",
          "height": 424
        },
        "id": "0FXb4YQbsG0q",
        "outputId": "26504cdf-8dc0-425b-90b5-e7b4947537e4"
      },
      "execution_count": 3,
      "outputs": [
        {
          "output_type": "execute_result",
          "data": {
            "text/plain": [
              "                 date  occupied\n",
              "0     11/05/2022 0:00      0.79\n",
              "1     11/05/2022 1:00      0.79\n",
              "2     11/05/2022 2:00      0.80\n",
              "3     11/05/2022 3:00      0.80\n",
              "4     11/05/2022 4:00      0.80\n",
              "...               ...       ...\n",
              "1995  02/08/2022 3:00      0.81\n",
              "1996  02/08/2022 4:00      0.82\n",
              "1997  02/08/2022 5:00      0.82\n",
              "1998  02/08/2022 6:00      0.82\n",
              "1999  02/08/2022 7:00      0.82\n",
              "\n",
              "[2000 rows x 2 columns]"
            ],
            "text/html": [
              "\n",
              "  <div id=\"df-a5ac2890-08d9-4768-abd9-93ed71e19e5d\">\n",
              "    <div class=\"colab-df-container\">\n",
              "      <div>\n",
              "<style scoped>\n",
              "    .dataframe tbody tr th:only-of-type {\n",
              "        vertical-align: middle;\n",
              "    }\n",
              "\n",
              "    .dataframe tbody tr th {\n",
              "        vertical-align: top;\n",
              "    }\n",
              "\n",
              "    .dataframe thead th {\n",
              "        text-align: right;\n",
              "    }\n",
              "</style>\n",
              "<table border=\"1\" class=\"dataframe\">\n",
              "  <thead>\n",
              "    <tr style=\"text-align: right;\">\n",
              "      <th></th>\n",
              "      <th>date</th>\n",
              "      <th>occupied</th>\n",
              "    </tr>\n",
              "  </thead>\n",
              "  <tbody>\n",
              "    <tr>\n",
              "      <th>0</th>\n",
              "      <td>11/05/2022 0:00</td>\n",
              "      <td>0.79</td>\n",
              "    </tr>\n",
              "    <tr>\n",
              "      <th>1</th>\n",
              "      <td>11/05/2022 1:00</td>\n",
              "      <td>0.79</td>\n",
              "    </tr>\n",
              "    <tr>\n",
              "      <th>2</th>\n",
              "      <td>11/05/2022 2:00</td>\n",
              "      <td>0.80</td>\n",
              "    </tr>\n",
              "    <tr>\n",
              "      <th>3</th>\n",
              "      <td>11/05/2022 3:00</td>\n",
              "      <td>0.80</td>\n",
              "    </tr>\n",
              "    <tr>\n",
              "      <th>4</th>\n",
              "      <td>11/05/2022 4:00</td>\n",
              "      <td>0.80</td>\n",
              "    </tr>\n",
              "    <tr>\n",
              "      <th>...</th>\n",
              "      <td>...</td>\n",
              "      <td>...</td>\n",
              "    </tr>\n",
              "    <tr>\n",
              "      <th>1995</th>\n",
              "      <td>02/08/2022 3:00</td>\n",
              "      <td>0.81</td>\n",
              "    </tr>\n",
              "    <tr>\n",
              "      <th>1996</th>\n",
              "      <td>02/08/2022 4:00</td>\n",
              "      <td>0.82</td>\n",
              "    </tr>\n",
              "    <tr>\n",
              "      <th>1997</th>\n",
              "      <td>02/08/2022 5:00</td>\n",
              "      <td>0.82</td>\n",
              "    </tr>\n",
              "    <tr>\n",
              "      <th>1998</th>\n",
              "      <td>02/08/2022 6:00</td>\n",
              "      <td>0.82</td>\n",
              "    </tr>\n",
              "    <tr>\n",
              "      <th>1999</th>\n",
              "      <td>02/08/2022 7:00</td>\n",
              "      <td>0.82</td>\n",
              "    </tr>\n",
              "  </tbody>\n",
              "</table>\n",
              "<p>2000 rows × 2 columns</p>\n",
              "</div>\n",
              "      <button class=\"colab-df-convert\" onclick=\"convertToInteractive('df-a5ac2890-08d9-4768-abd9-93ed71e19e5d')\"\n",
              "              title=\"Convert this dataframe to an interactive table.\"\n",
              "              style=\"display:none;\">\n",
              "        \n",
              "  <svg xmlns=\"http://www.w3.org/2000/svg\" height=\"24px\"viewBox=\"0 0 24 24\"\n",
              "       width=\"24px\">\n",
              "    <path d=\"M0 0h24v24H0V0z\" fill=\"none\"/>\n",
              "    <path d=\"M18.56 5.44l.94 2.06.94-2.06 2.06-.94-2.06-.94-.94-2.06-.94 2.06-2.06.94zm-11 1L8.5 8.5l.94-2.06 2.06-.94-2.06-.94L8.5 2.5l-.94 2.06-2.06.94zm10 10l.94 2.06.94-2.06 2.06-.94-2.06-.94-.94-2.06-.94 2.06-2.06.94z\"/><path d=\"M17.41 7.96l-1.37-1.37c-.4-.4-.92-.59-1.43-.59-.52 0-1.04.2-1.43.59L10.3 9.45l-7.72 7.72c-.78.78-.78 2.05 0 2.83L4 21.41c.39.39.9.59 1.41.59.51 0 1.02-.2 1.41-.59l7.78-7.78 2.81-2.81c.8-.78.8-2.07 0-2.86zM5.41 20L4 18.59l7.72-7.72 1.47 1.35L5.41 20z\"/>\n",
              "  </svg>\n",
              "      </button>\n",
              "      \n",
              "  <style>\n",
              "    .colab-df-container {\n",
              "      display:flex;\n",
              "      flex-wrap:wrap;\n",
              "      gap: 12px;\n",
              "    }\n",
              "\n",
              "    .colab-df-convert {\n",
              "      background-color: #E8F0FE;\n",
              "      border: none;\n",
              "      border-radius: 50%;\n",
              "      cursor: pointer;\n",
              "      display: none;\n",
              "      fill: #1967D2;\n",
              "      height: 32px;\n",
              "      padding: 0 0 0 0;\n",
              "      width: 32px;\n",
              "    }\n",
              "\n",
              "    .colab-df-convert:hover {\n",
              "      background-color: #E2EBFA;\n",
              "      box-shadow: 0px 1px 2px rgba(60, 64, 67, 0.3), 0px 1px 3px 1px rgba(60, 64, 67, 0.15);\n",
              "      fill: #174EA6;\n",
              "    }\n",
              "\n",
              "    [theme=dark] .colab-df-convert {\n",
              "      background-color: #3B4455;\n",
              "      fill: #D2E3FC;\n",
              "    }\n",
              "\n",
              "    [theme=dark] .colab-df-convert:hover {\n",
              "      background-color: #434B5C;\n",
              "      box-shadow: 0px 1px 3px 1px rgba(0, 0, 0, 0.15);\n",
              "      filter: drop-shadow(0px 1px 2px rgba(0, 0, 0, 0.3));\n",
              "      fill: #FFFFFF;\n",
              "    }\n",
              "  </style>\n",
              "\n",
              "      <script>\n",
              "        const buttonEl =\n",
              "          document.querySelector('#df-a5ac2890-08d9-4768-abd9-93ed71e19e5d button.colab-df-convert');\n",
              "        buttonEl.style.display =\n",
              "          google.colab.kernel.accessAllowed ? 'block' : 'none';\n",
              "\n",
              "        async function convertToInteractive(key) {\n",
              "          const element = document.querySelector('#df-a5ac2890-08d9-4768-abd9-93ed71e19e5d');\n",
              "          const dataTable =\n",
              "            await google.colab.kernel.invokeFunction('convertToInteractive',\n",
              "                                                     [key], {});\n",
              "          if (!dataTable) return;\n",
              "\n",
              "          const docLinkHtml = 'Like what you see? Visit the ' +\n",
              "            '<a target=\"_blank\" href=https://colab.research.google.com/notebooks/data_table.ipynb>data table notebook</a>'\n",
              "            + ' to learn more about interactive tables.';\n",
              "          element.innerHTML = '';\n",
              "          dataTable['output_type'] = 'display_data';\n",
              "          await google.colab.output.renderOutput(dataTable, element);\n",
              "          const docLink = document.createElement('div');\n",
              "          docLink.innerHTML = docLinkHtml;\n",
              "          element.appendChild(docLink);\n",
              "        }\n",
              "      </script>\n",
              "    </div>\n",
              "  </div>\n",
              "  "
            ]
          },
          "metadata": {},
          "execution_count": 3
        }
      ]
    },
    {
      "cell_type": "code",
      "source": [
        "df.index = pd.to_datetime(df['date'], format='%d/%m/%Y %H:%M')\n",
        "df[:26]"
      ],
      "metadata": {
        "colab": {
          "base_uri": "https://localhost:8080/",
          "height": 896
        },
        "id": "HKyPpTZ1sHPh",
        "outputId": "318eff55-8686-4405-a222-d252ea36e54d"
      },
      "execution_count": 4,
      "outputs": [
        {
          "output_type": "execute_result",
          "data": {
            "text/plain": [
              "                                 date  occupied\n",
              "date                                           \n",
              "2022-05-11 00:00:00   11/05/2022 0:00      0.79\n",
              "2022-05-11 01:00:00   11/05/2022 1:00      0.79\n",
              "2022-05-11 02:00:00   11/05/2022 2:00      0.80\n",
              "2022-05-11 03:00:00   11/05/2022 3:00      0.80\n",
              "2022-05-11 04:00:00   11/05/2022 4:00      0.80\n",
              "2022-05-11 05:00:00   11/05/2022 5:00      0.80\n",
              "2022-05-11 06:00:00   11/05/2022 6:00      0.81\n",
              "2022-05-11 07:00:00   11/05/2022 7:00      0.81\n",
              "2022-05-11 08:00:00   11/05/2022 8:00      0.81\n",
              "2022-05-11 09:00:00   11/05/2022 9:00      0.81\n",
              "2022-05-11 10:00:00  11/05/2022 10:00      0.81\n",
              "2022-05-11 11:00:00  11/05/2022 11:00      0.80\n",
              "2022-05-11 12:00:00  11/05/2022 12:00      0.79\n",
              "2022-05-11 13:00:00  11/05/2022 13:00      0.79\n",
              "2022-05-11 14:00:00  11/05/2022 14:00      0.78\n",
              "2022-05-11 15:00:00  11/05/2022 15:00      0.77\n",
              "2022-05-11 16:00:00  11/05/2022 16:00      0.77\n",
              "2022-05-11 17:00:00  11/05/2022 17:00      0.77\n",
              "2022-05-11 18:00:00  11/05/2022 18:00      0.77\n",
              "2022-05-11 19:00:00  11/05/2022 19:00      0.77\n",
              "2022-05-11 20:00:00  11/05/2022 20:00      0.78\n",
              "2022-05-11 21:00:00  11/05/2022 21:00      0.78\n",
              "2022-05-11 22:00:00  11/05/2022 22:00      0.79\n",
              "2022-05-11 23:00:00  11/05/2022 23:00      0.79\n",
              "2022-05-12 00:00:00   12/05/2022 0:00      0.79\n",
              "2022-05-12 01:00:00   12/05/2022 1:00      0.80"
            ],
            "text/html": [
              "\n",
              "  <div id=\"df-e42c085c-7ff4-46e4-8ae6-a1a2ec117b75\">\n",
              "    <div class=\"colab-df-container\">\n",
              "      <div>\n",
              "<style scoped>\n",
              "    .dataframe tbody tr th:only-of-type {\n",
              "        vertical-align: middle;\n",
              "    }\n",
              "\n",
              "    .dataframe tbody tr th {\n",
              "        vertical-align: top;\n",
              "    }\n",
              "\n",
              "    .dataframe thead th {\n",
              "        text-align: right;\n",
              "    }\n",
              "</style>\n",
              "<table border=\"1\" class=\"dataframe\">\n",
              "  <thead>\n",
              "    <tr style=\"text-align: right;\">\n",
              "      <th></th>\n",
              "      <th>date</th>\n",
              "      <th>occupied</th>\n",
              "    </tr>\n",
              "    <tr>\n",
              "      <th>date</th>\n",
              "      <th></th>\n",
              "      <th></th>\n",
              "    </tr>\n",
              "  </thead>\n",
              "  <tbody>\n",
              "    <tr>\n",
              "      <th>2022-05-11 00:00:00</th>\n",
              "      <td>11/05/2022 0:00</td>\n",
              "      <td>0.79</td>\n",
              "    </tr>\n",
              "    <tr>\n",
              "      <th>2022-05-11 01:00:00</th>\n",
              "      <td>11/05/2022 1:00</td>\n",
              "      <td>0.79</td>\n",
              "    </tr>\n",
              "    <tr>\n",
              "      <th>2022-05-11 02:00:00</th>\n",
              "      <td>11/05/2022 2:00</td>\n",
              "      <td>0.80</td>\n",
              "    </tr>\n",
              "    <tr>\n",
              "      <th>2022-05-11 03:00:00</th>\n",
              "      <td>11/05/2022 3:00</td>\n",
              "      <td>0.80</td>\n",
              "    </tr>\n",
              "    <tr>\n",
              "      <th>2022-05-11 04:00:00</th>\n",
              "      <td>11/05/2022 4:00</td>\n",
              "      <td>0.80</td>\n",
              "    </tr>\n",
              "    <tr>\n",
              "      <th>2022-05-11 05:00:00</th>\n",
              "      <td>11/05/2022 5:00</td>\n",
              "      <td>0.80</td>\n",
              "    </tr>\n",
              "    <tr>\n",
              "      <th>2022-05-11 06:00:00</th>\n",
              "      <td>11/05/2022 6:00</td>\n",
              "      <td>0.81</td>\n",
              "    </tr>\n",
              "    <tr>\n",
              "      <th>2022-05-11 07:00:00</th>\n",
              "      <td>11/05/2022 7:00</td>\n",
              "      <td>0.81</td>\n",
              "    </tr>\n",
              "    <tr>\n",
              "      <th>2022-05-11 08:00:00</th>\n",
              "      <td>11/05/2022 8:00</td>\n",
              "      <td>0.81</td>\n",
              "    </tr>\n",
              "    <tr>\n",
              "      <th>2022-05-11 09:00:00</th>\n",
              "      <td>11/05/2022 9:00</td>\n",
              "      <td>0.81</td>\n",
              "    </tr>\n",
              "    <tr>\n",
              "      <th>2022-05-11 10:00:00</th>\n",
              "      <td>11/05/2022 10:00</td>\n",
              "      <td>0.81</td>\n",
              "    </tr>\n",
              "    <tr>\n",
              "      <th>2022-05-11 11:00:00</th>\n",
              "      <td>11/05/2022 11:00</td>\n",
              "      <td>0.80</td>\n",
              "    </tr>\n",
              "    <tr>\n",
              "      <th>2022-05-11 12:00:00</th>\n",
              "      <td>11/05/2022 12:00</td>\n",
              "      <td>0.79</td>\n",
              "    </tr>\n",
              "    <tr>\n",
              "      <th>2022-05-11 13:00:00</th>\n",
              "      <td>11/05/2022 13:00</td>\n",
              "      <td>0.79</td>\n",
              "    </tr>\n",
              "    <tr>\n",
              "      <th>2022-05-11 14:00:00</th>\n",
              "      <td>11/05/2022 14:00</td>\n",
              "      <td>0.78</td>\n",
              "    </tr>\n",
              "    <tr>\n",
              "      <th>2022-05-11 15:00:00</th>\n",
              "      <td>11/05/2022 15:00</td>\n",
              "      <td>0.77</td>\n",
              "    </tr>\n",
              "    <tr>\n",
              "      <th>2022-05-11 16:00:00</th>\n",
              "      <td>11/05/2022 16:00</td>\n",
              "      <td>0.77</td>\n",
              "    </tr>\n",
              "    <tr>\n",
              "      <th>2022-05-11 17:00:00</th>\n",
              "      <td>11/05/2022 17:00</td>\n",
              "      <td>0.77</td>\n",
              "    </tr>\n",
              "    <tr>\n",
              "      <th>2022-05-11 18:00:00</th>\n",
              "      <td>11/05/2022 18:00</td>\n",
              "      <td>0.77</td>\n",
              "    </tr>\n",
              "    <tr>\n",
              "      <th>2022-05-11 19:00:00</th>\n",
              "      <td>11/05/2022 19:00</td>\n",
              "      <td>0.77</td>\n",
              "    </tr>\n",
              "    <tr>\n",
              "      <th>2022-05-11 20:00:00</th>\n",
              "      <td>11/05/2022 20:00</td>\n",
              "      <td>0.78</td>\n",
              "    </tr>\n",
              "    <tr>\n",
              "      <th>2022-05-11 21:00:00</th>\n",
              "      <td>11/05/2022 21:00</td>\n",
              "      <td>0.78</td>\n",
              "    </tr>\n",
              "    <tr>\n",
              "      <th>2022-05-11 22:00:00</th>\n",
              "      <td>11/05/2022 22:00</td>\n",
              "      <td>0.79</td>\n",
              "    </tr>\n",
              "    <tr>\n",
              "      <th>2022-05-11 23:00:00</th>\n",
              "      <td>11/05/2022 23:00</td>\n",
              "      <td>0.79</td>\n",
              "    </tr>\n",
              "    <tr>\n",
              "      <th>2022-05-12 00:00:00</th>\n",
              "      <td>12/05/2022 0:00</td>\n",
              "      <td>0.79</td>\n",
              "    </tr>\n",
              "    <tr>\n",
              "      <th>2022-05-12 01:00:00</th>\n",
              "      <td>12/05/2022 1:00</td>\n",
              "      <td>0.80</td>\n",
              "    </tr>\n",
              "  </tbody>\n",
              "</table>\n",
              "</div>\n",
              "      <button class=\"colab-df-convert\" onclick=\"convertToInteractive('df-e42c085c-7ff4-46e4-8ae6-a1a2ec117b75')\"\n",
              "              title=\"Convert this dataframe to an interactive table.\"\n",
              "              style=\"display:none;\">\n",
              "        \n",
              "  <svg xmlns=\"http://www.w3.org/2000/svg\" height=\"24px\"viewBox=\"0 0 24 24\"\n",
              "       width=\"24px\">\n",
              "    <path d=\"M0 0h24v24H0V0z\" fill=\"none\"/>\n",
              "    <path d=\"M18.56 5.44l.94 2.06.94-2.06 2.06-.94-2.06-.94-.94-2.06-.94 2.06-2.06.94zm-11 1L8.5 8.5l.94-2.06 2.06-.94-2.06-.94L8.5 2.5l-.94 2.06-2.06.94zm10 10l.94 2.06.94-2.06 2.06-.94-2.06-.94-.94-2.06-.94 2.06-2.06.94z\"/><path d=\"M17.41 7.96l-1.37-1.37c-.4-.4-.92-.59-1.43-.59-.52 0-1.04.2-1.43.59L10.3 9.45l-7.72 7.72c-.78.78-.78 2.05 0 2.83L4 21.41c.39.39.9.59 1.41.59.51 0 1.02-.2 1.41-.59l7.78-7.78 2.81-2.81c.8-.78.8-2.07 0-2.86zM5.41 20L4 18.59l7.72-7.72 1.47 1.35L5.41 20z\"/>\n",
              "  </svg>\n",
              "      </button>\n",
              "      \n",
              "  <style>\n",
              "    .colab-df-container {\n",
              "      display:flex;\n",
              "      flex-wrap:wrap;\n",
              "      gap: 12px;\n",
              "    }\n",
              "\n",
              "    .colab-df-convert {\n",
              "      background-color: #E8F0FE;\n",
              "      border: none;\n",
              "      border-radius: 50%;\n",
              "      cursor: pointer;\n",
              "      display: none;\n",
              "      fill: #1967D2;\n",
              "      height: 32px;\n",
              "      padding: 0 0 0 0;\n",
              "      width: 32px;\n",
              "    }\n",
              "\n",
              "    .colab-df-convert:hover {\n",
              "      background-color: #E2EBFA;\n",
              "      box-shadow: 0px 1px 2px rgba(60, 64, 67, 0.3), 0px 1px 3px 1px rgba(60, 64, 67, 0.15);\n",
              "      fill: #174EA6;\n",
              "    }\n",
              "\n",
              "    [theme=dark] .colab-df-convert {\n",
              "      background-color: #3B4455;\n",
              "      fill: #D2E3FC;\n",
              "    }\n",
              "\n",
              "    [theme=dark] .colab-df-convert:hover {\n",
              "      background-color: #434B5C;\n",
              "      box-shadow: 0px 1px 3px 1px rgba(0, 0, 0, 0.15);\n",
              "      filter: drop-shadow(0px 1px 2px rgba(0, 0, 0, 0.3));\n",
              "      fill: #FFFFFF;\n",
              "    }\n",
              "  </style>\n",
              "\n",
              "      <script>\n",
              "        const buttonEl =\n",
              "          document.querySelector('#df-e42c085c-7ff4-46e4-8ae6-a1a2ec117b75 button.colab-df-convert');\n",
              "        buttonEl.style.display =\n",
              "          google.colab.kernel.accessAllowed ? 'block' : 'none';\n",
              "\n",
              "        async function convertToInteractive(key) {\n",
              "          const element = document.querySelector('#df-e42c085c-7ff4-46e4-8ae6-a1a2ec117b75');\n",
              "          const dataTable =\n",
              "            await google.colab.kernel.invokeFunction('convertToInteractive',\n",
              "                                                     [key], {});\n",
              "          if (!dataTable) return;\n",
              "\n",
              "          const docLinkHtml = 'Like what you see? Visit the ' +\n",
              "            '<a target=\"_blank\" href=https://colab.research.google.com/notebooks/data_table.ipynb>data table notebook</a>'\n",
              "            + ' to learn more about interactive tables.';\n",
              "          element.innerHTML = '';\n",
              "          dataTable['output_type'] = 'display_data';\n",
              "          await google.colab.output.renderOutput(dataTable, element);\n",
              "          const docLink = document.createElement('div');\n",
              "          docLink.innerHTML = docLinkHtml;\n",
              "          element.appendChild(docLink);\n",
              "        }\n",
              "      </script>\n",
              "    </div>\n",
              "  </div>\n",
              "  "
            ]
          },
          "metadata": {},
          "execution_count": 4
        }
      ]
    },
    {
      "cell_type": "code",
      "source": [
        "bed = df['occupied']\n",
        "bed.plot()"
      ],
      "metadata": {
        "colab": {
          "base_uri": "https://localhost:8080/",
          "height": 331
        },
        "id": "iecOGrdHsSPR",
        "outputId": "db940409-0f47-451e-ea0d-f4dcc12fd85a"
      },
      "execution_count": 5,
      "outputs": [
        {
          "output_type": "execute_result",
          "data": {
            "text/plain": [
              "<matplotlib.axes._subplots.AxesSubplot at 0x7f8cc18e9b90>"
            ]
          },
          "metadata": {},
          "execution_count": 5
        },
        {
          "output_type": "display_data",
          "data": {
            "text/plain": [
              "<Figure size 432x288 with 1 Axes>"
            ],
            "image/png": "[encoded data removed]"
          },
          "metadata": {
            "needs_background": "light"
          }
        }
      ]
    },
    {
      "cell_type": "code",
      "source": [
        "def df_to_X_y(df, window_size=30):\n",
        "  df_as_np = df.to_numpy()\n",
        "  X = []\n",
        "  y = []\n",
        "  for i in range(len(df_as_np)-window_size):\n",
        "    row = [[a] for a in df_as_np[i:i+window_size]]\n",
        "    X.append(row)\n",
        "    label = df_as_np[i+window_size]\n",
        "    y.append(label)\n",
        "  return np.array(X), np.array(y)"
      ],
      "metadata": {
        "id": "0652ZbqNsUiA"
      },
      "execution_count": 6,
      "outputs": []
    },
    {
      "cell_type": "code",
      "source": [
        "WINDOW_SIZE = 5\n",
        "X1, y1 = df_to_X_y(bed, WINDOW_SIZE)\n",
        "X1.shape, y1.shape"
      ],
      "metadata": {
        "colab": {
          "base_uri": "https://localhost:8080/"
        },
        "id": "75t1B-_WsX8I",
        "outputId": "9cb4c60f-7d98-4d50-a88f-0a26bfeedfb6"
      },
      "execution_count": 7,
      "outputs": [
        {
          "output_type": "execute_result",
          "data": {
            "text/plain": [
              "((1995, 5, 1), (1995,))"
            ]
          },
          "metadata": {},
          "execution_count": 7
        }
      ]
    },
    {
      "cell_type": "code",
      "source": [
        "X_train1, y_train1 = X1[:1500], y1[:1500]\n",
        "X_val1, y_val1 = X1[1500:1750], y1[1500:1750]\n",
        "X_test1, y_test1 = X1[1750:], y1[1750:]\n",
        "X_train1.shape, y_train1.shape, X_val1.shape, y_val1.shape, X_test1.shape, y_test1.shape"
      ],
      "metadata": {
        "colab": {
          "base_uri": "https://localhost:8080/"
        },
        "id": "MqYUQF_4saCw",
        "outputId": "c597e825-adc4-4310-844f-605a4ffe0004"
      },
      "execution_count": 8,
      "outputs": [
        {
          "output_type": "execute_result",
          "data": {
            "text/plain": [
              "((1500, 5, 1), (1500,), (250, 5, 1), (250,), (245, 5, 1), (245,))"
            ]
          },
          "metadata": {},
          "execution_count": 8
        }
      ]
    },
    {
      "cell_type": "code",
      "source": [
        "from tensorflow.keras.models import Sequential\n",
        "from tensorflow.keras.layers import *\n",
        "from tensorflow.keras.callbacks import ModelCheckpoint\n",
        "from tensorflow.keras.losses import MeanSquaredError\n",
        "from tensorflow.keras.metrics import RootMeanSquaredError\n",
        "from tensorflow.keras.optimizers import Adam\n",
        "\n",
        "model1 = Sequential()\n",
        "model1.add(InputLayer((5, 1)))\n",
        "model1.add(LSTM(64))\n",
        "model1.add(Dense(8, 'relu'))\n",
        "model1.add(Dense(1, 'linear'))\n",
        "\n",
        "model1.summary()"
      ],
      "metadata": {
        "colab": {
          "base_uri": "https://localhost:8080/"
        },
        "id": "zK4ClNLzsdEv",
        "outputId": "5b1ff365-9e7a-43fa-8ab3-2292434c15ee"
      },
      "execution_count": 9,
      "outputs": [
        {
          "output_type": "stream",
          "name": "stdout",
          "text": [
            "Model: \"sequential\"\n",
            "_________________________________________________________________\n",
            " Layer (type)                Output Shape              Param #   \n",
            "=================================================================\n",
            " lstm (LSTM)                 (None, 64)                16896     \n",
            "                                                                 \n",
            " dense (Dense)               (None, 8)                 520       \n",
            "                                                                 \n",
            " dense_1 (Dense)             (None, 1)                 9         \n",
            "                                                                 \n",
            "=================================================================\n",
            "Total params: 17,425\n",
            "Trainable params: 17,425\n",
            "Non-trainable params: 0\n",
            "_________________________________________________________________\n"
          ]
        }
      ]
    },
    {
      "cell_type": "code",
      "source": [
        "cp1 = ModelCheckpoint('model1/', save_best_only=True)\n",
        "model1.compile(loss=MeanSquaredError(), optimizer=Adam(learning_rate=0.001), metrics=[RootMeanSquaredError()])"
      ],
      "metadata": {
        "id": "932eDNgJsggY"
      },
      "execution_count": 36,
      "outputs": []
    },
    {
      "cell_type": "code",
      "source": [
        "model1.fit(X_train1, y_train1, validation_data=(X_val1, y_val1), epochs=100, callbacks=[cp1])"
      ],
      "metadata": {
        "colab": {
          "base_uri": "https://localhost:8080/"
        },
        "id": "3mf6SjN-skdA",
        "outputId": "818c915c-fcdb-4de5-fb3d-3259c724ee65"
      },
      "execution_count": 47,
      "outputs": [
        {
          "output_type": "stream",
          "name": "stdout",
          "text": [
            "Epoch 1/100\n",
            "47/47 [==============================] - 3s 16ms/step - loss: 2.3114e-04 - root_mean_squared_error: 0.0152 - val_loss: 3.8738e-05 - val_root_mean_squared_error: 0.0062\n",
            "Epoch 2/100\n",
            "47/47 [==============================] - 0s 5ms/step - loss: 4.0031e-05 - root_mean_squared_error: 0.0063 - val_loss: 4.7167e-05 - val_root_mean_squared_error: 0.0069\n",
            "Epoch 3/100\n",
            "47/47 [==============================] - 0s 6ms/step - loss: 3.9125e-05 - root_mean_squared_error: 0.0063 - val_loss: 3.8304e-05 - val_root_mean_squared_error: 0.0062\n",
            "Epoch 4/100\n",
            "47/47 [==============================] - 0s 6ms/step - loss: 3.6360e-05 - root_mean_squared_error: 0.0060 - val_loss: 4.2732e-05 - val_root_mean_squared_error: 0.0065\n",
            "Epoch 5/100\n",
            "47/47 [==============================] - 0s 6ms/step - loss: 3.9124e-05 - root_mean_squared_error: 0.0063 - val_loss: 3.9271e-05 - val_root_mean_squared_error: 0.0063\n",
            "Epoch 6/100\n",
            "47/47 [==============================] - 0s 6ms/step - loss: 3.5279e-05 - root_mean_squared_error: 0.0059 - val_loss: 4.0009e-05 - val_root_mean_squared_error: 0.0063\n",
            "Epoch 7/100\n",
            "47/47 [==============================] - 0s 6ms/step - loss: 4.2600e-05 - root_mean_squared_error: 0.0065 - val_loss: 4.1078e-05 - val_root_mean_squared_error: 0.0064\n",
            "Epoch 8/100\n",
            "47/47 [==============================] - 0s 6ms/step - loss: 4.0105e-05 - root_mean_squared_error: 0.0063 - val_loss: 4.9793e-05 - val_root_mean_squared_error: 0.0071\n",
            "Epoch 9/100\n",
            "47/47 [==============================] - 0s 6ms/step - loss: 4.9214e-05 - root_mean_squared_error: 0.0070 - val_loss: 5.6211e-05 - val_root_mean_squared_error: 0.0075\n",
            "Epoch 10/100\n",
            "47/47 [==============================] - 0s 6ms/step - loss: 4.6115e-05 - root_mean_squared_error: 0.0068 - val_loss: 4.5264e-05 - val_root_mean_squared_error: 0.0067\n",
            "Epoch 11/100\n",
            "47/47 [==============================] - 0s 6ms/step - loss: 3.5471e-05 - root_mean_squared_error: 0.0060 - val_loss: 4.0727e-05 - val_root_mean_squared_error: 0.0064\n",
            "Epoch 12/100\n",
            "47/47 [==============================] - 0s 5ms/step - loss: 3.5478e-05 - root_mean_squared_error: 0.0060 - val_loss: 3.6951e-05 - val_root_mean_squared_error: 0.0061\n",
            "Epoch 13/100\n",
            "47/47 [==============================] - 0s 6ms/step - loss: 4.0214e-05 - root_mean_squared_error: 0.0063 - val_loss: 6.4762e-05 - val_root_mean_squared_error: 0.0080\n",
            "Epoch 14/100\n",
            "47/47 [==============================] - 0s 6ms/step - loss: 4.1883e-05 - root_mean_squared_error: 0.0065 - val_loss: 3.8260e-05 - val_root_mean_squared_error: 0.0062\n",
            "Epoch 15/100\n",
            "47/47 [==============================] - 0s 6ms/step - loss: 5.5665e-05 - root_mean_squared_error: 0.0075 - val_loss: 6.6966e-05 - val_root_mean_squared_error: 0.0082\n",
            "Epoch 16/100\n",
            "47/47 [==============================] - 0s 6ms/step - loss: 4.4094e-05 - root_mean_squared_error: 0.0066 - val_loss: 4.6220e-05 - val_root_mean_squared_error: 0.0068\n",
            "Epoch 17/100\n",
            "47/47 [==============================] - 0s 7ms/step - loss: 4.5894e-05 - root_mean_squared_error: 0.0068 - val_loss: 3.7971e-05 - val_root_mean_squared_error: 0.0062\n",
            "Epoch 18/100\n",
            "47/47 [==============================] - 0s 6ms/step - loss: 3.7350e-05 - root_mean_squared_error: 0.0061 - val_loss: 3.8917e-05 - val_root_mean_squared_error: 0.0062\n",
            "Epoch 19/100\n",
            "47/47 [==============================] - 0s 6ms/step - loss: 4.4178e-05 - root_mean_squared_error: 0.0066 - val_loss: 4.2473e-05 - val_root_mean_squared_error: 0.0065\n",
            "Epoch 20/100\n",
            "40/47 [========================>.....] - ETA: 0s - loss: 4.1723e-05 - root_mean_squared_error: 0.0065"
          ]
        },
        {
          "output_type": "stream",
          "name": "stderr",
          "text": [
            "WARNING:absl:Found untraced functions such as lstm_cell_3_layer_call_fn, lstm_cell_3_layer_call_and_return_conditional_losses while saving (showing 2 of 2). These functions will not be directly callable after loading.\n",
            "WARNING:absl:<keras.layers.recurrent.LSTMCell object at 0x7f8caffd3850> has the same name 'LSTMCell' as a built-in Keras object. Consider renaming <class 'keras.layers.recurrent.LSTMCell'> to avoid naming conflicts when loading with `tf.keras.models.load_model`. If renaming is not possible, pass the object in the `custom_objects` parameter of the load function.\n"
          ]
        },
        {
          "output_type": "stream",
          "name": "stdout",
          "text": [
            "\b\b\b\b\b\b\b\b\b\b\b\b\b\b\b\b\b\b\b\b\b\b\b\b\b\b\b\b\b\b\b\b\b\b\b\b\b\b\b\b\b\b\b\b\b\b\b\b\b\b\b\b\b\b\b\b\b\b\b\b\b\b\b\b\b\b\b\b\b\b\b\b\b\b\b\b\b\b\b\b\b\b\b\b\b\b\b\b\b\b\b\b\b\b\b\b\b\b\b\b\b\r47/47 [==============================] - 5s 103ms/step - loss: 4.0389e-05 - root_mean_squared_error: 0.0064 - val_loss: 3.6243e-05 - val_root_mean_squared_error: 0.0060\n",
            "Epoch 21/100\n",
            "47/47 [==============================] - 0s 6ms/step - loss: 3.7358e-05 - root_mean_squared_error: 0.0061 - val_loss: 3.7438e-05 - val_root_mean_squared_error: 0.0061\n",
            "Epoch 22/100\n",
            "47/47 [==============================] - 0s 6ms/step - loss: 3.7955e-05 - root_mean_squared_error: 0.0062 - val_loss: 3.6889e-05 - val_root_mean_squared_error: 0.0061\n",
            "Epoch 23/100\n",
            "47/47 [==============================] - 0s 6ms/step - loss: 4.7643e-05 - root_mean_squared_error: 0.0069 - val_loss: 3.8205e-05 - val_root_mean_squared_error: 0.0062\n",
            "Epoch 24/100\n",
            "47/47 [==============================] - 0s 5ms/step - loss: 4.0353e-05 - root_mean_squared_error: 0.0064 - val_loss: 3.8944e-05 - val_root_mean_squared_error: 0.0062\n",
            "Epoch 25/100\n",
            "47/47 [==============================] - 0s 6ms/step - loss: 3.9867e-05 - root_mean_squared_error: 0.0063 - val_loss: 3.6663e-05 - val_root_mean_squared_error: 0.0061\n",
            "Epoch 26/100\n",
            "47/47 [==============================] - 0s 6ms/step - loss: 3.6116e-05 - root_mean_squared_error: 0.0060 - val_loss: 8.3304e-05 - val_root_mean_squared_error: 0.0091\n",
            "Epoch 27/100\n",
            "47/47 [==============================] - 0s 6ms/step - loss: 4.0642e-05 - root_mean_squared_error: 0.0064 - val_loss: 5.3706e-05 - val_root_mean_squared_error: 0.0073\n",
            "Epoch 28/100\n",
            "47/47 [==============================] - 0s 6ms/step - loss: 3.9437e-05 - root_mean_squared_error: 0.0063 - val_loss: 4.0770e-05 - val_root_mean_squared_error: 0.0064\n",
            "Epoch 29/100\n",
            "47/47 [==============================] - 0s 6ms/step - loss: 5.3451e-05 - root_mean_squared_error: 0.0073 - val_loss: 3.7606e-05 - val_root_mean_squared_error: 0.0061\n",
            "Epoch 30/100\n",
            "47/47 [==============================] - 0s 6ms/step - loss: 3.9496e-05 - root_mean_squared_error: 0.0063 - val_loss: 3.9117e-05 - val_root_mean_squared_error: 0.0063\n",
            "Epoch 31/100\n",
            "47/47 [==============================] - 0s 6ms/step - loss: 4.1184e-05 - root_mean_squared_error: 0.0064 - val_loss: 4.6878e-05 - val_root_mean_squared_error: 0.0068\n",
            "Epoch 32/100\n",
            "44/47 [===========================>..] - ETA: 0s - loss: 4.1561e-05 - root_mean_squared_error: 0.0064"
          ]
        },
        {
          "output_type": "stream",
          "name": "stderr",
          "text": [
            "WARNING:absl:Found untraced functions such as lstm_cell_3_layer_call_fn, lstm_cell_3_layer_call_and_return_conditional_losses while saving (showing 2 of 2). These functions will not be directly callable after loading.\n",
            "WARNING:absl:<keras.layers.recurrent.LSTMCell object at 0x7f8caffd3850> has the same name 'LSTMCell' as a built-in Keras object. Consider renaming <class 'keras.layers.recurrent.LSTMCell'> to avoid naming conflicts when loading with `tf.keras.models.load_model`. If renaming is not possible, pass the object in the `custom_objects` parameter of the load function.\n"
          ]
        },
        {
          "output_type": "stream",
          "name": "stdout",
          "text": [
            "\b\b\b\b\b\b\b\b\b\b\b\b\b\b\b\b\b\b\b\b\b\b\b\b\b\b\b\b\b\b\b\b\b\b\b\b\b\b\b\b\b\b\b\b\b\b\b\b\b\b\b\b\b\b\b\b\b\b\b\b\b\b\b\b\b\b\b\b\b\b\b\b\b\b\b\b\b\b\b\b\b\b\b\b\b\b\b\b\b\b\b\b\b\b\b\b\b\b\b\b\b\r47/47 [==============================] - 4s 93ms/step - loss: 4.0916e-05 - root_mean_squared_error: 0.0064 - val_loss: 3.5767e-05 - val_root_mean_squared_error: 0.0060\n",
            "Epoch 33/100\n",
            "47/47 [==============================] - 0s 5ms/step - loss: 3.7445e-05 - root_mean_squared_error: 0.0061 - val_loss: 3.6361e-05 - val_root_mean_squared_error: 0.0060\n",
            "Epoch 34/100\n",
            "47/47 [==============================] - 0s 6ms/step - loss: 3.7488e-05 - root_mean_squared_error: 0.0061 - val_loss: 4.2229e-05 - val_root_mean_squared_error: 0.0065\n",
            "Epoch 35/100\n",
            "47/47 [==============================] - 0s 6ms/step - loss: 4.4106e-05 - root_mean_squared_error: 0.0066 - val_loss: 4.4336e-05 - val_root_mean_squared_error: 0.0067\n",
            "Epoch 36/100\n",
            "47/47 [==============================] - 0s 6ms/step - loss: 3.9894e-05 - root_mean_squared_error: 0.0063 - val_loss: 3.8357e-05 - val_root_mean_squared_error: 0.0062\n",
            "Epoch 37/100\n",
            "47/47 [==============================] - 0s 6ms/step - loss: 4.1049e-05 - root_mean_squared_error: 0.0064 - val_loss: 5.9964e-05 - val_root_mean_squared_error: 0.0077\n",
            "Epoch 38/100\n",
            "39/47 [=======================>......] - ETA: 0s - loss: 3.8970e-05 - root_mean_squared_error: 0.0062"
          ]
        },
        {
          "output_type": "stream",
          "name": "stderr",
          "text": [
            "WARNING:absl:Found untraced functions such as lstm_cell_3_layer_call_fn, lstm_cell_3_layer_call_and_return_conditional_losses while saving (showing 2 of 2). These functions will not be directly callable after loading.\n",
            "WARNING:absl:<keras.layers.recurrent.LSTMCell object at 0x7f8caffd3850> has the same name 'LSTMCell' as a built-in Keras object. Consider renaming <class 'keras.layers.recurrent.LSTMCell'> to avoid naming conflicts when loading with `tf.keras.models.load_model`. If renaming is not possible, pass the object in the `custom_objects` parameter of the load function.\n"
          ]
        },
        {
          "output_type": "stream",
          "name": "stdout",
          "text": [
            "\b\b\b\b\b\b\b\b\b\b\b\b\b\b\b\b\b\b\b\b\b\b\b\b\b\b\b\b\b\b\b\b\b\b\b\b\b\b\b\b\b\b\b\b\b\b\b\b\b\b\b\b\b\b\b\b\b\b\b\b\b\b\b\b\b\b\b\b\b\b\b\b\b\b\b\b\b\b\b\b\b\b\b\b\b\b\b\b\b\b\b\b\b\b\b\b\b\b\b\b\b\r47/47 [==============================] - 5s 105ms/step - loss: 3.9003e-05 - root_mean_squared_error: 0.0062 - val_loss: 3.5568e-05 - val_root_mean_squared_error: 0.0060\n",
            "Epoch 39/100\n",
            "47/47 [==============================] - 0s 6ms/step - loss: 4.5455e-05 - root_mean_squared_error: 0.0067 - val_loss: 7.3242e-05 - val_root_mean_squared_error: 0.0086\n",
            "Epoch 40/100\n",
            "47/47 [==============================] - 0s 6ms/step - loss: 5.0272e-05 - root_mean_squared_error: 0.0071 - val_loss: 3.6956e-05 - val_root_mean_squared_error: 0.0061\n",
            "Epoch 41/100\n",
            "47/47 [==============================] - 0s 6ms/step - loss: 3.7749e-05 - root_mean_squared_error: 0.0061 - val_loss: 4.3832e-05 - val_root_mean_squared_error: 0.0066\n",
            "Epoch 42/100\n",
            "47/47 [==============================] - 0s 6ms/step - loss: 3.8705e-05 - root_mean_squared_error: 0.0062 - val_loss: 3.6880e-05 - val_root_mean_squared_error: 0.0061\n",
            "Epoch 43/100\n",
            "47/47 [==============================] - 0s 6ms/step - loss: 3.7997e-05 - root_mean_squared_error: 0.0062 - val_loss: 3.6252e-05 - val_root_mean_squared_error: 0.0060\n",
            "Epoch 44/100\n",
            "47/47 [==============================] - 0s 6ms/step - loss: 4.4688e-05 - root_mean_squared_error: 0.0067 - val_loss: 6.1931e-05 - val_root_mean_squared_error: 0.0079\n",
            "Epoch 45/100\n",
            "47/47 [==============================] - 0s 6ms/step - loss: 5.1213e-05 - root_mean_squared_error: 0.0072 - val_loss: 4.0213e-05 - val_root_mean_squared_error: 0.0063\n",
            "Epoch 46/100\n",
            "47/47 [==============================] - 0s 6ms/step - loss: 3.8160e-05 - root_mean_squared_error: 0.0062 - val_loss: 3.8318e-05 - val_root_mean_squared_error: 0.0062\n",
            "Epoch 47/100\n",
            "47/47 [==============================] - 0s 7ms/step - loss: 4.0994e-05 - root_mean_squared_error: 0.0064 - val_loss: 4.1520e-05 - val_root_mean_squared_error: 0.0064\n",
            "Epoch 48/100\n",
            "47/47 [==============================] - 0s 6ms/step - loss: 3.5913e-05 - root_mean_squared_error: 0.0060 - val_loss: 3.9858e-05 - val_root_mean_squared_error: 0.0063\n",
            "Epoch 49/100\n",
            "47/47 [==============================] - 0s 6ms/step - loss: 4.2265e-05 - root_mean_squared_error: 0.0065 - val_loss: 3.6599e-05 - val_root_mean_squared_error: 0.0060\n",
            "Epoch 50/100\n",
            "47/47 [==============================] - 0s 6ms/step - loss: 3.5242e-05 - root_mean_squared_error: 0.0059 - val_loss: 4.7486e-05 - val_root_mean_squared_error: 0.0069\n",
            "Epoch 51/100\n",
            "47/47 [==============================] - 0s 6ms/step - loss: 4.0479e-05 - root_mean_squared_error: 0.0064 - val_loss: 5.6878e-05 - val_root_mean_squared_error: 0.0075\n",
            "Epoch 52/100\n",
            "47/47 [==============================] - 0s 6ms/step - loss: 4.6631e-05 - root_mean_squared_error: 0.0068 - val_loss: 4.9103e-05 - val_root_mean_squared_error: 0.0070\n",
            "Epoch 53/100\n",
            "47/47 [==============================] - 0s 7ms/step - loss: 3.8635e-05 - root_mean_squared_error: 0.0062 - val_loss: 4.0472e-05 - val_root_mean_squared_error: 0.0064\n",
            "Epoch 54/100\n",
            "47/47 [==============================] - 0s 6ms/step - loss: 4.0445e-05 - root_mean_squared_error: 0.0064 - val_loss: 5.4771e-05 - val_root_mean_squared_error: 0.0074\n",
            "Epoch 55/100\n",
            "47/47 [==============================] - 0s 6ms/step - loss: 4.7239e-05 - root_mean_squared_error: 0.0069 - val_loss: 4.0156e-05 - val_root_mean_squared_error: 0.0063\n",
            "Epoch 56/100\n",
            "47/47 [==============================] - 0s 6ms/step - loss: 3.6324e-05 - root_mean_squared_error: 0.0060 - val_loss: 4.8856e-05 - val_root_mean_squared_error: 0.0070\n",
            "Epoch 57/100\n",
            "43/47 [==========================>...] - ETA: 0s - loss: 4.0228e-05 - root_mean_squared_error: 0.0063"
          ]
        },
        {
          "output_type": "stream",
          "name": "stderr",
          "text": [
            "WARNING:absl:Found untraced functions such as lstm_cell_3_layer_call_fn, lstm_cell_3_layer_call_and_return_conditional_losses while saving (showing 2 of 2). These functions will not be directly callable after loading.\n",
            "WARNING:absl:<keras.layers.recurrent.LSTMCell object at 0x7f8caffd3850> has the same name 'LSTMCell' as a built-in Keras object. Consider renaming <class 'keras.layers.recurrent.LSTMCell'> to avoid naming conflicts when loading with `tf.keras.models.load_model`. If renaming is not possible, pass the object in the `custom_objects` parameter of the load function.\n"
          ]
        },
        {
          "output_type": "stream",
          "name": "stdout",
          "text": [
            "\b\b\b\b\b\b\b\b\b\b\b\b\b\b\b\b\b\b\b\b\b\b\b\b\b\b\b\b\b\b\b\b\b\b\b\b\b\b\b\b\b\b\b\b\b\b\b\b\b\b\b\b\b\b\b\b\b\b\b\b\b\b\b\b\b\b\b\b\b\b\b\b\b\b\b\b\b\b\b\b\b\b\b\b\b\b\b\b\b\b\b\b\b\b\b\b\b\b\b\b\b\r47/47 [==============================] - 4s 93ms/step - loss: 4.0084e-05 - root_mean_squared_error: 0.0063 - val_loss: 3.5109e-05 - val_root_mean_squared_error: 0.0059\n",
            "Epoch 58/100\n",
            "47/47 [==============================] - 0s 6ms/step - loss: 3.6398e-05 - root_mean_squared_error: 0.0060 - val_loss: 4.2986e-05 - val_root_mean_squared_error: 0.0066\n",
            "Epoch 59/100\n",
            "47/47 [==============================] - 0s 6ms/step - loss: 4.6013e-05 - root_mean_squared_error: 0.0068 - val_loss: 4.0704e-05 - val_root_mean_squared_error: 0.0064\n",
            "Epoch 60/100\n",
            "47/47 [==============================] - 0s 6ms/step - loss: 5.2868e-05 - root_mean_squared_error: 0.0073 - val_loss: 3.7366e-05 - val_root_mean_squared_error: 0.0061\n",
            "Epoch 61/100\n",
            "47/47 [==============================] - 0s 6ms/step - loss: 4.3172e-05 - root_mean_squared_error: 0.0066 - val_loss: 3.5592e-05 - val_root_mean_squared_error: 0.0060\n",
            "Epoch 62/100\n",
            "47/47 [==============================] - 0s 6ms/step - loss: 3.9832e-05 - root_mean_squared_error: 0.0063 - val_loss: 3.9974e-05 - val_root_mean_squared_error: 0.0063\n",
            "Epoch 63/100\n",
            "47/47 [==============================] - 0s 6ms/step - loss: 4.5578e-05 - root_mean_squared_error: 0.0068 - val_loss: 4.7783e-05 - val_root_mean_squared_error: 0.0069\n",
            "Epoch 64/100\n",
            "47/47 [==============================] - 0s 6ms/step - loss: 4.3251e-05 - root_mean_squared_error: 0.0066 - val_loss: 5.4834e-05 - val_root_mean_squared_error: 0.0074\n",
            "Epoch 65/100\n",
            "47/47 [==============================] - 0s 6ms/step - loss: 3.4267e-05 - root_mean_squared_error: 0.0059 - val_loss: 3.6569e-05 - val_root_mean_squared_error: 0.0060\n",
            "Epoch 66/100\n",
            "47/47 [==============================] - 0s 6ms/step - loss: 3.7252e-05 - root_mean_squared_error: 0.0061 - val_loss: 3.7036e-05 - val_root_mean_squared_error: 0.0061\n",
            "Epoch 67/100\n",
            "47/47 [==============================] - 0s 6ms/step - loss: 3.6153e-05 - root_mean_squared_error: 0.0060 - val_loss: 3.6701e-05 - val_root_mean_squared_error: 0.0061\n",
            "Epoch 68/100\n",
            "47/47 [==============================] - 0s 6ms/step - loss: 4.1680e-05 - root_mean_squared_error: 0.0065 - val_loss: 3.9189e-05 - val_root_mean_squared_error: 0.0063\n",
            "Epoch 69/100\n",
            "47/47 [==============================] - 0s 6ms/step - loss: 3.9706e-05 - root_mean_squared_error: 0.0063 - val_loss: 3.5406e-05 - val_root_mean_squared_error: 0.0060\n",
            "Epoch 70/100\n",
            "43/47 [==========================>...] - ETA: 0s - loss: 3.5651e-05 - root_mean_squared_error: 0.0060"
          ]
        },
        {
          "output_type": "stream",
          "name": "stderr",
          "text": [
            "WARNING:absl:Found untraced functions such as lstm_cell_3_layer_call_fn, lstm_cell_3_layer_call_and_return_conditional_losses while saving (showing 2 of 2). These functions will not be directly callable after loading.\n",
            "WARNING:absl:<keras.layers.recurrent.LSTMCell object at 0x7f8caffd3850> has the same name 'LSTMCell' as a built-in Keras object. Consider renaming <class 'keras.layers.recurrent.LSTMCell'> to avoid naming conflicts when loading with `tf.keras.models.load_model`. If renaming is not possible, pass the object in the `custom_objects` parameter of the load function.\n"
          ]
        },
        {
          "output_type": "stream",
          "name": "stdout",
          "text": [
            "\b\b\b\b\b\b\b\b\b\b\b\b\b\b\b\b\b\b\b\b\b\b\b\b\b\b\b\b\b\b\b\b\b\b\b\b\b\b\b\b\b\b\b\b\b\b\b\b\b\b\b\b\b\b\b\b\b\b\b\b\b\b\b\b\b\b\b\b\b\b\b\b\b\b\b\b\b\b\b\b\b\b\b\b\b\b\b\b\b\b\b\b\b\b\b\b\b\b\b\b\b\r47/47 [==============================] - 4s 93ms/step - loss: 3.5528e-05 - root_mean_squared_error: 0.0060 - val_loss: 3.4727e-05 - val_root_mean_squared_error: 0.0059\n",
            "Epoch 71/100\n",
            "47/47 [==============================] - 0s 6ms/step - loss: 3.7930e-05 - root_mean_squared_error: 0.0062 - val_loss: 4.8175e-05 - val_root_mean_squared_error: 0.0069\n",
            "Epoch 72/100\n",
            "47/47 [==============================] - 0s 6ms/step - loss: 4.3402e-05 - root_mean_squared_error: 0.0066 - val_loss: 5.1975e-05 - val_root_mean_squared_error: 0.0072\n",
            "Epoch 73/100\n",
            "47/47 [==============================] - 0s 6ms/step - loss: 4.0795e-05 - root_mean_squared_error: 0.0064 - val_loss: 4.0769e-05 - val_root_mean_squared_error: 0.0064\n",
            "Epoch 74/100\n",
            "47/47 [==============================] - 0s 6ms/step - loss: 3.9001e-05 - root_mean_squared_error: 0.0062 - val_loss: 3.5014e-05 - val_root_mean_squared_error: 0.0059\n",
            "Epoch 75/100\n",
            "47/47 [==============================] - 0s 6ms/step - loss: 3.7512e-05 - root_mean_squared_error: 0.0061 - val_loss: 3.7100e-05 - val_root_mean_squared_error: 0.0061\n",
            "Epoch 76/100\n",
            "47/47 [==============================] - 0s 6ms/step - loss: 3.8167e-05 - root_mean_squared_error: 0.0062 - val_loss: 3.5767e-05 - val_root_mean_squared_error: 0.0060\n",
            "Epoch 77/100\n",
            "47/47 [==============================] - 0s 6ms/step - loss: 3.5661e-05 - root_mean_squared_error: 0.0060 - val_loss: 3.7952e-05 - val_root_mean_squared_error: 0.0062\n",
            "Epoch 78/100\n",
            "47/47 [==============================] - 0s 6ms/step - loss: 3.8695e-05 - root_mean_squared_error: 0.0062 - val_loss: 4.0877e-05 - val_root_mean_squared_error: 0.0064\n",
            "Epoch 79/100\n",
            "47/47 [==============================] - 0s 6ms/step - loss: 3.7848e-05 - root_mean_squared_error: 0.0062 - val_loss: 6.3089e-05 - val_root_mean_squared_error: 0.0079\n",
            "Epoch 80/100\n",
            "47/47 [==============================] - 0s 6ms/step - loss: 3.5690e-05 - root_mean_squared_error: 0.0060 - val_loss: 3.5422e-05 - val_root_mean_squared_error: 0.0060\n",
            "Epoch 81/100\n",
            "47/47 [==============================] - 0s 6ms/step - loss: 3.3793e-05 - root_mean_squared_error: 0.0058 - val_loss: 3.5271e-05 - val_root_mean_squared_error: 0.0059\n",
            "Epoch 82/100\n",
            "42/47 [=========================>....] - ETA: 0s - loss: 4.1538e-05 - root_mean_squared_error: 0.0064"
          ]
        },
        {
          "output_type": "stream",
          "name": "stderr",
          "text": [
            "WARNING:absl:Found untraced functions such as lstm_cell_3_layer_call_fn, lstm_cell_3_layer_call_and_return_conditional_losses while saving (showing 2 of 2). These functions will not be directly callable after loading.\n",
            "WARNING:absl:<keras.layers.recurrent.LSTMCell object at 0x7f8caffd3850> has the same name 'LSTMCell' as a built-in Keras object. Consider renaming <class 'keras.layers.recurrent.LSTMCell'> to avoid naming conflicts when loading with `tf.keras.models.load_model`. If renaming is not possible, pass the object in the `custom_objects` parameter of the load function.\n"
          ]
        },
        {
          "output_type": "stream",
          "name": "stdout",
          "text": [
            "\b\b\b\b\b\b\b\b\b\b\b\b\b\b\b\b\b\b\b\b\b\b\b\b\b\b\b\b\b\b\b\b\b\b\b\b\b\b\b\b\b\b\b\b\b\b\b\b\b\b\b\b\b\b\b\b\b\b\b\b\b\b\b\b\b\b\b\b\b\b\b\b\b\b\b\b\b\b\b\b\b\b\b\b\b\b\b\b\b\b\b\b\b\b\b\b\b\b\b\b\b\r47/47 [==============================] - 5s 111ms/step - loss: 4.2051e-05 - root_mean_squared_error: 0.0065 - val_loss: 3.4725e-05 - val_root_mean_squared_error: 0.0059\n",
            "Epoch 83/100\n",
            "47/47 [==============================] - 0s 6ms/step - loss: 3.6078e-05 - root_mean_squared_error: 0.0060 - val_loss: 4.3331e-05 - val_root_mean_squared_error: 0.0066\n",
            "Epoch 84/100\n",
            "47/47 [==============================] - 0s 6ms/step - loss: 5.4611e-05 - root_mean_squared_error: 0.0074 - val_loss: 7.6112e-05 - val_root_mean_squared_error: 0.0087\n",
            "Epoch 85/100\n",
            "47/47 [==============================] - 0s 6ms/step - loss: 4.5609e-05 - root_mean_squared_error: 0.0068 - val_loss: 5.4152e-05 - val_root_mean_squared_error: 0.0074\n",
            "Epoch 86/100\n",
            "47/47 [==============================] - 0s 6ms/step - loss: 4.6794e-05 - root_mean_squared_error: 0.0068 - val_loss: 3.5021e-05 - val_root_mean_squared_error: 0.0059\n",
            "Epoch 87/100\n",
            "43/47 [==========================>...] - ETA: 0s - loss: 3.3111e-05 - root_mean_squared_error: 0.0058"
          ]
        },
        {
          "output_type": "stream",
          "name": "stderr",
          "text": [
            "WARNING:absl:Found untraced functions such as lstm_cell_3_layer_call_fn, lstm_cell_3_layer_call_and_return_conditional_losses while saving (showing 2 of 2). These functions will not be directly callable after loading.\n",
            "WARNING:absl:<keras.layers.recurrent.LSTMCell object at 0x7f8caffd3850> has the same name 'LSTMCell' as a built-in Keras object. Consider renaming <class 'keras.layers.recurrent.LSTMCell'> to avoid naming conflicts when loading with `tf.keras.models.load_model`. If renaming is not possible, pass the object in the `custom_objects` parameter of the load function.\n"
          ]
        },
        {
          "output_type": "stream",
          "name": "stdout",
          "text": [
            "\b\b\b\b\b\b\b\b\b\b\b\b\b\b\b\b\b\b\b\b\b\b\b\b\b\b\b\b\b\b\b\b\b\b\b\b\b\b\b\b\b\b\b\b\b\b\b\b\b\b\b\b\b\b\b\b\b\b\b\b\b\b\b\b\b\b\b\b\b\b\b\b\b\b\b\b\b\b\b\b\b\b\b\b\b\b\b\b\b\b\b\b\b\b\b\b\b\b\b\b\b\r47/47 [==============================] - 4s 95ms/step - loss: 3.2945e-05 - root_mean_squared_error: 0.0057 - val_loss: 3.4409e-05 - val_root_mean_squared_error: 0.0059\n",
            "Epoch 88/100\n",
            "47/47 [==============================] - 0s 6ms/step - loss: 3.2798e-05 - root_mean_squared_error: 0.0057 - val_loss: 3.5255e-05 - val_root_mean_squared_error: 0.0059\n",
            "Epoch 89/100\n",
            "47/47 [==============================] - 0s 6ms/step - loss: 4.6912e-05 - root_mean_squared_error: 0.0068 - val_loss: 5.9465e-05 - val_root_mean_squared_error: 0.0077\n",
            "Epoch 90/100\n",
            "47/47 [==============================] - 0s 6ms/step - loss: 4.4044e-05 - root_mean_squared_error: 0.0066 - val_loss: 3.4755e-05 - val_root_mean_squared_error: 0.0059\n",
            "Epoch 91/100\n",
            "47/47 [==============================] - 0s 6ms/step - loss: 3.8567e-05 - root_mean_squared_error: 0.0062 - val_loss: 4.2350e-05 - val_root_mean_squared_error: 0.0065\n",
            "Epoch 92/100\n",
            "47/47 [==============================] - 0s 7ms/step - loss: 4.2120e-05 - root_mean_squared_error: 0.0065 - val_loss: 3.5384e-05 - val_root_mean_squared_error: 0.0059\n",
            "Epoch 93/100\n",
            "47/47 [==============================] - 0s 6ms/step - loss: 3.7567e-05 - root_mean_squared_error: 0.0061 - val_loss: 3.4690e-05 - val_root_mean_squared_error: 0.0059\n",
            "Epoch 94/100\n",
            "47/47 [==============================] - 0s 6ms/step - loss: 3.5750e-05 - root_mean_squared_error: 0.0060 - val_loss: 3.4689e-05 - val_root_mean_squared_error: 0.0059\n",
            "Epoch 95/100\n",
            "40/47 [========================>.....] - ETA: 0s - loss: 3.3140e-05 - root_mean_squared_error: 0.0058"
          ]
        },
        {
          "output_type": "stream",
          "name": "stderr",
          "text": [
            "WARNING:absl:Found untraced functions such as lstm_cell_3_layer_call_fn, lstm_cell_3_layer_call_and_return_conditional_losses while saving (showing 2 of 2). These functions will not be directly callable after loading.\n",
            "WARNING:absl:<keras.layers.recurrent.LSTMCell object at 0x7f8caffd3850> has the same name 'LSTMCell' as a built-in Keras object. Consider renaming <class 'keras.layers.recurrent.LSTMCell'> to avoid naming conflicts when loading with `tf.keras.models.load_model`. If renaming is not possible, pass the object in the `custom_objects` parameter of the load function.\n"
          ]
        },
        {
          "output_type": "stream",
          "name": "stdout",
          "text": [
            "\b\b\b\b\b\b\b\b\b\b\b\b\b\b\b\b\b\b\b\b\b\b\b\b\b\b\b\b\b\b\b\b\b\b\b\b\b\b\b\b\b\b\b\b\b\b\b\b\b\b\b\b\b\b\b\b\b\b\b\b\b\b\b\b\b\b\b\b\b\b\b\b\b\b\b\b\b\b\b\b\b\b\b\b\b\b\b\b\b\b\b\b\b\b\b\b\b\b\b\b\b\r47/47 [==============================] - 5s 106ms/step - loss: 3.3270e-05 - root_mean_squared_error: 0.0058 - val_loss: 3.4289e-05 - val_root_mean_squared_error: 0.0059\n",
            "Epoch 96/100\n",
            "47/47 [==============================] - 0s 6ms/step - loss: 3.9210e-05 - root_mean_squared_error: 0.0063 - val_loss: 3.9729e-05 - val_root_mean_squared_error: 0.0063\n",
            "Epoch 97/100\n",
            "47/47 [==============================] - 0s 6ms/step - loss: 4.6621e-05 - root_mean_squared_error: 0.0068 - val_loss: 5.3884e-05 - val_root_mean_squared_error: 0.0073\n",
            "Epoch 98/100\n",
            "47/47 [==============================] - 0s 6ms/step - loss: 3.9999e-05 - root_mean_squared_error: 0.0063 - val_loss: 4.6107e-05 - val_root_mean_squared_error: 0.0068\n",
            "Epoch 99/100\n",
            "47/47 [==============================] - 0s 6ms/step - loss: 4.6007e-05 - root_mean_squared_error: 0.0068 - val_loss: 5.0999e-05 - val_root_mean_squared_error: 0.0071\n",
            "Epoch 100/100\n",
            "47/47 [==============================] - 0s 6ms/step - loss: 4.8422e-05 - root_mean_squared_error: 0.0070 - val_loss: 3.6071e-05 - val_root_mean_squared_error: 0.0060\n"
          ]
        },
        {
          "output_type": "execute_result",
          "data": {
            "text/plain": [
              "<keras.callbacks.History at 0x7f8cb261c490>"
            ]
          },
          "metadata": {},
          "execution_count": 47
        }
      ]
    },
    {
      "cell_type": "code",
      "source": [
        "from tensorflow.keras.models import load_model\n",
        "model1 = load_model('model1/')"
      ],
      "metadata": {
        "id": "ctV9yKo_spJX"
      },
      "execution_count": 48,
      "outputs": []
    },
    {
      "cell_type": "code",
      "source": [
        "train_predictions = model1.predict(X_train1).flatten()\n",
        "train_results = pd.DataFrame(data={'Train Predictions':train_predictions, 'Actuals':y_train1})\n",
        "train_results"
      ],
      "metadata": {
        "colab": {
          "base_uri": "https://localhost:8080/",
          "height": 424
        },
        "id": "cK9daMqatd1m",
        "outputId": "62c6bfce-433a-447a-a1f2-6c9b629e178b"
      },
      "execution_count": 49,
      "outputs": [
        {
          "output_type": "execute_result",
          "data": {
            "text/plain": [
              "      Train Predictions  Actuals\n",
              "0              0.800925     0.80\n",
              "1              0.799284     0.81\n",
              "2              0.806874     0.81\n",
              "3              0.810191     0.81\n",
              "4              0.809483     0.81\n",
              "...                 ...      ...\n",
              "1495           0.809015     0.80\n",
              "1496           0.795120     0.79\n",
              "1497           0.782504     0.78\n",
              "1498           0.772876     0.78\n",
              "1499           0.773204     0.77\n",
              "\n",
              "[1500 rows x 2 columns]"
            ],
            "text/html": [
              "\n",
              "  <div id=\"df-c7992ea4-b2f1-4ca8-9429-8e55c25ee163\">\n",
              "    <div class=\"colab-df-container\">\n",
              "      <div>\n",
              "<style scoped>\n",
              "    .dataframe tbody tr th:only-of-type {\n",
              "        vertical-align: middle;\n",
              "    }\n",
              "\n",
              "    .dataframe tbody tr th {\n",
              "        vertical-align: top;\n",
              "    }\n",
              "\n",
              "    .dataframe thead th {\n",
              "        text-align: right;\n",
              "    }\n",
              "</style>\n",
              "<table border=\"1\" class=\"dataframe\">\n",
              "  <thead>\n",
              "    <tr style=\"text-align: right;\">\n",
              "      <th></th>\n",
              "      <th>Train Predictions</th>\n",
              "      <th>Actuals</th>\n",
              "    </tr>\n",
              "  </thead>\n",
              "  <tbody>\n",
              "    <tr>\n",
              "      <th>0</th>\n",
              "      <td>0.800925</td>\n",
              "      <td>0.80</td>\n",
              "    </tr>\n",
              "    <tr>\n",
              "      <th>1</th>\n",
              "      <td>0.799284</td>\n",
              "      <td>0.81</td>\n",
              "    </tr>\n",
              "    <tr>\n",
              "      <th>2</th>\n",
              "      <td>0.806874</td>\n",
              "      <td>0.81</td>\n",
              "    </tr>\n",
              "    <tr>\n",
              "      <th>3</th>\n",
              "      <td>0.810191</td>\n",
              "      <td>0.81</td>\n",
              "    </tr>\n",
              "    <tr>\n",
              "      <th>4</th>\n",
              "      <td>0.809483</td>\n",
              "      <td>0.81</td>\n",
              "    </tr>\n",
              "    <tr>\n",
              "      <th>...</th>\n",
              "      <td>...</td>\n",
              "      <td>...</td>\n",
              "    </tr>\n",
              "    <tr>\n",
              "      <th>1495</th>\n",
              "      <td>0.809015</td>\n",
              "      <td>0.80</td>\n",
              "    </tr>\n",
              "    <tr>\n",
              "      <th>1496</th>\n",
              "      <td>0.795120</td>\n",
              "      <td>0.79</td>\n",
              "    </tr>\n",
              "    <tr>\n",
              "      <th>1497</th>\n",
              "      <td>0.782504</td>\n",
              "      <td>0.78</td>\n",
              "    </tr>\n",
              "    <tr>\n",
              "      <th>1498</th>\n",
              "      <td>0.772876</td>\n",
              "      <td>0.78</td>\n",
              "    </tr>\n",
              "    <tr>\n",
              "      <th>1499</th>\n",
              "      <td>0.773204</td>\n",
              "      <td>0.77</td>\n",
              "    </tr>\n",
              "  </tbody>\n",
              "</table>\n",
              "<p>1500 rows × 2 columns</p>\n",
              "</div>\n",
              "      <button class=\"colab-df-convert\" onclick=\"convertToInteractive('df-c7992ea4-b2f1-4ca8-9429-8e55c25ee163')\"\n",
              "              title=\"Convert this dataframe to an interactive table.\"\n",
              "              style=\"display:none;\">\n",
              "        \n",
              "  <svg xmlns=\"http://www.w3.org/2000/svg\" height=\"24px\"viewBox=\"0 0 24 24\"\n",
              "       width=\"24px\">\n",
              "    <path d=\"M0 0h24v24H0V0z\" fill=\"none\"/>\n",
              "    <path d=\"M18.56 5.44l.94 2.06.94-2.06 2.06-.94-2.06-.94-.94-2.06-.94 2.06-2.06.94zm-11 1L8.5 8.5l.94-2.06 2.06-.94-2.06-.94L8.5 2.5l-.94 2.06-2.06.94zm10 10l.94 2.06.94-2.06 2.06-.94-2.06-.94-.94-2.06-.94 2.06-2.06.94z\"/><path d=\"M17.41 7.96l-1.37-1.37c-.4-.4-.92-.59-1.43-.59-.52 0-1.04.2-1.43.59L10.3 9.45l-7.72 7.72c-.78.78-.78 2.05 0 2.83L4 21.41c.39.39.9.59 1.41.59.51 0 1.02-.2 1.41-.59l7.78-7.78 2.81-2.81c.8-.78.8-2.07 0-2.86zM5.41 20L4 18.59l7.72-7.72 1.47 1.35L5.41 20z\"/>\n",
              "  </svg>\n",
              "      </button>\n",
              "      \n",
              "  <style>\n",
              "    .colab-df-container {\n",
              "      display:flex;\n",
              "      flex-wrap:wrap;\n",
              "      gap: 12px;\n",
              "    }\n",
              "\n",
              "    .colab-df-convert {\n",
              "      background-color: #E8F0FE;\n",
              "      border: none;\n",
              "      border-radius: 50%;\n",
              "      cursor: pointer;\n",
              "      display: none;\n",
              "      fill: #1967D2;\n",
              "      height: 32px;\n",
              "      padding: 0 0 0 0;\n",
              "      width: 32px;\n",
              "    }\n",
              "\n",
              "    .colab-df-convert:hover {\n",
              "      background-color: #E2EBFA;\n",
              "      box-shadow: 0px 1px 2px rgba(60, 64, 67, 0.3), 0px 1px 3px 1px rgba(60, 64, 67, 0.15);\n",
              "      fill: #174EA6;\n",
              "    }\n",
              "\n",
              "    [theme=dark] .colab-df-convert {\n",
              "      background-color: #3B4455;\n",
              "      fill: #D2E3FC;\n",
              "    }\n",
              "\n",
              "    [theme=dark] .colab-df-convert:hover {\n",
              "      background-color: #434B5C;\n",
              "      box-shadow: 0px 1px 3px 1px rgba(0, 0, 0, 0.15);\n",
              "      filter: drop-shadow(0px 1px 2px rgba(0, 0, 0, 0.3));\n",
              "      fill: #FFFFFF;\n",
              "    }\n",
              "  </style>\n",
              "\n",
              "      <script>\n",
              "        const buttonEl =\n",
              "          document.querySelector('#df-c7992ea4-b2f1-4ca8-9429-8e55c25ee163 button.colab-df-convert');\n",
              "        buttonEl.style.display =\n",
              "          google.colab.kernel.accessAllowed ? 'block' : 'none';\n",
              "\n",
              "        async function convertToInteractive(key) {\n",
              "          const element = document.querySelector('#df-c7992ea4-b2f1-4ca8-9429-8e55c25ee163');\n",
              "          const dataTable =\n",
              "            await google.colab.kernel.invokeFunction('convertToInteractive',\n",
              "                                                     [key], {});\n",
              "          if (!dataTable) return;\n",
              "\n",
              "          const docLinkHtml = 'Like what you see? Visit the ' +\n",
              "            '<a target=\"_blank\" href=https://colab.research.google.com/notebooks/data_table.ipynb>data table notebook</a>'\n",
              "            + ' to learn more about interactive tables.';\n",
              "          element.innerHTML = '';\n",
              "          dataTable['output_type'] = 'display_data';\n",
              "          await google.colab.output.renderOutput(dataTable, element);\n",
              "          const docLink = document.createElement('div');\n",
              "          docLink.innerHTML = docLinkHtml;\n",
              "          element.appendChild(docLink);\n",
              "        }\n",
              "      </script>\n",
              "    </div>\n",
              "  </div>\n",
              "  "
            ]
          },
          "metadata": {},
          "execution_count": 49
        }
      ]
    },
    {
      "cell_type": "code",
      "source": [
        "import matplotlib.pyplot as plt\n",
        "plt.plot(train_results['Train Predictions'][1000:1400], label='Predictions')\n",
        "plt.plot(train_results['Actuals'][1000:1400], label='Actuals')\n",
        "plt.legend()"
      ],
      "metadata": {
        "colab": {
          "base_uri": "https://localhost:8080/",
          "height": 282
        },
        "id": "-kF7wj5Qth8k",
        "outputId": "817ef36a-0639-48fa-bedc-9ee02a9c4b06"
      },
      "execution_count": 50,
      "outputs": [
        {
          "output_type": "execute_result",
          "data": {
            "text/plain": [
              "<matplotlib.legend.Legend at 0x7f8cafc710d0>"
            ]
          },
          "metadata": {},
          "execution_count": 50
        },
        {
          "output_type": "display_data",
          "data": {
            "text/plain": [
              "<Figure size 432x288 with 1 Axes>"
            ],
            "image/png": "[encoded data removed]"
          },
          "metadata": {
            "needs_background": "light"
          }
        }
      ]
    },
    {
      "cell_type": "code",
      "source": [
        "import matplotlib.pyplot as plt\n",
        "plt.plot(train_results['Train Predictions'][1000:1400], label='Predictions')\n",
        "plt.plot(train_results['Actuals'][1000:1400], label='Actuals')\n",
        "plt.legend()"
      ],
      "metadata": {
        "colab": {
          "base_uri": "https://localhost:8080/",
          "height": 282
        },
        "id": "j_7Hk7XNuHZU",
        "outputId": "518c08d5-a631-4246-8a19-c869104e0ecb"
      },
      "execution_count": 51,
      "outputs": [
        {
          "output_type": "execute_result",
          "data": {
            "text/plain": [
              "<matplotlib.legend.Legend at 0x7f8cb2743610>"
            ]
          },
          "metadata": {},
          "execution_count": 51
        },
        {
          "output_type": "display_data",
          "data": {
            "text/plain": [
              "<Figure size 432x288 with 1 Axes>"
            ],
            "image/png": "[encoded data removed]"
          },
          "metadata": {
            "needs_background": "light"
          }
        }
      ]
    },
    {
      "cell_type": "code",
      "source": [
        "import matplotlib.pyplot as plt\n",
        "plt.plot(train_results['Train Predictions'][1:150], label='Predictions')\n",
        "plt.plot(train_results['Actuals'][1:150], label='Actuals')\n",
        "plt.legend()"
      ],
      "metadata": {
        "colab": {
          "base_uri": "https://localhost:8080/",
          "height": 282
        },
        "id": "_9TzmWxvuM91",
        "outputId": "adbd06db-34ad-4d24-8a44-99f7562f41b6"
      },
      "execution_count": 52,
      "outputs": [
        {
          "output_type": "execute_result",
          "data": {
            "text/plain": [
              "<matplotlib.legend.Legend at 0x7f8cb013da10>"
            ]
          },
          "metadata": {},
          "execution_count": 52
        },
        {
          "output_type": "display_data",
          "data": {
            "text/plain": [
              "<Figure size 432x288 with 1 Axes>"
            ],
            "image/png": "[encoded data removed]"
          },
          "metadata": {
            "needs_background": "light"
          }
        }
      ]
    },
    {
      "cell_type": "code",
      "source": [
        "keras.metrics.mean_absolute_error(y_train1, train_predictions).numpy()"
      ],
      "metadata": {
        "colab": {
          "base_uri": "https://localhost:8080/"
        },
        "id": "mNvqroIKuSSV",
        "outputId": "80c70d43-4d2d-4c2d-aace-8cd212c3c3b6"
      },
      "execution_count": 53,
      "outputs": [
        {
          "output_type": "execute_result",
          "data": {
            "text/plain": [
              "0.00444382"
            ]
          },
          "metadata": {},
          "execution_count": 53
        }
      ]
    },
    {
      "cell_type": "code",
      "source": [
        "val_predictions = model1.predict(X_val1).flatten()\n",
        "val_results = pd.DataFrame(data={'Val Predictions':val_predictions, 'Actuals':y_val1})\n",
        "val_results"
      ],
      "metadata": {
        "colab": {
          "base_uri": "https://localhost:8080/",
          "height": 424
        },
        "id": "2UWq5WhvxAys",
        "outputId": "273b95d4-922a-46b1-db95-b67004be0bc5"
      },
      "execution_count": 44,
      "outputs": [
        {
          "output_type": "execute_result",
          "data": {
            "text/plain": [
              "     Val Predictions  Actuals\n",
              "0           0.768744     0.77\n",
              "1           0.767840     0.77\n",
              "2           0.769134     0.77\n",
              "3           0.770717     0.77\n",
              "4           0.772624     0.78\n",
              "..               ...      ...\n",
              "245         0.769274     0.77\n",
              "246         0.773443     0.77\n",
              "247         0.776043     0.78\n",
              "248         0.781263     0.79\n",
              "249         0.790681     0.79\n",
              "\n",
              "[250 rows x 2 columns]"
            ],
            "text/html": [
              "\n",
              "  <div id=\"df-ea132976-e189-47b5-b7f7-c636b7d3b689\">\n",
              "    <div class=\"colab-df-container\">\n",
              "      <div>\n",
              "<style scoped>\n",
              "    .dataframe tbody tr th:only-of-type {\n",
              "        vertical-align: middle;\n",
              "    }\n",
              "\n",
              "    .dataframe tbody tr th {\n",
              "        vertical-align: top;\n",
              "    }\n",
              "\n",
              "    .dataframe thead th {\n",
              "        text-align: right;\n",
              "    }\n",
              "</style>\n",
              "<table border=\"1\" class=\"dataframe\">\n",
              "  <thead>\n",
              "    <tr style=\"text-align: right;\">\n",
              "      <th></th>\n",
              "      <th>Val Predictions</th>\n",
              "      <th>Actuals</th>\n",
              "    </tr>\n",
              "  </thead>\n",
              "  <tbody>\n",
              "    <tr>\n",
              "      <th>0</th>\n",
              "      <td>0.768744</td>\n",
              "      <td>0.77</td>\n",
              "    </tr>\n",
              "    <tr>\n",
              "      <th>1</th>\n",
              "      <td>0.767840</td>\n",
              "      <td>0.77</td>\n",
              "    </tr>\n",
              "    <tr>\n",
              "      <th>2</th>\n",
              "      <td>0.769134</td>\n",
              "      <td>0.77</td>\n",
              "    </tr>\n",
              "    <tr>\n",
              "      <th>3</th>\n",
              "      <td>0.770717</td>\n",
              "      <td>0.77</td>\n",
              "    </tr>\n",
              "    <tr>\n",
              "      <th>4</th>\n",
              "      <td>0.772624</td>\n",
              "      <td>0.78</td>\n",
              "    </tr>\n",
              "    <tr>\n",
              "      <th>...</th>\n",
              "      <td>...</td>\n",
              "      <td>...</td>\n",
              "    </tr>\n",
              "    <tr>\n",
              "      <th>245</th>\n",
              "      <td>0.769274</td>\n",
              "      <td>0.77</td>\n",
              "    </tr>\n",
              "    <tr>\n",
              "      <th>246</th>\n",
              "      <td>0.773443</td>\n",
              "      <td>0.77</td>\n",
              "    </tr>\n",
              "    <tr>\n",
              "      <th>247</th>\n",
              "      <td>0.776043</td>\n",
              "      <td>0.78</td>\n",
              "    </tr>\n",
              "    <tr>\n",
              "      <th>248</th>\n",
              "      <td>0.781263</td>\n",
              "      <td>0.79</td>\n",
              "    </tr>\n",
              "    <tr>\n",
              "      <th>249</th>\n",
              "      <td>0.790681</td>\n",
              "      <td>0.79</td>\n",
              "    </tr>\n",
              "  </tbody>\n",
              "</table>\n",
              "<p>250 rows × 2 columns</p>\n",
              "</div>\n",
              "      <button class=\"colab-df-convert\" onclick=\"convertToInteractive('df-ea132976-e189-47b5-b7f7-c636b7d3b689')\"\n",
              "              title=\"Convert this dataframe to an interactive table.\"\n",
              "              style=\"display:none;\">\n",
              "        \n",
              "  <svg xmlns=\"http://www.w3.org/2000/svg\" height=\"24px\"viewBox=\"0 0 24 24\"\n",
              "       width=\"24px\">\n",
              "    <path d=\"M0 0h24v24H0V0z\" fill=\"none\"/>\n",
              "    <path d=\"M18.56 5.44l.94 2.06.94-2.06 2.06-.94-2.06-.94-.94-2.06-.94 2.06-2.06.94zm-11 1L8.5 8.5l.94-2.06 2.06-.94-2.06-.94L8.5 2.5l-.94 2.06-2.06.94zm10 10l.94 2.06.94-2.06 2.06-.94-2.06-.94-.94-2.06-.94 2.06-2.06.94z\"/><path d=\"M17.41 7.96l-1.37-1.37c-.4-.4-.92-.59-1.43-.59-.52 0-1.04.2-1.43.59L10.3 9.45l-7.72 7.72c-.78.78-.78 2.05 0 2.83L4 21.41c.39.39.9.59 1.41.59.51 0 1.02-.2 1.41-.59l7.78-7.78 2.81-2.81c.8-.78.8-2.07 0-2.86zM5.41 20L4 18.59l7.72-7.72 1.47 1.35L5.41 20z\"/>\n",
              "  </svg>\n",
              "      </button>\n",
              "      \n",
              "  <style>\n",
              "    .colab-df-container {\n",
              "      display:flex;\n",
              "      flex-wrap:wrap;\n",
              "      gap: 12px;\n",
              "    }\n",
              "\n",
              "    .colab-df-convert {\n",
              "      background-color: #E8F0FE;\n",
              "      border: none;\n",
              "      border-radius: 50%;\n",
              "      cursor: pointer;\n",
              "      display: none;\n",
              "      fill: #1967D2;\n",
              "      height: 32px;\n",
              "      padding: 0 0 0 0;\n",
              "      width: 32px;\n",
              "    }\n",
              "\n",
              "    .colab-df-convert:hover {\n",
              "      background-color: #E2EBFA;\n",
              "      box-shadow: 0px 1px 2px rgba(60, 64, 67, 0.3), 0px 1px 3px 1px rgba(60, 64, 67, 0.15);\n",
              "      fill: #174EA6;\n",
              "    }\n",
              "\n",
              "    [theme=dark] .colab-df-convert {\n",
              "      background-color: #3B4455;\n",
              "      fill: #D2E3FC;\n",
              "    }\n",
              "\n",
              "    [theme=dark] .colab-df-convert:hover {\n",
              "      background-color: #434B5C;\n",
              "      box-shadow: 0px 1px 3px 1px rgba(0, 0, 0, 0.15);\n",
              "      filter: drop-shadow(0px 1px 2px rgba(0, 0, 0, 0.3));\n",
              "      fill: #FFFFFF;\n",
              "    }\n",
              "  </style>\n",
              "\n",
              "      <script>\n",
              "        const buttonEl =\n",
              "          document.querySelector('#df-ea132976-e189-47b5-b7f7-c636b7d3b689 button.colab-df-convert');\n",
              "        buttonEl.style.display =\n",
              "          google.colab.kernel.accessAllowed ? 'block' : 'none';\n",
              "\n",
              "        async function convertToInteractive(key) {\n",
              "          const element = document.querySelector('#df-ea132976-e189-47b5-b7f7-c636b7d3b689');\n",
              "          const dataTable =\n",
              "            await google.colab.kernel.invokeFunction('convertToInteractive',\n",
              "                                                     [key], {});\n",
              "          if (!dataTable) return;\n",
              "\n",
              "          const docLinkHtml = 'Like what you see? Visit the ' +\n",
              "            '<a target=\"_blank\" href=https://colab.research.google.com/notebooks/data_table.ipynb>data table notebook</a>'\n",
              "            + ' to learn more about interactive tables.';\n",
              "          element.innerHTML = '';\n",
              "          dataTable['output_type'] = 'display_data';\n",
              "          await google.colab.output.renderOutput(dataTable, element);\n",
              "          const docLink = document.createElement('div');\n",
              "          docLink.innerHTML = docLinkHtml;\n",
              "          element.appendChild(docLink);\n",
              "        }\n",
              "      </script>\n",
              "    </div>\n",
              "  </div>\n",
              "  "
            ]
          },
          "metadata": {},
          "execution_count": 44
        }
      ]
    },
    {
      "cell_type": "code",
      "source": [
        "plt.plot(val_results['Val Predictions'][:100])\n",
        "plt.plot(val_results['Actuals'][:100])"
      ],
      "metadata": {
        "colab": {
          "base_uri": "https://localhost:8080/",
          "height": 282
        },
        "id": "GtuX3oh_xQls",
        "outputId": "aad5c13e-83a4-41db-f7ce-0e2a23509f3b"
      },
      "execution_count": 45,
      "outputs": [
        {
          "output_type": "execute_result",
          "data": {
            "text/plain": [
              "[<matplotlib.lines.Line2D at 0x7f8cb263acd0>]"
            ]
          },
          "metadata": {},
          "execution_count": 45
        },
        {
          "output_type": "display_data",
          "data": {
            "text/plain": [
              "<Figure size 432x288 with 1 Axes>"
            ],
            "image/png": "[encoded data removed]"
          },
          "metadata": {
            "needs_background": "light"
          }
        }
      ]
    },
    {
      "cell_type": "code",
      "source": [
        "keras.metrics.mean_absolute_error(y_val1, val_predictions).numpy()"
      ],
      "metadata": {
        "colab": {
          "base_uri": "https://localhost:8080/"
        },
        "id": "RHtrrP7kxpQy",
        "outputId": "5405fb0e-e765-4b6f-d300-bd93a37059ad"
      },
      "execution_count": 46,
      "outputs": [
        {
          "output_type": "execute_result",
          "data": {
            "text/plain": [
              "0.004776591"
            ]
          },
          "metadata": {},
          "execution_count": 46
        }
      ]
    },
    {
      "cell_type": "code",
      "source": [
        "test_predictions = model1.predict(X_test1).flatten()\n",
        "test_results = pd.DataFrame(data={'Test Predictions':test_predictions, 'Actuals':y_test1})\n",
        "test_results"
      ],
      "metadata": {
        "colab": {
          "base_uri": "https://localhost:8080/",
          "height": 424
        },
        "id": "6NvpERkux8Xq",
        "outputId": "d033916a-1581-42e3-e01f-775b6dd5c524"
      },
      "execution_count": 33,
      "outputs": [
        {
          "output_type": "execute_result",
          "data": {
            "text/plain": [
              "     Test Predictions  Actuals\n",
              "0            0.792901     0.79\n",
              "1            0.793783     0.80\n",
              "2            0.796036     0.80\n",
              "3            0.798334     0.80\n",
              "4            0.799798     0.81\n",
              "..                ...      ...\n",
              "240          0.808086     0.81\n",
              "241          0.808875     0.82\n",
              "242          0.811049     0.82\n",
              "243          0.813311     0.82\n",
              "244          0.814742     0.82\n",
              "\n",
              "[245 rows x 2 columns]"
            ],
            "text/html": [
              "\n",
              "  <div id=\"df-2fc77c1d-ab53-4fbc-abe7-79cc678c9b39\">\n",
              "    <div class=\"colab-df-container\">\n",
              "      <div>\n",
              "<style scoped>\n",
              "    .dataframe tbody tr th:only-of-type {\n",
              "        vertical-align: middle;\n",
              "    }\n",
              "\n",
              "    .dataframe tbody tr th {\n",
              "        vertical-align: top;\n",
              "    }\n",
              "\n",
              "    .dataframe thead th {\n",
              "        text-align: right;\n",
              "    }\n",
              "</style>\n",
              "<table border=\"1\" class=\"dataframe\">\n",
              "  <thead>\n",
              "    <tr style=\"text-align: right;\">\n",
              "      <th></th>\n",
              "      <th>Test Predictions</th>\n",
              "      <th>Actuals</th>\n",
              "    </tr>\n",
              "  </thead>\n",
              "  <tbody>\n",
              "    <tr>\n",
              "      <th>0</th>\n",
              "      <td>0.792901</td>\n",
              "      <td>0.79</td>\n",
              "    </tr>\n",
              "    <tr>\n",
              "      <th>1</th>\n",
              "      <td>0.793783</td>\n",
              "      <td>0.80</td>\n",
              "    </tr>\n",
              "    <tr>\n",
              "      <th>2</th>\n",
              "      <td>0.796036</td>\n",
              "      <td>0.80</td>\n",
              "    </tr>\n",
              "    <tr>\n",
              "      <th>3</th>\n",
              "      <td>0.798334</td>\n",
              "      <td>0.80</td>\n",
              "    </tr>\n",
              "    <tr>\n",
              "      <th>4</th>\n",
              "      <td>0.799798</td>\n",
              "      <td>0.81</td>\n",
              "    </tr>\n",
              "    <tr>\n",
              "      <th>...</th>\n",
              "      <td>...</td>\n",
              "      <td>...</td>\n",
              "    </tr>\n",
              "    <tr>\n",
              "      <th>240</th>\n",
              "      <td>0.808086</td>\n",
              "      <td>0.81</td>\n",
              "    </tr>\n",
              "    <tr>\n",
              "      <th>241</th>\n",
              "      <td>0.808875</td>\n",
              "      <td>0.82</td>\n",
              "    </tr>\n",
              "    <tr>\n",
              "      <th>242</th>\n",
              "      <td>0.811049</td>\n",
              "      <td>0.82</td>\n",
              "    </tr>\n",
              "    <tr>\n",
              "      <th>243</th>\n",
              "      <td>0.813311</td>\n",
              "      <td>0.82</td>\n",
              "    </tr>\n",
              "    <tr>\n",
              "      <th>244</th>\n",
              "      <td>0.814742</td>\n",
              "      <td>0.82</td>\n",
              "    </tr>\n",
              "  </tbody>\n",
              "</table>\n",
              "<p>245 rows × 2 columns</p>\n",
              "</div>\n",
              "      <button class=\"colab-df-convert\" onclick=\"convertToInteractive('df-2fc77c1d-ab53-4fbc-abe7-79cc678c9b39')\"\n",
              "              title=\"Convert this dataframe to an interactive table.\"\n",
              "              style=\"display:none;\">\n",
              "        \n",
              "  <svg xmlns=\"http://www.w3.org/2000/svg\" height=\"24px\"viewBox=\"0 0 24 24\"\n",
              "       width=\"24px\">\n",
              "    <path d=\"M0 0h24v24H0V0z\" fill=\"none\"/>\n",
              "    <path d=\"M18.56 5.44l.94 2.06.94-2.06 2.06-.94-2.06-.94-.94-2.06-.94 2.06-2.06.94zm-11 1L8.5 8.5l.94-2.06 2.06-.94-2.06-.94L8.5 2.5l-.94 2.06-2.06.94zm10 10l.94 2.06.94-2.06 2.06-.94-2.06-.94-.94-2.06-.94 2.06-2.06.94z\"/><path d=\"M17.41 7.96l-1.37-1.37c-.4-.4-.92-.59-1.43-.59-.52 0-1.04.2-1.43.59L10.3 9.45l-7.72 7.72c-.78.78-.78 2.05 0 2.83L4 21.41c.39.39.9.59 1.41.59.51 0 1.02-.2 1.41-.59l7.78-7.78 2.81-2.81c.8-.78.8-2.07 0-2.86zM5.41 20L4 18.59l7.72-7.72 1.47 1.35L5.41 20z\"/>\n",
              "  </svg>\n",
              "      </button>\n",
              "      \n",
              "  <style>\n",
              "    .colab-df-container {\n",
              "      display:flex;\n",
              "      flex-wrap:wrap;\n",
              "      gap: 12px;\n",
              "    }\n",
              "\n",
              "    .colab-df-convert {\n",
              "      background-color: #E8F0FE;\n",
              "      border: none;\n",
              "      border-radius: 50%;\n",
              "      cursor: pointer;\n",
              "      display: none;\n",
              "      fill: #1967D2;\n",
              "      height: 32px;\n",
              "      padding: 0 0 0 0;\n",
              "      width: 32px;\n",
              "    }\n",
              "\n",
              "    .colab-df-convert:hover {\n",
              "      background-color: #E2EBFA;\n",
              "      box-shadow: 0px 1px 2px rgba(60, 64, 67, 0.3), 0px 1px 3px 1px rgba(60, 64, 67, 0.15);\n",
              "      fill: #174EA6;\n",
              "    }\n",
              "\n",
              "    [theme=dark] .colab-df-convert {\n",
              "      background-color: #3B4455;\n",
              "      fill: #D2E3FC;\n",
              "    }\n",
              "\n",
              "    [theme=dark] .colab-df-convert:hover {\n",
              "      background-color: #434B5C;\n",
              "      box-shadow: 0px 1px 3px 1px rgba(0, 0, 0, 0.15);\n",
              "      filter: drop-shadow(0px 1px 2px rgba(0, 0, 0, 0.3));\n",
              "      fill: #FFFFFF;\n",
              "    }\n",
              "  </style>\n",
              "\n",
              "      <script>\n",
              "        const buttonEl =\n",
              "          document.querySelector('#df-2fc77c1d-ab53-4fbc-abe7-79cc678c9b39 button.colab-df-convert');\n",
              "        buttonEl.style.display =\n",
              "          google.colab.kernel.accessAllowed ? 'block' : 'none';\n",
              "\n",
              "        async function convertToInteractive(key) {\n",
              "          const element = document.querySelector('#df-2fc77c1d-ab53-4fbc-abe7-79cc678c9b39');\n",
              "          const dataTable =\n",
              "            await google.colab.kernel.invokeFunction('convertToInteractive',\n",
              "                                                     [key], {});\n",
              "          if (!dataTable) return;\n",
              "\n",
              "          const docLinkHtml = 'Like what you see? Visit the ' +\n",
              "            '<a target=\"_blank\" href=https://colab.research.google.com/notebooks/data_table.ipynb>data table notebook</a>'\n",
              "            + ' to learn more about interactive tables.';\n",
              "          element.innerHTML = '';\n",
              "          dataTable['output_type'] = 'display_data';\n",
              "          await google.colab.output.renderOutput(dataTable, element);\n",
              "          const docLink = document.createElement('div');\n",
              "          docLink.innerHTML = docLinkHtml;\n",
              "          element.appendChild(docLink);\n",
              "        }\n",
              "      </script>\n",
              "    </div>\n",
              "  </div>\n",
              "  "
            ]
          },
          "metadata": {},
          "execution_count": 33
        }
      ]
    },
    {
      "cell_type": "code",
      "source": [
        "plt.plot(test_results['Test Predictions'][:100])\n",
        "plt.plot(test_results['Actuals'][:100])"
      ],
      "metadata": {
        "colab": {
          "base_uri": "https://localhost:8080/",
          "height": 282
        },
        "id": "TSVAyzFDyFYC",
        "outputId": "317c0a3a-9c12-4d19-f13f-a9c0dbd71d00"
      },
      "execution_count": 34,
      "outputs": [
        {
          "output_type": "execute_result",
          "data": {
            "text/plain": [
              "[<matplotlib.lines.Line2D at 0x7f8cb3682310>]"
            ]
          },
          "metadata": {},
          "execution_count": 34
        },
        {
          "output_type": "display_data",
          "data": {
            "text/plain": [
              "<Figure size 432x288 with 1 Axes>"
            ],
            "image/png": "[encoded data removed]"
          },
          "metadata": {
            "needs_background": "light"
          }
        }
      ]
    },
    {
      "cell_type": "code",
      "source": [
        "keras.metrics.mean_absolute_error(y_test1, test_predictions).numpy()"
      ],
      "metadata": {
        "colab": {
          "base_uri": "https://localhost:8080/"
        },
        "id": "vFiuXgo6ymGQ",
        "outputId": "8947408f-7a24-4519-993b-49f9b641c567"
      },
      "execution_count": 35,
      "outputs": [
        {
          "output_type": "execute_result",
          "data": {
            "text/plain": [
              "0.005367934"
            ]
          },
          "metadata": {},
          "execution_count": 35
        }
      ]
    }
  ]
}